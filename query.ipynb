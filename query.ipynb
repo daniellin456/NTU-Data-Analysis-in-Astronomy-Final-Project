{
 "cells": [
  {
   "cell_type": "markdown",
   "id": "052dc2a2-1bc5-479e-aaa5-17ec5a7ee310",
   "metadata": {},
   "source": [
    "### Query.ipynb\n",
    "#### Download DRPall / DAPall Catalog\n",
    "\n",
    "- [DRPall](https://data.sdss.org/sas/dr16/manga/spectro/redux/v2_4_3/drpall-v2_4_3.fits)\n",
    "- [DAPall](https://data.sdss.org/sas/dr16/manga/spectro/analysis/v2_4_3/2.2.1/dapall-v2_4_3-2.2.1.fits)\n",
    "\n",
    "- Move `DRPall` to `~/sas/dr16/manga/spectro/redux/v2_4_3/drpall-v2_4_3.fits`\n",
    "- Move `DAPall` to `~/sas/dr16/manga/spectro/analysis/v2_4_3/2.2.1/dapall-v2_4_3-2.2.1.fits`\n",
    "\n",
    "#### Query\n",
    "This query.ipynb is intended to query the sample from SDSS DR16 and output the query result to CSV file.\n",
    "\n",
    "Criteria:\n",
    "- stellar mass < 5e9\n",
    "- stellar absoluter magnitude > -19\n",
    "\n",
    "Query Result:\n",
    "There are 1447 galaxies meet out criteria. However, there are 221 galaxies do not have the GOOD data quality. Therefore, we are going to download analyze the remaining 1226 galaxies."
   ]
  },
  {
   "cell_type": "code",
   "execution_count": 1,
   "id": "temporal-grenada",
   "metadata": {},
   "outputs": [
    {
     "name": "stderr",
     "output_type": "stream",
     "text": [
      "\u001b[0;34m[INFO]: \u001b[0mNo release version set. Setting default to DR15\n"
     ]
    }
   ],
   "source": [
    "from marvin import config\n",
    "config.setDR('DR16')\n",
    "from marvin.tools.query import Query"
   ]
  },
  {
   "cell_type": "code",
   "execution_count": 2,
   "id": "6edf415d-c74f-4f0d-97b5-1125bb7a20b8",
   "metadata": {},
   "outputs": [
    {
     "name": "stderr",
     "output_type": "stream",
     "text": [
      "\u001b[1;33m[WARNING]: \u001b[0m\u001b[0;39mNo local database found. Cannot perform queries.\u001b[0m \u001b[0;36m(MarvinUserWarning)\u001b[0m\n"
     ]
    },
    {
     "name": "stdout",
     "output_type": "stream",
     "text": [
      "There are 1447 galaxies meet our criteria\n",
      "There are 1226 galaxies meet our criteria with GOOD quality\n",
      "Returned all 1226 results\n"
     ]
    }
   ],
   "source": [
    "filter = 'nsa.elpetro_absmag_r > -19 and nsa.elpetro_logmass < 9.69897'\n",
    "query = Query(search_filter=filter)\n",
    "result = query.run()\n",
    "print('There are %d galaxies meet our criteria' %(result.totalcount))\n",
    "\n",
    "filter = 'nsa.elpetro_absmag_r > -19 and nsa.elpetro_logmass < 9.69897 and cube.quality == 0'\n",
    "query = Query(search_filter=filter)\n",
    "result = query.run()\n",
    "print('There are %d galaxies meet our criteria with GOOD quality' %(result.totalcount))\n",
    "\n",
    "result.getAll()\n",
    "#result.toCSV('marvin_GOOD_table.csv', overwrite = True)"
   ]
  }
 ],
 "metadata": {
  "kernelspec": {
   "display_name": "Python 3 (ipykernel)",
   "language": "python",
   "name": "python3"
  },
  "language_info": {
   "codemirror_mode": {
    "name": "ipython",
    "version": 3
   },
   "file_extension": ".py",
   "mimetype": "text/x-python",
   "name": "python",
   "nbconvert_exporter": "python",
   "pygments_lexer": "ipython3",
   "version": "3.9.6"
  }
 },
 "nbformat": 4,
 "nbformat_minor": 5
}
