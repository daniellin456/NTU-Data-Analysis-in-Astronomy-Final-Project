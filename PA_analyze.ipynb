{
 "cells": [
  {
   "cell_type": "markdown",
   "id": "397d2113-846b-493e-9b2f-5285c21ee94b",
   "metadata": {},
   "source": [
    "#### PA analyze\n",
    "\n",
    "- [Postion Angle Source Code](https://www-astro.physics.ox.ac.uk/~mxc/software/#pafit)"
   ]
  },
  {
   "cell_type": "code",
   "execution_count": 1,
   "id": "60167349-d37e-4bb0-a7d7-7d0e6a316d55",
   "metadata": {},
   "outputs": [
    {
     "name": "stderr",
     "output_type": "stream",
     "text": [
      "\u001b[0;34m[INFO]: \u001b[0mNo release version set. Setting default to DR15\n"
     ]
    }
   ],
   "source": [
    "import numpy as np\n",
    "import matplotlib.pyplot as plt\n",
    "import pandas as pd\n",
    "from marvin import config\n",
    "config.setDR('DR16')\n",
    "\n",
    "from marvin.tools.maps import Maps\n",
    "from fit_kinematic_pa import *\n",
    "\n",
    "import sys\n",
    "np.set_printoptions(threshold=sys.maxsize)"
   ]
  },
  {
   "cell_type": "code",
   "execution_count": 26,
   "id": "c3cd2881-32bd-4787-bc00-f27f38a84e13",
   "metadata": {},
   "outputs": [
    {
     "name": "stderr",
     "output_type": "stream",
     "text": [
      "\u001b[1;33m[WARNING]: \u001b[0m\u001b[0;39mTrying to register the cmap 'sauron' which already exists.\u001b[0m \u001b[0;36m(UserWarning)\u001b[0m\n",
      "\u001b[1;33m[WARNING]: \u001b[0m\u001b[0;39mTrying to register the cmap 'sauron_r' which already exists.\u001b[0m \u001b[0;36m(UserWarning)\u001b[0m\n",
      "\u001b[1;33m[WARNING]: \u001b[0m\u001b[0;39mTrying to register the cmap 'sauron' which already exists.\u001b[0m \u001b[0;36m(UserWarning)\u001b[0m\n",
      "\u001b[1;33m[WARNING]: \u001b[0m\u001b[0;39mTrying to register the cmap 'sauron_r' which already exists.\u001b[0m \u001b[0;36m(UserWarning)\u001b[0m\n"
     ]
    },
    {
     "name": "stdout",
     "output_type": "stream",
     "text": [
      "  Kin PA:  52.0  +/-   0.5  (3*sigma error)\n",
      "Velocity Offset: 0.00\n"
     ]
    },
    {
     "name": "stderr",
     "output_type": "stream",
     "text": [
      "\u001b[1;33m[WARNING]: \u001b[0m\u001b[0;39mTrying to register the cmap 'sauron' which already exists.\u001b[0m \u001b[0;36m(UserWarning)\u001b[0m\n",
      "\u001b[1;33m[WARNING]: \u001b[0m\u001b[0;39mTrying to register the cmap 'sauron_r' which already exists.\u001b[0m \u001b[0;36m(UserWarning)\u001b[0m\n",
      "\u001b[1;33m[WARNING]: \u001b[0m\u001b[0;39mTrying to register the cmap 'sauron' which already exists.\u001b[0m \u001b[0;36m(UserWarning)\u001b[0m\n",
      "\u001b[1;33m[WARNING]: \u001b[0m\u001b[0;39mTrying to register the cmap 'sauron_r' which already exists.\u001b[0m \u001b[0;36m(UserWarning)\u001b[0m\n"
     ]
    },
    {
     "name": "stdout",
     "output_type": "stream",
     "text": [
      "  Kin PA:  53.5  +/-   4.5  (3*sigma error)\n",
      "Velocity Offset: 0.00\n"
     ]
    },
    {
     "name": "stderr",
     "output_type": "stream",
     "text": [
      "\u001b[1;33m[WARNING]: \u001b[0m\u001b[0;39mTrying to register the cmap 'sauron' which already exists.\u001b[0m \u001b[0;36m(UserWarning)\u001b[0m\n",
      "\u001b[1;33m[WARNING]: \u001b[0m\u001b[0;39mTrying to register the cmap 'sauron_r' which already exists.\u001b[0m \u001b[0;36m(UserWarning)\u001b[0m\n"
     ]
    },
    {
     "name": "stdout",
     "output_type": "stream",
     "text": [
      "  Kin PA:   1.5  +/-   3.0  (3*sigma error)\n",
      "Velocity Offset: 0.00\n"
     ]
    },
    {
     "name": "stderr",
     "output_type": "stream",
     "text": [
      "\u001b[1;33m[WARNING]: \u001b[0m\u001b[0;39mTrying to register the cmap 'sauron' which already exists.\u001b[0m \u001b[0;36m(UserWarning)\u001b[0m\n",
      "\u001b[1;33m[WARNING]: \u001b[0m\u001b[0;39mTrying to register the cmap 'sauron_r' which already exists.\u001b[0m \u001b[0;36m(UserWarning)\u001b[0m\n",
      "\u001b[1;33m[WARNING]: \u001b[0m\u001b[0;39mTrying to register the cmap 'sauron' which already exists.\u001b[0m \u001b[0;36m(UserWarning)\u001b[0m\n",
      "\u001b[1;33m[WARNING]: \u001b[0m\u001b[0;39mTrying to register the cmap 'sauron_r' which already exists.\u001b[0m \u001b[0;36m(UserWarning)\u001b[0m\n",
      "\u001b[1;33m[WARNING]: \u001b[0m\u001b[0;39mTrying to register the cmap 'sauron' which already exists.\u001b[0m \u001b[0;36m(UserWarning)\u001b[0m\n",
      "\u001b[1;33m[WARNING]: \u001b[0m\u001b[0;39mTrying to register the cmap 'sauron_r' which already exists.\u001b[0m \u001b[0;36m(UserWarning)\u001b[0m\n"
     ]
    },
    {
     "name": "stdout",
     "output_type": "stream",
     "text": [
      "  Kin PA:  66.5  +/-  38.2  (3*sigma error)\n",
      "Velocity Offset: 0.00\n"
     ]
    },
    {
     "name": "stderr",
     "output_type": "stream",
     "text": [
      "\u001b[1;33m[WARNING]: \u001b[0m\u001b[0;39mTrying to register the cmap 'sauron' which already exists.\u001b[0m \u001b[0;36m(UserWarning)\u001b[0m\n",
      "\u001b[1;33m[WARNING]: \u001b[0m\u001b[0;39mTrying to register the cmap 'sauron_r' which already exists.\u001b[0m \u001b[0;36m(UserWarning)\u001b[0m\n",
      "\u001b[1;33m[WARNING]: \u001b[0m\u001b[0;39mTrying to register the cmap 'sauron' which already exists.\u001b[0m \u001b[0;36m(UserWarning)\u001b[0m\n",
      "\u001b[1;33m[WARNING]: \u001b[0m\u001b[0;39mTrying to register the cmap 'sauron_r' which already exists.\u001b[0m \u001b[0;36m(UserWarning)\u001b[0m\n"
     ]
    },
    {
     "name": "stdout",
     "output_type": "stream",
     "text": [
      "  Kin PA:  93.0  +/-   0.5  (3*sigma error)\n",
      "Velocity Offset: 0.00\n"
     ]
    },
    {
     "name": "stderr",
     "output_type": "stream",
     "text": [
      "\u001b[1;33m[WARNING]: \u001b[0m\u001b[0;39mTrying to register the cmap 'sauron' which already exists.\u001b[0m \u001b[0;36m(UserWarning)\u001b[0m\n",
      "\u001b[1;33m[WARNING]: \u001b[0m\u001b[0;39mTrying to register the cmap 'sauron_r' which already exists.\u001b[0m \u001b[0;36m(UserWarning)\u001b[0m\n",
      "\u001b[1;33m[WARNING]: \u001b[0m\u001b[0;39mTrying to register the cmap 'sauron' which already exists.\u001b[0m \u001b[0;36m(UserWarning)\u001b[0m\n",
      "\u001b[1;33m[WARNING]: \u001b[0m\u001b[0;39mTrying to register the cmap 'sauron_r' which already exists.\u001b[0m \u001b[0;36m(UserWarning)\u001b[0m\n"
     ]
    },
    {
     "name": "stdout",
     "output_type": "stream",
     "text": [
      "  Kin PA: 152.0  +/-  18.8  (3*sigma error)\n",
      "Velocity Offset: 0.00\n"
     ]
    },
    {
     "name": "stderr",
     "output_type": "stream",
     "text": [
      "\u001b[1;33m[WARNING]: \u001b[0m\u001b[0;39mTrying to register the cmap 'sauron' which already exists.\u001b[0m \u001b[0;36m(UserWarning)\u001b[0m\n",
      "\u001b[1;33m[WARNING]: \u001b[0m\u001b[0;39mTrying to register the cmap 'sauron_r' which already exists.\u001b[0m \u001b[0;36m(UserWarning)\u001b[0m\n",
      "\u001b[1;33m[WARNING]: \u001b[0m\u001b[0;39mTrying to register the cmap 'sauron' which already exists.\u001b[0m \u001b[0;36m(UserWarning)\u001b[0m\n",
      "\u001b[1;33m[WARNING]: \u001b[0m\u001b[0;39mTrying to register the cmap 'sauron_r' which already exists.\u001b[0m \u001b[0;36m(UserWarning)\u001b[0m\n"
     ]
    },
    {
     "name": "stdout",
     "output_type": "stream",
     "text": [
      "  Kin PA:  73.0  +/-   0.5  (3*sigma error)\n",
      "Velocity Offset: 0.00\n"
     ]
    },
    {
     "name": "stderr",
     "output_type": "stream",
     "text": [
      "\u001b[1;33m[WARNING]: \u001b[0m\u001b[0;39mTrying to register the cmap 'sauron' which already exists.\u001b[0m \u001b[0;36m(UserWarning)\u001b[0m\n",
      "\u001b[1;33m[WARNING]: \u001b[0m\u001b[0;39mTrying to register the cmap 'sauron_r' which already exists.\u001b[0m \u001b[0;36m(UserWarning)\u001b[0m\n",
      "\u001b[1;33m[WARNING]: \u001b[0m\u001b[0;39mTrying to register the cmap 'sauron' which already exists.\u001b[0m \u001b[0;36m(UserWarning)\u001b[0m\n",
      "\u001b[1;33m[WARNING]: \u001b[0m\u001b[0;39mTrying to register the cmap 'sauron_r' which already exists.\u001b[0m \u001b[0;36m(UserWarning)\u001b[0m\n"
     ]
    },
    {
     "name": "stdout",
     "output_type": "stream",
     "text": [
      "  Kin PA:   5.0  +/-  14.8  (3*sigma error)\n",
      "Velocity Offset: 0.00\n"
     ]
    },
    {
     "name": "stderr",
     "output_type": "stream",
     "text": [
      "\u001b[1;33m[WARNING]: \u001b[0m\u001b[0;39mTrying to register the cmap 'sauron' which already exists.\u001b[0m \u001b[0;36m(UserWarning)\u001b[0m\n",
      "\u001b[1;33m[WARNING]: \u001b[0m\u001b[0;39mTrying to register the cmap 'sauron_r' which already exists.\u001b[0m \u001b[0;36m(UserWarning)\u001b[0m\n",
      "\u001b[1;33m[WARNING]: \u001b[0m\u001b[0;39mTrying to register the cmap 'sauron' which already exists.\u001b[0m \u001b[0;36m(UserWarning)\u001b[0m\n",
      "\u001b[1;33m[WARNING]: \u001b[0m\u001b[0;39mTrying to register the cmap 'sauron_r' which already exists.\u001b[0m \u001b[0;36m(UserWarning)\u001b[0m\n"
     ]
    },
    {
     "name": "stdout",
     "output_type": "stream",
     "text": [
      "  Kin PA:  11.5  +/-   0.5  (3*sigma error)\n",
      "Velocity Offset: 0.00\n"
     ]
    },
    {
     "name": "stderr",
     "output_type": "stream",
     "text": [
      "\u001b[1;33m[WARNING]: \u001b[0m\u001b[0;39mTrying to register the cmap 'sauron' which already exists.\u001b[0m \u001b[0;36m(UserWarning)\u001b[0m\n",
      "\u001b[1;33m[WARNING]: \u001b[0m\u001b[0;39mTrying to register the cmap 'sauron_r' which already exists.\u001b[0m \u001b[0;36m(UserWarning)\u001b[0m\n",
      "\u001b[1;33m[WARNING]: \u001b[0m\u001b[0;39mTrying to register the cmap 'sauron' which already exists.\u001b[0m \u001b[0;36m(UserWarning)\u001b[0m\n",
      "\u001b[1;33m[WARNING]: \u001b[0m\u001b[0;39mTrying to register the cmap 'sauron_r' which already exists.\u001b[0m \u001b[0;36m(UserWarning)\u001b[0m\n"
     ]
    },
    {
     "name": "stdout",
     "output_type": "stream",
     "text": [
      "  Kin PA: 178.5  +/-  37.5  (3*sigma error)\n",
      "Velocity Offset: 0.00\n"
     ]
    },
    {
     "name": "stderr",
     "output_type": "stream",
     "text": [
      "\u001b[1;33m[WARNING]: \u001b[0m\u001b[0;39mTrying to register the cmap 'sauron' which already exists.\u001b[0m \u001b[0;36m(UserWarning)\u001b[0m\n",
      "\u001b[1;33m[WARNING]: \u001b[0m\u001b[0;39mTrying to register the cmap 'sauron_r' which already exists.\u001b[0m \u001b[0;36m(UserWarning)\u001b[0m\n",
      "\u001b[1;33m[WARNING]: \u001b[0m\u001b[0;39mTrying to register the cmap 'sauron' which already exists.\u001b[0m \u001b[0;36m(UserWarning)\u001b[0m\n",
      "\u001b[1;33m[WARNING]: \u001b[0m\u001b[0;39mTrying to register the cmap 'sauron_r' which already exists.\u001b[0m \u001b[0;36m(UserWarning)\u001b[0m\n"
     ]
    },
    {
     "name": "stdout",
     "output_type": "stream",
     "text": [
      "  Kin PA:  58.0  +/-   0.5  (3*sigma error)\n",
      "Velocity Offset: 0.00\n"
     ]
    },
    {
     "name": "stderr",
     "output_type": "stream",
     "text": [
      "\u001b[1;33m[WARNING]: \u001b[0m\u001b[0;39mTrying to register the cmap 'sauron' which already exists.\u001b[0m \u001b[0;36m(UserWarning)\u001b[0m\n",
      "\u001b[1;33m[WARNING]: \u001b[0m\u001b[0;39mTrying to register the cmap 'sauron_r' which already exists.\u001b[0m \u001b[0;36m(UserWarning)\u001b[0m\n",
      "\u001b[1;33m[WARNING]: \u001b[0m\u001b[0;39mTrying to register the cmap 'sauron' which already exists.\u001b[0m \u001b[0;36m(UserWarning)\u001b[0m\n",
      "\u001b[1;33m[WARNING]: \u001b[0m\u001b[0;39mTrying to register the cmap 'sauron_r' which already exists.\u001b[0m \u001b[0;36m(UserWarning)\u001b[0m\n"
     ]
    },
    {
     "name": "stdout",
     "output_type": "stream",
     "text": [
      "  Kin PA:  41.5  +/-  37.2  (3*sigma error)\n",
      "Velocity Offset: 0.00\n"
     ]
    },
    {
     "name": "stderr",
     "output_type": "stream",
     "text": [
      "\u001b[1;33m[WARNING]: \u001b[0m\u001b[0;39mTrying to register the cmap 'sauron' which already exists.\u001b[0m \u001b[0;36m(UserWarning)\u001b[0m\n",
      "\u001b[1;33m[WARNING]: \u001b[0m\u001b[0;39mTrying to register the cmap 'sauron_r' which already exists.\u001b[0m \u001b[0;36m(UserWarning)\u001b[0m\n",
      "\u001b[1;33m[WARNING]: \u001b[0m\u001b[0;39mTrying to register the cmap 'sauron' which already exists.\u001b[0m \u001b[0;36m(UserWarning)\u001b[0m\n",
      "\u001b[1;33m[WARNING]: \u001b[0m\u001b[0;39mTrying to register the cmap 'sauron_r' which already exists.\u001b[0m \u001b[0;36m(UserWarning)\u001b[0m\n"
     ]
    },
    {
     "name": "stdout",
     "output_type": "stream",
     "text": [
      "  Kin PA: 167.0  +/-  25.5  (3*sigma error)\n",
      "Velocity Offset: 0.00\n"
     ]
    },
    {
     "name": "stderr",
     "output_type": "stream",
     "text": [
      "\u001b[1;33m[WARNING]: \u001b[0m\u001b[0;39mTrying to register the cmap 'sauron' which already exists.\u001b[0m \u001b[0;36m(UserWarning)\u001b[0m\n",
      "\u001b[1;33m[WARNING]: \u001b[0m\u001b[0;39mTrying to register the cmap 'sauron_r' which already exists.\u001b[0m \u001b[0;36m(UserWarning)\u001b[0m\n",
      "\u001b[1;33m[WARNING]: \u001b[0m\u001b[0;39mTrying to register the cmap 'sauron' which already exists.\u001b[0m \u001b[0;36m(UserWarning)\u001b[0m\n",
      "\u001b[1;33m[WARNING]: \u001b[0m\u001b[0;39mTrying to register the cmap 'sauron_r' which already exists.\u001b[0m \u001b[0;36m(UserWarning)\u001b[0m\n"
     ]
    },
    {
     "name": "stdout",
     "output_type": "stream",
     "text": [
      "  Kin PA: 122.5  +/-  30.0  (3*sigma error)\n",
      "Velocity Offset: 0.00\n"
     ]
    },
    {
     "name": "stderr",
     "output_type": "stream",
     "text": [
      "\u001b[1;33m[WARNING]: \u001b[0m\u001b[0;39mTrying to register the cmap 'sauron' which already exists.\u001b[0m \u001b[0;36m(UserWarning)\u001b[0m\n",
      "\u001b[1;33m[WARNING]: \u001b[0m\u001b[0;39mTrying to register the cmap 'sauron_r' which already exists.\u001b[0m \u001b[0;36m(UserWarning)\u001b[0m\n",
      "\u001b[1;33m[WARNING]: \u001b[0m\u001b[0;39mTrying to register the cmap 'sauron' which already exists.\u001b[0m \u001b[0;36m(UserWarning)\u001b[0m\n",
      "\u001b[1;33m[WARNING]: \u001b[0m\u001b[0;39mTrying to register the cmap 'sauron_r' which already exists.\u001b[0m \u001b[0;36m(UserWarning)\u001b[0m\n"
     ]
    },
    {
     "name": "stdout",
     "output_type": "stream",
     "text": [
      "  Kin PA: 120.5  +/-   0.5  (3*sigma error)\n",
      "Velocity Offset: 0.00\n"
     ]
    },
    {
     "name": "stderr",
     "output_type": "stream",
     "text": [
      "\u001b[1;33m[WARNING]: \u001b[0m\u001b[0;39mTrying to register the cmap 'sauron' which already exists.\u001b[0m \u001b[0;36m(UserWarning)\u001b[0m\n",
      "\u001b[1;33m[WARNING]: \u001b[0m\u001b[0;39mTrying to register the cmap 'sauron_r' which already exists.\u001b[0m \u001b[0;36m(UserWarning)\u001b[0m\n",
      "\u001b[1;33m[WARNING]: \u001b[0m\u001b[0;39mTrying to register the cmap 'sauron' which already exists.\u001b[0m \u001b[0;36m(UserWarning)\u001b[0m\n",
      "\u001b[1;33m[WARNING]: \u001b[0m\u001b[0;39mTrying to register the cmap 'sauron_r' which already exists.\u001b[0m \u001b[0;36m(UserWarning)\u001b[0m\n"
     ]
    },
    {
     "name": "stdout",
     "output_type": "stream",
     "text": [
      "  Kin PA:  40.5  +/-  18.5  (3*sigma error)\n",
      "Velocity Offset: 0.00\n"
     ]
    },
    {
     "name": "stderr",
     "output_type": "stream",
     "text": [
      "\u001b[1;33m[WARNING]: \u001b[0m\u001b[0;39mTrying to register the cmap 'sauron' which already exists.\u001b[0m \u001b[0;36m(UserWarning)\u001b[0m\n",
      "\u001b[1;33m[WARNING]: \u001b[0m\u001b[0;39mTrying to register the cmap 'sauron_r' which already exists.\u001b[0m \u001b[0;36m(UserWarning)\u001b[0m\n",
      "\u001b[1;33m[WARNING]: \u001b[0m\u001b[0;39mTrying to register the cmap 'sauron' which already exists.\u001b[0m \u001b[0;36m(UserWarning)\u001b[0m\n",
      "\u001b[1;33m[WARNING]: \u001b[0m\u001b[0;39mTrying to register the cmap 'sauron_r' which already exists.\u001b[0m \u001b[0;36m(UserWarning)\u001b[0m\n"
     ]
    },
    {
     "name": "stdout",
     "output_type": "stream",
     "text": [
      "  Kin PA:  89.0  +/-   0.5  (3*sigma error)\n",
      "Velocity Offset: 0.00\n"
     ]
    },
    {
     "name": "stderr",
     "output_type": "stream",
     "text": [
      "\u001b[1;33m[WARNING]: \u001b[0m\u001b[0;39mTrying to register the cmap 'sauron' which already exists.\u001b[0m \u001b[0;36m(UserWarning)\u001b[0m\n",
      "\u001b[1;33m[WARNING]: \u001b[0m\u001b[0;39mTrying to register the cmap 'sauron_r' which already exists.\u001b[0m \u001b[0;36m(UserWarning)\u001b[0m\n",
      "\u001b[1;33m[WARNING]: \u001b[0m\u001b[0;39mTrying to register the cmap 'sauron' which already exists.\u001b[0m \u001b[0;36m(UserWarning)\u001b[0m\n",
      "\u001b[1;33m[WARNING]: \u001b[0m\u001b[0;39mTrying to register the cmap 'sauron_r' which already exists.\u001b[0m \u001b[0;36m(UserWarning)\u001b[0m\n"
     ]
    },
    {
     "name": "stdout",
     "output_type": "stream",
     "text": [
      "  Kin PA:  79.5  +/-  22.0  (3*sigma error)\n",
      "Velocity Offset: 0.00\n"
     ]
    },
    {
     "name": "stderr",
     "output_type": "stream",
     "text": [
      "\u001b[1;33m[WARNING]: \u001b[0m\u001b[0;39mTrying to register the cmap 'sauron' which already exists.\u001b[0m \u001b[0;36m(UserWarning)\u001b[0m\n",
      "\u001b[1;33m[WARNING]: \u001b[0m\u001b[0;39mTrying to register the cmap 'sauron_r' which already exists.\u001b[0m \u001b[0;36m(UserWarning)\u001b[0m\n"
     ]
    },
    {
     "name": "stdout",
     "output_type": "stream",
     "text": [
      "  Kin PA:  24.5  +/-   8.2  (3*sigma error)\n",
      "Velocity Offset: 0.00\n"
     ]
    },
    {
     "name": "stderr",
     "output_type": "stream",
     "text": [
      "\u001b[1;33m[WARNING]: \u001b[0m\u001b[0;39mTrying to register the cmap 'sauron' which already exists.\u001b[0m \u001b[0;36m(UserWarning)\u001b[0m\n",
      "\u001b[1;33m[WARNING]: \u001b[0m\u001b[0;39mTrying to register the cmap 'sauron_r' which already exists.\u001b[0m \u001b[0;36m(UserWarning)\u001b[0m\n",
      "\u001b[1;33m[WARNING]: \u001b[0m\u001b[0;39mTrying to register the cmap 'sauron' which already exists.\u001b[0m \u001b[0;36m(UserWarning)\u001b[0m\n",
      "\u001b[1;33m[WARNING]: \u001b[0m\u001b[0;39mTrying to register the cmap 'sauron_r' which already exists.\u001b[0m \u001b[0;36m(UserWarning)\u001b[0m\n",
      "\u001b[1;33m[WARNING]: \u001b[0m\u001b[0;39mTrying to register the cmap 'sauron' which already exists.\u001b[0m \u001b[0;36m(UserWarning)\u001b[0m\n",
      "\u001b[1;33m[WARNING]: \u001b[0m\u001b[0;39mTrying to register the cmap 'sauron_r' which already exists.\u001b[0m \u001b[0;36m(UserWarning)\u001b[0m\n"
     ]
    },
    {
     "name": "stdout",
     "output_type": "stream",
     "text": [
      "  Kin PA: 122.5  +/-   7.0  (3*sigma error)\n",
      "Velocity Offset: 0.00\n"
     ]
    },
    {
     "name": "stderr",
     "output_type": "stream",
     "text": [
      "\u001b[1;33m[WARNING]: \u001b[0m\u001b[0;39mTrying to register the cmap 'sauron' which already exists.\u001b[0m \u001b[0;36m(UserWarning)\u001b[0m\n",
      "\u001b[1;33m[WARNING]: \u001b[0m\u001b[0;39mTrying to register the cmap 'sauron_r' which already exists.\u001b[0m \u001b[0;36m(UserWarning)\u001b[0m\n",
      "\u001b[1;33m[WARNING]: \u001b[0m\u001b[0;39mTrying to register the cmap 'sauron' which already exists.\u001b[0m \u001b[0;36m(UserWarning)\u001b[0m\n",
      "\u001b[1;33m[WARNING]: \u001b[0m\u001b[0;39mTrying to register the cmap 'sauron_r' which already exists.\u001b[0m \u001b[0;36m(UserWarning)\u001b[0m\n"
     ]
    },
    {
     "name": "stdout",
     "output_type": "stream",
     "text": [
      "  Kin PA:  10.5  +/-   0.5  (3*sigma error)\n",
      "Velocity Offset: 0.00\n"
     ]
    },
    {
     "name": "stderr",
     "output_type": "stream",
     "text": [
      "\u001b[1;33m[WARNING]: \u001b[0m\u001b[0;39mTrying to register the cmap 'sauron' which already exists.\u001b[0m \u001b[0;36m(UserWarning)\u001b[0m\n",
      "\u001b[1;33m[WARNING]: \u001b[0m\u001b[0;39mTrying to register the cmap 'sauron_r' which already exists.\u001b[0m \u001b[0;36m(UserWarning)\u001b[0m\n",
      "\u001b[1;33m[WARNING]: \u001b[0m\u001b[0;39mTrying to register the cmap 'sauron' which already exists.\u001b[0m \u001b[0;36m(UserWarning)\u001b[0m\n",
      "\u001b[1;33m[WARNING]: \u001b[0m\u001b[0;39mTrying to register the cmap 'sauron_r' which already exists.\u001b[0m \u001b[0;36m(UserWarning)\u001b[0m\n"
     ]
    },
    {
     "name": "stdout",
     "output_type": "stream",
     "text": [
      "  Kin PA:  26.0  +/-   8.0  (3*sigma error)\n",
      "Velocity Offset: 0.00\n"
     ]
    },
    {
     "name": "stderr",
     "output_type": "stream",
     "text": [
      "\u001b[1;33m[WARNING]: \u001b[0m\u001b[0;39mTrying to register the cmap 'sauron' which already exists.\u001b[0m \u001b[0;36m(UserWarning)\u001b[0m\n",
      "\u001b[1;33m[WARNING]: \u001b[0m\u001b[0;39mTrying to register the cmap 'sauron_r' which already exists.\u001b[0m \u001b[0;36m(UserWarning)\u001b[0m\n",
      "\u001b[1;33m[WARNING]: \u001b[0m\u001b[0;39mTrying to register the cmap 'sauron' which already exists.\u001b[0m \u001b[0;36m(UserWarning)\u001b[0m\n",
      "\u001b[1;33m[WARNING]: \u001b[0m\u001b[0;39mTrying to register the cmap 'sauron_r' which already exists.\u001b[0m \u001b[0;36m(UserWarning)\u001b[0m\n"
     ]
    },
    {
     "name": "stdout",
     "output_type": "stream",
     "text": [
      "  Kin PA:  31.5  +/-   0.5  (3*sigma error)\n",
      "Velocity Offset: 0.00\n"
     ]
    },
    {
     "name": "stderr",
     "output_type": "stream",
     "text": [
      "\u001b[1;33m[WARNING]: \u001b[0m\u001b[0;39mTrying to register the cmap 'sauron' which already exists.\u001b[0m \u001b[0;36m(UserWarning)\u001b[0m\n",
      "\u001b[1;33m[WARNING]: \u001b[0m\u001b[0;39mTrying to register the cmap 'sauron_r' which already exists.\u001b[0m \u001b[0;36m(UserWarning)\u001b[0m\n",
      "\u001b[1;33m[WARNING]: \u001b[0m\u001b[0;39mTrying to register the cmap 'sauron' which already exists.\u001b[0m \u001b[0;36m(UserWarning)\u001b[0m\n",
      "\u001b[1;33m[WARNING]: \u001b[0m\u001b[0;39mTrying to register the cmap 'sauron_r' which already exists.\u001b[0m \u001b[0;36m(UserWarning)\u001b[0m\n"
     ]
    },
    {
     "name": "stdout",
     "output_type": "stream",
     "text": [
      "  Kin PA:  98.0  +/-  15.8  (3*sigma error)\n",
      "Velocity Offset: 0.00\n"
     ]
    },
    {
     "name": "stderr",
     "output_type": "stream",
     "text": [
      "\u001b[1;33m[WARNING]: \u001b[0m\u001b[0;39mTrying to register the cmap 'sauron' which already exists.\u001b[0m \u001b[0;36m(UserWarning)\u001b[0m\n",
      "\u001b[1;33m[WARNING]: \u001b[0m\u001b[0;39mTrying to register the cmap 'sauron_r' which already exists.\u001b[0m \u001b[0;36m(UserWarning)\u001b[0m\n",
      "\u001b[1;33m[WARNING]: \u001b[0m\u001b[0;39mTrying to register the cmap 'sauron' which already exists.\u001b[0m \u001b[0;36m(UserWarning)\u001b[0m\n",
      "\u001b[1;33m[WARNING]: \u001b[0m\u001b[0;39mTrying to register the cmap 'sauron_r' which already exists.\u001b[0m \u001b[0;36m(UserWarning)\u001b[0m\n"
     ]
    },
    {
     "name": "stdout",
     "output_type": "stream",
     "text": [
      "  Kin PA:  39.5  +/-   0.5  (3*sigma error)\n",
      "Velocity Offset: 0.00\n"
     ]
    },
    {
     "name": "stderr",
     "output_type": "stream",
     "text": [
      "\u001b[1;33m[WARNING]: \u001b[0m\u001b[0;39mTrying to register the cmap 'sauron' which already exists.\u001b[0m \u001b[0;36m(UserWarning)\u001b[0m\n",
      "\u001b[1;33m[WARNING]: \u001b[0m\u001b[0;39mTrying to register the cmap 'sauron_r' which already exists.\u001b[0m \u001b[0;36m(UserWarning)\u001b[0m\n",
      "\u001b[1;33m[WARNING]: \u001b[0m\u001b[0;39mTrying to register the cmap 'sauron' which already exists.\u001b[0m \u001b[0;36m(UserWarning)\u001b[0m\n",
      "\u001b[1;33m[WARNING]: \u001b[0m\u001b[0;39mTrying to register the cmap 'sauron_r' which already exists.\u001b[0m \u001b[0;36m(UserWarning)\u001b[0m\n"
     ]
    },
    {
     "name": "stdout",
     "output_type": "stream",
     "text": [
      "  Kin PA:   8.5  +/-   6.8  (3*sigma error)\n",
      "Velocity Offset: 0.00\n"
     ]
    },
    {
     "name": "stderr",
     "output_type": "stream",
     "text": [
      "\u001b[1;33m[WARNING]: \u001b[0m\u001b[0;39mTrying to register the cmap 'sauron' which already exists.\u001b[0m \u001b[0;36m(UserWarning)\u001b[0m\n",
      "\u001b[1;33m[WARNING]: \u001b[0m\u001b[0;39mTrying to register the cmap 'sauron_r' which already exists.\u001b[0m \u001b[0;36m(UserWarning)\u001b[0m\n",
      "\u001b[1;33m[WARNING]: \u001b[0m\u001b[0;39mTrying to register the cmap 'sauron' which already exists.\u001b[0m \u001b[0;36m(UserWarning)\u001b[0m\n",
      "\u001b[1;33m[WARNING]: \u001b[0m\u001b[0;39mTrying to register the cmap 'sauron_r' which already exists.\u001b[0m \u001b[0;36m(UserWarning)\u001b[0m\n"
     ]
    },
    {
     "name": "stdout",
     "output_type": "stream",
     "text": [
      "  Kin PA: 130.0  +/-   0.5  (3*sigma error)\n",
      "Velocity Offset: 0.00\n"
     ]
    },
    {
     "name": "stderr",
     "output_type": "stream",
     "text": [
      "\u001b[1;33m[WARNING]: \u001b[0m\u001b[0;39mTrying to register the cmap 'sauron' which already exists.\u001b[0m \u001b[0;36m(UserWarning)\u001b[0m\n",
      "\u001b[1;33m[WARNING]: \u001b[0m\u001b[0;39mTrying to register the cmap 'sauron_r' which already exists.\u001b[0m \u001b[0;36m(UserWarning)\u001b[0m\n",
      "\u001b[1;33m[WARNING]: \u001b[0m\u001b[0;39mTrying to register the cmap 'sauron' which already exists.\u001b[0m \u001b[0;36m(UserWarning)\u001b[0m\n",
      "\u001b[1;33m[WARNING]: \u001b[0m\u001b[0;39mTrying to register the cmap 'sauron_r' which already exists.\u001b[0m \u001b[0;36m(UserWarning)\u001b[0m\n"
     ]
    },
    {
     "name": "stdout",
     "output_type": "stream",
     "text": [
      "  Kin PA:  43.5  +/-   8.0  (3*sigma error)\n",
      "Velocity Offset: 0.00\n"
     ]
    },
    {
     "name": "stderr",
     "output_type": "stream",
     "text": [
      "\u001b[1;33m[WARNING]: \u001b[0m\u001b[0;39mTrying to register the cmap 'sauron' which already exists.\u001b[0m \u001b[0;36m(UserWarning)\u001b[0m\n",
      "\u001b[1;33m[WARNING]: \u001b[0m\u001b[0;39mTrying to register the cmap 'sauron_r' which already exists.\u001b[0m \u001b[0;36m(UserWarning)\u001b[0m\n",
      "\u001b[1;33m[WARNING]: \u001b[0m\u001b[0;39mTrying to register the cmap 'sauron' which already exists.\u001b[0m \u001b[0;36m(UserWarning)\u001b[0m\n",
      "\u001b[1;33m[WARNING]: \u001b[0m\u001b[0;39mTrying to register the cmap 'sauron_r' which already exists.\u001b[0m \u001b[0;36m(UserWarning)\u001b[0m\n"
     ]
    },
    {
     "name": "stdout",
     "output_type": "stream",
     "text": [
      "  Kin PA:  79.0  +/-   0.5  (3*sigma error)\n",
      "Velocity Offset: 0.00\n"
     ]
    },
    {
     "name": "stderr",
     "output_type": "stream",
     "text": [
      "\u001b[1;33m[WARNING]: \u001b[0m\u001b[0;39mTrying to register the cmap 'sauron' which already exists.\u001b[0m \u001b[0;36m(UserWarning)\u001b[0m\n",
      "\u001b[1;33m[WARNING]: \u001b[0m\u001b[0;39mTrying to register the cmap 'sauron_r' which already exists.\u001b[0m \u001b[0;36m(UserWarning)\u001b[0m\n",
      "\u001b[1;33m[WARNING]: \u001b[0m\u001b[0;39mTrying to register the cmap 'sauron' which already exists.\u001b[0m \u001b[0;36m(UserWarning)\u001b[0m\n",
      "\u001b[1;33m[WARNING]: \u001b[0m\u001b[0;39mTrying to register the cmap 'sauron_r' which already exists.\u001b[0m \u001b[0;36m(UserWarning)\u001b[0m\n"
     ]
    },
    {
     "name": "stdout",
     "output_type": "stream",
     "text": [
      "  Kin PA: 121.0  +/-  89.8  (3*sigma error)\n",
      "Velocity Offset: 0.00\n"
     ]
    },
    {
     "name": "stderr",
     "output_type": "stream",
     "text": [
      "\u001b[1;33m[WARNING]: \u001b[0m\u001b[0;39mTrying to register the cmap 'sauron' which already exists.\u001b[0m \u001b[0;36m(UserWarning)\u001b[0m\n",
      "\u001b[1;33m[WARNING]: \u001b[0m\u001b[0;39mTrying to register the cmap 'sauron_r' which already exists.\u001b[0m \u001b[0;36m(UserWarning)\u001b[0m\n",
      "\u001b[1;33m[WARNING]: \u001b[0m\u001b[0;39mTrying to register the cmap 'sauron' which already exists.\u001b[0m \u001b[0;36m(UserWarning)\u001b[0m\n",
      "\u001b[1;33m[WARNING]: \u001b[0m\u001b[0;39mTrying to register the cmap 'sauron_r' which already exists.\u001b[0m \u001b[0;36m(UserWarning)\u001b[0m\n"
     ]
    },
    {
     "name": "stdout",
     "output_type": "stream",
     "text": [
      "  Kin PA:  38.0  +/-   0.5  (3*sigma error)\n",
      "Velocity Offset: 0.00\n"
     ]
    },
    {
     "name": "stderr",
     "output_type": "stream",
     "text": [
      "\u001b[1;33m[WARNING]: \u001b[0m\u001b[0;39mTrying to register the cmap 'sauron' which already exists.\u001b[0m \u001b[0;36m(UserWarning)\u001b[0m\n",
      "\u001b[1;33m[WARNING]: \u001b[0m\u001b[0;39mTrying to register the cmap 'sauron_r' which already exists.\u001b[0m \u001b[0;36m(UserWarning)\u001b[0m\n",
      "\u001b[1;33m[WARNING]: \u001b[0m\u001b[0;39mTrying to register the cmap 'sauron' which already exists.\u001b[0m \u001b[0;36m(UserWarning)\u001b[0m\n",
      "\u001b[1;33m[WARNING]: \u001b[0m\u001b[0;39mTrying to register the cmap 'sauron_r' which already exists.\u001b[0m \u001b[0;36m(UserWarning)\u001b[0m\n"
     ]
    },
    {
     "name": "stdout",
     "output_type": "stream",
     "text": [
      "  Kin PA:  93.5  +/-   3.8  (3*sigma error)\n",
      "Velocity Offset: 0.00\n"
     ]
    },
    {
     "name": "stderr",
     "output_type": "stream",
     "text": [
      "\u001b[1;33m[WARNING]: \u001b[0m\u001b[0;39mTrying to register the cmap 'sauron' which already exists.\u001b[0m \u001b[0;36m(UserWarning)\u001b[0m\n",
      "\u001b[1;33m[WARNING]: \u001b[0m\u001b[0;39mTrying to register the cmap 'sauron_r' which already exists.\u001b[0m \u001b[0;36m(UserWarning)\u001b[0m\n",
      "\u001b[1;33m[WARNING]: \u001b[0m\u001b[0;39mTrying to register the cmap 'sauron' which already exists.\u001b[0m \u001b[0;36m(UserWarning)\u001b[0m\n",
      "\u001b[1;33m[WARNING]: \u001b[0m\u001b[0;39mTrying to register the cmap 'sauron_r' which already exists.\u001b[0m \u001b[0;36m(UserWarning)\u001b[0m\n"
     ]
    },
    {
     "name": "stdout",
     "output_type": "stream",
     "text": [
      "  Kin PA:  40.0  +/-   0.5  (3*sigma error)\n",
      "Velocity Offset: 0.00\n"
     ]
    },
    {
     "name": "stderr",
     "output_type": "stream",
     "text": [
      "\u001b[1;33m[WARNING]: \u001b[0m\u001b[0;39mTrying to register the cmap 'sauron' which already exists.\u001b[0m \u001b[0;36m(UserWarning)\u001b[0m\n",
      "\u001b[1;33m[WARNING]: \u001b[0m\u001b[0;39mTrying to register the cmap 'sauron_r' which already exists.\u001b[0m \u001b[0;36m(UserWarning)\u001b[0m\n",
      "\u001b[1;33m[WARNING]: \u001b[0m\u001b[0;39mTrying to register the cmap 'sauron' which already exists.\u001b[0m \u001b[0;36m(UserWarning)\u001b[0m\n",
      "\u001b[1;33m[WARNING]: \u001b[0m\u001b[0;39mTrying to register the cmap 'sauron_r' which already exists.\u001b[0m \u001b[0;36m(UserWarning)\u001b[0m\n"
     ]
    },
    {
     "name": "stdout",
     "output_type": "stream",
     "text": [
      "  Kin PA:  10.0  +/-  13.8  (3*sigma error)\n",
      "Velocity Offset: 0.00\n"
     ]
    },
    {
     "name": "stderr",
     "output_type": "stream",
     "text": [
      "\u001b[1;33m[WARNING]: \u001b[0m\u001b[0;39mTrying to register the cmap 'sauron' which already exists.\u001b[0m \u001b[0;36m(UserWarning)\u001b[0m\n",
      "\u001b[1;33m[WARNING]: \u001b[0m\u001b[0;39mTrying to register the cmap 'sauron_r' which already exists.\u001b[0m \u001b[0;36m(UserWarning)\u001b[0m\n",
      "\u001b[1;33m[WARNING]: \u001b[0m\u001b[0;39mTrying to register the cmap 'sauron' which already exists.\u001b[0m \u001b[0;36m(UserWarning)\u001b[0m\n",
      "\u001b[1;33m[WARNING]: \u001b[0m\u001b[0;39mTrying to register the cmap 'sauron_r' which already exists.\u001b[0m \u001b[0;36m(UserWarning)\u001b[0m\n"
     ]
    },
    {
     "name": "stdout",
     "output_type": "stream",
     "text": [
      "  Kin PA: 113.0  +/-   0.5  (3*sigma error)\n",
      "Velocity Offset: 0.00\n"
     ]
    },
    {
     "name": "stderr",
     "output_type": "stream",
     "text": [
      "\u001b[1;33m[WARNING]: \u001b[0m\u001b[0;39mTrying to register the cmap 'sauron' which already exists.\u001b[0m \u001b[0;36m(UserWarning)\u001b[0m\n",
      "\u001b[1;33m[WARNING]: \u001b[0m\u001b[0;39mTrying to register the cmap 'sauron_r' which already exists.\u001b[0m \u001b[0;36m(UserWarning)\u001b[0m\n",
      "\u001b[1;33m[WARNING]: \u001b[0m\u001b[0;39mTrying to register the cmap 'sauron' which already exists.\u001b[0m \u001b[0;36m(UserWarning)\u001b[0m\n",
      "\u001b[1;33m[WARNING]: \u001b[0m\u001b[0;39mTrying to register the cmap 'sauron_r' which already exists.\u001b[0m \u001b[0;36m(UserWarning)\u001b[0m\n"
     ]
    },
    {
     "name": "stdout",
     "output_type": "stream",
     "text": [
      "  Kin PA:  20.0  +/-  13.8  (3*sigma error)\n",
      "Velocity Offset: 0.00\n"
     ]
    },
    {
     "name": "stderr",
     "output_type": "stream",
     "text": [
      "\u001b[1;33m[WARNING]: \u001b[0m\u001b[0;39mTrying to register the cmap 'sauron' which already exists.\u001b[0m \u001b[0;36m(UserWarning)\u001b[0m\n",
      "\u001b[1;33m[WARNING]: \u001b[0m\u001b[0;39mTrying to register the cmap 'sauron_r' which already exists.\u001b[0m \u001b[0;36m(UserWarning)\u001b[0m\n",
      "\u001b[1;33m[WARNING]: \u001b[0m\u001b[0;39mTrying to register the cmap 'sauron' which already exists.\u001b[0m \u001b[0;36m(UserWarning)\u001b[0m\n",
      "\u001b[1;33m[WARNING]: \u001b[0m\u001b[0;39mTrying to register the cmap 'sauron_r' which already exists.\u001b[0m \u001b[0;36m(UserWarning)\u001b[0m\n"
     ]
    },
    {
     "name": "stdout",
     "output_type": "stream",
     "text": [
      "  Kin PA: 150.5  +/-   0.5  (3*sigma error)\n",
      "Velocity Offset: 0.00\n"
     ]
    },
    {
     "name": "stderr",
     "output_type": "stream",
     "text": [
      "\u001b[1;33m[WARNING]: \u001b[0m\u001b[0;39mTrying to register the cmap 'sauron' which already exists.\u001b[0m \u001b[0;36m(UserWarning)\u001b[0m\n",
      "\u001b[1;33m[WARNING]: \u001b[0m\u001b[0;39mTrying to register the cmap 'sauron_r' which already exists.\u001b[0m \u001b[0;36m(UserWarning)\u001b[0m\n",
      "\u001b[1;33m[WARNING]: \u001b[0m\u001b[0;39mTrying to register the cmap 'sauron' which already exists.\u001b[0m \u001b[0;36m(UserWarning)\u001b[0m\n",
      "\u001b[1;33m[WARNING]: \u001b[0m\u001b[0;39mTrying to register the cmap 'sauron_r' which already exists.\u001b[0m \u001b[0;36m(UserWarning)\u001b[0m\n"
     ]
    },
    {
     "name": "stdout",
     "output_type": "stream",
     "text": [
      "  Kin PA:  14.5  +/-  17.5  (3*sigma error)\n",
      "Velocity Offset: 0.00\n"
     ]
    },
    {
     "name": "stderr",
     "output_type": "stream",
     "text": [
      "\u001b[1;33m[WARNING]: \u001b[0m\u001b[0;39mTrying to register the cmap 'sauron' which already exists.\u001b[0m \u001b[0;36m(UserWarning)\u001b[0m\n",
      "\u001b[1;33m[WARNING]: \u001b[0m\u001b[0;39mTrying to register the cmap 'sauron_r' which already exists.\u001b[0m \u001b[0;36m(UserWarning)\u001b[0m\n"
     ]
    },
    {
     "name": "stdout",
     "output_type": "stream",
     "text": [
      "  Kin PA: 105.0  +/-   0.5  (3*sigma error)\n",
      "Velocity Offset: 0.00\n"
     ]
    },
    {
     "name": "stderr",
     "output_type": "stream",
     "text": [
      "\u001b[1;33m[WARNING]: \u001b[0m\u001b[0;39mTrying to register the cmap 'sauron' which already exists.\u001b[0m \u001b[0;36m(UserWarning)\u001b[0m\n",
      "\u001b[1;33m[WARNING]: \u001b[0m\u001b[0;39mTrying to register the cmap 'sauron_r' which already exists.\u001b[0m \u001b[0;36m(UserWarning)\u001b[0m\n",
      "\u001b[1;33m[WARNING]: \u001b[0m\u001b[0;39mTrying to register the cmap 'sauron' which already exists.\u001b[0m \u001b[0;36m(UserWarning)\u001b[0m\n",
      "\u001b[1;33m[WARNING]: \u001b[0m\u001b[0;39mTrying to register the cmap 'sauron_r' which already exists.\u001b[0m \u001b[0;36m(UserWarning)\u001b[0m\n",
      "\u001b[1;33m[WARNING]: \u001b[0m\u001b[0;39mTrying to register the cmap 'sauron' which already exists.\u001b[0m \u001b[0;36m(UserWarning)\u001b[0m\n",
      "\u001b[1;33m[WARNING]: \u001b[0m\u001b[0;39mTrying to register the cmap 'sauron_r' which already exists.\u001b[0m \u001b[0;36m(UserWarning)\u001b[0m\n"
     ]
    },
    {
     "name": "stdout",
     "output_type": "stream",
     "text": [
      "  Kin PA:  96.5  +/-  89.8  (3*sigma error)\n",
      "Velocity Offset: 0.00\n"
     ]
    },
    {
     "name": "stderr",
     "output_type": "stream",
     "text": [
      "\u001b[1;33m[WARNING]: \u001b[0m\u001b[0;39mTrying to register the cmap 'sauron' which already exists.\u001b[0m \u001b[0;36m(UserWarning)\u001b[0m\n",
      "\u001b[1;33m[WARNING]: \u001b[0m\u001b[0;39mTrying to register the cmap 'sauron_r' which already exists.\u001b[0m \u001b[0;36m(UserWarning)\u001b[0m\n",
      "\u001b[1;33m[WARNING]: \u001b[0m\u001b[0;39mTrying to register the cmap 'sauron' which already exists.\u001b[0m \u001b[0;36m(UserWarning)\u001b[0m\n",
      "\u001b[1;33m[WARNING]: \u001b[0m\u001b[0;39mTrying to register the cmap 'sauron_r' which already exists.\u001b[0m \u001b[0;36m(UserWarning)\u001b[0m\n"
     ]
    },
    {
     "name": "stdout",
     "output_type": "stream",
     "text": [
      "  Kin PA: 126.5  +/-   0.5  (3*sigma error)\n",
      "Velocity Offset: 0.00\n"
     ]
    },
    {
     "name": "stderr",
     "output_type": "stream",
     "text": [
      "\u001b[1;33m[WARNING]: \u001b[0m\u001b[0;39mTrying to register the cmap 'sauron' which already exists.\u001b[0m \u001b[0;36m(UserWarning)\u001b[0m\n",
      "\u001b[1;33m[WARNING]: \u001b[0m\u001b[0;39mTrying to register the cmap 'sauron_r' which already exists.\u001b[0m \u001b[0;36m(UserWarning)\u001b[0m\n",
      "\u001b[1;33m[WARNING]: \u001b[0m\u001b[0;39mTrying to register the cmap 'sauron' which already exists.\u001b[0m \u001b[0;36m(UserWarning)\u001b[0m\n",
      "\u001b[1;33m[WARNING]: \u001b[0m\u001b[0;39mTrying to register the cmap 'sauron_r' which already exists.\u001b[0m \u001b[0;36m(UserWarning)\u001b[0m\n"
     ]
    },
    {
     "name": "stdout",
     "output_type": "stream",
     "text": [
      "  Kin PA: 138.0  +/-  89.8  (3*sigma error)\n",
      "Velocity Offset: 0.00\n"
     ]
    },
    {
     "name": "stderr",
     "output_type": "stream",
     "text": [
      "\u001b[1;33m[WARNING]: \u001b[0m\u001b[0;39mTrying to register the cmap 'sauron' which already exists.\u001b[0m \u001b[0;36m(UserWarning)\u001b[0m\n",
      "\u001b[1;33m[WARNING]: \u001b[0m\u001b[0;39mTrying to register the cmap 'sauron_r' which already exists.\u001b[0m \u001b[0;36m(UserWarning)\u001b[0m\n",
      "\u001b[1;33m[WARNING]: \u001b[0m\u001b[0;39mTrying to register the cmap 'sauron' which already exists.\u001b[0m \u001b[0;36m(UserWarning)\u001b[0m\n",
      "\u001b[1;33m[WARNING]: \u001b[0m\u001b[0;39mTrying to register the cmap 'sauron_r' which already exists.\u001b[0m \u001b[0;36m(UserWarning)\u001b[0m\n"
     ]
    },
    {
     "name": "stdout",
     "output_type": "stream",
     "text": [
      "  Kin PA:  26.5  +/-   0.5  (3*sigma error)\n",
      "Velocity Offset: 0.00\n"
     ]
    },
    {
     "name": "stderr",
     "output_type": "stream",
     "text": [
      "\u001b[1;33m[WARNING]: \u001b[0m\u001b[0;39mTrying to register the cmap 'sauron' which already exists.\u001b[0m \u001b[0;36m(UserWarning)\u001b[0m\n",
      "\u001b[1;33m[WARNING]: \u001b[0m\u001b[0;39mTrying to register the cmap 'sauron_r' which already exists.\u001b[0m \u001b[0;36m(UserWarning)\u001b[0m\n",
      "\u001b[1;33m[WARNING]: \u001b[0m\u001b[0;39mTrying to register the cmap 'sauron' which already exists.\u001b[0m \u001b[0;36m(UserWarning)\u001b[0m\n",
      "\u001b[1;33m[WARNING]: \u001b[0m\u001b[0;39mTrying to register the cmap 'sauron_r' which already exists.\u001b[0m \u001b[0;36m(UserWarning)\u001b[0m\n"
     ]
    },
    {
     "name": "stdout",
     "output_type": "stream",
     "text": [
      "  Kin PA:  92.5  +/-   9.0  (3*sigma error)\n",
      "Velocity Offset: 0.00\n"
     ]
    },
    {
     "name": "stderr",
     "output_type": "stream",
     "text": [
      "\u001b[1;33m[WARNING]: \u001b[0m\u001b[0;39mTrying to register the cmap 'sauron' which already exists.\u001b[0m \u001b[0;36m(UserWarning)\u001b[0m\n",
      "\u001b[1;33m[WARNING]: \u001b[0m\u001b[0;39mTrying to register the cmap 'sauron_r' which already exists.\u001b[0m \u001b[0;36m(UserWarning)\u001b[0m\n",
      "\u001b[1;33m[WARNING]: \u001b[0m\u001b[0;39mTrying to register the cmap 'sauron' which already exists.\u001b[0m \u001b[0;36m(UserWarning)\u001b[0m\n",
      "\u001b[1;33m[WARNING]: \u001b[0m\u001b[0;39mTrying to register the cmap 'sauron_r' which already exists.\u001b[0m \u001b[0;36m(UserWarning)\u001b[0m\n"
     ]
    },
    {
     "name": "stdout",
     "output_type": "stream",
     "text": [
      "  Kin PA: 117.5  +/-   0.5  (3*sigma error)\n",
      "Velocity Offset: 0.00\n"
     ]
    },
    {
     "name": "stderr",
     "output_type": "stream",
     "text": [
      "\u001b[1;33m[WARNING]: \u001b[0m\u001b[0;39mTrying to register the cmap 'sauron' which already exists.\u001b[0m \u001b[0;36m(UserWarning)\u001b[0m\n",
      "\u001b[1;33m[WARNING]: \u001b[0m\u001b[0;39mTrying to register the cmap 'sauron_r' which already exists.\u001b[0m \u001b[0;36m(UserWarning)\u001b[0m\n",
      "\u001b[1;33m[WARNING]: \u001b[0m\u001b[0;39mTrying to register the cmap 'sauron' which already exists.\u001b[0m \u001b[0;36m(UserWarning)\u001b[0m\n",
      "\u001b[1;33m[WARNING]: \u001b[0m\u001b[0;39mTrying to register the cmap 'sauron_r' which already exists.\u001b[0m \u001b[0;36m(UserWarning)\u001b[0m\n"
     ]
    },
    {
     "name": "stdout",
     "output_type": "stream",
     "text": [
      "  Kin PA:  29.5  +/-   6.2  (3*sigma error)\n",
      "Velocity Offset: 0.00\n"
     ]
    },
    {
     "name": "stderr",
     "output_type": "stream",
     "text": [
      "\u001b[1;33m[WARNING]: \u001b[0m\u001b[0;39mTrying to register the cmap 'sauron' which already exists.\u001b[0m \u001b[0;36m(UserWarning)\u001b[0m\n",
      "\u001b[1;33m[WARNING]: \u001b[0m\u001b[0;39mTrying to register the cmap 'sauron_r' which already exists.\u001b[0m \u001b[0;36m(UserWarning)\u001b[0m\n",
      "\u001b[1;33m[WARNING]: \u001b[0m\u001b[0;39mTrying to register the cmap 'sauron' which already exists.\u001b[0m \u001b[0;36m(UserWarning)\u001b[0m\n",
      "\u001b[1;33m[WARNING]: \u001b[0m\u001b[0;39mTrying to register the cmap 'sauron_r' which already exists.\u001b[0m \u001b[0;36m(UserWarning)\u001b[0m\n"
     ]
    },
    {
     "name": "stdout",
     "output_type": "stream",
     "text": [
      "  Kin PA:  60.5  +/-   0.5  (3*sigma error)\n",
      "Velocity Offset: 0.00\n"
     ]
    },
    {
     "name": "stderr",
     "output_type": "stream",
     "text": [
      "\u001b[1;33m[WARNING]: \u001b[0m\u001b[0;39mTrying to register the cmap 'sauron' which already exists.\u001b[0m \u001b[0;36m(UserWarning)\u001b[0m\n",
      "\u001b[1;33m[WARNING]: \u001b[0m\u001b[0;39mTrying to register the cmap 'sauron_r' which already exists.\u001b[0m \u001b[0;36m(UserWarning)\u001b[0m\n",
      "\u001b[1;33m[WARNING]: \u001b[0m\u001b[0;39mTrying to register the cmap 'sauron' which already exists.\u001b[0m \u001b[0;36m(UserWarning)\u001b[0m\n",
      "\u001b[1;33m[WARNING]: \u001b[0m\u001b[0;39mTrying to register the cmap 'sauron_r' which already exists.\u001b[0m \u001b[0;36m(UserWarning)\u001b[0m\n"
     ]
    },
    {
     "name": "stdout",
     "output_type": "stream",
     "text": [
      "  Kin PA: 172.5  +/-   5.8  (3*sigma error)\n",
      "Velocity Offset: 0.00\n"
     ]
    },
    {
     "name": "stderr",
     "output_type": "stream",
     "text": [
      "\u001b[1;33m[WARNING]: \u001b[0m\u001b[0;39mTrying to register the cmap 'sauron' which already exists.\u001b[0m \u001b[0;36m(UserWarning)\u001b[0m\n",
      "\u001b[1;33m[WARNING]: \u001b[0m\u001b[0;39mTrying to register the cmap 'sauron_r' which already exists.\u001b[0m \u001b[0;36m(UserWarning)\u001b[0m\n",
      "\u001b[1;33m[WARNING]: \u001b[0m\u001b[0;39mTrying to register the cmap 'sauron' which already exists.\u001b[0m \u001b[0;36m(UserWarning)\u001b[0m\n",
      "\u001b[1;33m[WARNING]: \u001b[0m\u001b[0;39mTrying to register the cmap 'sauron_r' which already exists.\u001b[0m \u001b[0;36m(UserWarning)\u001b[0m\n"
     ]
    },
    {
     "name": "stdout",
     "output_type": "stream",
     "text": [
      "  Kin PA: 158.5  +/-   0.5  (3*sigma error)\n",
      "Velocity Offset: 0.00\n"
     ]
    },
    {
     "name": "stderr",
     "output_type": "stream",
     "text": [
      "\u001b[1;33m[WARNING]: \u001b[0m\u001b[0;39mTrying to register the cmap 'sauron' which already exists.\u001b[0m \u001b[0;36m(UserWarning)\u001b[0m\n",
      "\u001b[1;33m[WARNING]: \u001b[0m\u001b[0;39mTrying to register the cmap 'sauron_r' which already exists.\u001b[0m \u001b[0;36m(UserWarning)\u001b[0m\n",
      "\u001b[1;33m[WARNING]: \u001b[0m\u001b[0;39mTrying to register the cmap 'sauron' which already exists.\u001b[0m \u001b[0;36m(UserWarning)\u001b[0m\n",
      "\u001b[1;33m[WARNING]: \u001b[0m\u001b[0;39mTrying to register the cmap 'sauron_r' which already exists.\u001b[0m \u001b[0;36m(UserWarning)\u001b[0m\n"
     ]
    },
    {
     "name": "stdout",
     "output_type": "stream",
     "text": [
      "  Kin PA: 176.5  +/-  89.8  (3*sigma error)\n",
      "Velocity Offset: 0.00\n"
     ]
    },
    {
     "name": "stderr",
     "output_type": "stream",
     "text": [
      "\u001b[1;33m[WARNING]: \u001b[0m\u001b[0;39mTrying to register the cmap 'sauron' which already exists.\u001b[0m \u001b[0;36m(UserWarning)\u001b[0m\n",
      "\u001b[1;33m[WARNING]: \u001b[0m\u001b[0;39mTrying to register the cmap 'sauron_r' which already exists.\u001b[0m \u001b[0;36m(UserWarning)\u001b[0m\n",
      "\u001b[1;33m[WARNING]: \u001b[0m\u001b[0;39mTrying to register the cmap 'sauron' which already exists.\u001b[0m \u001b[0;36m(UserWarning)\u001b[0m\n",
      "\u001b[1;33m[WARNING]: \u001b[0m\u001b[0;39mTrying to register the cmap 'sauron_r' which already exists.\u001b[0m \u001b[0;36m(UserWarning)\u001b[0m\n"
     ]
    },
    {
     "name": "stdout",
     "output_type": "stream",
     "text": [
      "  Kin PA: 109.5  +/-   0.5  (3*sigma error)\n",
      "Velocity Offset: 0.00\n"
     ]
    },
    {
     "name": "stderr",
     "output_type": "stream",
     "text": [
      "\u001b[1;33m[WARNING]: \u001b[0m\u001b[0;39mTrying to register the cmap 'sauron' which already exists.\u001b[0m \u001b[0;36m(UserWarning)\u001b[0m\n",
      "\u001b[1;33m[WARNING]: \u001b[0m\u001b[0;39mTrying to register the cmap 'sauron_r' which already exists.\u001b[0m \u001b[0;36m(UserWarning)\u001b[0m\n",
      "\u001b[1;33m[WARNING]: \u001b[0m\u001b[0;39mTrying to register the cmap 'sauron' which already exists.\u001b[0m \u001b[0;36m(UserWarning)\u001b[0m\n",
      "\u001b[1;33m[WARNING]: \u001b[0m\u001b[0;39mTrying to register the cmap 'sauron_r' which already exists.\u001b[0m \u001b[0;36m(UserWarning)\u001b[0m\n"
     ]
    },
    {
     "name": "stdout",
     "output_type": "stream",
     "text": [
      "  Kin PA: 171.0  +/-  13.5  (3*sigma error)\n",
      "Velocity Offset: 0.00\n"
     ]
    },
    {
     "name": "stderr",
     "output_type": "stream",
     "text": [
      "\u001b[1;33m[WARNING]: \u001b[0m\u001b[0;39mTrying to register the cmap 'sauron' which already exists.\u001b[0m \u001b[0;36m(UserWarning)\u001b[0m\n",
      "\u001b[1;33m[WARNING]: \u001b[0m\u001b[0;39mTrying to register the cmap 'sauron_r' which already exists.\u001b[0m \u001b[0;36m(UserWarning)\u001b[0m\n",
      "\u001b[1;33m[WARNING]: \u001b[0m\u001b[0;39mTrying to register the cmap 'sauron' which already exists.\u001b[0m \u001b[0;36m(UserWarning)\u001b[0m\n",
      "\u001b[1;33m[WARNING]: \u001b[0m\u001b[0;39mTrying to register the cmap 'sauron_r' which already exists.\u001b[0m \u001b[0;36m(UserWarning)\u001b[0m\n"
     ]
    },
    {
     "name": "stdout",
     "output_type": "stream",
     "text": [
      "  Kin PA: 153.5  +/-   0.5  (3*sigma error)\n",
      "Velocity Offset: 0.00\n"
     ]
    },
    {
     "name": "stderr",
     "output_type": "stream",
     "text": [
      "\u001b[1;33m[WARNING]: \u001b[0m\u001b[0;39mTrying to register the cmap 'sauron' which already exists.\u001b[0m \u001b[0;36m(UserWarning)\u001b[0m\n",
      "\u001b[1;33m[WARNING]: \u001b[0m\u001b[0;39mTrying to register the cmap 'sauron_r' which already exists.\u001b[0m \u001b[0;36m(UserWarning)\u001b[0m\n",
      "\u001b[1;33m[WARNING]: \u001b[0m\u001b[0;39mTrying to register the cmap 'sauron' which already exists.\u001b[0m \u001b[0;36m(UserWarning)\u001b[0m\n",
      "\u001b[1;33m[WARNING]: \u001b[0m\u001b[0;39mTrying to register the cmap 'sauron_r' which already exists.\u001b[0m \u001b[0;36m(UserWarning)\u001b[0m\n"
     ]
    },
    {
     "name": "stdout",
     "output_type": "stream",
     "text": [
      "  Kin PA:  78.0  +/-  14.5  (3*sigma error)\n",
      "Velocity Offset: 0.00\n"
     ]
    },
    {
     "name": "stderr",
     "output_type": "stream",
     "text": [
      "\u001b[1;33m[WARNING]: \u001b[0m\u001b[0;39mTrying to register the cmap 'sauron' which already exists.\u001b[0m \u001b[0;36m(UserWarning)\u001b[0m\n",
      "\u001b[1;33m[WARNING]: \u001b[0m\u001b[0;39mTrying to register the cmap 'sauron_r' which already exists.\u001b[0m \u001b[0;36m(UserWarning)\u001b[0m\n",
      "\u001b[1;33m[WARNING]: \u001b[0m\u001b[0;39mTrying to register the cmap 'sauron' which already exists.\u001b[0m \u001b[0;36m(UserWarning)\u001b[0m\n",
      "\u001b[1;33m[WARNING]: \u001b[0m\u001b[0;39mTrying to register the cmap 'sauron_r' which already exists.\u001b[0m \u001b[0;36m(UserWarning)\u001b[0m\n"
     ]
    },
    {
     "name": "stdout",
     "output_type": "stream",
     "text": [
      "  Kin PA:  52.5  +/-   0.5  (3*sigma error)\n",
      "Velocity Offset: 0.00\n"
     ]
    },
    {
     "name": "stderr",
     "output_type": "stream",
     "text": [
      "\u001b[1;33m[WARNING]: \u001b[0m\u001b[0;39mTrying to register the cmap 'sauron' which already exists.\u001b[0m \u001b[0;36m(UserWarning)\u001b[0m\n",
      "\u001b[1;33m[WARNING]: \u001b[0m\u001b[0;39mTrying to register the cmap 'sauron_r' which already exists.\u001b[0m \u001b[0;36m(UserWarning)\u001b[0m\n",
      "\u001b[1;33m[WARNING]: \u001b[0m\u001b[0;39mTrying to register the cmap 'sauron' which already exists.\u001b[0m \u001b[0;36m(UserWarning)\u001b[0m\n",
      "\u001b[1;33m[WARNING]: \u001b[0m\u001b[0;39mTrying to register the cmap 'sauron_r' which already exists.\u001b[0m \u001b[0;36m(UserWarning)\u001b[0m\n"
     ]
    },
    {
     "name": "stdout",
     "output_type": "stream",
     "text": [
      "  Kin PA: 150.5  +/-  29.2  (3*sigma error)\n",
      "Velocity Offset: 0.00\n"
     ]
    },
    {
     "name": "stderr",
     "output_type": "stream",
     "text": [
      "\u001b[1;33m[WARNING]: \u001b[0m\u001b[0;39mTrying to register the cmap 'sauron' which already exists.\u001b[0m \u001b[0;36m(UserWarning)\u001b[0m\n",
      "\u001b[1;33m[WARNING]: \u001b[0m\u001b[0;39mTrying to register the cmap 'sauron_r' which already exists.\u001b[0m \u001b[0;36m(UserWarning)\u001b[0m\n",
      "\u001b[1;33m[WARNING]: \u001b[0m\u001b[0;39mTrying to register the cmap 'sauron' which already exists.\u001b[0m \u001b[0;36m(UserWarning)\u001b[0m\n",
      "\u001b[1;33m[WARNING]: \u001b[0m\u001b[0;39mTrying to register the cmap 'sauron_r' which already exists.\u001b[0m \u001b[0;36m(UserWarning)\u001b[0m\n"
     ]
    },
    {
     "name": "stdout",
     "output_type": "stream",
     "text": [
      "  Kin PA: 118.5  +/-   0.8  (3*sigma error)\n",
      "Velocity Offset: 0.00\n"
     ]
    },
    {
     "name": "stderr",
     "output_type": "stream",
     "text": [
      "\u001b[1;33m[WARNING]: \u001b[0m\u001b[0;39mTrying to register the cmap 'sauron' which already exists.\u001b[0m \u001b[0;36m(UserWarning)\u001b[0m\n",
      "\u001b[1;33m[WARNING]: \u001b[0m\u001b[0;39mTrying to register the cmap 'sauron_r' which already exists.\u001b[0m \u001b[0;36m(UserWarning)\u001b[0m\n",
      "\u001b[1;33m[WARNING]: \u001b[0m\u001b[0;39mTrying to register the cmap 'sauron' which already exists.\u001b[0m \u001b[0;36m(UserWarning)\u001b[0m\n",
      "\u001b[1;33m[WARNING]: \u001b[0m\u001b[0;39mTrying to register the cmap 'sauron_r' which already exists.\u001b[0m \u001b[0;36m(UserWarning)\u001b[0m\n"
     ]
    },
    {
     "name": "stdout",
     "output_type": "stream",
     "text": [
      "  Kin PA:  43.0  +/-  89.8  (3*sigma error)\n",
      "Velocity Offset: 0.00\n"
     ]
    },
    {
     "name": "stderr",
     "output_type": "stream",
     "text": [
      "\u001b[1;33m[WARNING]: \u001b[0m\u001b[0;39mTrying to register the cmap 'sauron' which already exists.\u001b[0m \u001b[0;36m(UserWarning)\u001b[0m\n",
      "\u001b[1;33m[WARNING]: \u001b[0m\u001b[0;39mTrying to register the cmap 'sauron_r' which already exists.\u001b[0m \u001b[0;36m(UserWarning)\u001b[0m\n",
      "\u001b[1;33m[WARNING]: \u001b[0m\u001b[0;39mTrying to register the cmap 'sauron' which already exists.\u001b[0m \u001b[0;36m(UserWarning)\u001b[0m\n",
      "\u001b[1;33m[WARNING]: \u001b[0m\u001b[0;39mTrying to register the cmap 'sauron_r' which already exists.\u001b[0m \u001b[0;36m(UserWarning)\u001b[0m\n"
     ]
    },
    {
     "name": "stdout",
     "output_type": "stream",
     "text": [
      "  Kin PA:  41.0  +/-   0.5  (3*sigma error)\n",
      "Velocity Offset: 0.00\n"
     ]
    },
    {
     "name": "stderr",
     "output_type": "stream",
     "text": [
      "\u001b[1;33m[WARNING]: \u001b[0m\u001b[0;39mTrying to register the cmap 'sauron' which already exists.\u001b[0m \u001b[0;36m(UserWarning)\u001b[0m\n",
      "\u001b[1;33m[WARNING]: \u001b[0m\u001b[0;39mTrying to register the cmap 'sauron_r' which already exists.\u001b[0m \u001b[0;36m(UserWarning)\u001b[0m\n",
      "\u001b[1;33m[WARNING]: \u001b[0m\u001b[0;39mTrying to register the cmap 'sauron' which already exists.\u001b[0m \u001b[0;36m(UserWarning)\u001b[0m\n",
      "\u001b[1;33m[WARNING]: \u001b[0m\u001b[0;39mTrying to register the cmap 'sauron_r' which already exists.\u001b[0m \u001b[0;36m(UserWarning)\u001b[0m\n"
     ]
    },
    {
     "name": "stdout",
     "output_type": "stream",
     "text": [
      "  Kin PA: 159.0  +/-   5.0  (3*sigma error)\n",
      "Velocity Offset: 0.00\n"
     ]
    },
    {
     "name": "stderr",
     "output_type": "stream",
     "text": [
      "\u001b[1;33m[WARNING]: \u001b[0m\u001b[0;39mTrying to register the cmap 'sauron' which already exists.\u001b[0m \u001b[0;36m(UserWarning)\u001b[0m\n",
      "\u001b[1;33m[WARNING]: \u001b[0m\u001b[0;39mTrying to register the cmap 'sauron_r' which already exists.\u001b[0m \u001b[0;36m(UserWarning)\u001b[0m\n",
      "\u001b[1;33m[WARNING]: \u001b[0m\u001b[0;39mTrying to register the cmap 'sauron' which already exists.\u001b[0m \u001b[0;36m(UserWarning)\u001b[0m\n",
      "\u001b[1;33m[WARNING]: \u001b[0m\u001b[0;39mTrying to register the cmap 'sauron_r' which already exists.\u001b[0m \u001b[0;36m(UserWarning)\u001b[0m\n"
     ]
    },
    {
     "name": "stdout",
     "output_type": "stream",
     "text": [
      "  Kin PA:   4.5  +/-   0.5  (3*sigma error)\n",
      "Velocity Offset: 0.00\n"
     ]
    },
    {
     "name": "stderr",
     "output_type": "stream",
     "text": [
      "\u001b[1;33m[WARNING]: \u001b[0m\u001b[0;39mTrying to register the cmap 'sauron' which already exists.\u001b[0m \u001b[0;36m(UserWarning)\u001b[0m\n",
      "\u001b[1;33m[WARNING]: \u001b[0m\u001b[0;39mTrying to register the cmap 'sauron_r' which already exists.\u001b[0m \u001b[0;36m(UserWarning)\u001b[0m\n",
      "\u001b[1;33m[WARNING]: \u001b[0m\u001b[0;39mTrying to register the cmap 'sauron' which already exists.\u001b[0m \u001b[0;36m(UserWarning)\u001b[0m\n",
      "\u001b[1;33m[WARNING]: \u001b[0m\u001b[0;39mTrying to register the cmap 'sauron_r' which already exists.\u001b[0m \u001b[0;36m(UserWarning)\u001b[0m\n"
     ]
    },
    {
     "name": "stdout",
     "output_type": "stream",
     "text": [
      "  Kin PA:  69.0  +/-  10.8  (3*sigma error)\n",
      "Velocity Offset: 0.00\n"
     ]
    },
    {
     "name": "stderr",
     "output_type": "stream",
     "text": [
      "\u001b[1;33m[WARNING]: \u001b[0m\u001b[0;39mTrying to register the cmap 'sauron' which already exists.\u001b[0m \u001b[0;36m(UserWarning)\u001b[0m\n",
      "\u001b[1;33m[WARNING]: \u001b[0m\u001b[0;39mTrying to register the cmap 'sauron_r' which already exists.\u001b[0m \u001b[0;36m(UserWarning)\u001b[0m\n",
      "\u001b[1;33m[WARNING]: \u001b[0m\u001b[0;39mTrying to register the cmap 'sauron' which already exists.\u001b[0m \u001b[0;36m(UserWarning)\u001b[0m\n",
      "\u001b[1;33m[WARNING]: \u001b[0m\u001b[0;39mTrying to register the cmap 'sauron_r' which already exists.\u001b[0m \u001b[0;36m(UserWarning)\u001b[0m\n"
     ]
    },
    {
     "name": "stdout",
     "output_type": "stream",
     "text": [
      "  Kin PA: 149.0  +/-   0.5  (3*sigma error)\n",
      "Velocity Offset: 0.00\n"
     ]
    },
    {
     "name": "stderr",
     "output_type": "stream",
     "text": [
      "\u001b[1;33m[WARNING]: \u001b[0m\u001b[0;39mTrying to register the cmap 'sauron' which already exists.\u001b[0m \u001b[0;36m(UserWarning)\u001b[0m\n",
      "\u001b[1;33m[WARNING]: \u001b[0m\u001b[0;39mTrying to register the cmap 'sauron_r' which already exists.\u001b[0m \u001b[0;36m(UserWarning)\u001b[0m\n",
      "\u001b[1;33m[WARNING]: \u001b[0m\u001b[0;39mTrying to register the cmap 'sauron' which already exists.\u001b[0m \u001b[0;36m(UserWarning)\u001b[0m\n",
      "\u001b[1;33m[WARNING]: \u001b[0m\u001b[0;39mTrying to register the cmap 'sauron_r' which already exists.\u001b[0m \u001b[0;36m(UserWarning)\u001b[0m\n"
     ]
    },
    {
     "name": "stdout",
     "output_type": "stream",
     "text": [
      "  Kin PA:  88.0  +/-  12.5  (3*sigma error)\n",
      "Velocity Offset: 0.00\n"
     ]
    },
    {
     "name": "stderr",
     "output_type": "stream",
     "text": [
      "\u001b[1;33m[WARNING]: \u001b[0m\u001b[0;39mTrying to register the cmap 'sauron' which already exists.\u001b[0m \u001b[0;36m(UserWarning)\u001b[0m\n",
      "\u001b[1;33m[WARNING]: \u001b[0m\u001b[0;39mTrying to register the cmap 'sauron_r' which already exists.\u001b[0m \u001b[0;36m(UserWarning)\u001b[0m\n",
      "\u001b[1;33m[WARNING]: \u001b[0m\u001b[0;39mTrying to register the cmap 'sauron' which already exists.\u001b[0m \u001b[0;36m(UserWarning)\u001b[0m\n",
      "\u001b[1;33m[WARNING]: \u001b[0m\u001b[0;39mTrying to register the cmap 'sauron_r' which already exists.\u001b[0m \u001b[0;36m(UserWarning)\u001b[0m\n"
     ]
    },
    {
     "name": "stdout",
     "output_type": "stream",
     "text": [
      "  Kin PA:  57.5  +/-   0.5  (3*sigma error)\n",
      "Velocity Offset: 0.00\n"
     ]
    },
    {
     "name": "stderr",
     "output_type": "stream",
     "text": [
      "\u001b[1;33m[WARNING]: \u001b[0m\u001b[0;39mTrying to register the cmap 'sauron' which already exists.\u001b[0m \u001b[0;36m(UserWarning)\u001b[0m\n",
      "\u001b[1;33m[WARNING]: \u001b[0m\u001b[0;39mTrying to register the cmap 'sauron_r' which already exists.\u001b[0m \u001b[0;36m(UserWarning)\u001b[0m\n",
      "\u001b[1;33m[WARNING]: \u001b[0m\u001b[0;39mTrying to register the cmap 'sauron' which already exists.\u001b[0m \u001b[0;36m(UserWarning)\u001b[0m\n",
      "\u001b[1;33m[WARNING]: \u001b[0m\u001b[0;39mTrying to register the cmap 'sauron_r' which already exists.\u001b[0m \u001b[0;36m(UserWarning)\u001b[0m\n"
     ]
    },
    {
     "name": "stdout",
     "output_type": "stream",
     "text": [
      "  Kin PA:  59.5  +/-   9.8  (3*sigma error)\n",
      "Velocity Offset: 0.00\n"
     ]
    },
    {
     "name": "stderr",
     "output_type": "stream",
     "text": [
      "\u001b[1;33m[WARNING]: \u001b[0m\u001b[0;39mTrying to register the cmap 'sauron' which already exists.\u001b[0m \u001b[0;36m(UserWarning)\u001b[0m\n",
      "\u001b[1;33m[WARNING]: \u001b[0m\u001b[0;39mTrying to register the cmap 'sauron_r' which already exists.\u001b[0m \u001b[0;36m(UserWarning)\u001b[0m\n",
      "\u001b[1;33m[WARNING]: \u001b[0m\u001b[0;39mTrying to register the cmap 'sauron' which already exists.\u001b[0m \u001b[0;36m(UserWarning)\u001b[0m\n",
      "\u001b[1;33m[WARNING]: \u001b[0m\u001b[0;39mTrying to register the cmap 'sauron_r' which already exists.\u001b[0m \u001b[0;36m(UserWarning)\u001b[0m\n"
     ]
    },
    {
     "name": "stdout",
     "output_type": "stream",
     "text": [
      "  Kin PA:  23.0  +/-   0.5  (3*sigma error)\n",
      "Velocity Offset: 0.00\n"
     ]
    },
    {
     "name": "stderr",
     "output_type": "stream",
     "text": [
      "\u001b[1;33m[WARNING]: \u001b[0m\u001b[0;39mTrying to register the cmap 'sauron' which already exists.\u001b[0m \u001b[0;36m(UserWarning)\u001b[0m\n",
      "\u001b[1;33m[WARNING]: \u001b[0m\u001b[0;39mTrying to register the cmap 'sauron_r' which already exists.\u001b[0m \u001b[0;36m(UserWarning)\u001b[0m\n",
      "\u001b[1;33m[WARNING]: \u001b[0m\u001b[0;39mTrying to register the cmap 'sauron' which already exists.\u001b[0m \u001b[0;36m(UserWarning)\u001b[0m\n",
      "\u001b[1;33m[WARNING]: \u001b[0m\u001b[0;39mTrying to register the cmap 'sauron_r' which already exists.\u001b[0m \u001b[0;36m(UserWarning)\u001b[0m\n"
     ]
    },
    {
     "name": "stdout",
     "output_type": "stream",
     "text": [
      "  Kin PA: 136.5  +/-   5.2  (3*sigma error)\n",
      "Velocity Offset: 0.00\n"
     ]
    },
    {
     "name": "stderr",
     "output_type": "stream",
     "text": [
      "\u001b[1;33m[WARNING]: \u001b[0m\u001b[0;39mTrying to register the cmap 'sauron' which already exists.\u001b[0m \u001b[0;36m(UserWarning)\u001b[0m\n",
      "\u001b[1;33m[WARNING]: \u001b[0m\u001b[0;39mTrying to register the cmap 'sauron_r' which already exists.\u001b[0m \u001b[0;36m(UserWarning)\u001b[0m\n",
      "\u001b[1;33m[WARNING]: \u001b[0m\u001b[0;39mTrying to register the cmap 'sauron' which already exists.\u001b[0m \u001b[0;36m(UserWarning)\u001b[0m\n",
      "\u001b[1;33m[WARNING]: \u001b[0m\u001b[0;39mTrying to register the cmap 'sauron_r' which already exists.\u001b[0m \u001b[0;36m(UserWarning)\u001b[0m\n"
     ]
    },
    {
     "name": "stdout",
     "output_type": "stream",
     "text": [
      "  Kin PA:  94.0  +/-   0.5  (3*sigma error)\n",
      "Velocity Offset: 0.00\n"
     ]
    },
    {
     "name": "stderr",
     "output_type": "stream",
     "text": [
      "\u001b[1;33m[WARNING]: \u001b[0m\u001b[0;39mTrying to register the cmap 'sauron' which already exists.\u001b[0m \u001b[0;36m(UserWarning)\u001b[0m\n",
      "\u001b[1;33m[WARNING]: \u001b[0m\u001b[0;39mTrying to register the cmap 'sauron_r' which already exists.\u001b[0m \u001b[0;36m(UserWarning)\u001b[0m\n",
      "\u001b[1;33m[WARNING]: \u001b[0m\u001b[0;39mTrying to register the cmap 'sauron' which already exists.\u001b[0m \u001b[0;36m(UserWarning)\u001b[0m\n",
      "\u001b[1;33m[WARNING]: \u001b[0m\u001b[0;39mTrying to register the cmap 'sauron_r' which already exists.\u001b[0m \u001b[0;36m(UserWarning)\u001b[0m\n"
     ]
    },
    {
     "name": "stdout",
     "output_type": "stream",
     "text": [
      "  Kin PA: 151.5  +/-   4.2  (3*sigma error)\n",
      "Velocity Offset: 0.00\n"
     ]
    },
    {
     "name": "stderr",
     "output_type": "stream",
     "text": [
      "\u001b[1;33m[WARNING]: \u001b[0m\u001b[0;39mTrying to register the cmap 'sauron' which already exists.\u001b[0m \u001b[0;36m(UserWarning)\u001b[0m\n",
      "\u001b[1;33m[WARNING]: \u001b[0m\u001b[0;39mTrying to register the cmap 'sauron_r' which already exists.\u001b[0m \u001b[0;36m(UserWarning)\u001b[0m\n",
      "\u001b[1;33m[WARNING]: \u001b[0m\u001b[0;39mTrying to register the cmap 'sauron' which already exists.\u001b[0m \u001b[0;36m(UserWarning)\u001b[0m\n",
      "\u001b[1;33m[WARNING]: \u001b[0m\u001b[0;39mTrying to register the cmap 'sauron_r' which already exists.\u001b[0m \u001b[0;36m(UserWarning)\u001b[0m\n"
     ]
    },
    {
     "name": "stdout",
     "output_type": "stream",
     "text": [
      "  Kin PA:   2.5  +/-   0.5  (3*sigma error)\n",
      "Velocity Offset: 0.00\n"
     ]
    },
    {
     "name": "stderr",
     "output_type": "stream",
     "text": [
      "\u001b[1;33m[WARNING]: \u001b[0m\u001b[0;39mTrying to register the cmap 'sauron' which already exists.\u001b[0m \u001b[0;36m(UserWarning)\u001b[0m\n",
      "\u001b[1;33m[WARNING]: \u001b[0m\u001b[0;39mTrying to register the cmap 'sauron_r' which already exists.\u001b[0m \u001b[0;36m(UserWarning)\u001b[0m\n",
      "\u001b[1;33m[WARNING]: \u001b[0m\u001b[0;39mTrying to register the cmap 'sauron' which already exists.\u001b[0m \u001b[0;36m(UserWarning)\u001b[0m\n",
      "\u001b[1;33m[WARNING]: \u001b[0m\u001b[0;39mTrying to register the cmap 'sauron_r' which already exists.\u001b[0m \u001b[0;36m(UserWarning)\u001b[0m\n"
     ]
    },
    {
     "name": "stdout",
     "output_type": "stream",
     "text": [
      "  Kin PA: 137.5  +/-  13.2  (3*sigma error)\n",
      "Velocity Offset: 0.00\n"
     ]
    },
    {
     "name": "stderr",
     "output_type": "stream",
     "text": [
      "\u001b[1;33m[WARNING]: \u001b[0m\u001b[0;39mTrying to register the cmap 'sauron' which already exists.\u001b[0m \u001b[0;36m(UserWarning)\u001b[0m\n",
      "\u001b[1;33m[WARNING]: \u001b[0m\u001b[0;39mTrying to register the cmap 'sauron_r' which already exists.\u001b[0m \u001b[0;36m(UserWarning)\u001b[0m\n",
      "\u001b[1;33m[WARNING]: \u001b[0m\u001b[0;39mTrying to register the cmap 'sauron' which already exists.\u001b[0m \u001b[0;36m(UserWarning)\u001b[0m\n",
      "\u001b[1;33m[WARNING]: \u001b[0m\u001b[0;39mTrying to register the cmap 'sauron_r' which already exists.\u001b[0m \u001b[0;36m(UserWarning)\u001b[0m\n"
     ]
    },
    {
     "name": "stdout",
     "output_type": "stream",
     "text": [
      "  Kin PA: 108.0  +/-   0.5  (3*sigma error)\n",
      "Velocity Offset: 0.00\n"
     ]
    },
    {
     "name": "stderr",
     "output_type": "stream",
     "text": [
      "\u001b[1;33m[WARNING]: \u001b[0m\u001b[0;39mTrying to register the cmap 'sauron' which already exists.\u001b[0m \u001b[0;36m(UserWarning)\u001b[0m\n",
      "\u001b[1;33m[WARNING]: \u001b[0m\u001b[0;39mTrying to register the cmap 'sauron_r' which already exists.\u001b[0m \u001b[0;36m(UserWarning)\u001b[0m\n",
      "\u001b[1;33m[WARNING]: \u001b[0m\u001b[0;39mTrying to register the cmap 'sauron' which already exists.\u001b[0m \u001b[0;36m(UserWarning)\u001b[0m\n",
      "\u001b[1;33m[WARNING]: \u001b[0m\u001b[0;39mTrying to register the cmap 'sauron_r' which already exists.\u001b[0m \u001b[0;36m(UserWarning)\u001b[0m\n"
     ]
    },
    {
     "name": "stdout",
     "output_type": "stream",
     "text": [
      "  Kin PA: 153.5  +/-   5.5  (3*sigma error)\n",
      "Velocity Offset: 0.00\n"
     ]
    },
    {
     "name": "stderr",
     "output_type": "stream",
     "text": [
      "\u001b[1;33m[WARNING]: \u001b[0m\u001b[0;39mTrying to register the cmap 'sauron' which already exists.\u001b[0m \u001b[0;36m(UserWarning)\u001b[0m\n",
      "\u001b[1;33m[WARNING]: \u001b[0m\u001b[0;39mTrying to register the cmap 'sauron_r' which already exists.\u001b[0m \u001b[0;36m(UserWarning)\u001b[0m\n",
      "\u001b[1;33m[WARNING]: \u001b[0m\u001b[0;39mTrying to register the cmap 'sauron' which already exists.\u001b[0m \u001b[0;36m(UserWarning)\u001b[0m\n",
      "\u001b[1;33m[WARNING]: \u001b[0m\u001b[0;39mTrying to register the cmap 'sauron_r' which already exists.\u001b[0m \u001b[0;36m(UserWarning)\u001b[0m\n"
     ]
    },
    {
     "name": "stdout",
     "output_type": "stream",
     "text": [
      "  Kin PA: 126.5  +/-   0.5  (3*sigma error)\n",
      "Velocity Offset: 0.00\n"
     ]
    },
    {
     "name": "stderr",
     "output_type": "stream",
     "text": [
      "\u001b[1;33m[WARNING]: \u001b[0m\u001b[0;39mTrying to register the cmap 'sauron' which already exists.\u001b[0m \u001b[0;36m(UserWarning)\u001b[0m\n",
      "\u001b[1;33m[WARNING]: \u001b[0m\u001b[0;39mTrying to register the cmap 'sauron_r' which already exists.\u001b[0m \u001b[0;36m(UserWarning)\u001b[0m\n",
      "\u001b[1;33m[WARNING]: \u001b[0m\u001b[0;39mTrying to register the cmap 'sauron' which already exists.\u001b[0m \u001b[0;36m(UserWarning)\u001b[0m\n",
      "\u001b[1;33m[WARNING]: \u001b[0m\u001b[0;39mTrying to register the cmap 'sauron_r' which already exists.\u001b[0m \u001b[0;36m(UserWarning)\u001b[0m\n"
     ]
    },
    {
     "name": "stdout",
     "output_type": "stream",
     "text": [
      "  Kin PA: 175.5  +/-   4.5  (3*sigma error)\n",
      "Velocity Offset: 0.00\n"
     ]
    },
    {
     "name": "stderr",
     "output_type": "stream",
     "text": [
      "\u001b[1;33m[WARNING]: \u001b[0m\u001b[0;39mTrying to register the cmap 'sauron' which already exists.\u001b[0m \u001b[0;36m(UserWarning)\u001b[0m\n",
      "\u001b[1;33m[WARNING]: \u001b[0m\u001b[0;39mTrying to register the cmap 'sauron_r' which already exists.\u001b[0m \u001b[0;36m(UserWarning)\u001b[0m\n",
      "\u001b[1;33m[WARNING]: \u001b[0m\u001b[0;39mTrying to register the cmap 'sauron' which already exists.\u001b[0m \u001b[0;36m(UserWarning)\u001b[0m\n",
      "\u001b[1;33m[WARNING]: \u001b[0m\u001b[0;39mTrying to register the cmap 'sauron_r' which already exists.\u001b[0m \u001b[0;36m(UserWarning)\u001b[0m\n"
     ]
    },
    {
     "name": "stdout",
     "output_type": "stream",
     "text": [
      "  Kin PA:  17.5  +/-   0.5  (3*sigma error)\n",
      "Velocity Offset: 0.00\n"
     ]
    },
    {
     "name": "stderr",
     "output_type": "stream",
     "text": [
      "\u001b[1;33m[WARNING]: \u001b[0m\u001b[0;39mTrying to register the cmap 'sauron' which already exists.\u001b[0m \u001b[0;36m(UserWarning)\u001b[0m\n",
      "\u001b[1;33m[WARNING]: \u001b[0m\u001b[0;39mTrying to register the cmap 'sauron_r' which already exists.\u001b[0m \u001b[0;36m(UserWarning)\u001b[0m\n",
      "\u001b[1;33m[WARNING]: \u001b[0m\u001b[0;39mTrying to register the cmap 'sauron' which already exists.\u001b[0m \u001b[0;36m(UserWarning)\u001b[0m\n",
      "\u001b[1;33m[WARNING]: \u001b[0m\u001b[0;39mTrying to register the cmap 'sauron_r' which already exists.\u001b[0m \u001b[0;36m(UserWarning)\u001b[0m\n"
     ]
    },
    {
     "name": "stdout",
     "output_type": "stream",
     "text": [
      "  Kin PA: 158.0  +/-  36.2  (3*sigma error)\n",
      "Velocity Offset: 0.00\n"
     ]
    },
    {
     "name": "stderr",
     "output_type": "stream",
     "text": [
      "\u001b[1;33m[WARNING]: \u001b[0m\u001b[0;39mTrying to register the cmap 'sauron' which already exists.\u001b[0m \u001b[0;36m(UserWarning)\u001b[0m\n",
      "\u001b[1;33m[WARNING]: \u001b[0m\u001b[0;39mTrying to register the cmap 'sauron_r' which already exists.\u001b[0m \u001b[0;36m(UserWarning)\u001b[0m\n",
      "\u001b[1;33m[WARNING]: \u001b[0m\u001b[0;39mTrying to register the cmap 'sauron' which already exists.\u001b[0m \u001b[0;36m(UserWarning)\u001b[0m\n",
      "\u001b[1;33m[WARNING]: \u001b[0m\u001b[0;39mTrying to register the cmap 'sauron_r' which already exists.\u001b[0m \u001b[0;36m(UserWarning)\u001b[0m\n"
     ]
    },
    {
     "name": "stdout",
     "output_type": "stream",
     "text": [
      "  Kin PA: 165.5  +/-   0.5  (3*sigma error)\n",
      "Velocity Offset: 0.00\n"
     ]
    },
    {
     "name": "stderr",
     "output_type": "stream",
     "text": [
      "\u001b[1;33m[WARNING]: \u001b[0m\u001b[0;39mTrying to register the cmap 'sauron' which already exists.\u001b[0m \u001b[0;36m(UserWarning)\u001b[0m\n",
      "\u001b[1;33m[WARNING]: \u001b[0m\u001b[0;39mTrying to register the cmap 'sauron_r' which already exists.\u001b[0m \u001b[0;36m(UserWarning)\u001b[0m\n",
      "\u001b[1;33m[WARNING]: \u001b[0m\u001b[0;39mTrying to register the cmap 'sauron' which already exists.\u001b[0m \u001b[0;36m(UserWarning)\u001b[0m\n",
      "\u001b[1;33m[WARNING]: \u001b[0m\u001b[0;39mTrying to register the cmap 'sauron_r' which already exists.\u001b[0m \u001b[0;36m(UserWarning)\u001b[0m\n"
     ]
    },
    {
     "name": "stdout",
     "output_type": "stream",
     "text": [
      "  Kin PA:   3.5  +/-   4.3  (3*sigma error)\n",
      "Velocity Offset: 0.00\n"
     ]
    },
    {
     "name": "stderr",
     "output_type": "stream",
     "text": [
      "\u001b[1;33m[WARNING]: \u001b[0m\u001b[0;39mTrying to register the cmap 'sauron' which already exists.\u001b[0m \u001b[0;36m(UserWarning)\u001b[0m\n",
      "\u001b[1;33m[WARNING]: \u001b[0m\u001b[0;39mTrying to register the cmap 'sauron_r' which already exists.\u001b[0m \u001b[0;36m(UserWarning)\u001b[0m\n",
      "\u001b[1;33m[WARNING]: \u001b[0m\u001b[0;39mTrying to register the cmap 'sauron' which already exists.\u001b[0m \u001b[0;36m(UserWarning)\u001b[0m\n",
      "\u001b[1;33m[WARNING]: \u001b[0m\u001b[0;39mTrying to register the cmap 'sauron_r' which already exists.\u001b[0m \u001b[0;36m(UserWarning)\u001b[0m\n"
     ]
    },
    {
     "name": "stdout",
     "output_type": "stream",
     "text": [
      "  Kin PA:  78.0  +/-   0.5  (3*sigma error)\n",
      "Velocity Offset: 0.00\n"
     ]
    },
    {
     "name": "stderr",
     "output_type": "stream",
     "text": [
      "\u001b[1;33m[WARNING]: \u001b[0m\u001b[0;39mTrying to register the cmap 'sauron' which already exists.\u001b[0m \u001b[0;36m(UserWarning)\u001b[0m\n",
      "\u001b[1;33m[WARNING]: \u001b[0m\u001b[0;39mTrying to register the cmap 'sauron_r' which already exists.\u001b[0m \u001b[0;36m(UserWarning)\u001b[0m\n",
      "\u001b[1;33m[WARNING]: \u001b[0m\u001b[0;39mTrying to register the cmap 'sauron' which already exists.\u001b[0m \u001b[0;36m(UserWarning)\u001b[0m\n",
      "\u001b[1;33m[WARNING]: \u001b[0m\u001b[0;39mTrying to register the cmap 'sauron_r' which already exists.\u001b[0m \u001b[0;36m(UserWarning)\u001b[0m\n"
     ]
    },
    {
     "name": "stdout",
     "output_type": "stream",
     "text": [
      "  Kin PA:   1.0  +/-   7.2  (3*sigma error)\n",
      "Velocity Offset: 0.00\n"
     ]
    },
    {
     "name": "stderr",
     "output_type": "stream",
     "text": [
      "\u001b[1;33m[WARNING]: \u001b[0m\u001b[0;39mTrying to register the cmap 'sauron' which already exists.\u001b[0m \u001b[0;36m(UserWarning)\u001b[0m\n",
      "\u001b[1;33m[WARNING]: \u001b[0m\u001b[0;39mTrying to register the cmap 'sauron_r' which already exists.\u001b[0m \u001b[0;36m(UserWarning)\u001b[0m\n",
      "\u001b[1;33m[WARNING]: \u001b[0m\u001b[0;39mTrying to register the cmap 'sauron' which already exists.\u001b[0m \u001b[0;36m(UserWarning)\u001b[0m\n",
      "\u001b[1;33m[WARNING]: \u001b[0m\u001b[0;39mTrying to register the cmap 'sauron_r' which already exists.\u001b[0m \u001b[0;36m(UserWarning)\u001b[0m\n"
     ]
    },
    {
     "name": "stdout",
     "output_type": "stream",
     "text": [
      "  Kin PA: 160.5  +/-   0.5  (3*sigma error)\n",
      "Velocity Offset: 0.00\n"
     ]
    },
    {
     "name": "stderr",
     "output_type": "stream",
     "text": [
      "\u001b[1;33m[WARNING]: \u001b[0m\u001b[0;39mTrying to register the cmap 'sauron' which already exists.\u001b[0m \u001b[0;36m(UserWarning)\u001b[0m\n",
      "\u001b[1;33m[WARNING]: \u001b[0m\u001b[0;39mTrying to register the cmap 'sauron_r' which already exists.\u001b[0m \u001b[0;36m(UserWarning)\u001b[0m\n",
      "\u001b[1;33m[WARNING]: \u001b[0m\u001b[0;39mTrying to register the cmap 'sauron' which already exists.\u001b[0m \u001b[0;36m(UserWarning)\u001b[0m\n",
      "\u001b[1;33m[WARNING]: \u001b[0m\u001b[0;39mTrying to register the cmap 'sauron_r' which already exists.\u001b[0m \u001b[0;36m(UserWarning)\u001b[0m\n"
     ]
    },
    {
     "name": "stdout",
     "output_type": "stream",
     "text": [
      "  Kin PA: 126.5  +/-   9.8  (3*sigma error)\n",
      "Velocity Offset: 0.00\n"
     ]
    },
    {
     "name": "stderr",
     "output_type": "stream",
     "text": [
      "\u001b[1;33m[WARNING]: \u001b[0m\u001b[0;39mTrying to register the cmap 'sauron' which already exists.\u001b[0m \u001b[0;36m(UserWarning)\u001b[0m\n",
      "\u001b[1;33m[WARNING]: \u001b[0m\u001b[0;39mTrying to register the cmap 'sauron_r' which already exists.\u001b[0m \u001b[0;36m(UserWarning)\u001b[0m\n",
      "\u001b[1;33m[WARNING]: \u001b[0m\u001b[0;39mTrying to register the cmap 'sauron' which already exists.\u001b[0m \u001b[0;36m(UserWarning)\u001b[0m\n",
      "\u001b[1;33m[WARNING]: \u001b[0m\u001b[0;39mTrying to register the cmap 'sauron_r' which already exists.\u001b[0m \u001b[0;36m(UserWarning)\u001b[0m\n"
     ]
    },
    {
     "name": "stdout",
     "output_type": "stream",
     "text": [
      "  Kin PA:  60.0  +/-   0.5  (3*sigma error)\n",
      "Velocity Offset: 0.00\n"
     ]
    },
    {
     "name": "stderr",
     "output_type": "stream",
     "text": [
      "\u001b[1;33m[WARNING]: \u001b[0m\u001b[0;39mTrying to register the cmap 'sauron' which already exists.\u001b[0m \u001b[0;36m(UserWarning)\u001b[0m\n",
      "\u001b[1;33m[WARNING]: \u001b[0m\u001b[0;39mTrying to register the cmap 'sauron_r' which already exists.\u001b[0m \u001b[0;36m(UserWarning)\u001b[0m\n",
      "\u001b[1;33m[WARNING]: \u001b[0m\u001b[0;39mTrying to register the cmap 'sauron' which already exists.\u001b[0m \u001b[0;36m(UserWarning)\u001b[0m\n",
      "\u001b[1;33m[WARNING]: \u001b[0m\u001b[0;39mTrying to register the cmap 'sauron_r' which already exists.\u001b[0m \u001b[0;36m(UserWarning)\u001b[0m\n"
     ]
    },
    {
     "name": "stdout",
     "output_type": "stream",
     "text": [
      "  Kin PA:  40.0  +/-  13.8  (3*sigma error)\n",
      "Velocity Offset: 0.00\n"
     ]
    },
    {
     "name": "stderr",
     "output_type": "stream",
     "text": [
      "\u001b[1;33m[WARNING]: \u001b[0m\u001b[0;39mTrying to register the cmap 'sauron' which already exists.\u001b[0m \u001b[0;36m(UserWarning)\u001b[0m\n",
      "\u001b[1;33m[WARNING]: \u001b[0m\u001b[0;39mTrying to register the cmap 'sauron_r' which already exists.\u001b[0m \u001b[0;36m(UserWarning)\u001b[0m\n",
      "\u001b[1;33m[WARNING]: \u001b[0m\u001b[0;39mTrying to register the cmap 'sauron' which already exists.\u001b[0m \u001b[0;36m(UserWarning)\u001b[0m\n",
      "\u001b[1;33m[WARNING]: \u001b[0m\u001b[0;39mTrying to register the cmap 'sauron_r' which already exists.\u001b[0m \u001b[0;36m(UserWarning)\u001b[0m\n"
     ]
    },
    {
     "name": "stdout",
     "output_type": "stream",
     "text": [
      "  Kin PA:  17.5  +/-   0.5  (3*sigma error)\n",
      "Velocity Offset: 0.00\n"
     ]
    },
    {
     "name": "stderr",
     "output_type": "stream",
     "text": [
      "\u001b[1;33m[WARNING]: \u001b[0m\u001b[0;39mTrying to register the cmap 'sauron' which already exists.\u001b[0m \u001b[0;36m(UserWarning)\u001b[0m\n",
      "\u001b[1;33m[WARNING]: \u001b[0m\u001b[0;39mTrying to register the cmap 'sauron_r' which already exists.\u001b[0m \u001b[0;36m(UserWarning)\u001b[0m\n",
      "\u001b[1;33m[WARNING]: \u001b[0m\u001b[0;39mTrying to register the cmap 'sauron' which already exists.\u001b[0m \u001b[0;36m(UserWarning)\u001b[0m\n",
      "\u001b[1;33m[WARNING]: \u001b[0m\u001b[0;39mTrying to register the cmap 'sauron_r' which already exists.\u001b[0m \u001b[0;36m(UserWarning)\u001b[0m\n"
     ]
    },
    {
     "name": "stdout",
     "output_type": "stream",
     "text": [
      "  Kin PA: 112.5  +/-  10.8  (3*sigma error)\n",
      "Velocity Offset: 0.00\n"
     ]
    },
    {
     "name": "stderr",
     "output_type": "stream",
     "text": [
      "\u001b[1;33m[WARNING]: \u001b[0m\u001b[0;39mTrying to register the cmap 'sauron' which already exists.\u001b[0m \u001b[0;36m(UserWarning)\u001b[0m\n",
      "\u001b[1;33m[WARNING]: \u001b[0m\u001b[0;39mTrying to register the cmap 'sauron_r' which already exists.\u001b[0m \u001b[0;36m(UserWarning)\u001b[0m\n",
      "\u001b[1;33m[WARNING]: \u001b[0m\u001b[0;39mTrying to register the cmap 'sauron' which already exists.\u001b[0m \u001b[0;36m(UserWarning)\u001b[0m\n",
      "\u001b[1;33m[WARNING]: \u001b[0m\u001b[0;39mTrying to register the cmap 'sauron_r' which already exists.\u001b[0m \u001b[0;36m(UserWarning)\u001b[0m\n"
     ]
    },
    {
     "name": "stdout",
     "output_type": "stream",
     "text": [
      "  Kin PA: 121.0  +/-   0.5  (3*sigma error)\n",
      "Velocity Offset: 0.00\n"
     ]
    },
    {
     "name": "stderr",
     "output_type": "stream",
     "text": [
      "\u001b[1;33m[WARNING]: \u001b[0m\u001b[0;39mTrying to register the cmap 'sauron' which already exists.\u001b[0m \u001b[0;36m(UserWarning)\u001b[0m\n",
      "\u001b[1;33m[WARNING]: \u001b[0m\u001b[0;39mTrying to register the cmap 'sauron_r' which already exists.\u001b[0m \u001b[0;36m(UserWarning)\u001b[0m\n",
      "\u001b[1;33m[WARNING]: \u001b[0m\u001b[0;39mTrying to register the cmap 'sauron' which already exists.\u001b[0m \u001b[0;36m(UserWarning)\u001b[0m\n",
      "\u001b[1;33m[WARNING]: \u001b[0m\u001b[0;39mTrying to register the cmap 'sauron_r' which already exists.\u001b[0m \u001b[0;36m(UserWarning)\u001b[0m\n"
     ]
    },
    {
     "name": "stdout",
     "output_type": "stream",
     "text": [
      "  Kin PA:   3.5  +/-  17.3  (3*sigma error)\n",
      "Velocity Offset: 0.00\n"
     ]
    },
    {
     "name": "stderr",
     "output_type": "stream",
     "text": [
      "\u001b[1;33m[WARNING]: \u001b[0m\u001b[0;39mTrying to register the cmap 'sauron' which already exists.\u001b[0m \u001b[0;36m(UserWarning)\u001b[0m\n",
      "\u001b[1;33m[WARNING]: \u001b[0m\u001b[0;39mTrying to register the cmap 'sauron_r' which already exists.\u001b[0m \u001b[0;36m(UserWarning)\u001b[0m\n",
      "\u001b[1;33m[WARNING]: \u001b[0m\u001b[0;39mTrying to register the cmap 'sauron' which already exists.\u001b[0m \u001b[0;36m(UserWarning)\u001b[0m\n",
      "\u001b[1;33m[WARNING]: \u001b[0m\u001b[0;39mTrying to register the cmap 'sauron_r' which already exists.\u001b[0m \u001b[0;36m(UserWarning)\u001b[0m\n"
     ]
    },
    {
     "name": "stdout",
     "output_type": "stream",
     "text": [
      "  Kin PA:  52.5  +/-   0.5  (3*sigma error)\n",
      "Velocity Offset: 0.00\n"
     ]
    },
    {
     "name": "stderr",
     "output_type": "stream",
     "text": [
      "\u001b[1;33m[WARNING]: \u001b[0m\u001b[0;39mTrying to register the cmap 'sauron' which already exists.\u001b[0m \u001b[0;36m(UserWarning)\u001b[0m\n",
      "\u001b[1;33m[WARNING]: \u001b[0m\u001b[0;39mTrying to register the cmap 'sauron_r' which already exists.\u001b[0m \u001b[0;36m(UserWarning)\u001b[0m\n",
      "\u001b[1;33m[WARNING]: \u001b[0m\u001b[0;39mTrying to register the cmap 'sauron' which already exists.\u001b[0m \u001b[0;36m(UserWarning)\u001b[0m\n",
      "\u001b[1;33m[WARNING]: \u001b[0m\u001b[0;39mTrying to register the cmap 'sauron_r' which already exists.\u001b[0m \u001b[0;36m(UserWarning)\u001b[0m\n"
     ]
    },
    {
     "name": "stdout",
     "output_type": "stream",
     "text": [
      "  Kin PA: 174.0  +/-  12.8  (3*sigma error)\n",
      "Velocity Offset: 0.00\n"
     ]
    },
    {
     "name": "stderr",
     "output_type": "stream",
     "text": [
      "\u001b[1;33m[WARNING]: \u001b[0m\u001b[0;39mTrying to register the cmap 'sauron' which already exists.\u001b[0m \u001b[0;36m(UserWarning)\u001b[0m\n",
      "\u001b[1;33m[WARNING]: \u001b[0m\u001b[0;39mTrying to register the cmap 'sauron_r' which already exists.\u001b[0m \u001b[0;36m(UserWarning)\u001b[0m\n",
      "\u001b[1;33m[WARNING]: \u001b[0m\u001b[0;39mTrying to register the cmap 'sauron' which already exists.\u001b[0m \u001b[0;36m(UserWarning)\u001b[0m\n",
      "\u001b[1;33m[WARNING]: \u001b[0m\u001b[0;39mTrying to register the cmap 'sauron_r' which already exists.\u001b[0m \u001b[0;36m(UserWarning)\u001b[0m\n"
     ]
    },
    {
     "name": "stdout",
     "output_type": "stream",
     "text": [
      "  Kin PA:  74.5  +/-   0.5  (3*sigma error)\n",
      "Velocity Offset: 0.00\n"
     ]
    },
    {
     "name": "stderr",
     "output_type": "stream",
     "text": [
      "\u001b[1;33m[WARNING]: \u001b[0m\u001b[0;39mTrying to register the cmap 'sauron' which already exists.\u001b[0m \u001b[0;36m(UserWarning)\u001b[0m\n",
      "\u001b[1;33m[WARNING]: \u001b[0m\u001b[0;39mTrying to register the cmap 'sauron_r' which already exists.\u001b[0m \u001b[0;36m(UserWarning)\u001b[0m\n",
      "\u001b[1;33m[WARNING]: \u001b[0m\u001b[0;39mTrying to register the cmap 'sauron' which already exists.\u001b[0m \u001b[0;36m(UserWarning)\u001b[0m\n",
      "\u001b[1;33m[WARNING]: \u001b[0m\u001b[0;39mTrying to register the cmap 'sauron_r' which already exists.\u001b[0m \u001b[0;36m(UserWarning)\u001b[0m\n"
     ]
    },
    {
     "name": "stdout",
     "output_type": "stream",
     "text": [
      "  Kin PA:  75.0  +/-  12.8  (3*sigma error)\n",
      "Velocity Offset: 0.00\n"
     ]
    },
    {
     "name": "stderr",
     "output_type": "stream",
     "text": [
      "\u001b[1;33m[WARNING]: \u001b[0m\u001b[0;39mTrying to register the cmap 'sauron' which already exists.\u001b[0m \u001b[0;36m(UserWarning)\u001b[0m\n",
      "\u001b[1;33m[WARNING]: \u001b[0m\u001b[0;39mTrying to register the cmap 'sauron_r' which already exists.\u001b[0m \u001b[0;36m(UserWarning)\u001b[0m\n",
      "\u001b[1;33m[WARNING]: \u001b[0m\u001b[0;39mTrying to register the cmap 'sauron' which already exists.\u001b[0m \u001b[0;36m(UserWarning)\u001b[0m\n",
      "\u001b[1;33m[WARNING]: \u001b[0m\u001b[0;39mTrying to register the cmap 'sauron_r' which already exists.\u001b[0m \u001b[0;36m(UserWarning)\u001b[0m\n"
     ]
    },
    {
     "name": "stdout",
     "output_type": "stream",
     "text": [
      "  Kin PA:  10.0  +/-   0.5  (3*sigma error)\n",
      "Velocity Offset: 0.00\n"
     ]
    },
    {
     "name": "stderr",
     "output_type": "stream",
     "text": [
      "\u001b[1;33m[WARNING]: \u001b[0m\u001b[0;39mTrying to register the cmap 'sauron' which already exists.\u001b[0m \u001b[0;36m(UserWarning)\u001b[0m\n",
      "\u001b[1;33m[WARNING]: \u001b[0m\u001b[0;39mTrying to register the cmap 'sauron_r' which already exists.\u001b[0m \u001b[0;36m(UserWarning)\u001b[0m\n",
      "\u001b[1;33m[WARNING]: \u001b[0m\u001b[0;39mTrying to register the cmap 'sauron' which already exists.\u001b[0m \u001b[0;36m(UserWarning)\u001b[0m\n",
      "\u001b[1;33m[WARNING]: \u001b[0m\u001b[0;39mTrying to register the cmap 'sauron_r' which already exists.\u001b[0m \u001b[0;36m(UserWarning)\u001b[0m\n"
     ]
    },
    {
     "name": "stdout",
     "output_type": "stream",
     "text": [
      "  Kin PA:  51.5  +/-  29.8  (3*sigma error)\n",
      "Velocity Offset: 0.00\n"
     ]
    },
    {
     "name": "stderr",
     "output_type": "stream",
     "text": [
      "\u001b[1;33m[WARNING]: \u001b[0m\u001b[0;39mTrying to register the cmap 'sauron' which already exists.\u001b[0m \u001b[0;36m(UserWarning)\u001b[0m\n",
      "\u001b[1;33m[WARNING]: \u001b[0m\u001b[0;39mTrying to register the cmap 'sauron_r' which already exists.\u001b[0m \u001b[0;36m(UserWarning)\u001b[0m\n",
      "\u001b[1;33m[WARNING]: \u001b[0m\u001b[0;39mTrying to register the cmap 'sauron' which already exists.\u001b[0m \u001b[0;36m(UserWarning)\u001b[0m\n",
      "\u001b[1;33m[WARNING]: \u001b[0m\u001b[0;39mTrying to register the cmap 'sauron_r' which already exists.\u001b[0m \u001b[0;36m(UserWarning)\u001b[0m\n"
     ]
    },
    {
     "name": "stdout",
     "output_type": "stream",
     "text": [
      "  Kin PA:  91.5  +/-   0.5  (3*sigma error)\n",
      "Velocity Offset: 0.00\n"
     ]
    },
    {
     "name": "stderr",
     "output_type": "stream",
     "text": [
      "\u001b[1;33m[WARNING]: \u001b[0m\u001b[0;39mTrying to register the cmap 'sauron' which already exists.\u001b[0m \u001b[0;36m(UserWarning)\u001b[0m\n",
      "\u001b[1;33m[WARNING]: \u001b[0m\u001b[0;39mTrying to register the cmap 'sauron_r' which already exists.\u001b[0m \u001b[0;36m(UserWarning)\u001b[0m\n",
      "\u001b[1;33m[WARNING]: \u001b[0m\u001b[0;39mTrying to register the cmap 'sauron' which already exists.\u001b[0m \u001b[0;36m(UserWarning)\u001b[0m\n",
      "\u001b[1;33m[WARNING]: \u001b[0m\u001b[0;39mTrying to register the cmap 'sauron_r' which already exists.\u001b[0m \u001b[0;36m(UserWarning)\u001b[0m\n"
     ]
    },
    {
     "name": "stdout",
     "output_type": "stream",
     "text": [
      "  Kin PA:  75.5  +/-  33.2  (3*sigma error)\n",
      "Velocity Offset: 0.00\n"
     ]
    },
    {
     "name": "stderr",
     "output_type": "stream",
     "text": [
      "\u001b[1;33m[WARNING]: \u001b[0m\u001b[0;39mTrying to register the cmap 'sauron' which already exists.\u001b[0m \u001b[0;36m(UserWarning)\u001b[0m\n",
      "\u001b[1;33m[WARNING]: \u001b[0m\u001b[0;39mTrying to register the cmap 'sauron_r' which already exists.\u001b[0m \u001b[0;36m(UserWarning)\u001b[0m\n",
      "\u001b[1;33m[WARNING]: \u001b[0m\u001b[0;39mTrying to register the cmap 'sauron' which already exists.\u001b[0m \u001b[0;36m(UserWarning)\u001b[0m\n",
      "\u001b[1;33m[WARNING]: \u001b[0m\u001b[0;39mTrying to register the cmap 'sauron_r' which already exists.\u001b[0m \u001b[0;36m(UserWarning)\u001b[0m\n"
     ]
    },
    {
     "name": "stdout",
     "output_type": "stream",
     "text": [
      "  Kin PA:  18.5  +/-  12.2  (3*sigma error)\n",
      "Velocity Offset: 0.00\n"
     ]
    },
    {
     "name": "stderr",
     "output_type": "stream",
     "text": [
      "\u001b[1;33m[WARNING]: \u001b[0m\u001b[0;39mTrying to register the cmap 'sauron' which already exists.\u001b[0m \u001b[0;36m(UserWarning)\u001b[0m\n",
      "\u001b[1;33m[WARNING]: \u001b[0m\u001b[0;39mTrying to register the cmap 'sauron_r' which already exists.\u001b[0m \u001b[0;36m(UserWarning)\u001b[0m\n",
      "\u001b[1;33m[WARNING]: \u001b[0m\u001b[0;39mTrying to register the cmap 'sauron' which already exists.\u001b[0m \u001b[0;36m(UserWarning)\u001b[0m\n",
      "\u001b[1;33m[WARNING]: \u001b[0m\u001b[0;39mTrying to register the cmap 'sauron_r' which already exists.\u001b[0m \u001b[0;36m(UserWarning)\u001b[0m\n"
     ]
    },
    {
     "name": "stdout",
     "output_type": "stream",
     "text": [
      "  Kin PA:  27.5  +/-  10.2  (3*sigma error)\n",
      "Velocity Offset: 0.00\n"
     ]
    },
    {
     "name": "stderr",
     "output_type": "stream",
     "text": [
      "\u001b[1;33m[WARNING]: \u001b[0m\u001b[0;39mTrying to register the cmap 'sauron' which already exists.\u001b[0m \u001b[0;36m(UserWarning)\u001b[0m\n",
      "\u001b[1;33m[WARNING]: \u001b[0m\u001b[0;39mTrying to register the cmap 'sauron_r' which already exists.\u001b[0m \u001b[0;36m(UserWarning)\u001b[0m\n",
      "\u001b[1;33m[WARNING]: \u001b[0m\u001b[0;39mTrying to register the cmap 'sauron' which already exists.\u001b[0m \u001b[0;36m(UserWarning)\u001b[0m\n",
      "\u001b[1;33m[WARNING]: \u001b[0m\u001b[0;39mTrying to register the cmap 'sauron_r' which already exists.\u001b[0m \u001b[0;36m(UserWarning)\u001b[0m\n"
     ]
    },
    {
     "name": "stdout",
     "output_type": "stream",
     "text": [
      "  Kin PA:  32.5  +/-   0.5  (3*sigma error)\n",
      "Velocity Offset: 0.00\n"
     ]
    },
    {
     "name": "stderr",
     "output_type": "stream",
     "text": [
      "\u001b[1;33m[WARNING]: \u001b[0m\u001b[0;39mTrying to register the cmap 'sauron' which already exists.\u001b[0m \u001b[0;36m(UserWarning)\u001b[0m\n",
      "\u001b[1;33m[WARNING]: \u001b[0m\u001b[0;39mTrying to register the cmap 'sauron_r' which already exists.\u001b[0m \u001b[0;36m(UserWarning)\u001b[0m\n",
      "\u001b[1;33m[WARNING]: \u001b[0m\u001b[0;39mTrying to register the cmap 'sauron' which already exists.\u001b[0m \u001b[0;36m(UserWarning)\u001b[0m\n",
      "\u001b[1;33m[WARNING]: \u001b[0m\u001b[0;39mTrying to register the cmap 'sauron_r' which already exists.\u001b[0m \u001b[0;36m(UserWarning)\u001b[0m\n"
     ]
    },
    {
     "name": "stdout",
     "output_type": "stream",
     "text": [
      "  Kin PA: 173.0  +/-   7.3  (3*sigma error)\n",
      "Velocity Offset: 0.00\n"
     ]
    },
    {
     "name": "stderr",
     "output_type": "stream",
     "text": [
      "\u001b[1;33m[WARNING]: \u001b[0m\u001b[0;39mTrying to register the cmap 'sauron' which already exists.\u001b[0m \u001b[0;36m(UserWarning)\u001b[0m\n",
      "\u001b[1;33m[WARNING]: \u001b[0m\u001b[0;39mTrying to register the cmap 'sauron_r' which already exists.\u001b[0m \u001b[0;36m(UserWarning)\u001b[0m\n",
      "\u001b[1;33m[WARNING]: \u001b[0m\u001b[0;39mTrying to register the cmap 'sauron' which already exists.\u001b[0m \u001b[0;36m(UserWarning)\u001b[0m\n",
      "\u001b[1;33m[WARNING]: \u001b[0m\u001b[0;39mTrying to register the cmap 'sauron_r' which already exists.\u001b[0m \u001b[0;36m(UserWarning)\u001b[0m\n"
     ]
    },
    {
     "name": "stdout",
     "output_type": "stream",
     "text": [
      "  Kin PA:  13.0  +/-   0.5  (3*sigma error)\n",
      "Velocity Offset: 0.00\n"
     ]
    },
    {
     "name": "stderr",
     "output_type": "stream",
     "text": [
      "\u001b[1;33m[WARNING]: \u001b[0m\u001b[0;39mTrying to register the cmap 'sauron' which already exists.\u001b[0m \u001b[0;36m(UserWarning)\u001b[0m\n",
      "\u001b[1;33m[WARNING]: \u001b[0m\u001b[0;39mTrying to register the cmap 'sauron_r' which already exists.\u001b[0m \u001b[0;36m(UserWarning)\u001b[0m\n",
      "\u001b[1;33m[WARNING]: \u001b[0m\u001b[0;39mTrying to register the cmap 'sauron' which already exists.\u001b[0m \u001b[0;36m(UserWarning)\u001b[0m\n",
      "\u001b[1;33m[WARNING]: \u001b[0m\u001b[0;39mTrying to register the cmap 'sauron_r' which already exists.\u001b[0m \u001b[0;36m(UserWarning)\u001b[0m\n"
     ]
    },
    {
     "name": "stdout",
     "output_type": "stream",
     "text": [
      "  Kin PA:  98.5  +/-  16.5  (3*sigma error)\n",
      "Velocity Offset: 0.00\n"
     ]
    },
    {
     "name": "stderr",
     "output_type": "stream",
     "text": [
      "\u001b[1;33m[WARNING]: \u001b[0m\u001b[0;39mTrying to register the cmap 'sauron' which already exists.\u001b[0m \u001b[0;36m(UserWarning)\u001b[0m\n",
      "\u001b[1;33m[WARNING]: \u001b[0m\u001b[0;39mTrying to register the cmap 'sauron_r' which already exists.\u001b[0m \u001b[0;36m(UserWarning)\u001b[0m\n",
      "\u001b[1;33m[WARNING]: \u001b[0m\u001b[0;39mTrying to register the cmap 'sauron' which already exists.\u001b[0m \u001b[0;36m(UserWarning)\u001b[0m\n",
      "\u001b[1;33m[WARNING]: \u001b[0m\u001b[0;39mTrying to register the cmap 'sauron_r' which already exists.\u001b[0m \u001b[0;36m(UserWarning)\u001b[0m\n"
     ]
    },
    {
     "name": "stdout",
     "output_type": "stream",
     "text": [
      "  Kin PA:   5.0  +/-   0.5  (3*sigma error)\n",
      "Velocity Offset: 0.00\n"
     ]
    },
    {
     "name": "stderr",
     "output_type": "stream",
     "text": [
      "\u001b[1;33m[WARNING]: \u001b[0m\u001b[0;39mTrying to register the cmap 'sauron' which already exists.\u001b[0m \u001b[0;36m(UserWarning)\u001b[0m\n",
      "\u001b[1;33m[WARNING]: \u001b[0m\u001b[0;39mTrying to register the cmap 'sauron_r' which already exists.\u001b[0m \u001b[0;36m(UserWarning)\u001b[0m\n",
      "\u001b[1;33m[WARNING]: \u001b[0m\u001b[0;39mTrying to register the cmap 'sauron' which already exists.\u001b[0m \u001b[0;36m(UserWarning)\u001b[0m\n",
      "\u001b[1;33m[WARNING]: \u001b[0m\u001b[0;39mTrying to register the cmap 'sauron_r' which already exists.\u001b[0m \u001b[0;36m(UserWarning)\u001b[0m\n"
     ]
    },
    {
     "name": "stdout",
     "output_type": "stream",
     "text": [
      "  Kin PA:  65.5  +/-  39.5  (3*sigma error)\n",
      "Velocity Offset: 0.00\n"
     ]
    },
    {
     "name": "stderr",
     "output_type": "stream",
     "text": [
      "\u001b[1;33m[WARNING]: \u001b[0m\u001b[0;39mTrying to register the cmap 'sauron' which already exists.\u001b[0m \u001b[0;36m(UserWarning)\u001b[0m\n",
      "\u001b[1;33m[WARNING]: \u001b[0m\u001b[0;39mTrying to register the cmap 'sauron_r' which already exists.\u001b[0m \u001b[0;36m(UserWarning)\u001b[0m\n",
      "\u001b[1;33m[WARNING]: \u001b[0m\u001b[0;39mTrying to register the cmap 'sauron' which already exists.\u001b[0m \u001b[0;36m(UserWarning)\u001b[0m\n",
      "\u001b[1;33m[WARNING]: \u001b[0m\u001b[0;39mTrying to register the cmap 'sauron_r' which already exists.\u001b[0m \u001b[0;36m(UserWarning)\u001b[0m\n"
     ]
    },
    {
     "name": "stdout",
     "output_type": "stream",
     "text": [
      "  Kin PA: 154.0  +/-   0.5  (3*sigma error)\n",
      "Velocity Offset: 0.00\n"
     ]
    },
    {
     "name": "stderr",
     "output_type": "stream",
     "text": [
      "\u001b[1;33m[WARNING]: \u001b[0m\u001b[0;39mTrying to register the cmap 'sauron' which already exists.\u001b[0m \u001b[0;36m(UserWarning)\u001b[0m\n",
      "\u001b[1;33m[WARNING]: \u001b[0m\u001b[0;39mTrying to register the cmap 'sauron_r' which already exists.\u001b[0m \u001b[0;36m(UserWarning)\u001b[0m\n",
      "\u001b[1;33m[WARNING]: \u001b[0m\u001b[0;39mTrying to register the cmap 'sauron' which already exists.\u001b[0m \u001b[0;36m(UserWarning)\u001b[0m\n",
      "\u001b[1;33m[WARNING]: \u001b[0m\u001b[0;39mTrying to register the cmap 'sauron_r' which already exists.\u001b[0m \u001b[0;36m(UserWarning)\u001b[0m\n"
     ]
    },
    {
     "name": "stdout",
     "output_type": "stream",
     "text": [
      "  Kin PA:  23.5  +/-  89.8  (3*sigma error)\n",
      "Velocity Offset: 0.00\n"
     ]
    },
    {
     "name": "stderr",
     "output_type": "stream",
     "text": [
      "\u001b[1;33m[WARNING]: \u001b[0m\u001b[0;39mTrying to register the cmap 'sauron' which already exists.\u001b[0m \u001b[0;36m(UserWarning)\u001b[0m\n",
      "\u001b[1;33m[WARNING]: \u001b[0m\u001b[0;39mTrying to register the cmap 'sauron_r' which already exists.\u001b[0m \u001b[0;36m(UserWarning)\u001b[0m\n",
      "\u001b[1;33m[WARNING]: \u001b[0m\u001b[0;39mTrying to register the cmap 'sauron' which already exists.\u001b[0m \u001b[0;36m(UserWarning)\u001b[0m\n",
      "\u001b[1;33m[WARNING]: \u001b[0m\u001b[0;39mTrying to register the cmap 'sauron_r' which already exists.\u001b[0m \u001b[0;36m(UserWarning)\u001b[0m\n"
     ]
    },
    {
     "name": "stdout",
     "output_type": "stream",
     "text": [
      "  Kin PA:  18.0  +/-   0.5  (3*sigma error)\n",
      "Velocity Offset: 0.00\n"
     ]
    },
    {
     "name": "stderr",
     "output_type": "stream",
     "text": [
      "\u001b[1;33m[WARNING]: \u001b[0m\u001b[0;39mTrying to register the cmap 'sauron' which already exists.\u001b[0m \u001b[0;36m(UserWarning)\u001b[0m\n",
      "\u001b[1;33m[WARNING]: \u001b[0m\u001b[0;39mTrying to register the cmap 'sauron_r' which already exists.\u001b[0m \u001b[0;36m(UserWarning)\u001b[0m\n",
      "\u001b[1;33m[WARNING]: \u001b[0m\u001b[0;39mTrying to register the cmap 'sauron' which already exists.\u001b[0m \u001b[0;36m(UserWarning)\u001b[0m\n",
      "\u001b[1;33m[WARNING]: \u001b[0m\u001b[0;39mTrying to register the cmap 'sauron_r' which already exists.\u001b[0m \u001b[0;36m(UserWarning)\u001b[0m\n"
     ]
    },
    {
     "name": "stdout",
     "output_type": "stream",
     "text": [
      "  Kin PA: 101.0  +/-  17.5  (3*sigma error)\n",
      "Velocity Offset: 0.00\n"
     ]
    },
    {
     "name": "stderr",
     "output_type": "stream",
     "text": [
      "\u001b[1;33m[WARNING]: \u001b[0m\u001b[0;39mTrying to register the cmap 'sauron' which already exists.\u001b[0m \u001b[0;36m(UserWarning)\u001b[0m\n",
      "\u001b[1;33m[WARNING]: \u001b[0m\u001b[0;39mTrying to register the cmap 'sauron_r' which already exists.\u001b[0m \u001b[0;36m(UserWarning)\u001b[0m\n",
      "\u001b[1;33m[WARNING]: \u001b[0m\u001b[0;39mTrying to register the cmap 'sauron' which already exists.\u001b[0m \u001b[0;36m(UserWarning)\u001b[0m\n",
      "\u001b[1;33m[WARNING]: \u001b[0m\u001b[0;39mTrying to register the cmap 'sauron_r' which already exists.\u001b[0m \u001b[0;36m(UserWarning)\u001b[0m\n"
     ]
    },
    {
     "name": "stdout",
     "output_type": "stream",
     "text": [
      "  Kin PA: 158.5  +/-   2.0  (3*sigma error)\n",
      "Velocity Offset: 0.00\n"
     ]
    },
    {
     "name": "stderr",
     "output_type": "stream",
     "text": [
      "\u001b[1;33m[WARNING]: \u001b[0m\u001b[0;39mTrying to register the cmap 'sauron' which already exists.\u001b[0m \u001b[0;36m(UserWarning)\u001b[0m\n",
      "\u001b[1;33m[WARNING]: \u001b[0m\u001b[0;39mTrying to register the cmap 'sauron_r' which already exists.\u001b[0m \u001b[0;36m(UserWarning)\u001b[0m\n",
      "\u001b[1;33m[WARNING]: \u001b[0m\u001b[0;39mTrying to register the cmap 'sauron' which already exists.\u001b[0m \u001b[0;36m(UserWarning)\u001b[0m\n",
      "\u001b[1;33m[WARNING]: \u001b[0m\u001b[0;39mTrying to register the cmap 'sauron_r' which already exists.\u001b[0m \u001b[0;36m(UserWarning)\u001b[0m\n"
     ]
    },
    {
     "name": "stdout",
     "output_type": "stream",
     "text": [
      "  Kin PA:  84.5  +/-   9.5  (3*sigma error)\n",
      "Velocity Offset: 0.00\n"
     ]
    },
    {
     "name": "stderr",
     "output_type": "stream",
     "text": [
      "\u001b[1;33m[WARNING]: \u001b[0m\u001b[0;39mTrying to register the cmap 'sauron' which already exists.\u001b[0m \u001b[0;36m(UserWarning)\u001b[0m\n",
      "\u001b[1;33m[WARNING]: \u001b[0m\u001b[0;39mTrying to register the cmap 'sauron_r' which already exists.\u001b[0m \u001b[0;36m(UserWarning)\u001b[0m\n",
      "\u001b[1;33m[WARNING]: \u001b[0m\u001b[0;39mTrying to register the cmap 'sauron' which already exists.\u001b[0m \u001b[0;36m(UserWarning)\u001b[0m\n",
      "\u001b[1;33m[WARNING]: \u001b[0m\u001b[0;39mTrying to register the cmap 'sauron_r' which already exists.\u001b[0m \u001b[0;36m(UserWarning)\u001b[0m\n"
     ]
    },
    {
     "name": "stdout",
     "output_type": "stream",
     "text": [
      "  Kin PA:  14.5  +/-   0.5  (3*sigma error)\n",
      "Velocity Offset: 0.00\n"
     ]
    },
    {
     "name": "stderr",
     "output_type": "stream",
     "text": [
      "\u001b[1;33m[WARNING]: \u001b[0m\u001b[0;39mTrying to register the cmap 'sauron' which already exists.\u001b[0m \u001b[0;36m(UserWarning)\u001b[0m\n",
      "\u001b[1;33m[WARNING]: \u001b[0m\u001b[0;39mTrying to register the cmap 'sauron_r' which already exists.\u001b[0m \u001b[0;36m(UserWarning)\u001b[0m\n",
      "\u001b[1;33m[WARNING]: \u001b[0m\u001b[0;39mTrying to register the cmap 'sauron' which already exists.\u001b[0m \u001b[0;36m(UserWarning)\u001b[0m\n",
      "\u001b[1;33m[WARNING]: \u001b[0m\u001b[0;39mTrying to register the cmap 'sauron_r' which already exists.\u001b[0m \u001b[0;36m(UserWarning)\u001b[0m\n"
     ]
    },
    {
     "name": "stdout",
     "output_type": "stream",
     "text": [
      "  Kin PA:   6.5  +/-   5.2  (3*sigma error)\n",
      "Velocity Offset: 0.00\n"
     ]
    },
    {
     "name": "stderr",
     "output_type": "stream",
     "text": [
      "\u001b[1;33m[WARNING]: \u001b[0m\u001b[0;39mTrying to register the cmap 'sauron' which already exists.\u001b[0m \u001b[0;36m(UserWarning)\u001b[0m\n",
      "\u001b[1;33m[WARNING]: \u001b[0m\u001b[0;39mTrying to register the cmap 'sauron_r' which already exists.\u001b[0m \u001b[0;36m(UserWarning)\u001b[0m\n",
      "\u001b[1;33m[WARNING]: \u001b[0m\u001b[0;39mTrying to register the cmap 'sauron' which already exists.\u001b[0m \u001b[0;36m(UserWarning)\u001b[0m\n",
      "\u001b[1;33m[WARNING]: \u001b[0m\u001b[0;39mTrying to register the cmap 'sauron_r' which already exists.\u001b[0m \u001b[0;36m(UserWarning)\u001b[0m\n"
     ]
    },
    {
     "name": "stdout",
     "output_type": "stream",
     "text": [
      "  Kin PA:  61.5  +/-   0.5  (3*sigma error)\n",
      "Velocity Offset: 0.00\n"
     ]
    },
    {
     "name": "stderr",
     "output_type": "stream",
     "text": [
      "\u001b[1;33m[WARNING]: \u001b[0m\u001b[0;39mTrying to register the cmap 'sauron' which already exists.\u001b[0m \u001b[0;36m(UserWarning)\u001b[0m\n",
      "\u001b[1;33m[WARNING]: \u001b[0m\u001b[0;39mTrying to register the cmap 'sauron_r' which already exists.\u001b[0m \u001b[0;36m(UserWarning)\u001b[0m\n",
      "\u001b[1;33m[WARNING]: \u001b[0m\u001b[0;39mTrying to register the cmap 'sauron' which already exists.\u001b[0m \u001b[0;36m(UserWarning)\u001b[0m\n",
      "\u001b[1;33m[WARNING]: \u001b[0m\u001b[0;39mTrying to register the cmap 'sauron_r' which already exists.\u001b[0m \u001b[0;36m(UserWarning)\u001b[0m\n"
     ]
    },
    {
     "name": "stdout",
     "output_type": "stream",
     "text": [
      "  Kin PA:   9.0  +/-  18.5  (3*sigma error)\n",
      "Velocity Offset: 0.00\n"
     ]
    },
    {
     "name": "stderr",
     "output_type": "stream",
     "text": [
      "\u001b[1;33m[WARNING]: \u001b[0m\u001b[0;39mTrying to register the cmap 'sauron' which already exists.\u001b[0m \u001b[0;36m(UserWarning)\u001b[0m\n",
      "\u001b[1;33m[WARNING]: \u001b[0m\u001b[0;39mTrying to register the cmap 'sauron_r' which already exists.\u001b[0m \u001b[0;36m(UserWarning)\u001b[0m\n",
      "\u001b[1;33m[WARNING]: \u001b[0m\u001b[0;39mTrying to register the cmap 'sauron' which already exists.\u001b[0m \u001b[0;36m(UserWarning)\u001b[0m\n",
      "\u001b[1;33m[WARNING]: \u001b[0m\u001b[0;39mTrying to register the cmap 'sauron_r' which already exists.\u001b[0m \u001b[0;36m(UserWarning)\u001b[0m\n"
     ]
    },
    {
     "name": "stdout",
     "output_type": "stream",
     "text": [
      "  Kin PA: 159.5  +/-   0.5  (3*sigma error)\n",
      "Velocity Offset: 0.00\n"
     ]
    },
    {
     "name": "stderr",
     "output_type": "stream",
     "text": [
      "\u001b[1;33m[WARNING]: \u001b[0m\u001b[0;39mTrying to register the cmap 'sauron' which already exists.\u001b[0m \u001b[0;36m(UserWarning)\u001b[0m\n",
      "\u001b[1;33m[WARNING]: \u001b[0m\u001b[0;39mTrying to register the cmap 'sauron_r' which already exists.\u001b[0m \u001b[0;36m(UserWarning)\u001b[0m\n",
      "\u001b[1;33m[WARNING]: \u001b[0m\u001b[0;39mTrying to register the cmap 'sauron' which already exists.\u001b[0m \u001b[0;36m(UserWarning)\u001b[0m\n",
      "\u001b[1;33m[WARNING]: \u001b[0m\u001b[0;39mTrying to register the cmap 'sauron_r' which already exists.\u001b[0m \u001b[0;36m(UserWarning)\u001b[0m\n"
     ]
    },
    {
     "name": "stdout",
     "output_type": "stream",
     "text": [
      "  Kin PA:  57.5  +/-  13.8  (3*sigma error)\n",
      "Velocity Offset: 0.00\n"
     ]
    },
    {
     "name": "stderr",
     "output_type": "stream",
     "text": [
      "\u001b[1;33m[WARNING]: \u001b[0m\u001b[0;39mTrying to register the cmap 'sauron' which already exists.\u001b[0m \u001b[0;36m(UserWarning)\u001b[0m\n",
      "\u001b[1;33m[WARNING]: \u001b[0m\u001b[0;39mTrying to register the cmap 'sauron_r' which already exists.\u001b[0m \u001b[0;36m(UserWarning)\u001b[0m\n",
      "\u001b[1;33m[WARNING]: \u001b[0m\u001b[0;39mTrying to register the cmap 'sauron' which already exists.\u001b[0m \u001b[0;36m(UserWarning)\u001b[0m\n",
      "\u001b[1;33m[WARNING]: \u001b[0m\u001b[0;39mTrying to register the cmap 'sauron_r' which already exists.\u001b[0m \u001b[0;36m(UserWarning)\u001b[0m\n"
     ]
    },
    {
     "name": "stdout",
     "output_type": "stream",
     "text": [
      "  Kin PA: 147.0  +/-   0.5  (3*sigma error)\n",
      "Velocity Offset: 0.00\n"
     ]
    },
    {
     "name": "stderr",
     "output_type": "stream",
     "text": [
      "\u001b[1;33m[WARNING]: \u001b[0m\u001b[0;39mTrying to register the cmap 'sauron' which already exists.\u001b[0m \u001b[0;36m(UserWarning)\u001b[0m\n",
      "\u001b[1;33m[WARNING]: \u001b[0m\u001b[0;39mTrying to register the cmap 'sauron_r' which already exists.\u001b[0m \u001b[0;36m(UserWarning)\u001b[0m\n",
      "\u001b[1;33m[WARNING]: \u001b[0m\u001b[0;39mTrying to register the cmap 'sauron' which already exists.\u001b[0m \u001b[0;36m(UserWarning)\u001b[0m\n",
      "\u001b[1;33m[WARNING]: \u001b[0m\u001b[0;39mTrying to register the cmap 'sauron_r' which already exists.\u001b[0m \u001b[0;36m(UserWarning)\u001b[0m\n"
     ]
    },
    {
     "name": "stdout",
     "output_type": "stream",
     "text": [
      "  Kin PA: 144.0  +/-   2.8  (3*sigma error)\n",
      "Velocity Offset: 0.00\n"
     ]
    },
    {
     "name": "stderr",
     "output_type": "stream",
     "text": [
      "\u001b[1;33m[WARNING]: \u001b[0m\u001b[0;39mTrying to register the cmap 'sauron' which already exists.\u001b[0m \u001b[0;36m(UserWarning)\u001b[0m\n",
      "\u001b[1;33m[WARNING]: \u001b[0m\u001b[0;39mTrying to register the cmap 'sauron_r' which already exists.\u001b[0m \u001b[0;36m(UserWarning)\u001b[0m\n",
      "\u001b[1;33m[WARNING]: \u001b[0m\u001b[0;39mTrying to register the cmap 'sauron' which already exists.\u001b[0m \u001b[0;36m(UserWarning)\u001b[0m\n",
      "\u001b[1;33m[WARNING]: \u001b[0m\u001b[0;39mTrying to register the cmap 'sauron_r' which already exists.\u001b[0m \u001b[0;36m(UserWarning)\u001b[0m\n"
     ]
    },
    {
     "name": "stdout",
     "output_type": "stream",
     "text": [
      "  Kin PA:  57.5  +/-   0.5  (3*sigma error)\n",
      "Velocity Offset: 0.00\n"
     ]
    },
    {
     "name": "stderr",
     "output_type": "stream",
     "text": [
      "\u001b[1;33m[WARNING]: \u001b[0m\u001b[0;39mTrying to register the cmap 'sauron' which already exists.\u001b[0m \u001b[0;36m(UserWarning)\u001b[0m\n",
      "\u001b[1;33m[WARNING]: \u001b[0m\u001b[0;39mTrying to register the cmap 'sauron_r' which already exists.\u001b[0m \u001b[0;36m(UserWarning)\u001b[0m\n",
      "\u001b[1;33m[WARNING]: \u001b[0m\u001b[0;39mTrying to register the cmap 'sauron' which already exists.\u001b[0m \u001b[0;36m(UserWarning)\u001b[0m\n",
      "\u001b[1;33m[WARNING]: \u001b[0m\u001b[0;39mTrying to register the cmap 'sauron_r' which already exists.\u001b[0m \u001b[0;36m(UserWarning)\u001b[0m\n"
     ]
    },
    {
     "name": "stdout",
     "output_type": "stream",
     "text": [
      "  Kin PA: 134.0  +/-   5.0  (3*sigma error)\n",
      "Velocity Offset: 0.00\n"
     ]
    },
    {
     "name": "stderr",
     "output_type": "stream",
     "text": [
      "\u001b[1;33m[WARNING]: \u001b[0m\u001b[0;39mTrying to register the cmap 'sauron' which already exists.\u001b[0m \u001b[0;36m(UserWarning)\u001b[0m\n",
      "\u001b[1;33m[WARNING]: \u001b[0m\u001b[0;39mTrying to register the cmap 'sauron_r' which already exists.\u001b[0m \u001b[0;36m(UserWarning)\u001b[0m\n",
      "\u001b[1;33m[WARNING]: \u001b[0m\u001b[0;39mTrying to register the cmap 'sauron' which already exists.\u001b[0m \u001b[0;36m(UserWarning)\u001b[0m\n",
      "\u001b[1;33m[WARNING]: \u001b[0m\u001b[0;39mTrying to register the cmap 'sauron_r' which already exists.\u001b[0m \u001b[0;36m(UserWarning)\u001b[0m\n"
     ]
    },
    {
     "name": "stdout",
     "output_type": "stream",
     "text": [
      "  Kin PA:  74.5  +/-   0.5  (3*sigma error)\n",
      "Velocity Offset: 0.00\n"
     ]
    },
    {
     "name": "stderr",
     "output_type": "stream",
     "text": [
      "\u001b[1;33m[WARNING]: \u001b[0m\u001b[0;39mTrying to register the cmap 'sauron' which already exists.\u001b[0m \u001b[0;36m(UserWarning)\u001b[0m\n",
      "\u001b[1;33m[WARNING]: \u001b[0m\u001b[0;39mTrying to register the cmap 'sauron_r' which already exists.\u001b[0m \u001b[0;36m(UserWarning)\u001b[0m\n",
      "\u001b[1;33m[WARNING]: \u001b[0m\u001b[0;39mTrying to register the cmap 'sauron' which already exists.\u001b[0m \u001b[0;36m(UserWarning)\u001b[0m\n",
      "\u001b[1;33m[WARNING]: \u001b[0m\u001b[0;39mTrying to register the cmap 'sauron_r' which already exists.\u001b[0m \u001b[0;36m(UserWarning)\u001b[0m\n"
     ]
    },
    {
     "name": "stdout",
     "output_type": "stream",
     "text": [
      "  Kin PA: 148.0  +/-  12.5  (3*sigma error)\n",
      "Velocity Offset: 0.00\n"
     ]
    },
    {
     "name": "stderr",
     "output_type": "stream",
     "text": [
      "\u001b[1;33m[WARNING]: \u001b[0m\u001b[0;39mTrying to register the cmap 'sauron' which already exists.\u001b[0m \u001b[0;36m(UserWarning)\u001b[0m\n",
      "\u001b[1;33m[WARNING]: \u001b[0m\u001b[0;39mTrying to register the cmap 'sauron_r' which already exists.\u001b[0m \u001b[0;36m(UserWarning)\u001b[0m\n",
      "\u001b[1;33m[WARNING]: \u001b[0m\u001b[0;39mTrying to register the cmap 'sauron' which already exists.\u001b[0m \u001b[0;36m(UserWarning)\u001b[0m\n",
      "\u001b[1;33m[WARNING]: \u001b[0m\u001b[0;39mTrying to register the cmap 'sauron_r' which already exists.\u001b[0m \u001b[0;36m(UserWarning)\u001b[0m\n"
     ]
    },
    {
     "name": "stdout",
     "output_type": "stream",
     "text": [
      "  Kin PA:  66.0  +/-   0.5  (3*sigma error)\n",
      "Velocity Offset: 0.00\n"
     ]
    },
    {
     "name": "stderr",
     "output_type": "stream",
     "text": [
      "\u001b[1;33m[WARNING]: \u001b[0m\u001b[0;39mTrying to register the cmap 'sauron' which already exists.\u001b[0m \u001b[0;36m(UserWarning)\u001b[0m\n",
      "\u001b[1;33m[WARNING]: \u001b[0m\u001b[0;39mTrying to register the cmap 'sauron_r' which already exists.\u001b[0m \u001b[0;36m(UserWarning)\u001b[0m\n",
      "\u001b[1;33m[WARNING]: \u001b[0m\u001b[0;39mTrying to register the cmap 'sauron' which already exists.\u001b[0m \u001b[0;36m(UserWarning)\u001b[0m\n",
      "\u001b[1;33m[WARNING]: \u001b[0m\u001b[0;39mTrying to register the cmap 'sauron_r' which already exists.\u001b[0m \u001b[0;36m(UserWarning)\u001b[0m\n"
     ]
    },
    {
     "name": "stdout",
     "output_type": "stream",
     "text": [
      "  Kin PA: 155.0  +/-   6.0  (3*sigma error)\n",
      "Velocity Offset: 0.00\n"
     ]
    },
    {
     "name": "stderr",
     "output_type": "stream",
     "text": [
      "\u001b[1;33m[WARNING]: \u001b[0m\u001b[0;39mTrying to register the cmap 'sauron' which already exists.\u001b[0m \u001b[0;36m(UserWarning)\u001b[0m\n",
      "\u001b[1;33m[WARNING]: \u001b[0m\u001b[0;39mTrying to register the cmap 'sauron_r' which already exists.\u001b[0m \u001b[0;36m(UserWarning)\u001b[0m\n",
      "\u001b[1;33m[WARNING]: \u001b[0m\u001b[0;39mTrying to register the cmap 'sauron' which already exists.\u001b[0m \u001b[0;36m(UserWarning)\u001b[0m\n",
      "\u001b[1;33m[WARNING]: \u001b[0m\u001b[0;39mTrying to register the cmap 'sauron_r' which already exists.\u001b[0m \u001b[0;36m(UserWarning)\u001b[0m\n"
     ]
    },
    {
     "name": "stdout",
     "output_type": "stream",
     "text": [
      "  Kin PA:  72.0  +/-   0.5  (3*sigma error)\n",
      "Velocity Offset: 0.00\n"
     ]
    },
    {
     "name": "stderr",
     "output_type": "stream",
     "text": [
      "\u001b[1;33m[WARNING]: \u001b[0m\u001b[0;39mTrying to register the cmap 'sauron' which already exists.\u001b[0m \u001b[0;36m(UserWarning)\u001b[0m\n",
      "\u001b[1;33m[WARNING]: \u001b[0m\u001b[0;39mTrying to register the cmap 'sauron_r' which already exists.\u001b[0m \u001b[0;36m(UserWarning)\u001b[0m\n",
      "\u001b[1;33m[WARNING]: \u001b[0m\u001b[0;39mTrying to register the cmap 'sauron' which already exists.\u001b[0m \u001b[0;36m(UserWarning)\u001b[0m\n",
      "\u001b[1;33m[WARNING]: \u001b[0m\u001b[0;39mTrying to register the cmap 'sauron_r' which already exists.\u001b[0m \u001b[0;36m(UserWarning)\u001b[0m\n"
     ]
    },
    {
     "name": "stdout",
     "output_type": "stream",
     "text": [
      "  Kin PA:  65.5  +/-  24.0  (3*sigma error)\n",
      "Velocity Offset: 0.00\n"
     ]
    },
    {
     "name": "stderr",
     "output_type": "stream",
     "text": [
      "\u001b[1;33m[WARNING]: \u001b[0m\u001b[0;39mTrying to register the cmap 'sauron' which already exists.\u001b[0m \u001b[0;36m(UserWarning)\u001b[0m\n",
      "\u001b[1;33m[WARNING]: \u001b[0m\u001b[0;39mTrying to register the cmap 'sauron_r' which already exists.\u001b[0m \u001b[0;36m(UserWarning)\u001b[0m\n",
      "\u001b[1;33m[WARNING]: \u001b[0m\u001b[0;39mTrying to register the cmap 'sauron' which already exists.\u001b[0m \u001b[0;36m(UserWarning)\u001b[0m\n",
      "\u001b[1;33m[WARNING]: \u001b[0m\u001b[0;39mTrying to register the cmap 'sauron_r' which already exists.\u001b[0m \u001b[0;36m(UserWarning)\u001b[0m\n"
     ]
    },
    {
     "name": "stdout",
     "output_type": "stream",
     "text": [
      "  Kin PA:  15.0  +/-   0.5  (3*sigma error)\n",
      "Velocity Offset: 0.00\n"
     ]
    },
    {
     "name": "stderr",
     "output_type": "stream",
     "text": [
      "\u001b[1;33m[WARNING]: \u001b[0m\u001b[0;39mTrying to register the cmap 'sauron' which already exists.\u001b[0m \u001b[0;36m(UserWarning)\u001b[0m\n",
      "\u001b[1;33m[WARNING]: \u001b[0m\u001b[0;39mTrying to register the cmap 'sauron_r' which already exists.\u001b[0m \u001b[0;36m(UserWarning)\u001b[0m\n",
      "\u001b[1;33m[WARNING]: \u001b[0m\u001b[0;39mTrying to register the cmap 'sauron' which already exists.\u001b[0m \u001b[0;36m(UserWarning)\u001b[0m\n",
      "\u001b[1;33m[WARNING]: \u001b[0m\u001b[0;39mTrying to register the cmap 'sauron_r' which already exists.\u001b[0m \u001b[0;36m(UserWarning)\u001b[0m\n"
     ]
    },
    {
     "name": "stdout",
     "output_type": "stream",
     "text": [
      "  Kin PA: 128.0  +/-  10.0  (3*sigma error)\n",
      "Velocity Offset: 0.00\n"
     ]
    },
    {
     "name": "stderr",
     "output_type": "stream",
     "text": [
      "\u001b[1;33m[WARNING]: \u001b[0m\u001b[0;39mTrying to register the cmap 'sauron' which already exists.\u001b[0m \u001b[0;36m(UserWarning)\u001b[0m\n",
      "\u001b[1;33m[WARNING]: \u001b[0m\u001b[0;39mTrying to register the cmap 'sauron_r' which already exists.\u001b[0m \u001b[0;36m(UserWarning)\u001b[0m\n",
      "\u001b[1;33m[WARNING]: \u001b[0m\u001b[0;39mTrying to register the cmap 'sauron' which already exists.\u001b[0m \u001b[0;36m(UserWarning)\u001b[0m\n",
      "\u001b[1;33m[WARNING]: \u001b[0m\u001b[0;39mTrying to register the cmap 'sauron_r' which already exists.\u001b[0m \u001b[0;36m(UserWarning)\u001b[0m\n"
     ]
    },
    {
     "name": "stdout",
     "output_type": "stream",
     "text": [
      "  Kin PA: 138.0  +/-   0.5  (3*sigma error)\n",
      "Velocity Offset: 0.00\n"
     ]
    },
    {
     "name": "stderr",
     "output_type": "stream",
     "text": [
      "\u001b[1;33m[WARNING]: \u001b[0m\u001b[0;39mTrying to register the cmap 'sauron' which already exists.\u001b[0m \u001b[0;36m(UserWarning)\u001b[0m\n",
      "\u001b[1;33m[WARNING]: \u001b[0m\u001b[0;39mTrying to register the cmap 'sauron_r' which already exists.\u001b[0m \u001b[0;36m(UserWarning)\u001b[0m\n",
      "\u001b[1;33m[WARNING]: \u001b[0m\u001b[0;39mTrying to register the cmap 'sauron' which already exists.\u001b[0m \u001b[0;36m(UserWarning)\u001b[0m\n",
      "\u001b[1;33m[WARNING]: \u001b[0m\u001b[0;39mTrying to register the cmap 'sauron_r' which already exists.\u001b[0m \u001b[0;36m(UserWarning)\u001b[0m\n"
     ]
    },
    {
     "name": "stdout",
     "output_type": "stream",
     "text": [
      "  Kin PA: 150.5  +/-  11.8  (3*sigma error)\n",
      "Velocity Offset: 0.00\n"
     ]
    },
    {
     "name": "stderr",
     "output_type": "stream",
     "text": [
      "\u001b[1;33m[WARNING]: \u001b[0m\u001b[0;39mTrying to register the cmap 'sauron' which already exists.\u001b[0m \u001b[0;36m(UserWarning)\u001b[0m\n",
      "\u001b[1;33m[WARNING]: \u001b[0m\u001b[0;39mTrying to register the cmap 'sauron_r' which already exists.\u001b[0m \u001b[0;36m(UserWarning)\u001b[0m\n",
      "\u001b[1;33m[WARNING]: \u001b[0m\u001b[0;39mTrying to register the cmap 'sauron' which already exists.\u001b[0m \u001b[0;36m(UserWarning)\u001b[0m\n",
      "\u001b[1;33m[WARNING]: \u001b[0m\u001b[0;39mTrying to register the cmap 'sauron_r' which already exists.\u001b[0m \u001b[0;36m(UserWarning)\u001b[0m\n"
     ]
    },
    {
     "name": "stdout",
     "output_type": "stream",
     "text": [
      "  Kin PA:  75.0  +/-   0.5  (3*sigma error)\n",
      "Velocity Offset: 0.00\n"
     ]
    },
    {
     "name": "stderr",
     "output_type": "stream",
     "text": [
      "\u001b[1;33m[WARNING]: \u001b[0m\u001b[0;39mTrying to register the cmap 'sauron' which already exists.\u001b[0m \u001b[0;36m(UserWarning)\u001b[0m\n",
      "\u001b[1;33m[WARNING]: \u001b[0m\u001b[0;39mTrying to register the cmap 'sauron_r' which already exists.\u001b[0m \u001b[0;36m(UserWarning)\u001b[0m\n",
      "\u001b[1;33m[WARNING]: \u001b[0m\u001b[0;39mTrying to register the cmap 'sauron' which already exists.\u001b[0m \u001b[0;36m(UserWarning)\u001b[0m\n",
      "\u001b[1;33m[WARNING]: \u001b[0m\u001b[0;39mTrying to register the cmap 'sauron_r' which already exists.\u001b[0m \u001b[0;36m(UserWarning)\u001b[0m\n"
     ]
    },
    {
     "name": "stdout",
     "output_type": "stream",
     "text": [
      "  Kin PA:  77.0  +/-   2.2  (3*sigma error)\n",
      "Velocity Offset: 0.00\n"
     ]
    },
    {
     "name": "stderr",
     "output_type": "stream",
     "text": [
      "\u001b[1;33m[WARNING]: \u001b[0m\u001b[0;39mTrying to register the cmap 'sauron' which already exists.\u001b[0m \u001b[0;36m(UserWarning)\u001b[0m\n",
      "\u001b[1;33m[WARNING]: \u001b[0m\u001b[0;39mTrying to register the cmap 'sauron_r' which already exists.\u001b[0m \u001b[0;36m(UserWarning)\u001b[0m\n",
      "\u001b[1;33m[WARNING]: \u001b[0m\u001b[0;39mTrying to register the cmap 'sauron' which already exists.\u001b[0m \u001b[0;36m(UserWarning)\u001b[0m\n",
      "\u001b[1;33m[WARNING]: \u001b[0m\u001b[0;39mTrying to register the cmap 'sauron_r' which already exists.\u001b[0m \u001b[0;36m(UserWarning)\u001b[0m\n"
     ]
    },
    {
     "name": "stdout",
     "output_type": "stream",
     "text": [
      "  Kin PA:   5.5  +/-   0.5  (3*sigma error)\n",
      "Velocity Offset: 0.00\n"
     ]
    },
    {
     "name": "stderr",
     "output_type": "stream",
     "text": [
      "\u001b[1;33m[WARNING]: \u001b[0m\u001b[0;39mTrying to register the cmap 'sauron' which already exists.\u001b[0m \u001b[0;36m(UserWarning)\u001b[0m\n",
      "\u001b[1;33m[WARNING]: \u001b[0m\u001b[0;39mTrying to register the cmap 'sauron_r' which already exists.\u001b[0m \u001b[0;36m(UserWarning)\u001b[0m\n",
      "\u001b[1;33m[WARNING]: \u001b[0m\u001b[0;39mTrying to register the cmap 'sauron' which already exists.\u001b[0m \u001b[0;36m(UserWarning)\u001b[0m\n",
      "\u001b[1;33m[WARNING]: \u001b[0m\u001b[0;39mTrying to register the cmap 'sauron_r' which already exists.\u001b[0m \u001b[0;36m(UserWarning)\u001b[0m\n"
     ]
    },
    {
     "name": "stdout",
     "output_type": "stream",
     "text": [
      "  Kin PA: 162.5  +/-  11.8  (3*sigma error)\n",
      "Velocity Offset: 0.00\n"
     ]
    },
    {
     "name": "stderr",
     "output_type": "stream",
     "text": [
      "\u001b[1;33m[WARNING]: \u001b[0m\u001b[0;39mTrying to register the cmap 'sauron' which already exists.\u001b[0m \u001b[0;36m(UserWarning)\u001b[0m\n",
      "\u001b[1;33m[WARNING]: \u001b[0m\u001b[0;39mTrying to register the cmap 'sauron_r' which already exists.\u001b[0m \u001b[0;36m(UserWarning)\u001b[0m\n",
      "\u001b[1;33m[WARNING]: \u001b[0m\u001b[0;39mTrying to register the cmap 'sauron' which already exists.\u001b[0m \u001b[0;36m(UserWarning)\u001b[0m\n",
      "\u001b[1;33m[WARNING]: \u001b[0m\u001b[0;39mTrying to register the cmap 'sauron_r' which already exists.\u001b[0m \u001b[0;36m(UserWarning)\u001b[0m\n"
     ]
    },
    {
     "name": "stdout",
     "output_type": "stream",
     "text": [
      "  Kin PA:   2.5  +/-   8.0  (3*sigma error)\n",
      "Velocity Offset: 0.00\n"
     ]
    },
    {
     "name": "stderr",
     "output_type": "stream",
     "text": [
      "\u001b[1;33m[WARNING]: \u001b[0m\u001b[0;39mTrying to register the cmap 'sauron' which already exists.\u001b[0m \u001b[0;36m(UserWarning)\u001b[0m\n",
      "\u001b[1;33m[WARNING]: \u001b[0m\u001b[0;39mTrying to register the cmap 'sauron_r' which already exists.\u001b[0m \u001b[0;36m(UserWarning)\u001b[0m\n",
      "\u001b[1;33m[WARNING]: \u001b[0m\u001b[0;39mTrying to register the cmap 'sauron' which already exists.\u001b[0m \u001b[0;36m(UserWarning)\u001b[0m\n",
      "\u001b[1;33m[WARNING]: \u001b[0m\u001b[0;39mTrying to register the cmap 'sauron_r' which already exists.\u001b[0m \u001b[0;36m(UserWarning)\u001b[0m\n"
     ]
    },
    {
     "name": "stdout",
     "output_type": "stream",
     "text": [
      "  Kin PA: 123.5  +/-  11.2  (3*sigma error)\n",
      "Velocity Offset: 0.00\n"
     ]
    },
    {
     "name": "stderr",
     "output_type": "stream",
     "text": [
      "\u001b[1;33m[WARNING]: \u001b[0m\u001b[0;39mTrying to register the cmap 'sauron' which already exists.\u001b[0m \u001b[0;36m(UserWarning)\u001b[0m\n",
      "\u001b[1;33m[WARNING]: \u001b[0m\u001b[0;39mTrying to register the cmap 'sauron_r' which already exists.\u001b[0m \u001b[0;36m(UserWarning)\u001b[0m\n",
      "\u001b[1;33m[WARNING]: \u001b[0m\u001b[0;39mTrying to register the cmap 'sauron' which already exists.\u001b[0m \u001b[0;36m(UserWarning)\u001b[0m\n",
      "\u001b[1;33m[WARNING]: \u001b[0m\u001b[0;39mTrying to register the cmap 'sauron_r' which already exists.\u001b[0m \u001b[0;36m(UserWarning)\u001b[0m\n"
     ]
    },
    {
     "name": "stdout",
     "output_type": "stream",
     "text": [
      "  Kin PA:   9.0  +/-   0.5  (3*sigma error)\n",
      "Velocity Offset: 0.00\n"
     ]
    },
    {
     "name": "stderr",
     "output_type": "stream",
     "text": [
      "\u001b[1;33m[WARNING]: \u001b[0m\u001b[0;39mTrying to register the cmap 'sauron' which already exists.\u001b[0m \u001b[0;36m(UserWarning)\u001b[0m\n",
      "\u001b[1;33m[WARNING]: \u001b[0m\u001b[0;39mTrying to register the cmap 'sauron_r' which already exists.\u001b[0m \u001b[0;36m(UserWarning)\u001b[0m\n",
      "\u001b[1;33m[WARNING]: \u001b[0m\u001b[0;39mTrying to register the cmap 'sauron' which already exists.\u001b[0m \u001b[0;36m(UserWarning)\u001b[0m\n",
      "\u001b[1;33m[WARNING]: \u001b[0m\u001b[0;39mTrying to register the cmap 'sauron_r' which already exists.\u001b[0m \u001b[0;36m(UserWarning)\u001b[0m\n"
     ]
    },
    {
     "name": "stdout",
     "output_type": "stream",
     "text": [
      "  Kin PA: 101.0  +/-  89.8  (3*sigma error)\n",
      "Velocity Offset: 0.00\n"
     ]
    },
    {
     "name": "stderr",
     "output_type": "stream",
     "text": [
      "\u001b[1;33m[WARNING]: \u001b[0m\u001b[0;39mTrying to register the cmap 'sauron' which already exists.\u001b[0m \u001b[0;36m(UserWarning)\u001b[0m\n",
      "\u001b[1;33m[WARNING]: \u001b[0m\u001b[0;39mTrying to register the cmap 'sauron_r' which already exists.\u001b[0m \u001b[0;36m(UserWarning)\u001b[0m\n",
      "\u001b[1;33m[WARNING]: \u001b[0m\u001b[0;39mTrying to register the cmap 'sauron' which already exists.\u001b[0m \u001b[0;36m(UserWarning)\u001b[0m\n",
      "\u001b[1;33m[WARNING]: \u001b[0m\u001b[0;39mTrying to register the cmap 'sauron_r' which already exists.\u001b[0m \u001b[0;36m(UserWarning)\u001b[0m\n"
     ]
    },
    {
     "name": "stdout",
     "output_type": "stream",
     "text": [
      "  Kin PA:  36.5  +/-   0.5  (3*sigma error)\n",
      "Velocity Offset: 0.00\n"
     ]
    },
    {
     "name": "stderr",
     "output_type": "stream",
     "text": [
      "\u001b[1;33m[WARNING]: \u001b[0m\u001b[0;39mTrying to register the cmap 'sauron' which already exists.\u001b[0m \u001b[0;36m(UserWarning)\u001b[0m\n",
      "\u001b[1;33m[WARNING]: \u001b[0m\u001b[0;39mTrying to register the cmap 'sauron_r' which already exists.\u001b[0m \u001b[0;36m(UserWarning)\u001b[0m\n",
      "\u001b[1;33m[WARNING]: \u001b[0m\u001b[0;39mTrying to register the cmap 'sauron' which already exists.\u001b[0m \u001b[0;36m(UserWarning)\u001b[0m\n",
      "\u001b[1;33m[WARNING]: \u001b[0m\u001b[0;39mTrying to register the cmap 'sauron_r' which already exists.\u001b[0m \u001b[0;36m(UserWarning)\u001b[0m\n"
     ]
    },
    {
     "name": "stdout",
     "output_type": "stream",
     "text": [
      "  Kin PA: 141.0  +/-   9.5  (3*sigma error)\n",
      "Velocity Offset: 0.00\n"
     ]
    },
    {
     "name": "stderr",
     "output_type": "stream",
     "text": [
      "\u001b[1;33m[WARNING]: \u001b[0m\u001b[0;39mTrying to register the cmap 'sauron' which already exists.\u001b[0m \u001b[0;36m(UserWarning)\u001b[0m\n",
      "\u001b[1;33m[WARNING]: \u001b[0m\u001b[0;39mTrying to register the cmap 'sauron_r' which already exists.\u001b[0m \u001b[0;36m(UserWarning)\u001b[0m\n",
      "\u001b[1;33m[WARNING]: \u001b[0m\u001b[0;39mTrying to register the cmap 'sauron' which already exists.\u001b[0m \u001b[0;36m(UserWarning)\u001b[0m\n",
      "\u001b[1;33m[WARNING]: \u001b[0m\u001b[0;39mTrying to register the cmap 'sauron_r' which already exists.\u001b[0m \u001b[0;36m(UserWarning)\u001b[0m\n"
     ]
    },
    {
     "name": "stdout",
     "output_type": "stream",
     "text": [
      "  Kin PA:  47.5  +/-   0.5  (3*sigma error)\n",
      "Velocity Offset: 0.00\n"
     ]
    },
    {
     "name": "stderr",
     "output_type": "stream",
     "text": [
      "\u001b[1;33m[WARNING]: \u001b[0m\u001b[0;39mTrying to register the cmap 'sauron' which already exists.\u001b[0m \u001b[0;36m(UserWarning)\u001b[0m\n",
      "\u001b[1;33m[WARNING]: \u001b[0m\u001b[0;39mTrying to register the cmap 'sauron_r' which already exists.\u001b[0m \u001b[0;36m(UserWarning)\u001b[0m\n",
      "\u001b[1;33m[WARNING]: \u001b[0m\u001b[0;39mTrying to register the cmap 'sauron' which already exists.\u001b[0m \u001b[0;36m(UserWarning)\u001b[0m\n",
      "\u001b[1;33m[WARNING]: \u001b[0m\u001b[0;39mTrying to register the cmap 'sauron_r' which already exists.\u001b[0m \u001b[0;36m(UserWarning)\u001b[0m\n"
     ]
    },
    {
     "name": "stdout",
     "output_type": "stream",
     "text": [
      "  Kin PA:  96.5  +/-   5.0  (3*sigma error)\n",
      "Velocity Offset: 0.00\n"
     ]
    },
    {
     "name": "stderr",
     "output_type": "stream",
     "text": [
      "\u001b[1;33m[WARNING]: \u001b[0m\u001b[0;39mTrying to register the cmap 'sauron' which already exists.\u001b[0m \u001b[0;36m(UserWarning)\u001b[0m\n",
      "\u001b[1;33m[WARNING]: \u001b[0m\u001b[0;39mTrying to register the cmap 'sauron_r' which already exists.\u001b[0m \u001b[0;36m(UserWarning)\u001b[0m\n",
      "\u001b[1;33m[WARNING]: \u001b[0m\u001b[0;39mTrying to register the cmap 'sauron' which already exists.\u001b[0m \u001b[0;36m(UserWarning)\u001b[0m\n",
      "\u001b[1;33m[WARNING]: \u001b[0m\u001b[0;39mTrying to register the cmap 'sauron_r' which already exists.\u001b[0m \u001b[0;36m(UserWarning)\u001b[0m\n"
     ]
    },
    {
     "name": "stdout",
     "output_type": "stream",
     "text": [
      "  Kin PA:  31.0  +/-   0.5  (3*sigma error)\n",
      "Velocity Offset: 0.00\n"
     ]
    },
    {
     "name": "stderr",
     "output_type": "stream",
     "text": [
      "\u001b[1;33m[WARNING]: \u001b[0m\u001b[0;39mTrying to register the cmap 'sauron' which already exists.\u001b[0m \u001b[0;36m(UserWarning)\u001b[0m\n",
      "\u001b[1;33m[WARNING]: \u001b[0m\u001b[0;39mTrying to register the cmap 'sauron_r' which already exists.\u001b[0m \u001b[0;36m(UserWarning)\u001b[0m\n",
      "\u001b[1;33m[WARNING]: \u001b[0m\u001b[0;39mTrying to register the cmap 'sauron' which already exists.\u001b[0m \u001b[0;36m(UserWarning)\u001b[0m\n",
      "\u001b[1;33m[WARNING]: \u001b[0m\u001b[0;39mTrying to register the cmap 'sauron_r' which already exists.\u001b[0m \u001b[0;36m(UserWarning)\u001b[0m\n"
     ]
    },
    {
     "name": "stdout",
     "output_type": "stream",
     "text": [
      "  Kin PA:   8.5  +/-   7.8  (3*sigma error)\n",
      "Velocity Offset: 0.00\n"
     ]
    },
    {
     "name": "stderr",
     "output_type": "stream",
     "text": [
      "\u001b[1;33m[WARNING]: \u001b[0m\u001b[0;39mTrying to register the cmap 'sauron' which already exists.\u001b[0m \u001b[0;36m(UserWarning)\u001b[0m\n",
      "\u001b[1;33m[WARNING]: \u001b[0m\u001b[0;39mTrying to register the cmap 'sauron_r' which already exists.\u001b[0m \u001b[0;36m(UserWarning)\u001b[0m\n",
      "\u001b[1;33m[WARNING]: \u001b[0m\u001b[0;39mTrying to register the cmap 'sauron' which already exists.\u001b[0m \u001b[0;36m(UserWarning)\u001b[0m\n",
      "\u001b[1;33m[WARNING]: \u001b[0m\u001b[0;39mTrying to register the cmap 'sauron_r' which already exists.\u001b[0m \u001b[0;36m(UserWarning)\u001b[0m\n"
     ]
    },
    {
     "name": "stdout",
     "output_type": "stream",
     "text": [
      "  Kin PA: 170.5  +/-   0.5  (3*sigma error)\n",
      "Velocity Offset: 0.00\n"
     ]
    },
    {
     "name": "stderr",
     "output_type": "stream",
     "text": [
      "\u001b[1;33m[WARNING]: \u001b[0m\u001b[0;39mTrying to register the cmap 'sauron' which already exists.\u001b[0m \u001b[0;36m(UserWarning)\u001b[0m\n",
      "\u001b[1;33m[WARNING]: \u001b[0m\u001b[0;39mTrying to register the cmap 'sauron_r' which already exists.\u001b[0m \u001b[0;36m(UserWarning)\u001b[0m\n",
      "\u001b[1;33m[WARNING]: \u001b[0m\u001b[0;39mTrying to register the cmap 'sauron' which already exists.\u001b[0m \u001b[0;36m(UserWarning)\u001b[0m\n",
      "\u001b[1;33m[WARNING]: \u001b[0m\u001b[0;39mTrying to register the cmap 'sauron_r' which already exists.\u001b[0m \u001b[0;36m(UserWarning)\u001b[0m\n"
     ]
    },
    {
     "name": "stdout",
     "output_type": "stream",
     "text": [
      "  Kin PA:  66.0  +/-   5.5  (3*sigma error)\n",
      "Velocity Offset: 0.00\n"
     ]
    },
    {
     "name": "stderr",
     "output_type": "stream",
     "text": [
      "\u001b[1;33m[WARNING]: \u001b[0m\u001b[0;39mTrying to register the cmap 'sauron' which already exists.\u001b[0m \u001b[0;36m(UserWarning)\u001b[0m\n",
      "\u001b[1;33m[WARNING]: \u001b[0m\u001b[0;39mTrying to register the cmap 'sauron_r' which already exists.\u001b[0m \u001b[0;36m(UserWarning)\u001b[0m\n",
      "\u001b[1;33m[WARNING]: \u001b[0m\u001b[0;39mTrying to register the cmap 'sauron' which already exists.\u001b[0m \u001b[0;36m(UserWarning)\u001b[0m\n",
      "\u001b[1;33m[WARNING]: \u001b[0m\u001b[0;39mTrying to register the cmap 'sauron_r' which already exists.\u001b[0m \u001b[0;36m(UserWarning)\u001b[0m\n"
     ]
    },
    {
     "name": "stdout",
     "output_type": "stream",
     "text": [
      "  Kin PA: 178.0  +/-   0.5  (3*sigma error)\n",
      "Velocity Offset: 0.00\n"
     ]
    },
    {
     "name": "stderr",
     "output_type": "stream",
     "text": [
      "\u001b[1;33m[WARNING]: \u001b[0m\u001b[0;39mTrying to register the cmap 'sauron' which already exists.\u001b[0m \u001b[0;36m(UserWarning)\u001b[0m\n",
      "\u001b[1;33m[WARNING]: \u001b[0m\u001b[0;39mTrying to register the cmap 'sauron_r' which already exists.\u001b[0m \u001b[0;36m(UserWarning)\u001b[0m\n",
      "\u001b[1;33m[WARNING]: \u001b[0m\u001b[0;39mTrying to register the cmap 'sauron' which already exists.\u001b[0m \u001b[0;36m(UserWarning)\u001b[0m\n",
      "\u001b[1;33m[WARNING]: \u001b[0m\u001b[0;39mTrying to register the cmap 'sauron_r' which already exists.\u001b[0m \u001b[0;36m(UserWarning)\u001b[0m\n"
     ]
    },
    {
     "name": "stdout",
     "output_type": "stream",
     "text": [
      "  Kin PA: 139.0  +/-  56.0  (3*sigma error)\n",
      "Velocity Offset: 0.00\n"
     ]
    },
    {
     "name": "stderr",
     "output_type": "stream",
     "text": [
      "\u001b[1;33m[WARNING]: \u001b[0m\u001b[0;39mTrying to register the cmap 'sauron' which already exists.\u001b[0m \u001b[0;36m(UserWarning)\u001b[0m\n",
      "\u001b[1;33m[WARNING]: \u001b[0m\u001b[0;39mTrying to register the cmap 'sauron_r' which already exists.\u001b[0m \u001b[0;36m(UserWarning)\u001b[0m\n",
      "\u001b[1;33m[WARNING]: \u001b[0m\u001b[0;39mTrying to register the cmap 'sauron' which already exists.\u001b[0m \u001b[0;36m(UserWarning)\u001b[0m\n",
      "\u001b[1;33m[WARNING]: \u001b[0m\u001b[0;39mTrying to register the cmap 'sauron_r' which already exists.\u001b[0m \u001b[0;36m(UserWarning)\u001b[0m\n"
     ]
    },
    {
     "name": "stdout",
     "output_type": "stream",
     "text": [
      "  Kin PA: 105.0  +/-   0.5  (3*sigma error)\n",
      "Velocity Offset: 0.00\n"
     ]
    },
    {
     "name": "stderr",
     "output_type": "stream",
     "text": [
      "\u001b[1;33m[WARNING]: \u001b[0m\u001b[0;39mTrying to register the cmap 'sauron' which already exists.\u001b[0m \u001b[0;36m(UserWarning)\u001b[0m\n",
      "\u001b[1;33m[WARNING]: \u001b[0m\u001b[0;39mTrying to register the cmap 'sauron_r' which already exists.\u001b[0m \u001b[0;36m(UserWarning)\u001b[0m\n",
      "\u001b[1;33m[WARNING]: \u001b[0m\u001b[0;39mTrying to register the cmap 'sauron' which already exists.\u001b[0m \u001b[0;36m(UserWarning)\u001b[0m\n",
      "\u001b[1;33m[WARNING]: \u001b[0m\u001b[0;39mTrying to register the cmap 'sauron_r' which already exists.\u001b[0m \u001b[0;36m(UserWarning)\u001b[0m\n"
     ]
    },
    {
     "name": "stdout",
     "output_type": "stream",
     "text": [
      "  Kin PA:  27.0  +/-  17.0  (3*sigma error)\n",
      "Velocity Offset: 0.00\n"
     ]
    },
    {
     "name": "stderr",
     "output_type": "stream",
     "text": [
      "\u001b[1;33m[WARNING]: \u001b[0m\u001b[0;39mTrying to register the cmap 'sauron' which already exists.\u001b[0m \u001b[0;36m(UserWarning)\u001b[0m\n",
      "\u001b[1;33m[WARNING]: \u001b[0m\u001b[0;39mTrying to register the cmap 'sauron_r' which already exists.\u001b[0m \u001b[0;36m(UserWarning)\u001b[0m\n",
      "\u001b[1;33m[WARNING]: \u001b[0m\u001b[0;39mTrying to register the cmap 'sauron' which already exists.\u001b[0m \u001b[0;36m(UserWarning)\u001b[0m\n",
      "\u001b[1;33m[WARNING]: \u001b[0m\u001b[0;39mTrying to register the cmap 'sauron_r' which already exists.\u001b[0m \u001b[0;36m(UserWarning)\u001b[0m\n"
     ]
    },
    {
     "name": "stdout",
     "output_type": "stream",
     "text": [
      "  Kin PA:  75.5  +/-   0.5  (3*sigma error)\n",
      "Velocity Offset: 0.00\n"
     ]
    },
    {
     "name": "stderr",
     "output_type": "stream",
     "text": [
      "\u001b[1;33m[WARNING]: \u001b[0m\u001b[0;39mTrying to register the cmap 'sauron' which already exists.\u001b[0m \u001b[0;36m(UserWarning)\u001b[0m\n",
      "\u001b[1;33m[WARNING]: \u001b[0m\u001b[0;39mTrying to register the cmap 'sauron_r' which already exists.\u001b[0m \u001b[0;36m(UserWarning)\u001b[0m\n",
      "\u001b[1;33m[WARNING]: \u001b[0m\u001b[0;39mTrying to register the cmap 'sauron' which already exists.\u001b[0m \u001b[0;36m(UserWarning)\u001b[0m\n",
      "\u001b[1;33m[WARNING]: \u001b[0m\u001b[0;39mTrying to register the cmap 'sauron_r' which already exists.\u001b[0m \u001b[0;36m(UserWarning)\u001b[0m\n"
     ]
    },
    {
     "name": "stdout",
     "output_type": "stream",
     "text": [
      "  Kin PA:   4.5  +/-  12.8  (3*sigma error)\n",
      "Velocity Offset: 0.00\n"
     ]
    },
    {
     "name": "stderr",
     "output_type": "stream",
     "text": [
      "\u001b[1;33m[WARNING]: \u001b[0m\u001b[0;39mTrying to register the cmap 'sauron' which already exists.\u001b[0m \u001b[0;36m(UserWarning)\u001b[0m\n",
      "\u001b[1;33m[WARNING]: \u001b[0m\u001b[0;39mTrying to register the cmap 'sauron_r' which already exists.\u001b[0m \u001b[0;36m(UserWarning)\u001b[0m\n",
      "\u001b[1;33m[WARNING]: \u001b[0m\u001b[0;39mTrying to register the cmap 'sauron' which already exists.\u001b[0m \u001b[0;36m(UserWarning)\u001b[0m\n",
      "\u001b[1;33m[WARNING]: \u001b[0m\u001b[0;39mTrying to register the cmap 'sauron_r' which already exists.\u001b[0m \u001b[0;36m(UserWarning)\u001b[0m\n"
     ]
    },
    {
     "name": "stdout",
     "output_type": "stream",
     "text": [
      "  Kin PA:  63.5  +/-   0.5  (3*sigma error)\n",
      "Velocity Offset: 0.00\n"
     ]
    },
    {
     "name": "stderr",
     "output_type": "stream",
     "text": [
      "\u001b[1;33m[WARNING]: \u001b[0m\u001b[0;39mTrying to register the cmap 'sauron' which already exists.\u001b[0m \u001b[0;36m(UserWarning)\u001b[0m\n",
      "\u001b[1;33m[WARNING]: \u001b[0m\u001b[0;39mTrying to register the cmap 'sauron_r' which already exists.\u001b[0m \u001b[0;36m(UserWarning)\u001b[0m\n",
      "\u001b[1;33m[WARNING]: \u001b[0m\u001b[0;39mTrying to register the cmap 'sauron' which already exists.\u001b[0m \u001b[0;36m(UserWarning)\u001b[0m\n",
      "\u001b[1;33m[WARNING]: \u001b[0m\u001b[0;39mTrying to register the cmap 'sauron_r' which already exists.\u001b[0m \u001b[0;36m(UserWarning)\u001b[0m\n"
     ]
    },
    {
     "name": "stdout",
     "output_type": "stream",
     "text": [
      "  Kin PA: 156.0  +/-  10.0  (3*sigma error)\n",
      "Velocity Offset: 0.00\n"
     ]
    },
    {
     "name": "stderr",
     "output_type": "stream",
     "text": [
      "\u001b[1;33m[WARNING]: \u001b[0m\u001b[0;39mTrying to register the cmap 'sauron' which already exists.\u001b[0m \u001b[0;36m(UserWarning)\u001b[0m\n",
      "\u001b[1;33m[WARNING]: \u001b[0m\u001b[0;39mTrying to register the cmap 'sauron_r' which already exists.\u001b[0m \u001b[0;36m(UserWarning)\u001b[0m\n",
      "\u001b[1;33m[WARNING]: \u001b[0m\u001b[0;39mTrying to register the cmap 'sauron' which already exists.\u001b[0m \u001b[0;36m(UserWarning)\u001b[0m\n",
      "\u001b[1;33m[WARNING]: \u001b[0m\u001b[0;39mTrying to register the cmap 'sauron_r' which already exists.\u001b[0m \u001b[0;36m(UserWarning)\u001b[0m\n"
     ]
    },
    {
     "name": "stdout",
     "output_type": "stream",
     "text": [
      "  Kin PA: 158.5  +/-   0.5  (3*sigma error)\n",
      "Velocity Offset: 0.00\n"
     ]
    },
    {
     "name": "stderr",
     "output_type": "stream",
     "text": [
      "\u001b[1;33m[WARNING]: \u001b[0m\u001b[0;39mTrying to register the cmap 'sauron' which already exists.\u001b[0m \u001b[0;36m(UserWarning)\u001b[0m\n",
      "\u001b[1;33m[WARNING]: \u001b[0m\u001b[0;39mTrying to register the cmap 'sauron_r' which already exists.\u001b[0m \u001b[0;36m(UserWarning)\u001b[0m\n",
      "\u001b[1;33m[WARNING]: \u001b[0m\u001b[0;39mTrying to register the cmap 'sauron' which already exists.\u001b[0m \u001b[0;36m(UserWarning)\u001b[0m\n",
      "\u001b[1;33m[WARNING]: \u001b[0m\u001b[0;39mTrying to register the cmap 'sauron_r' which already exists.\u001b[0m \u001b[0;36m(UserWarning)\u001b[0m\n"
     ]
    },
    {
     "name": "stdout",
     "output_type": "stream",
     "text": [
      "  Kin PA:  55.0  +/-  10.5  (3*sigma error)\n",
      "Velocity Offset: 0.00\n"
     ]
    },
    {
     "name": "stderr",
     "output_type": "stream",
     "text": [
      "\u001b[1;33m[WARNING]: \u001b[0m\u001b[0;39mTrying to register the cmap 'sauron' which already exists.\u001b[0m \u001b[0;36m(UserWarning)\u001b[0m\n",
      "\u001b[1;33m[WARNING]: \u001b[0m\u001b[0;39mTrying to register the cmap 'sauron_r' which already exists.\u001b[0m \u001b[0;36m(UserWarning)\u001b[0m\n"
     ]
    },
    {
     "name": "stdout",
     "output_type": "stream",
     "text": [
      "  Kin PA:   3.0  +/-   0.5  (3*sigma error)\n",
      "Velocity Offset: 0.00\n"
     ]
    },
    {
     "name": "stderr",
     "output_type": "stream",
     "text": [
      "\u001b[1;33m[WARNING]: \u001b[0m\u001b[0;39mTrying to register the cmap 'sauron' which already exists.\u001b[0m \u001b[0;36m(UserWarning)\u001b[0m\n",
      "\u001b[1;33m[WARNING]: \u001b[0m\u001b[0;39mTrying to register the cmap 'sauron_r' which already exists.\u001b[0m \u001b[0;36m(UserWarning)\u001b[0m\n",
      "\u001b[1;33m[WARNING]: \u001b[0m\u001b[0;39mTrying to register the cmap 'sauron' which already exists.\u001b[0m \u001b[0;36m(UserWarning)\u001b[0m\n",
      "\u001b[1;33m[WARNING]: \u001b[0m\u001b[0;39mTrying to register the cmap 'sauron_r' which already exists.\u001b[0m \u001b[0;36m(UserWarning)\u001b[0m\n",
      "\u001b[1;33m[WARNING]: \u001b[0m\u001b[0;39mTrying to register the cmap 'sauron' which already exists.\u001b[0m \u001b[0;36m(UserWarning)\u001b[0m\n",
      "\u001b[1;33m[WARNING]: \u001b[0m\u001b[0;39mTrying to register the cmap 'sauron_r' which already exists.\u001b[0m \u001b[0;36m(UserWarning)\u001b[0m\n"
     ]
    },
    {
     "name": "stdout",
     "output_type": "stream",
     "text": [
      "  Kin PA: 126.0  +/-  89.8  (3*sigma error)\n",
      "Velocity Offset: 0.00\n"
     ]
    },
    {
     "name": "stderr",
     "output_type": "stream",
     "text": [
      "\u001b[1;33m[WARNING]: \u001b[0m\u001b[0;39mTrying to register the cmap 'sauron' which already exists.\u001b[0m \u001b[0;36m(UserWarning)\u001b[0m\n",
      "\u001b[1;33m[WARNING]: \u001b[0m\u001b[0;39mTrying to register the cmap 'sauron_r' which already exists.\u001b[0m \u001b[0;36m(UserWarning)\u001b[0m\n",
      "\u001b[1;33m[WARNING]: \u001b[0m\u001b[0;39mTrying to register the cmap 'sauron' which already exists.\u001b[0m \u001b[0;36m(UserWarning)\u001b[0m\n",
      "\u001b[1;33m[WARNING]: \u001b[0m\u001b[0;39mTrying to register the cmap 'sauron_r' which already exists.\u001b[0m \u001b[0;36m(UserWarning)\u001b[0m\n"
     ]
    },
    {
     "name": "stdout",
     "output_type": "stream",
     "text": [
      "  Kin PA: 114.0  +/-   0.5  (3*sigma error)\n",
      "Velocity Offset: 0.00\n"
     ]
    },
    {
     "name": "stderr",
     "output_type": "stream",
     "text": [
      "\u001b[1;33m[WARNING]: \u001b[0m\u001b[0;39mTrying to register the cmap 'sauron' which already exists.\u001b[0m \u001b[0;36m(UserWarning)\u001b[0m\n",
      "\u001b[1;33m[WARNING]: \u001b[0m\u001b[0;39mTrying to register the cmap 'sauron_r' which already exists.\u001b[0m \u001b[0;36m(UserWarning)\u001b[0m\n",
      "\u001b[1;33m[WARNING]: \u001b[0m\u001b[0;39mTrying to register the cmap 'sauron' which already exists.\u001b[0m \u001b[0;36m(UserWarning)\u001b[0m\n",
      "\u001b[1;33m[WARNING]: \u001b[0m\u001b[0;39mTrying to register the cmap 'sauron_r' which already exists.\u001b[0m \u001b[0;36m(UserWarning)\u001b[0m\n"
     ]
    },
    {
     "name": "stdout",
     "output_type": "stream",
     "text": [
      "  Kin PA: 156.5  +/-   8.5  (3*sigma error)\n",
      "Velocity Offset: 0.00\n"
     ]
    },
    {
     "name": "stderr",
     "output_type": "stream",
     "text": [
      "\u001b[1;33m[WARNING]: \u001b[0m\u001b[0;39mTrying to register the cmap 'sauron' which already exists.\u001b[0m \u001b[0;36m(UserWarning)\u001b[0m\n",
      "\u001b[1;33m[WARNING]: \u001b[0m\u001b[0;39mTrying to register the cmap 'sauron_r' which already exists.\u001b[0m \u001b[0;36m(UserWarning)\u001b[0m\n",
      "\u001b[1;33m[WARNING]: \u001b[0m\u001b[0;39mTrying to register the cmap 'sauron' which already exists.\u001b[0m \u001b[0;36m(UserWarning)\u001b[0m\n",
      "\u001b[1;33m[WARNING]: \u001b[0m\u001b[0;39mTrying to register the cmap 'sauron_r' which already exists.\u001b[0m \u001b[0;36m(UserWarning)\u001b[0m\n"
     ]
    },
    {
     "name": "stdout",
     "output_type": "stream",
     "text": [
      "  Kin PA:  24.5  +/-   0.5  (3*sigma error)\n",
      "Velocity Offset: 0.00\n"
     ]
    },
    {
     "name": "stderr",
     "output_type": "stream",
     "text": [
      "\u001b[1;33m[WARNING]: \u001b[0m\u001b[0;39mTrying to register the cmap 'sauron' which already exists.\u001b[0m \u001b[0;36m(UserWarning)\u001b[0m\n",
      "\u001b[1;33m[WARNING]: \u001b[0m\u001b[0;39mTrying to register the cmap 'sauron_r' which already exists.\u001b[0m \u001b[0;36m(UserWarning)\u001b[0m\n",
      "\u001b[1;33m[WARNING]: \u001b[0m\u001b[0;39mTrying to register the cmap 'sauron' which already exists.\u001b[0m \u001b[0;36m(UserWarning)\u001b[0m\n",
      "\u001b[1;33m[WARNING]: \u001b[0m\u001b[0;39mTrying to register the cmap 'sauron_r' which already exists.\u001b[0m \u001b[0;36m(UserWarning)\u001b[0m\n"
     ]
    },
    {
     "name": "stdout",
     "output_type": "stream",
     "text": [
      "  Kin PA: 143.0  +/-  31.8  (3*sigma error)\n",
      "Velocity Offset: 0.00\n"
     ]
    },
    {
     "name": "stderr",
     "output_type": "stream",
     "text": [
      "\u001b[1;33m[WARNING]: \u001b[0m\u001b[0;39mTrying to register the cmap 'sauron' which already exists.\u001b[0m \u001b[0;36m(UserWarning)\u001b[0m\n",
      "\u001b[1;33m[WARNING]: \u001b[0m\u001b[0;39mTrying to register the cmap 'sauron_r' which already exists.\u001b[0m \u001b[0;36m(UserWarning)\u001b[0m\n",
      "\u001b[1;33m[WARNING]: \u001b[0m\u001b[0;39mTrying to register the cmap 'sauron' which already exists.\u001b[0m \u001b[0;36m(UserWarning)\u001b[0m\n",
      "\u001b[1;33m[WARNING]: \u001b[0m\u001b[0;39mTrying to register the cmap 'sauron_r' which already exists.\u001b[0m \u001b[0;36m(UserWarning)\u001b[0m\n"
     ]
    },
    {
     "name": "stdout",
     "output_type": "stream",
     "text": [
      "  Kin PA:  25.5  +/-   6.5  (3*sigma error)\n",
      "Velocity Offset: 0.00\n"
     ]
    },
    {
     "name": "stderr",
     "output_type": "stream",
     "text": [
      "\u001b[1;33m[WARNING]: \u001b[0m\u001b[0;39mTrying to register the cmap 'sauron' which already exists.\u001b[0m \u001b[0;36m(UserWarning)\u001b[0m\n",
      "\u001b[1;33m[WARNING]: \u001b[0m\u001b[0;39mTrying to register the cmap 'sauron_r' which already exists.\u001b[0m \u001b[0;36m(UserWarning)\u001b[0m\n"
     ]
    },
    {
     "name": "stdout",
     "output_type": "stream",
     "text": [
      "  Kin PA:  32.5  +/-   8.2  (3*sigma error)\n",
      "Velocity Offset: 0.00\n"
     ]
    },
    {
     "name": "stderr",
     "output_type": "stream",
     "text": [
      "\u001b[1;33m[WARNING]: \u001b[0m\u001b[0;39mTrying to register the cmap 'sauron' which already exists.\u001b[0m \u001b[0;36m(UserWarning)\u001b[0m\n",
      "\u001b[1;33m[WARNING]: \u001b[0m\u001b[0;39mTrying to register the cmap 'sauron_r' which already exists.\u001b[0m \u001b[0;36m(UserWarning)\u001b[0m\n",
      "\u001b[1;33m[WARNING]: \u001b[0m\u001b[0;39mTrying to register the cmap 'sauron' which already exists.\u001b[0m \u001b[0;36m(UserWarning)\u001b[0m\n",
      "\u001b[1;33m[WARNING]: \u001b[0m\u001b[0;39mTrying to register the cmap 'sauron_r' which already exists.\u001b[0m \u001b[0;36m(UserWarning)\u001b[0m\n",
      "\u001b[1;33m[WARNING]: \u001b[0m\u001b[0;39mTrying to register the cmap 'sauron' which already exists.\u001b[0m \u001b[0;36m(UserWarning)\u001b[0m\n",
      "\u001b[1;33m[WARNING]: \u001b[0m\u001b[0;39mTrying to register the cmap 'sauron_r' which already exists.\u001b[0m \u001b[0;36m(UserWarning)\u001b[0m\n"
     ]
    },
    {
     "name": "stdout",
     "output_type": "stream",
     "text": [
      "  Kin PA:  40.0  +/-   0.5  (3*sigma error)\n",
      "Velocity Offset: 0.00\n"
     ]
    },
    {
     "name": "stderr",
     "output_type": "stream",
     "text": [
      "\u001b[1;33m[WARNING]: \u001b[0m\u001b[0;39mTrying to register the cmap 'sauron' which already exists.\u001b[0m \u001b[0;36m(UserWarning)\u001b[0m\n",
      "\u001b[1;33m[WARNING]: \u001b[0m\u001b[0;39mTrying to register the cmap 'sauron_r' which already exists.\u001b[0m \u001b[0;36m(UserWarning)\u001b[0m\n",
      "\u001b[1;33m[WARNING]: \u001b[0m\u001b[0;39mTrying to register the cmap 'sauron' which already exists.\u001b[0m \u001b[0;36m(UserWarning)\u001b[0m\n",
      "\u001b[1;33m[WARNING]: \u001b[0m\u001b[0;39mTrying to register the cmap 'sauron_r' which already exists.\u001b[0m \u001b[0;36m(UserWarning)\u001b[0m\n"
     ]
    },
    {
     "name": "stdout",
     "output_type": "stream",
     "text": [
      "  Kin PA: 107.5  +/-  12.8  (3*sigma error)\n",
      "Velocity Offset: 0.00\n"
     ]
    },
    {
     "name": "stderr",
     "output_type": "stream",
     "text": [
      "\u001b[1;33m[WARNING]: \u001b[0m\u001b[0;39mTrying to register the cmap 'sauron' which already exists.\u001b[0m \u001b[0;36m(UserWarning)\u001b[0m\n",
      "\u001b[1;33m[WARNING]: \u001b[0m\u001b[0;39mTrying to register the cmap 'sauron_r' which already exists.\u001b[0m \u001b[0;36m(UserWarning)\u001b[0m\n",
      "\u001b[1;33m[WARNING]: \u001b[0m\u001b[0;39mTrying to register the cmap 'sauron' which already exists.\u001b[0m \u001b[0;36m(UserWarning)\u001b[0m\n",
      "\u001b[1;33m[WARNING]: \u001b[0m\u001b[0;39mTrying to register the cmap 'sauron_r' which already exists.\u001b[0m \u001b[0;36m(UserWarning)\u001b[0m\n"
     ]
    },
    {
     "name": "stdout",
     "output_type": "stream",
     "text": [
      "  Kin PA:  57.5  +/-   0.5  (3*sigma error)\n",
      "Velocity Offset: 0.00\n"
     ]
    },
    {
     "name": "stderr",
     "output_type": "stream",
     "text": [
      "\u001b[1;33m[WARNING]: \u001b[0m\u001b[0;39mTrying to register the cmap 'sauron' which already exists.\u001b[0m \u001b[0;36m(UserWarning)\u001b[0m\n",
      "\u001b[1;33m[WARNING]: \u001b[0m\u001b[0;39mTrying to register the cmap 'sauron_r' which already exists.\u001b[0m \u001b[0;36m(UserWarning)\u001b[0m\n",
      "\u001b[1;33m[WARNING]: \u001b[0m\u001b[0;39mTrying to register the cmap 'sauron' which already exists.\u001b[0m \u001b[0;36m(UserWarning)\u001b[0m\n",
      "\u001b[1;33m[WARNING]: \u001b[0m\u001b[0;39mTrying to register the cmap 'sauron_r' which already exists.\u001b[0m \u001b[0;36m(UserWarning)\u001b[0m\n"
     ]
    },
    {
     "name": "stdout",
     "output_type": "stream",
     "text": [
      "  Kin PA: 161.5  +/-  15.8  (3*sigma error)\n",
      "Velocity Offset: 0.00\n"
     ]
    },
    {
     "name": "stderr",
     "output_type": "stream",
     "text": [
      "\u001b[1;33m[WARNING]: \u001b[0m\u001b[0;39mTrying to register the cmap 'sauron' which already exists.\u001b[0m \u001b[0;36m(UserWarning)\u001b[0m\n",
      "\u001b[1;33m[WARNING]: \u001b[0m\u001b[0;39mTrying to register the cmap 'sauron_r' which already exists.\u001b[0m \u001b[0;36m(UserWarning)\u001b[0m\n",
      "\u001b[1;33m[WARNING]: \u001b[0m\u001b[0;39mTrying to register the cmap 'sauron' which already exists.\u001b[0m \u001b[0;36m(UserWarning)\u001b[0m\n",
      "\u001b[1;33m[WARNING]: \u001b[0m\u001b[0;39mTrying to register the cmap 'sauron_r' which already exists.\u001b[0m \u001b[0;36m(UserWarning)\u001b[0m\n"
     ]
    },
    {
     "name": "stdout",
     "output_type": "stream",
     "text": [
      "  Kin PA:  91.0  +/-   0.5  (3*sigma error)\n",
      "Velocity Offset: 0.00\n"
     ]
    },
    {
     "name": "stderr",
     "output_type": "stream",
     "text": [
      "\u001b[1;33m[WARNING]: \u001b[0m\u001b[0;39mTrying to register the cmap 'sauron' which already exists.\u001b[0m \u001b[0;36m(UserWarning)\u001b[0m\n",
      "\u001b[1;33m[WARNING]: \u001b[0m\u001b[0;39mTrying to register the cmap 'sauron_r' which already exists.\u001b[0m \u001b[0;36m(UserWarning)\u001b[0m\n",
      "\u001b[1;33m[WARNING]: \u001b[0m\u001b[0;39mTrying to register the cmap 'sauron' which already exists.\u001b[0m \u001b[0;36m(UserWarning)\u001b[0m\n",
      "\u001b[1;33m[WARNING]: \u001b[0m\u001b[0;39mTrying to register the cmap 'sauron_r' which already exists.\u001b[0m \u001b[0;36m(UserWarning)\u001b[0m\n"
     ]
    },
    {
     "name": "stdout",
     "output_type": "stream",
     "text": [
      "  Kin PA:  26.5  +/-   3.0  (3*sigma error)\n",
      "Velocity Offset: 0.00\n"
     ]
    },
    {
     "name": "stderr",
     "output_type": "stream",
     "text": [
      "\u001b[1;33m[WARNING]: \u001b[0m\u001b[0;39mTrying to register the cmap 'sauron' which already exists.\u001b[0m \u001b[0;36m(UserWarning)\u001b[0m\n",
      "\u001b[1;33m[WARNING]: \u001b[0m\u001b[0;39mTrying to register the cmap 'sauron_r' which already exists.\u001b[0m \u001b[0;36m(UserWarning)\u001b[0m\n",
      "\u001b[1;33m[WARNING]: \u001b[0m\u001b[0;39mTrying to register the cmap 'sauron' which already exists.\u001b[0m \u001b[0;36m(UserWarning)\u001b[0m\n",
      "\u001b[1;33m[WARNING]: \u001b[0m\u001b[0;39mTrying to register the cmap 'sauron_r' which already exists.\u001b[0m \u001b[0;36m(UserWarning)\u001b[0m\n"
     ]
    },
    {
     "name": "stdout",
     "output_type": "stream",
     "text": [
      "  Kin PA:   2.5  +/-   0.5  (3*sigma error)\n",
      "Velocity Offset: 0.00\n"
     ]
    },
    {
     "name": "stderr",
     "output_type": "stream",
     "text": [
      "\u001b[1;33m[WARNING]: \u001b[0m\u001b[0;39mTrying to register the cmap 'sauron' which already exists.\u001b[0m \u001b[0;36m(UserWarning)\u001b[0m\n",
      "\u001b[1;33m[WARNING]: \u001b[0m\u001b[0;39mTrying to register the cmap 'sauron_r' which already exists.\u001b[0m \u001b[0;36m(UserWarning)\u001b[0m\n",
      "\u001b[1;33m[WARNING]: \u001b[0m\u001b[0;39mTrying to register the cmap 'sauron' which already exists.\u001b[0m \u001b[0;36m(UserWarning)\u001b[0m\n",
      "\u001b[1;33m[WARNING]: \u001b[0m\u001b[0;39mTrying to register the cmap 'sauron_r' which already exists.\u001b[0m \u001b[0;36m(UserWarning)\u001b[0m\n"
     ]
    },
    {
     "name": "stdout",
     "output_type": "stream",
     "text": [
      "  Kin PA: 166.5  +/-   6.0  (3*sigma error)\n",
      "Velocity Offset: 0.00\n"
     ]
    },
    {
     "name": "stderr",
     "output_type": "stream",
     "text": [
      "\u001b[1;33m[WARNING]: \u001b[0m\u001b[0;39mTrying to register the cmap 'sauron' which already exists.\u001b[0m \u001b[0;36m(UserWarning)\u001b[0m\n",
      "\u001b[1;33m[WARNING]: \u001b[0m\u001b[0;39mTrying to register the cmap 'sauron_r' which already exists.\u001b[0m \u001b[0;36m(UserWarning)\u001b[0m\n",
      "\u001b[1;33m[WARNING]: \u001b[0m\u001b[0;39mTrying to register the cmap 'sauron' which already exists.\u001b[0m \u001b[0;36m(UserWarning)\u001b[0m\n",
      "\u001b[1;33m[WARNING]: \u001b[0m\u001b[0;39mTrying to register the cmap 'sauron_r' which already exists.\u001b[0m \u001b[0;36m(UserWarning)\u001b[0m\n"
     ]
    },
    {
     "name": "stdout",
     "output_type": "stream",
     "text": [
      "  Kin PA: 128.0  +/-  12.0  (3*sigma error)\n",
      "Velocity Offset: 0.00\n"
     ]
    },
    {
     "name": "stderr",
     "output_type": "stream",
     "text": [
      "\u001b[1;33m[WARNING]: \u001b[0m\u001b[0;39mTrying to register the cmap 'sauron' which already exists.\u001b[0m \u001b[0;36m(UserWarning)\u001b[0m\n",
      "\u001b[1;33m[WARNING]: \u001b[0m\u001b[0;39mTrying to register the cmap 'sauron_r' which already exists.\u001b[0m \u001b[0;36m(UserWarning)\u001b[0m\n",
      "\u001b[1;33m[WARNING]: \u001b[0m\u001b[0;39mTrying to register the cmap 'sauron' which already exists.\u001b[0m \u001b[0;36m(UserWarning)\u001b[0m\n",
      "\u001b[1;33m[WARNING]: \u001b[0m\u001b[0;39mTrying to register the cmap 'sauron_r' which already exists.\u001b[0m \u001b[0;36m(UserWarning)\u001b[0m\n"
     ]
    },
    {
     "name": "stdout",
     "output_type": "stream",
     "text": [
      "  Kin PA: 153.0  +/-   6.0  (3*sigma error)\n",
      "Velocity Offset: 0.00\n"
     ]
    },
    {
     "name": "stderr",
     "output_type": "stream",
     "text": [
      "\u001b[1;33m[WARNING]: \u001b[0m\u001b[0;39mTrying to register the cmap 'sauron' which already exists.\u001b[0m \u001b[0;36m(UserWarning)\u001b[0m\n",
      "\u001b[1;33m[WARNING]: \u001b[0m\u001b[0;39mTrying to register the cmap 'sauron_r' which already exists.\u001b[0m \u001b[0;36m(UserWarning)\u001b[0m\n",
      "\u001b[1;33m[WARNING]: \u001b[0m\u001b[0;39mTrying to register the cmap 'sauron' which already exists.\u001b[0m \u001b[0;36m(UserWarning)\u001b[0m\n",
      "\u001b[1;33m[WARNING]: \u001b[0m\u001b[0;39mTrying to register the cmap 'sauron_r' which already exists.\u001b[0m \u001b[0;36m(UserWarning)\u001b[0m\n"
     ]
    },
    {
     "name": "stdout",
     "output_type": "stream",
     "text": [
      "  Kin PA: 160.0  +/-   0.5  (3*sigma error)\n",
      "Velocity Offset: 0.00\n"
     ]
    },
    {
     "name": "stderr",
     "output_type": "stream",
     "text": [
      "\u001b[1;33m[WARNING]: \u001b[0m\u001b[0;39mTrying to register the cmap 'sauron' which already exists.\u001b[0m \u001b[0;36m(UserWarning)\u001b[0m\n",
      "\u001b[1;33m[WARNING]: \u001b[0m\u001b[0;39mTrying to register the cmap 'sauron_r' which already exists.\u001b[0m \u001b[0;36m(UserWarning)\u001b[0m\n",
      "\u001b[1;33m[WARNING]: \u001b[0m\u001b[0;39mTrying to register the cmap 'sauron' which already exists.\u001b[0m \u001b[0;36m(UserWarning)\u001b[0m\n",
      "\u001b[1;33m[WARNING]: \u001b[0m\u001b[0;39mTrying to register the cmap 'sauron_r' which already exists.\u001b[0m \u001b[0;36m(UserWarning)\u001b[0m\n"
     ]
    },
    {
     "name": "stdout",
     "output_type": "stream",
     "text": [
      "  Kin PA: 149.0  +/-  10.5  (3*sigma error)\n",
      "Velocity Offset: 0.00\n"
     ]
    },
    {
     "name": "stderr",
     "output_type": "stream",
     "text": [
      "\u001b[1;33m[WARNING]: \u001b[0m\u001b[0;39mTrying to register the cmap 'sauron' which already exists.\u001b[0m \u001b[0;36m(UserWarning)\u001b[0m\n",
      "\u001b[1;33m[WARNING]: \u001b[0m\u001b[0;39mTrying to register the cmap 'sauron_r' which already exists.\u001b[0m \u001b[0;36m(UserWarning)\u001b[0m\n",
      "\u001b[1;33m[WARNING]: \u001b[0m\u001b[0;39mTrying to register the cmap 'sauron' which already exists.\u001b[0m \u001b[0;36m(UserWarning)\u001b[0m\n",
      "\u001b[1;33m[WARNING]: \u001b[0m\u001b[0;39mTrying to register the cmap 'sauron_r' which already exists.\u001b[0m \u001b[0;36m(UserWarning)\u001b[0m\n"
     ]
    },
    {
     "name": "stdout",
     "output_type": "stream",
     "text": [
      "  Kin PA:  52.0  +/-   0.5  (3*sigma error)\n",
      "Velocity Offset: 0.00\n"
     ]
    },
    {
     "name": "stderr",
     "output_type": "stream",
     "text": [
      "\u001b[1;33m[WARNING]: \u001b[0m\u001b[0;39mTrying to register the cmap 'sauron' which already exists.\u001b[0m \u001b[0;36m(UserWarning)\u001b[0m\n",
      "\u001b[1;33m[WARNING]: \u001b[0m\u001b[0;39mTrying to register the cmap 'sauron_r' which already exists.\u001b[0m \u001b[0;36m(UserWarning)\u001b[0m\n",
      "\u001b[1;33m[WARNING]: \u001b[0m\u001b[0;39mTrying to register the cmap 'sauron' which already exists.\u001b[0m \u001b[0;36m(UserWarning)\u001b[0m\n",
      "\u001b[1;33m[WARNING]: \u001b[0m\u001b[0;39mTrying to register the cmap 'sauron_r' which already exists.\u001b[0m \u001b[0;36m(UserWarning)\u001b[0m\n"
     ]
    },
    {
     "name": "stdout",
     "output_type": "stream",
     "text": [
      "  Kin PA:  30.5  +/-   1.0  (3*sigma error)\n",
      "Velocity Offset: 0.00\n"
     ]
    },
    {
     "name": "stderr",
     "output_type": "stream",
     "text": [
      "\u001b[1;33m[WARNING]: \u001b[0m\u001b[0;39mTrying to register the cmap 'sauron' which already exists.\u001b[0m \u001b[0;36m(UserWarning)\u001b[0m\n",
      "\u001b[1;33m[WARNING]: \u001b[0m\u001b[0;39mTrying to register the cmap 'sauron_r' which already exists.\u001b[0m \u001b[0;36m(UserWarning)\u001b[0m\n",
      "\u001b[1;33m[WARNING]: \u001b[0m\u001b[0;39mTrying to register the cmap 'sauron' which already exists.\u001b[0m \u001b[0;36m(UserWarning)\u001b[0m\n",
      "\u001b[1;33m[WARNING]: \u001b[0m\u001b[0;39mTrying to register the cmap 'sauron_r' which already exists.\u001b[0m \u001b[0;36m(UserWarning)\u001b[0m\n"
     ]
    },
    {
     "name": "stdout",
     "output_type": "stream",
     "text": [
      "  Kin PA: 122.0  +/-   0.5  (3*sigma error)\n",
      "Velocity Offset: 0.00\n"
     ]
    },
    {
     "name": "stderr",
     "output_type": "stream",
     "text": [
      "\u001b[1;33m[WARNING]: \u001b[0m\u001b[0;39mTrying to register the cmap 'sauron' which already exists.\u001b[0m \u001b[0;36m(UserWarning)\u001b[0m\n",
      "\u001b[1;33m[WARNING]: \u001b[0m\u001b[0;39mTrying to register the cmap 'sauron_r' which already exists.\u001b[0m \u001b[0;36m(UserWarning)\u001b[0m\n",
      "\u001b[1;33m[WARNING]: \u001b[0m\u001b[0;39mTrying to register the cmap 'sauron' which already exists.\u001b[0m \u001b[0;36m(UserWarning)\u001b[0m\n",
      "\u001b[1;33m[WARNING]: \u001b[0m\u001b[0;39mTrying to register the cmap 'sauron_r' which already exists.\u001b[0m \u001b[0;36m(UserWarning)\u001b[0m\n"
     ]
    },
    {
     "name": "stdout",
     "output_type": "stream",
     "text": [
      "  Kin PA:  91.0  +/-   9.8  (3*sigma error)\n",
      "Velocity Offset: 0.00\n"
     ]
    },
    {
     "name": "stderr",
     "output_type": "stream",
     "text": [
      "\u001b[1;33m[WARNING]: \u001b[0m\u001b[0;39mTrying to register the cmap 'sauron' which already exists.\u001b[0m \u001b[0;36m(UserWarning)\u001b[0m\n",
      "\u001b[1;33m[WARNING]: \u001b[0m\u001b[0;39mTrying to register the cmap 'sauron_r' which already exists.\u001b[0m \u001b[0;36m(UserWarning)\u001b[0m\n",
      "\u001b[1;33m[WARNING]: \u001b[0m\u001b[0;39mTrying to register the cmap 'sauron' which already exists.\u001b[0m \u001b[0;36m(UserWarning)\u001b[0m\n",
      "\u001b[1;33m[WARNING]: \u001b[0m\u001b[0;39mTrying to register the cmap 'sauron_r' which already exists.\u001b[0m \u001b[0;36m(UserWarning)\u001b[0m\n"
     ]
    },
    {
     "name": "stdout",
     "output_type": "stream",
     "text": [
      "  Kin PA:  23.5  +/-   0.5  (3*sigma error)\n",
      "Velocity Offset: 0.00\n"
     ]
    },
    {
     "name": "stderr",
     "output_type": "stream",
     "text": [
      "\u001b[1;33m[WARNING]: \u001b[0m\u001b[0;39mTrying to register the cmap 'sauron' which already exists.\u001b[0m \u001b[0;36m(UserWarning)\u001b[0m\n",
      "\u001b[1;33m[WARNING]: \u001b[0m\u001b[0;39mTrying to register the cmap 'sauron_r' which already exists.\u001b[0m \u001b[0;36m(UserWarning)\u001b[0m\n",
      "\u001b[1;33m[WARNING]: \u001b[0m\u001b[0;39mTrying to register the cmap 'sauron' which already exists.\u001b[0m \u001b[0;36m(UserWarning)\u001b[0m\n",
      "\u001b[1;33m[WARNING]: \u001b[0m\u001b[0;39mTrying to register the cmap 'sauron_r' which already exists.\u001b[0m \u001b[0;36m(UserWarning)\u001b[0m\n"
     ]
    },
    {
     "name": "stdout",
     "output_type": "stream",
     "text": [
      "  Kin PA:  95.0  +/-   4.0  (3*sigma error)\n",
      "Velocity Offset: 0.00\n"
     ]
    },
    {
     "name": "stderr",
     "output_type": "stream",
     "text": [
      "\u001b[1;33m[WARNING]: \u001b[0m\u001b[0;39mTrying to register the cmap 'sauron' which already exists.\u001b[0m \u001b[0;36m(UserWarning)\u001b[0m\n",
      "\u001b[1;33m[WARNING]: \u001b[0m\u001b[0;39mTrying to register the cmap 'sauron_r' which already exists.\u001b[0m \u001b[0;36m(UserWarning)\u001b[0m\n",
      "\u001b[1;33m[WARNING]: \u001b[0m\u001b[0;39mTrying to register the cmap 'sauron' which already exists.\u001b[0m \u001b[0;36m(UserWarning)\u001b[0m\n",
      "\u001b[1;33m[WARNING]: \u001b[0m\u001b[0;39mTrying to register the cmap 'sauron_r' which already exists.\u001b[0m \u001b[0;36m(UserWarning)\u001b[0m\n"
     ]
    },
    {
     "name": "stdout",
     "output_type": "stream",
     "text": [
      "  Kin PA: 100.5  +/-   0.5  (3*sigma error)\n",
      "Velocity Offset: 0.00\n"
     ]
    },
    {
     "name": "stderr",
     "output_type": "stream",
     "text": [
      "\u001b[1;33m[WARNING]: \u001b[0m\u001b[0;39mTrying to register the cmap 'sauron' which already exists.\u001b[0m \u001b[0;36m(UserWarning)\u001b[0m\n",
      "\u001b[1;33m[WARNING]: \u001b[0m\u001b[0;39mTrying to register the cmap 'sauron_r' which already exists.\u001b[0m \u001b[0;36m(UserWarning)\u001b[0m\n",
      "\u001b[1;33m[WARNING]: \u001b[0m\u001b[0;39mTrying to register the cmap 'sauron' which already exists.\u001b[0m \u001b[0;36m(UserWarning)\u001b[0m\n",
      "\u001b[1;33m[WARNING]: \u001b[0m\u001b[0;39mTrying to register the cmap 'sauron_r' which already exists.\u001b[0m \u001b[0;36m(UserWarning)\u001b[0m\n"
     ]
    },
    {
     "name": "stdout",
     "output_type": "stream",
     "text": [
      "  Kin PA:  52.0  +/-  13.0  (3*sigma error)\n",
      "Velocity Offset: 0.00\n"
     ]
    },
    {
     "name": "stderr",
     "output_type": "stream",
     "text": [
      "\u001b[1;33m[WARNING]: \u001b[0m\u001b[0;39mTrying to register the cmap 'sauron' which already exists.\u001b[0m \u001b[0;36m(UserWarning)\u001b[0m\n",
      "\u001b[1;33m[WARNING]: \u001b[0m\u001b[0;39mTrying to register the cmap 'sauron_r' which already exists.\u001b[0m \u001b[0;36m(UserWarning)\u001b[0m\n",
      "\u001b[1;33m[WARNING]: \u001b[0m\u001b[0;39mTrying to register the cmap 'sauron' which already exists.\u001b[0m \u001b[0;36m(UserWarning)\u001b[0m\n",
      "\u001b[1;33m[WARNING]: \u001b[0m\u001b[0;39mTrying to register the cmap 'sauron_r' which already exists.\u001b[0m \u001b[0;36m(UserWarning)\u001b[0m\n"
     ]
    },
    {
     "name": "stdout",
     "output_type": "stream",
     "text": [
      "  Kin PA:  50.0  +/-   0.5  (3*sigma error)\n",
      "Velocity Offset: 0.00\n"
     ]
    },
    {
     "name": "stderr",
     "output_type": "stream",
     "text": [
      "\u001b[1;33m[WARNING]: \u001b[0m\u001b[0;39mTrying to register the cmap 'sauron' which already exists.\u001b[0m \u001b[0;36m(UserWarning)\u001b[0m\n",
      "\u001b[1;33m[WARNING]: \u001b[0m\u001b[0;39mTrying to register the cmap 'sauron_r' which already exists.\u001b[0m \u001b[0;36m(UserWarning)\u001b[0m\n",
      "\u001b[1;33m[WARNING]: \u001b[0m\u001b[0;39mTrying to register the cmap 'sauron' which already exists.\u001b[0m \u001b[0;36m(UserWarning)\u001b[0m\n",
      "\u001b[1;33m[WARNING]: \u001b[0m\u001b[0;39mTrying to register the cmap 'sauron_r' which already exists.\u001b[0m \u001b[0;36m(UserWarning)\u001b[0m\n"
     ]
    },
    {
     "name": "stdout",
     "output_type": "stream",
     "text": [
      "  Kin PA: 130.0  +/-   7.5  (3*sigma error)\n",
      "Velocity Offset: 0.00\n"
     ]
    },
    {
     "name": "stderr",
     "output_type": "stream",
     "text": [
      "\u001b[1;33m[WARNING]: \u001b[0m\u001b[0;39mTrying to register the cmap 'sauron' which already exists.\u001b[0m \u001b[0;36m(UserWarning)\u001b[0m\n",
      "\u001b[1;33m[WARNING]: \u001b[0m\u001b[0;39mTrying to register the cmap 'sauron_r' which already exists.\u001b[0m \u001b[0;36m(UserWarning)\u001b[0m\n"
     ]
    },
    {
     "name": "stdout",
     "output_type": "stream",
     "text": [
      "  Kin PA:  42.5  +/-   0.5  (3*sigma error)\n",
      "Velocity Offset: 0.00\n"
     ]
    },
    {
     "name": "stderr",
     "output_type": "stream",
     "text": [
      "\u001b[1;33m[WARNING]: \u001b[0m\u001b[0;39mTrying to register the cmap 'sauron' which already exists.\u001b[0m \u001b[0;36m(UserWarning)\u001b[0m\n",
      "\u001b[1;33m[WARNING]: \u001b[0m\u001b[0;39mTrying to register the cmap 'sauron_r' which already exists.\u001b[0m \u001b[0;36m(UserWarning)\u001b[0m\n",
      "\u001b[1;33m[WARNING]: \u001b[0m\u001b[0;39mTrying to register the cmap 'sauron' which already exists.\u001b[0m \u001b[0;36m(UserWarning)\u001b[0m\n",
      "\u001b[1;33m[WARNING]: \u001b[0m\u001b[0;39mTrying to register the cmap 'sauron_r' which already exists.\u001b[0m \u001b[0;36m(UserWarning)\u001b[0m\n",
      "\u001b[1;33m[WARNING]: \u001b[0m\u001b[0;39mTrying to register the cmap 'sauron' which already exists.\u001b[0m \u001b[0;36m(UserWarning)\u001b[0m\n",
      "\u001b[1;33m[WARNING]: \u001b[0m\u001b[0;39mTrying to register the cmap 'sauron_r' which already exists.\u001b[0m \u001b[0;36m(UserWarning)\u001b[0m\n"
     ]
    },
    {
     "name": "stdout",
     "output_type": "stream",
     "text": [
      "  Kin PA:  23.0  +/-   2.8  (3*sigma error)\n",
      "Velocity Offset: 0.00\n"
     ]
    },
    {
     "name": "stderr",
     "output_type": "stream",
     "text": [
      "\u001b[1;33m[WARNING]: \u001b[0m\u001b[0;39mTrying to register the cmap 'sauron' which already exists.\u001b[0m \u001b[0;36m(UserWarning)\u001b[0m\n",
      "\u001b[1;33m[WARNING]: \u001b[0m\u001b[0;39mTrying to register the cmap 'sauron_r' which already exists.\u001b[0m \u001b[0;36m(UserWarning)\u001b[0m\n",
      "\u001b[1;33m[WARNING]: \u001b[0m\u001b[0;39mTrying to register the cmap 'sauron' which already exists.\u001b[0m \u001b[0;36m(UserWarning)\u001b[0m\n",
      "\u001b[1;33m[WARNING]: \u001b[0m\u001b[0;39mTrying to register the cmap 'sauron_r' which already exists.\u001b[0m \u001b[0;36m(UserWarning)\u001b[0m\n"
     ]
    },
    {
     "name": "stdout",
     "output_type": "stream",
     "text": [
      "  Kin PA:  14.0  +/-   0.5  (3*sigma error)\n",
      "Velocity Offset: 0.00\n"
     ]
    },
    {
     "name": "stderr",
     "output_type": "stream",
     "text": [
      "\u001b[1;33m[WARNING]: \u001b[0m\u001b[0;39mTrying to register the cmap 'sauron' which already exists.\u001b[0m \u001b[0;36m(UserWarning)\u001b[0m\n",
      "\u001b[1;33m[WARNING]: \u001b[0m\u001b[0;39mTrying to register the cmap 'sauron_r' which already exists.\u001b[0m \u001b[0;36m(UserWarning)\u001b[0m\n"
     ]
    },
    {
     "name": "stdout",
     "output_type": "stream",
     "text": [
      "  Kin PA:   2.5  +/-   3.3  (3*sigma error)\n",
      "Velocity Offset: 0.28\n"
     ]
    },
    {
     "name": "stderr",
     "output_type": "stream",
     "text": [
      "\u001b[1;33m[WARNING]: \u001b[0m\u001b[0;39mTrying to register the cmap 'sauron' which already exists.\u001b[0m \u001b[0;36m(UserWarning)\u001b[0m\n",
      "\u001b[1;33m[WARNING]: \u001b[0m\u001b[0;39mTrying to register the cmap 'sauron_r' which already exists.\u001b[0m \u001b[0;36m(UserWarning)\u001b[0m\n",
      "\u001b[1;33m[WARNING]: \u001b[0m\u001b[0;39mTrying to register the cmap 'sauron' which already exists.\u001b[0m \u001b[0;36m(UserWarning)\u001b[0m\n",
      "\u001b[1;33m[WARNING]: \u001b[0m\u001b[0;39mTrying to register the cmap 'sauron_r' which already exists.\u001b[0m \u001b[0;36m(UserWarning)\u001b[0m\n",
      "\u001b[1;33m[WARNING]: \u001b[0m\u001b[0;39mTrying to register the cmap 'sauron' which already exists.\u001b[0m \u001b[0;36m(UserWarning)\u001b[0m\n",
      "\u001b[1;33m[WARNING]: \u001b[0m\u001b[0;39mTrying to register the cmap 'sauron_r' which already exists.\u001b[0m \u001b[0;36m(UserWarning)\u001b[0m\n"
     ]
    },
    {
     "name": "stdout",
     "output_type": "stream",
     "text": [
      "  Kin PA: 112.0  +/-   0.5  (3*sigma error)\n",
      "Velocity Offset: 0.00\n"
     ]
    },
    {
     "name": "stderr",
     "output_type": "stream",
     "text": [
      "\u001b[1;33m[WARNING]: \u001b[0m\u001b[0;39mTrying to register the cmap 'sauron' which already exists.\u001b[0m \u001b[0;36m(UserWarning)\u001b[0m\n",
      "\u001b[1;33m[WARNING]: \u001b[0m\u001b[0;39mTrying to register the cmap 'sauron_r' which already exists.\u001b[0m \u001b[0;36m(UserWarning)\u001b[0m\n"
     ]
    },
    {
     "name": "stdout",
     "output_type": "stream",
     "text": [
      "  Kin PA:  32.0  +/-   7.8  (3*sigma error)\n",
      "Velocity Offset: 0.00\n"
     ]
    },
    {
     "name": "stderr",
     "output_type": "stream",
     "text": [
      "\u001b[1;33m[WARNING]: \u001b[0m\u001b[0;39mTrying to register the cmap 'sauron' which already exists.\u001b[0m \u001b[0;36m(UserWarning)\u001b[0m\n",
      "\u001b[1;33m[WARNING]: \u001b[0m\u001b[0;39mTrying to register the cmap 'sauron_r' which already exists.\u001b[0m \u001b[0;36m(UserWarning)\u001b[0m\n",
      "\u001b[1;33m[WARNING]: \u001b[0m\u001b[0;39mTrying to register the cmap 'sauron' which already exists.\u001b[0m \u001b[0;36m(UserWarning)\u001b[0m\n",
      "\u001b[1;33m[WARNING]: \u001b[0m\u001b[0;39mTrying to register the cmap 'sauron_r' which already exists.\u001b[0m \u001b[0;36m(UserWarning)\u001b[0m\n"
     ]
    },
    {
     "name": "stdout",
     "output_type": "stream",
     "text": [
      "  Kin PA:  59.5  +/-   0.5  (3*sigma error)\n",
      "Velocity Offset: 0.00\n"
     ]
    },
    {
     "name": "stderr",
     "output_type": "stream",
     "text": [
      "\u001b[1;33m[WARNING]: \u001b[0m\u001b[0;39mTrying to register the cmap 'sauron' which already exists.\u001b[0m \u001b[0;36m(UserWarning)\u001b[0m\n",
      "\u001b[1;33m[WARNING]: \u001b[0m\u001b[0;39mTrying to register the cmap 'sauron_r' which already exists.\u001b[0m \u001b[0;36m(UserWarning)\u001b[0m\n",
      "\u001b[1;33m[WARNING]: \u001b[0m\u001b[0;39mTrying to register the cmap 'sauron' which already exists.\u001b[0m \u001b[0;36m(UserWarning)\u001b[0m\n",
      "\u001b[1;33m[WARNING]: \u001b[0m\u001b[0;39mTrying to register the cmap 'sauron_r' which already exists.\u001b[0m \u001b[0;36m(UserWarning)\u001b[0m\n"
     ]
    },
    {
     "name": "stdout",
     "output_type": "stream",
     "text": [
      "  Kin PA:  64.5  +/-  10.8  (3*sigma error)\n",
      "Velocity Offset: 0.00\n"
     ]
    },
    {
     "name": "stderr",
     "output_type": "stream",
     "text": [
      "\u001b[1;33m[WARNING]: \u001b[0m\u001b[0;39mTrying to register the cmap 'sauron' which already exists.\u001b[0m \u001b[0;36m(UserWarning)\u001b[0m\n",
      "\u001b[1;33m[WARNING]: \u001b[0m\u001b[0;39mTrying to register the cmap 'sauron_r' which already exists.\u001b[0m \u001b[0;36m(UserWarning)\u001b[0m\n",
      "\u001b[1;33m[WARNING]: \u001b[0m\u001b[0;39mTrying to register the cmap 'sauron' which already exists.\u001b[0m \u001b[0;36m(UserWarning)\u001b[0m\n",
      "\u001b[1;33m[WARNING]: \u001b[0m\u001b[0;39mTrying to register the cmap 'sauron_r' which already exists.\u001b[0m \u001b[0;36m(UserWarning)\u001b[0m\n"
     ]
    },
    {
     "name": "stdout",
     "output_type": "stream",
     "text": [
      "  Kin PA: 162.5  +/-   0.5  (3*sigma error)\n",
      "Velocity Offset: 0.00\n"
     ]
    },
    {
     "name": "stderr",
     "output_type": "stream",
     "text": [
      "\u001b[1;33m[WARNING]: \u001b[0m\u001b[0;39mTrying to register the cmap 'sauron' which already exists.\u001b[0m \u001b[0;36m(UserWarning)\u001b[0m\n",
      "\u001b[1;33m[WARNING]: \u001b[0m\u001b[0;39mTrying to register the cmap 'sauron_r' which already exists.\u001b[0m \u001b[0;36m(UserWarning)\u001b[0m\n",
      "\u001b[1;33m[WARNING]: \u001b[0m\u001b[0;39mTrying to register the cmap 'sauron' which already exists.\u001b[0m \u001b[0;36m(UserWarning)\u001b[0m\n",
      "\u001b[1;33m[WARNING]: \u001b[0m\u001b[0;39mTrying to register the cmap 'sauron_r' which already exists.\u001b[0m \u001b[0;36m(UserWarning)\u001b[0m\n",
      "\u001b[1;33m[WARNING]: \u001b[0m\u001b[0;39mTrying to register the cmap 'sauron' which already exists.\u001b[0m \u001b[0;36m(UserWarning)\u001b[0m\n",
      "\u001b[1;33m[WARNING]: \u001b[0m\u001b[0;39mTrying to register the cmap 'sauron_r' which already exists.\u001b[0m \u001b[0;36m(UserWarning)\u001b[0m\n"
     ]
    },
    {
     "name": "stdout",
     "output_type": "stream",
     "text": [
      "  Kin PA:   7.0  +/-   6.2  (3*sigma error)\n",
      "Velocity Offset: 0.00\n"
     ]
    },
    {
     "name": "stderr",
     "output_type": "stream",
     "text": [
      "\u001b[1;33m[WARNING]: \u001b[0m\u001b[0;39mTrying to register the cmap 'sauron' which already exists.\u001b[0m \u001b[0;36m(UserWarning)\u001b[0m\n",
      "\u001b[1;33m[WARNING]: \u001b[0m\u001b[0;39mTrying to register the cmap 'sauron_r' which already exists.\u001b[0m \u001b[0;36m(UserWarning)\u001b[0m\n",
      "\u001b[1;33m[WARNING]: \u001b[0m\u001b[0;39mTrying to register the cmap 'sauron' which already exists.\u001b[0m \u001b[0;36m(UserWarning)\u001b[0m\n",
      "\u001b[1;33m[WARNING]: \u001b[0m\u001b[0;39mTrying to register the cmap 'sauron_r' which already exists.\u001b[0m \u001b[0;36m(UserWarning)\u001b[0m\n"
     ]
    },
    {
     "name": "stdout",
     "output_type": "stream",
     "text": [
      "  Kin PA:  47.0  +/-   0.5  (3*sigma error)\n",
      "Velocity Offset: 0.00\n"
     ]
    },
    {
     "name": "stderr",
     "output_type": "stream",
     "text": [
      "\u001b[1;33m[WARNING]: \u001b[0m\u001b[0;39mTrying to register the cmap 'sauron' which already exists.\u001b[0m \u001b[0;36m(UserWarning)\u001b[0m\n",
      "\u001b[1;33m[WARNING]: \u001b[0m\u001b[0;39mTrying to register the cmap 'sauron_r' which already exists.\u001b[0m \u001b[0;36m(UserWarning)\u001b[0m\n"
     ]
    },
    {
     "name": "stdout",
     "output_type": "stream",
     "text": [
      "  Kin PA:  56.0  +/-  15.5  (3*sigma error)\n",
      "Velocity Offset: 0.00\n"
     ]
    },
    {
     "name": "stderr",
     "output_type": "stream",
     "text": [
      "\u001b[1;33m[WARNING]: \u001b[0m\u001b[0;39mTrying to register the cmap 'sauron' which already exists.\u001b[0m \u001b[0;36m(UserWarning)\u001b[0m\n",
      "\u001b[1;33m[WARNING]: \u001b[0m\u001b[0;39mTrying to register the cmap 'sauron_r' which already exists.\u001b[0m \u001b[0;36m(UserWarning)\u001b[0m\n",
      "\u001b[1;33m[WARNING]: \u001b[0m\u001b[0;39mTrying to register the cmap 'sauron' which already exists.\u001b[0m \u001b[0;36m(UserWarning)\u001b[0m\n",
      "\u001b[1;33m[WARNING]: \u001b[0m\u001b[0;39mTrying to register the cmap 'sauron_r' which already exists.\u001b[0m \u001b[0;36m(UserWarning)\u001b[0m\n"
     ]
    },
    {
     "name": "stdout",
     "output_type": "stream",
     "text": [
      "  Kin PA:  58.0  +/-   0.5  (3*sigma error)\n",
      "Velocity Offset: 0.00\n"
     ]
    },
    {
     "name": "stderr",
     "output_type": "stream",
     "text": [
      "\u001b[1;33m[WARNING]: \u001b[0m\u001b[0;39mTrying to register the cmap 'sauron' which already exists.\u001b[0m \u001b[0;36m(UserWarning)\u001b[0m\n",
      "\u001b[1;33m[WARNING]: \u001b[0m\u001b[0;39mTrying to register the cmap 'sauron_r' which already exists.\u001b[0m \u001b[0;36m(UserWarning)\u001b[0m\n",
      "\u001b[1;33m[WARNING]: \u001b[0m\u001b[0;39mTrying to register the cmap 'sauron' which already exists.\u001b[0m \u001b[0;36m(UserWarning)\u001b[0m\n",
      "\u001b[1;33m[WARNING]: \u001b[0m\u001b[0;39mTrying to register the cmap 'sauron_r' which already exists.\u001b[0m \u001b[0;36m(UserWarning)\u001b[0m\n"
     ]
    },
    {
     "name": "stdout",
     "output_type": "stream",
     "text": [
      "  Kin PA:  27.0  +/-   5.8  (3*sigma error)\n",
      "Velocity Offset: 0.00\n"
     ]
    },
    {
     "name": "stderr",
     "output_type": "stream",
     "text": [
      "\u001b[1;33m[WARNING]: \u001b[0m\u001b[0;39mTrying to register the cmap 'sauron' which already exists.\u001b[0m \u001b[0;36m(UserWarning)\u001b[0m\n",
      "\u001b[1;33m[WARNING]: \u001b[0m\u001b[0;39mTrying to register the cmap 'sauron_r' which already exists.\u001b[0m \u001b[0;36m(UserWarning)\u001b[0m\n",
      "\u001b[1;33m[WARNING]: \u001b[0m\u001b[0;39mTrying to register the cmap 'sauron' which already exists.\u001b[0m \u001b[0;36m(UserWarning)\u001b[0m\n",
      "\u001b[1;33m[WARNING]: \u001b[0m\u001b[0;39mTrying to register the cmap 'sauron_r' which already exists.\u001b[0m \u001b[0;36m(UserWarning)\u001b[0m\n"
     ]
    },
    {
     "name": "stdout",
     "output_type": "stream",
     "text": [
      "  Kin PA:  37.0  +/-   0.5  (3*sigma error)\n",
      "Velocity Offset: 0.00\n"
     ]
    },
    {
     "name": "stderr",
     "output_type": "stream",
     "text": [
      "\u001b[1;33m[WARNING]: \u001b[0m\u001b[0;39mTrying to register the cmap 'sauron' which already exists.\u001b[0m \u001b[0;36m(UserWarning)\u001b[0m\n",
      "\u001b[1;33m[WARNING]: \u001b[0m\u001b[0;39mTrying to register the cmap 'sauron_r' which already exists.\u001b[0m \u001b[0;36m(UserWarning)\u001b[0m\n",
      "\u001b[1;33m[WARNING]: \u001b[0m\u001b[0;39mTrying to register the cmap 'sauron' which already exists.\u001b[0m \u001b[0;36m(UserWarning)\u001b[0m\n",
      "\u001b[1;33m[WARNING]: \u001b[0m\u001b[0;39mTrying to register the cmap 'sauron_r' which already exists.\u001b[0m \u001b[0;36m(UserWarning)\u001b[0m\n",
      "\u001b[1;33m[WARNING]: \u001b[0m\u001b[0;39mTrying to register the cmap 'sauron' which already exists.\u001b[0m \u001b[0;36m(UserWarning)\u001b[0m\n",
      "\u001b[1;33m[WARNING]: \u001b[0m\u001b[0;39mTrying to register the cmap 'sauron_r' which already exists.\u001b[0m \u001b[0;36m(UserWarning)\u001b[0m\n"
     ]
    },
    {
     "name": "stdout",
     "output_type": "stream",
     "text": [
      "  Kin PA:  99.0  +/-  66.0  (3*sigma error)\n",
      "Velocity Offset: 0.00\n"
     ]
    },
    {
     "name": "stderr",
     "output_type": "stream",
     "text": [
      "\u001b[1;33m[WARNING]: \u001b[0m\u001b[0;39mTrying to register the cmap 'sauron' which already exists.\u001b[0m \u001b[0;36m(UserWarning)\u001b[0m\n",
      "\u001b[1;33m[WARNING]: \u001b[0m\u001b[0;39mTrying to register the cmap 'sauron_r' which already exists.\u001b[0m \u001b[0;36m(UserWarning)\u001b[0m\n"
     ]
    },
    {
     "name": "stdout",
     "output_type": "stream",
     "text": [
      "  Kin PA:  93.0  +/-   0.5  (3*sigma error)\n",
      "Velocity Offset: 0.00\n"
     ]
    },
    {
     "name": "stderr",
     "output_type": "stream",
     "text": [
      "\u001b[1;33m[WARNING]: \u001b[0m\u001b[0;39mTrying to register the cmap 'sauron' which already exists.\u001b[0m \u001b[0;36m(UserWarning)\u001b[0m\n",
      "\u001b[1;33m[WARNING]: \u001b[0m\u001b[0;39mTrying to register the cmap 'sauron_r' which already exists.\u001b[0m \u001b[0;36m(UserWarning)\u001b[0m\n",
      "\u001b[1;33m[WARNING]: \u001b[0m\u001b[0;39mTrying to register the cmap 'sauron' which already exists.\u001b[0m \u001b[0;36m(UserWarning)\u001b[0m\n",
      "\u001b[1;33m[WARNING]: \u001b[0m\u001b[0;39mTrying to register the cmap 'sauron_r' which already exists.\u001b[0m \u001b[0;36m(UserWarning)\u001b[0m\n"
     ]
    },
    {
     "name": "stdout",
     "output_type": "stream",
     "text": [
      "  Kin PA: 147.5  +/-   5.8  (3*sigma error)\n",
      "Velocity Offset: 0.09\n"
     ]
    },
    {
     "name": "stderr",
     "output_type": "stream",
     "text": [
      "\u001b[1;33m[WARNING]: \u001b[0m\u001b[0;39mTrying to register the cmap 'sauron' which already exists.\u001b[0m \u001b[0;36m(UserWarning)\u001b[0m\n",
      "\u001b[1;33m[WARNING]: \u001b[0m\u001b[0;39mTrying to register the cmap 'sauron_r' which already exists.\u001b[0m \u001b[0;36m(UserWarning)\u001b[0m\n",
      "\u001b[1;33m[WARNING]: \u001b[0m\u001b[0;39mTrying to register the cmap 'sauron' which already exists.\u001b[0m \u001b[0;36m(UserWarning)\u001b[0m\n",
      "\u001b[1;33m[WARNING]: \u001b[0m\u001b[0;39mTrying to register the cmap 'sauron_r' which already exists.\u001b[0m \u001b[0;36m(UserWarning)\u001b[0m\n"
     ]
    },
    {
     "name": "stdout",
     "output_type": "stream",
     "text": [
      "  Kin PA: 123.5  +/-   0.5  (3*sigma error)\n",
      "Velocity Offset: 0.00\n"
     ]
    },
    {
     "name": "stderr",
     "output_type": "stream",
     "text": [
      "\u001b[1;33m[WARNING]: \u001b[0m\u001b[0;39mTrying to register the cmap 'sauron' which already exists.\u001b[0m \u001b[0;36m(UserWarning)\u001b[0m\n",
      "\u001b[1;33m[WARNING]: \u001b[0m\u001b[0;39mTrying to register the cmap 'sauron_r' which already exists.\u001b[0m \u001b[0;36m(UserWarning)\u001b[0m\n",
      "\u001b[1;33m[WARNING]: \u001b[0m\u001b[0;39mTrying to register the cmap 'sauron' which already exists.\u001b[0m \u001b[0;36m(UserWarning)\u001b[0m\n",
      "\u001b[1;33m[WARNING]: \u001b[0m\u001b[0;39mTrying to register the cmap 'sauron_r' which already exists.\u001b[0m \u001b[0;36m(UserWarning)\u001b[0m\n"
     ]
    },
    {
     "name": "stdout",
     "output_type": "stream",
     "text": [
      "  Kin PA:  54.0  +/-  17.5  (3*sigma error)\n",
      "Velocity Offset: 0.00\n"
     ]
    },
    {
     "name": "stderr",
     "output_type": "stream",
     "text": [
      "\u001b[1;33m[WARNING]: \u001b[0m\u001b[0;39mTrying to register the cmap 'sauron' which already exists.\u001b[0m \u001b[0;36m(UserWarning)\u001b[0m\n",
      "\u001b[1;33m[WARNING]: \u001b[0m\u001b[0;39mTrying to register the cmap 'sauron_r' which already exists.\u001b[0m \u001b[0;36m(UserWarning)\u001b[0m\n",
      "\u001b[1;33m[WARNING]: \u001b[0m\u001b[0;39mTrying to register the cmap 'sauron' which already exists.\u001b[0m \u001b[0;36m(UserWarning)\u001b[0m\n",
      "\u001b[1;33m[WARNING]: \u001b[0m\u001b[0;39mTrying to register the cmap 'sauron_r' which already exists.\u001b[0m \u001b[0;36m(UserWarning)\u001b[0m\n",
      "\u001b[1;33m[WARNING]: \u001b[0m\u001b[0;39mTrying to register the cmap 'sauron' which already exists.\u001b[0m \u001b[0;36m(UserWarning)\u001b[0m\n",
      "\u001b[1;33m[WARNING]: \u001b[0m\u001b[0;39mTrying to register the cmap 'sauron_r' which already exists.\u001b[0m \u001b[0;36m(UserWarning)\u001b[0m\n"
     ]
    },
    {
     "name": "stdout",
     "output_type": "stream",
     "text": [
      "  Kin PA: 161.5  +/-   0.5  (3*sigma error)\n",
      "Velocity Offset: 0.00\n"
     ]
    },
    {
     "name": "stderr",
     "output_type": "stream",
     "text": [
      "\u001b[1;33m[WARNING]: \u001b[0m\u001b[0;39mTrying to register the cmap 'sauron' which already exists.\u001b[0m \u001b[0;36m(UserWarning)\u001b[0m\n",
      "\u001b[1;33m[WARNING]: \u001b[0m\u001b[0;39mTrying to register the cmap 'sauron_r' which already exists.\u001b[0m \u001b[0;36m(UserWarning)\u001b[0m\n"
     ]
    },
    {
     "name": "stdout",
     "output_type": "stream",
     "text": [
      "  Kin PA: 113.5  +/-   9.8  (3*sigma error)\n",
      "Velocity Offset: 0.00\n"
     ]
    },
    {
     "name": "stderr",
     "output_type": "stream",
     "text": [
      "\u001b[1;33m[WARNING]: \u001b[0m\u001b[0;39mTrying to register the cmap 'sauron' which already exists.\u001b[0m \u001b[0;36m(UserWarning)\u001b[0m\n",
      "\u001b[1;33m[WARNING]: \u001b[0m\u001b[0;39mTrying to register the cmap 'sauron_r' which already exists.\u001b[0m \u001b[0;36m(UserWarning)\u001b[0m\n",
      "\u001b[1;33m[WARNING]: \u001b[0m\u001b[0;39mTrying to register the cmap 'sauron' which already exists.\u001b[0m \u001b[0;36m(UserWarning)\u001b[0m\n",
      "\u001b[1;33m[WARNING]: \u001b[0m\u001b[0;39mTrying to register the cmap 'sauron_r' which already exists.\u001b[0m \u001b[0;36m(UserWarning)\u001b[0m\n"
     ]
    },
    {
     "name": "stdout",
     "output_type": "stream",
     "text": [
      "  Kin PA: 124.0  +/-   0.5  (3*sigma error)\n",
      "Velocity Offset: 0.00\n"
     ]
    },
    {
     "name": "stderr",
     "output_type": "stream",
     "text": [
      "\u001b[1;33m[WARNING]: \u001b[0m\u001b[0;39mTrying to register the cmap 'sauron' which already exists.\u001b[0m \u001b[0;36m(UserWarning)\u001b[0m\n",
      "\u001b[1;33m[WARNING]: \u001b[0m\u001b[0;39mTrying to register the cmap 'sauron_r' which already exists.\u001b[0m \u001b[0;36m(UserWarning)\u001b[0m\n",
      "\u001b[1;33m[WARNING]: \u001b[0m\u001b[0;39mTrying to register the cmap 'sauron' which already exists.\u001b[0m \u001b[0;36m(UserWarning)\u001b[0m\n",
      "\u001b[1;33m[WARNING]: \u001b[0m\u001b[0;39mTrying to register the cmap 'sauron_r' which already exists.\u001b[0m \u001b[0;36m(UserWarning)\u001b[0m\n"
     ]
    },
    {
     "name": "stdout",
     "output_type": "stream",
     "text": [
      "  Kin PA: 124.5  +/-  12.5  (3*sigma error)\n",
      "Velocity Offset: 0.00\n"
     ]
    },
    {
     "name": "stderr",
     "output_type": "stream",
     "text": [
      "\u001b[1;33m[WARNING]: \u001b[0m\u001b[0;39mTrying to register the cmap 'sauron' which already exists.\u001b[0m \u001b[0;36m(UserWarning)\u001b[0m\n",
      "\u001b[1;33m[WARNING]: \u001b[0m\u001b[0;39mTrying to register the cmap 'sauron_r' which already exists.\u001b[0m \u001b[0;36m(UserWarning)\u001b[0m\n",
      "\u001b[1;33m[WARNING]: \u001b[0m\u001b[0;39mTrying to register the cmap 'sauron' which already exists.\u001b[0m \u001b[0;36m(UserWarning)\u001b[0m\n",
      "\u001b[1;33m[WARNING]: \u001b[0m\u001b[0;39mTrying to register the cmap 'sauron_r' which already exists.\u001b[0m \u001b[0;36m(UserWarning)\u001b[0m\n",
      "\u001b[1;33m[WARNING]: \u001b[0m\u001b[0;39mTrying to register the cmap 'sauron' which already exists.\u001b[0m \u001b[0;36m(UserWarning)\u001b[0m\n",
      "\u001b[1;33m[WARNING]: \u001b[0m\u001b[0;39mTrying to register the cmap 'sauron_r' which already exists.\u001b[0m \u001b[0;36m(UserWarning)\u001b[0m\n"
     ]
    },
    {
     "name": "stdout",
     "output_type": "stream",
     "text": [
      "  Kin PA: 153.5  +/-   0.5  (3*sigma error)\n",
      "Velocity Offset: 0.00\n"
     ]
    },
    {
     "name": "stderr",
     "output_type": "stream",
     "text": [
      "\u001b[1;33m[WARNING]: \u001b[0m\u001b[0;39mTrying to register the cmap 'sauron' which already exists.\u001b[0m \u001b[0;36m(UserWarning)\u001b[0m\n",
      "\u001b[1;33m[WARNING]: \u001b[0m\u001b[0;39mTrying to register the cmap 'sauron_r' which already exists.\u001b[0m \u001b[0;36m(UserWarning)\u001b[0m\n"
     ]
    },
    {
     "name": "stdout",
     "output_type": "stream",
     "text": [
      "  Kin PA: 143.0  +/-   5.8  (3*sigma error)\n",
      "Velocity Offset: 0.00\n"
     ]
    },
    {
     "name": "stderr",
     "output_type": "stream",
     "text": [
      "\u001b[1;33m[WARNING]: \u001b[0m\u001b[0;39mTrying to register the cmap 'sauron' which already exists.\u001b[0m \u001b[0;36m(UserWarning)\u001b[0m\n",
      "\u001b[1;33m[WARNING]: \u001b[0m\u001b[0;39mTrying to register the cmap 'sauron_r' which already exists.\u001b[0m \u001b[0;36m(UserWarning)\u001b[0m\n",
      "\u001b[1;33m[WARNING]: \u001b[0m\u001b[0;39mTrying to register the cmap 'sauron' which already exists.\u001b[0m \u001b[0;36m(UserWarning)\u001b[0m\n",
      "\u001b[1;33m[WARNING]: \u001b[0m\u001b[0;39mTrying to register the cmap 'sauron_r' which already exists.\u001b[0m \u001b[0;36m(UserWarning)\u001b[0m\n"
     ]
    },
    {
     "name": "stdout",
     "output_type": "stream",
     "text": [
      "  Kin PA:   4.5  +/-   0.5  (3*sigma error)\n",
      "Velocity Offset: 0.00\n"
     ]
    },
    {
     "name": "stderr",
     "output_type": "stream",
     "text": [
      "\u001b[1;33m[WARNING]: \u001b[0m\u001b[0;39mTrying to register the cmap 'sauron' which already exists.\u001b[0m \u001b[0;36m(UserWarning)\u001b[0m\n",
      "\u001b[1;33m[WARNING]: \u001b[0m\u001b[0;39mTrying to register the cmap 'sauron_r' which already exists.\u001b[0m \u001b[0;36m(UserWarning)\u001b[0m\n",
      "\u001b[1;33m[WARNING]: \u001b[0m\u001b[0;39mTrying to register the cmap 'sauron' which already exists.\u001b[0m \u001b[0;36m(UserWarning)\u001b[0m\n",
      "\u001b[1;33m[WARNING]: \u001b[0m\u001b[0;39mTrying to register the cmap 'sauron_r' which already exists.\u001b[0m \u001b[0;36m(UserWarning)\u001b[0m\n",
      "\u001b[1;33m[WARNING]: \u001b[0m\u001b[0;39mTrying to register the cmap 'sauron' which already exists.\u001b[0m \u001b[0;36m(UserWarning)\u001b[0m\n",
      "\u001b[1;33m[WARNING]: \u001b[0m\u001b[0;39mTrying to register the cmap 'sauron_r' which already exists.\u001b[0m \u001b[0;36m(UserWarning)\u001b[0m\n"
     ]
    },
    {
     "name": "stdout",
     "output_type": "stream",
     "text": [
      "  Kin PA: 139.0  +/-  12.0  (3*sigma error)\n",
      "Velocity Offset: 0.00\n"
     ]
    },
    {
     "name": "stderr",
     "output_type": "stream",
     "text": [
      "\u001b[1;33m[WARNING]: \u001b[0m\u001b[0;39mTrying to register the cmap 'sauron' which already exists.\u001b[0m \u001b[0;36m(UserWarning)\u001b[0m\n",
      "\u001b[1;33m[WARNING]: \u001b[0m\u001b[0;39mTrying to register the cmap 'sauron_r' which already exists.\u001b[0m \u001b[0;36m(UserWarning)\u001b[0m\n",
      "\u001b[1;33m[WARNING]: \u001b[0m\u001b[0;39mTrying to register the cmap 'sauron' which already exists.\u001b[0m \u001b[0;36m(UserWarning)\u001b[0m\n",
      "\u001b[1;33m[WARNING]: \u001b[0m\u001b[0;39mTrying to register the cmap 'sauron_r' which already exists.\u001b[0m \u001b[0;36m(UserWarning)\u001b[0m\n"
     ]
    },
    {
     "name": "stdout",
     "output_type": "stream",
     "text": [
      "  Kin PA:  85.0  +/-   0.5  (3*sigma error)\n",
      "Velocity Offset: 0.00\n"
     ]
    },
    {
     "name": "stderr",
     "output_type": "stream",
     "text": [
      "\u001b[1;33m[WARNING]: \u001b[0m\u001b[0;39mTrying to register the cmap 'sauron' which already exists.\u001b[0m \u001b[0;36m(UserWarning)\u001b[0m\n",
      "\u001b[1;33m[WARNING]: \u001b[0m\u001b[0;39mTrying to register the cmap 'sauron_r' which already exists.\u001b[0m \u001b[0;36m(UserWarning)\u001b[0m\n"
     ]
    },
    {
     "name": "stdout",
     "output_type": "stream",
     "text": [
      "  Kin PA:  54.5  +/-  43.5  (3*sigma error)\n",
      "Velocity Offset: 0.00\n"
     ]
    },
    {
     "name": "stderr",
     "output_type": "stream",
     "text": [
      "\u001b[1;33m[WARNING]: \u001b[0m\u001b[0;39mTrying to register the cmap 'sauron' which already exists.\u001b[0m \u001b[0;36m(UserWarning)\u001b[0m\n",
      "\u001b[1;33m[WARNING]: \u001b[0m\u001b[0;39mTrying to register the cmap 'sauron_r' which already exists.\u001b[0m \u001b[0;36m(UserWarning)\u001b[0m\n",
      "\u001b[1;33m[WARNING]: \u001b[0m\u001b[0;39mTrying to register the cmap 'sauron' which already exists.\u001b[0m \u001b[0;36m(UserWarning)\u001b[0m\n",
      "\u001b[1;33m[WARNING]: \u001b[0m\u001b[0;39mTrying to register the cmap 'sauron_r' which already exists.\u001b[0m \u001b[0;36m(UserWarning)\u001b[0m\n"
     ]
    },
    {
     "name": "stdout",
     "output_type": "stream",
     "text": [
      "  Kin PA: 121.5  +/-   0.5  (3*sigma error)\n",
      "Velocity Offset: 0.00\n"
     ]
    },
    {
     "name": "stderr",
     "output_type": "stream",
     "text": [
      "\u001b[1;33m[WARNING]: \u001b[0m\u001b[0;39mTrying to register the cmap 'sauron' which already exists.\u001b[0m \u001b[0;36m(UserWarning)\u001b[0m\n",
      "\u001b[1;33m[WARNING]: \u001b[0m\u001b[0;39mTrying to register the cmap 'sauron_r' which already exists.\u001b[0m \u001b[0;36m(UserWarning)\u001b[0m\n",
      "\u001b[1;33m[WARNING]: \u001b[0m\u001b[0;39mTrying to register the cmap 'sauron' which already exists.\u001b[0m \u001b[0;36m(UserWarning)\u001b[0m\n",
      "\u001b[1;33m[WARNING]: \u001b[0m\u001b[0;39mTrying to register the cmap 'sauron_r' which already exists.\u001b[0m \u001b[0;36m(UserWarning)\u001b[0m\n"
     ]
    },
    {
     "name": "stdout",
     "output_type": "stream",
     "text": [
      "  Kin PA:  30.0  +/-   4.8  (3*sigma error)\n",
      "Velocity Offset: 0.00\n"
     ]
    },
    {
     "name": "stderr",
     "output_type": "stream",
     "text": [
      "\u001b[1;33m[WARNING]: \u001b[0m\u001b[0;39mTrying to register the cmap 'sauron' which already exists.\u001b[0m \u001b[0;36m(UserWarning)\u001b[0m\n",
      "\u001b[1;33m[WARNING]: \u001b[0m\u001b[0;39mTrying to register the cmap 'sauron_r' which already exists.\u001b[0m \u001b[0;36m(UserWarning)\u001b[0m\n",
      "\u001b[1;33m[WARNING]: \u001b[0m\u001b[0;39mTrying to register the cmap 'sauron' which already exists.\u001b[0m \u001b[0;36m(UserWarning)\u001b[0m\n",
      "\u001b[1;33m[WARNING]: \u001b[0m\u001b[0;39mTrying to register the cmap 'sauron_r' which already exists.\u001b[0m \u001b[0;36m(UserWarning)\u001b[0m\n"
     ]
    },
    {
     "name": "stdout",
     "output_type": "stream",
     "text": [
      "  Kin PA:  40.0  +/-   0.5  (3*sigma error)\n",
      "Velocity Offset: 0.00\n"
     ]
    },
    {
     "name": "stderr",
     "output_type": "stream",
     "text": [
      "\u001b[1;33m[WARNING]: \u001b[0m\u001b[0;39mTrying to register the cmap 'sauron' which already exists.\u001b[0m \u001b[0;36m(UserWarning)\u001b[0m\n",
      "\u001b[1;33m[WARNING]: \u001b[0m\u001b[0;39mTrying to register the cmap 'sauron_r' which already exists.\u001b[0m \u001b[0;36m(UserWarning)\u001b[0m\n",
      "\u001b[1;33m[WARNING]: \u001b[0m\u001b[0;39mTrying to register the cmap 'sauron' which already exists.\u001b[0m \u001b[0;36m(UserWarning)\u001b[0m\n",
      "\u001b[1;33m[WARNING]: \u001b[0m\u001b[0;39mTrying to register the cmap 'sauron_r' which already exists.\u001b[0m \u001b[0;36m(UserWarning)\u001b[0m\n"
     ]
    },
    {
     "name": "stdout",
     "output_type": "stream",
     "text": [
      "  Kin PA:  19.0  +/-   6.0  (3*sigma error)\n",
      "Velocity Offset: 0.00\n"
     ]
    },
    {
     "name": "stderr",
     "output_type": "stream",
     "text": [
      "\u001b[1;33m[WARNING]: \u001b[0m\u001b[0;39mTrying to register the cmap 'sauron' which already exists.\u001b[0m \u001b[0;36m(UserWarning)\u001b[0m\n",
      "\u001b[1;33m[WARNING]: \u001b[0m\u001b[0;39mTrying to register the cmap 'sauron_r' which already exists.\u001b[0m \u001b[0;36m(UserWarning)\u001b[0m\n",
      "\u001b[1;33m[WARNING]: \u001b[0m\u001b[0;39mTrying to register the cmap 'sauron' which already exists.\u001b[0m \u001b[0;36m(UserWarning)\u001b[0m\n",
      "\u001b[1;33m[WARNING]: \u001b[0m\u001b[0;39mTrying to register the cmap 'sauron_r' which already exists.\u001b[0m \u001b[0;36m(UserWarning)\u001b[0m\n"
     ]
    },
    {
     "name": "stdout",
     "output_type": "stream",
     "text": [
      "  Kin PA: 126.0  +/-   0.5  (3*sigma error)\n",
      "Velocity Offset: 0.00\n"
     ]
    },
    {
     "name": "stderr",
     "output_type": "stream",
     "text": [
      "\u001b[1;33m[WARNING]: \u001b[0m\u001b[0;39mTrying to register the cmap 'sauron' which already exists.\u001b[0m \u001b[0;36m(UserWarning)\u001b[0m\n",
      "\u001b[1;33m[WARNING]: \u001b[0m\u001b[0;39mTrying to register the cmap 'sauron_r' which already exists.\u001b[0m \u001b[0;36m(UserWarning)\u001b[0m\n",
      "\u001b[1;33m[WARNING]: \u001b[0m\u001b[0;39mTrying to register the cmap 'sauron' which already exists.\u001b[0m \u001b[0;36m(UserWarning)\u001b[0m\n",
      "\u001b[1;33m[WARNING]: \u001b[0m\u001b[0;39mTrying to register the cmap 'sauron_r' which already exists.\u001b[0m \u001b[0;36m(UserWarning)\u001b[0m\n"
     ]
    },
    {
     "name": "stdout",
     "output_type": "stream",
     "text": [
      "  Kin PA: 114.5  +/-   8.2  (3*sigma error)\n",
      "Velocity Offset: 0.00\n"
     ]
    },
    {
     "name": "stderr",
     "output_type": "stream",
     "text": [
      "\u001b[1;33m[WARNING]: \u001b[0m\u001b[0;39mTrying to register the cmap 'sauron' which already exists.\u001b[0m \u001b[0;36m(UserWarning)\u001b[0m\n",
      "\u001b[1;33m[WARNING]: \u001b[0m\u001b[0;39mTrying to register the cmap 'sauron_r' which already exists.\u001b[0m \u001b[0;36m(UserWarning)\u001b[0m\n",
      "\u001b[1;33m[WARNING]: \u001b[0m\u001b[0;39mTrying to register the cmap 'sauron' which already exists.\u001b[0m \u001b[0;36m(UserWarning)\u001b[0m\n",
      "\u001b[1;33m[WARNING]: \u001b[0m\u001b[0;39mTrying to register the cmap 'sauron_r' which already exists.\u001b[0m \u001b[0;36m(UserWarning)\u001b[0m\n"
     ]
    },
    {
     "name": "stdout",
     "output_type": "stream",
     "text": [
      "  Kin PA: 140.0  +/-   0.5  (3*sigma error)\n",
      "Velocity Offset: 0.00\n"
     ]
    },
    {
     "name": "stderr",
     "output_type": "stream",
     "text": [
      "\u001b[1;33m[WARNING]: \u001b[0m\u001b[0;39mTrying to register the cmap 'sauron' which already exists.\u001b[0m \u001b[0;36m(UserWarning)\u001b[0m\n",
      "\u001b[1;33m[WARNING]: \u001b[0m\u001b[0;39mTrying to register the cmap 'sauron_r' which already exists.\u001b[0m \u001b[0;36m(UserWarning)\u001b[0m\n",
      "\u001b[1;33m[WARNING]: \u001b[0m\u001b[0;39mTrying to register the cmap 'sauron' which already exists.\u001b[0m \u001b[0;36m(UserWarning)\u001b[0m\n",
      "\u001b[1;33m[WARNING]: \u001b[0m\u001b[0;39mTrying to register the cmap 'sauron_r' which already exists.\u001b[0m \u001b[0;36m(UserWarning)\u001b[0m\n"
     ]
    },
    {
     "name": "stdout",
     "output_type": "stream",
     "text": [
      "  Kin PA: 119.0  +/-   9.0  (3*sigma error)\n",
      "Velocity Offset: 0.00\n"
     ]
    },
    {
     "name": "stderr",
     "output_type": "stream",
     "text": [
      "\u001b[1;33m[WARNING]: \u001b[0m\u001b[0;39mTrying to register the cmap 'sauron' which already exists.\u001b[0m \u001b[0;36m(UserWarning)\u001b[0m\n",
      "\u001b[1;33m[WARNING]: \u001b[0m\u001b[0;39mTrying to register the cmap 'sauron_r' which already exists.\u001b[0m \u001b[0;36m(UserWarning)\u001b[0m\n",
      "\u001b[1;33m[WARNING]: \u001b[0m\u001b[0;39mTrying to register the cmap 'sauron' which already exists.\u001b[0m \u001b[0;36m(UserWarning)\u001b[0m\n",
      "\u001b[1;33m[WARNING]: \u001b[0m\u001b[0;39mTrying to register the cmap 'sauron_r' which already exists.\u001b[0m \u001b[0;36m(UserWarning)\u001b[0m\n"
     ]
    },
    {
     "name": "stdout",
     "output_type": "stream",
     "text": [
      "  Kin PA:  72.0  +/-   0.5  (3*sigma error)\n",
      "Velocity Offset: 0.00\n"
     ]
    },
    {
     "name": "stderr",
     "output_type": "stream",
     "text": [
      "\u001b[1;33m[WARNING]: \u001b[0m\u001b[0;39mTrying to register the cmap 'sauron' which already exists.\u001b[0m \u001b[0;36m(UserWarning)\u001b[0m\n",
      "\u001b[1;33m[WARNING]: \u001b[0m\u001b[0;39mTrying to register the cmap 'sauron_r' which already exists.\u001b[0m \u001b[0;36m(UserWarning)\u001b[0m\n",
      "\u001b[1;33m[WARNING]: \u001b[0m\u001b[0;39mTrying to register the cmap 'sauron' which already exists.\u001b[0m \u001b[0;36m(UserWarning)\u001b[0m\n",
      "\u001b[1;33m[WARNING]: \u001b[0m\u001b[0;39mTrying to register the cmap 'sauron_r' which already exists.\u001b[0m \u001b[0;36m(UserWarning)\u001b[0m\n"
     ]
    },
    {
     "name": "stdout",
     "output_type": "stream",
     "text": [
      "  Kin PA: 112.5  +/-   7.8  (3*sigma error)\n",
      "Velocity Offset: 0.00\n"
     ]
    },
    {
     "name": "stderr",
     "output_type": "stream",
     "text": [
      "\u001b[1;33m[WARNING]: \u001b[0m\u001b[0;39mTrying to register the cmap 'sauron' which already exists.\u001b[0m \u001b[0;36m(UserWarning)\u001b[0m\n",
      "\u001b[1;33m[WARNING]: \u001b[0m\u001b[0;39mTrying to register the cmap 'sauron_r' which already exists.\u001b[0m \u001b[0;36m(UserWarning)\u001b[0m\n",
      "\u001b[1;33m[WARNING]: \u001b[0m\u001b[0;39mTrying to register the cmap 'sauron' which already exists.\u001b[0m \u001b[0;36m(UserWarning)\u001b[0m\n",
      "\u001b[1;33m[WARNING]: \u001b[0m\u001b[0;39mTrying to register the cmap 'sauron_r' which already exists.\u001b[0m \u001b[0;36m(UserWarning)\u001b[0m\n"
     ]
    },
    {
     "name": "stdout",
     "output_type": "stream",
     "text": [
      "  Kin PA:  83.5  +/-   0.5  (3*sigma error)\n",
      "Velocity Offset: 0.00\n"
     ]
    },
    {
     "name": "stderr",
     "output_type": "stream",
     "text": [
      "\u001b[1;33m[WARNING]: \u001b[0m\u001b[0;39mTrying to register the cmap 'sauron' which already exists.\u001b[0m \u001b[0;36m(UserWarning)\u001b[0m\n",
      "\u001b[1;33m[WARNING]: \u001b[0m\u001b[0;39mTrying to register the cmap 'sauron_r' which already exists.\u001b[0m \u001b[0;36m(UserWarning)\u001b[0m\n",
      "\u001b[1;33m[WARNING]: \u001b[0m\u001b[0;39mTrying to register the cmap 'sauron' which already exists.\u001b[0m \u001b[0;36m(UserWarning)\u001b[0m\n",
      "\u001b[1;33m[WARNING]: \u001b[0m\u001b[0;39mTrying to register the cmap 'sauron_r' which already exists.\u001b[0m \u001b[0;36m(UserWarning)\u001b[0m\n"
     ]
    },
    {
     "name": "stdout",
     "output_type": "stream",
     "text": [
      "  Kin PA:  86.0  +/-  11.2  (3*sigma error)\n",
      "Velocity Offset: 0.00\n"
     ]
    },
    {
     "name": "stderr",
     "output_type": "stream",
     "text": [
      "\u001b[1;33m[WARNING]: \u001b[0m\u001b[0;39mTrying to register the cmap 'sauron' which already exists.\u001b[0m \u001b[0;36m(UserWarning)\u001b[0m\n",
      "\u001b[1;33m[WARNING]: \u001b[0m\u001b[0;39mTrying to register the cmap 'sauron_r' which already exists.\u001b[0m \u001b[0;36m(UserWarning)\u001b[0m\n",
      "\u001b[1;33m[WARNING]: \u001b[0m\u001b[0;39mTrying to register the cmap 'sauron' which already exists.\u001b[0m \u001b[0;36m(UserWarning)\u001b[0m\n",
      "\u001b[1;33m[WARNING]: \u001b[0m\u001b[0;39mTrying to register the cmap 'sauron_r' which already exists.\u001b[0m \u001b[0;36m(UserWarning)\u001b[0m\n"
     ]
    },
    {
     "name": "stdout",
     "output_type": "stream",
     "text": [
      "  Kin PA: 153.0  +/-   0.5  (3*sigma error)\n",
      "Velocity Offset: 0.00\n"
     ]
    },
    {
     "name": "stderr",
     "output_type": "stream",
     "text": [
      "\u001b[1;33m[WARNING]: \u001b[0m\u001b[0;39mTrying to register the cmap 'sauron' which already exists.\u001b[0m \u001b[0;36m(UserWarning)\u001b[0m\n",
      "\u001b[1;33m[WARNING]: \u001b[0m\u001b[0;39mTrying to register the cmap 'sauron_r' which already exists.\u001b[0m \u001b[0;36m(UserWarning)\u001b[0m\n",
      "\u001b[1;33m[WARNING]: \u001b[0m\u001b[0;39mTrying to register the cmap 'sauron' which already exists.\u001b[0m \u001b[0;36m(UserWarning)\u001b[0m\n",
      "\u001b[1;33m[WARNING]: \u001b[0m\u001b[0;39mTrying to register the cmap 'sauron_r' which already exists.\u001b[0m \u001b[0;36m(UserWarning)\u001b[0m\n"
     ]
    },
    {
     "name": "stdout",
     "output_type": "stream",
     "text": [
      "  Kin PA:  56.5  +/-  89.8  (3*sigma error)\n",
      "Velocity Offset: 0.00\n"
     ]
    },
    {
     "name": "stderr",
     "output_type": "stream",
     "text": [
      "\u001b[1;33m[WARNING]: \u001b[0m\u001b[0;39mTrying to register the cmap 'sauron' which already exists.\u001b[0m \u001b[0;36m(UserWarning)\u001b[0m\n",
      "\u001b[1;33m[WARNING]: \u001b[0m\u001b[0;39mTrying to register the cmap 'sauron_r' which already exists.\u001b[0m \u001b[0;36m(UserWarning)\u001b[0m\n",
      "\u001b[1;33m[WARNING]: \u001b[0m\u001b[0;39mTrying to register the cmap 'sauron' which already exists.\u001b[0m \u001b[0;36m(UserWarning)\u001b[0m\n",
      "\u001b[1;33m[WARNING]: \u001b[0m\u001b[0;39mTrying to register the cmap 'sauron_r' which already exists.\u001b[0m \u001b[0;36m(UserWarning)\u001b[0m\n"
     ]
    },
    {
     "name": "stdout",
     "output_type": "stream",
     "text": [
      "  Kin PA:  54.0  +/-   0.5  (3*sigma error)\n",
      "Velocity Offset: 0.00\n"
     ]
    },
    {
     "name": "stderr",
     "output_type": "stream",
     "text": [
      "\u001b[1;33m[WARNING]: \u001b[0m\u001b[0;39mTrying to register the cmap 'sauron' which already exists.\u001b[0m \u001b[0;36m(UserWarning)\u001b[0m\n",
      "\u001b[1;33m[WARNING]: \u001b[0m\u001b[0;39mTrying to register the cmap 'sauron_r' which already exists.\u001b[0m \u001b[0;36m(UserWarning)\u001b[0m\n",
      "\u001b[1;33m[WARNING]: \u001b[0m\u001b[0;39mTrying to register the cmap 'sauron' which already exists.\u001b[0m \u001b[0;36m(UserWarning)\u001b[0m\n",
      "\u001b[1;33m[WARNING]: \u001b[0m\u001b[0;39mTrying to register the cmap 'sauron_r' which already exists.\u001b[0m \u001b[0;36m(UserWarning)\u001b[0m\n"
     ]
    },
    {
     "name": "stdout",
     "output_type": "stream",
     "text": [
      "  Kin PA:  81.0  +/-   7.2  (3*sigma error)\n",
      "Velocity Offset: 0.00\n"
     ]
    },
    {
     "name": "stderr",
     "output_type": "stream",
     "text": [
      "\u001b[1;33m[WARNING]: \u001b[0m\u001b[0;39mTrying to register the cmap 'sauron' which already exists.\u001b[0m \u001b[0;36m(UserWarning)\u001b[0m\n",
      "\u001b[1;33m[WARNING]: \u001b[0m\u001b[0;39mTrying to register the cmap 'sauron_r' which already exists.\u001b[0m \u001b[0;36m(UserWarning)\u001b[0m\n",
      "\u001b[1;33m[WARNING]: \u001b[0m\u001b[0;39mTrying to register the cmap 'sauron' which already exists.\u001b[0m \u001b[0;36m(UserWarning)\u001b[0m\n",
      "\u001b[1;33m[WARNING]: \u001b[0m\u001b[0;39mTrying to register the cmap 'sauron_r' which already exists.\u001b[0m \u001b[0;36m(UserWarning)\u001b[0m\n"
     ]
    },
    {
     "name": "stdout",
     "output_type": "stream",
     "text": [
      "  Kin PA: 101.0  +/-   0.5  (3*sigma error)\n",
      "Velocity Offset: 0.00\n"
     ]
    },
    {
     "name": "stderr",
     "output_type": "stream",
     "text": [
      "\u001b[1;33m[WARNING]: \u001b[0m\u001b[0;39mTrying to register the cmap 'sauron' which already exists.\u001b[0m \u001b[0;36m(UserWarning)\u001b[0m\n",
      "\u001b[1;33m[WARNING]: \u001b[0m\u001b[0;39mTrying to register the cmap 'sauron_r' which already exists.\u001b[0m \u001b[0;36m(UserWarning)\u001b[0m\n",
      "\u001b[1;33m[WARNING]: \u001b[0m\u001b[0;39mTrying to register the cmap 'sauron' which already exists.\u001b[0m \u001b[0;36m(UserWarning)\u001b[0m\n",
      "\u001b[1;33m[WARNING]: \u001b[0m\u001b[0;39mTrying to register the cmap 'sauron_r' which already exists.\u001b[0m \u001b[0;36m(UserWarning)\u001b[0m\n"
     ]
    },
    {
     "name": "stdout",
     "output_type": "stream",
     "text": [
      "  Kin PA:  38.0  +/-  37.0  (3*sigma error)\n",
      "Velocity Offset: 0.00\n"
     ]
    },
    {
     "name": "stderr",
     "output_type": "stream",
     "text": [
      "\u001b[1;33m[WARNING]: \u001b[0m\u001b[0;39mTrying to register the cmap 'sauron' which already exists.\u001b[0m \u001b[0;36m(UserWarning)\u001b[0m\n",
      "\u001b[1;33m[WARNING]: \u001b[0m\u001b[0;39mTrying to register the cmap 'sauron_r' which already exists.\u001b[0m \u001b[0;36m(UserWarning)\u001b[0m\n",
      "\u001b[1;33m[WARNING]: \u001b[0m\u001b[0;39mTrying to register the cmap 'sauron' which already exists.\u001b[0m \u001b[0;36m(UserWarning)\u001b[0m\n",
      "\u001b[1;33m[WARNING]: \u001b[0m\u001b[0;39mTrying to register the cmap 'sauron_r' which already exists.\u001b[0m \u001b[0;36m(UserWarning)\u001b[0m\n"
     ]
    },
    {
     "name": "stdout",
     "output_type": "stream",
     "text": [
      "  Kin PA:  12.5  +/-   0.5  (3*sigma error)\n",
      "Velocity Offset: 0.00\n"
     ]
    },
    {
     "name": "stderr",
     "output_type": "stream",
     "text": [
      "\u001b[1;33m[WARNING]: \u001b[0m\u001b[0;39mTrying to register the cmap 'sauron' which already exists.\u001b[0m \u001b[0;36m(UserWarning)\u001b[0m\n",
      "\u001b[1;33m[WARNING]: \u001b[0m\u001b[0;39mTrying to register the cmap 'sauron_r' which already exists.\u001b[0m \u001b[0;36m(UserWarning)\u001b[0m\n",
      "\u001b[1;33m[WARNING]: \u001b[0m\u001b[0;39mTrying to register the cmap 'sauron' which already exists.\u001b[0m \u001b[0;36m(UserWarning)\u001b[0m\n",
      "\u001b[1;33m[WARNING]: \u001b[0m\u001b[0;39mTrying to register the cmap 'sauron_r' which already exists.\u001b[0m \u001b[0;36m(UserWarning)\u001b[0m\n"
     ]
    },
    {
     "name": "stdout",
     "output_type": "stream",
     "text": [
      "  Kin PA: 169.0  +/-  29.8  (3*sigma error)\n",
      "Velocity Offset: 0.00\n"
     ]
    },
    {
     "name": "stderr",
     "output_type": "stream",
     "text": [
      "\u001b[1;33m[WARNING]: \u001b[0m\u001b[0;39mTrying to register the cmap 'sauron' which already exists.\u001b[0m \u001b[0;36m(UserWarning)\u001b[0m\n",
      "\u001b[1;33m[WARNING]: \u001b[0m\u001b[0;39mTrying to register the cmap 'sauron_r' which already exists.\u001b[0m \u001b[0;36m(UserWarning)\u001b[0m\n",
      "\u001b[1;33m[WARNING]: \u001b[0m\u001b[0;39mTrying to register the cmap 'sauron' which already exists.\u001b[0m \u001b[0;36m(UserWarning)\u001b[0m\n",
      "\u001b[1;33m[WARNING]: \u001b[0m\u001b[0;39mTrying to register the cmap 'sauron_r' which already exists.\u001b[0m \u001b[0;36m(UserWarning)\u001b[0m\n"
     ]
    },
    {
     "name": "stdout",
     "output_type": "stream",
     "text": [
      "  Kin PA: 101.5  +/-   0.5  (3*sigma error)\n",
      "Velocity Offset: 0.00\n"
     ]
    },
    {
     "name": "stderr",
     "output_type": "stream",
     "text": [
      "\u001b[1;33m[WARNING]: \u001b[0m\u001b[0;39mTrying to register the cmap 'sauron' which already exists.\u001b[0m \u001b[0;36m(UserWarning)\u001b[0m\n",
      "\u001b[1;33m[WARNING]: \u001b[0m\u001b[0;39mTrying to register the cmap 'sauron_r' which already exists.\u001b[0m \u001b[0;36m(UserWarning)\u001b[0m\n",
      "\u001b[1;33m[WARNING]: \u001b[0m\u001b[0;39mTrying to register the cmap 'sauron' which already exists.\u001b[0m \u001b[0;36m(UserWarning)\u001b[0m\n",
      "\u001b[1;33m[WARNING]: \u001b[0m\u001b[0;39mTrying to register the cmap 'sauron_r' which already exists.\u001b[0m \u001b[0;36m(UserWarning)\u001b[0m\n"
     ]
    },
    {
     "name": "stdout",
     "output_type": "stream",
     "text": [
      "  Kin PA:   2.0  +/-   7.5  (3*sigma error)\n",
      "Velocity Offset: 0.00\n"
     ]
    },
    {
     "name": "stderr",
     "output_type": "stream",
     "text": [
      "\u001b[1;33m[WARNING]: \u001b[0m\u001b[0;39mTrying to register the cmap 'sauron' which already exists.\u001b[0m \u001b[0;36m(UserWarning)\u001b[0m\n",
      "\u001b[1;33m[WARNING]: \u001b[0m\u001b[0;39mTrying to register the cmap 'sauron_r' which already exists.\u001b[0m \u001b[0;36m(UserWarning)\u001b[0m\n",
      "\u001b[1;33m[WARNING]: \u001b[0m\u001b[0;39mTrying to register the cmap 'sauron' which already exists.\u001b[0m \u001b[0;36m(UserWarning)\u001b[0m\n",
      "\u001b[1;33m[WARNING]: \u001b[0m\u001b[0;39mTrying to register the cmap 'sauron_r' which already exists.\u001b[0m \u001b[0;36m(UserWarning)\u001b[0m\n"
     ]
    },
    {
     "name": "stdout",
     "output_type": "stream",
     "text": [
      "  Kin PA:  83.0  +/-   0.5  (3*sigma error)\n",
      "Velocity Offset: 0.00\n"
     ]
    },
    {
     "name": "stderr",
     "output_type": "stream",
     "text": [
      "\u001b[1;33m[WARNING]: \u001b[0m\u001b[0;39mTrying to register the cmap 'sauron' which already exists.\u001b[0m \u001b[0;36m(UserWarning)\u001b[0m\n",
      "\u001b[1;33m[WARNING]: \u001b[0m\u001b[0;39mTrying to register the cmap 'sauron_r' which already exists.\u001b[0m \u001b[0;36m(UserWarning)\u001b[0m\n",
      "\u001b[1;33m[WARNING]: \u001b[0m\u001b[0;39mTrying to register the cmap 'sauron' which already exists.\u001b[0m \u001b[0;36m(UserWarning)\u001b[0m\n",
      "\u001b[1;33m[WARNING]: \u001b[0m\u001b[0;39mTrying to register the cmap 'sauron_r' which already exists.\u001b[0m \u001b[0;36m(UserWarning)\u001b[0m\n"
     ]
    },
    {
     "name": "stdout",
     "output_type": "stream",
     "text": [
      "  Kin PA: 173.5  +/-   7.5  (3*sigma error)\n",
      "Velocity Offset: 0.00\n"
     ]
    },
    {
     "name": "stderr",
     "output_type": "stream",
     "text": [
      "\u001b[1;33m[WARNING]: \u001b[0m\u001b[0;39mTrying to register the cmap 'sauron' which already exists.\u001b[0m \u001b[0;36m(UserWarning)\u001b[0m\n",
      "\u001b[1;33m[WARNING]: \u001b[0m\u001b[0;39mTrying to register the cmap 'sauron_r' which already exists.\u001b[0m \u001b[0;36m(UserWarning)\u001b[0m\n",
      "\u001b[1;33m[WARNING]: \u001b[0m\u001b[0;39mTrying to register the cmap 'sauron' which already exists.\u001b[0m \u001b[0;36m(UserWarning)\u001b[0m\n",
      "\u001b[1;33m[WARNING]: \u001b[0m\u001b[0;39mTrying to register the cmap 'sauron_r' which already exists.\u001b[0m \u001b[0;36m(UserWarning)\u001b[0m\n"
     ]
    },
    {
     "name": "stdout",
     "output_type": "stream",
     "text": [
      "  Kin PA: 107.5  +/-   0.5  (3*sigma error)\n",
      "Velocity Offset: 0.00\n"
     ]
    },
    {
     "name": "stderr",
     "output_type": "stream",
     "text": [
      "\u001b[1;33m[WARNING]: \u001b[0m\u001b[0;39mTrying to register the cmap 'sauron' which already exists.\u001b[0m \u001b[0;36m(UserWarning)\u001b[0m\n",
      "\u001b[1;33m[WARNING]: \u001b[0m\u001b[0;39mTrying to register the cmap 'sauron_r' which already exists.\u001b[0m \u001b[0;36m(UserWarning)\u001b[0m\n",
      "\u001b[1;33m[WARNING]: \u001b[0m\u001b[0;39mTrying to register the cmap 'sauron' which already exists.\u001b[0m \u001b[0;36m(UserWarning)\u001b[0m\n",
      "\u001b[1;33m[WARNING]: \u001b[0m\u001b[0;39mTrying to register the cmap 'sauron_r' which already exists.\u001b[0m \u001b[0;36m(UserWarning)\u001b[0m\n"
     ]
    },
    {
     "name": "stdout",
     "output_type": "stream",
     "text": [
      "  Kin PA: 129.0  +/-  89.8  (3*sigma error)\n",
      "Velocity Offset: 0.00\n"
     ]
    },
    {
     "name": "stderr",
     "output_type": "stream",
     "text": [
      "\u001b[1;33m[WARNING]: \u001b[0m\u001b[0;39mTrying to register the cmap 'sauron' which already exists.\u001b[0m \u001b[0;36m(UserWarning)\u001b[0m\n",
      "\u001b[1;33m[WARNING]: \u001b[0m\u001b[0;39mTrying to register the cmap 'sauron_r' which already exists.\u001b[0m \u001b[0;36m(UserWarning)\u001b[0m\n",
      "\u001b[1;33m[WARNING]: \u001b[0m\u001b[0;39mTrying to register the cmap 'sauron' which already exists.\u001b[0m \u001b[0;36m(UserWarning)\u001b[0m\n",
      "\u001b[1;33m[WARNING]: \u001b[0m\u001b[0;39mTrying to register the cmap 'sauron_r' which already exists.\u001b[0m \u001b[0;36m(UserWarning)\u001b[0m\n"
     ]
    },
    {
     "name": "stdout",
     "output_type": "stream",
     "text": [
      "  Kin PA:  81.5  +/-   0.5  (3*sigma error)\n",
      "Velocity Offset: 0.00\n"
     ]
    },
    {
     "name": "stderr",
     "output_type": "stream",
     "text": [
      "\u001b[1;33m[WARNING]: \u001b[0m\u001b[0;39mTrying to register the cmap 'sauron' which already exists.\u001b[0m \u001b[0;36m(UserWarning)\u001b[0m\n",
      "\u001b[1;33m[WARNING]: \u001b[0m\u001b[0;39mTrying to register the cmap 'sauron_r' which already exists.\u001b[0m \u001b[0;36m(UserWarning)\u001b[0m\n",
      "\u001b[1;33m[WARNING]: \u001b[0m\u001b[0;39mTrying to register the cmap 'sauron' which already exists.\u001b[0m \u001b[0;36m(UserWarning)\u001b[0m\n",
      "\u001b[1;33m[WARNING]: \u001b[0m\u001b[0;39mTrying to register the cmap 'sauron_r' which already exists.\u001b[0m \u001b[0;36m(UserWarning)\u001b[0m\n"
     ]
    },
    {
     "name": "stdout",
     "output_type": "stream",
     "text": [
      "  Kin PA: 148.0  +/-  10.8  (3*sigma error)\n",
      "Velocity Offset: 0.00\n"
     ]
    },
    {
     "name": "stderr",
     "output_type": "stream",
     "text": [
      "\u001b[1;33m[WARNING]: \u001b[0m\u001b[0;39mTrying to register the cmap 'sauron' which already exists.\u001b[0m \u001b[0;36m(UserWarning)\u001b[0m\n",
      "\u001b[1;33m[WARNING]: \u001b[0m\u001b[0;39mTrying to register the cmap 'sauron_r' which already exists.\u001b[0m \u001b[0;36m(UserWarning)\u001b[0m\n",
      "\u001b[1;33m[WARNING]: \u001b[0m\u001b[0;39mTrying to register the cmap 'sauron' which already exists.\u001b[0m \u001b[0;36m(UserWarning)\u001b[0m\n",
      "\u001b[1;33m[WARNING]: \u001b[0m\u001b[0;39mTrying to register the cmap 'sauron_r' which already exists.\u001b[0m \u001b[0;36m(UserWarning)\u001b[0m\n"
     ]
    },
    {
     "name": "stdout",
     "output_type": "stream",
     "text": [
      "  Kin PA: 142.5  +/-   0.5  (3*sigma error)\n",
      "Velocity Offset: 0.00\n"
     ]
    },
    {
     "name": "stderr",
     "output_type": "stream",
     "text": [
      "\u001b[1;33m[WARNING]: \u001b[0m\u001b[0;39mTrying to register the cmap 'sauron' which already exists.\u001b[0m \u001b[0;36m(UserWarning)\u001b[0m\n",
      "\u001b[1;33m[WARNING]: \u001b[0m\u001b[0;39mTrying to register the cmap 'sauron_r' which already exists.\u001b[0m \u001b[0;36m(UserWarning)\u001b[0m\n",
      "\u001b[1;33m[WARNING]: \u001b[0m\u001b[0;39mTrying to register the cmap 'sauron' which already exists.\u001b[0m \u001b[0;36m(UserWarning)\u001b[0m\n",
      "\u001b[1;33m[WARNING]: \u001b[0m\u001b[0;39mTrying to register the cmap 'sauron_r' which already exists.\u001b[0m \u001b[0;36m(UserWarning)\u001b[0m\n",
      "\u001b[1;33m[WARNING]: \u001b[0m\u001b[0;39mTrying to register the cmap 'sauron' which already exists.\u001b[0m \u001b[0;36m(UserWarning)\u001b[0m\n",
      "\u001b[1;33m[WARNING]: \u001b[0m\u001b[0;39mTrying to register the cmap 'sauron_r' which already exists.\u001b[0m \u001b[0;36m(UserWarning)\u001b[0m\n"
     ]
    },
    {
     "name": "stdout",
     "output_type": "stream",
     "text": [
      "  Kin PA: 162.0  +/-   8.2  (3*sigma error)\n",
      "Velocity Offset: 0.00\n"
     ]
    },
    {
     "name": "stderr",
     "output_type": "stream",
     "text": [
      "\u001b[1;33m[WARNING]: \u001b[0m\u001b[0;39mTrying to register the cmap 'sauron' which already exists.\u001b[0m \u001b[0;36m(UserWarning)\u001b[0m\n",
      "\u001b[1;33m[WARNING]: \u001b[0m\u001b[0;39mTrying to register the cmap 'sauron_r' which already exists.\u001b[0m \u001b[0;36m(UserWarning)\u001b[0m\n"
     ]
    },
    {
     "name": "stdout",
     "output_type": "stream",
     "text": [
      "  Kin PA: 112.5  +/-   0.5  (3*sigma error)\n",
      "Velocity Offset: 0.00\n"
     ]
    },
    {
     "name": "stderr",
     "output_type": "stream",
     "text": [
      "\u001b[1;33m[WARNING]: \u001b[0m\u001b[0;39mTrying to register the cmap 'sauron' which already exists.\u001b[0m \u001b[0;36m(UserWarning)\u001b[0m\n",
      "\u001b[1;33m[WARNING]: \u001b[0m\u001b[0;39mTrying to register the cmap 'sauron_r' which already exists.\u001b[0m \u001b[0;36m(UserWarning)\u001b[0m\n",
      "\u001b[1;33m[WARNING]: \u001b[0m\u001b[0;39mTrying to register the cmap 'sauron' which already exists.\u001b[0m \u001b[0;36m(UserWarning)\u001b[0m\n",
      "\u001b[1;33m[WARNING]: \u001b[0m\u001b[0;39mTrying to register the cmap 'sauron_r' which already exists.\u001b[0m \u001b[0;36m(UserWarning)\u001b[0m\n",
      "\u001b[1;33m[WARNING]: \u001b[0m\u001b[0;39mTrying to register the cmap 'sauron' which already exists.\u001b[0m \u001b[0;36m(UserWarning)\u001b[0m\n",
      "\u001b[1;33m[WARNING]: \u001b[0m\u001b[0;39mTrying to register the cmap 'sauron_r' which already exists.\u001b[0m \u001b[0;36m(UserWarning)\u001b[0m\n"
     ]
    },
    {
     "name": "stdout",
     "output_type": "stream",
     "text": [
      "  Kin PA:  50.0  +/-   5.5  (3*sigma error)\n",
      "Velocity Offset: 0.00\n"
     ]
    },
    {
     "name": "stderr",
     "output_type": "stream",
     "text": [
      "\u001b[1;33m[WARNING]: \u001b[0m\u001b[0;39mTrying to register the cmap 'sauron' which already exists.\u001b[0m \u001b[0;36m(UserWarning)\u001b[0m\n",
      "\u001b[1;33m[WARNING]: \u001b[0m\u001b[0;39mTrying to register the cmap 'sauron_r' which already exists.\u001b[0m \u001b[0;36m(UserWarning)\u001b[0m\n",
      "\u001b[1;33m[WARNING]: \u001b[0m\u001b[0;39mTrying to register the cmap 'sauron' which already exists.\u001b[0m \u001b[0;36m(UserWarning)\u001b[0m\n",
      "\u001b[1;33m[WARNING]: \u001b[0m\u001b[0;39mTrying to register the cmap 'sauron_r' which already exists.\u001b[0m \u001b[0;36m(UserWarning)\u001b[0m\n"
     ]
    },
    {
     "name": "stdout",
     "output_type": "stream",
     "text": [
      "  Kin PA:  20.0  +/-   0.5  (3*sigma error)\n",
      "Velocity Offset: 0.00\n"
     ]
    },
    {
     "name": "stderr",
     "output_type": "stream",
     "text": [
      "\u001b[1;33m[WARNING]: \u001b[0m\u001b[0;39mTrying to register the cmap 'sauron' which already exists.\u001b[0m \u001b[0;36m(UserWarning)\u001b[0m\n",
      "\u001b[1;33m[WARNING]: \u001b[0m\u001b[0;39mTrying to register the cmap 'sauron_r' which already exists.\u001b[0m \u001b[0;36m(UserWarning)\u001b[0m\n"
     ]
    },
    {
     "name": "stdout",
     "output_type": "stream",
     "text": [
      "  Kin PA:  65.5  +/-  14.0  (3*sigma error)\n",
      "Velocity Offset: 0.00\n"
     ]
    },
    {
     "name": "stderr",
     "output_type": "stream",
     "text": [
      "\u001b[1;33m[WARNING]: \u001b[0m\u001b[0;39mTrying to register the cmap 'sauron' which already exists.\u001b[0m \u001b[0;36m(UserWarning)\u001b[0m\n",
      "\u001b[1;33m[WARNING]: \u001b[0m\u001b[0;39mTrying to register the cmap 'sauron_r' which already exists.\u001b[0m \u001b[0;36m(UserWarning)\u001b[0m\n",
      "\u001b[1;33m[WARNING]: \u001b[0m\u001b[0;39mTrying to register the cmap 'sauron' which already exists.\u001b[0m \u001b[0;36m(UserWarning)\u001b[0m\n",
      "\u001b[1;33m[WARNING]: \u001b[0m\u001b[0;39mTrying to register the cmap 'sauron_r' which already exists.\u001b[0m \u001b[0;36m(UserWarning)\u001b[0m\n",
      "\u001b[1;33m[WARNING]: \u001b[0m\u001b[0;39mTrying to register the cmap 'sauron' which already exists.\u001b[0m \u001b[0;36m(UserWarning)\u001b[0m\n",
      "\u001b[1;33m[WARNING]: \u001b[0m\u001b[0;39mTrying to register the cmap 'sauron_r' which already exists.\u001b[0m \u001b[0;36m(UserWarning)\u001b[0m\n"
     ]
    },
    {
     "name": "stdout",
     "output_type": "stream",
     "text": [
      "  Kin PA: 118.5  +/-   0.5  (3*sigma error)\n",
      "Velocity Offset: 0.00\n"
     ]
    },
    {
     "name": "stderr",
     "output_type": "stream",
     "text": [
      "\u001b[1;33m[WARNING]: \u001b[0m\u001b[0;39mTrying to register the cmap 'sauron' which already exists.\u001b[0m \u001b[0;36m(UserWarning)\u001b[0m\n",
      "\u001b[1;33m[WARNING]: \u001b[0m\u001b[0;39mTrying to register the cmap 'sauron_r' which already exists.\u001b[0m \u001b[0;36m(UserWarning)\u001b[0m\n"
     ]
    },
    {
     "name": "stdout",
     "output_type": "stream",
     "text": [
      "  Kin PA:  40.0  +/-  15.0  (3*sigma error)\n",
      "Velocity Offset: 0.00\n"
     ]
    },
    {
     "name": "stderr",
     "output_type": "stream",
     "text": [
      "\u001b[1;33m[WARNING]: \u001b[0m\u001b[0;39mTrying to register the cmap 'sauron' which already exists.\u001b[0m \u001b[0;36m(UserWarning)\u001b[0m\n",
      "\u001b[1;33m[WARNING]: \u001b[0m\u001b[0;39mTrying to register the cmap 'sauron_r' which already exists.\u001b[0m \u001b[0;36m(UserWarning)\u001b[0m\n",
      "\u001b[1;33m[WARNING]: \u001b[0m\u001b[0;39mTrying to register the cmap 'sauron' which already exists.\u001b[0m \u001b[0;36m(UserWarning)\u001b[0m\n",
      "\u001b[1;33m[WARNING]: \u001b[0m\u001b[0;39mTrying to register the cmap 'sauron_r' which already exists.\u001b[0m \u001b[0;36m(UserWarning)\u001b[0m\n"
     ]
    },
    {
     "name": "stdout",
     "output_type": "stream",
     "text": [
      "  Kin PA:  87.5  +/-   0.5  (3*sigma error)\n",
      "Velocity Offset: 0.00\n"
     ]
    },
    {
     "name": "stderr",
     "output_type": "stream",
     "text": [
      "\u001b[1;33m[WARNING]: \u001b[0m\u001b[0;39mTrying to register the cmap 'sauron' which already exists.\u001b[0m \u001b[0;36m(UserWarning)\u001b[0m\n",
      "\u001b[1;33m[WARNING]: \u001b[0m\u001b[0;39mTrying to register the cmap 'sauron_r' which already exists.\u001b[0m \u001b[0;36m(UserWarning)\u001b[0m\n",
      "\u001b[1;33m[WARNING]: \u001b[0m\u001b[0;39mTrying to register the cmap 'sauron' which already exists.\u001b[0m \u001b[0;36m(UserWarning)\u001b[0m\n",
      "\u001b[1;33m[WARNING]: \u001b[0m\u001b[0;39mTrying to register the cmap 'sauron_r' which already exists.\u001b[0m \u001b[0;36m(UserWarning)\u001b[0m\n"
     ]
    },
    {
     "name": "stdout",
     "output_type": "stream",
     "text": [
      "  Kin PA: 166.0  +/-   0.5  (3*sigma error)\n",
      "Velocity Offset: 0.00\n"
     ]
    },
    {
     "name": "stderr",
     "output_type": "stream",
     "text": [
      "\u001b[1;33m[WARNING]: \u001b[0m\u001b[0;39mTrying to register the cmap 'sauron' which already exists.\u001b[0m \u001b[0;36m(UserWarning)\u001b[0m\n",
      "\u001b[1;33m[WARNING]: \u001b[0m\u001b[0;39mTrying to register the cmap 'sauron_r' which already exists.\u001b[0m \u001b[0;36m(UserWarning)\u001b[0m\n",
      "\u001b[1;33m[WARNING]: \u001b[0m\u001b[0;39mTrying to register the cmap 'sauron' which already exists.\u001b[0m \u001b[0;36m(UserWarning)\u001b[0m\n",
      "\u001b[1;33m[WARNING]: \u001b[0m\u001b[0;39mTrying to register the cmap 'sauron_r' which already exists.\u001b[0m \u001b[0;36m(UserWarning)\u001b[0m\n"
     ]
    },
    {
     "name": "stdout",
     "output_type": "stream",
     "text": [
      "  Kin PA:  42.0  +/-   0.5  (3*sigma error)\n",
      "Velocity Offset: 0.00\n"
     ]
    },
    {
     "name": "stderr",
     "output_type": "stream",
     "text": [
      "\u001b[1;33m[WARNING]: \u001b[0m\u001b[0;39mTrying to register the cmap 'sauron' which already exists.\u001b[0m \u001b[0;36m(UserWarning)\u001b[0m\n",
      "\u001b[1;33m[WARNING]: \u001b[0m\u001b[0;39mTrying to register the cmap 'sauron_r' which already exists.\u001b[0m \u001b[0;36m(UserWarning)\u001b[0m\n",
      "\u001b[1;33m[WARNING]: \u001b[0m\u001b[0;39mTrying to register the cmap 'sauron' which already exists.\u001b[0m \u001b[0;36m(UserWarning)\u001b[0m\n",
      "\u001b[1;33m[WARNING]: \u001b[0m\u001b[0;39mTrying to register the cmap 'sauron_r' which already exists.\u001b[0m \u001b[0;36m(UserWarning)\u001b[0m\n",
      "\u001b[1;33m[WARNING]: \u001b[0m\u001b[0;39mTrying to register the cmap 'sauron' which already exists.\u001b[0m \u001b[0;36m(UserWarning)\u001b[0m\n",
      "\u001b[1;33m[WARNING]: \u001b[0m\u001b[0;39mTrying to register the cmap 'sauron_r' which already exists.\u001b[0m \u001b[0;36m(UserWarning)\u001b[0m\n"
     ]
    },
    {
     "name": "stdout",
     "output_type": "stream",
     "text": [
      "  Kin PA: 112.0  +/-   9.0  (3*sigma error)\n",
      "Velocity Offset: 0.00\n"
     ]
    },
    {
     "name": "stderr",
     "output_type": "stream",
     "text": [
      "\u001b[1;33m[WARNING]: \u001b[0m\u001b[0;39mTrying to register the cmap 'sauron' which already exists.\u001b[0m \u001b[0;36m(UserWarning)\u001b[0m\n",
      "\u001b[1;33m[WARNING]: \u001b[0m\u001b[0;39mTrying to register the cmap 'sauron_r' which already exists.\u001b[0m \u001b[0;36m(UserWarning)\u001b[0m\n"
     ]
    },
    {
     "name": "stdout",
     "output_type": "stream",
     "text": [
      "  Kin PA: 167.5  +/-   0.5  (3*sigma error)\n",
      "Velocity Offset: 0.00\n"
     ]
    },
    {
     "name": "stderr",
     "output_type": "stream",
     "text": [
      "\u001b[1;33m[WARNING]: \u001b[0m\u001b[0;39mTrying to register the cmap 'sauron' which already exists.\u001b[0m \u001b[0;36m(UserWarning)\u001b[0m\n",
      "\u001b[1;33m[WARNING]: \u001b[0m\u001b[0;39mTrying to register the cmap 'sauron_r' which already exists.\u001b[0m \u001b[0;36m(UserWarning)\u001b[0m\n",
      "\u001b[1;33m[WARNING]: \u001b[0m\u001b[0;39mTrying to register the cmap 'sauron' which already exists.\u001b[0m \u001b[0;36m(UserWarning)\u001b[0m\n",
      "\u001b[1;33m[WARNING]: \u001b[0m\u001b[0;39mTrying to register the cmap 'sauron_r' which already exists.\u001b[0m \u001b[0;36m(UserWarning)\u001b[0m\n",
      "\u001b[1;33m[WARNING]: \u001b[0m\u001b[0;39mTrying to register the cmap 'sauron' which already exists.\u001b[0m \u001b[0;36m(UserWarning)\u001b[0m\n",
      "\u001b[1;33m[WARNING]: \u001b[0m\u001b[0;39mTrying to register the cmap 'sauron_r' which already exists.\u001b[0m \u001b[0;36m(UserWarning)\u001b[0m\n"
     ]
    },
    {
     "name": "stdout",
     "output_type": "stream",
     "text": [
      "  Kin PA: 154.5  +/-  13.8  (3*sigma error)\n",
      "Velocity Offset: 0.00\n"
     ]
    },
    {
     "name": "stderr",
     "output_type": "stream",
     "text": [
      "\u001b[1;33m[WARNING]: \u001b[0m\u001b[0;39mTrying to register the cmap 'sauron' which already exists.\u001b[0m \u001b[0;36m(UserWarning)\u001b[0m\n",
      "\u001b[1;33m[WARNING]: \u001b[0m\u001b[0;39mTrying to register the cmap 'sauron_r' which already exists.\u001b[0m \u001b[0;36m(UserWarning)\u001b[0m\n"
     ]
    },
    {
     "name": "stdout",
     "output_type": "stream",
     "text": [
      "  Kin PA: 125.0  +/-   0.5  (3*sigma error)\n",
      "Velocity Offset: 0.00\n"
     ]
    },
    {
     "name": "stderr",
     "output_type": "stream",
     "text": [
      "\u001b[1;33m[WARNING]: \u001b[0m\u001b[0;39mTrying to register the cmap 'sauron' which already exists.\u001b[0m \u001b[0;36m(UserWarning)\u001b[0m\n",
      "\u001b[1;33m[WARNING]: \u001b[0m\u001b[0;39mTrying to register the cmap 'sauron_r' which already exists.\u001b[0m \u001b[0;36m(UserWarning)\u001b[0m\n",
      "\u001b[1;33m[WARNING]: \u001b[0m\u001b[0;39mTrying to register the cmap 'sauron' which already exists.\u001b[0m \u001b[0;36m(UserWarning)\u001b[0m\n",
      "\u001b[1;33m[WARNING]: \u001b[0m\u001b[0;39mTrying to register the cmap 'sauron_r' which already exists.\u001b[0m \u001b[0;36m(UserWarning)\u001b[0m\n"
     ]
    },
    {
     "name": "stdout",
     "output_type": "stream",
     "text": [
      "  Kin PA: 157.5  +/-  20.0  (3*sigma error)\n",
      "Velocity Offset: 0.00\n"
     ]
    },
    {
     "name": "stderr",
     "output_type": "stream",
     "text": [
      "\u001b[1;33m[WARNING]: \u001b[0m\u001b[0;39mTrying to register the cmap 'sauron' which already exists.\u001b[0m \u001b[0;36m(UserWarning)\u001b[0m\n",
      "\u001b[1;33m[WARNING]: \u001b[0m\u001b[0;39mTrying to register the cmap 'sauron_r' which already exists.\u001b[0m \u001b[0;36m(UserWarning)\u001b[0m\n",
      "\u001b[1;33m[WARNING]: \u001b[0m\u001b[0;39mTrying to register the cmap 'sauron' which already exists.\u001b[0m \u001b[0;36m(UserWarning)\u001b[0m\n",
      "\u001b[1;33m[WARNING]: \u001b[0m\u001b[0;39mTrying to register the cmap 'sauron_r' which already exists.\u001b[0m \u001b[0;36m(UserWarning)\u001b[0m\n",
      "\u001b[1;33m[WARNING]: \u001b[0m\u001b[0;39mTrying to register the cmap 'sauron' which already exists.\u001b[0m \u001b[0;36m(UserWarning)\u001b[0m\n",
      "\u001b[1;33m[WARNING]: \u001b[0m\u001b[0;39mTrying to register the cmap 'sauron_r' which already exists.\u001b[0m \u001b[0;36m(UserWarning)\u001b[0m\n"
     ]
    },
    {
     "name": "stdout",
     "output_type": "stream",
     "text": [
      "  Kin PA:  51.5  +/-   1.0  (3*sigma error)\n",
      "Velocity Offset: 0.00\n"
     ]
    },
    {
     "name": "stderr",
     "output_type": "stream",
     "text": [
      "\u001b[1;33m[WARNING]: \u001b[0m\u001b[0;39mTrying to register the cmap 'sauron' which already exists.\u001b[0m \u001b[0;36m(UserWarning)\u001b[0m\n",
      "\u001b[1;33m[WARNING]: \u001b[0m\u001b[0;39mTrying to register the cmap 'sauron_r' which already exists.\u001b[0m \u001b[0;36m(UserWarning)\u001b[0m\n"
     ]
    },
    {
     "name": "stdout",
     "output_type": "stream",
     "text": [
      "  Kin PA: 121.5  +/-   7.2  (3*sigma error)\n",
      "Velocity Offset: 0.00\n"
     ]
    },
    {
     "name": "stderr",
     "output_type": "stream",
     "text": [
      "\u001b[1;33m[WARNING]: \u001b[0m\u001b[0;39mTrying to register the cmap 'sauron' which already exists.\u001b[0m \u001b[0;36m(UserWarning)\u001b[0m\n",
      "\u001b[1;33m[WARNING]: \u001b[0m\u001b[0;39mTrying to register the cmap 'sauron_r' which already exists.\u001b[0m \u001b[0;36m(UserWarning)\u001b[0m\n",
      "\u001b[1;33m[WARNING]: \u001b[0m\u001b[0;39mTrying to register the cmap 'sauron' which already exists.\u001b[0m \u001b[0;36m(UserWarning)\u001b[0m\n",
      "\u001b[1;33m[WARNING]: \u001b[0m\u001b[0;39mTrying to register the cmap 'sauron_r' which already exists.\u001b[0m \u001b[0;36m(UserWarning)\u001b[0m\n",
      "\u001b[1;33m[WARNING]: \u001b[0m\u001b[0;39mTrying to register the cmap 'sauron' which already exists.\u001b[0m \u001b[0;36m(UserWarning)\u001b[0m\n",
      "\u001b[1;33m[WARNING]: \u001b[0m\u001b[0;39mTrying to register the cmap 'sauron_r' which already exists.\u001b[0m \u001b[0;36m(UserWarning)\u001b[0m\n"
     ]
    },
    {
     "name": "stdout",
     "output_type": "stream",
     "text": [
      "  Kin PA: 139.0  +/-   0.5  (3*sigma error)\n",
      "Velocity Offset: 0.00\n"
     ]
    },
    {
     "name": "stderr",
     "output_type": "stream",
     "text": [
      "\u001b[1;33m[WARNING]: \u001b[0m\u001b[0;39mTrying to register the cmap 'sauron' which already exists.\u001b[0m \u001b[0;36m(UserWarning)\u001b[0m\n",
      "\u001b[1;33m[WARNING]: \u001b[0m\u001b[0;39mTrying to register the cmap 'sauron_r' which already exists.\u001b[0m \u001b[0;36m(UserWarning)\u001b[0m\n"
     ]
    },
    {
     "name": "stdout",
     "output_type": "stream",
     "text": [
      "  Kin PA:  67.0  +/-  26.0  (3*sigma error)\n",
      "Velocity Offset: 0.00\n"
     ]
    },
    {
     "name": "stderr",
     "output_type": "stream",
     "text": [
      "\u001b[1;33m[WARNING]: \u001b[0m\u001b[0;39mTrying to register the cmap 'sauron' which already exists.\u001b[0m \u001b[0;36m(UserWarning)\u001b[0m\n",
      "\u001b[1;33m[WARNING]: \u001b[0m\u001b[0;39mTrying to register the cmap 'sauron_r' which already exists.\u001b[0m \u001b[0;36m(UserWarning)\u001b[0m\n",
      "\u001b[1;33m[WARNING]: \u001b[0m\u001b[0;39mTrying to register the cmap 'sauron' which already exists.\u001b[0m \u001b[0;36m(UserWarning)\u001b[0m\n",
      "\u001b[1;33m[WARNING]: \u001b[0m\u001b[0;39mTrying to register the cmap 'sauron_r' which already exists.\u001b[0m \u001b[0;36m(UserWarning)\u001b[0m\n",
      "\u001b[1;33m[WARNING]: \u001b[0m\u001b[0;39mTrying to register the cmap 'sauron' which already exists.\u001b[0m \u001b[0;36m(UserWarning)\u001b[0m\n",
      "\u001b[1;33m[WARNING]: \u001b[0m\u001b[0;39mTrying to register the cmap 'sauron_r' which already exists.\u001b[0m \u001b[0;36m(UserWarning)\u001b[0m\n"
     ]
    },
    {
     "name": "stdout",
     "output_type": "stream",
     "text": [
      "  Kin PA:  69.5  +/-   0.5  (3*sigma error)\n",
      "Velocity Offset: 0.00\n"
     ]
    },
    {
     "name": "stderr",
     "output_type": "stream",
     "text": [
      "\u001b[1;33m[WARNING]: \u001b[0m\u001b[0;39mTrying to register the cmap 'sauron' which already exists.\u001b[0m \u001b[0;36m(UserWarning)\u001b[0m\n",
      "\u001b[1;33m[WARNING]: \u001b[0m\u001b[0;39mTrying to register the cmap 'sauron_r' which already exists.\u001b[0m \u001b[0;36m(UserWarning)\u001b[0m\n"
     ]
    },
    {
     "name": "stdout",
     "output_type": "stream",
     "text": [
      "  Kin PA: 137.5  +/-   9.0  (3*sigma error)\n",
      "Velocity Offset: 0.00\n"
     ]
    },
    {
     "name": "stderr",
     "output_type": "stream",
     "text": [
      "\u001b[1;33m[WARNING]: \u001b[0m\u001b[0;39mTrying to register the cmap 'sauron' which already exists.\u001b[0m \u001b[0;36m(UserWarning)\u001b[0m\n",
      "\u001b[1;33m[WARNING]: \u001b[0m\u001b[0;39mTrying to register the cmap 'sauron_r' which already exists.\u001b[0m \u001b[0;36m(UserWarning)\u001b[0m\n",
      "\u001b[1;33m[WARNING]: \u001b[0m\u001b[0;39mTrying to register the cmap 'sauron' which already exists.\u001b[0m \u001b[0;36m(UserWarning)\u001b[0m\n",
      "\u001b[1;33m[WARNING]: \u001b[0m\u001b[0;39mTrying to register the cmap 'sauron_r' which already exists.\u001b[0m \u001b[0;36m(UserWarning)\u001b[0m\n"
     ]
    },
    {
     "name": "stdout",
     "output_type": "stream",
     "text": [
      "  Kin PA:  68.5  +/-   0.5  (3*sigma error)\n",
      "Velocity Offset: 0.00\n"
     ]
    },
    {
     "name": "stderr",
     "output_type": "stream",
     "text": [
      "\u001b[1;33m[WARNING]: \u001b[0m\u001b[0;39mTrying to register the cmap 'sauron' which already exists.\u001b[0m \u001b[0;36m(UserWarning)\u001b[0m\n",
      "\u001b[1;33m[WARNING]: \u001b[0m\u001b[0;39mTrying to register the cmap 'sauron_r' which already exists.\u001b[0m \u001b[0;36m(UserWarning)\u001b[0m\n",
      "\u001b[1;33m[WARNING]: \u001b[0m\u001b[0;39mTrying to register the cmap 'sauron' which already exists.\u001b[0m \u001b[0;36m(UserWarning)\u001b[0m\n",
      "\u001b[1;33m[WARNING]: \u001b[0m\u001b[0;39mTrying to register the cmap 'sauron_r' which already exists.\u001b[0m \u001b[0;36m(UserWarning)\u001b[0m\n"
     ]
    },
    {
     "name": "stdout",
     "output_type": "stream",
     "text": [
      "  Kin PA: 112.0  +/-   0.5  (3*sigma error)\n",
      "Velocity Offset: 0.00\n"
     ]
    },
    {
     "name": "stderr",
     "output_type": "stream",
     "text": [
      "\u001b[1;33m[WARNING]: \u001b[0m\u001b[0;39mTrying to register the cmap 'sauron' which already exists.\u001b[0m \u001b[0;36m(UserWarning)\u001b[0m\n",
      "\u001b[1;33m[WARNING]: \u001b[0m\u001b[0;39mTrying to register the cmap 'sauron_r' which already exists.\u001b[0m \u001b[0;36m(UserWarning)\u001b[0m\n",
      "\u001b[1;33m[WARNING]: \u001b[0m\u001b[0;39mTrying to register the cmap 'sauron' which already exists.\u001b[0m \u001b[0;36m(UserWarning)\u001b[0m\n",
      "\u001b[1;33m[WARNING]: \u001b[0m\u001b[0;39mTrying to register the cmap 'sauron_r' which already exists.\u001b[0m \u001b[0;36m(UserWarning)\u001b[0m\n"
     ]
    },
    {
     "name": "stdout",
     "output_type": "stream",
     "text": [
      "  Kin PA:  61.5  +/-   0.5  (3*sigma error)\n",
      "Velocity Offset: 0.00\n"
     ]
    },
    {
     "name": "stderr",
     "output_type": "stream",
     "text": [
      "\u001b[1;33m[WARNING]: \u001b[0m\u001b[0;39mTrying to register the cmap 'sauron' which already exists.\u001b[0m \u001b[0;36m(UserWarning)\u001b[0m\n",
      "\u001b[1;33m[WARNING]: \u001b[0m\u001b[0;39mTrying to register the cmap 'sauron_r' which already exists.\u001b[0m \u001b[0;36m(UserWarning)\u001b[0m\n",
      "\u001b[1;33m[WARNING]: \u001b[0m\u001b[0;39mTrying to register the cmap 'sauron' which already exists.\u001b[0m \u001b[0;36m(UserWarning)\u001b[0m\n",
      "\u001b[1;33m[WARNING]: \u001b[0m\u001b[0;39mTrying to register the cmap 'sauron_r' which already exists.\u001b[0m \u001b[0;36m(UserWarning)\u001b[0m\n"
     ]
    },
    {
     "name": "stdout",
     "output_type": "stream",
     "text": [
      "  Kin PA:  55.0  +/-   8.8  (3*sigma error)\n",
      "Velocity Offset: 0.00\n"
     ]
    },
    {
     "name": "stderr",
     "output_type": "stream",
     "text": [
      "\u001b[1;33m[WARNING]: \u001b[0m\u001b[0;39mTrying to register the cmap 'sauron' which already exists.\u001b[0m \u001b[0;36m(UserWarning)\u001b[0m\n",
      "\u001b[1;33m[WARNING]: \u001b[0m\u001b[0;39mTrying to register the cmap 'sauron_r' which already exists.\u001b[0m \u001b[0;36m(UserWarning)\u001b[0m\n",
      "\u001b[1;33m[WARNING]: \u001b[0m\u001b[0;39mTrying to register the cmap 'sauron' which already exists.\u001b[0m \u001b[0;36m(UserWarning)\u001b[0m\n",
      "\u001b[1;33m[WARNING]: \u001b[0m\u001b[0;39mTrying to register the cmap 'sauron_r' which already exists.\u001b[0m \u001b[0;36m(UserWarning)\u001b[0m\n"
     ]
    },
    {
     "name": "stdout",
     "output_type": "stream",
     "text": [
      "  Kin PA: 130.0  +/-   0.5  (3*sigma error)\n",
      "Velocity Offset: 0.00\n"
     ]
    },
    {
     "name": "stderr",
     "output_type": "stream",
     "text": [
      "\u001b[1;33m[WARNING]: \u001b[0m\u001b[0;39mTrying to register the cmap 'sauron' which already exists.\u001b[0m \u001b[0;36m(UserWarning)\u001b[0m\n",
      "\u001b[1;33m[WARNING]: \u001b[0m\u001b[0;39mTrying to register the cmap 'sauron_r' which already exists.\u001b[0m \u001b[0;36m(UserWarning)\u001b[0m\n",
      "\u001b[1;33m[WARNING]: \u001b[0m\u001b[0;39mTrying to register the cmap 'sauron' which already exists.\u001b[0m \u001b[0;36m(UserWarning)\u001b[0m\n",
      "\u001b[1;33m[WARNING]: \u001b[0m\u001b[0;39mTrying to register the cmap 'sauron_r' which already exists.\u001b[0m \u001b[0;36m(UserWarning)\u001b[0m\n"
     ]
    },
    {
     "name": "stdout",
     "output_type": "stream",
     "text": [
      "  Kin PA:  27.0  +/-   4.0  (3*sigma error)\n",
      "Velocity Offset: 0.00\n"
     ]
    },
    {
     "name": "stderr",
     "output_type": "stream",
     "text": [
      "\u001b[1;33m[WARNING]: \u001b[0m\u001b[0;39mTrying to register the cmap 'sauron' which already exists.\u001b[0m \u001b[0;36m(UserWarning)\u001b[0m\n",
      "\u001b[1;33m[WARNING]: \u001b[0m\u001b[0;39mTrying to register the cmap 'sauron_r' which already exists.\u001b[0m \u001b[0;36m(UserWarning)\u001b[0m\n",
      "\u001b[1;33m[WARNING]: \u001b[0m\u001b[0;39mTrying to register the cmap 'sauron' which already exists.\u001b[0m \u001b[0;36m(UserWarning)\u001b[0m\n",
      "\u001b[1;33m[WARNING]: \u001b[0m\u001b[0;39mTrying to register the cmap 'sauron_r' which already exists.\u001b[0m \u001b[0;36m(UserWarning)\u001b[0m\n"
     ]
    },
    {
     "name": "stdout",
     "output_type": "stream",
     "text": [
      "  Kin PA:  34.0  +/-   0.5  (3*sigma error)\n",
      "Velocity Offset: 0.00\n"
     ]
    },
    {
     "name": "stderr",
     "output_type": "stream",
     "text": [
      "\u001b[1;33m[WARNING]: \u001b[0m\u001b[0;39mTrying to register the cmap 'sauron' which already exists.\u001b[0m \u001b[0;36m(UserWarning)\u001b[0m\n",
      "\u001b[1;33m[WARNING]: \u001b[0m\u001b[0;39mTrying to register the cmap 'sauron_r' which already exists.\u001b[0m \u001b[0;36m(UserWarning)\u001b[0m\n",
      "\u001b[1;33m[WARNING]: \u001b[0m\u001b[0;39mTrying to register the cmap 'sauron' which already exists.\u001b[0m \u001b[0;36m(UserWarning)\u001b[0m\n",
      "\u001b[1;33m[WARNING]: \u001b[0m\u001b[0;39mTrying to register the cmap 'sauron_r' which already exists.\u001b[0m \u001b[0;36m(UserWarning)\u001b[0m\n"
     ]
    },
    {
     "name": "stdout",
     "output_type": "stream",
     "text": [
      "  Kin PA: 107.5  +/-  11.2  (3*sigma error)\n",
      "Velocity Offset: 0.00\n"
     ]
    },
    {
     "name": "stderr",
     "output_type": "stream",
     "text": [
      "\u001b[1;33m[WARNING]: \u001b[0m\u001b[0;39mTrying to register the cmap 'sauron' which already exists.\u001b[0m \u001b[0;36m(UserWarning)\u001b[0m\n",
      "\u001b[1;33m[WARNING]: \u001b[0m\u001b[0;39mTrying to register the cmap 'sauron_r' which already exists.\u001b[0m \u001b[0;36m(UserWarning)\u001b[0m\n",
      "\u001b[1;33m[WARNING]: \u001b[0m\u001b[0;39mTrying to register the cmap 'sauron' which already exists.\u001b[0m \u001b[0;36m(UserWarning)\u001b[0m\n",
      "\u001b[1;33m[WARNING]: \u001b[0m\u001b[0;39mTrying to register the cmap 'sauron_r' which already exists.\u001b[0m \u001b[0;36m(UserWarning)\u001b[0m\n"
     ]
    },
    {
     "name": "stdout",
     "output_type": "stream",
     "text": [
      "  Kin PA: 161.0  +/-   0.5  (3*sigma error)\n",
      "Velocity Offset: 0.00\n"
     ]
    },
    {
     "name": "stderr",
     "output_type": "stream",
     "text": [
      "\u001b[1;33m[WARNING]: \u001b[0m\u001b[0;39mTrying to register the cmap 'sauron' which already exists.\u001b[0m \u001b[0;36m(UserWarning)\u001b[0m\n",
      "\u001b[1;33m[WARNING]: \u001b[0m\u001b[0;39mTrying to register the cmap 'sauron_r' which already exists.\u001b[0m \u001b[0;36m(UserWarning)\u001b[0m\n",
      "\u001b[1;33m[WARNING]: \u001b[0m\u001b[0;39mTrying to register the cmap 'sauron' which already exists.\u001b[0m \u001b[0;36m(UserWarning)\u001b[0m\n",
      "\u001b[1;33m[WARNING]: \u001b[0m\u001b[0;39mTrying to register the cmap 'sauron_r' which already exists.\u001b[0m \u001b[0;36m(UserWarning)\u001b[0m\n"
     ]
    },
    {
     "name": "stdout",
     "output_type": "stream",
     "text": [
      "  Kin PA:   5.5  +/-  89.8  (3*sigma error)\n",
      "Velocity Offset: 0.00\n"
     ]
    },
    {
     "name": "stderr",
     "output_type": "stream",
     "text": [
      "\u001b[1;33m[WARNING]: \u001b[0m\u001b[0;39mTrying to register the cmap 'sauron' which already exists.\u001b[0m \u001b[0;36m(UserWarning)\u001b[0m\n",
      "\u001b[1;33m[WARNING]: \u001b[0m\u001b[0;39mTrying to register the cmap 'sauron_r' which already exists.\u001b[0m \u001b[0;36m(UserWarning)\u001b[0m\n",
      "\u001b[1;33m[WARNING]: \u001b[0m\u001b[0;39mTrying to register the cmap 'sauron' which already exists.\u001b[0m \u001b[0;36m(UserWarning)\u001b[0m\n",
      "\u001b[1;33m[WARNING]: \u001b[0m\u001b[0;39mTrying to register the cmap 'sauron_r' which already exists.\u001b[0m \u001b[0;36m(UserWarning)\u001b[0m\n"
     ]
    },
    {
     "name": "stdout",
     "output_type": "stream",
     "text": [
      "  Kin PA: 101.0  +/-   0.5  (3*sigma error)\n",
      "Velocity Offset: 0.00\n"
     ]
    },
    {
     "name": "stderr",
     "output_type": "stream",
     "text": [
      "\u001b[1;33m[WARNING]: \u001b[0m\u001b[0;39mTrying to register the cmap 'sauron' which already exists.\u001b[0m \u001b[0;36m(UserWarning)\u001b[0m\n",
      "\u001b[1;33m[WARNING]: \u001b[0m\u001b[0;39mTrying to register the cmap 'sauron_r' which already exists.\u001b[0m \u001b[0;36m(UserWarning)\u001b[0m\n",
      "\u001b[1;33m[WARNING]: \u001b[0m\u001b[0;39mTrying to register the cmap 'sauron' which already exists.\u001b[0m \u001b[0;36m(UserWarning)\u001b[0m\n",
      "\u001b[1;33m[WARNING]: \u001b[0m\u001b[0;39mTrying to register the cmap 'sauron_r' which already exists.\u001b[0m \u001b[0;36m(UserWarning)\u001b[0m\n"
     ]
    },
    {
     "name": "stdout",
     "output_type": "stream",
     "text": [
      "  Kin PA:   6.0  +/-   5.5  (3*sigma error)\n",
      "Velocity Offset: 0.00\n"
     ]
    },
    {
     "name": "stderr",
     "output_type": "stream",
     "text": [
      "\u001b[1;33m[WARNING]: \u001b[0m\u001b[0;39mTrying to register the cmap 'sauron' which already exists.\u001b[0m \u001b[0;36m(UserWarning)\u001b[0m\n",
      "\u001b[1;33m[WARNING]: \u001b[0m\u001b[0;39mTrying to register the cmap 'sauron_r' which already exists.\u001b[0m \u001b[0;36m(UserWarning)\u001b[0m\n",
      "\u001b[1;33m[WARNING]: \u001b[0m\u001b[0;39mTrying to register the cmap 'sauron' which already exists.\u001b[0m \u001b[0;36m(UserWarning)\u001b[0m\n",
      "\u001b[1;33m[WARNING]: \u001b[0m\u001b[0;39mTrying to register the cmap 'sauron_r' which already exists.\u001b[0m \u001b[0;36m(UserWarning)\u001b[0m\n"
     ]
    },
    {
     "name": "stdout",
     "output_type": "stream",
     "text": [
      "  Kin PA: 147.5  +/-   1.0  (3*sigma error)\n",
      "Velocity Offset: 0.00\n"
     ]
    },
    {
     "name": "stderr",
     "output_type": "stream",
     "text": [
      "\u001b[1;33m[WARNING]: \u001b[0m\u001b[0;39mTrying to register the cmap 'sauron' which already exists.\u001b[0m \u001b[0;36m(UserWarning)\u001b[0m\n",
      "\u001b[1;33m[WARNING]: \u001b[0m\u001b[0;39mTrying to register the cmap 'sauron_r' which already exists.\u001b[0m \u001b[0;36m(UserWarning)\u001b[0m\n",
      "\u001b[1;33m[WARNING]: \u001b[0m\u001b[0;39mTrying to register the cmap 'sauron' which already exists.\u001b[0m \u001b[0;36m(UserWarning)\u001b[0m\n",
      "\u001b[1;33m[WARNING]: \u001b[0m\u001b[0;39mTrying to register the cmap 'sauron_r' which already exists.\u001b[0m \u001b[0;36m(UserWarning)\u001b[0m\n",
      "\u001b[1;33m[WARNING]: \u001b[0m\u001b[0;39mTrying to register the cmap 'sauron' which already exists.\u001b[0m \u001b[0;36m(UserWarning)\u001b[0m\n",
      "\u001b[1;33m[WARNING]: \u001b[0m\u001b[0;39mTrying to register the cmap 'sauron_r' which already exists.\u001b[0m \u001b[0;36m(UserWarning)\u001b[0m\n"
     ]
    },
    {
     "name": "stdout",
     "output_type": "stream",
     "text": [
      "  Kin PA: 174.5  +/-   0.8  (3*sigma error)\n",
      "Velocity Offset: 0.00\n"
     ]
    },
    {
     "name": "stderr",
     "output_type": "stream",
     "text": [
      "\u001b[1;33m[WARNING]: \u001b[0m\u001b[0;39mTrying to register the cmap 'sauron' which already exists.\u001b[0m \u001b[0;36m(UserWarning)\u001b[0m\n",
      "\u001b[1;33m[WARNING]: \u001b[0m\u001b[0;39mTrying to register the cmap 'sauron_r' which already exists.\u001b[0m \u001b[0;36m(UserWarning)\u001b[0m\n"
     ]
    },
    {
     "name": "stdout",
     "output_type": "stream",
     "text": [
      "  Kin PA:   6.0  +/-   0.5  (3*sigma error)\n",
      "Velocity Offset: 0.00\n"
     ]
    },
    {
     "name": "stderr",
     "output_type": "stream",
     "text": [
      "\u001b[1;33m[WARNING]: \u001b[0m\u001b[0;39mTrying to register the cmap 'sauron' which already exists.\u001b[0m \u001b[0;36m(UserWarning)\u001b[0m\n",
      "\u001b[1;33m[WARNING]: \u001b[0m\u001b[0;39mTrying to register the cmap 'sauron_r' which already exists.\u001b[0m \u001b[0;36m(UserWarning)\u001b[0m\n",
      "\u001b[1;33m[WARNING]: \u001b[0m\u001b[0;39mTrying to register the cmap 'sauron' which already exists.\u001b[0m \u001b[0;36m(UserWarning)\u001b[0m\n",
      "\u001b[1;33m[WARNING]: \u001b[0m\u001b[0;39mTrying to register the cmap 'sauron_r' which already exists.\u001b[0m \u001b[0;36m(UserWarning)\u001b[0m\n",
      "\u001b[1;33m[WARNING]: \u001b[0m\u001b[0;39mTrying to register the cmap 'sauron' which already exists.\u001b[0m \u001b[0;36m(UserWarning)\u001b[0m\n",
      "\u001b[1;33m[WARNING]: \u001b[0m\u001b[0;39mTrying to register the cmap 'sauron_r' which already exists.\u001b[0m \u001b[0;36m(UserWarning)\u001b[0m\n"
     ]
    },
    {
     "name": "stdout",
     "output_type": "stream",
     "text": [
      "  Kin PA:  42.5  +/-  27.2  (3*sigma error)\n",
      "Velocity Offset: 0.00\n"
     ]
    },
    {
     "name": "stderr",
     "output_type": "stream",
     "text": [
      "\u001b[1;33m[WARNING]: \u001b[0m\u001b[0;39mTrying to register the cmap 'sauron' which already exists.\u001b[0m \u001b[0;36m(UserWarning)\u001b[0m\n",
      "\u001b[1;33m[WARNING]: \u001b[0m\u001b[0;39mTrying to register the cmap 'sauron_r' which already exists.\u001b[0m \u001b[0;36m(UserWarning)\u001b[0m\n"
     ]
    },
    {
     "name": "stdout",
     "output_type": "stream",
     "text": [
      "  Kin PA:  19.0  +/-   0.5  (3*sigma error)\n",
      "Velocity Offset: 0.00\n"
     ]
    },
    {
     "name": "stderr",
     "output_type": "stream",
     "text": [
      "\u001b[1;33m[WARNING]: \u001b[0m\u001b[0;39mTrying to register the cmap 'sauron' which already exists.\u001b[0m \u001b[0;36m(UserWarning)\u001b[0m\n",
      "\u001b[1;33m[WARNING]: \u001b[0m\u001b[0;39mTrying to register the cmap 'sauron_r' which already exists.\u001b[0m \u001b[0;36m(UserWarning)\u001b[0m\n",
      "\u001b[1;33m[WARNING]: \u001b[0m\u001b[0;39mTrying to register the cmap 'sauron' which already exists.\u001b[0m \u001b[0;36m(UserWarning)\u001b[0m\n",
      "\u001b[1;33m[WARNING]: \u001b[0m\u001b[0;39mTrying to register the cmap 'sauron_r' which already exists.\u001b[0m \u001b[0;36m(UserWarning)\u001b[0m\n"
     ]
    },
    {
     "name": "stdout",
     "output_type": "stream",
     "text": [
      "  Kin PA: 101.0  +/-   5.0  (3*sigma error)\n",
      "Velocity Offset: 0.00\n"
     ]
    },
    {
     "name": "stderr",
     "output_type": "stream",
     "text": [
      "\u001b[1;33m[WARNING]: \u001b[0m\u001b[0;39mTrying to register the cmap 'sauron' which already exists.\u001b[0m \u001b[0;36m(UserWarning)\u001b[0m\n",
      "\u001b[1;33m[WARNING]: \u001b[0m\u001b[0;39mTrying to register the cmap 'sauron_r' which already exists.\u001b[0m \u001b[0;36m(UserWarning)\u001b[0m\n",
      "\u001b[1;33m[WARNING]: \u001b[0m\u001b[0;39mTrying to register the cmap 'sauron' which already exists.\u001b[0m \u001b[0;36m(UserWarning)\u001b[0m\n",
      "\u001b[1;33m[WARNING]: \u001b[0m\u001b[0;39mTrying to register the cmap 'sauron_r' which already exists.\u001b[0m \u001b[0;36m(UserWarning)\u001b[0m\n",
      "\u001b[1;33m[WARNING]: \u001b[0m\u001b[0;39mTrying to register the cmap 'sauron' which already exists.\u001b[0m \u001b[0;36m(UserWarning)\u001b[0m\n",
      "\u001b[1;33m[WARNING]: \u001b[0m\u001b[0;39mTrying to register the cmap 'sauron_r' which already exists.\u001b[0m \u001b[0;36m(UserWarning)\u001b[0m\n"
     ]
    },
    {
     "name": "stdout",
     "output_type": "stream",
     "text": [
      "  Kin PA: 178.5  +/-   1.8  (3*sigma error)\n",
      "Velocity Offset: 0.00\n"
     ]
    },
    {
     "name": "stderr",
     "output_type": "stream",
     "text": [
      "\u001b[1;33m[WARNING]: \u001b[0m\u001b[0;39mTrying to register the cmap 'sauron' which already exists.\u001b[0m \u001b[0;36m(UserWarning)\u001b[0m\n",
      "\u001b[1;33m[WARNING]: \u001b[0m\u001b[0;39mTrying to register the cmap 'sauron_r' which already exists.\u001b[0m \u001b[0;36m(UserWarning)\u001b[0m\n",
      "\u001b[1;33m[WARNING]: \u001b[0m\u001b[0;39mTrying to register the cmap 'sauron' which already exists.\u001b[0m \u001b[0;36m(UserWarning)\u001b[0m\n",
      "\u001b[1;33m[WARNING]: \u001b[0m\u001b[0;39mTrying to register the cmap 'sauron_r' which already exists.\u001b[0m \u001b[0;36m(UserWarning)\u001b[0m\n"
     ]
    },
    {
     "name": "stdout",
     "output_type": "stream",
     "text": [
      "  Kin PA: 157.0  +/-   6.2  (3*sigma error)\n",
      "Velocity Offset: 0.00\n"
     ]
    },
    {
     "name": "stderr",
     "output_type": "stream",
     "text": [
      "\u001b[1;33m[WARNING]: \u001b[0m\u001b[0;39mTrying to register the cmap 'sauron' which already exists.\u001b[0m \u001b[0;36m(UserWarning)\u001b[0m\n",
      "\u001b[1;33m[WARNING]: \u001b[0m\u001b[0;39mTrying to register the cmap 'sauron_r' which already exists.\u001b[0m \u001b[0;36m(UserWarning)\u001b[0m\n"
     ]
    },
    {
     "name": "stdout",
     "output_type": "stream",
     "text": [
      "  Kin PA: 148.5  +/-   0.5  (3*sigma error)\n",
      "Velocity Offset: 0.00\n"
     ]
    },
    {
     "name": "stderr",
     "output_type": "stream",
     "text": [
      "\u001b[1;33m[WARNING]: \u001b[0m\u001b[0;39mTrying to register the cmap 'sauron' which already exists.\u001b[0m \u001b[0;36m(UserWarning)\u001b[0m\n",
      "\u001b[1;33m[WARNING]: \u001b[0m\u001b[0;39mTrying to register the cmap 'sauron_r' which already exists.\u001b[0m \u001b[0;36m(UserWarning)\u001b[0m\n",
      "\u001b[1;33m[WARNING]: \u001b[0m\u001b[0;39mTrying to register the cmap 'sauron' which already exists.\u001b[0m \u001b[0;36m(UserWarning)\u001b[0m\n",
      "\u001b[1;33m[WARNING]: \u001b[0m\u001b[0;39mTrying to register the cmap 'sauron_r' which already exists.\u001b[0m \u001b[0;36m(UserWarning)\u001b[0m\n"
     ]
    },
    {
     "name": "stdout",
     "output_type": "stream",
     "text": [
      "  Kin PA:  18.0  +/-  26.5  (3*sigma error)\n",
      "Velocity Offset: 0.00\n"
     ]
    },
    {
     "name": "stderr",
     "output_type": "stream",
     "text": [
      "\u001b[1;33m[WARNING]: \u001b[0m\u001b[0;39mTrying to register the cmap 'sauron' which already exists.\u001b[0m \u001b[0;36m(UserWarning)\u001b[0m\n",
      "\u001b[1;33m[WARNING]: \u001b[0m\u001b[0;39mTrying to register the cmap 'sauron_r' which already exists.\u001b[0m \u001b[0;36m(UserWarning)\u001b[0m\n",
      "\u001b[1;33m[WARNING]: \u001b[0m\u001b[0;39mTrying to register the cmap 'sauron' which already exists.\u001b[0m \u001b[0;36m(UserWarning)\u001b[0m\n",
      "\u001b[1;33m[WARNING]: \u001b[0m\u001b[0;39mTrying to register the cmap 'sauron_r' which already exists.\u001b[0m \u001b[0;36m(UserWarning)\u001b[0m\n"
     ]
    },
    {
     "name": "stdout",
     "output_type": "stream",
     "text": [
      "  Kin PA: 121.0  +/-   2.5  (3*sigma error)\n",
      "Velocity Offset: 0.00\n"
     ]
    },
    {
     "name": "stderr",
     "output_type": "stream",
     "text": [
      "\u001b[1;33m[WARNING]: \u001b[0m\u001b[0;39mTrying to register the cmap 'sauron' which already exists.\u001b[0m \u001b[0;36m(UserWarning)\u001b[0m\n",
      "\u001b[1;33m[WARNING]: \u001b[0m\u001b[0;39mTrying to register the cmap 'sauron_r' which already exists.\u001b[0m \u001b[0;36m(UserWarning)\u001b[0m\n",
      "\u001b[1;33m[WARNING]: \u001b[0m\u001b[0;39mTrying to register the cmap 'sauron' which already exists.\u001b[0m \u001b[0;36m(UserWarning)\u001b[0m\n",
      "\u001b[1;33m[WARNING]: \u001b[0m\u001b[0;39mTrying to register the cmap 'sauron_r' which already exists.\u001b[0m \u001b[0;36m(UserWarning)\u001b[0m\n"
     ]
    },
    {
     "name": "stdout",
     "output_type": "stream",
     "text": [
      "  Kin PA:  97.0  +/-  21.0  (3*sigma error)\n",
      "Velocity Offset: 0.00\n"
     ]
    },
    {
     "name": "stderr",
     "output_type": "stream",
     "text": [
      "\u001b[1;33m[WARNING]: \u001b[0m\u001b[0;39mTrying to register the cmap 'sauron' which already exists.\u001b[0m \u001b[0;36m(UserWarning)\u001b[0m\n",
      "\u001b[1;33m[WARNING]: \u001b[0m\u001b[0;39mTrying to register the cmap 'sauron_r' which already exists.\u001b[0m \u001b[0;36m(UserWarning)\u001b[0m\n",
      "\u001b[1;33m[WARNING]: \u001b[0m\u001b[0;39mTrying to register the cmap 'sauron' which already exists.\u001b[0m \u001b[0;36m(UserWarning)\u001b[0m\n",
      "\u001b[1;33m[WARNING]: \u001b[0m\u001b[0;39mTrying to register the cmap 'sauron_r' which already exists.\u001b[0m \u001b[0;36m(UserWarning)\u001b[0m\n"
     ]
    },
    {
     "name": "stdout",
     "output_type": "stream",
     "text": [
      "  Kin PA: 174.0  +/-   0.5  (3*sigma error)\n",
      "Velocity Offset: 0.00\n"
     ]
    },
    {
     "name": "stderr",
     "output_type": "stream",
     "text": [
      "\u001b[1;33m[WARNING]: \u001b[0m\u001b[0;39mTrying to register the cmap 'sauron' which already exists.\u001b[0m \u001b[0;36m(UserWarning)\u001b[0m\n",
      "\u001b[1;33m[WARNING]: \u001b[0m\u001b[0;39mTrying to register the cmap 'sauron_r' which already exists.\u001b[0m \u001b[0;36m(UserWarning)\u001b[0m\n",
      "\u001b[1;33m[WARNING]: \u001b[0m\u001b[0;39mTrying to register the cmap 'sauron' which already exists.\u001b[0m \u001b[0;36m(UserWarning)\u001b[0m\n",
      "\u001b[1;33m[WARNING]: \u001b[0m\u001b[0;39mTrying to register the cmap 'sauron_r' which already exists.\u001b[0m \u001b[0;36m(UserWarning)\u001b[0m\n"
     ]
    },
    {
     "name": "stdout",
     "output_type": "stream",
     "text": [
      "  Kin PA:  19.0  +/-   8.0  (3*sigma error)\n",
      "Velocity Offset: 0.00\n"
     ]
    },
    {
     "name": "stderr",
     "output_type": "stream",
     "text": [
      "\u001b[1;33m[WARNING]: \u001b[0m\u001b[0;39mTrying to register the cmap 'sauron' which already exists.\u001b[0m \u001b[0;36m(UserWarning)\u001b[0m\n",
      "\u001b[1;33m[WARNING]: \u001b[0m\u001b[0;39mTrying to register the cmap 'sauron_r' which already exists.\u001b[0m \u001b[0;36m(UserWarning)\u001b[0m\n",
      "\u001b[1;33m[WARNING]: \u001b[0m\u001b[0;39mTrying to register the cmap 'sauron' which already exists.\u001b[0m \u001b[0;36m(UserWarning)\u001b[0m\n",
      "\u001b[1;33m[WARNING]: \u001b[0m\u001b[0;39mTrying to register the cmap 'sauron_r' which already exists.\u001b[0m \u001b[0;36m(UserWarning)\u001b[0m\n"
     ]
    },
    {
     "name": "stdout",
     "output_type": "stream",
     "text": [
      "  Kin PA:  48.5  +/-   0.5  (3*sigma error)\n",
      "Velocity Offset: 0.00\n"
     ]
    },
    {
     "name": "stderr",
     "output_type": "stream",
     "text": [
      "\u001b[1;33m[WARNING]: \u001b[0m\u001b[0;39mTrying to register the cmap 'sauron' which already exists.\u001b[0m \u001b[0;36m(UserWarning)\u001b[0m\n",
      "\u001b[1;33m[WARNING]: \u001b[0m\u001b[0;39mTrying to register the cmap 'sauron_r' which already exists.\u001b[0m \u001b[0;36m(UserWarning)\u001b[0m\n",
      "\u001b[1;33m[WARNING]: \u001b[0m\u001b[0;39mTrying to register the cmap 'sauron' which already exists.\u001b[0m \u001b[0;36m(UserWarning)\u001b[0m\n",
      "\u001b[1;33m[WARNING]: \u001b[0m\u001b[0;39mTrying to register the cmap 'sauron_r' which already exists.\u001b[0m \u001b[0;36m(UserWarning)\u001b[0m\n"
     ]
    },
    {
     "name": "stdout",
     "output_type": "stream",
     "text": [
      "  Kin PA: 169.5  +/-   6.8  (3*sigma error)\n",
      "Velocity Offset: 0.00\n"
     ]
    },
    {
     "name": "stderr",
     "output_type": "stream",
     "text": [
      "\u001b[1;33m[WARNING]: \u001b[0m\u001b[0;39mTrying to register the cmap 'sauron' which already exists.\u001b[0m \u001b[0;36m(UserWarning)\u001b[0m\n",
      "\u001b[1;33m[WARNING]: \u001b[0m\u001b[0;39mTrying to register the cmap 'sauron_r' which already exists.\u001b[0m \u001b[0;36m(UserWarning)\u001b[0m\n",
      "\u001b[1;33m[WARNING]: \u001b[0m\u001b[0;39mTrying to register the cmap 'sauron' which already exists.\u001b[0m \u001b[0;36m(UserWarning)\u001b[0m\n",
      "\u001b[1;33m[WARNING]: \u001b[0m\u001b[0;39mTrying to register the cmap 'sauron_r' which already exists.\u001b[0m \u001b[0;36m(UserWarning)\u001b[0m\n"
     ]
    },
    {
     "name": "stdout",
     "output_type": "stream",
     "text": [
      "  Kin PA:  24.0  +/-   0.5  (3*sigma error)\n",
      "Velocity Offset: 0.00\n"
     ]
    },
    {
     "name": "stderr",
     "output_type": "stream",
     "text": [
      "\u001b[1;33m[WARNING]: \u001b[0m\u001b[0;39mTrying to register the cmap 'sauron' which already exists.\u001b[0m \u001b[0;36m(UserWarning)\u001b[0m\n",
      "\u001b[1;33m[WARNING]: \u001b[0m\u001b[0;39mTrying to register the cmap 'sauron_r' which already exists.\u001b[0m \u001b[0;36m(UserWarning)\u001b[0m\n",
      "\u001b[1;33m[WARNING]: \u001b[0m\u001b[0;39mTrying to register the cmap 'sauron' which already exists.\u001b[0m \u001b[0;36m(UserWarning)\u001b[0m\n",
      "\u001b[1;33m[WARNING]: \u001b[0m\u001b[0;39mTrying to register the cmap 'sauron_r' which already exists.\u001b[0m \u001b[0;36m(UserWarning)\u001b[0m\n"
     ]
    },
    {
     "name": "stdout",
     "output_type": "stream",
     "text": [
      "  Kin PA: 138.0  +/-   6.0  (3*sigma error)\n",
      "Velocity Offset: 0.00\n"
     ]
    },
    {
     "name": "stderr",
     "output_type": "stream",
     "text": [
      "\u001b[1;33m[WARNING]: \u001b[0m\u001b[0;39mTrying to register the cmap 'sauron' which already exists.\u001b[0m \u001b[0;36m(UserWarning)\u001b[0m\n",
      "\u001b[1;33m[WARNING]: \u001b[0m\u001b[0;39mTrying to register the cmap 'sauron_r' which already exists.\u001b[0m \u001b[0;36m(UserWarning)\u001b[0m\n",
      "\u001b[1;33m[WARNING]: \u001b[0m\u001b[0;39mTrying to register the cmap 'sauron' which already exists.\u001b[0m \u001b[0;36m(UserWarning)\u001b[0m\n",
      "\u001b[1;33m[WARNING]: \u001b[0m\u001b[0;39mTrying to register the cmap 'sauron_r' which already exists.\u001b[0m \u001b[0;36m(UserWarning)\u001b[0m\n"
     ]
    },
    {
     "name": "stdout",
     "output_type": "stream",
     "text": [
      "  Kin PA:  95.0  +/-   4.0  (3*sigma error)\n",
      "Velocity Offset: 0.00\n"
     ]
    },
    {
     "name": "stderr",
     "output_type": "stream",
     "text": [
      "\u001b[1;33m[WARNING]: \u001b[0m\u001b[0;39mTrying to register the cmap 'sauron' which already exists.\u001b[0m \u001b[0;36m(UserWarning)\u001b[0m\n",
      "\u001b[1;33m[WARNING]: \u001b[0m\u001b[0;39mTrying to register the cmap 'sauron_r' which already exists.\u001b[0m \u001b[0;36m(UserWarning)\u001b[0m\n",
      "\u001b[1;33m[WARNING]: \u001b[0m\u001b[0;39mTrying to register the cmap 'sauron' which already exists.\u001b[0m \u001b[0;36m(UserWarning)\u001b[0m\n",
      "\u001b[1;33m[WARNING]: \u001b[0m\u001b[0;39mTrying to register the cmap 'sauron_r' which already exists.\u001b[0m \u001b[0;36m(UserWarning)\u001b[0m\n"
     ]
    },
    {
     "name": "stdout",
     "output_type": "stream",
     "text": [
      "  Kin PA:  60.0  +/-   7.2  (3*sigma error)\n",
      "Velocity Offset: 0.00\n"
     ]
    },
    {
     "name": "stderr",
     "output_type": "stream",
     "text": [
      "\u001b[1;33m[WARNING]: \u001b[0m\u001b[0;39mTrying to register the cmap 'sauron' which already exists.\u001b[0m \u001b[0;36m(UserWarning)\u001b[0m\n",
      "\u001b[1;33m[WARNING]: \u001b[0m\u001b[0;39mTrying to register the cmap 'sauron_r' which already exists.\u001b[0m \u001b[0;36m(UserWarning)\u001b[0m\n",
      "\u001b[1;33m[WARNING]: \u001b[0m\u001b[0;39mTrying to register the cmap 'sauron' which already exists.\u001b[0m \u001b[0;36m(UserWarning)\u001b[0m\n",
      "\u001b[1;33m[WARNING]: \u001b[0m\u001b[0;39mTrying to register the cmap 'sauron_r' which already exists.\u001b[0m \u001b[0;36m(UserWarning)\u001b[0m\n"
     ]
    },
    {
     "name": "stdout",
     "output_type": "stream",
     "text": [
      "  Kin PA:  89.5  +/-   0.5  (3*sigma error)\n",
      "Velocity Offset: 0.00\n"
     ]
    },
    {
     "name": "stderr",
     "output_type": "stream",
     "text": [
      "\u001b[1;33m[WARNING]: \u001b[0m\u001b[0;39mTrying to register the cmap 'sauron' which already exists.\u001b[0m \u001b[0;36m(UserWarning)\u001b[0m\n",
      "\u001b[1;33m[WARNING]: \u001b[0m\u001b[0;39mTrying to register the cmap 'sauron_r' which already exists.\u001b[0m \u001b[0;36m(UserWarning)\u001b[0m\n",
      "\u001b[1;33m[WARNING]: \u001b[0m\u001b[0;39mTrying to register the cmap 'sauron' which already exists.\u001b[0m \u001b[0;36m(UserWarning)\u001b[0m\n",
      "\u001b[1;33m[WARNING]: \u001b[0m\u001b[0;39mTrying to register the cmap 'sauron_r' which already exists.\u001b[0m \u001b[0;36m(UserWarning)\u001b[0m\n"
     ]
    },
    {
     "name": "stdout",
     "output_type": "stream",
     "text": [
      "  Kin PA:  78.0  +/-   2.5  (3*sigma error)\n",
      "Velocity Offset: 0.00\n"
     ]
    },
    {
     "name": "stderr",
     "output_type": "stream",
     "text": [
      "\u001b[1;33m[WARNING]: \u001b[0m\u001b[0;39mTrying to register the cmap 'sauron' which already exists.\u001b[0m \u001b[0;36m(UserWarning)\u001b[0m\n",
      "\u001b[1;33m[WARNING]: \u001b[0m\u001b[0;39mTrying to register the cmap 'sauron_r' which already exists.\u001b[0m \u001b[0;36m(UserWarning)\u001b[0m\n",
      "\u001b[1;33m[WARNING]: \u001b[0m\u001b[0;39mTrying to register the cmap 'sauron' which already exists.\u001b[0m \u001b[0;36m(UserWarning)\u001b[0m\n",
      "\u001b[1;33m[WARNING]: \u001b[0m\u001b[0;39mTrying to register the cmap 'sauron_r' which already exists.\u001b[0m \u001b[0;36m(UserWarning)\u001b[0m\n"
     ]
    },
    {
     "name": "stdout",
     "output_type": "stream",
     "text": [
      "  Kin PA:  90.5  +/-   0.5  (3*sigma error)\n",
      "Velocity Offset: 0.00\n"
     ]
    },
    {
     "name": "stderr",
     "output_type": "stream",
     "text": [
      "\u001b[1;33m[WARNING]: \u001b[0m\u001b[0;39mTrying to register the cmap 'sauron' which already exists.\u001b[0m \u001b[0;36m(UserWarning)\u001b[0m\n",
      "\u001b[1;33m[WARNING]: \u001b[0m\u001b[0;39mTrying to register the cmap 'sauron_r' which already exists.\u001b[0m \u001b[0;36m(UserWarning)\u001b[0m\n",
      "\u001b[1;33m[WARNING]: \u001b[0m\u001b[0;39mTrying to register the cmap 'sauron' which already exists.\u001b[0m \u001b[0;36m(UserWarning)\u001b[0m\n",
      "\u001b[1;33m[WARNING]: \u001b[0m\u001b[0;39mTrying to register the cmap 'sauron_r' which already exists.\u001b[0m \u001b[0;36m(UserWarning)\u001b[0m\n"
     ]
    },
    {
     "name": "stdout",
     "output_type": "stream",
     "text": [
      "  Kin PA:  99.5  +/-   1.5  (3*sigma error)\n",
      "Velocity Offset: 0.00\n"
     ]
    },
    {
     "name": "stderr",
     "output_type": "stream",
     "text": [
      "\u001b[1;33m[WARNING]: \u001b[0m\u001b[0;39mTrying to register the cmap 'sauron' which already exists.\u001b[0m \u001b[0;36m(UserWarning)\u001b[0m\n",
      "\u001b[1;33m[WARNING]: \u001b[0m\u001b[0;39mTrying to register the cmap 'sauron_r' which already exists.\u001b[0m \u001b[0;36m(UserWarning)\u001b[0m\n",
      "\u001b[1;33m[WARNING]: \u001b[0m\u001b[0;39mTrying to register the cmap 'sauron' which already exists.\u001b[0m \u001b[0;36m(UserWarning)\u001b[0m\n",
      "\u001b[1;33m[WARNING]: \u001b[0m\u001b[0;39mTrying to register the cmap 'sauron_r' which already exists.\u001b[0m \u001b[0;36m(UserWarning)\u001b[0m\n"
     ]
    },
    {
     "name": "stdout",
     "output_type": "stream",
     "text": [
      "  Kin PA:  57.0  +/-   0.5  (3*sigma error)\n",
      "Velocity Offset: 0.00\n"
     ]
    },
    {
     "name": "stderr",
     "output_type": "stream",
     "text": [
      "\u001b[1;33m[WARNING]: \u001b[0m\u001b[0;39mTrying to register the cmap 'sauron' which already exists.\u001b[0m \u001b[0;36m(UserWarning)\u001b[0m\n",
      "\u001b[1;33m[WARNING]: \u001b[0m\u001b[0;39mTrying to register the cmap 'sauron_r' which already exists.\u001b[0m \u001b[0;36m(UserWarning)\u001b[0m\n",
      "\u001b[1;33m[WARNING]: \u001b[0m\u001b[0;39mTrying to register the cmap 'sauron' which already exists.\u001b[0m \u001b[0;36m(UserWarning)\u001b[0m\n",
      "\u001b[1;33m[WARNING]: \u001b[0m\u001b[0;39mTrying to register the cmap 'sauron_r' which already exists.\u001b[0m \u001b[0;36m(UserWarning)\u001b[0m\n",
      "\u001b[1;33m[WARNING]: \u001b[0m\u001b[0;39mTrying to register the cmap 'sauron' which already exists.\u001b[0m \u001b[0;36m(UserWarning)\u001b[0m\n",
      "\u001b[1;33m[WARNING]: \u001b[0m\u001b[0;39mTrying to register the cmap 'sauron_r' which already exists.\u001b[0m \u001b[0;36m(UserWarning)\u001b[0m\n"
     ]
    },
    {
     "name": "stdout",
     "output_type": "stream",
     "text": [
      "  Kin PA:  65.0  +/-  10.8  (3*sigma error)\n",
      "Velocity Offset: 0.00\n"
     ]
    },
    {
     "name": "stderr",
     "output_type": "stream",
     "text": [
      "\u001b[1;33m[WARNING]: \u001b[0m\u001b[0;39mTrying to register the cmap 'sauron' which already exists.\u001b[0m \u001b[0;36m(UserWarning)\u001b[0m\n",
      "\u001b[1;33m[WARNING]: \u001b[0m\u001b[0;39mTrying to register the cmap 'sauron_r' which already exists.\u001b[0m \u001b[0;36m(UserWarning)\u001b[0m\n"
     ]
    },
    {
     "name": "stdout",
     "output_type": "stream",
     "text": [
      "  Kin PA: 113.0  +/-   0.5  (3*sigma error)\n",
      "Velocity Offset: 0.00\n"
     ]
    },
    {
     "name": "stderr",
     "output_type": "stream",
     "text": [
      "\u001b[1;33m[WARNING]: \u001b[0m\u001b[0;39mTrying to register the cmap 'sauron' which already exists.\u001b[0m \u001b[0;36m(UserWarning)\u001b[0m\n",
      "\u001b[1;33m[WARNING]: \u001b[0m\u001b[0;39mTrying to register the cmap 'sauron_r' which already exists.\u001b[0m \u001b[0;36m(UserWarning)\u001b[0m\n",
      "\u001b[1;33m[WARNING]: \u001b[0m\u001b[0;39mTrying to register the cmap 'sauron' which already exists.\u001b[0m \u001b[0;36m(UserWarning)\u001b[0m\n",
      "\u001b[1;33m[WARNING]: \u001b[0m\u001b[0;39mTrying to register the cmap 'sauron_r' which already exists.\u001b[0m \u001b[0;36m(UserWarning)\u001b[0m\n"
     ]
    },
    {
     "name": "stdout",
     "output_type": "stream",
     "text": [
      "  Kin PA: 118.5  +/-  25.8  (3*sigma error)\n",
      "Velocity Offset: 0.00\n"
     ]
    },
    {
     "name": "stderr",
     "output_type": "stream",
     "text": [
      "\u001b[1;33m[WARNING]: \u001b[0m\u001b[0;39mTrying to register the cmap 'sauron' which already exists.\u001b[0m \u001b[0;36m(UserWarning)\u001b[0m\n",
      "\u001b[1;33m[WARNING]: \u001b[0m\u001b[0;39mTrying to register the cmap 'sauron_r' which already exists.\u001b[0m \u001b[0;36m(UserWarning)\u001b[0m\n",
      "\u001b[1;33m[WARNING]: \u001b[0m\u001b[0;39mTrying to register the cmap 'sauron' which already exists.\u001b[0m \u001b[0;36m(UserWarning)\u001b[0m\n",
      "\u001b[1;33m[WARNING]: \u001b[0m\u001b[0;39mTrying to register the cmap 'sauron_r' which already exists.\u001b[0m \u001b[0;36m(UserWarning)\u001b[0m\n"
     ]
    },
    {
     "name": "stdout",
     "output_type": "stream",
     "text": [
      "  Kin PA: 144.0  +/-   0.5  (3*sigma error)\n",
      "Velocity Offset: 0.00\n"
     ]
    },
    {
     "name": "stderr",
     "output_type": "stream",
     "text": [
      "\u001b[1;33m[WARNING]: \u001b[0m\u001b[0;39mTrying to register the cmap 'sauron' which already exists.\u001b[0m \u001b[0;36m(UserWarning)\u001b[0m\n",
      "\u001b[1;33m[WARNING]: \u001b[0m\u001b[0;39mTrying to register the cmap 'sauron_r' which already exists.\u001b[0m \u001b[0;36m(UserWarning)\u001b[0m\n",
      "\u001b[1;33m[WARNING]: \u001b[0m\u001b[0;39mTrying to register the cmap 'sauron' which already exists.\u001b[0m \u001b[0;36m(UserWarning)\u001b[0m\n",
      "\u001b[1;33m[WARNING]: \u001b[0m\u001b[0;39mTrying to register the cmap 'sauron_r' which already exists.\u001b[0m \u001b[0;36m(UserWarning)\u001b[0m\n",
      "\u001b[1;33m[WARNING]: \u001b[0m\u001b[0;39mTrying to register the cmap 'sauron' which already exists.\u001b[0m \u001b[0;36m(UserWarning)\u001b[0m\n",
      "\u001b[1;33m[WARNING]: \u001b[0m\u001b[0;39mTrying to register the cmap 'sauron_r' which already exists.\u001b[0m \u001b[0;36m(UserWarning)\u001b[0m\n"
     ]
    },
    {
     "name": "stdout",
     "output_type": "stream",
     "text": [
      "  Kin PA: 150.5  +/-  11.0  (3*sigma error)\n",
      "Velocity Offset: 0.00\n"
     ]
    },
    {
     "name": "stderr",
     "output_type": "stream",
     "text": [
      "\u001b[1;33m[WARNING]: \u001b[0m\u001b[0;39mTrying to register the cmap 'sauron' which already exists.\u001b[0m \u001b[0;36m(UserWarning)\u001b[0m\n",
      "\u001b[1;33m[WARNING]: \u001b[0m\u001b[0;39mTrying to register the cmap 'sauron_r' which already exists.\u001b[0m \u001b[0;36m(UserWarning)\u001b[0m\n"
     ]
    },
    {
     "name": "stdout",
     "output_type": "stream",
     "text": [
      "  Kin PA:  84.0  +/-   0.5  (3*sigma error)\n",
      "Velocity Offset: 0.00\n"
     ]
    },
    {
     "name": "stderr",
     "output_type": "stream",
     "text": [
      "\u001b[1;33m[WARNING]: \u001b[0m\u001b[0;39mTrying to register the cmap 'sauron' which already exists.\u001b[0m \u001b[0;36m(UserWarning)\u001b[0m\n",
      "\u001b[1;33m[WARNING]: \u001b[0m\u001b[0;39mTrying to register the cmap 'sauron_r' which already exists.\u001b[0m \u001b[0;36m(UserWarning)\u001b[0m\n",
      "\u001b[1;33m[WARNING]: \u001b[0m\u001b[0;39mTrying to register the cmap 'sauron' which already exists.\u001b[0m \u001b[0;36m(UserWarning)\u001b[0m\n",
      "\u001b[1;33m[WARNING]: \u001b[0m\u001b[0;39mTrying to register the cmap 'sauron_r' which already exists.\u001b[0m \u001b[0;36m(UserWarning)\u001b[0m\n"
     ]
    },
    {
     "name": "stdout",
     "output_type": "stream",
     "text": [
      "  Kin PA: 100.5  +/-   3.0  (3*sigma error)\n",
      "Velocity Offset: 0.00\n"
     ]
    },
    {
     "name": "stderr",
     "output_type": "stream",
     "text": [
      "\u001b[1;33m[WARNING]: \u001b[0m\u001b[0;39mTrying to register the cmap 'sauron' which already exists.\u001b[0m \u001b[0;36m(UserWarning)\u001b[0m\n",
      "\u001b[1;33m[WARNING]: \u001b[0m\u001b[0;39mTrying to register the cmap 'sauron_r' which already exists.\u001b[0m \u001b[0;36m(UserWarning)\u001b[0m\n",
      "\u001b[1;33m[WARNING]: \u001b[0m\u001b[0;39mTrying to register the cmap 'sauron' which already exists.\u001b[0m \u001b[0;36m(UserWarning)\u001b[0m\n",
      "\u001b[1;33m[WARNING]: \u001b[0m\u001b[0;39mTrying to register the cmap 'sauron_r' which already exists.\u001b[0m \u001b[0;36m(UserWarning)\u001b[0m\n"
     ]
    },
    {
     "name": "stdout",
     "output_type": "stream",
     "text": [
      "  Kin PA:  98.0  +/-   0.5  (3*sigma error)\n",
      "Velocity Offset: 0.00\n"
     ]
    },
    {
     "name": "stderr",
     "output_type": "stream",
     "text": [
      "\u001b[1;33m[WARNING]: \u001b[0m\u001b[0;39mTrying to register the cmap 'sauron' which already exists.\u001b[0m \u001b[0;36m(UserWarning)\u001b[0m\n",
      "\u001b[1;33m[WARNING]: \u001b[0m\u001b[0;39mTrying to register the cmap 'sauron_r' which already exists.\u001b[0m \u001b[0;36m(UserWarning)\u001b[0m\n",
      "\u001b[1;33m[WARNING]: \u001b[0m\u001b[0;39mTrying to register the cmap 'sauron' which already exists.\u001b[0m \u001b[0;36m(UserWarning)\u001b[0m\n",
      "\u001b[1;33m[WARNING]: \u001b[0m\u001b[0;39mTrying to register the cmap 'sauron_r' which already exists.\u001b[0m \u001b[0;36m(UserWarning)\u001b[0m\n",
      "\u001b[1;33m[WARNING]: \u001b[0m\u001b[0;39mTrying to register the cmap 'sauron' which already exists.\u001b[0m \u001b[0;36m(UserWarning)\u001b[0m\n",
      "\u001b[1;33m[WARNING]: \u001b[0m\u001b[0;39mTrying to register the cmap 'sauron_r' which already exists.\u001b[0m \u001b[0;36m(UserWarning)\u001b[0m\n"
     ]
    },
    {
     "name": "stdout",
     "output_type": "stream",
     "text": [
      "  Kin PA:  86.5  +/-   5.0  (3*sigma error)\n",
      "Velocity Offset: 0.00\n"
     ]
    },
    {
     "name": "stderr",
     "output_type": "stream",
     "text": [
      "\u001b[1;33m[WARNING]: \u001b[0m\u001b[0;39mTrying to register the cmap 'sauron' which already exists.\u001b[0m \u001b[0;36m(UserWarning)\u001b[0m\n",
      "\u001b[1;33m[WARNING]: \u001b[0m\u001b[0;39mTrying to register the cmap 'sauron_r' which already exists.\u001b[0m \u001b[0;36m(UserWarning)\u001b[0m\n",
      "\u001b[1;33m[WARNING]: \u001b[0m\u001b[0;39mTrying to register the cmap 'sauron' which already exists.\u001b[0m \u001b[0;36m(UserWarning)\u001b[0m\n"
     ]
    },
    {
     "name": "stdout",
     "output_type": "stream",
     "text": [
      "  Kin PA: 138.5  +/-   0.5  (3*sigma error)\n",
      "Velocity Offset: 0.00\n"
     ]
    },
    {
     "name": "stderr",
     "output_type": "stream",
     "text": [
      "\u001b[1;33m[WARNING]: \u001b[0m\u001b[0;39mTrying to register the cmap 'sauron_r' which already exists.\u001b[0m \u001b[0;36m(UserWarning)\u001b[0m\n",
      "\u001b[1;33m[WARNING]: \u001b[0m\u001b[0;39mTrying to register the cmap 'sauron' which already exists.\u001b[0m \u001b[0;36m(UserWarning)\u001b[0m\n",
      "\u001b[1;33m[WARNING]: \u001b[0m\u001b[0;39mTrying to register the cmap 'sauron_r' which already exists.\u001b[0m \u001b[0;36m(UserWarning)\u001b[0m\n",
      "\u001b[1;33m[WARNING]: \u001b[0m\u001b[0;39mTrying to register the cmap 'sauron' which already exists.\u001b[0m \u001b[0;36m(UserWarning)\u001b[0m\n",
      "\u001b[1;33m[WARNING]: \u001b[0m\u001b[0;39mTrying to register the cmap 'sauron_r' which already exists.\u001b[0m \u001b[0;36m(UserWarning)\u001b[0m\n"
     ]
    },
    {
     "name": "stdout",
     "output_type": "stream",
     "text": [
      "  Kin PA: 103.5  +/-   7.5  (3*sigma error)\n",
      "Velocity Offset: 0.00\n"
     ]
    },
    {
     "name": "stderr",
     "output_type": "stream",
     "text": [
      "\u001b[1;33m[WARNING]: \u001b[0m\u001b[0;39mTrying to register the cmap 'sauron' which already exists.\u001b[0m \u001b[0;36m(UserWarning)\u001b[0m\n",
      "\u001b[1;33m[WARNING]: \u001b[0m\u001b[0;39mTrying to register the cmap 'sauron_r' which already exists.\u001b[0m \u001b[0;36m(UserWarning)\u001b[0m\n"
     ]
    },
    {
     "name": "stdout",
     "output_type": "stream",
     "text": [
      "  Kin PA:   4.0  +/-   0.5  (3*sigma error)\n",
      "Velocity Offset: 0.00\n"
     ]
    },
    {
     "name": "stderr",
     "output_type": "stream",
     "text": [
      "\u001b[1;33m[WARNING]: \u001b[0m\u001b[0;39mTrying to register the cmap 'sauron' which already exists.\u001b[0m \u001b[0;36m(UserWarning)\u001b[0m\n",
      "\u001b[1;33m[WARNING]: \u001b[0m\u001b[0;39mTrying to register the cmap 'sauron_r' which already exists.\u001b[0m \u001b[0;36m(UserWarning)\u001b[0m\n",
      "\u001b[1;33m[WARNING]: \u001b[0m\u001b[0;39mTrying to register the cmap 'sauron' which already exists.\u001b[0m \u001b[0;36m(UserWarning)\u001b[0m\n",
      "\u001b[1;33m[WARNING]: \u001b[0m\u001b[0;39mTrying to register the cmap 'sauron_r' which already exists.\u001b[0m \u001b[0;36m(UserWarning)\u001b[0m\n"
     ]
    },
    {
     "name": "stdout",
     "output_type": "stream",
     "text": [
      "  Kin PA:  92.0  +/-  89.8  (3*sigma error)\n",
      "Velocity Offset: 0.00\n"
     ]
    },
    {
     "name": "stderr",
     "output_type": "stream",
     "text": [
      "\u001b[1;33m[WARNING]: \u001b[0m\u001b[0;39mTrying to register the cmap 'sauron' which already exists.\u001b[0m \u001b[0;36m(UserWarning)\u001b[0m\n",
      "\u001b[1;33m[WARNING]: \u001b[0m\u001b[0;39mTrying to register the cmap 'sauron_r' which already exists.\u001b[0m \u001b[0;36m(UserWarning)\u001b[0m\n",
      "\u001b[1;33m[WARNING]: \u001b[0m\u001b[0;39mTrying to register the cmap 'sauron' which already exists.\u001b[0m \u001b[0;36m(UserWarning)\u001b[0m\n",
      "\u001b[1;33m[WARNING]: \u001b[0m\u001b[0;39mTrying to register the cmap 'sauron_r' which already exists.\u001b[0m \u001b[0;36m(UserWarning)\u001b[0m\n"
     ]
    },
    {
     "name": "stdout",
     "output_type": "stream",
     "text": [
      "  Kin PA:  19.0  +/-   0.5  (3*sigma error)\n",
      "Velocity Offset: 0.00\n"
     ]
    },
    {
     "name": "stderr",
     "output_type": "stream",
     "text": [
      "\u001b[1;33m[WARNING]: \u001b[0m\u001b[0;39mTrying to register the cmap 'sauron' which already exists.\u001b[0m \u001b[0;36m(UserWarning)\u001b[0m\n",
      "\u001b[1;33m[WARNING]: \u001b[0m\u001b[0;39mTrying to register the cmap 'sauron_r' which already exists.\u001b[0m \u001b[0;36m(UserWarning)\u001b[0m\n",
      "\u001b[1;33m[WARNING]: \u001b[0m\u001b[0;39mTrying to register the cmap 'sauron' which already exists.\u001b[0m \u001b[0;36m(UserWarning)\u001b[0m\n",
      "\u001b[1;33m[WARNING]: \u001b[0m\u001b[0;39mTrying to register the cmap 'sauron_r' which already exists.\u001b[0m \u001b[0;36m(UserWarning)\u001b[0m\n"
     ]
    },
    {
     "name": "stdout",
     "output_type": "stream",
     "text": [
      "  Kin PA: 139.5  +/-   0.5  (3*sigma error)\n",
      "Velocity Offset: 0.00\n"
     ]
    },
    {
     "name": "stderr",
     "output_type": "stream",
     "text": [
      "\u001b[1;33m[WARNING]: \u001b[0m\u001b[0;39mTrying to register the cmap 'sauron' which already exists.\u001b[0m \u001b[0;36m(UserWarning)\u001b[0m\n",
      "\u001b[1;33m[WARNING]: \u001b[0m\u001b[0;39mTrying to register the cmap 'sauron_r' which already exists.\u001b[0m \u001b[0;36m(UserWarning)\u001b[0m\n",
      "\u001b[1;33m[WARNING]: \u001b[0m\u001b[0;39mTrying to register the cmap 'sauron' which already exists.\u001b[0m \u001b[0;36m(UserWarning)\u001b[0m\n",
      "\u001b[1;33m[WARNING]: \u001b[0m\u001b[0;39mTrying to register the cmap 'sauron_r' which already exists.\u001b[0m \u001b[0;36m(UserWarning)\u001b[0m\n"
     ]
    },
    {
     "name": "stdout",
     "output_type": "stream",
     "text": [
      "  Kin PA: 127.5  +/-   0.5  (3*sigma error)\n",
      "Velocity Offset: 0.00\n"
     ]
    },
    {
     "name": "stderr",
     "output_type": "stream",
     "text": [
      "\u001b[1;33m[WARNING]: \u001b[0m\u001b[0;39mTrying to register the cmap 'sauron' which already exists.\u001b[0m \u001b[0;36m(UserWarning)\u001b[0m\n",
      "\u001b[1;33m[WARNING]: \u001b[0m\u001b[0;39mTrying to register the cmap 'sauron_r' which already exists.\u001b[0m \u001b[0;36m(UserWarning)\u001b[0m\n",
      "\u001b[1;33m[WARNING]: \u001b[0m\u001b[0;39mTrying to register the cmap 'sauron' which already exists.\u001b[0m \u001b[0;36m(UserWarning)\u001b[0m\n",
      "\u001b[1;33m[WARNING]: \u001b[0m\u001b[0;39mTrying to register the cmap 'sauron_r' which already exists.\u001b[0m \u001b[0;36m(UserWarning)\u001b[0m\n",
      "\u001b[1;33m[WARNING]: \u001b[0m\u001b[0;39mTrying to register the cmap 'sauron' which already exists.\u001b[0m \u001b[0;36m(UserWarning)\u001b[0m\n",
      "\u001b[1;33m[WARNING]: \u001b[0m\u001b[0;39mTrying to register the cmap 'sauron_r' which already exists.\u001b[0m \u001b[0;36m(UserWarning)\u001b[0m\n"
     ]
    },
    {
     "name": "stdout",
     "output_type": "stream",
     "text": [
      "  Kin PA:  60.0  +/-  32.2  (3*sigma error)\n",
      "Velocity Offset: 0.00\n"
     ]
    },
    {
     "name": "stderr",
     "output_type": "stream",
     "text": [
      "\u001b[1;33m[WARNING]: \u001b[0m\u001b[0;39mTrying to register the cmap 'sauron' which already exists.\u001b[0m \u001b[0;36m(UserWarning)\u001b[0m\n",
      "\u001b[1;33m[WARNING]: \u001b[0m\u001b[0;39mTrying to register the cmap 'sauron_r' which already exists.\u001b[0m \u001b[0;36m(UserWarning)\u001b[0m\n",
      "\u001b[1;33m[WARNING]: \u001b[0m\u001b[0;39mTrying to register the cmap 'sauron' which already exists.\u001b[0m \u001b[0;36m(UserWarning)\u001b[0m\n"
     ]
    },
    {
     "name": "stdout",
     "output_type": "stream",
     "text": [
      "  Kin PA: 115.0  +/-   0.5  (3*sigma error)\n",
      "Velocity Offset: 0.00\n"
     ]
    },
    {
     "name": "stderr",
     "output_type": "stream",
     "text": [
      "\u001b[1;33m[WARNING]: \u001b[0m\u001b[0;39mTrying to register the cmap 'sauron_r' which already exists.\u001b[0m \u001b[0;36m(UserWarning)\u001b[0m\n",
      "\u001b[1;33m[WARNING]: \u001b[0m\u001b[0;39mTrying to register the cmap 'sauron' which already exists.\u001b[0m \u001b[0;36m(UserWarning)\u001b[0m\n",
      "\u001b[1;33m[WARNING]: \u001b[0m\u001b[0;39mTrying to register the cmap 'sauron_r' which already exists.\u001b[0m \u001b[0;36m(UserWarning)\u001b[0m\n",
      "\u001b[1;33m[WARNING]: \u001b[0m\u001b[0;39mTrying to register the cmap 'sauron' which already exists.\u001b[0m \u001b[0;36m(UserWarning)\u001b[0m\n",
      "\u001b[1;33m[WARNING]: \u001b[0m\u001b[0;39mTrying to register the cmap 'sauron_r' which already exists.\u001b[0m \u001b[0;36m(UserWarning)\u001b[0m\n"
     ]
    },
    {
     "name": "stdout",
     "output_type": "stream",
     "text": [
      "  Kin PA:  64.5  +/-   5.8  (3*sigma error)\n",
      "Velocity Offset: 0.00\n"
     ]
    },
    {
     "name": "stderr",
     "output_type": "stream",
     "text": [
      "\u001b[1;33m[WARNING]: \u001b[0m\u001b[0;39mTrying to register the cmap 'sauron' which already exists.\u001b[0m \u001b[0;36m(UserWarning)\u001b[0m\n",
      "\u001b[1;33m[WARNING]: \u001b[0m\u001b[0;39mTrying to register the cmap 'sauron_r' which already exists.\u001b[0m \u001b[0;36m(UserWarning)\u001b[0m\n"
     ]
    },
    {
     "name": "stdout",
     "output_type": "stream",
     "text": [
      "  Kin PA: 151.0  +/-   0.5  (3*sigma error)\n",
      "Velocity Offset: 0.00\n"
     ]
    },
    {
     "name": "stderr",
     "output_type": "stream",
     "text": [
      "\u001b[1;33m[WARNING]: \u001b[0m\u001b[0;39mTrying to register the cmap 'sauron' which already exists.\u001b[0m \u001b[0;36m(UserWarning)\u001b[0m\n",
      "\u001b[1;33m[WARNING]: \u001b[0m\u001b[0;39mTrying to register the cmap 'sauron_r' which already exists.\u001b[0m \u001b[0;36m(UserWarning)\u001b[0m\n",
      "\u001b[1;33m[WARNING]: \u001b[0m\u001b[0;39mTrying to register the cmap 'sauron' which already exists.\u001b[0m \u001b[0;36m(UserWarning)\u001b[0m\n",
      "\u001b[1;33m[WARNING]: \u001b[0m\u001b[0;39mTrying to register the cmap 'sauron_r' which already exists.\u001b[0m \u001b[0;36m(UserWarning)\u001b[0m\n"
     ]
    },
    {
     "name": "stdout",
     "output_type": "stream",
     "text": [
      "  Kin PA: 145.5  +/-   4.0  (3*sigma error)\n",
      "Velocity Offset: 0.00\n"
     ]
    },
    {
     "name": "stderr",
     "output_type": "stream",
     "text": [
      "\u001b[1;33m[WARNING]: \u001b[0m\u001b[0;39mTrying to register the cmap 'sauron' which already exists.\u001b[0m \u001b[0;36m(UserWarning)\u001b[0m\n",
      "\u001b[1;33m[WARNING]: \u001b[0m\u001b[0;39mTrying to register the cmap 'sauron_r' which already exists.\u001b[0m \u001b[0;36m(UserWarning)\u001b[0m\n",
      "\u001b[1;33m[WARNING]: \u001b[0m\u001b[0;39mTrying to register the cmap 'sauron' which already exists.\u001b[0m \u001b[0;36m(UserWarning)\u001b[0m\n",
      "\u001b[1;33m[WARNING]: \u001b[0m\u001b[0;39mTrying to register the cmap 'sauron_r' which already exists.\u001b[0m \u001b[0;36m(UserWarning)\u001b[0m\n"
     ]
    },
    {
     "name": "stdout",
     "output_type": "stream",
     "text": [
      "  Kin PA:  36.0  +/-   0.5  (3*sigma error)\n",
      "Velocity Offset: 0.00\n"
     ]
    },
    {
     "name": "stderr",
     "output_type": "stream",
     "text": [
      "\u001b[1;33m[WARNING]: \u001b[0m\u001b[0;39mTrying to register the cmap 'sauron' which already exists.\u001b[0m \u001b[0;36m(UserWarning)\u001b[0m\n",
      "\u001b[1;33m[WARNING]: \u001b[0m\u001b[0;39mTrying to register the cmap 'sauron_r' which already exists.\u001b[0m \u001b[0;36m(UserWarning)\u001b[0m\n",
      "\u001b[1;33m[WARNING]: \u001b[0m\u001b[0;39mTrying to register the cmap 'sauron' which already exists.\u001b[0m \u001b[0;36m(UserWarning)\u001b[0m\n",
      "\u001b[1;33m[WARNING]: \u001b[0m\u001b[0;39mTrying to register the cmap 'sauron_r' which already exists.\u001b[0m \u001b[0;36m(UserWarning)\u001b[0m\n"
     ]
    },
    {
     "name": "stdout",
     "output_type": "stream",
     "text": [
      "  Kin PA: 163.5  +/-   0.8  (3*sigma error)\n",
      "Velocity Offset: 0.00\n"
     ]
    },
    {
     "name": "stderr",
     "output_type": "stream",
     "text": [
      "\u001b[1;33m[WARNING]: \u001b[0m\u001b[0;39mTrying to register the cmap 'sauron' which already exists.\u001b[0m \u001b[0;36m(UserWarning)\u001b[0m\n",
      "\u001b[1;33m[WARNING]: \u001b[0m\u001b[0;39mTrying to register the cmap 'sauron_r' which already exists.\u001b[0m \u001b[0;36m(UserWarning)\u001b[0m\n",
      "\u001b[1;33m[WARNING]: \u001b[0m\u001b[0;39mTrying to register the cmap 'sauron' which already exists.\u001b[0m \u001b[0;36m(UserWarning)\u001b[0m\n",
      "\u001b[1;33m[WARNING]: \u001b[0m\u001b[0;39mTrying to register the cmap 'sauron_r' which already exists.\u001b[0m \u001b[0;36m(UserWarning)\u001b[0m\n",
      "\u001b[1;33m[WARNING]: \u001b[0m\u001b[0;39mTrying to register the cmap 'sauron' which already exists.\u001b[0m \u001b[0;36m(UserWarning)\u001b[0m\n",
      "\u001b[1;33m[WARNING]: \u001b[0m\u001b[0;39mTrying to register the cmap 'sauron_r' which already exists.\u001b[0m \u001b[0;36m(UserWarning)\u001b[0m\n"
     ]
    },
    {
     "name": "stdout",
     "output_type": "stream",
     "text": [
      "  Kin PA:  63.5  +/-   0.5  (3*sigma error)\n",
      "Velocity Offset: 0.00\n"
     ]
    },
    {
     "name": "stderr",
     "output_type": "stream",
     "text": [
      "\u001b[1;33m[WARNING]: \u001b[0m\u001b[0;39mTrying to register the cmap 'sauron' which already exists.\u001b[0m \u001b[0;36m(UserWarning)\u001b[0m\n",
      "\u001b[1;33m[WARNING]: \u001b[0m\u001b[0;39mTrying to register the cmap 'sauron_r' which already exists.\u001b[0m \u001b[0;36m(UserWarning)\u001b[0m\n",
      "\u001b[1;33m[WARNING]: \u001b[0m\u001b[0;39mTrying to register the cmap 'sauron' which already exists.\u001b[0m \u001b[0;36m(UserWarning)\u001b[0m\n"
     ]
    },
    {
     "name": "stdout",
     "output_type": "stream",
     "text": [
      "  Kin PA: 139.0  +/-   5.5  (3*sigma error)\n",
      "Velocity Offset: 0.00\n"
     ]
    },
    {
     "name": "stderr",
     "output_type": "stream",
     "text": [
      "\u001b[1;33m[WARNING]: \u001b[0m\u001b[0;39mTrying to register the cmap 'sauron_r' which already exists.\u001b[0m \u001b[0;36m(UserWarning)\u001b[0m\n",
      "\u001b[1;33m[WARNING]: \u001b[0m\u001b[0;39mTrying to register the cmap 'sauron' which already exists.\u001b[0m \u001b[0;36m(UserWarning)\u001b[0m\n",
      "\u001b[1;33m[WARNING]: \u001b[0m\u001b[0;39mTrying to register the cmap 'sauron_r' which already exists.\u001b[0m \u001b[0;36m(UserWarning)\u001b[0m\n"
     ]
    },
    {
     "name": "stdout",
     "output_type": "stream",
     "text": [
      "  Kin PA:  78.5  +/-   0.5  (3*sigma error)\n",
      "Velocity Offset: 0.00\n"
     ]
    },
    {
     "name": "stderr",
     "output_type": "stream",
     "text": [
      "\u001b[1;33m[WARNING]: \u001b[0m\u001b[0;39mTrying to register the cmap 'sauron' which already exists.\u001b[0m \u001b[0;36m(UserWarning)\u001b[0m\n",
      "\u001b[1;33m[WARNING]: \u001b[0m\u001b[0;39mTrying to register the cmap 'sauron_r' which already exists.\u001b[0m \u001b[0;36m(UserWarning)\u001b[0m\n",
      "\u001b[1;33m[WARNING]: \u001b[0m\u001b[0;39mTrying to register the cmap 'sauron' which already exists.\u001b[0m \u001b[0;36m(UserWarning)\u001b[0m\n",
      "\u001b[1;33m[WARNING]: \u001b[0m\u001b[0;39mTrying to register the cmap 'sauron_r' which already exists.\u001b[0m \u001b[0;36m(UserWarning)\u001b[0m\n"
     ]
    },
    {
     "name": "stdout",
     "output_type": "stream",
     "text": [
      "  Kin PA:  65.0  +/-   4.0  (3*sigma error)\n",
      "Velocity Offset: 0.00\n"
     ]
    },
    {
     "name": "stderr",
     "output_type": "stream",
     "text": [
      "\u001b[1;33m[WARNING]: \u001b[0m\u001b[0;39mTrying to register the cmap 'sauron' which already exists.\u001b[0m \u001b[0;36m(UserWarning)\u001b[0m\n",
      "\u001b[1;33m[WARNING]: \u001b[0m\u001b[0;39mTrying to register the cmap 'sauron_r' which already exists.\u001b[0m \u001b[0;36m(UserWarning)\u001b[0m\n",
      "\u001b[1;33m[WARNING]: \u001b[0m\u001b[0;39mTrying to register the cmap 'sauron' which already exists.\u001b[0m \u001b[0;36m(UserWarning)\u001b[0m\n",
      "\u001b[1;33m[WARNING]: \u001b[0m\u001b[0;39mTrying to register the cmap 'sauron_r' which already exists.\u001b[0m \u001b[0;36m(UserWarning)\u001b[0m\n"
     ]
    },
    {
     "name": "stdout",
     "output_type": "stream",
     "text": [
      "  Kin PA: 112.0  +/-   0.5  (3*sigma error)\n",
      "Velocity Offset: 0.00\n"
     ]
    },
    {
     "name": "stderr",
     "output_type": "stream",
     "text": [
      "\u001b[1;33m[WARNING]: \u001b[0m\u001b[0;39mTrying to register the cmap 'sauron' which already exists.\u001b[0m \u001b[0;36m(UserWarning)\u001b[0m\n",
      "\u001b[1;33m[WARNING]: \u001b[0m\u001b[0;39mTrying to register the cmap 'sauron_r' which already exists.\u001b[0m \u001b[0;36m(UserWarning)\u001b[0m\n",
      "\u001b[1;33m[WARNING]: \u001b[0m\u001b[0;39mTrying to register the cmap 'sauron' which already exists.\u001b[0m \u001b[0;36m(UserWarning)\u001b[0m\n",
      "\u001b[1;33m[WARNING]: \u001b[0m\u001b[0;39mTrying to register the cmap 'sauron_r' which already exists.\u001b[0m \u001b[0;36m(UserWarning)\u001b[0m\n"
     ]
    },
    {
     "name": "stdout",
     "output_type": "stream",
     "text": [
      "  Kin PA: 117.5  +/-   8.5  (3*sigma error)\n",
      "Velocity Offset: 0.00\n"
     ]
    },
    {
     "name": "stderr",
     "output_type": "stream",
     "text": [
      "\u001b[1;33m[WARNING]: \u001b[0m\u001b[0;39mTrying to register the cmap 'sauron' which already exists.\u001b[0m \u001b[0;36m(UserWarning)\u001b[0m\n",
      "\u001b[1;33m[WARNING]: \u001b[0m\u001b[0;39mTrying to register the cmap 'sauron_r' which already exists.\u001b[0m \u001b[0;36m(UserWarning)\u001b[0m\n",
      "\u001b[1;33m[WARNING]: \u001b[0m\u001b[0;39mTrying to register the cmap 'sauron' which already exists.\u001b[0m \u001b[0;36m(UserWarning)\u001b[0m\n",
      "\u001b[1;33m[WARNING]: \u001b[0m\u001b[0;39mTrying to register the cmap 'sauron_r' which already exists.\u001b[0m \u001b[0;36m(UserWarning)\u001b[0m\n"
     ]
    },
    {
     "name": "stdout",
     "output_type": "stream",
     "text": [
      "  Kin PA:  69.0  +/-   6.2  (3*sigma error)\n",
      "Velocity Offset: 0.00\n"
     ]
    },
    {
     "name": "stderr",
     "output_type": "stream",
     "text": [
      "\u001b[1;33m[WARNING]: \u001b[0m\u001b[0;39mTrying to register the cmap 'sauron' which already exists.\u001b[0m \u001b[0;36m(UserWarning)\u001b[0m\n",
      "\u001b[1;33m[WARNING]: \u001b[0m\u001b[0;39mTrying to register the cmap 'sauron_r' which already exists.\u001b[0m \u001b[0;36m(UserWarning)\u001b[0m\n",
      "\u001b[1;33m[WARNING]: \u001b[0m\u001b[0;39mTrying to register the cmap 'sauron' which already exists.\u001b[0m \u001b[0;36m(UserWarning)\u001b[0m\n",
      "\u001b[1;33m[WARNING]: \u001b[0m\u001b[0;39mTrying to register the cmap 'sauron_r' which already exists.\u001b[0m \u001b[0;36m(UserWarning)\u001b[0m\n"
     ]
    },
    {
     "name": "stdout",
     "output_type": "stream",
     "text": [
      "  Kin PA:  72.0  +/-  16.5  (3*sigma error)\n",
      "Velocity Offset: 0.00\n"
     ]
    },
    {
     "name": "stderr",
     "output_type": "stream",
     "text": [
      "\u001b[1;33m[WARNING]: \u001b[0m\u001b[0;39mTrying to register the cmap 'sauron' which already exists.\u001b[0m \u001b[0;36m(UserWarning)\u001b[0m\n",
      "\u001b[1;33m[WARNING]: \u001b[0m\u001b[0;39mTrying to register the cmap 'sauron_r' which already exists.\u001b[0m \u001b[0;36m(UserWarning)\u001b[0m\n",
      "\u001b[1;33m[WARNING]: \u001b[0m\u001b[0;39mTrying to register the cmap 'sauron' which already exists.\u001b[0m \u001b[0;36m(UserWarning)\u001b[0m\n",
      "\u001b[1;33m[WARNING]: \u001b[0m\u001b[0;39mTrying to register the cmap 'sauron_r' which already exists.\u001b[0m \u001b[0;36m(UserWarning)\u001b[0m\n"
     ]
    },
    {
     "name": "stdout",
     "output_type": "stream",
     "text": [
      "  Kin PA:  91.0  +/-   8.2  (3*sigma error)\n",
      "Velocity Offset: 0.00\n"
     ]
    },
    {
     "name": "stderr",
     "output_type": "stream",
     "text": [
      "\u001b[1;33m[WARNING]: \u001b[0m\u001b[0;39mTrying to register the cmap 'sauron' which already exists.\u001b[0m \u001b[0;36m(UserWarning)\u001b[0m\n",
      "\u001b[1;33m[WARNING]: \u001b[0m\u001b[0;39mTrying to register the cmap 'sauron_r' which already exists.\u001b[0m \u001b[0;36m(UserWarning)\u001b[0m\n",
      "\u001b[1;33m[WARNING]: \u001b[0m\u001b[0;39mTrying to register the cmap 'sauron' which already exists.\u001b[0m \u001b[0;36m(UserWarning)\u001b[0m\n",
      "\u001b[1;33m[WARNING]: \u001b[0m\u001b[0;39mTrying to register the cmap 'sauron_r' which already exists.\u001b[0m \u001b[0;36m(UserWarning)\u001b[0m\n"
     ]
    },
    {
     "name": "stdout",
     "output_type": "stream",
     "text": [
      "  Kin PA: 137.0  +/-   5.5  (3*sigma error)\n",
      "Velocity Offset: 0.00\n"
     ]
    },
    {
     "name": "stderr",
     "output_type": "stream",
     "text": [
      "\u001b[1;33m[WARNING]: \u001b[0m\u001b[0;39mTrying to register the cmap 'sauron' which already exists.\u001b[0m \u001b[0;36m(UserWarning)\u001b[0m\n",
      "\u001b[1;33m[WARNING]: \u001b[0m\u001b[0;39mTrying to register the cmap 'sauron_r' which already exists.\u001b[0m \u001b[0;36m(UserWarning)\u001b[0m\n",
      "\u001b[1;33m[WARNING]: \u001b[0m\u001b[0;39mTrying to register the cmap 'sauron' which already exists.\u001b[0m \u001b[0;36m(UserWarning)\u001b[0m\n",
      "\u001b[1;33m[WARNING]: \u001b[0m\u001b[0;39mTrying to register the cmap 'sauron_r' which already exists.\u001b[0m \u001b[0;36m(UserWarning)\u001b[0m\n"
     ]
    },
    {
     "name": "stdout",
     "output_type": "stream",
     "text": [
      "  Kin PA:  15.0  +/-   0.5  (3*sigma error)\n",
      "Velocity Offset: 0.00\n"
     ]
    },
    {
     "name": "stderr",
     "output_type": "stream",
     "text": [
      "\u001b[1;33m[WARNING]: \u001b[0m\u001b[0;39mTrying to register the cmap 'sauron' which already exists.\u001b[0m \u001b[0;36m(UserWarning)\u001b[0m\n",
      "\u001b[1;33m[WARNING]: \u001b[0m\u001b[0;39mTrying to register the cmap 'sauron_r' which already exists.\u001b[0m \u001b[0;36m(UserWarning)\u001b[0m\n",
      "\u001b[1;33m[WARNING]: \u001b[0m\u001b[0;39mTrying to register the cmap 'sauron' which already exists.\u001b[0m \u001b[0;36m(UserWarning)\u001b[0m\n",
      "\u001b[1;33m[WARNING]: \u001b[0m\u001b[0;39mTrying to register the cmap 'sauron_r' which already exists.\u001b[0m \u001b[0;36m(UserWarning)\u001b[0m\n"
     ]
    },
    {
     "name": "stdout",
     "output_type": "stream",
     "text": [
      "  Kin PA:  52.0  +/-   6.2  (3*sigma error)\n",
      "Velocity Offset: 0.00\n"
     ]
    },
    {
     "name": "stderr",
     "output_type": "stream",
     "text": [
      "\u001b[1;33m[WARNING]: \u001b[0m\u001b[0;39mTrying to register the cmap 'sauron' which already exists.\u001b[0m \u001b[0;36m(UserWarning)\u001b[0m\n",
      "\u001b[1;33m[WARNING]: \u001b[0m\u001b[0;39mTrying to register the cmap 'sauron_r' which already exists.\u001b[0m \u001b[0;36m(UserWarning)\u001b[0m\n",
      "\u001b[1;33m[WARNING]: \u001b[0m\u001b[0;39mTrying to register the cmap 'sauron' which already exists.\u001b[0m \u001b[0;36m(UserWarning)\u001b[0m\n",
      "\u001b[1;33m[WARNING]: \u001b[0m\u001b[0;39mTrying to register the cmap 'sauron_r' which already exists.\u001b[0m \u001b[0;36m(UserWarning)\u001b[0m\n"
     ]
    },
    {
     "name": "stdout",
     "output_type": "stream",
     "text": [
      "  Kin PA:  71.0  +/-   0.5  (3*sigma error)\n",
      "Velocity Offset: 0.00\n"
     ]
    },
    {
     "name": "stderr",
     "output_type": "stream",
     "text": [
      "\u001b[1;33m[WARNING]: \u001b[0m\u001b[0;39mTrying to register the cmap 'sauron' which already exists.\u001b[0m \u001b[0;36m(UserWarning)\u001b[0m\n",
      "\u001b[1;33m[WARNING]: \u001b[0m\u001b[0;39mTrying to register the cmap 'sauron_r' which already exists.\u001b[0m \u001b[0;36m(UserWarning)\u001b[0m\n",
      "\u001b[1;33m[WARNING]: \u001b[0m\u001b[0;39mTrying to register the cmap 'sauron' which already exists.\u001b[0m \u001b[0;36m(UserWarning)\u001b[0m\n",
      "\u001b[1;33m[WARNING]: \u001b[0m\u001b[0;39mTrying to register the cmap 'sauron_r' which already exists.\u001b[0m \u001b[0;36m(UserWarning)\u001b[0m\n"
     ]
    },
    {
     "name": "stdout",
     "output_type": "stream",
     "text": [
      "  Kin PA:  24.5  +/-   1.0  (3*sigma error)\n",
      "Velocity Offset: 0.00\n"
     ]
    },
    {
     "name": "stderr",
     "output_type": "stream",
     "text": [
      "\u001b[1;33m[WARNING]: \u001b[0m\u001b[0;39mTrying to register the cmap 'sauron' which already exists.\u001b[0m \u001b[0;36m(UserWarning)\u001b[0m\n",
      "\u001b[1;33m[WARNING]: \u001b[0m\u001b[0;39mTrying to register the cmap 'sauron_r' which already exists.\u001b[0m \u001b[0;36m(UserWarning)\u001b[0m\n",
      "\u001b[1;33m[WARNING]: \u001b[0m\u001b[0;39mTrying to register the cmap 'sauron' which already exists.\u001b[0m \u001b[0;36m(UserWarning)\u001b[0m\n",
      "\u001b[1;33m[WARNING]: \u001b[0m\u001b[0;39mTrying to register the cmap 'sauron_r' which already exists.\u001b[0m \u001b[0;36m(UserWarning)\u001b[0m\n"
     ]
    },
    {
     "name": "stdout",
     "output_type": "stream",
     "text": [
      "  Kin PA:  39.0  +/-   4.0  (3*sigma error)\n",
      "Velocity Offset: 0.00\n"
     ]
    },
    {
     "name": "stderr",
     "output_type": "stream",
     "text": [
      "\u001b[1;33m[WARNING]: \u001b[0m\u001b[0;39mTrying to register the cmap 'sauron' which already exists.\u001b[0m \u001b[0;36m(UserWarning)\u001b[0m\n",
      "\u001b[1;33m[WARNING]: \u001b[0m\u001b[0;39mTrying to register the cmap 'sauron_r' which already exists.\u001b[0m \u001b[0;36m(UserWarning)\u001b[0m\n",
      "\u001b[1;33m[WARNING]: \u001b[0m\u001b[0;39mTrying to register the cmap 'sauron' which already exists.\u001b[0m \u001b[0;36m(UserWarning)\u001b[0m\n",
      "\u001b[1;33m[WARNING]: \u001b[0m\u001b[0;39mTrying to register the cmap 'sauron_r' which already exists.\u001b[0m \u001b[0;36m(UserWarning)\u001b[0m\n"
     ]
    },
    {
     "name": "stdout",
     "output_type": "stream",
     "text": [
      "  Kin PA:  32.0  +/-   5.2  (3*sigma error)\n",
      "Velocity Offset: 0.00\n"
     ]
    },
    {
     "name": "stderr",
     "output_type": "stream",
     "text": [
      "\u001b[1;33m[WARNING]: \u001b[0m\u001b[0;39mTrying to register the cmap 'sauron' which already exists.\u001b[0m \u001b[0;36m(UserWarning)\u001b[0m\n",
      "\u001b[1;33m[WARNING]: \u001b[0m\u001b[0;39mTrying to register the cmap 'sauron_r' which already exists.\u001b[0m \u001b[0;36m(UserWarning)\u001b[0m\n",
      "\u001b[1;33m[WARNING]: \u001b[0m\u001b[0;39mTrying to register the cmap 'sauron' which already exists.\u001b[0m \u001b[0;36m(UserWarning)\u001b[0m\n",
      "\u001b[1;33m[WARNING]: \u001b[0m\u001b[0;39mTrying to register the cmap 'sauron_r' which already exists.\u001b[0m \u001b[0;36m(UserWarning)\u001b[0m\n"
     ]
    },
    {
     "name": "stdout",
     "output_type": "stream",
     "text": [
      "  Kin PA: 145.0  +/-  79.5  (3*sigma error)\n",
      "Velocity Offset: 0.00\n"
     ]
    },
    {
     "name": "stderr",
     "output_type": "stream",
     "text": [
      "\u001b[1;33m[WARNING]: \u001b[0m\u001b[0;39mTrying to register the cmap 'sauron' which already exists.\u001b[0m \u001b[0;36m(UserWarning)\u001b[0m\n",
      "\u001b[1;33m[WARNING]: \u001b[0m\u001b[0;39mTrying to register the cmap 'sauron_r' which already exists.\u001b[0m \u001b[0;36m(UserWarning)\u001b[0m\n",
      "\u001b[1;33m[WARNING]: \u001b[0m\u001b[0;39mTrying to register the cmap 'sauron' which already exists.\u001b[0m \u001b[0;36m(UserWarning)\u001b[0m\n",
      "\u001b[1;33m[WARNING]: \u001b[0m\u001b[0;39mTrying to register the cmap 'sauron_r' which already exists.\u001b[0m \u001b[0;36m(UserWarning)\u001b[0m\n"
     ]
    },
    {
     "name": "stdout",
     "output_type": "stream",
     "text": [
      "  Kin PA:  80.5  +/-  89.8  (3*sigma error)\n",
      "Velocity Offset: 0.00\n"
     ]
    },
    {
     "name": "stderr",
     "output_type": "stream",
     "text": [
      "\u001b[1;33m[WARNING]: \u001b[0m\u001b[0;39mTrying to register the cmap 'sauron' which already exists.\u001b[0m \u001b[0;36m(UserWarning)\u001b[0m\n",
      "\u001b[1;33m[WARNING]: \u001b[0m\u001b[0;39mTrying to register the cmap 'sauron_r' which already exists.\u001b[0m \u001b[0;36m(UserWarning)\u001b[0m\n",
      "\u001b[1;33m[WARNING]: \u001b[0m\u001b[0;39mTrying to register the cmap 'sauron' which already exists.\u001b[0m \u001b[0;36m(UserWarning)\u001b[0m\n",
      "\u001b[1;33m[WARNING]: \u001b[0m\u001b[0;39mTrying to register the cmap 'sauron_r' which already exists.\u001b[0m \u001b[0;36m(UserWarning)\u001b[0m\n"
     ]
    },
    {
     "name": "stdout",
     "output_type": "stream",
     "text": [
      "  Kin PA: 154.5  +/-   0.5  (3*sigma error)\n",
      "Velocity Offset: 0.00\n"
     ]
    },
    {
     "name": "stderr",
     "output_type": "stream",
     "text": [
      "\u001b[1;33m[WARNING]: \u001b[0m\u001b[0;39mTrying to register the cmap 'sauron' which already exists.\u001b[0m \u001b[0;36m(UserWarning)\u001b[0m\n",
      "\u001b[1;33m[WARNING]: \u001b[0m\u001b[0;39mTrying to register the cmap 'sauron_r' which already exists.\u001b[0m \u001b[0;36m(UserWarning)\u001b[0m\n",
      "\u001b[1;33m[WARNING]: \u001b[0m\u001b[0;39mTrying to register the cmap 'sauron' which already exists.\u001b[0m \u001b[0;36m(UserWarning)\u001b[0m\n",
      "\u001b[1;33m[WARNING]: \u001b[0m\u001b[0;39mTrying to register the cmap 'sauron_r' which already exists.\u001b[0m \u001b[0;36m(UserWarning)\u001b[0m\n"
     ]
    },
    {
     "name": "stdout",
     "output_type": "stream",
     "text": [
      "  Kin PA:   5.5  +/-  13.8  (3*sigma error)\n",
      "Velocity Offset: 0.00\n"
     ]
    },
    {
     "name": "stderr",
     "output_type": "stream",
     "text": [
      "\u001b[1;33m[WARNING]: \u001b[0m\u001b[0;39mTrying to register the cmap 'sauron' which already exists.\u001b[0m \u001b[0;36m(UserWarning)\u001b[0m\n",
      "\u001b[1;33m[WARNING]: \u001b[0m\u001b[0;39mTrying to register the cmap 'sauron_r' which already exists.\u001b[0m \u001b[0;36m(UserWarning)\u001b[0m\n",
      "\u001b[1;33m[WARNING]: \u001b[0m\u001b[0;39mTrying to register the cmap 'sauron' which already exists.\u001b[0m \u001b[0;36m(UserWarning)\u001b[0m\n",
      "\u001b[1;33m[WARNING]: \u001b[0m\u001b[0;39mTrying to register the cmap 'sauron_r' which already exists.\u001b[0m \u001b[0;36m(UserWarning)\u001b[0m\n",
      "\u001b[1;33m[WARNING]: \u001b[0m\u001b[0;39mTrying to register the cmap 'sauron' which already exists.\u001b[0m \u001b[0;36m(UserWarning)\u001b[0m\n",
      "\u001b[1;33m[WARNING]: \u001b[0m\u001b[0;39mTrying to register the cmap 'sauron_r' which already exists.\u001b[0m \u001b[0;36m(UserWarning)\u001b[0m\n"
     ]
    },
    {
     "name": "stdout",
     "output_type": "stream",
     "text": [
      "  Kin PA:  66.0  +/-   3.0  (3*sigma error)\n",
      "Velocity Offset: 0.00\n"
     ]
    },
    {
     "name": "stderr",
     "output_type": "stream",
     "text": [
      "\u001b[1;33m[WARNING]: \u001b[0m\u001b[0;39mTrying to register the cmap 'sauron' which already exists.\u001b[0m \u001b[0;36m(UserWarning)\u001b[0m\n",
      "\u001b[1;33m[WARNING]: \u001b[0m\u001b[0;39mTrying to register the cmap 'sauron_r' which already exists.\u001b[0m \u001b[0;36m(UserWarning)\u001b[0m\n",
      "\u001b[1;33m[WARNING]: \u001b[0m\u001b[0;39mTrying to register the cmap 'sauron' which already exists.\u001b[0m \u001b[0;36m(UserWarning)\u001b[0m\n",
      "\u001b[1;33m[WARNING]: \u001b[0m\u001b[0;39mTrying to register the cmap 'sauron_r' which already exists.\u001b[0m \u001b[0;36m(UserWarning)\u001b[0m\n"
     ]
    },
    {
     "name": "stdout",
     "output_type": "stream",
     "text": [
      "  Kin PA: 125.5  +/-  39.2  (3*sigma error)\n",
      "Velocity Offset: 0.00\n"
     ]
    },
    {
     "name": "stderr",
     "output_type": "stream",
     "text": [
      "\u001b[1;33m[WARNING]: \u001b[0m\u001b[0;39mTrying to register the cmap 'sauron' which already exists.\u001b[0m \u001b[0;36m(UserWarning)\u001b[0m\n",
      "\u001b[1;33m[WARNING]: \u001b[0m\u001b[0;39mTrying to register the cmap 'sauron_r' which already exists.\u001b[0m \u001b[0;36m(UserWarning)\u001b[0m\n"
     ]
    },
    {
     "name": "stdout",
     "output_type": "stream",
     "text": [
      "  Kin PA:  38.5  +/-   0.5  (3*sigma error)\n",
      "Velocity Offset: 0.00\n"
     ]
    },
    {
     "name": "stderr",
     "output_type": "stream",
     "text": [
      "\u001b[1;33m[WARNING]: \u001b[0m\u001b[0;39mTrying to register the cmap 'sauron' which already exists.\u001b[0m \u001b[0;36m(UserWarning)\u001b[0m\n",
      "\u001b[1;33m[WARNING]: \u001b[0m\u001b[0;39mTrying to register the cmap 'sauron_r' which already exists.\u001b[0m \u001b[0;36m(UserWarning)\u001b[0m\n",
      "\u001b[1;33m[WARNING]: \u001b[0m\u001b[0;39mTrying to register the cmap 'sauron' which already exists.\u001b[0m \u001b[0;36m(UserWarning)\u001b[0m\n",
      "\u001b[1;33m[WARNING]: \u001b[0m\u001b[0;39mTrying to register the cmap 'sauron_r' which already exists.\u001b[0m \u001b[0;36m(UserWarning)\u001b[0m\n"
     ]
    },
    {
     "name": "stdout",
     "output_type": "stream",
     "text": [
      "  Kin PA:  63.5  +/-   3.5  (3*sigma error)\n",
      "Velocity Offset: 0.00\n"
     ]
    },
    {
     "name": "stderr",
     "output_type": "stream",
     "text": [
      "\u001b[1;33m[WARNING]: \u001b[0m\u001b[0;39mTrying to register the cmap 'sauron' which already exists.\u001b[0m \u001b[0;36m(UserWarning)\u001b[0m\n",
      "\u001b[1;33m[WARNING]: \u001b[0m\u001b[0;39mTrying to register the cmap 'sauron_r' which already exists.\u001b[0m \u001b[0;36m(UserWarning)\u001b[0m\n",
      "\u001b[1;33m[WARNING]: \u001b[0m\u001b[0;39mTrying to register the cmap 'sauron' which already exists.\u001b[0m \u001b[0;36m(UserWarning)\u001b[0m\n",
      "\u001b[1;33m[WARNING]: \u001b[0m\u001b[0;39mTrying to register the cmap 'sauron_r' which already exists.\u001b[0m \u001b[0;36m(UserWarning)\u001b[0m\n"
     ]
    },
    {
     "name": "stdout",
     "output_type": "stream",
     "text": [
      "  Kin PA:   6.5  +/-   3.5  (3*sigma error)\n",
      "Velocity Offset: 0.00\n"
     ]
    },
    {
     "name": "stderr",
     "output_type": "stream",
     "text": [
      "\u001b[1;33m[WARNING]: \u001b[0m\u001b[0;39mTrying to register the cmap 'sauron' which already exists.\u001b[0m \u001b[0;36m(UserWarning)\u001b[0m\n",
      "\u001b[1;33m[WARNING]: \u001b[0m\u001b[0;39mTrying to register the cmap 'sauron_r' which already exists.\u001b[0m \u001b[0;36m(UserWarning)\u001b[0m\n",
      "\u001b[1;33m[WARNING]: \u001b[0m\u001b[0;39mTrying to register the cmap 'sauron' which already exists.\u001b[0m \u001b[0;36m(UserWarning)\u001b[0m\n",
      "\u001b[1;33m[WARNING]: \u001b[0m\u001b[0;39mTrying to register the cmap 'sauron_r' which already exists.\u001b[0m \u001b[0;36m(UserWarning)\u001b[0m\n"
     ]
    },
    {
     "name": "stdout",
     "output_type": "stream",
     "text": [
      "  Kin PA:  72.0  +/-   7.5  (3*sigma error)\n",
      "Velocity Offset: 0.00\n"
     ]
    },
    {
     "name": "stderr",
     "output_type": "stream",
     "text": [
      "\u001b[1;33m[WARNING]: \u001b[0m\u001b[0;39mTrying to register the cmap 'sauron' which already exists.\u001b[0m \u001b[0;36m(UserWarning)\u001b[0m\n",
      "\u001b[1;33m[WARNING]: \u001b[0m\u001b[0;39mTrying to register the cmap 'sauron_r' which already exists.\u001b[0m \u001b[0;36m(UserWarning)\u001b[0m\n",
      "\u001b[1;33m[WARNING]: \u001b[0m\u001b[0;39mTrying to register the cmap 'sauron' which already exists.\u001b[0m \u001b[0;36m(UserWarning)\u001b[0m\n",
      "\u001b[1;33m[WARNING]: \u001b[0m\u001b[0;39mTrying to register the cmap 'sauron_r' which already exists.\u001b[0m \u001b[0;36m(UserWarning)\u001b[0m\n"
     ]
    },
    {
     "name": "stdout",
     "output_type": "stream",
     "text": [
      "  Kin PA:  13.5  +/-   0.5  (3*sigma error)\n",
      "Velocity Offset: 0.00\n"
     ]
    },
    {
     "name": "stderr",
     "output_type": "stream",
     "text": [
      "\u001b[1;33m[WARNING]: \u001b[0m\u001b[0;39mTrying to register the cmap 'sauron' which already exists.\u001b[0m \u001b[0;36m(UserWarning)\u001b[0m\n",
      "\u001b[1;33m[WARNING]: \u001b[0m\u001b[0;39mTrying to register the cmap 'sauron_r' which already exists.\u001b[0m \u001b[0;36m(UserWarning)\u001b[0m\n",
      "\u001b[1;33m[WARNING]: \u001b[0m\u001b[0;39mTrying to register the cmap 'sauron' which already exists.\u001b[0m \u001b[0;36m(UserWarning)\u001b[0m\n",
      "\u001b[1;33m[WARNING]: \u001b[0m\u001b[0;39mTrying to register the cmap 'sauron_r' which already exists.\u001b[0m \u001b[0;36m(UserWarning)\u001b[0m\n"
     ]
    },
    {
     "name": "stdout",
     "output_type": "stream",
     "text": [
      "  Kin PA: 119.5  +/-  26.0  (3*sigma error)\n",
      "Velocity Offset: 0.00\n"
     ]
    },
    {
     "name": "stderr",
     "output_type": "stream",
     "text": [
      "\u001b[1;33m[WARNING]: \u001b[0m\u001b[0;39mTrying to register the cmap 'sauron' which already exists.\u001b[0m \u001b[0;36m(UserWarning)\u001b[0m\n",
      "\u001b[1;33m[WARNING]: \u001b[0m\u001b[0;39mTrying to register the cmap 'sauron_r' which already exists.\u001b[0m \u001b[0;36m(UserWarning)\u001b[0m\n",
      "\u001b[1;33m[WARNING]: \u001b[0m\u001b[0;39mTrying to register the cmap 'sauron' which already exists.\u001b[0m \u001b[0;36m(UserWarning)\u001b[0m\n",
      "\u001b[1;33m[WARNING]: \u001b[0m\u001b[0;39mTrying to register the cmap 'sauron_r' which already exists.\u001b[0m \u001b[0;36m(UserWarning)\u001b[0m\n"
     ]
    },
    {
     "name": "stdout",
     "output_type": "stream",
     "text": [
      "  Kin PA: 116.5  +/-   0.5  (3*sigma error)\n",
      "Velocity Offset: 0.00\n"
     ]
    },
    {
     "name": "stderr",
     "output_type": "stream",
     "text": [
      "\u001b[1;33m[WARNING]: \u001b[0m\u001b[0;39mTrying to register the cmap 'sauron' which already exists.\u001b[0m \u001b[0;36m(UserWarning)\u001b[0m\n",
      "\u001b[1;33m[WARNING]: \u001b[0m\u001b[0;39mTrying to register the cmap 'sauron_r' which already exists.\u001b[0m \u001b[0;36m(UserWarning)\u001b[0m\n",
      "\u001b[1;33m[WARNING]: \u001b[0m\u001b[0;39mTrying to register the cmap 'sauron' which already exists.\u001b[0m \u001b[0;36m(UserWarning)\u001b[0m\n",
      "\u001b[1;33m[WARNING]: \u001b[0m\u001b[0;39mTrying to register the cmap 'sauron_r' which already exists.\u001b[0m \u001b[0;36m(UserWarning)\u001b[0m\n"
     ]
    },
    {
     "name": "stdout",
     "output_type": "stream",
     "text": [
      "  Kin PA:  88.0  +/-   3.2  (3*sigma error)\n",
      "Velocity Offset: 0.00\n"
     ]
    },
    {
     "name": "stderr",
     "output_type": "stream",
     "text": [
      "\u001b[1;33m[WARNING]: \u001b[0m\u001b[0;39mTrying to register the cmap 'sauron' which already exists.\u001b[0m \u001b[0;36m(UserWarning)\u001b[0m\n",
      "\u001b[1;33m[WARNING]: \u001b[0m\u001b[0;39mTrying to register the cmap 'sauron_r' which already exists.\u001b[0m \u001b[0;36m(UserWarning)\u001b[0m\n",
      "\u001b[1;33m[WARNING]: \u001b[0m\u001b[0;39mTrying to register the cmap 'sauron' which already exists.\u001b[0m \u001b[0;36m(UserWarning)\u001b[0m\n",
      "\u001b[1;33m[WARNING]: \u001b[0m\u001b[0;39mTrying to register the cmap 'sauron_r' which already exists.\u001b[0m \u001b[0;36m(UserWarning)\u001b[0m\n"
     ]
    },
    {
     "name": "stdout",
     "output_type": "stream",
     "text": [
      "  Kin PA: 100.5  +/-   0.5  (3*sigma error)\n",
      "Velocity Offset: 0.00\n"
     ]
    },
    {
     "name": "stderr",
     "output_type": "stream",
     "text": [
      "\u001b[1;33m[WARNING]: \u001b[0m\u001b[0;39mTrying to register the cmap 'sauron' which already exists.\u001b[0m \u001b[0;36m(UserWarning)\u001b[0m\n",
      "\u001b[1;33m[WARNING]: \u001b[0m\u001b[0;39mTrying to register the cmap 'sauron_r' which already exists.\u001b[0m \u001b[0;36m(UserWarning)\u001b[0m\n",
      "\u001b[1;33m[WARNING]: \u001b[0m\u001b[0;39mTrying to register the cmap 'sauron' which already exists.\u001b[0m \u001b[0;36m(UserWarning)\u001b[0m\n",
      "\u001b[1;33m[WARNING]: \u001b[0m\u001b[0;39mTrying to register the cmap 'sauron_r' which already exists.\u001b[0m \u001b[0;36m(UserWarning)\u001b[0m\n"
     ]
    },
    {
     "name": "stdout",
     "output_type": "stream",
     "text": [
      "  Kin PA:   8.5  +/-   5.5  (3*sigma error)\n",
      "Velocity Offset: 0.00\n"
     ]
    },
    {
     "name": "stderr",
     "output_type": "stream",
     "text": [
      "\u001b[1;33m[WARNING]: \u001b[0m\u001b[0;39mTrying to register the cmap 'sauron' which already exists.\u001b[0m \u001b[0;36m(UserWarning)\u001b[0m\n",
      "\u001b[1;33m[WARNING]: \u001b[0m\u001b[0;39mTrying to register the cmap 'sauron_r' which already exists.\u001b[0m \u001b[0;36m(UserWarning)\u001b[0m\n",
      "\u001b[1;33m[WARNING]: \u001b[0m\u001b[0;39mTrying to register the cmap 'sauron' which already exists.\u001b[0m \u001b[0;36m(UserWarning)\u001b[0m\n",
      "\u001b[1;33m[WARNING]: \u001b[0m\u001b[0;39mTrying to register the cmap 'sauron_r' which already exists.\u001b[0m \u001b[0;36m(UserWarning)\u001b[0m\n"
     ]
    },
    {
     "name": "stdout",
     "output_type": "stream",
     "text": [
      "  Kin PA: 177.0  +/-   0.5  (3*sigma error)\n",
      "Velocity Offset: 0.00\n"
     ]
    },
    {
     "name": "stderr",
     "output_type": "stream",
     "text": [
      "\u001b[1;33m[WARNING]: \u001b[0m\u001b[0;39mTrying to register the cmap 'sauron' which already exists.\u001b[0m \u001b[0;36m(UserWarning)\u001b[0m\n",
      "\u001b[1;33m[WARNING]: \u001b[0m\u001b[0;39mTrying to register the cmap 'sauron_r' which already exists.\u001b[0m \u001b[0;36m(UserWarning)\u001b[0m\n",
      "\u001b[1;33m[WARNING]: \u001b[0m\u001b[0;39mTrying to register the cmap 'sauron' which already exists.\u001b[0m \u001b[0;36m(UserWarning)\u001b[0m\n",
      "\u001b[1;33m[WARNING]: \u001b[0m\u001b[0;39mTrying to register the cmap 'sauron_r' which already exists.\u001b[0m \u001b[0;36m(UserWarning)\u001b[0m\n"
     ]
    },
    {
     "name": "stdout",
     "output_type": "stream",
     "text": [
      "  Kin PA: 158.5  +/-  18.5  (3*sigma error)\n",
      "Velocity Offset: 0.00\n"
     ]
    },
    {
     "name": "stderr",
     "output_type": "stream",
     "text": [
      "\u001b[1;33m[WARNING]: \u001b[0m\u001b[0;39mTrying to register the cmap 'sauron' which already exists.\u001b[0m \u001b[0;36m(UserWarning)\u001b[0m\n",
      "\u001b[1;33m[WARNING]: \u001b[0m\u001b[0;39mTrying to register the cmap 'sauron_r' which already exists.\u001b[0m \u001b[0;36m(UserWarning)\u001b[0m\n",
      "\u001b[1;33m[WARNING]: \u001b[0m\u001b[0;39mTrying to register the cmap 'sauron' which already exists.\u001b[0m \u001b[0;36m(UserWarning)\u001b[0m\n",
      "\u001b[1;33m[WARNING]: \u001b[0m\u001b[0;39mTrying to register the cmap 'sauron_r' which already exists.\u001b[0m \u001b[0;36m(UserWarning)\u001b[0m\n"
     ]
    },
    {
     "name": "stdout",
     "output_type": "stream",
     "text": [
      "  Kin PA:  20.0  +/-   0.5  (3*sigma error)\n",
      "Velocity Offset: 0.00\n"
     ]
    },
    {
     "name": "stderr",
     "output_type": "stream",
     "text": [
      "\u001b[1;33m[WARNING]: \u001b[0m\u001b[0;39mTrying to register the cmap 'sauron' which already exists.\u001b[0m \u001b[0;36m(UserWarning)\u001b[0m\n",
      "\u001b[1;33m[WARNING]: \u001b[0m\u001b[0;39mTrying to register the cmap 'sauron_r' which already exists.\u001b[0m \u001b[0;36m(UserWarning)\u001b[0m\n",
      "\u001b[1;33m[WARNING]: \u001b[0m\u001b[0;39mTrying to register the cmap 'sauron' which already exists.\u001b[0m \u001b[0;36m(UserWarning)\u001b[0m\n",
      "\u001b[1;33m[WARNING]: \u001b[0m\u001b[0;39mTrying to register the cmap 'sauron_r' which already exists.\u001b[0m \u001b[0;36m(UserWarning)\u001b[0m\n"
     ]
    },
    {
     "name": "stdout",
     "output_type": "stream",
     "text": [
      "  Kin PA: 147.0  +/-  26.2  (3*sigma error)\n",
      "Velocity Offset: 0.00\n"
     ]
    },
    {
     "name": "stderr",
     "output_type": "stream",
     "text": [
      "\u001b[1;33m[WARNING]: \u001b[0m\u001b[0;39mTrying to register the cmap 'sauron' which already exists.\u001b[0m \u001b[0;36m(UserWarning)\u001b[0m\n",
      "\u001b[1;33m[WARNING]: \u001b[0m\u001b[0;39mTrying to register the cmap 'sauron_r' which already exists.\u001b[0m \u001b[0;36m(UserWarning)\u001b[0m\n",
      "\u001b[1;33m[WARNING]: \u001b[0m\u001b[0;39mTrying to register the cmap 'sauron' which already exists.\u001b[0m \u001b[0;36m(UserWarning)\u001b[0m\n",
      "\u001b[1;33m[WARNING]: \u001b[0m\u001b[0;39mTrying to register the cmap 'sauron_r' which already exists.\u001b[0m \u001b[0;36m(UserWarning)\u001b[0m\n"
     ]
    },
    {
     "name": "stdout",
     "output_type": "stream",
     "text": [
      "  Kin PA:  68.0  +/-   0.5  (3*sigma error)\n",
      "Velocity Offset: 0.00\n"
     ]
    },
    {
     "name": "stderr",
     "output_type": "stream",
     "text": [
      "\u001b[1;33m[WARNING]: \u001b[0m\u001b[0;39mTrying to register the cmap 'sauron' which already exists.\u001b[0m \u001b[0;36m(UserWarning)\u001b[0m\n",
      "\u001b[1;33m[WARNING]: \u001b[0m\u001b[0;39mTrying to register the cmap 'sauron_r' which already exists.\u001b[0m \u001b[0;36m(UserWarning)\u001b[0m\n",
      "\u001b[1;33m[WARNING]: \u001b[0m\u001b[0;39mTrying to register the cmap 'sauron' which already exists.\u001b[0m \u001b[0;36m(UserWarning)\u001b[0m\n",
      "\u001b[1;33m[WARNING]: \u001b[0m\u001b[0;39mTrying to register the cmap 'sauron_r' which already exists.\u001b[0m \u001b[0;36m(UserWarning)\u001b[0m\n"
     ]
    },
    {
     "name": "stdout",
     "output_type": "stream",
     "text": [
      "  Kin PA: 178.5  +/-   1.2  (3*sigma error)\n",
      "Velocity Offset: 0.00\n"
     ]
    },
    {
     "name": "stderr",
     "output_type": "stream",
     "text": [
      "\u001b[1;33m[WARNING]: \u001b[0m\u001b[0;39mTrying to register the cmap 'sauron' which already exists.\u001b[0m \u001b[0;36m(UserWarning)\u001b[0m\n",
      "\u001b[1;33m[WARNING]: \u001b[0m\u001b[0;39mTrying to register the cmap 'sauron_r' which already exists.\u001b[0m \u001b[0;36m(UserWarning)\u001b[0m\n",
      "\u001b[1;33m[WARNING]: \u001b[0m\u001b[0;39mTrying to register the cmap 'sauron' which already exists.\u001b[0m \u001b[0;36m(UserWarning)\u001b[0m\n",
      "\u001b[1;33m[WARNING]: \u001b[0m\u001b[0;39mTrying to register the cmap 'sauron_r' which already exists.\u001b[0m \u001b[0;36m(UserWarning)\u001b[0m\n"
     ]
    },
    {
     "name": "stdout",
     "output_type": "stream",
     "text": [
      "  Kin PA:  98.5  +/-   0.5  (3*sigma error)\n",
      "Velocity Offset: 0.00\n"
     ]
    },
    {
     "name": "stderr",
     "output_type": "stream",
     "text": [
      "\u001b[1;33m[WARNING]: \u001b[0m\u001b[0;39mTrying to register the cmap 'sauron' which already exists.\u001b[0m \u001b[0;36m(UserWarning)\u001b[0m\n",
      "\u001b[1;33m[WARNING]: \u001b[0m\u001b[0;39mTrying to register the cmap 'sauron_r' which already exists.\u001b[0m \u001b[0;36m(UserWarning)\u001b[0m\n",
      "\u001b[1;33m[WARNING]: \u001b[0m\u001b[0;39mTrying to register the cmap 'sauron' which already exists.\u001b[0m \u001b[0;36m(UserWarning)\u001b[0m\n",
      "\u001b[1;33m[WARNING]: \u001b[0m\u001b[0;39mTrying to register the cmap 'sauron_r' which already exists.\u001b[0m \u001b[0;36m(UserWarning)\u001b[0m\n"
     ]
    },
    {
     "name": "stdout",
     "output_type": "stream",
     "text": [
      "  Kin PA:  31.0  +/-   6.8  (3*sigma error)\n",
      "Velocity Offset: 0.00\n"
     ]
    },
    {
     "name": "stderr",
     "output_type": "stream",
     "text": [
      "\u001b[1;33m[WARNING]: \u001b[0m\u001b[0;39mTrying to register the cmap 'sauron' which already exists.\u001b[0m \u001b[0;36m(UserWarning)\u001b[0m\n",
      "\u001b[1;33m[WARNING]: \u001b[0m\u001b[0;39mTrying to register the cmap 'sauron_r' which already exists.\u001b[0m \u001b[0;36m(UserWarning)\u001b[0m\n",
      "\u001b[1;33m[WARNING]: \u001b[0m\u001b[0;39mTrying to register the cmap 'sauron' which already exists.\u001b[0m \u001b[0;36m(UserWarning)\u001b[0m\n",
      "\u001b[1;33m[WARNING]: \u001b[0m\u001b[0;39mTrying to register the cmap 'sauron_r' which already exists.\u001b[0m \u001b[0;36m(UserWarning)\u001b[0m\n"
     ]
    },
    {
     "name": "stdout",
     "output_type": "stream",
     "text": [
      "  Kin PA: 158.5  +/-   0.5  (3*sigma error)\n",
      "Velocity Offset: 0.00\n"
     ]
    },
    {
     "name": "stderr",
     "output_type": "stream",
     "text": [
      "\u001b[1;33m[WARNING]: \u001b[0m\u001b[0;39mTrying to register the cmap 'sauron' which already exists.\u001b[0m \u001b[0;36m(UserWarning)\u001b[0m\n",
      "\u001b[1;33m[WARNING]: \u001b[0m\u001b[0;39mTrying to register the cmap 'sauron_r' which already exists.\u001b[0m \u001b[0;36m(UserWarning)\u001b[0m\n",
      "\u001b[1;33m[WARNING]: \u001b[0m\u001b[0;39mTrying to register the cmap 'sauron' which already exists.\u001b[0m \u001b[0;36m(UserWarning)\u001b[0m\n",
      "\u001b[1;33m[WARNING]: \u001b[0m\u001b[0;39mTrying to register the cmap 'sauron_r' which already exists.\u001b[0m \u001b[0;36m(UserWarning)\u001b[0m\n"
     ]
    },
    {
     "name": "stdout",
     "output_type": "stream",
     "text": [
      "  Kin PA: 163.0  +/-  10.0  (3*sigma error)\n",
      "Velocity Offset: 0.00\n"
     ]
    },
    {
     "name": "stderr",
     "output_type": "stream",
     "text": [
      "\u001b[1;33m[WARNING]: \u001b[0m\u001b[0;39mTrying to register the cmap 'sauron' which already exists.\u001b[0m \u001b[0;36m(UserWarning)\u001b[0m\n",
      "\u001b[1;33m[WARNING]: \u001b[0m\u001b[0;39mTrying to register the cmap 'sauron_r' which already exists.\u001b[0m \u001b[0;36m(UserWarning)\u001b[0m\n",
      "\u001b[1;33m[WARNING]: \u001b[0m\u001b[0;39mTrying to register the cmap 'sauron' which already exists.\u001b[0m \u001b[0;36m(UserWarning)\u001b[0m\n",
      "\u001b[1;33m[WARNING]: \u001b[0m\u001b[0;39mTrying to register the cmap 'sauron_r' which already exists.\u001b[0m \u001b[0;36m(UserWarning)\u001b[0m\n"
     ]
    },
    {
     "name": "stdout",
     "output_type": "stream",
     "text": [
      "  Kin PA:  92.0  +/-   2.0  (3*sigma error)\n",
      "Velocity Offset: 0.00\n"
     ]
    },
    {
     "name": "stderr",
     "output_type": "stream",
     "text": [
      "\u001b[1;33m[WARNING]: \u001b[0m\u001b[0;39mTrying to register the cmap 'sauron' which already exists.\u001b[0m \u001b[0;36m(UserWarning)\u001b[0m\n",
      "\u001b[1;33m[WARNING]: \u001b[0m\u001b[0;39mTrying to register the cmap 'sauron_r' which already exists.\u001b[0m \u001b[0;36m(UserWarning)\u001b[0m\n",
      "\u001b[1;33m[WARNING]: \u001b[0m\u001b[0;39mTrying to register the cmap 'sauron' which already exists.\u001b[0m \u001b[0;36m(UserWarning)\u001b[0m\n",
      "\u001b[1;33m[WARNING]: \u001b[0m\u001b[0;39mTrying to register the cmap 'sauron_r' which already exists.\u001b[0m \u001b[0;36m(UserWarning)\u001b[0m\n"
     ]
    },
    {
     "name": "stdout",
     "output_type": "stream",
     "text": [
      "  Kin PA: 139.5  +/-  19.8  (3*sigma error)\n",
      "Velocity Offset: 0.00\n"
     ]
    },
    {
     "name": "stderr",
     "output_type": "stream",
     "text": [
      "\u001b[1;33m[WARNING]: \u001b[0m\u001b[0;39mTrying to register the cmap 'sauron' which already exists.\u001b[0m \u001b[0;36m(UserWarning)\u001b[0m\n",
      "\u001b[1;33m[WARNING]: \u001b[0m\u001b[0;39mTrying to register the cmap 'sauron_r' which already exists.\u001b[0m \u001b[0;36m(UserWarning)\u001b[0m\n",
      "\u001b[1;33m[WARNING]: \u001b[0m\u001b[0;39mTrying to register the cmap 'sauron' which already exists.\u001b[0m \u001b[0;36m(UserWarning)\u001b[0m\n",
      "\u001b[1;33m[WARNING]: \u001b[0m\u001b[0;39mTrying to register the cmap 'sauron_r' which already exists.\u001b[0m \u001b[0;36m(UserWarning)\u001b[0m\n"
     ]
    },
    {
     "name": "stdout",
     "output_type": "stream",
     "text": [
      "  Kin PA:  20.0  +/-   0.5  (3*sigma error)\n",
      "Velocity Offset: 0.00\n"
     ]
    },
    {
     "name": "stderr",
     "output_type": "stream",
     "text": [
      "\u001b[1;33m[WARNING]: \u001b[0m\u001b[0;39mTrying to register the cmap 'sauron' which already exists.\u001b[0m \u001b[0;36m(UserWarning)\u001b[0m\n",
      "\u001b[1;33m[WARNING]: \u001b[0m\u001b[0;39mTrying to register the cmap 'sauron_r' which already exists.\u001b[0m \u001b[0;36m(UserWarning)\u001b[0m\n",
      "\u001b[1;33m[WARNING]: \u001b[0m\u001b[0;39mTrying to register the cmap 'sauron' which already exists.\u001b[0m \u001b[0;36m(UserWarning)\u001b[0m\n",
      "\u001b[1;33m[WARNING]: \u001b[0m\u001b[0;39mTrying to register the cmap 'sauron_r' which already exists.\u001b[0m \u001b[0;36m(UserWarning)\u001b[0m\n"
     ]
    },
    {
     "name": "stdout",
     "output_type": "stream",
     "text": [
      "  Kin PA:   2.5  +/-   1.0  (3*sigma error)\n",
      "Velocity Offset: 0.00\n"
     ]
    },
    {
     "name": "stderr",
     "output_type": "stream",
     "text": [
      "\u001b[1;33m[WARNING]: \u001b[0m\u001b[0;39mTrying to register the cmap 'sauron' which already exists.\u001b[0m \u001b[0;36m(UserWarning)\u001b[0m\n",
      "\u001b[1;33m[WARNING]: \u001b[0m\u001b[0;39mTrying to register the cmap 'sauron_r' which already exists.\u001b[0m \u001b[0;36m(UserWarning)\u001b[0m\n",
      "\u001b[1;33m[WARNING]: \u001b[0m\u001b[0;39mTrying to register the cmap 'sauron' which already exists.\u001b[0m \u001b[0;36m(UserWarning)\u001b[0m\n",
      "\u001b[1;33m[WARNING]: \u001b[0m\u001b[0;39mTrying to register the cmap 'sauron_r' which already exists.\u001b[0m \u001b[0;36m(UserWarning)\u001b[0m\n"
     ]
    },
    {
     "name": "stdout",
     "output_type": "stream",
     "text": [
      "  Kin PA:  15.5  +/-   0.5  (3*sigma error)\n",
      "Velocity Offset: 0.00\n"
     ]
    },
    {
     "name": "stderr",
     "output_type": "stream",
     "text": [
      "\u001b[1;33m[WARNING]: \u001b[0m\u001b[0;39mTrying to register the cmap 'sauron' which already exists.\u001b[0m \u001b[0;36m(UserWarning)\u001b[0m\n",
      "\u001b[1;33m[WARNING]: \u001b[0m\u001b[0;39mTrying to register the cmap 'sauron_r' which already exists.\u001b[0m \u001b[0;36m(UserWarning)\u001b[0m\n",
      "\u001b[1;33m[WARNING]: \u001b[0m\u001b[0;39mTrying to register the cmap 'sauron' which already exists.\u001b[0m \u001b[0;36m(UserWarning)\u001b[0m\n",
      "\u001b[1;33m[WARNING]: \u001b[0m\u001b[0;39mTrying to register the cmap 'sauron_r' which already exists.\u001b[0m \u001b[0;36m(UserWarning)\u001b[0m\n"
     ]
    },
    {
     "name": "stdout",
     "output_type": "stream",
     "text": [
      "  Kin PA: 149.5  +/-  89.8  (3*sigma error)\n",
      "Velocity Offset: 0.00\n"
     ]
    },
    {
     "name": "stderr",
     "output_type": "stream",
     "text": [
      "\u001b[1;33m[WARNING]: \u001b[0m\u001b[0;39mTrying to register the cmap 'sauron' which already exists.\u001b[0m \u001b[0;36m(UserWarning)\u001b[0m\n",
      "\u001b[1;33m[WARNING]: \u001b[0m\u001b[0;39mTrying to register the cmap 'sauron_r' which already exists.\u001b[0m \u001b[0;36m(UserWarning)\u001b[0m\n",
      "\u001b[1;33m[WARNING]: \u001b[0m\u001b[0;39mTrying to register the cmap 'sauron' which already exists.\u001b[0m \u001b[0;36m(UserWarning)\u001b[0m\n",
      "\u001b[1;33m[WARNING]: \u001b[0m\u001b[0;39mTrying to register the cmap 'sauron_r' which already exists.\u001b[0m \u001b[0;36m(UserWarning)\u001b[0m\n"
     ]
    },
    {
     "name": "stdout",
     "output_type": "stream",
     "text": [
      "  Kin PA: 179.0  +/-   0.5  (3*sigma error)\n",
      "Velocity Offset: 0.00\n"
     ]
    },
    {
     "name": "stderr",
     "output_type": "stream",
     "text": [
      "\u001b[1;33m[WARNING]: \u001b[0m\u001b[0;39mTrying to register the cmap 'sauron' which already exists.\u001b[0m \u001b[0;36m(UserWarning)\u001b[0m\n",
      "\u001b[1;33m[WARNING]: \u001b[0m\u001b[0;39mTrying to register the cmap 'sauron_r' which already exists.\u001b[0m \u001b[0;36m(UserWarning)\u001b[0m\n",
      "\u001b[1;33m[WARNING]: \u001b[0m\u001b[0;39mTrying to register the cmap 'sauron' which already exists.\u001b[0m \u001b[0;36m(UserWarning)\u001b[0m\n",
      "\u001b[1;33m[WARNING]: \u001b[0m\u001b[0;39mTrying to register the cmap 'sauron_r' which already exists.\u001b[0m \u001b[0;36m(UserWarning)\u001b[0m\n"
     ]
    },
    {
     "name": "stdout",
     "output_type": "stream",
     "text": [
      "  Kin PA:  15.0  +/-   8.8  (3*sigma error)\n",
      "Velocity Offset: 0.00\n"
     ]
    },
    {
     "name": "stderr",
     "output_type": "stream",
     "text": [
      "\u001b[1;33m[WARNING]: \u001b[0m\u001b[0;39mTrying to register the cmap 'sauron' which already exists.\u001b[0m \u001b[0;36m(UserWarning)\u001b[0m\n",
      "\u001b[1;33m[WARNING]: \u001b[0m\u001b[0;39mTrying to register the cmap 'sauron_r' which already exists.\u001b[0m \u001b[0;36m(UserWarning)\u001b[0m\n",
      "\u001b[1;33m[WARNING]: \u001b[0m\u001b[0;39mTrying to register the cmap 'sauron' which already exists.\u001b[0m \u001b[0;36m(UserWarning)\u001b[0m\n",
      "\u001b[1;33m[WARNING]: \u001b[0m\u001b[0;39mTrying to register the cmap 'sauron_r' which already exists.\u001b[0m \u001b[0;36m(UserWarning)\u001b[0m\n"
     ]
    },
    {
     "name": "stdout",
     "output_type": "stream",
     "text": [
      "  Kin PA:  75.5  +/-   0.5  (3*sigma error)\n",
      "Velocity Offset: 0.00\n"
     ]
    },
    {
     "name": "stderr",
     "output_type": "stream",
     "text": [
      "\u001b[1;33m[WARNING]: \u001b[0m\u001b[0;39mTrying to register the cmap 'sauron' which already exists.\u001b[0m \u001b[0;36m(UserWarning)\u001b[0m\n",
      "\u001b[1;33m[WARNING]: \u001b[0m\u001b[0;39mTrying to register the cmap 'sauron_r' which already exists.\u001b[0m \u001b[0;36m(UserWarning)\u001b[0m\n",
      "\u001b[1;33m[WARNING]: \u001b[0m\u001b[0;39mTrying to register the cmap 'sauron' which already exists.\u001b[0m \u001b[0;36m(UserWarning)\u001b[0m\n",
      "\u001b[1;33m[WARNING]: \u001b[0m\u001b[0;39mTrying to register the cmap 'sauron_r' which already exists.\u001b[0m \u001b[0;36m(UserWarning)\u001b[0m\n"
     ]
    },
    {
     "name": "stdout",
     "output_type": "stream",
     "text": [
      "  Kin PA:  81.5  +/-  10.5  (3*sigma error)\n",
      "Velocity Offset: 0.00\n"
     ]
    },
    {
     "name": "stderr",
     "output_type": "stream",
     "text": [
      "\u001b[1;33m[WARNING]: \u001b[0m\u001b[0;39mTrying to register the cmap 'sauron' which already exists.\u001b[0m \u001b[0;36m(UserWarning)\u001b[0m\n",
      "\u001b[1;33m[WARNING]: \u001b[0m\u001b[0;39mTrying to register the cmap 'sauron_r' which already exists.\u001b[0m \u001b[0;36m(UserWarning)\u001b[0m\n",
      "\u001b[1;33m[WARNING]: \u001b[0m\u001b[0;39mTrying to register the cmap 'sauron' which already exists.\u001b[0m \u001b[0;36m(UserWarning)\u001b[0m\n",
      "\u001b[1;33m[WARNING]: \u001b[0m\u001b[0;39mTrying to register the cmap 'sauron_r' which already exists.\u001b[0m \u001b[0;36m(UserWarning)\u001b[0m\n"
     ]
    },
    {
     "name": "stdout",
     "output_type": "stream",
     "text": [
      "  Kin PA:  98.0  +/-   0.5  (3*sigma error)\n",
      "Velocity Offset: 0.00\n"
     ]
    },
    {
     "name": "stderr",
     "output_type": "stream",
     "text": [
      "\u001b[1;33m[WARNING]: \u001b[0m\u001b[0;39mTrying to register the cmap 'sauron' which already exists.\u001b[0m \u001b[0;36m(UserWarning)\u001b[0m\n",
      "\u001b[1;33m[WARNING]: \u001b[0m\u001b[0;39mTrying to register the cmap 'sauron_r' which already exists.\u001b[0m \u001b[0;36m(UserWarning)\u001b[0m\n",
      "\u001b[1;33m[WARNING]: \u001b[0m\u001b[0;39mTrying to register the cmap 'sauron' which already exists.\u001b[0m \u001b[0;36m(UserWarning)\u001b[0m\n",
      "\u001b[1;33m[WARNING]: \u001b[0m\u001b[0;39mTrying to register the cmap 'sauron_r' which already exists.\u001b[0m \u001b[0;36m(UserWarning)\u001b[0m\n"
     ]
    },
    {
     "name": "stdout",
     "output_type": "stream",
     "text": [
      "  Kin PA: 111.0  +/-   3.5  (3*sigma error)\n",
      "Velocity Offset: 0.00\n"
     ]
    },
    {
     "name": "stderr",
     "output_type": "stream",
     "text": [
      "\u001b[1;33m[WARNING]: \u001b[0m\u001b[0;39mTrying to register the cmap 'sauron' which already exists.\u001b[0m \u001b[0;36m(UserWarning)\u001b[0m\n",
      "\u001b[1;33m[WARNING]: \u001b[0m\u001b[0;39mTrying to register the cmap 'sauron_r' which already exists.\u001b[0m \u001b[0;36m(UserWarning)\u001b[0m\n",
      "\u001b[1;33m[WARNING]: \u001b[0m\u001b[0;39mTrying to register the cmap 'sauron' which already exists.\u001b[0m \u001b[0;36m(UserWarning)\u001b[0m\n",
      "\u001b[1;33m[WARNING]: \u001b[0m\u001b[0;39mTrying to register the cmap 'sauron_r' which already exists.\u001b[0m \u001b[0;36m(UserWarning)\u001b[0m\n"
     ]
    },
    {
     "name": "stdout",
     "output_type": "stream",
     "text": [
      "  Kin PA: 152.5  +/-   0.5  (3*sigma error)\n",
      "Velocity Offset: 0.00\n"
     ]
    },
    {
     "name": "stderr",
     "output_type": "stream",
     "text": [
      "\u001b[1;33m[WARNING]: \u001b[0m\u001b[0;39mTrying to register the cmap 'sauron' which already exists.\u001b[0m \u001b[0;36m(UserWarning)\u001b[0m\n",
      "\u001b[1;33m[WARNING]: \u001b[0m\u001b[0;39mTrying to register the cmap 'sauron_r' which already exists.\u001b[0m \u001b[0;36m(UserWarning)\u001b[0m\n",
      "\u001b[1;33m[WARNING]: \u001b[0m\u001b[0;39mTrying to register the cmap 'sauron' which already exists.\u001b[0m \u001b[0;36m(UserWarning)\u001b[0m\n",
      "\u001b[1;33m[WARNING]: \u001b[0m\u001b[0;39mTrying to register the cmap 'sauron_r' which already exists.\u001b[0m \u001b[0;36m(UserWarning)\u001b[0m\n"
     ]
    },
    {
     "name": "stdout",
     "output_type": "stream",
     "text": [
      "  Kin PA:  80.5  +/-   3.0  (3*sigma error)\n",
      "Velocity Offset: 0.00\n"
     ]
    },
    {
     "name": "stderr",
     "output_type": "stream",
     "text": [
      "\u001b[1;33m[WARNING]: \u001b[0m\u001b[0;39mTrying to register the cmap 'sauron' which already exists.\u001b[0m \u001b[0;36m(UserWarning)\u001b[0m\n",
      "\u001b[1;33m[WARNING]: \u001b[0m\u001b[0;39mTrying to register the cmap 'sauron_r' which already exists.\u001b[0m \u001b[0;36m(UserWarning)\u001b[0m\n",
      "\u001b[1;33m[WARNING]: \u001b[0m\u001b[0;39mTrying to register the cmap 'sauron' which already exists.\u001b[0m \u001b[0;36m(UserWarning)\u001b[0m\n",
      "\u001b[1;33m[WARNING]: \u001b[0m\u001b[0;39mTrying to register the cmap 'sauron_r' which already exists.\u001b[0m \u001b[0;36m(UserWarning)\u001b[0m\n"
     ]
    },
    {
     "name": "stdout",
     "output_type": "stream",
     "text": [
      "  Kin PA: 152.5  +/-   0.5  (3*sigma error)\n",
      "Velocity Offset: 0.00\n"
     ]
    },
    {
     "name": "stderr",
     "output_type": "stream",
     "text": [
      "\u001b[1;33m[WARNING]: \u001b[0m\u001b[0;39mTrying to register the cmap 'sauron' which already exists.\u001b[0m \u001b[0;36m(UserWarning)\u001b[0m\n",
      "\u001b[1;33m[WARNING]: \u001b[0m\u001b[0;39mTrying to register the cmap 'sauron_r' which already exists.\u001b[0m \u001b[0;36m(UserWarning)\u001b[0m\n",
      "\u001b[1;33m[WARNING]: \u001b[0m\u001b[0;39mTrying to register the cmap 'sauron' which already exists.\u001b[0m \u001b[0;36m(UserWarning)\u001b[0m\n",
      "\u001b[1;33m[WARNING]: \u001b[0m\u001b[0;39mTrying to register the cmap 'sauron_r' which already exists.\u001b[0m \u001b[0;36m(UserWarning)\u001b[0m\n"
     ]
    },
    {
     "name": "stdout",
     "output_type": "stream",
     "text": [
      "  Kin PA: 117.5  +/-   6.5  (3*sigma error)\n",
      "Velocity Offset: 0.00\n"
     ]
    },
    {
     "name": "stderr",
     "output_type": "stream",
     "text": [
      "\u001b[1;33m[WARNING]: \u001b[0m\u001b[0;39mTrying to register the cmap 'sauron' which already exists.\u001b[0m \u001b[0;36m(UserWarning)\u001b[0m\n",
      "\u001b[1;33m[WARNING]: \u001b[0m\u001b[0;39mTrying to register the cmap 'sauron_r' which already exists.\u001b[0m \u001b[0;36m(UserWarning)\u001b[0m\n",
      "\u001b[1;33m[WARNING]: \u001b[0m\u001b[0;39mTrying to register the cmap 'sauron' which already exists.\u001b[0m \u001b[0;36m(UserWarning)\u001b[0m\n",
      "\u001b[1;33m[WARNING]: \u001b[0m\u001b[0;39mTrying to register the cmap 'sauron_r' which already exists.\u001b[0m \u001b[0;36m(UserWarning)\u001b[0m\n"
     ]
    },
    {
     "name": "stdout",
     "output_type": "stream",
     "text": [
      "  Kin PA:   4.0  +/-   0.5  (3*sigma error)\n",
      "Velocity Offset: 0.00\n"
     ]
    },
    {
     "name": "stderr",
     "output_type": "stream",
     "text": [
      "\u001b[1;33m[WARNING]: \u001b[0m\u001b[0;39mTrying to register the cmap 'sauron' which already exists.\u001b[0m \u001b[0;36m(UserWarning)\u001b[0m\n",
      "\u001b[1;33m[WARNING]: \u001b[0m\u001b[0;39mTrying to register the cmap 'sauron_r' which already exists.\u001b[0m \u001b[0;36m(UserWarning)\u001b[0m\n",
      "\u001b[1;33m[WARNING]: \u001b[0m\u001b[0;39mTrying to register the cmap 'sauron' which already exists.\u001b[0m \u001b[0;36m(UserWarning)\u001b[0m\n",
      "\u001b[1;33m[WARNING]: \u001b[0m\u001b[0;39mTrying to register the cmap 'sauron_r' which already exists.\u001b[0m \u001b[0;36m(UserWarning)\u001b[0m\n"
     ]
    },
    {
     "name": "stdout",
     "output_type": "stream",
     "text": [
      "  Kin PA:   4.5  +/-   4.8  (3*sigma error)\n",
      "Velocity Offset: 0.00\n"
     ]
    },
    {
     "name": "stderr",
     "output_type": "stream",
     "text": [
      "\u001b[1;33m[WARNING]: \u001b[0m\u001b[0;39mTrying to register the cmap 'sauron' which already exists.\u001b[0m \u001b[0;36m(UserWarning)\u001b[0m\n",
      "\u001b[1;33m[WARNING]: \u001b[0m\u001b[0;39mTrying to register the cmap 'sauron_r' which already exists.\u001b[0m \u001b[0;36m(UserWarning)\u001b[0m\n",
      "\u001b[1;33m[WARNING]: \u001b[0m\u001b[0;39mTrying to register the cmap 'sauron' which already exists.\u001b[0m \u001b[0;36m(UserWarning)\u001b[0m\n",
      "\u001b[1;33m[WARNING]: \u001b[0m\u001b[0;39mTrying to register the cmap 'sauron_r' which already exists.\u001b[0m \u001b[0;36m(UserWarning)\u001b[0m\n"
     ]
    },
    {
     "name": "stdout",
     "output_type": "stream",
     "text": [
      "  Kin PA:  87.0  +/-   0.5  (3*sigma error)\n",
      "Velocity Offset: 0.00\n"
     ]
    },
    {
     "name": "stderr",
     "output_type": "stream",
     "text": [
      "\u001b[1;33m[WARNING]: \u001b[0m\u001b[0;39mTrying to register the cmap 'sauron' which already exists.\u001b[0m \u001b[0;36m(UserWarning)\u001b[0m\n",
      "\u001b[1;33m[WARNING]: \u001b[0m\u001b[0;39mTrying to register the cmap 'sauron_r' which already exists.\u001b[0m \u001b[0;36m(UserWarning)\u001b[0m\n",
      "\u001b[1;33m[WARNING]: \u001b[0m\u001b[0;39mTrying to register the cmap 'sauron' which already exists.\u001b[0m \u001b[0;36m(UserWarning)\u001b[0m\n",
      "\u001b[1;33m[WARNING]: \u001b[0m\u001b[0;39mTrying to register the cmap 'sauron_r' which already exists.\u001b[0m \u001b[0;36m(UserWarning)\u001b[0m\n"
     ]
    },
    {
     "name": "stdout",
     "output_type": "stream",
     "text": [
      "  Kin PA:  85.5  +/-  39.0  (3*sigma error)\n",
      "Velocity Offset: 0.00\n"
     ]
    },
    {
     "name": "stderr",
     "output_type": "stream",
     "text": [
      "\u001b[1;33m[WARNING]: \u001b[0m\u001b[0;39mTrying to register the cmap 'sauron' which already exists.\u001b[0m \u001b[0;36m(UserWarning)\u001b[0m\n",
      "\u001b[1;33m[WARNING]: \u001b[0m\u001b[0;39mTrying to register the cmap 'sauron_r' which already exists.\u001b[0m \u001b[0;36m(UserWarning)\u001b[0m\n",
      "\u001b[1;33m[WARNING]: \u001b[0m\u001b[0;39mTrying to register the cmap 'sauron' which already exists.\u001b[0m \u001b[0;36m(UserWarning)\u001b[0m\n",
      "\u001b[1;33m[WARNING]: \u001b[0m\u001b[0;39mTrying to register the cmap 'sauron_r' which already exists.\u001b[0m \u001b[0;36m(UserWarning)\u001b[0m\n"
     ]
    },
    {
     "name": "stdout",
     "output_type": "stream",
     "text": [
      "  Kin PA: 138.5  +/-   0.5  (3*sigma error)\n",
      "Velocity Offset: 0.00\n"
     ]
    },
    {
     "name": "stderr",
     "output_type": "stream",
     "text": [
      "\u001b[1;33m[WARNING]: \u001b[0m\u001b[0;39mTrying to register the cmap 'sauron' which already exists.\u001b[0m \u001b[0;36m(UserWarning)\u001b[0m\n",
      "\u001b[1;33m[WARNING]: \u001b[0m\u001b[0;39mTrying to register the cmap 'sauron_r' which already exists.\u001b[0m \u001b[0;36m(UserWarning)\u001b[0m\n",
      "\u001b[1;33m[WARNING]: \u001b[0m\u001b[0;39mTrying to register the cmap 'sauron' which already exists.\u001b[0m \u001b[0;36m(UserWarning)\u001b[0m\n",
      "\u001b[1;33m[WARNING]: \u001b[0m\u001b[0;39mTrying to register the cmap 'sauron_r' which already exists.\u001b[0m \u001b[0;36m(UserWarning)\u001b[0m\n"
     ]
    },
    {
     "name": "stdout",
     "output_type": "stream",
     "text": [
      "  Kin PA:  65.0  +/-   6.0  (3*sigma error)\n",
      "Velocity Offset: 0.00\n"
     ]
    },
    {
     "name": "stderr",
     "output_type": "stream",
     "text": [
      "\u001b[1;33m[WARNING]: \u001b[0m\u001b[0;39mTrying to register the cmap 'sauron' which already exists.\u001b[0m \u001b[0;36m(UserWarning)\u001b[0m\n",
      "\u001b[1;33m[WARNING]: \u001b[0m\u001b[0;39mTrying to register the cmap 'sauron_r' which already exists.\u001b[0m \u001b[0;36m(UserWarning)\u001b[0m\n",
      "\u001b[1;33m[WARNING]: \u001b[0m\u001b[0;39mTrying to register the cmap 'sauron' which already exists.\u001b[0m \u001b[0;36m(UserWarning)\u001b[0m\n",
      "\u001b[1;33m[WARNING]: \u001b[0m\u001b[0;39mTrying to register the cmap 'sauron_r' which already exists.\u001b[0m \u001b[0;36m(UserWarning)\u001b[0m\n"
     ]
    },
    {
     "name": "stdout",
     "output_type": "stream",
     "text": [
      "  Kin PA: 129.5  +/-   0.5  (3*sigma error)\n",
      "Velocity Offset: 0.00\n"
     ]
    },
    {
     "name": "stderr",
     "output_type": "stream",
     "text": [
      "\u001b[1;33m[WARNING]: \u001b[0m\u001b[0;39mTrying to register the cmap 'sauron' which already exists.\u001b[0m \u001b[0;36m(UserWarning)\u001b[0m\n",
      "\u001b[1;33m[WARNING]: \u001b[0m\u001b[0;39mTrying to register the cmap 'sauron_r' which already exists.\u001b[0m \u001b[0;36m(UserWarning)\u001b[0m\n",
      "\u001b[1;33m[WARNING]: \u001b[0m\u001b[0;39mTrying to register the cmap 'sauron' which already exists.\u001b[0m \u001b[0;36m(UserWarning)\u001b[0m\n",
      "\u001b[1;33m[WARNING]: \u001b[0m\u001b[0;39mTrying to register the cmap 'sauron_r' which already exists.\u001b[0m \u001b[0;36m(UserWarning)\u001b[0m\n"
     ]
    },
    {
     "name": "stdout",
     "output_type": "stream",
     "text": [
      "  Kin PA: 151.0  +/-  11.5  (3*sigma error)\n",
      "Velocity Offset: 0.00\n"
     ]
    },
    {
     "name": "stderr",
     "output_type": "stream",
     "text": [
      "\u001b[1;33m[WARNING]: \u001b[0m\u001b[0;39mTrying to register the cmap 'sauron' which already exists.\u001b[0m \u001b[0;36m(UserWarning)\u001b[0m\n",
      "\u001b[1;33m[WARNING]: \u001b[0m\u001b[0;39mTrying to register the cmap 'sauron_r' which already exists.\u001b[0m \u001b[0;36m(UserWarning)\u001b[0m\n",
      "\u001b[1;33m[WARNING]: \u001b[0m\u001b[0;39mTrying to register the cmap 'sauron' which already exists.\u001b[0m \u001b[0;36m(UserWarning)\u001b[0m\n",
      "\u001b[1;33m[WARNING]: \u001b[0m\u001b[0;39mTrying to register the cmap 'sauron_r' which already exists.\u001b[0m \u001b[0;36m(UserWarning)\u001b[0m\n"
     ]
    },
    {
     "name": "stdout",
     "output_type": "stream",
     "text": [
      "  Kin PA: 144.5  +/-   0.5  (3*sigma error)\n",
      "Velocity Offset: 0.00\n"
     ]
    },
    {
     "name": "stderr",
     "output_type": "stream",
     "text": [
      "\u001b[1;33m[WARNING]: \u001b[0m\u001b[0;39mTrying to register the cmap 'sauron' which already exists.\u001b[0m \u001b[0;36m(UserWarning)\u001b[0m\n",
      "\u001b[1;33m[WARNING]: \u001b[0m\u001b[0;39mTrying to register the cmap 'sauron_r' which already exists.\u001b[0m \u001b[0;36m(UserWarning)\u001b[0m\n",
      "\u001b[1;33m[WARNING]: \u001b[0m\u001b[0;39mTrying to register the cmap 'sauron' which already exists.\u001b[0m \u001b[0;36m(UserWarning)\u001b[0m\n",
      "\u001b[1;33m[WARNING]: \u001b[0m\u001b[0;39mTrying to register the cmap 'sauron_r' which already exists.\u001b[0m \u001b[0;36m(UserWarning)\u001b[0m\n"
     ]
    },
    {
     "name": "stdout",
     "output_type": "stream",
     "text": [
      "  Kin PA:  84.0  +/-   6.5  (3*sigma error)\n",
      "Velocity Offset: 0.00\n"
     ]
    },
    {
     "name": "stderr",
     "output_type": "stream",
     "text": [
      "\u001b[1;33m[WARNING]: \u001b[0m\u001b[0;39mTrying to register the cmap 'sauron' which already exists.\u001b[0m \u001b[0;36m(UserWarning)\u001b[0m\n",
      "\u001b[1;33m[WARNING]: \u001b[0m\u001b[0;39mTrying to register the cmap 'sauron_r' which already exists.\u001b[0m \u001b[0;36m(UserWarning)\u001b[0m\n",
      "\u001b[1;33m[WARNING]: \u001b[0m\u001b[0;39mTrying to register the cmap 'sauron' which already exists.\u001b[0m \u001b[0;36m(UserWarning)\u001b[0m\n",
      "\u001b[1;33m[WARNING]: \u001b[0m\u001b[0;39mTrying to register the cmap 'sauron_r' which already exists.\u001b[0m \u001b[0;36m(UserWarning)\u001b[0m\n"
     ]
    },
    {
     "name": "stdout",
     "output_type": "stream",
     "text": [
      "  Kin PA:  63.0  +/-   8.2  (3*sigma error)\n",
      "Velocity Offset: 0.00\n"
     ]
    },
    {
     "name": "stderr",
     "output_type": "stream",
     "text": [
      "\u001b[1;33m[WARNING]: \u001b[0m\u001b[0;39mTrying to register the cmap 'sauron' which already exists.\u001b[0m \u001b[0;36m(UserWarning)\u001b[0m\n",
      "\u001b[1;33m[WARNING]: \u001b[0m\u001b[0;39mTrying to register the cmap 'sauron_r' which already exists.\u001b[0m \u001b[0;36m(UserWarning)\u001b[0m\n",
      "\u001b[1;33m[WARNING]: \u001b[0m\u001b[0;39mTrying to register the cmap 'sauron' which already exists.\u001b[0m \u001b[0;36m(UserWarning)\u001b[0m\n",
      "\u001b[1;33m[WARNING]: \u001b[0m\u001b[0;39mTrying to register the cmap 'sauron_r' which already exists.\u001b[0m \u001b[0;36m(UserWarning)\u001b[0m\n"
     ]
    },
    {
     "name": "stdout",
     "output_type": "stream",
     "text": [
      "  Kin PA: 105.5  +/-  12.2  (3*sigma error)\n",
      "Velocity Offset: 0.00\n"
     ]
    },
    {
     "name": "stderr",
     "output_type": "stream",
     "text": [
      "\u001b[1;33m[WARNING]: \u001b[0m\u001b[0;39mTrying to register the cmap 'sauron' which already exists.\u001b[0m \u001b[0;36m(UserWarning)\u001b[0m\n",
      "\u001b[1;33m[WARNING]: \u001b[0m\u001b[0;39mTrying to register the cmap 'sauron_r' which already exists.\u001b[0m \u001b[0;36m(UserWarning)\u001b[0m\n",
      "\u001b[1;33m[WARNING]: \u001b[0m\u001b[0;39mTrying to register the cmap 'sauron' which already exists.\u001b[0m \u001b[0;36m(UserWarning)\u001b[0m\n",
      "\u001b[1;33m[WARNING]: \u001b[0m\u001b[0;39mTrying to register the cmap 'sauron_r' which already exists.\u001b[0m \u001b[0;36m(UserWarning)\u001b[0m\n"
     ]
    },
    {
     "name": "stdout",
     "output_type": "stream",
     "text": [
      "  Kin PA:  56.0  +/-   0.5  (3*sigma error)\n",
      "Velocity Offset: 0.00\n"
     ]
    },
    {
     "name": "stderr",
     "output_type": "stream",
     "text": [
      "\u001b[1;33m[WARNING]: \u001b[0m\u001b[0;39mTrying to register the cmap 'sauron' which already exists.\u001b[0m \u001b[0;36m(UserWarning)\u001b[0m\n",
      "\u001b[1;33m[WARNING]: \u001b[0m\u001b[0;39mTrying to register the cmap 'sauron_r' which already exists.\u001b[0m \u001b[0;36m(UserWarning)\u001b[0m\n",
      "\u001b[1;33m[WARNING]: \u001b[0m\u001b[0;39mTrying to register the cmap 'sauron' which already exists.\u001b[0m \u001b[0;36m(UserWarning)\u001b[0m\n",
      "\u001b[1;33m[WARNING]: \u001b[0m\u001b[0;39mTrying to register the cmap 'sauron_r' which already exists.\u001b[0m \u001b[0;36m(UserWarning)\u001b[0m\n"
     ]
    },
    {
     "name": "stdout",
     "output_type": "stream",
     "text": [
      "  Kin PA:   1.5  +/-   7.0  (3*sigma error)\n",
      "Velocity Offset: 0.00\n"
     ]
    },
    {
     "name": "stderr",
     "output_type": "stream",
     "text": [
      "\u001b[1;33m[WARNING]: \u001b[0m\u001b[0;39mTrying to register the cmap 'sauron' which already exists.\u001b[0m \u001b[0;36m(UserWarning)\u001b[0m\n",
      "\u001b[1;33m[WARNING]: \u001b[0m\u001b[0;39mTrying to register the cmap 'sauron_r' which already exists.\u001b[0m \u001b[0;36m(UserWarning)\u001b[0m\n",
      "\u001b[1;33m[WARNING]: \u001b[0m\u001b[0;39mTrying to register the cmap 'sauron' which already exists.\u001b[0m \u001b[0;36m(UserWarning)\u001b[0m\n",
      "\u001b[1;33m[WARNING]: \u001b[0m\u001b[0;39mTrying to register the cmap 'sauron_r' which already exists.\u001b[0m \u001b[0;36m(UserWarning)\u001b[0m\n"
     ]
    },
    {
     "name": "stdout",
     "output_type": "stream",
     "text": [
      "  Kin PA: 104.5  +/-   0.5  (3*sigma error)\n",
      "Velocity Offset: 0.00\n"
     ]
    },
    {
     "name": "stderr",
     "output_type": "stream",
     "text": [
      "\u001b[1;33m[WARNING]: \u001b[0m\u001b[0;39mTrying to register the cmap 'sauron' which already exists.\u001b[0m \u001b[0;36m(UserWarning)\u001b[0m\n",
      "\u001b[1;33m[WARNING]: \u001b[0m\u001b[0;39mTrying to register the cmap 'sauron_r' which already exists.\u001b[0m \u001b[0;36m(UserWarning)\u001b[0m\n",
      "\u001b[1;33m[WARNING]: \u001b[0m\u001b[0;39mTrying to register the cmap 'sauron' which already exists.\u001b[0m \u001b[0;36m(UserWarning)\u001b[0m\n",
      "\u001b[1;33m[WARNING]: \u001b[0m\u001b[0;39mTrying to register the cmap 'sauron_r' which already exists.\u001b[0m \u001b[0;36m(UserWarning)\u001b[0m\n"
     ]
    },
    {
     "name": "stdout",
     "output_type": "stream",
     "text": [
      "  Kin PA: 154.0  +/-   0.5  (3*sigma error)\n",
      "Velocity Offset: 0.00\n"
     ]
    },
    {
     "name": "stderr",
     "output_type": "stream",
     "text": [
      "\u001b[1;33m[WARNING]: \u001b[0m\u001b[0;39mTrying to register the cmap 'sauron' which already exists.\u001b[0m \u001b[0;36m(UserWarning)\u001b[0m\n",
      "\u001b[1;33m[WARNING]: \u001b[0m\u001b[0;39mTrying to register the cmap 'sauron_r' which already exists.\u001b[0m \u001b[0;36m(UserWarning)\u001b[0m\n",
      "\u001b[1;33m[WARNING]: \u001b[0m\u001b[0;39mTrying to register the cmap 'sauron' which already exists.\u001b[0m \u001b[0;36m(UserWarning)\u001b[0m\n",
      "\u001b[1;33m[WARNING]: \u001b[0m\u001b[0;39mTrying to register the cmap 'sauron_r' which already exists.\u001b[0m \u001b[0;36m(UserWarning)\u001b[0m\n"
     ]
    },
    {
     "name": "stdout",
     "output_type": "stream",
     "text": [
      "  Kin PA:   7.0  +/-   7.2  (3*sigma error)\n",
      "Velocity Offset: 0.00\n"
     ]
    },
    {
     "name": "stderr",
     "output_type": "stream",
     "text": [
      "\u001b[1;33m[WARNING]: \u001b[0m\u001b[0;39mTrying to register the cmap 'sauron' which already exists.\u001b[0m \u001b[0;36m(UserWarning)\u001b[0m\n",
      "\u001b[1;33m[WARNING]: \u001b[0m\u001b[0;39mTrying to register the cmap 'sauron_r' which already exists.\u001b[0m \u001b[0;36m(UserWarning)\u001b[0m\n",
      "\u001b[1;33m[WARNING]: \u001b[0m\u001b[0;39mTrying to register the cmap 'sauron' which already exists.\u001b[0m \u001b[0;36m(UserWarning)\u001b[0m\n",
      "\u001b[1;33m[WARNING]: \u001b[0m\u001b[0;39mTrying to register the cmap 'sauron_r' which already exists.\u001b[0m \u001b[0;36m(UserWarning)\u001b[0m\n"
     ]
    },
    {
     "name": "stdout",
     "output_type": "stream",
     "text": [
      "  Kin PA: 125.5  +/-   6.5  (3*sigma error)\n",
      "Velocity Offset: 0.00\n"
     ]
    },
    {
     "name": "stderr",
     "output_type": "stream",
     "text": [
      "\u001b[1;33m[WARNING]: \u001b[0m\u001b[0;39mTrying to register the cmap 'sauron' which already exists.\u001b[0m \u001b[0;36m(UserWarning)\u001b[0m\n",
      "\u001b[1;33m[WARNING]: \u001b[0m\u001b[0;39mTrying to register the cmap 'sauron_r' which already exists.\u001b[0m \u001b[0;36m(UserWarning)\u001b[0m\n",
      "\u001b[1;33m[WARNING]: \u001b[0m\u001b[0;39mTrying to register the cmap 'sauron' which already exists.\u001b[0m \u001b[0;36m(UserWarning)\u001b[0m\n",
      "\u001b[1;33m[WARNING]: \u001b[0m\u001b[0;39mTrying to register the cmap 'sauron_r' which already exists.\u001b[0m \u001b[0;36m(UserWarning)\u001b[0m\n"
     ]
    },
    {
     "name": "stdout",
     "output_type": "stream",
     "text": [
      "  Kin PA:  22.5  +/-   0.5  (3*sigma error)\n",
      "Velocity Offset: 0.00\n"
     ]
    },
    {
     "name": "stderr",
     "output_type": "stream",
     "text": [
      "\u001b[1;33m[WARNING]: \u001b[0m\u001b[0;39mTrying to register the cmap 'sauron' which already exists.\u001b[0m \u001b[0;36m(UserWarning)\u001b[0m\n",
      "\u001b[1;33m[WARNING]: \u001b[0m\u001b[0;39mTrying to register the cmap 'sauron_r' which already exists.\u001b[0m \u001b[0;36m(UserWarning)\u001b[0m\n",
      "\u001b[1;33m[WARNING]: \u001b[0m\u001b[0;39mTrying to register the cmap 'sauron' which already exists.\u001b[0m \u001b[0;36m(UserWarning)\u001b[0m\n",
      "\u001b[1;33m[WARNING]: \u001b[0m\u001b[0;39mTrying to register the cmap 'sauron_r' which already exists.\u001b[0m \u001b[0;36m(UserWarning)\u001b[0m\n"
     ]
    },
    {
     "name": "stdout",
     "output_type": "stream",
     "text": [
      "  Kin PA:  48.0  +/-   4.5  (3*sigma error)\n",
      "Velocity Offset: 0.00\n"
     ]
    },
    {
     "name": "stderr",
     "output_type": "stream",
     "text": [
      "\u001b[1;33m[WARNING]: \u001b[0m\u001b[0;39mTrying to register the cmap 'sauron' which already exists.\u001b[0m \u001b[0;36m(UserWarning)\u001b[0m\n",
      "\u001b[1;33m[WARNING]: \u001b[0m\u001b[0;39mTrying to register the cmap 'sauron_r' which already exists.\u001b[0m \u001b[0;36m(UserWarning)\u001b[0m\n",
      "\u001b[1;33m[WARNING]: \u001b[0m\u001b[0;39mTrying to register the cmap 'sauron' which already exists.\u001b[0m \u001b[0;36m(UserWarning)\u001b[0m\n",
      "\u001b[1;33m[WARNING]: \u001b[0m\u001b[0;39mTrying to register the cmap 'sauron_r' which already exists.\u001b[0m \u001b[0;36m(UserWarning)\u001b[0m\n"
     ]
    },
    {
     "name": "stdout",
     "output_type": "stream",
     "text": [
      "  Kin PA:  62.0  +/-   0.5  (3*sigma error)\n",
      "Velocity Offset: 0.00\n"
     ]
    },
    {
     "name": "stderr",
     "output_type": "stream",
     "text": [
      "\u001b[1;33m[WARNING]: \u001b[0m\u001b[0;39mTrying to register the cmap 'sauron' which already exists.\u001b[0m \u001b[0;36m(UserWarning)\u001b[0m\n",
      "\u001b[1;33m[WARNING]: \u001b[0m\u001b[0;39mTrying to register the cmap 'sauron_r' which already exists.\u001b[0m \u001b[0;36m(UserWarning)\u001b[0m\n",
      "\u001b[1;33m[WARNING]: \u001b[0m\u001b[0;39mTrying to register the cmap 'sauron' which already exists.\u001b[0m \u001b[0;36m(UserWarning)\u001b[0m\n",
      "\u001b[1;33m[WARNING]: \u001b[0m\u001b[0;39mTrying to register the cmap 'sauron_r' which already exists.\u001b[0m \u001b[0;36m(UserWarning)\u001b[0m\n"
     ]
    },
    {
     "name": "stdout",
     "output_type": "stream",
     "text": [
      "  Kin PA:   8.5  +/-   7.5  (3*sigma error)\n",
      "Velocity Offset: 0.00\n"
     ]
    },
    {
     "name": "stderr",
     "output_type": "stream",
     "text": [
      "\u001b[1;33m[WARNING]: \u001b[0m\u001b[0;39mTrying to register the cmap 'sauron' which already exists.\u001b[0m \u001b[0;36m(UserWarning)\u001b[0m\n",
      "\u001b[1;33m[WARNING]: \u001b[0m\u001b[0;39mTrying to register the cmap 'sauron_r' which already exists.\u001b[0m \u001b[0;36m(UserWarning)\u001b[0m\n",
      "\u001b[1;33m[WARNING]: \u001b[0m\u001b[0;39mTrying to register the cmap 'sauron' which already exists.\u001b[0m \u001b[0;36m(UserWarning)\u001b[0m\n",
      "\u001b[1;33m[WARNING]: \u001b[0m\u001b[0;39mTrying to register the cmap 'sauron_r' which already exists.\u001b[0m \u001b[0;36m(UserWarning)\u001b[0m\n"
     ]
    },
    {
     "name": "stdout",
     "output_type": "stream",
     "text": [
      "  Kin PA: 108.5  +/-   0.5  (3*sigma error)\n",
      "Velocity Offset: 0.00\n"
     ]
    },
    {
     "name": "stderr",
     "output_type": "stream",
     "text": [
      "\u001b[1;33m[WARNING]: \u001b[0m\u001b[0;39mTrying to register the cmap 'sauron' which already exists.\u001b[0m \u001b[0;36m(UserWarning)\u001b[0m\n",
      "\u001b[1;33m[WARNING]: \u001b[0m\u001b[0;39mTrying to register the cmap 'sauron_r' which already exists.\u001b[0m \u001b[0;36m(UserWarning)\u001b[0m\n",
      "\u001b[1;33m[WARNING]: \u001b[0m\u001b[0;39mTrying to register the cmap 'sauron' which already exists.\u001b[0m \u001b[0;36m(UserWarning)\u001b[0m\n",
      "\u001b[1;33m[WARNING]: \u001b[0m\u001b[0;39mTrying to register the cmap 'sauron_r' which already exists.\u001b[0m \u001b[0;36m(UserWarning)\u001b[0m\n"
     ]
    },
    {
     "name": "stdout",
     "output_type": "stream",
     "text": [
      "  Kin PA:  60.5  +/-   7.8  (3*sigma error)\n",
      "Velocity Offset: 0.00\n"
     ]
    },
    {
     "name": "stderr",
     "output_type": "stream",
     "text": [
      "\u001b[1;33m[WARNING]: \u001b[0m\u001b[0;39mTrying to register the cmap 'sauron' which already exists.\u001b[0m \u001b[0;36m(UserWarning)\u001b[0m\n",
      "\u001b[1;33m[WARNING]: \u001b[0m\u001b[0;39mTrying to register the cmap 'sauron_r' which already exists.\u001b[0m \u001b[0;36m(UserWarning)\u001b[0m\n",
      "\u001b[1;33m[WARNING]: \u001b[0m\u001b[0;39mTrying to register the cmap 'sauron' which already exists.\u001b[0m \u001b[0;36m(UserWarning)\u001b[0m\n",
      "\u001b[1;33m[WARNING]: \u001b[0m\u001b[0;39mTrying to register the cmap 'sauron_r' which already exists.\u001b[0m \u001b[0;36m(UserWarning)\u001b[0m\n"
     ]
    },
    {
     "name": "stdout",
     "output_type": "stream",
     "text": [
      "  Kin PA:  26.0  +/-  37.5  (3*sigma error)\n",
      "Velocity Offset: 0.00\n"
     ]
    },
    {
     "name": "stderr",
     "output_type": "stream",
     "text": [
      "\u001b[1;33m[WARNING]: \u001b[0m\u001b[0;39mTrying to register the cmap 'sauron' which already exists.\u001b[0m \u001b[0;36m(UserWarning)\u001b[0m\n",
      "\u001b[1;33m[WARNING]: \u001b[0m\u001b[0;39mTrying to register the cmap 'sauron_r' which already exists.\u001b[0m \u001b[0;36m(UserWarning)\u001b[0m\n",
      "\u001b[1;33m[WARNING]: \u001b[0m\u001b[0;39mTrying to register the cmap 'sauron' which already exists.\u001b[0m \u001b[0;36m(UserWarning)\u001b[0m\n",
      "\u001b[1;33m[WARNING]: \u001b[0m\u001b[0;39mTrying to register the cmap 'sauron_r' which already exists.\u001b[0m \u001b[0;36m(UserWarning)\u001b[0m\n"
     ]
    },
    {
     "name": "stdout",
     "output_type": "stream",
     "text": [
      "  Kin PA:  37.5  +/-   6.0  (3*sigma error)\n",
      "Velocity Offset: 0.00\n"
     ]
    },
    {
     "name": "stderr",
     "output_type": "stream",
     "text": [
      "\u001b[1;33m[WARNING]: \u001b[0m\u001b[0;39mTrying to register the cmap 'sauron' which already exists.\u001b[0m \u001b[0;36m(UserWarning)\u001b[0m\n",
      "\u001b[1;33m[WARNING]: \u001b[0m\u001b[0;39mTrying to register the cmap 'sauron_r' which already exists.\u001b[0m \u001b[0;36m(UserWarning)\u001b[0m\n",
      "\u001b[1;33m[WARNING]: \u001b[0m\u001b[0;39mTrying to register the cmap 'sauron' which already exists.\u001b[0m \u001b[0;36m(UserWarning)\u001b[0m\n",
      "\u001b[1;33m[WARNING]: \u001b[0m\u001b[0;39mTrying to register the cmap 'sauron_r' which already exists.\u001b[0m \u001b[0;36m(UserWarning)\u001b[0m\n"
     ]
    },
    {
     "name": "stdout",
     "output_type": "stream",
     "text": [
      "  Kin PA: 168.5  +/-   0.5  (3*sigma error)\n",
      "Velocity Offset: 0.00\n"
     ]
    },
    {
     "name": "stderr",
     "output_type": "stream",
     "text": [
      "\u001b[1;33m[WARNING]: \u001b[0m\u001b[0;39mTrying to register the cmap 'sauron' which already exists.\u001b[0m \u001b[0;36m(UserWarning)\u001b[0m\n",
      "\u001b[1;33m[WARNING]: \u001b[0m\u001b[0;39mTrying to register the cmap 'sauron_r' which already exists.\u001b[0m \u001b[0;36m(UserWarning)\u001b[0m\n",
      "\u001b[1;33m[WARNING]: \u001b[0m\u001b[0;39mTrying to register the cmap 'sauron' which already exists.\u001b[0m \u001b[0;36m(UserWarning)\u001b[0m\n",
      "\u001b[1;33m[WARNING]: \u001b[0m\u001b[0;39mTrying to register the cmap 'sauron_r' which already exists.\u001b[0m \u001b[0;36m(UserWarning)\u001b[0m\n"
     ]
    },
    {
     "name": "stdout",
     "output_type": "stream",
     "text": [
      "  Kin PA: 152.5  +/-   9.8  (3*sigma error)\n",
      "Velocity Offset: 0.00\n"
     ]
    },
    {
     "name": "stderr",
     "output_type": "stream",
     "text": [
      "\u001b[1;33m[WARNING]: \u001b[0m\u001b[0;39mTrying to register the cmap 'sauron' which already exists.\u001b[0m \u001b[0;36m(UserWarning)\u001b[0m\n",
      "\u001b[1;33m[WARNING]: \u001b[0m\u001b[0;39mTrying to register the cmap 'sauron_r' which already exists.\u001b[0m \u001b[0;36m(UserWarning)\u001b[0m\n",
      "\u001b[1;33m[WARNING]: \u001b[0m\u001b[0;39mTrying to register the cmap 'sauron' which already exists.\u001b[0m \u001b[0;36m(UserWarning)\u001b[0m\n",
      "\u001b[1;33m[WARNING]: \u001b[0m\u001b[0;39mTrying to register the cmap 'sauron_r' which already exists.\u001b[0m \u001b[0;36m(UserWarning)\u001b[0m\n"
     ]
    },
    {
     "name": "stdout",
     "output_type": "stream",
     "text": [
      "  Kin PA: 102.0  +/-   0.5  (3*sigma error)\n",
      "Velocity Offset: 0.00\n"
     ]
    },
    {
     "name": "stderr",
     "output_type": "stream",
     "text": [
      "\u001b[1;33m[WARNING]: \u001b[0m\u001b[0;39mTrying to register the cmap 'sauron' which already exists.\u001b[0m \u001b[0;36m(UserWarning)\u001b[0m\n",
      "\u001b[1;33m[WARNING]: \u001b[0m\u001b[0;39mTrying to register the cmap 'sauron_r' which already exists.\u001b[0m \u001b[0;36m(UserWarning)\u001b[0m\n",
      "\u001b[1;33m[WARNING]: \u001b[0m\u001b[0;39mTrying to register the cmap 'sauron' which already exists.\u001b[0m \u001b[0;36m(UserWarning)\u001b[0m\n",
      "\u001b[1;33m[WARNING]: \u001b[0m\u001b[0;39mTrying to register the cmap 'sauron_r' which already exists.\u001b[0m \u001b[0;36m(UserWarning)\u001b[0m\n"
     ]
    },
    {
     "name": "stdout",
     "output_type": "stream",
     "text": [
      "  Kin PA:  95.0  +/-  38.2  (3*sigma error)\n",
      "Velocity Offset: 0.00\n"
     ]
    },
    {
     "name": "stderr",
     "output_type": "stream",
     "text": [
      "\u001b[1;33m[WARNING]: \u001b[0m\u001b[0;39mTrying to register the cmap 'sauron' which already exists.\u001b[0m \u001b[0;36m(UserWarning)\u001b[0m\n",
      "\u001b[1;33m[WARNING]: \u001b[0m\u001b[0;39mTrying to register the cmap 'sauron_r' which already exists.\u001b[0m \u001b[0;36m(UserWarning)\u001b[0m\n",
      "\u001b[1;33m[WARNING]: \u001b[0m\u001b[0;39mTrying to register the cmap 'sauron' which already exists.\u001b[0m \u001b[0;36m(UserWarning)\u001b[0m\n",
      "\u001b[1;33m[WARNING]: \u001b[0m\u001b[0;39mTrying to register the cmap 'sauron_r' which already exists.\u001b[0m \u001b[0;36m(UserWarning)\u001b[0m\n"
     ]
    },
    {
     "name": "stdout",
     "output_type": "stream",
     "text": [
      "  Kin PA: 155.5  +/-   0.5  (3*sigma error)\n",
      "Velocity Offset: 0.00\n"
     ]
    },
    {
     "name": "stderr",
     "output_type": "stream",
     "text": [
      "\u001b[1;33m[WARNING]: \u001b[0m\u001b[0;39mTrying to register the cmap 'sauron' which already exists.\u001b[0m \u001b[0;36m(UserWarning)\u001b[0m\n",
      "\u001b[1;33m[WARNING]: \u001b[0m\u001b[0;39mTrying to register the cmap 'sauron_r' which already exists.\u001b[0m \u001b[0;36m(UserWarning)\u001b[0m\n",
      "\u001b[1;33m[WARNING]: \u001b[0m\u001b[0;39mTrying to register the cmap 'sauron' which already exists.\u001b[0m \u001b[0;36m(UserWarning)\u001b[0m\n",
      "\u001b[1;33m[WARNING]: \u001b[0m\u001b[0;39mTrying to register the cmap 'sauron_r' which already exists.\u001b[0m \u001b[0;36m(UserWarning)\u001b[0m\n"
     ]
    },
    {
     "name": "stdout",
     "output_type": "stream",
     "text": [
      "  Kin PA: 115.0  +/-   2.5  (3*sigma error)\n",
      "Velocity Offset: 0.00\n"
     ]
    },
    {
     "name": "stderr",
     "output_type": "stream",
     "text": [
      "\u001b[1;33m[WARNING]: \u001b[0m\u001b[0;39mTrying to register the cmap 'sauron' which already exists.\u001b[0m \u001b[0;36m(UserWarning)\u001b[0m\n",
      "\u001b[1;33m[WARNING]: \u001b[0m\u001b[0;39mTrying to register the cmap 'sauron_r' which already exists.\u001b[0m \u001b[0;36m(UserWarning)\u001b[0m\n",
      "\u001b[1;33m[WARNING]: \u001b[0m\u001b[0;39mTrying to register the cmap 'sauron' which already exists.\u001b[0m \u001b[0;36m(UserWarning)\u001b[0m\n",
      "\u001b[1;33m[WARNING]: \u001b[0m\u001b[0;39mTrying to register the cmap 'sauron_r' which already exists.\u001b[0m \u001b[0;36m(UserWarning)\u001b[0m\n"
     ]
    },
    {
     "name": "stdout",
     "output_type": "stream",
     "text": [
      "  Kin PA: 136.0  +/-   0.5  (3*sigma error)\n",
      "Velocity Offset: 0.00\n"
     ]
    },
    {
     "name": "stderr",
     "output_type": "stream",
     "text": [
      "\u001b[1;33m[WARNING]: \u001b[0m\u001b[0;39mTrying to register the cmap 'sauron' which already exists.\u001b[0m \u001b[0;36m(UserWarning)\u001b[0m\n",
      "\u001b[1;33m[WARNING]: \u001b[0m\u001b[0;39mTrying to register the cmap 'sauron_r' which already exists.\u001b[0m \u001b[0;36m(UserWarning)\u001b[0m\n",
      "\u001b[1;33m[WARNING]: \u001b[0m\u001b[0;39mTrying to register the cmap 'sauron' which already exists.\u001b[0m \u001b[0;36m(UserWarning)\u001b[0m\n",
      "\u001b[1;33m[WARNING]: \u001b[0m\u001b[0;39mTrying to register the cmap 'sauron_r' which already exists.\u001b[0m \u001b[0;36m(UserWarning)\u001b[0m\n"
     ]
    },
    {
     "name": "stdout",
     "output_type": "stream",
     "text": [
      "  Kin PA:  91.0  +/-   4.0  (3*sigma error)\n",
      "Velocity Offset: 0.00\n"
     ]
    },
    {
     "name": "stderr",
     "output_type": "stream",
     "text": [
      "\u001b[1;33m[WARNING]: \u001b[0m\u001b[0;39mTrying to register the cmap 'sauron' which already exists.\u001b[0m \u001b[0;36m(UserWarning)\u001b[0m\n",
      "\u001b[1;33m[WARNING]: \u001b[0m\u001b[0;39mTrying to register the cmap 'sauron_r' which already exists.\u001b[0m \u001b[0;36m(UserWarning)\u001b[0m\n",
      "\u001b[1;33m[WARNING]: \u001b[0m\u001b[0;39mTrying to register the cmap 'sauron' which already exists.\u001b[0m \u001b[0;36m(UserWarning)\u001b[0m\n",
      "\u001b[1;33m[WARNING]: \u001b[0m\u001b[0;39mTrying to register the cmap 'sauron_r' which already exists.\u001b[0m \u001b[0;36m(UserWarning)\u001b[0m\n"
     ]
    },
    {
     "name": "stdout",
     "output_type": "stream",
     "text": [
      "  Kin PA: 114.0  +/-   0.5  (3*sigma error)\n",
      "Velocity Offset: 0.00\n"
     ]
    },
    {
     "name": "stderr",
     "output_type": "stream",
     "text": [
      "\u001b[1;33m[WARNING]: \u001b[0m\u001b[0;39mTrying to register the cmap 'sauron' which already exists.\u001b[0m \u001b[0;36m(UserWarning)\u001b[0m\n",
      "\u001b[1;33m[WARNING]: \u001b[0m\u001b[0;39mTrying to register the cmap 'sauron_r' which already exists.\u001b[0m \u001b[0;36m(UserWarning)\u001b[0m\n",
      "\u001b[1;33m[WARNING]: \u001b[0m\u001b[0;39mTrying to register the cmap 'sauron' which already exists.\u001b[0m \u001b[0;36m(UserWarning)\u001b[0m\n",
      "\u001b[1;33m[WARNING]: \u001b[0m\u001b[0;39mTrying to register the cmap 'sauron_r' which already exists.\u001b[0m \u001b[0;36m(UserWarning)\u001b[0m\n"
     ]
    },
    {
     "name": "stdout",
     "output_type": "stream",
     "text": [
      "  Kin PA: 158.0  +/-   8.0  (3*sigma error)\n",
      "Velocity Offset: 0.00\n"
     ]
    },
    {
     "name": "stderr",
     "output_type": "stream",
     "text": [
      "\u001b[1;33m[WARNING]: \u001b[0m\u001b[0;39mTrying to register the cmap 'sauron' which already exists.\u001b[0m \u001b[0;36m(UserWarning)\u001b[0m\n",
      "\u001b[1;33m[WARNING]: \u001b[0m\u001b[0;39mTrying to register the cmap 'sauron_r' which already exists.\u001b[0m \u001b[0;36m(UserWarning)\u001b[0m\n",
      "\u001b[1;33m[WARNING]: \u001b[0m\u001b[0;39mTrying to register the cmap 'sauron' which already exists.\u001b[0m \u001b[0;36m(UserWarning)\u001b[0m\n",
      "\u001b[1;33m[WARNING]: \u001b[0m\u001b[0;39mTrying to register the cmap 'sauron_r' which already exists.\u001b[0m \u001b[0;36m(UserWarning)\u001b[0m\n"
     ]
    },
    {
     "name": "stdout",
     "output_type": "stream",
     "text": [
      "  Kin PA: 123.5  +/-   0.5  (3*sigma error)\n",
      "Velocity Offset: 0.00\n"
     ]
    },
    {
     "name": "stderr",
     "output_type": "stream",
     "text": [
      "\u001b[1;33m[WARNING]: \u001b[0m\u001b[0;39mTrying to register the cmap 'sauron' which already exists.\u001b[0m \u001b[0;36m(UserWarning)\u001b[0m\n",
      "\u001b[1;33m[WARNING]: \u001b[0m\u001b[0;39mTrying to register the cmap 'sauron_r' which already exists.\u001b[0m \u001b[0;36m(UserWarning)\u001b[0m\n",
      "\u001b[1;33m[WARNING]: \u001b[0m\u001b[0;39mTrying to register the cmap 'sauron' which already exists.\u001b[0m \u001b[0;36m(UserWarning)\u001b[0m\n",
      "\u001b[1;33m[WARNING]: \u001b[0m\u001b[0;39mTrying to register the cmap 'sauron_r' which already exists.\u001b[0m \u001b[0;36m(UserWarning)\u001b[0m\n"
     ]
    },
    {
     "name": "stdout",
     "output_type": "stream",
     "text": [
      "  Kin PA:  17.5  +/-  20.8  (3*sigma error)\n",
      "Velocity Offset: 0.00\n"
     ]
    },
    {
     "name": "stderr",
     "output_type": "stream",
     "text": [
      "\u001b[1;33m[WARNING]: \u001b[0m\u001b[0;39mTrying to register the cmap 'sauron' which already exists.\u001b[0m \u001b[0;36m(UserWarning)\u001b[0m\n",
      "\u001b[1;33m[WARNING]: \u001b[0m\u001b[0;39mTrying to register the cmap 'sauron_r' which already exists.\u001b[0m \u001b[0;36m(UserWarning)\u001b[0m\n",
      "\u001b[1;33m[WARNING]: \u001b[0m\u001b[0;39mTrying to register the cmap 'sauron' which already exists.\u001b[0m \u001b[0;36m(UserWarning)\u001b[0m\n",
      "\u001b[1;33m[WARNING]: \u001b[0m\u001b[0;39mTrying to register the cmap 'sauron_r' which already exists.\u001b[0m \u001b[0;36m(UserWarning)\u001b[0m\n"
     ]
    },
    {
     "name": "stdout",
     "output_type": "stream",
     "text": [
      "  Kin PA:  33.0  +/-   0.5  (3*sigma error)\n",
      "Velocity Offset: 0.00\n"
     ]
    },
    {
     "name": "stderr",
     "output_type": "stream",
     "text": [
      "\u001b[1;33m[WARNING]: \u001b[0m\u001b[0;39mTrying to register the cmap 'sauron' which already exists.\u001b[0m \u001b[0;36m(UserWarning)\u001b[0m\n",
      "\u001b[1;33m[WARNING]: \u001b[0m\u001b[0;39mTrying to register the cmap 'sauron_r' which already exists.\u001b[0m \u001b[0;36m(UserWarning)\u001b[0m\n",
      "\u001b[1;33m[WARNING]: \u001b[0m\u001b[0;39mTrying to register the cmap 'sauron' which already exists.\u001b[0m \u001b[0;36m(UserWarning)\u001b[0m\n",
      "\u001b[1;33m[WARNING]: \u001b[0m\u001b[0;39mTrying to register the cmap 'sauron_r' which already exists.\u001b[0m \u001b[0;36m(UserWarning)\u001b[0m\n"
     ]
    },
    {
     "name": "stdout",
     "output_type": "stream",
     "text": [
      "  Kin PA:  46.0  +/-   5.0  (3*sigma error)\n",
      "Velocity Offset: 0.00\n"
     ]
    },
    {
     "name": "stderr",
     "output_type": "stream",
     "text": [
      "\u001b[1;33m[WARNING]: \u001b[0m\u001b[0;39mTrying to register the cmap 'sauron' which already exists.\u001b[0m \u001b[0;36m(UserWarning)\u001b[0m\n",
      "\u001b[1;33m[WARNING]: \u001b[0m\u001b[0;39mTrying to register the cmap 'sauron_r' which already exists.\u001b[0m \u001b[0;36m(UserWarning)\u001b[0m\n",
      "\u001b[1;33m[WARNING]: \u001b[0m\u001b[0;39mTrying to register the cmap 'sauron' which already exists.\u001b[0m \u001b[0;36m(UserWarning)\u001b[0m\n",
      "\u001b[1;33m[WARNING]: \u001b[0m\u001b[0;39mTrying to register the cmap 'sauron_r' which already exists.\u001b[0m \u001b[0;36m(UserWarning)\u001b[0m\n"
     ]
    },
    {
     "name": "stdout",
     "output_type": "stream",
     "text": [
      "  Kin PA:  86.5  +/-   0.5  (3*sigma error)\n",
      "Velocity Offset: 0.00\n"
     ]
    },
    {
     "name": "stderr",
     "output_type": "stream",
     "text": [
      "\u001b[1;33m[WARNING]: \u001b[0m\u001b[0;39mTrying to register the cmap 'sauron' which already exists.\u001b[0m \u001b[0;36m(UserWarning)\u001b[0m\n",
      "\u001b[1;33m[WARNING]: \u001b[0m\u001b[0;39mTrying to register the cmap 'sauron_r' which already exists.\u001b[0m \u001b[0;36m(UserWarning)\u001b[0m\n",
      "\u001b[1;33m[WARNING]: \u001b[0m\u001b[0;39mTrying to register the cmap 'sauron' which already exists.\u001b[0m \u001b[0;36m(UserWarning)\u001b[0m\n",
      "\u001b[1;33m[WARNING]: \u001b[0m\u001b[0;39mTrying to register the cmap 'sauron_r' which already exists.\u001b[0m \u001b[0;36m(UserWarning)\u001b[0m\n"
     ]
    },
    {
     "name": "stdout",
     "output_type": "stream",
     "text": [
      "  Kin PA: 134.0  +/-   9.5  (3*sigma error)\n",
      "Velocity Offset: 0.00\n"
     ]
    },
    {
     "name": "stderr",
     "output_type": "stream",
     "text": [
      "\u001b[1;33m[WARNING]: \u001b[0m\u001b[0;39mTrying to register the cmap 'sauron' which already exists.\u001b[0m \u001b[0;36m(UserWarning)\u001b[0m\n",
      "\u001b[1;33m[WARNING]: \u001b[0m\u001b[0;39mTrying to register the cmap 'sauron_r' which already exists.\u001b[0m \u001b[0;36m(UserWarning)\u001b[0m\n",
      "\u001b[1;33m[WARNING]: \u001b[0m\u001b[0;39mTrying to register the cmap 'sauron' which already exists.\u001b[0m \u001b[0;36m(UserWarning)\u001b[0m\n",
      "\u001b[1;33m[WARNING]: \u001b[0m\u001b[0;39mTrying to register the cmap 'sauron_r' which already exists.\u001b[0m \u001b[0;36m(UserWarning)\u001b[0m\n"
     ]
    },
    {
     "name": "stdout",
     "output_type": "stream",
     "text": [
      "  Kin PA:   7.5  +/-   0.5  (3*sigma error)\n",
      "Velocity Offset: 0.00\n"
     ]
    },
    {
     "name": "stderr",
     "output_type": "stream",
     "text": [
      "\u001b[1;33m[WARNING]: \u001b[0m\u001b[0;39mTrying to register the cmap 'sauron' which already exists.\u001b[0m \u001b[0;36m(UserWarning)\u001b[0m\n",
      "\u001b[1;33m[WARNING]: \u001b[0m\u001b[0;39mTrying to register the cmap 'sauron_r' which already exists.\u001b[0m \u001b[0;36m(UserWarning)\u001b[0m\n",
      "\u001b[1;33m[WARNING]: \u001b[0m\u001b[0;39mTrying to register the cmap 'sauron' which already exists.\u001b[0m \u001b[0;36m(UserWarning)\u001b[0m\n",
      "\u001b[1;33m[WARNING]: \u001b[0m\u001b[0;39mTrying to register the cmap 'sauron_r' which already exists.\u001b[0m \u001b[0;36m(UserWarning)\u001b[0m\n"
     ]
    },
    {
     "name": "stdout",
     "output_type": "stream",
     "text": [
      "  Kin PA:  12.5  +/-  17.2  (3*sigma error)\n",
      "Velocity Offset: 0.00\n"
     ]
    },
    {
     "name": "stderr",
     "output_type": "stream",
     "text": [
      "\u001b[1;33m[WARNING]: \u001b[0m\u001b[0;39mTrying to register the cmap 'sauron' which already exists.\u001b[0m \u001b[0;36m(UserWarning)\u001b[0m\n",
      "\u001b[1;33m[WARNING]: \u001b[0m\u001b[0;39mTrying to register the cmap 'sauron_r' which already exists.\u001b[0m \u001b[0;36m(UserWarning)\u001b[0m\n",
      "\u001b[1;33m[WARNING]: \u001b[0m\u001b[0;39mTrying to register the cmap 'sauron' which already exists.\u001b[0m \u001b[0;36m(UserWarning)\u001b[0m\n",
      "\u001b[1;33m[WARNING]: \u001b[0m\u001b[0;39mTrying to register the cmap 'sauron_r' which already exists.\u001b[0m \u001b[0;36m(UserWarning)\u001b[0m\n"
     ]
    },
    {
     "name": "stdout",
     "output_type": "stream",
     "text": [
      "  Kin PA:  68.5  +/-  26.5  (3*sigma error)\n",
      "Velocity Offset: 0.00\n"
     ]
    },
    {
     "name": "stderr",
     "output_type": "stream",
     "text": [
      "\u001b[1;33m[WARNING]: \u001b[0m\u001b[0;39mTrying to register the cmap 'sauron' which already exists.\u001b[0m \u001b[0;36m(UserWarning)\u001b[0m\n",
      "\u001b[1;33m[WARNING]: \u001b[0m\u001b[0;39mTrying to register the cmap 'sauron_r' which already exists.\u001b[0m \u001b[0;36m(UserWarning)\u001b[0m\n",
      "\u001b[1;33m[WARNING]: \u001b[0m\u001b[0;39mTrying to register the cmap 'sauron' which already exists.\u001b[0m \u001b[0;36m(UserWarning)\u001b[0m\n",
      "\u001b[1;33m[WARNING]: \u001b[0m\u001b[0;39mTrying to register the cmap 'sauron_r' which already exists.\u001b[0m \u001b[0;36m(UserWarning)\u001b[0m\n"
     ]
    },
    {
     "name": "stdout",
     "output_type": "stream",
     "text": [
      "  Kin PA: 172.5  +/-  34.3  (3*sigma error)\n",
      "Velocity Offset: 0.00\n"
     ]
    },
    {
     "name": "stderr",
     "output_type": "stream",
     "text": [
      "\u001b[1;33m[WARNING]: \u001b[0m\u001b[0;39mTrying to register the cmap 'sauron' which already exists.\u001b[0m \u001b[0;36m(UserWarning)\u001b[0m\n",
      "\u001b[1;33m[WARNING]: \u001b[0m\u001b[0;39mTrying to register the cmap 'sauron_r' which already exists.\u001b[0m \u001b[0;36m(UserWarning)\u001b[0m\n",
      "\u001b[1;33m[WARNING]: \u001b[0m\u001b[0;39mTrying to register the cmap 'sauron' which already exists.\u001b[0m \u001b[0;36m(UserWarning)\u001b[0m\n",
      "\u001b[1;33m[WARNING]: \u001b[0m\u001b[0;39mTrying to register the cmap 'sauron_r' which already exists.\u001b[0m \u001b[0;36m(UserWarning)\u001b[0m\n"
     ]
    },
    {
     "name": "stdout",
     "output_type": "stream",
     "text": [
      "  Kin PA:  84.0  +/-   0.5  (3*sigma error)\n",
      "Velocity Offset: 0.00\n"
     ]
    },
    {
     "name": "stderr",
     "output_type": "stream",
     "text": [
      "\u001b[1;33m[WARNING]: \u001b[0m\u001b[0;39mTrying to register the cmap 'sauron' which already exists.\u001b[0m \u001b[0;36m(UserWarning)\u001b[0m\n",
      "\u001b[1;33m[WARNING]: \u001b[0m\u001b[0;39mTrying to register the cmap 'sauron_r' which already exists.\u001b[0m \u001b[0;36m(UserWarning)\u001b[0m\n",
      "\u001b[1;33m[WARNING]: \u001b[0m\u001b[0;39mTrying to register the cmap 'sauron' which already exists.\u001b[0m \u001b[0;36m(UserWarning)\u001b[0m\n",
      "\u001b[1;33m[WARNING]: \u001b[0m\u001b[0;39mTrying to register the cmap 'sauron_r' which already exists.\u001b[0m \u001b[0;36m(UserWarning)\u001b[0m\n"
     ]
    },
    {
     "name": "stdout",
     "output_type": "stream",
     "text": [
      "  Kin PA:  20.5  +/-   7.5  (3*sigma error)\n",
      "Velocity Offset: 0.00\n"
     ]
    },
    {
     "name": "stderr",
     "output_type": "stream",
     "text": [
      "\u001b[1;33m[WARNING]: \u001b[0m\u001b[0;39mTrying to register the cmap 'sauron' which already exists.\u001b[0m \u001b[0;36m(UserWarning)\u001b[0m\n",
      "\u001b[1;33m[WARNING]: \u001b[0m\u001b[0;39mTrying to register the cmap 'sauron_r' which already exists.\u001b[0m \u001b[0;36m(UserWarning)\u001b[0m\n",
      "\u001b[1;33m[WARNING]: \u001b[0m\u001b[0;39mTrying to register the cmap 'sauron' which already exists.\u001b[0m \u001b[0;36m(UserWarning)\u001b[0m\n",
      "\u001b[1;33m[WARNING]: \u001b[0m\u001b[0;39mTrying to register the cmap 'sauron_r' which already exists.\u001b[0m \u001b[0;36m(UserWarning)\u001b[0m\n"
     ]
    },
    {
     "name": "stdout",
     "output_type": "stream",
     "text": [
      "  Kin PA: 124.0  +/-   0.5  (3*sigma error)\n",
      "Velocity Offset: 0.00\n"
     ]
    },
    {
     "name": "stderr",
     "output_type": "stream",
     "text": [
      "\u001b[1;33m[WARNING]: \u001b[0m\u001b[0;39mTrying to register the cmap 'sauron' which already exists.\u001b[0m \u001b[0;36m(UserWarning)\u001b[0m\n",
      "\u001b[1;33m[WARNING]: \u001b[0m\u001b[0;39mTrying to register the cmap 'sauron_r' which already exists.\u001b[0m \u001b[0;36m(UserWarning)\u001b[0m\n",
      "\u001b[1;33m[WARNING]: \u001b[0m\u001b[0;39mTrying to register the cmap 'sauron' which already exists.\u001b[0m \u001b[0;36m(UserWarning)\u001b[0m\n",
      "\u001b[1;33m[WARNING]: \u001b[0m\u001b[0;39mTrying to register the cmap 'sauron_r' which already exists.\u001b[0m \u001b[0;36m(UserWarning)\u001b[0m\n"
     ]
    },
    {
     "name": "stdout",
     "output_type": "stream",
     "text": [
      "  Kin PA: 128.5  +/-   5.5  (3*sigma error)\n",
      "Velocity Offset: 0.00\n"
     ]
    },
    {
     "name": "stderr",
     "output_type": "stream",
     "text": [
      "\u001b[1;33m[WARNING]: \u001b[0m\u001b[0;39mTrying to register the cmap 'sauron' which already exists.\u001b[0m \u001b[0;36m(UserWarning)\u001b[0m\n",
      "\u001b[1;33m[WARNING]: \u001b[0m\u001b[0;39mTrying to register the cmap 'sauron_r' which already exists.\u001b[0m \u001b[0;36m(UserWarning)\u001b[0m\n",
      "\u001b[1;33m[WARNING]: \u001b[0m\u001b[0;39mTrying to register the cmap 'sauron' which already exists.\u001b[0m \u001b[0;36m(UserWarning)\u001b[0m\n",
      "\u001b[1;33m[WARNING]: \u001b[0m\u001b[0;39mTrying to register the cmap 'sauron_r' which already exists.\u001b[0m \u001b[0;36m(UserWarning)\u001b[0m\n"
     ]
    },
    {
     "name": "stdout",
     "output_type": "stream",
     "text": [
      "  Kin PA:  73.0  +/-   0.5  (3*sigma error)\n",
      "Velocity Offset: 0.00\n"
     ]
    },
    {
     "name": "stderr",
     "output_type": "stream",
     "text": [
      "\u001b[1;33m[WARNING]: \u001b[0m\u001b[0;39mTrying to register the cmap 'sauron' which already exists.\u001b[0m \u001b[0;36m(UserWarning)\u001b[0m\n",
      "\u001b[1;33m[WARNING]: \u001b[0m\u001b[0;39mTrying to register the cmap 'sauron_r' which already exists.\u001b[0m \u001b[0;36m(UserWarning)\u001b[0m\n",
      "\u001b[1;33m[WARNING]: \u001b[0m\u001b[0;39mTrying to register the cmap 'sauron' which already exists.\u001b[0m \u001b[0;36m(UserWarning)\u001b[0m\n",
      "\u001b[1;33m[WARNING]: \u001b[0m\u001b[0;39mTrying to register the cmap 'sauron_r' which already exists.\u001b[0m \u001b[0;36m(UserWarning)\u001b[0m\n"
     ]
    },
    {
     "name": "stdout",
     "output_type": "stream",
     "text": [
      "  Kin PA:  57.0  +/-   5.2  (3*sigma error)\n",
      "Velocity Offset: 0.00\n"
     ]
    },
    {
     "name": "stderr",
     "output_type": "stream",
     "text": [
      "\u001b[1;33m[WARNING]: \u001b[0m\u001b[0;39mTrying to register the cmap 'sauron' which already exists.\u001b[0m \u001b[0;36m(UserWarning)\u001b[0m\n",
      "\u001b[1;33m[WARNING]: \u001b[0m\u001b[0;39mTrying to register the cmap 'sauron_r' which already exists.\u001b[0m \u001b[0;36m(UserWarning)\u001b[0m\n",
      "\u001b[1;33m[WARNING]: \u001b[0m\u001b[0;39mTrying to register the cmap 'sauron' which already exists.\u001b[0m \u001b[0;36m(UserWarning)\u001b[0m\n",
      "\u001b[1;33m[WARNING]: \u001b[0m\u001b[0;39mTrying to register the cmap 'sauron_r' which already exists.\u001b[0m \u001b[0;36m(UserWarning)\u001b[0m\n"
     ]
    },
    {
     "name": "stdout",
     "output_type": "stream",
     "text": [
      "  Kin PA:  38.5  +/-  11.5  (3*sigma error)\n",
      "Velocity Offset: 0.00\n"
     ]
    },
    {
     "name": "stderr",
     "output_type": "stream",
     "text": [
      "\u001b[1;33m[WARNING]: \u001b[0m\u001b[0;39mTrying to register the cmap 'sauron' which already exists.\u001b[0m \u001b[0;36m(UserWarning)\u001b[0m\n",
      "\u001b[1;33m[WARNING]: \u001b[0m\u001b[0;39mTrying to register the cmap 'sauron_r' which already exists.\u001b[0m \u001b[0;36m(UserWarning)\u001b[0m\n",
      "\u001b[1;33m[WARNING]: \u001b[0m\u001b[0;39mTrying to register the cmap 'sauron' which already exists.\u001b[0m \u001b[0;36m(UserWarning)\u001b[0m\n",
      "\u001b[1;33m[WARNING]: \u001b[0m\u001b[0;39mTrying to register the cmap 'sauron_r' which already exists.\u001b[0m \u001b[0;36m(UserWarning)\u001b[0m\n"
     ]
    },
    {
     "name": "stdout",
     "output_type": "stream",
     "text": [
      "  Kin PA: 102.5  +/-  11.2  (3*sigma error)\n",
      "Velocity Offset: 0.00\n"
     ]
    },
    {
     "name": "stderr",
     "output_type": "stream",
     "text": [
      "\u001b[1;33m[WARNING]: \u001b[0m\u001b[0;39mTrying to register the cmap 'sauron' which already exists.\u001b[0m \u001b[0;36m(UserWarning)\u001b[0m\n",
      "\u001b[1;33m[WARNING]: \u001b[0m\u001b[0;39mTrying to register the cmap 'sauron_r' which already exists.\u001b[0m \u001b[0;36m(UserWarning)\u001b[0m\n",
      "\u001b[1;33m[WARNING]: \u001b[0m\u001b[0;39mTrying to register the cmap 'sauron' which already exists.\u001b[0m \u001b[0;36m(UserWarning)\u001b[0m\n",
      "\u001b[1;33m[WARNING]: \u001b[0m\u001b[0;39mTrying to register the cmap 'sauron_r' which already exists.\u001b[0m \u001b[0;36m(UserWarning)\u001b[0m\n"
     ]
    },
    {
     "name": "stdout",
     "output_type": "stream",
     "text": [
      "  Kin PA:  29.0  +/-   0.5  (3*sigma error)\n",
      "Velocity Offset: 0.00\n"
     ]
    },
    {
     "name": "stderr",
     "output_type": "stream",
     "text": [
      "\u001b[1;33m[WARNING]: \u001b[0m\u001b[0;39mTrying to register the cmap 'sauron' which already exists.\u001b[0m \u001b[0;36m(UserWarning)\u001b[0m\n",
      "\u001b[1;33m[WARNING]: \u001b[0m\u001b[0;39mTrying to register the cmap 'sauron_r' which already exists.\u001b[0m \u001b[0;36m(UserWarning)\u001b[0m\n",
      "\u001b[1;33m[WARNING]: \u001b[0m\u001b[0;39mTrying to register the cmap 'sauron' which already exists.\u001b[0m \u001b[0;36m(UserWarning)\u001b[0m\n",
      "\u001b[1;33m[WARNING]: \u001b[0m\u001b[0;39mTrying to register the cmap 'sauron_r' which already exists.\u001b[0m \u001b[0;36m(UserWarning)\u001b[0m\n"
     ]
    },
    {
     "name": "stdout",
     "output_type": "stream",
     "text": [
      "  Kin PA: 133.0  +/-   5.0  (3*sigma error)\n",
      "Velocity Offset: 0.00\n"
     ]
    },
    {
     "name": "stderr",
     "output_type": "stream",
     "text": [
      "\u001b[1;33m[WARNING]: \u001b[0m\u001b[0;39mTrying to register the cmap 'sauron' which already exists.\u001b[0m \u001b[0;36m(UserWarning)\u001b[0m\n",
      "\u001b[1;33m[WARNING]: \u001b[0m\u001b[0;39mTrying to register the cmap 'sauron_r' which already exists.\u001b[0m \u001b[0;36m(UserWarning)\u001b[0m\n",
      "\u001b[1;33m[WARNING]: \u001b[0m\u001b[0;39mTrying to register the cmap 'sauron' which already exists.\u001b[0m \u001b[0;36m(UserWarning)\u001b[0m\n",
      "\u001b[1;33m[WARNING]: \u001b[0m\u001b[0;39mTrying to register the cmap 'sauron_r' which already exists.\u001b[0m \u001b[0;36m(UserWarning)\u001b[0m\n"
     ]
    },
    {
     "name": "stdout",
     "output_type": "stream",
     "text": [
      "  Kin PA:  73.0  +/-   0.5  (3*sigma error)\n",
      "Velocity Offset: 0.00\n"
     ]
    },
    {
     "name": "stderr",
     "output_type": "stream",
     "text": [
      "\u001b[1;33m[WARNING]: \u001b[0m\u001b[0;39mTrying to register the cmap 'sauron' which already exists.\u001b[0m \u001b[0;36m(UserWarning)\u001b[0m\n",
      "\u001b[1;33m[WARNING]: \u001b[0m\u001b[0;39mTrying to register the cmap 'sauron_r' which already exists.\u001b[0m \u001b[0;36m(UserWarning)\u001b[0m\n",
      "\u001b[1;33m[WARNING]: \u001b[0m\u001b[0;39mTrying to register the cmap 'sauron' which already exists.\u001b[0m \u001b[0;36m(UserWarning)\u001b[0m\n",
      "\u001b[1;33m[WARNING]: \u001b[0m\u001b[0;39mTrying to register the cmap 'sauron_r' which already exists.\u001b[0m \u001b[0;36m(UserWarning)\u001b[0m\n"
     ]
    },
    {
     "name": "stdout",
     "output_type": "stream",
     "text": [
      "  Kin PA:  82.5  +/-   3.2  (3*sigma error)\n",
      "Velocity Offset: 0.00\n"
     ]
    },
    {
     "name": "stderr",
     "output_type": "stream",
     "text": [
      "\u001b[1;33m[WARNING]: \u001b[0m\u001b[0;39mTrying to register the cmap 'sauron' which already exists.\u001b[0m \u001b[0;36m(UserWarning)\u001b[0m\n",
      "\u001b[1;33m[WARNING]: \u001b[0m\u001b[0;39mTrying to register the cmap 'sauron_r' which already exists.\u001b[0m \u001b[0;36m(UserWarning)\u001b[0m\n",
      "\u001b[1;33m[WARNING]: \u001b[0m\u001b[0;39mTrying to register the cmap 'sauron' which already exists.\u001b[0m \u001b[0;36m(UserWarning)\u001b[0m\n",
      "\u001b[1;33m[WARNING]: \u001b[0m\u001b[0;39mTrying to register the cmap 'sauron_r' which already exists.\u001b[0m \u001b[0;36m(UserWarning)\u001b[0m\n"
     ]
    },
    {
     "name": "stdout",
     "output_type": "stream",
     "text": [
      "  Kin PA: 148.0  +/-   0.5  (3*sigma error)\n",
      "Velocity Offset: 0.00\n"
     ]
    },
    {
     "name": "stderr",
     "output_type": "stream",
     "text": [
      "\u001b[1;33m[WARNING]: \u001b[0m\u001b[0;39mTrying to register the cmap 'sauron' which already exists.\u001b[0m \u001b[0;36m(UserWarning)\u001b[0m\n",
      "\u001b[1;33m[WARNING]: \u001b[0m\u001b[0;39mTrying to register the cmap 'sauron_r' which already exists.\u001b[0m \u001b[0;36m(UserWarning)\u001b[0m\n",
      "\u001b[1;33m[WARNING]: \u001b[0m\u001b[0;39mTrying to register the cmap 'sauron' which already exists.\u001b[0m \u001b[0;36m(UserWarning)\u001b[0m\n",
      "\u001b[1;33m[WARNING]: \u001b[0m\u001b[0;39mTrying to register the cmap 'sauron_r' which already exists.\u001b[0m \u001b[0;36m(UserWarning)\u001b[0m\n"
     ]
    },
    {
     "name": "stdout",
     "output_type": "stream",
     "text": [
      "  Kin PA: 121.0  +/-   4.2  (3*sigma error)\n",
      "Velocity Offset: 0.00\n"
     ]
    },
    {
     "name": "stderr",
     "output_type": "stream",
     "text": [
      "\u001b[1;33m[WARNING]: \u001b[0m\u001b[0;39mTrying to register the cmap 'sauron' which already exists.\u001b[0m \u001b[0;36m(UserWarning)\u001b[0m\n",
      "\u001b[1;33m[WARNING]: \u001b[0m\u001b[0;39mTrying to register the cmap 'sauron_r' which already exists.\u001b[0m \u001b[0;36m(UserWarning)\u001b[0m\n",
      "\u001b[1;33m[WARNING]: \u001b[0m\u001b[0;39mTrying to register the cmap 'sauron' which already exists.\u001b[0m \u001b[0;36m(UserWarning)\u001b[0m\n",
      "\u001b[1;33m[WARNING]: \u001b[0m\u001b[0;39mTrying to register the cmap 'sauron_r' which already exists.\u001b[0m \u001b[0;36m(UserWarning)\u001b[0m\n"
     ]
    },
    {
     "name": "stdout",
     "output_type": "stream",
     "text": [
      "  Kin PA: 168.5  +/-   0.5  (3*sigma error)\n",
      "Velocity Offset: 0.00\n"
     ]
    },
    {
     "name": "stderr",
     "output_type": "stream",
     "text": [
      "\u001b[1;33m[WARNING]: \u001b[0m\u001b[0;39mTrying to register the cmap 'sauron' which already exists.\u001b[0m \u001b[0;36m(UserWarning)\u001b[0m\n",
      "\u001b[1;33m[WARNING]: \u001b[0m\u001b[0;39mTrying to register the cmap 'sauron_r' which already exists.\u001b[0m \u001b[0;36m(UserWarning)\u001b[0m\n",
      "\u001b[1;33m[WARNING]: \u001b[0m\u001b[0;39mTrying to register the cmap 'sauron' which already exists.\u001b[0m \u001b[0;36m(UserWarning)\u001b[0m\n",
      "\u001b[1;33m[WARNING]: \u001b[0m\u001b[0;39mTrying to register the cmap 'sauron_r' which already exists.\u001b[0m \u001b[0;36m(UserWarning)\u001b[0m\n"
     ]
    },
    {
     "name": "stdout",
     "output_type": "stream",
     "text": [
      "  Kin PA: 126.0  +/-   2.8  (3*sigma error)\n",
      "Velocity Offset: 0.00\n"
     ]
    },
    {
     "name": "stderr",
     "output_type": "stream",
     "text": [
      "\u001b[1;33m[WARNING]: \u001b[0m\u001b[0;39mTrying to register the cmap 'sauron' which already exists.\u001b[0m \u001b[0;36m(UserWarning)\u001b[0m\n",
      "\u001b[1;33m[WARNING]: \u001b[0m\u001b[0;39mTrying to register the cmap 'sauron_r' which already exists.\u001b[0m \u001b[0;36m(UserWarning)\u001b[0m\n",
      "\u001b[1;33m[WARNING]: \u001b[0m\u001b[0;39mTrying to register the cmap 'sauron' which already exists.\u001b[0m \u001b[0;36m(UserWarning)\u001b[0m\n",
      "\u001b[1;33m[WARNING]: \u001b[0m\u001b[0;39mTrying to register the cmap 'sauron_r' which already exists.\u001b[0m \u001b[0;36m(UserWarning)\u001b[0m\n"
     ]
    },
    {
     "name": "stdout",
     "output_type": "stream",
     "text": [
      "  Kin PA:  84.5  +/-   0.5  (3*sigma error)\n",
      "Velocity Offset: 0.00\n"
     ]
    },
    {
     "name": "stderr",
     "output_type": "stream",
     "text": [
      "\u001b[1;33m[WARNING]: \u001b[0m\u001b[0;39mTrying to register the cmap 'sauron' which already exists.\u001b[0m \u001b[0;36m(UserWarning)\u001b[0m\n",
      "\u001b[1;33m[WARNING]: \u001b[0m\u001b[0;39mTrying to register the cmap 'sauron_r' which already exists.\u001b[0m \u001b[0;36m(UserWarning)\u001b[0m\n",
      "\u001b[1;33m[WARNING]: \u001b[0m\u001b[0;39mTrying to register the cmap 'sauron' which already exists.\u001b[0m \u001b[0;36m(UserWarning)\u001b[0m\n",
      "\u001b[1;33m[WARNING]: \u001b[0m\u001b[0;39mTrying to register the cmap 'sauron_r' which already exists.\u001b[0m \u001b[0;36m(UserWarning)\u001b[0m\n"
     ]
    },
    {
     "name": "stdout",
     "output_type": "stream",
     "text": [
      "  Kin PA: 107.5  +/-  14.2  (3*sigma error)\n",
      "Velocity Offset: 0.00\n"
     ]
    },
    {
     "name": "stderr",
     "output_type": "stream",
     "text": [
      "\u001b[1;33m[WARNING]: \u001b[0m\u001b[0;39mTrying to register the cmap 'sauron' which already exists.\u001b[0m \u001b[0;36m(UserWarning)\u001b[0m\n",
      "\u001b[1;33m[WARNING]: \u001b[0m\u001b[0;39mTrying to register the cmap 'sauron_r' which already exists.\u001b[0m \u001b[0;36m(UserWarning)\u001b[0m\n",
      "\u001b[1;33m[WARNING]: \u001b[0m\u001b[0;39mTrying to register the cmap 'sauron' which already exists.\u001b[0m \u001b[0;36m(UserWarning)\u001b[0m\n",
      "\u001b[1;33m[WARNING]: \u001b[0m\u001b[0;39mTrying to register the cmap 'sauron_r' which already exists.\u001b[0m \u001b[0;36m(UserWarning)\u001b[0m\n"
     ]
    },
    {
     "name": "stdout",
     "output_type": "stream",
     "text": [
      "  Kin PA: 117.0  +/-   0.5  (3*sigma error)\n",
      "Velocity Offset: 0.00\n"
     ]
    },
    {
     "name": "stderr",
     "output_type": "stream",
     "text": [
      "\u001b[1;33m[WARNING]: \u001b[0m\u001b[0;39mTrying to register the cmap 'sauron' which already exists.\u001b[0m \u001b[0;36m(UserWarning)\u001b[0m\n",
      "\u001b[1;33m[WARNING]: \u001b[0m\u001b[0;39mTrying to register the cmap 'sauron_r' which already exists.\u001b[0m \u001b[0;36m(UserWarning)\u001b[0m\n",
      "\u001b[1;33m[WARNING]: \u001b[0m\u001b[0;39mTrying to register the cmap 'sauron' which already exists.\u001b[0m \u001b[0;36m(UserWarning)\u001b[0m\n",
      "\u001b[1;33m[WARNING]: \u001b[0m\u001b[0;39mTrying to register the cmap 'sauron_r' which already exists.\u001b[0m \u001b[0;36m(UserWarning)\u001b[0m\n"
     ]
    },
    {
     "name": "stdout",
     "output_type": "stream",
     "text": [
      "  Kin PA:  76.0  +/-  13.2  (3*sigma error)\n",
      "Velocity Offset: 0.00\n"
     ]
    },
    {
     "name": "stderr",
     "output_type": "stream",
     "text": [
      "\u001b[1;33m[WARNING]: \u001b[0m\u001b[0;39mTrying to register the cmap 'sauron' which already exists.\u001b[0m \u001b[0;36m(UserWarning)\u001b[0m\n",
      "\u001b[1;33m[WARNING]: \u001b[0m\u001b[0;39mTrying to register the cmap 'sauron_r' which already exists.\u001b[0m \u001b[0;36m(UserWarning)\u001b[0m\n",
      "\u001b[1;33m[WARNING]: \u001b[0m\u001b[0;39mTrying to register the cmap 'sauron' which already exists.\u001b[0m \u001b[0;36m(UserWarning)\u001b[0m\n",
      "\u001b[1;33m[WARNING]: \u001b[0m\u001b[0;39mTrying to register the cmap 'sauron_r' which already exists.\u001b[0m \u001b[0;36m(UserWarning)\u001b[0m\n"
     ]
    },
    {
     "name": "stdout",
     "output_type": "stream",
     "text": [
      "  Kin PA: 165.5  +/-   7.8  (3*sigma error)\n",
      "Velocity Offset: 0.00\n"
     ]
    },
    {
     "name": "stderr",
     "output_type": "stream",
     "text": [
      "\u001b[1;33m[WARNING]: \u001b[0m\u001b[0;39mTrying to register the cmap 'sauron' which already exists.\u001b[0m \u001b[0;36m(UserWarning)\u001b[0m\n",
      "\u001b[1;33m[WARNING]: \u001b[0m\u001b[0;39mTrying to register the cmap 'sauron_r' which already exists.\u001b[0m \u001b[0;36m(UserWarning)\u001b[0m\n",
      "\u001b[1;33m[WARNING]: \u001b[0m\u001b[0;39mTrying to register the cmap 'sauron' which already exists.\u001b[0m \u001b[0;36m(UserWarning)\u001b[0m\n",
      "\u001b[1;33m[WARNING]: \u001b[0m\u001b[0;39mTrying to register the cmap 'sauron_r' which already exists.\u001b[0m \u001b[0;36m(UserWarning)\u001b[0m\n"
     ]
    },
    {
     "name": "stdout",
     "output_type": "stream",
     "text": [
      "  Kin PA:  82.0  +/-  12.8  (3*sigma error)\n",
      "Velocity Offset: 0.00\n"
     ]
    },
    {
     "name": "stderr",
     "output_type": "stream",
     "text": [
      "\u001b[1;33m[WARNING]: \u001b[0m\u001b[0;39mTrying to register the cmap 'sauron' which already exists.\u001b[0m \u001b[0;36m(UserWarning)\u001b[0m\n",
      "\u001b[1;33m[WARNING]: \u001b[0m\u001b[0;39mTrying to register the cmap 'sauron_r' which already exists.\u001b[0m \u001b[0;36m(UserWarning)\u001b[0m\n",
      "\u001b[1;33m[WARNING]: \u001b[0m\u001b[0;39mTrying to register the cmap 'sauron' which already exists.\u001b[0m \u001b[0;36m(UserWarning)\u001b[0m\n",
      "\u001b[1;33m[WARNING]: \u001b[0m\u001b[0;39mTrying to register the cmap 'sauron_r' which already exists.\u001b[0m \u001b[0;36m(UserWarning)\u001b[0m\n"
     ]
    },
    {
     "name": "stdout",
     "output_type": "stream",
     "text": [
      "  Kin PA:  52.5  +/-   9.8  (3*sigma error)\n",
      "Velocity Offset: 0.00\n"
     ]
    },
    {
     "name": "stderr",
     "output_type": "stream",
     "text": [
      "\u001b[1;33m[WARNING]: \u001b[0m\u001b[0;39mTrying to register the cmap 'sauron' which already exists.\u001b[0m \u001b[0;36m(UserWarning)\u001b[0m\n",
      "\u001b[1;33m[WARNING]: \u001b[0m\u001b[0;39mTrying to register the cmap 'sauron_r' which already exists.\u001b[0m \u001b[0;36m(UserWarning)\u001b[0m\n",
      "\u001b[1;33m[WARNING]: \u001b[0m\u001b[0;39mTrying to register the cmap 'sauron' which already exists.\u001b[0m \u001b[0;36m(UserWarning)\u001b[0m\n",
      "\u001b[1;33m[WARNING]: \u001b[0m\u001b[0;39mTrying to register the cmap 'sauron_r' which already exists.\u001b[0m \u001b[0;36m(UserWarning)\u001b[0m\n"
     ]
    },
    {
     "name": "stdout",
     "output_type": "stream",
     "text": [
      "  Kin PA:  52.5  +/-  14.2  (3*sigma error)\n",
      "Velocity Offset: 0.00\n"
     ]
    },
    {
     "name": "stderr",
     "output_type": "stream",
     "text": [
      "\u001b[1;33m[WARNING]: \u001b[0m\u001b[0;39mTrying to register the cmap 'sauron' which already exists.\u001b[0m \u001b[0;36m(UserWarning)\u001b[0m\n",
      "\u001b[1;33m[WARNING]: \u001b[0m\u001b[0;39mTrying to register the cmap 'sauron_r' which already exists.\u001b[0m \u001b[0;36m(UserWarning)\u001b[0m\n",
      "\u001b[1;33m[WARNING]: \u001b[0m\u001b[0;39mTrying to register the cmap 'sauron' which already exists.\u001b[0m \u001b[0;36m(UserWarning)\u001b[0m\n",
      "\u001b[1;33m[WARNING]: \u001b[0m\u001b[0;39mTrying to register the cmap 'sauron_r' which already exists.\u001b[0m \u001b[0;36m(UserWarning)\u001b[0m\n"
     ]
    },
    {
     "name": "stdout",
     "output_type": "stream",
     "text": [
      "  Kin PA:  10.0  +/-   0.5  (3*sigma error)\n",
      "Velocity Offset: 0.00\n"
     ]
    },
    {
     "name": "stderr",
     "output_type": "stream",
     "text": [
      "\u001b[1;33m[WARNING]: \u001b[0m\u001b[0;39mTrying to register the cmap 'sauron' which already exists.\u001b[0m \u001b[0;36m(UserWarning)\u001b[0m\n",
      "\u001b[1;33m[WARNING]: \u001b[0m\u001b[0;39mTrying to register the cmap 'sauron_r' which already exists.\u001b[0m \u001b[0;36m(UserWarning)\u001b[0m\n",
      "\u001b[1;33m[WARNING]: \u001b[0m\u001b[0;39mTrying to register the cmap 'sauron' which already exists.\u001b[0m \u001b[0;36m(UserWarning)\u001b[0m\n",
      "\u001b[1;33m[WARNING]: \u001b[0m\u001b[0;39mTrying to register the cmap 'sauron_r' which already exists.\u001b[0m \u001b[0;36m(UserWarning)\u001b[0m\n"
     ]
    },
    {
     "name": "stdout",
     "output_type": "stream",
     "text": [
      "  Kin PA:  26.5  +/-  11.2  (3*sigma error)\n",
      "Velocity Offset: 0.00\n"
     ]
    },
    {
     "name": "stderr",
     "output_type": "stream",
     "text": [
      "\u001b[1;33m[WARNING]: \u001b[0m\u001b[0;39mTrying to register the cmap 'sauron' which already exists.\u001b[0m \u001b[0;36m(UserWarning)\u001b[0m\n",
      "\u001b[1;33m[WARNING]: \u001b[0m\u001b[0;39mTrying to register the cmap 'sauron_r' which already exists.\u001b[0m \u001b[0;36m(UserWarning)\u001b[0m\n",
      "\u001b[1;33m[WARNING]: \u001b[0m\u001b[0;39mTrying to register the cmap 'sauron' which already exists.\u001b[0m \u001b[0;36m(UserWarning)\u001b[0m\n",
      "\u001b[1;33m[WARNING]: \u001b[0m\u001b[0;39mTrying to register the cmap 'sauron_r' which already exists.\u001b[0m \u001b[0;36m(UserWarning)\u001b[0m\n"
     ]
    },
    {
     "name": "stdout",
     "output_type": "stream",
     "text": [
      "  Kin PA:  83.5  +/-   0.5  (3*sigma error)\n",
      "Velocity Offset: 0.00\n"
     ]
    },
    {
     "name": "stderr",
     "output_type": "stream",
     "text": [
      "\u001b[1;33m[WARNING]: \u001b[0m\u001b[0;39mTrying to register the cmap 'sauron' which already exists.\u001b[0m \u001b[0;36m(UserWarning)\u001b[0m\n",
      "\u001b[1;33m[WARNING]: \u001b[0m\u001b[0;39mTrying to register the cmap 'sauron_r' which already exists.\u001b[0m \u001b[0;36m(UserWarning)\u001b[0m\n",
      "\u001b[1;33m[WARNING]: \u001b[0m\u001b[0;39mTrying to register the cmap 'sauron' which already exists.\u001b[0m \u001b[0;36m(UserWarning)\u001b[0m\n",
      "\u001b[1;33m[WARNING]: \u001b[0m\u001b[0;39mTrying to register the cmap 'sauron_r' which already exists.\u001b[0m \u001b[0;36m(UserWarning)\u001b[0m\n"
     ]
    },
    {
     "name": "stdout",
     "output_type": "stream",
     "text": [
      "  Kin PA:  35.5  +/-   7.8  (3*sigma error)\n",
      "Velocity Offset: 0.00\n"
     ]
    },
    {
     "name": "stderr",
     "output_type": "stream",
     "text": [
      "\u001b[1;33m[WARNING]: \u001b[0m\u001b[0;39mTrying to register the cmap 'sauron' which already exists.\u001b[0m \u001b[0;36m(UserWarning)\u001b[0m\n",
      "\u001b[1;33m[WARNING]: \u001b[0m\u001b[0;39mTrying to register the cmap 'sauron_r' which already exists.\u001b[0m \u001b[0;36m(UserWarning)\u001b[0m\n",
      "\u001b[1;33m[WARNING]: \u001b[0m\u001b[0;39mTrying to register the cmap 'sauron' which already exists.\u001b[0m \u001b[0;36m(UserWarning)\u001b[0m\n",
      "\u001b[1;33m[WARNING]: \u001b[0m\u001b[0;39mTrying to register the cmap 'sauron_r' which already exists.\u001b[0m \u001b[0;36m(UserWarning)\u001b[0m\n"
     ]
    },
    {
     "name": "stdout",
     "output_type": "stream",
     "text": [
      "  Kin PA: 116.5  +/-   0.5  (3*sigma error)\n",
      "Velocity Offset: 0.00\n"
     ]
    },
    {
     "name": "stderr",
     "output_type": "stream",
     "text": [
      "\u001b[1;33m[WARNING]: \u001b[0m\u001b[0;39mTrying to register the cmap 'sauron' which already exists.\u001b[0m \u001b[0;36m(UserWarning)\u001b[0m\n",
      "\u001b[1;33m[WARNING]: \u001b[0m\u001b[0;39mTrying to register the cmap 'sauron_r' which already exists.\u001b[0m \u001b[0;36m(UserWarning)\u001b[0m\n",
      "\u001b[1;33m[WARNING]: \u001b[0m\u001b[0;39mTrying to register the cmap 'sauron' which already exists.\u001b[0m \u001b[0;36m(UserWarning)\u001b[0m\n",
      "\u001b[1;33m[WARNING]: \u001b[0m\u001b[0;39mTrying to register the cmap 'sauron_r' which already exists.\u001b[0m \u001b[0;36m(UserWarning)\u001b[0m\n"
     ]
    },
    {
     "name": "stdout",
     "output_type": "stream",
     "text": [
      "  Kin PA:  42.0  +/-  11.0  (3*sigma error)\n",
      "Velocity Offset: 0.00\n"
     ]
    },
    {
     "name": "stderr",
     "output_type": "stream",
     "text": [
      "\u001b[1;33m[WARNING]: \u001b[0m\u001b[0;39mTrying to register the cmap 'sauron' which already exists.\u001b[0m \u001b[0;36m(UserWarning)\u001b[0m\n",
      "\u001b[1;33m[WARNING]: \u001b[0m\u001b[0;39mTrying to register the cmap 'sauron_r' which already exists.\u001b[0m \u001b[0;36m(UserWarning)\u001b[0m\n",
      "\u001b[1;33m[WARNING]: \u001b[0m\u001b[0;39mTrying to register the cmap 'sauron' which already exists.\u001b[0m \u001b[0;36m(UserWarning)\u001b[0m\n",
      "\u001b[1;33m[WARNING]: \u001b[0m\u001b[0;39mTrying to register the cmap 'sauron_r' which already exists.\u001b[0m \u001b[0;36m(UserWarning)\u001b[0m\n"
     ]
    },
    {
     "name": "stdout",
     "output_type": "stream",
     "text": [
      "  Kin PA:  95.0  +/-   0.5  (3*sigma error)\n",
      "Velocity Offset: 0.00\n"
     ]
    },
    {
     "name": "stderr",
     "output_type": "stream",
     "text": [
      "\u001b[1;33m[WARNING]: \u001b[0m\u001b[0;39mTrying to register the cmap 'sauron' which already exists.\u001b[0m \u001b[0;36m(UserWarning)\u001b[0m\n",
      "\u001b[1;33m[WARNING]: \u001b[0m\u001b[0;39mTrying to register the cmap 'sauron_r' which already exists.\u001b[0m \u001b[0;36m(UserWarning)\u001b[0m\n",
      "\u001b[1;33m[WARNING]: \u001b[0m\u001b[0;39mTrying to register the cmap 'sauron' which already exists.\u001b[0m \u001b[0;36m(UserWarning)\u001b[0m\n",
      "\u001b[1;33m[WARNING]: \u001b[0m\u001b[0;39mTrying to register the cmap 'sauron_r' which already exists.\u001b[0m \u001b[0;36m(UserWarning)\u001b[0m\n"
     ]
    },
    {
     "name": "stdout",
     "output_type": "stream",
     "text": [
      "  Kin PA:  60.5  +/-  23.0  (3*sigma error)\n",
      "Velocity Offset: 0.00\n"
     ]
    },
    {
     "name": "stderr",
     "output_type": "stream",
     "text": [
      "\u001b[1;33m[WARNING]: \u001b[0m\u001b[0;39mTrying to register the cmap 'sauron' which already exists.\u001b[0m \u001b[0;36m(UserWarning)\u001b[0m\n",
      "\u001b[1;33m[WARNING]: \u001b[0m\u001b[0;39mTrying to register the cmap 'sauron_r' which already exists.\u001b[0m \u001b[0;36m(UserWarning)\u001b[0m\n",
      "\u001b[1;33m[WARNING]: \u001b[0m\u001b[0;39mTrying to register the cmap 'sauron' which already exists.\u001b[0m \u001b[0;36m(UserWarning)\u001b[0m\n",
      "\u001b[1;33m[WARNING]: \u001b[0m\u001b[0;39mTrying to register the cmap 'sauron_r' which already exists.\u001b[0m \u001b[0;36m(UserWarning)\u001b[0m\n"
     ]
    },
    {
     "name": "stdout",
     "output_type": "stream",
     "text": [
      "  Kin PA:  60.5  +/-   0.5  (3*sigma error)\n",
      "Velocity Offset: 0.00\n"
     ]
    },
    {
     "name": "stderr",
     "output_type": "stream",
     "text": [
      "\u001b[1;33m[WARNING]: \u001b[0m\u001b[0;39mTrying to register the cmap 'sauron' which already exists.\u001b[0m \u001b[0;36m(UserWarning)\u001b[0m\n",
      "\u001b[1;33m[WARNING]: \u001b[0m\u001b[0;39mTrying to register the cmap 'sauron_r' which already exists.\u001b[0m \u001b[0;36m(UserWarning)\u001b[0m\n",
      "\u001b[1;33m[WARNING]: \u001b[0m\u001b[0;39mTrying to register the cmap 'sauron' which already exists.\u001b[0m \u001b[0;36m(UserWarning)\u001b[0m\n",
      "\u001b[1;33m[WARNING]: \u001b[0m\u001b[0;39mTrying to register the cmap 'sauron_r' which already exists.\u001b[0m \u001b[0;36m(UserWarning)\u001b[0m\n"
     ]
    },
    {
     "name": "stdout",
     "output_type": "stream",
     "text": [
      "  Kin PA:  54.0  +/-   3.8  (3*sigma error)\n",
      "Velocity Offset: 0.00\n"
     ]
    },
    {
     "name": "stderr",
     "output_type": "stream",
     "text": [
      "\u001b[1;33m[WARNING]: \u001b[0m\u001b[0;39mTrying to register the cmap 'sauron' which already exists.\u001b[0m \u001b[0;36m(UserWarning)\u001b[0m\n",
      "\u001b[1;33m[WARNING]: \u001b[0m\u001b[0;39mTrying to register the cmap 'sauron_r' which already exists.\u001b[0m \u001b[0;36m(UserWarning)\u001b[0m\n",
      "\u001b[1;33m[WARNING]: \u001b[0m\u001b[0;39mTrying to register the cmap 'sauron' which already exists.\u001b[0m \u001b[0;36m(UserWarning)\u001b[0m\n",
      "\u001b[1;33m[WARNING]: \u001b[0m\u001b[0;39mTrying to register the cmap 'sauron_r' which already exists.\u001b[0m \u001b[0;36m(UserWarning)\u001b[0m\n"
     ]
    },
    {
     "name": "stdout",
     "output_type": "stream",
     "text": [
      "  Kin PA:  33.5  +/-   1.0  (3*sigma error)\n",
      "Velocity Offset: 0.00\n"
     ]
    },
    {
     "name": "stderr",
     "output_type": "stream",
     "text": [
      "\u001b[1;33m[WARNING]: \u001b[0m\u001b[0;39mTrying to register the cmap 'sauron' which already exists.\u001b[0m \u001b[0;36m(UserWarning)\u001b[0m\n",
      "\u001b[1;33m[WARNING]: \u001b[0m\u001b[0;39mTrying to register the cmap 'sauron_r' which already exists.\u001b[0m \u001b[0;36m(UserWarning)\u001b[0m\n",
      "\u001b[1;33m[WARNING]: \u001b[0m\u001b[0;39mTrying to register the cmap 'sauron' which already exists.\u001b[0m \u001b[0;36m(UserWarning)\u001b[0m\n",
      "\u001b[1;33m[WARNING]: \u001b[0m\u001b[0;39mTrying to register the cmap 'sauron_r' which already exists.\u001b[0m \u001b[0;36m(UserWarning)\u001b[0m\n"
     ]
    },
    {
     "name": "stdout",
     "output_type": "stream",
     "text": [
      "  Kin PA:  59.5  +/-   1.0  (3*sigma error)\n",
      "Velocity Offset: 0.00\n"
     ]
    },
    {
     "name": "stderr",
     "output_type": "stream",
     "text": [
      "\u001b[1;33m[WARNING]: \u001b[0m\u001b[0;39mTrying to register the cmap 'sauron' which already exists.\u001b[0m \u001b[0;36m(UserWarning)\u001b[0m\n",
      "\u001b[1;33m[WARNING]: \u001b[0m\u001b[0;39mTrying to register the cmap 'sauron_r' which already exists.\u001b[0m \u001b[0;36m(UserWarning)\u001b[0m\n",
      "\u001b[1;33m[WARNING]: \u001b[0m\u001b[0;39mTrying to register the cmap 'sauron' which already exists.\u001b[0m \u001b[0;36m(UserWarning)\u001b[0m\n",
      "\u001b[1;33m[WARNING]: \u001b[0m\u001b[0;39mTrying to register the cmap 'sauron_r' which already exists.\u001b[0m \u001b[0;36m(UserWarning)\u001b[0m\n"
     ]
    },
    {
     "name": "stdout",
     "output_type": "stream",
     "text": [
      "  Kin PA:  79.0  +/-   0.5  (3*sigma error)\n",
      "Velocity Offset: 0.00\n"
     ]
    },
    {
     "name": "stderr",
     "output_type": "stream",
     "text": [
      "\u001b[1;33m[WARNING]: \u001b[0m\u001b[0;39mTrying to register the cmap 'sauron' which already exists.\u001b[0m \u001b[0;36m(UserWarning)\u001b[0m\n",
      "\u001b[1;33m[WARNING]: \u001b[0m\u001b[0;39mTrying to register the cmap 'sauron_r' which already exists.\u001b[0m \u001b[0;36m(UserWarning)\u001b[0m\n",
      "\u001b[1;33m[WARNING]: \u001b[0m\u001b[0;39mTrying to register the cmap 'sauron' which already exists.\u001b[0m \u001b[0;36m(UserWarning)\u001b[0m\n",
      "\u001b[1;33m[WARNING]: \u001b[0m\u001b[0;39mTrying to register the cmap 'sauron_r' which already exists.\u001b[0m \u001b[0;36m(UserWarning)\u001b[0m\n"
     ]
    },
    {
     "name": "stdout",
     "output_type": "stream",
     "text": [
      "  Kin PA:  73.5  +/-   4.5  (3*sigma error)\n",
      "Velocity Offset: 0.00\n"
     ]
    },
    {
     "name": "stderr",
     "output_type": "stream",
     "text": [
      "\u001b[1;33m[WARNING]: \u001b[0m\u001b[0;39mTrying to register the cmap 'sauron' which already exists.\u001b[0m \u001b[0;36m(UserWarning)\u001b[0m\n",
      "\u001b[1;33m[WARNING]: \u001b[0m\u001b[0;39mTrying to register the cmap 'sauron_r' which already exists.\u001b[0m \u001b[0;36m(UserWarning)\u001b[0m\n",
      "\u001b[1;33m[WARNING]: \u001b[0m\u001b[0;39mTrying to register the cmap 'sauron' which already exists.\u001b[0m \u001b[0;36m(UserWarning)\u001b[0m\n",
      "\u001b[1;33m[WARNING]: \u001b[0m\u001b[0;39mTrying to register the cmap 'sauron_r' which already exists.\u001b[0m \u001b[0;36m(UserWarning)\u001b[0m\n"
     ]
    },
    {
     "name": "stdout",
     "output_type": "stream",
     "text": [
      "  Kin PA: 138.0  +/-   0.5  (3*sigma error)\n",
      "Velocity Offset: 0.00\n"
     ]
    },
    {
     "name": "stderr",
     "output_type": "stream",
     "text": [
      "\u001b[1;33m[WARNING]: \u001b[0m\u001b[0;39mTrying to register the cmap 'sauron' which already exists.\u001b[0m \u001b[0;36m(UserWarning)\u001b[0m\n",
      "\u001b[1;33m[WARNING]: \u001b[0m\u001b[0;39mTrying to register the cmap 'sauron_r' which already exists.\u001b[0m \u001b[0;36m(UserWarning)\u001b[0m\n",
      "\u001b[1;33m[WARNING]: \u001b[0m\u001b[0;39mTrying to register the cmap 'sauron' which already exists.\u001b[0m \u001b[0;36m(UserWarning)\u001b[0m\n",
      "\u001b[1;33m[WARNING]: \u001b[0m\u001b[0;39mTrying to register the cmap 'sauron_r' which already exists.\u001b[0m \u001b[0;36m(UserWarning)\u001b[0m\n"
     ]
    },
    {
     "name": "stdout",
     "output_type": "stream",
     "text": [
      "  Kin PA: 114.5  +/-   3.0  (3*sigma error)\n",
      "Velocity Offset: 0.00\n"
     ]
    },
    {
     "name": "stderr",
     "output_type": "stream",
     "text": [
      "\u001b[1;33m[WARNING]: \u001b[0m\u001b[0;39mTrying to register the cmap 'sauron' which already exists.\u001b[0m \u001b[0;36m(UserWarning)\u001b[0m\n",
      "\u001b[1;33m[WARNING]: \u001b[0m\u001b[0;39mTrying to register the cmap 'sauron_r' which already exists.\u001b[0m \u001b[0;36m(UserWarning)\u001b[0m\n",
      "\u001b[1;33m[WARNING]: \u001b[0m\u001b[0;39mTrying to register the cmap 'sauron' which already exists.\u001b[0m \u001b[0;36m(UserWarning)\u001b[0m\n",
      "\u001b[1;33m[WARNING]: \u001b[0m\u001b[0;39mTrying to register the cmap 'sauron_r' which already exists.\u001b[0m \u001b[0;36m(UserWarning)\u001b[0m\n"
     ]
    },
    {
     "name": "stdout",
     "output_type": "stream",
     "text": [
      "  Kin PA:  63.0  +/-   0.5  (3*sigma error)\n",
      "Velocity Offset: 0.00\n"
     ]
    },
    {
     "name": "stderr",
     "output_type": "stream",
     "text": [
      "\u001b[1;33m[WARNING]: \u001b[0m\u001b[0;39mTrying to register the cmap 'sauron' which already exists.\u001b[0m \u001b[0;36m(UserWarning)\u001b[0m\n",
      "\u001b[1;33m[WARNING]: \u001b[0m\u001b[0;39mTrying to register the cmap 'sauron_r' which already exists.\u001b[0m \u001b[0;36m(UserWarning)\u001b[0m\n",
      "\u001b[1;33m[WARNING]: \u001b[0m\u001b[0;39mTrying to register the cmap 'sauron' which already exists.\u001b[0m \u001b[0;36m(UserWarning)\u001b[0m\n",
      "\u001b[1;33m[WARNING]: \u001b[0m\u001b[0;39mTrying to register the cmap 'sauron_r' which already exists.\u001b[0m \u001b[0;36m(UserWarning)\u001b[0m\n"
     ]
    },
    {
     "name": "stdout",
     "output_type": "stream",
     "text": [
      "  Kin PA:  85.0  +/-  15.8  (3*sigma error)\n",
      "Velocity Offset: 0.00\n"
     ]
    },
    {
     "name": "stderr",
     "output_type": "stream",
     "text": [
      "\u001b[1;33m[WARNING]: \u001b[0m\u001b[0;39mTrying to register the cmap 'sauron' which already exists.\u001b[0m \u001b[0;36m(UserWarning)\u001b[0m\n",
      "\u001b[1;33m[WARNING]: \u001b[0m\u001b[0;39mTrying to register the cmap 'sauron_r' which already exists.\u001b[0m \u001b[0;36m(UserWarning)\u001b[0m\n",
      "\u001b[1;33m[WARNING]: \u001b[0m\u001b[0;39mTrying to register the cmap 'sauron' which already exists.\u001b[0m \u001b[0;36m(UserWarning)\u001b[0m\n",
      "\u001b[1;33m[WARNING]: \u001b[0m\u001b[0;39mTrying to register the cmap 'sauron_r' which already exists.\u001b[0m \u001b[0;36m(UserWarning)\u001b[0m\n"
     ]
    },
    {
     "name": "stdout",
     "output_type": "stream",
     "text": [
      "  Kin PA:  68.5  +/-   0.5  (3*sigma error)\n",
      "Velocity Offset: 0.00\n"
     ]
    },
    {
     "name": "stderr",
     "output_type": "stream",
     "text": [
      "\u001b[1;33m[WARNING]: \u001b[0m\u001b[0;39mTrying to register the cmap 'sauron' which already exists.\u001b[0m \u001b[0;36m(UserWarning)\u001b[0m\n",
      "\u001b[1;33m[WARNING]: \u001b[0m\u001b[0;39mTrying to register the cmap 'sauron_r' which already exists.\u001b[0m \u001b[0;36m(UserWarning)\u001b[0m\n",
      "\u001b[1;33m[WARNING]: \u001b[0m\u001b[0;39mTrying to register the cmap 'sauron' which already exists.\u001b[0m \u001b[0;36m(UserWarning)\u001b[0m\n",
      "\u001b[1;33m[WARNING]: \u001b[0m\u001b[0;39mTrying to register the cmap 'sauron_r' which already exists.\u001b[0m \u001b[0;36m(UserWarning)\u001b[0m\n"
     ]
    },
    {
     "name": "stdout",
     "output_type": "stream",
     "text": [
      "  Kin PA: 140.5  +/-  15.2  (3*sigma error)\n",
      "Velocity Offset: 0.00\n"
     ]
    },
    {
     "name": "stderr",
     "output_type": "stream",
     "text": [
      "\u001b[1;33m[WARNING]: \u001b[0m\u001b[0;39mTrying to register the cmap 'sauron' which already exists.\u001b[0m \u001b[0;36m(UserWarning)\u001b[0m\n",
      "\u001b[1;33m[WARNING]: \u001b[0m\u001b[0;39mTrying to register the cmap 'sauron_r' which already exists.\u001b[0m \u001b[0;36m(UserWarning)\u001b[0m\n",
      "\u001b[1;33m[WARNING]: \u001b[0m\u001b[0;39mTrying to register the cmap 'sauron' which already exists.\u001b[0m \u001b[0;36m(UserWarning)\u001b[0m\n",
      "\u001b[1;33m[WARNING]: \u001b[0m\u001b[0;39mTrying to register the cmap 'sauron_r' which already exists.\u001b[0m \u001b[0;36m(UserWarning)\u001b[0m\n"
     ]
    },
    {
     "name": "stdout",
     "output_type": "stream",
     "text": [
      "  Kin PA:  33.5  +/-  15.5  (3*sigma error)\n",
      "Velocity Offset: 0.00\n"
     ]
    },
    {
     "name": "stderr",
     "output_type": "stream",
     "text": [
      "\u001b[1;33m[WARNING]: \u001b[0m\u001b[0;39mTrying to register the cmap 'sauron' which already exists.\u001b[0m \u001b[0;36m(UserWarning)\u001b[0m\n",
      "\u001b[1;33m[WARNING]: \u001b[0m\u001b[0;39mTrying to register the cmap 'sauron_r' which already exists.\u001b[0m \u001b[0;36m(UserWarning)\u001b[0m\n",
      "\u001b[1;33m[WARNING]: \u001b[0m\u001b[0;39mTrying to register the cmap 'sauron' which already exists.\u001b[0m \u001b[0;36m(UserWarning)\u001b[0m\n",
      "\u001b[1;33m[WARNING]: \u001b[0m\u001b[0;39mTrying to register the cmap 'sauron_r' which already exists.\u001b[0m \u001b[0;36m(UserWarning)\u001b[0m\n"
     ]
    },
    {
     "name": "stdout",
     "output_type": "stream",
     "text": [
      "  Kin PA: 125.0  +/-   4.5  (3*sigma error)\n",
      "Velocity Offset: 0.00\n"
     ]
    },
    {
     "name": "stderr",
     "output_type": "stream",
     "text": [
      "\u001b[1;33m[WARNING]: \u001b[0m\u001b[0;39mTrying to register the cmap 'sauron' which already exists.\u001b[0m \u001b[0;36m(UserWarning)\u001b[0m\n",
      "\u001b[1;33m[WARNING]: \u001b[0m\u001b[0;39mTrying to register the cmap 'sauron_r' which already exists.\u001b[0m \u001b[0;36m(UserWarning)\u001b[0m\n",
      "\u001b[1;33m[WARNING]: \u001b[0m\u001b[0;39mTrying to register the cmap 'sauron' which already exists.\u001b[0m \u001b[0;36m(UserWarning)\u001b[0m\n",
      "\u001b[1;33m[WARNING]: \u001b[0m\u001b[0;39mTrying to register the cmap 'sauron_r' which already exists.\u001b[0m \u001b[0;36m(UserWarning)\u001b[0m\n"
     ]
    },
    {
     "name": "stdout",
     "output_type": "stream",
     "text": [
      "  Kin PA: 128.0  +/-   0.5  (3*sigma error)\n",
      "Velocity Offset: 0.00\n"
     ]
    },
    {
     "name": "stderr",
     "output_type": "stream",
     "text": [
      "\u001b[1;33m[WARNING]: \u001b[0m\u001b[0;39mTrying to register the cmap 'sauron' which already exists.\u001b[0m \u001b[0;36m(UserWarning)\u001b[0m\n",
      "\u001b[1;33m[WARNING]: \u001b[0m\u001b[0;39mTrying to register the cmap 'sauron_r' which already exists.\u001b[0m \u001b[0;36m(UserWarning)\u001b[0m\n",
      "\u001b[1;33m[WARNING]: \u001b[0m\u001b[0;39mTrying to register the cmap 'sauron' which already exists.\u001b[0m \u001b[0;36m(UserWarning)\u001b[0m\n",
      "\u001b[1;33m[WARNING]: \u001b[0m\u001b[0;39mTrying to register the cmap 'sauron_r' which already exists.\u001b[0m \u001b[0;36m(UserWarning)\u001b[0m\n"
     ]
    },
    {
     "name": "stdout",
     "output_type": "stream",
     "text": [
      "  Kin PA: 133.0  +/-  12.8  (3*sigma error)\n",
      "Velocity Offset: 0.00\n"
     ]
    },
    {
     "name": "stderr",
     "output_type": "stream",
     "text": [
      "\u001b[1;33m[WARNING]: \u001b[0m\u001b[0;39mTrying to register the cmap 'sauron' which already exists.\u001b[0m \u001b[0;36m(UserWarning)\u001b[0m\n",
      "\u001b[1;33m[WARNING]: \u001b[0m\u001b[0;39mTrying to register the cmap 'sauron_r' which already exists.\u001b[0m \u001b[0;36m(UserWarning)\u001b[0m\n",
      "\u001b[1;33m[WARNING]: \u001b[0m\u001b[0;39mTrying to register the cmap 'sauron' which already exists.\u001b[0m \u001b[0;36m(UserWarning)\u001b[0m\n",
      "\u001b[1;33m[WARNING]: \u001b[0m\u001b[0;39mTrying to register the cmap 'sauron_r' which already exists.\u001b[0m \u001b[0;36m(UserWarning)\u001b[0m\n"
     ]
    },
    {
     "name": "stdout",
     "output_type": "stream",
     "text": [
      "  Kin PA:  98.5  +/-   0.8  (3*sigma error)\n",
      "Velocity Offset: 0.00\n"
     ]
    },
    {
     "name": "stderr",
     "output_type": "stream",
     "text": [
      "\u001b[1;33m[WARNING]: \u001b[0m\u001b[0;39mTrying to register the cmap 'sauron' which already exists.\u001b[0m \u001b[0;36m(UserWarning)\u001b[0m\n",
      "\u001b[1;33m[WARNING]: \u001b[0m\u001b[0;39mTrying to register the cmap 'sauron_r' which already exists.\u001b[0m \u001b[0;36m(UserWarning)\u001b[0m\n",
      "\u001b[1;33m[WARNING]: \u001b[0m\u001b[0;39mTrying to register the cmap 'sauron' which already exists.\u001b[0m \u001b[0;36m(UserWarning)\u001b[0m\n",
      "\u001b[1;33m[WARNING]: \u001b[0m\u001b[0;39mTrying to register the cmap 'sauron_r' which already exists.\u001b[0m \u001b[0;36m(UserWarning)\u001b[0m\n"
     ]
    },
    {
     "name": "stdout",
     "output_type": "stream",
     "text": [
      "  Kin PA:  96.0  +/-   3.0  (3*sigma error)\n",
      "Velocity Offset: 0.00\n"
     ]
    },
    {
     "name": "stderr",
     "output_type": "stream",
     "text": [
      "\u001b[1;33m[WARNING]: \u001b[0m\u001b[0;39mTrying to register the cmap 'sauron' which already exists.\u001b[0m \u001b[0;36m(UserWarning)\u001b[0m\n",
      "\u001b[1;33m[WARNING]: \u001b[0m\u001b[0;39mTrying to register the cmap 'sauron_r' which already exists.\u001b[0m \u001b[0;36m(UserWarning)\u001b[0m\n",
      "\u001b[1;33m[WARNING]: \u001b[0m\u001b[0;39mTrying to register the cmap 'sauron' which already exists.\u001b[0m \u001b[0;36m(UserWarning)\u001b[0m\n",
      "\u001b[1;33m[WARNING]: \u001b[0m\u001b[0;39mTrying to register the cmap 'sauron_r' which already exists.\u001b[0m \u001b[0;36m(UserWarning)\u001b[0m\n"
     ]
    },
    {
     "name": "stdout",
     "output_type": "stream",
     "text": [
      "  Kin PA:  25.0  +/-   0.5  (3*sigma error)\n",
      "Velocity Offset: 0.00\n"
     ]
    },
    {
     "name": "stderr",
     "output_type": "stream",
     "text": [
      "\u001b[1;33m[WARNING]: \u001b[0m\u001b[0;39mTrying to register the cmap 'sauron' which already exists.\u001b[0m \u001b[0;36m(UserWarning)\u001b[0m\n",
      "\u001b[1;33m[WARNING]: \u001b[0m\u001b[0;39mTrying to register the cmap 'sauron_r' which already exists.\u001b[0m \u001b[0;36m(UserWarning)\u001b[0m\n",
      "\u001b[1;33m[WARNING]: \u001b[0m\u001b[0;39mTrying to register the cmap 'sauron' which already exists.\u001b[0m \u001b[0;36m(UserWarning)\u001b[0m\n",
      "\u001b[1;33m[WARNING]: \u001b[0m\u001b[0;39mTrying to register the cmap 'sauron_r' which already exists.\u001b[0m \u001b[0;36m(UserWarning)\u001b[0m\n"
     ]
    },
    {
     "name": "stdout",
     "output_type": "stream",
     "text": [
      "  Kin PA: 117.5  +/-   6.0  (3*sigma error)\n",
      "Velocity Offset: 0.00\n"
     ]
    },
    {
     "name": "stderr",
     "output_type": "stream",
     "text": [
      "\u001b[1;33m[WARNING]: \u001b[0m\u001b[0;39mTrying to register the cmap 'sauron' which already exists.\u001b[0m \u001b[0;36m(UserWarning)\u001b[0m\n",
      "\u001b[1;33m[WARNING]: \u001b[0m\u001b[0;39mTrying to register the cmap 'sauron_r' which already exists.\u001b[0m \u001b[0;36m(UserWarning)\u001b[0m\n",
      "\u001b[1;33m[WARNING]: \u001b[0m\u001b[0;39mTrying to register the cmap 'sauron' which already exists.\u001b[0m \u001b[0;36m(UserWarning)\u001b[0m\n",
      "\u001b[1;33m[WARNING]: \u001b[0m\u001b[0;39mTrying to register the cmap 'sauron_r' which already exists.\u001b[0m \u001b[0;36m(UserWarning)\u001b[0m\n"
     ]
    },
    {
     "name": "stdout",
     "output_type": "stream",
     "text": [
      "  Kin PA:  66.5  +/-   3.5  (3*sigma error)\n",
      "Velocity Offset: 0.00\n"
     ]
    },
    {
     "name": "stderr",
     "output_type": "stream",
     "text": [
      "\u001b[1;33m[WARNING]: \u001b[0m\u001b[0;39mTrying to register the cmap 'sauron' which already exists.\u001b[0m \u001b[0;36m(UserWarning)\u001b[0m\n",
      "\u001b[1;33m[WARNING]: \u001b[0m\u001b[0;39mTrying to register the cmap 'sauron_r' which already exists.\u001b[0m \u001b[0;36m(UserWarning)\u001b[0m\n",
      "\u001b[1;33m[WARNING]: \u001b[0m\u001b[0;39mTrying to register the cmap 'sauron' which already exists.\u001b[0m \u001b[0;36m(UserWarning)\u001b[0m\n",
      "\u001b[1;33m[WARNING]: \u001b[0m\u001b[0;39mTrying to register the cmap 'sauron_r' which already exists.\u001b[0m \u001b[0;36m(UserWarning)\u001b[0m\n"
     ]
    },
    {
     "name": "stdout",
     "output_type": "stream",
     "text": [
      "  Kin PA:  41.5  +/-  11.0  (3*sigma error)\n",
      "Velocity Offset: 0.00\n"
     ]
    },
    {
     "name": "stderr",
     "output_type": "stream",
     "text": [
      "\u001b[1;33m[WARNING]: \u001b[0m\u001b[0;39mTrying to register the cmap 'sauron' which already exists.\u001b[0m \u001b[0;36m(UserWarning)\u001b[0m\n",
      "\u001b[1;33m[WARNING]: \u001b[0m\u001b[0;39mTrying to register the cmap 'sauron_r' which already exists.\u001b[0m \u001b[0;36m(UserWarning)\u001b[0m\n",
      "\u001b[1;33m[WARNING]: \u001b[0m\u001b[0;39mTrying to register the cmap 'sauron' which already exists.\u001b[0m \u001b[0;36m(UserWarning)\u001b[0m\n",
      "\u001b[1;33m[WARNING]: \u001b[0m\u001b[0;39mTrying to register the cmap 'sauron_r' which already exists.\u001b[0m \u001b[0;36m(UserWarning)\u001b[0m\n"
     ]
    },
    {
     "name": "stdout",
     "output_type": "stream",
     "text": [
      "  Kin PA:  36.0  +/-   0.5  (3*sigma error)\n",
      "Velocity Offset: 0.00\n"
     ]
    },
    {
     "name": "stderr",
     "output_type": "stream",
     "text": [
      "\u001b[1;33m[WARNING]: \u001b[0m\u001b[0;39mTrying to register the cmap 'sauron' which already exists.\u001b[0m \u001b[0;36m(UserWarning)\u001b[0m\n",
      "\u001b[1;33m[WARNING]: \u001b[0m\u001b[0;39mTrying to register the cmap 'sauron_r' which already exists.\u001b[0m \u001b[0;36m(UserWarning)\u001b[0m\n",
      "\u001b[1;33m[WARNING]: \u001b[0m\u001b[0;39mTrying to register the cmap 'sauron' which already exists.\u001b[0m \u001b[0;36m(UserWarning)\u001b[0m\n",
      "\u001b[1;33m[WARNING]: \u001b[0m\u001b[0;39mTrying to register the cmap 'sauron_r' which already exists.\u001b[0m \u001b[0;36m(UserWarning)\u001b[0m\n"
     ]
    },
    {
     "name": "stdout",
     "output_type": "stream",
     "text": [
      "  Kin PA:  44.0  +/-   2.5  (3*sigma error)\n",
      "Velocity Offset: 0.00\n"
     ]
    },
    {
     "name": "stderr",
     "output_type": "stream",
     "text": [
      "\u001b[1;33m[WARNING]: \u001b[0m\u001b[0;39mTrying to register the cmap 'sauron' which already exists.\u001b[0m \u001b[0;36m(UserWarning)\u001b[0m\n",
      "\u001b[1;33m[WARNING]: \u001b[0m\u001b[0;39mTrying to register the cmap 'sauron_r' which already exists.\u001b[0m \u001b[0;36m(UserWarning)\u001b[0m\n",
      "\u001b[1;33m[WARNING]: \u001b[0m\u001b[0;39mTrying to register the cmap 'sauron' which already exists.\u001b[0m \u001b[0;36m(UserWarning)\u001b[0m\n",
      "\u001b[1;33m[WARNING]: \u001b[0m\u001b[0;39mTrying to register the cmap 'sauron_r' which already exists.\u001b[0m \u001b[0;36m(UserWarning)\u001b[0m\n"
     ]
    },
    {
     "name": "stdout",
     "output_type": "stream",
     "text": [
      "  Kin PA: 103.0  +/-   0.5  (3*sigma error)\n",
      "Velocity Offset: 0.00\n"
     ]
    },
    {
     "name": "stderr",
     "output_type": "stream",
     "text": [
      "\u001b[1;33m[WARNING]: \u001b[0m\u001b[0;39mTrying to register the cmap 'sauron' which already exists.\u001b[0m \u001b[0;36m(UserWarning)\u001b[0m\n",
      "\u001b[1;33m[WARNING]: \u001b[0m\u001b[0;39mTrying to register the cmap 'sauron_r' which already exists.\u001b[0m \u001b[0;36m(UserWarning)\u001b[0m\n",
      "\u001b[1;33m[WARNING]: \u001b[0m\u001b[0;39mTrying to register the cmap 'sauron' which already exists.\u001b[0m \u001b[0;36m(UserWarning)\u001b[0m\n",
      "\u001b[1;33m[WARNING]: \u001b[0m\u001b[0;39mTrying to register the cmap 'sauron_r' which already exists.\u001b[0m \u001b[0;36m(UserWarning)\u001b[0m\n"
     ]
    },
    {
     "name": "stdout",
     "output_type": "stream",
     "text": [
      "  Kin PA: 113.5  +/-  17.8  (3*sigma error)\n",
      "Velocity Offset: 0.00\n"
     ]
    },
    {
     "name": "stderr",
     "output_type": "stream",
     "text": [
      "\u001b[1;33m[WARNING]: \u001b[0m\u001b[0;39mTrying to register the cmap 'sauron' which already exists.\u001b[0m \u001b[0;36m(UserWarning)\u001b[0m\n",
      "\u001b[1;33m[WARNING]: \u001b[0m\u001b[0;39mTrying to register the cmap 'sauron_r' which already exists.\u001b[0m \u001b[0;36m(UserWarning)\u001b[0m\n",
      "\u001b[1;33m[WARNING]: \u001b[0m\u001b[0;39mTrying to register the cmap 'sauron' which already exists.\u001b[0m \u001b[0;36m(UserWarning)\u001b[0m\n",
      "\u001b[1;33m[WARNING]: \u001b[0m\u001b[0;39mTrying to register the cmap 'sauron_r' which already exists.\u001b[0m \u001b[0;36m(UserWarning)\u001b[0m\n"
     ]
    },
    {
     "name": "stdout",
     "output_type": "stream",
     "text": [
      "  Kin PA:  75.0  +/-   0.5  (3*sigma error)\n",
      "Velocity Offset: 0.00\n"
     ]
    },
    {
     "name": "stderr",
     "output_type": "stream",
     "text": [
      "\u001b[1;33m[WARNING]: \u001b[0m\u001b[0;39mTrying to register the cmap 'sauron' which already exists.\u001b[0m \u001b[0;36m(UserWarning)\u001b[0m\n",
      "\u001b[1;33m[WARNING]: \u001b[0m\u001b[0;39mTrying to register the cmap 'sauron_r' which already exists.\u001b[0m \u001b[0;36m(UserWarning)\u001b[0m\n",
      "\u001b[1;33m[WARNING]: \u001b[0m\u001b[0;39mTrying to register the cmap 'sauron' which already exists.\u001b[0m \u001b[0;36m(UserWarning)\u001b[0m\n",
      "\u001b[1;33m[WARNING]: \u001b[0m\u001b[0;39mTrying to register the cmap 'sauron_r' which already exists.\u001b[0m \u001b[0;36m(UserWarning)\u001b[0m\n"
     ]
    },
    {
     "name": "stdout",
     "output_type": "stream",
     "text": [
      "  Kin PA: 121.0  +/-  66.8  (3*sigma error)\n",
      "Velocity Offset: 0.00\n"
     ]
    },
    {
     "name": "stderr",
     "output_type": "stream",
     "text": [
      "\u001b[1;33m[WARNING]: \u001b[0m\u001b[0;39mTrying to register the cmap 'sauron' which already exists.\u001b[0m \u001b[0;36m(UserWarning)\u001b[0m\n",
      "\u001b[1;33m[WARNING]: \u001b[0m\u001b[0;39mTrying to register the cmap 'sauron_r' which already exists.\u001b[0m \u001b[0;36m(UserWarning)\u001b[0m\n",
      "\u001b[1;33m[WARNING]: \u001b[0m\u001b[0;39mTrying to register the cmap 'sauron' which already exists.\u001b[0m \u001b[0;36m(UserWarning)\u001b[0m\n",
      "\u001b[1;33m[WARNING]: \u001b[0m\u001b[0;39mTrying to register the cmap 'sauron_r' which already exists.\u001b[0m \u001b[0;36m(UserWarning)\u001b[0m\n"
     ]
    },
    {
     "name": "stdout",
     "output_type": "stream",
     "text": [
      "  Kin PA:  57.5  +/-   8.2  (3*sigma error)\n",
      "Velocity Offset: 0.00\n"
     ]
    },
    {
     "name": "stderr",
     "output_type": "stream",
     "text": [
      "\u001b[1;33m[WARNING]: \u001b[0m\u001b[0;39mTrying to register the cmap 'sauron' which already exists.\u001b[0m \u001b[0;36m(UserWarning)\u001b[0m\n",
      "\u001b[1;33m[WARNING]: \u001b[0m\u001b[0;39mTrying to register the cmap 'sauron_r' which already exists.\u001b[0m \u001b[0;36m(UserWarning)\u001b[0m\n",
      "\u001b[1;33m[WARNING]: \u001b[0m\u001b[0;39mTrying to register the cmap 'sauron' which already exists.\u001b[0m \u001b[0;36m(UserWarning)\u001b[0m\n",
      "\u001b[1;33m[WARNING]: \u001b[0m\u001b[0;39mTrying to register the cmap 'sauron_r' which already exists.\u001b[0m \u001b[0;36m(UserWarning)\u001b[0m\n"
     ]
    },
    {
     "name": "stdout",
     "output_type": "stream",
     "text": [
      "  Kin PA:  24.0  +/-  11.2  (3*sigma error)\n",
      "Velocity Offset: 0.00\n"
     ]
    },
    {
     "name": "stderr",
     "output_type": "stream",
     "text": [
      "\u001b[1;33m[WARNING]: \u001b[0m\u001b[0;39mTrying to register the cmap 'sauron' which already exists.\u001b[0m \u001b[0;36m(UserWarning)\u001b[0m\n",
      "\u001b[1;33m[WARNING]: \u001b[0m\u001b[0;39mTrying to register the cmap 'sauron_r' which already exists.\u001b[0m \u001b[0;36m(UserWarning)\u001b[0m\n",
      "\u001b[1;33m[WARNING]: \u001b[0m\u001b[0;39mTrying to register the cmap 'sauron' which already exists.\u001b[0m \u001b[0;36m(UserWarning)\u001b[0m\n",
      "\u001b[1;33m[WARNING]: \u001b[0m\u001b[0;39mTrying to register the cmap 'sauron_r' which already exists.\u001b[0m \u001b[0;36m(UserWarning)\u001b[0m\n"
     ]
    },
    {
     "name": "stdout",
     "output_type": "stream",
     "text": [
      "  Kin PA: 149.5  +/-   0.5  (3*sigma error)\n",
      "Velocity Offset: 0.00\n"
     ]
    },
    {
     "name": "stderr",
     "output_type": "stream",
     "text": [
      "\u001b[1;33m[WARNING]: \u001b[0m\u001b[0;39mTrying to register the cmap 'sauron' which already exists.\u001b[0m \u001b[0;36m(UserWarning)\u001b[0m\n",
      "\u001b[1;33m[WARNING]: \u001b[0m\u001b[0;39mTrying to register the cmap 'sauron_r' which already exists.\u001b[0m \u001b[0;36m(UserWarning)\u001b[0m\n",
      "\u001b[1;33m[WARNING]: \u001b[0m\u001b[0;39mTrying to register the cmap 'sauron' which already exists.\u001b[0m \u001b[0;36m(UserWarning)\u001b[0m\n",
      "\u001b[1;33m[WARNING]: \u001b[0m\u001b[0;39mTrying to register the cmap 'sauron_r' which already exists.\u001b[0m \u001b[0;36m(UserWarning)\u001b[0m\n"
     ]
    },
    {
     "name": "stdout",
     "output_type": "stream",
     "text": [
      "  Kin PA:  70.0  +/-   9.5  (3*sigma error)\n",
      "Velocity Offset: 0.00\n"
     ]
    },
    {
     "name": "stderr",
     "output_type": "stream",
     "text": [
      "\u001b[1;33m[WARNING]: \u001b[0m\u001b[0;39mTrying to register the cmap 'sauron' which already exists.\u001b[0m \u001b[0;36m(UserWarning)\u001b[0m\n",
      "\u001b[1;33m[WARNING]: \u001b[0m\u001b[0;39mTrying to register the cmap 'sauron_r' which already exists.\u001b[0m \u001b[0;36m(UserWarning)\u001b[0m\n",
      "\u001b[1;33m[WARNING]: \u001b[0m\u001b[0;39mTrying to register the cmap 'sauron' which already exists.\u001b[0m \u001b[0;36m(UserWarning)\u001b[0m\n",
      "\u001b[1;33m[WARNING]: \u001b[0m\u001b[0;39mTrying to register the cmap 'sauron_r' which already exists.\u001b[0m \u001b[0;36m(UserWarning)\u001b[0m\n"
     ]
    },
    {
     "name": "stdout",
     "output_type": "stream",
     "text": [
      "  Kin PA:  14.5  +/-  15.5  (3*sigma error)\n",
      "Velocity Offset: 0.00\n"
     ]
    },
    {
     "name": "stderr",
     "output_type": "stream",
     "text": [
      "\u001b[1;33m[WARNING]: \u001b[0m\u001b[0;39mTrying to register the cmap 'sauron' which already exists.\u001b[0m \u001b[0;36m(UserWarning)\u001b[0m\n",
      "\u001b[1;33m[WARNING]: \u001b[0m\u001b[0;39mTrying to register the cmap 'sauron_r' which already exists.\u001b[0m \u001b[0;36m(UserWarning)\u001b[0m\n",
      "\u001b[1;33m[WARNING]: \u001b[0m\u001b[0;39mTrying to register the cmap 'sauron' which already exists.\u001b[0m \u001b[0;36m(UserWarning)\u001b[0m\n",
      "\u001b[1;33m[WARNING]: \u001b[0m\u001b[0;39mTrying to register the cmap 'sauron_r' which already exists.\u001b[0m \u001b[0;36m(UserWarning)\u001b[0m\n"
     ]
    },
    {
     "name": "stdout",
     "output_type": "stream",
     "text": [
      "  Kin PA: 161.0  +/-  13.5  (3*sigma error)\n",
      "Velocity Offset: 0.00\n"
     ]
    },
    {
     "name": "stderr",
     "output_type": "stream",
     "text": [
      "\u001b[1;33m[WARNING]: \u001b[0m\u001b[0;39mTrying to register the cmap 'sauron' which already exists.\u001b[0m \u001b[0;36m(UserWarning)\u001b[0m\n",
      "\u001b[1;33m[WARNING]: \u001b[0m\u001b[0;39mTrying to register the cmap 'sauron_r' which already exists.\u001b[0m \u001b[0;36m(UserWarning)\u001b[0m\n",
      "\u001b[1;33m[WARNING]: \u001b[0m\u001b[0;39mTrying to register the cmap 'sauron' which already exists.\u001b[0m \u001b[0;36m(UserWarning)\u001b[0m\n",
      "\u001b[1;33m[WARNING]: \u001b[0m\u001b[0;39mTrying to register the cmap 'sauron_r' which already exists.\u001b[0m \u001b[0;36m(UserWarning)\u001b[0m\n"
     ]
    },
    {
     "name": "stdout",
     "output_type": "stream",
     "text": [
      "  Kin PA: 116.0  +/-   6.2  (3*sigma error)\n",
      "Velocity Offset: 0.00\n"
     ]
    },
    {
     "name": "stderr",
     "output_type": "stream",
     "text": [
      "\u001b[1;33m[WARNING]: \u001b[0m\u001b[0;39mTrying to register the cmap 'sauron' which already exists.\u001b[0m \u001b[0;36m(UserWarning)\u001b[0m\n",
      "\u001b[1;33m[WARNING]: \u001b[0m\u001b[0;39mTrying to register the cmap 'sauron_r' which already exists.\u001b[0m \u001b[0;36m(UserWarning)\u001b[0m\n",
      "\u001b[1;33m[WARNING]: \u001b[0m\u001b[0;39mTrying to register the cmap 'sauron' which already exists.\u001b[0m \u001b[0;36m(UserWarning)\u001b[0m\n",
      "\u001b[1;33m[WARNING]: \u001b[0m\u001b[0;39mTrying to register the cmap 'sauron_r' which already exists.\u001b[0m \u001b[0;36m(UserWarning)\u001b[0m\n"
     ]
    },
    {
     "name": "stdout",
     "output_type": "stream",
     "text": [
      "  Kin PA: 110.0  +/-   6.5  (3*sigma error)\n",
      "Velocity Offset: 0.00\n"
     ]
    },
    {
     "name": "stderr",
     "output_type": "stream",
     "text": [
      "\u001b[1;33m[WARNING]: \u001b[0m\u001b[0;39mTrying to register the cmap 'sauron' which already exists.\u001b[0m \u001b[0;36m(UserWarning)\u001b[0m\n",
      "\u001b[1;33m[WARNING]: \u001b[0m\u001b[0;39mTrying to register the cmap 'sauron_r' which already exists.\u001b[0m \u001b[0;36m(UserWarning)\u001b[0m\n",
      "\u001b[1;33m[WARNING]: \u001b[0m\u001b[0;39mTrying to register the cmap 'sauron' which already exists.\u001b[0m \u001b[0;36m(UserWarning)\u001b[0m\n",
      "\u001b[1;33m[WARNING]: \u001b[0m\u001b[0;39mTrying to register the cmap 'sauron_r' which already exists.\u001b[0m \u001b[0;36m(UserWarning)\u001b[0m\n"
     ]
    },
    {
     "name": "stdout",
     "output_type": "stream",
     "text": [
      "  Kin PA:  40.5  +/-   0.5  (3*sigma error)\n",
      "Velocity Offset: 0.00\n"
     ]
    },
    {
     "name": "stderr",
     "output_type": "stream",
     "text": [
      "\u001b[1;33m[WARNING]: \u001b[0m\u001b[0;39mTrying to register the cmap 'sauron' which already exists.\u001b[0m \u001b[0;36m(UserWarning)\u001b[0m\n",
      "\u001b[1;33m[WARNING]: \u001b[0m\u001b[0;39mTrying to register the cmap 'sauron_r' which already exists.\u001b[0m \u001b[0;36m(UserWarning)\u001b[0m\n",
      "\u001b[1;33m[WARNING]: \u001b[0m\u001b[0;39mTrying to register the cmap 'sauron' which already exists.\u001b[0m \u001b[0;36m(UserWarning)\u001b[0m\n",
      "\u001b[1;33m[WARNING]: \u001b[0m\u001b[0;39mTrying to register the cmap 'sauron_r' which already exists.\u001b[0m \u001b[0;36m(UserWarning)\u001b[0m\n"
     ]
    },
    {
     "name": "stdout",
     "output_type": "stream",
     "text": [
      "  Kin PA: 133.5  +/-  15.0  (3*sigma error)\n",
      "Velocity Offset: 0.00\n"
     ]
    },
    {
     "name": "stderr",
     "output_type": "stream",
     "text": [
      "\u001b[1;33m[WARNING]: \u001b[0m\u001b[0;39mTrying to register the cmap 'sauron' which already exists.\u001b[0m \u001b[0;36m(UserWarning)\u001b[0m\n",
      "\u001b[1;33m[WARNING]: \u001b[0m\u001b[0;39mTrying to register the cmap 'sauron_r' which already exists.\u001b[0m \u001b[0;36m(UserWarning)\u001b[0m\n",
      "\u001b[1;33m[WARNING]: \u001b[0m\u001b[0;39mTrying to register the cmap 'sauron' which already exists.\u001b[0m \u001b[0;36m(UserWarning)\u001b[0m\n",
      "\u001b[1;33m[WARNING]: \u001b[0m\u001b[0;39mTrying to register the cmap 'sauron_r' which already exists.\u001b[0m \u001b[0;36m(UserWarning)\u001b[0m\n"
     ]
    },
    {
     "name": "stdout",
     "output_type": "stream",
     "text": [
      "  Kin PA: 159.0  +/-   0.5  (3*sigma error)\n",
      "Velocity Offset: 0.00\n"
     ]
    },
    {
     "name": "stderr",
     "output_type": "stream",
     "text": [
      "\u001b[1;33m[WARNING]: \u001b[0m\u001b[0;39mTrying to register the cmap 'sauron' which already exists.\u001b[0m \u001b[0;36m(UserWarning)\u001b[0m\n",
      "\u001b[1;33m[WARNING]: \u001b[0m\u001b[0;39mTrying to register the cmap 'sauron_r' which already exists.\u001b[0m \u001b[0;36m(UserWarning)\u001b[0m\n",
      "\u001b[1;33m[WARNING]: \u001b[0m\u001b[0;39mTrying to register the cmap 'sauron' which already exists.\u001b[0m \u001b[0;36m(UserWarning)\u001b[0m\n",
      "\u001b[1;33m[WARNING]: \u001b[0m\u001b[0;39mTrying to register the cmap 'sauron_r' which already exists.\u001b[0m \u001b[0;36m(UserWarning)\u001b[0m\n"
     ]
    },
    {
     "name": "stdout",
     "output_type": "stream",
     "text": [
      "  Kin PA: 152.5  +/-   4.0  (3*sigma error)\n",
      "Velocity Offset: 0.00\n"
     ]
    },
    {
     "name": "stderr",
     "output_type": "stream",
     "text": [
      "\u001b[1;33m[WARNING]: \u001b[0m\u001b[0;39mTrying to register the cmap 'sauron' which already exists.\u001b[0m \u001b[0;36m(UserWarning)\u001b[0m\n",
      "\u001b[1;33m[WARNING]: \u001b[0m\u001b[0;39mTrying to register the cmap 'sauron_r' which already exists.\u001b[0m \u001b[0;36m(UserWarning)\u001b[0m\n",
      "\u001b[1;33m[WARNING]: \u001b[0m\u001b[0;39mTrying to register the cmap 'sauron' which already exists.\u001b[0m \u001b[0;36m(UserWarning)\u001b[0m\n",
      "\u001b[1;33m[WARNING]: \u001b[0m\u001b[0;39mTrying to register the cmap 'sauron_r' which already exists.\u001b[0m \u001b[0;36m(UserWarning)\u001b[0m\n"
     ]
    },
    {
     "name": "stdout",
     "output_type": "stream",
     "text": [
      "  Kin PA:  78.0  +/-   0.5  (3*sigma error)\n",
      "Velocity Offset: 0.00\n"
     ]
    },
    {
     "name": "stderr",
     "output_type": "stream",
     "text": [
      "\u001b[1;33m[WARNING]: \u001b[0m\u001b[0;39mTrying to register the cmap 'sauron' which already exists.\u001b[0m \u001b[0;36m(UserWarning)\u001b[0m\n",
      "\u001b[1;33m[WARNING]: \u001b[0m\u001b[0;39mTrying to register the cmap 'sauron_r' which already exists.\u001b[0m \u001b[0;36m(UserWarning)\u001b[0m\n",
      "\u001b[1;33m[WARNING]: \u001b[0m\u001b[0;39mTrying to register the cmap 'sauron' which already exists.\u001b[0m \u001b[0;36m(UserWarning)\u001b[0m\n",
      "\u001b[1;33m[WARNING]: \u001b[0m\u001b[0;39mTrying to register the cmap 'sauron_r' which already exists.\u001b[0m \u001b[0;36m(UserWarning)\u001b[0m\n"
     ]
    },
    {
     "name": "stdout",
     "output_type": "stream",
     "text": [
      "  Kin PA: 117.0  +/-   3.2  (3*sigma error)\n",
      "Velocity Offset: 0.00\n"
     ]
    },
    {
     "name": "stderr",
     "output_type": "stream",
     "text": [
      "\u001b[1;33m[WARNING]: \u001b[0m\u001b[0;39mTrying to register the cmap 'sauron' which already exists.\u001b[0m \u001b[0;36m(UserWarning)\u001b[0m\n",
      "\u001b[1;33m[WARNING]: \u001b[0m\u001b[0;39mTrying to register the cmap 'sauron_r' which already exists.\u001b[0m \u001b[0;36m(UserWarning)\u001b[0m\n",
      "\u001b[1;33m[WARNING]: \u001b[0m\u001b[0;39mTrying to register the cmap 'sauron' which already exists.\u001b[0m \u001b[0;36m(UserWarning)\u001b[0m\n",
      "\u001b[1;33m[WARNING]: \u001b[0m\u001b[0;39mTrying to register the cmap 'sauron_r' which already exists.\u001b[0m \u001b[0;36m(UserWarning)\u001b[0m\n"
     ]
    },
    {
     "name": "stdout",
     "output_type": "stream",
     "text": [
      "  Kin PA:  57.5  +/-   0.5  (3*sigma error)\n",
      "Velocity Offset: 0.00\n"
     ]
    },
    {
     "name": "stderr",
     "output_type": "stream",
     "text": [
      "\u001b[1;33m[WARNING]: \u001b[0m\u001b[0;39mTrying to register the cmap 'sauron' which already exists.\u001b[0m \u001b[0;36m(UserWarning)\u001b[0m\n",
      "\u001b[1;33m[WARNING]: \u001b[0m\u001b[0;39mTrying to register the cmap 'sauron_r' which already exists.\u001b[0m \u001b[0;36m(UserWarning)\u001b[0m\n",
      "\u001b[1;33m[WARNING]: \u001b[0m\u001b[0;39mTrying to register the cmap 'sauron' which already exists.\u001b[0m \u001b[0;36m(UserWarning)\u001b[0m\n",
      "\u001b[1;33m[WARNING]: \u001b[0m\u001b[0;39mTrying to register the cmap 'sauron_r' which already exists.\u001b[0m \u001b[0;36m(UserWarning)\u001b[0m\n"
     ]
    },
    {
     "name": "stdout",
     "output_type": "stream",
     "text": [
      "  Kin PA:  89.0  +/-   2.5  (3*sigma error)\n",
      "Velocity Offset: 0.00\n"
     ]
    },
    {
     "name": "stderr",
     "output_type": "stream",
     "text": [
      "\u001b[1;33m[WARNING]: \u001b[0m\u001b[0;39mTrying to register the cmap 'sauron' which already exists.\u001b[0m \u001b[0;36m(UserWarning)\u001b[0m\n",
      "\u001b[1;33m[WARNING]: \u001b[0m\u001b[0;39mTrying to register the cmap 'sauron_r' which already exists.\u001b[0m \u001b[0;36m(UserWarning)\u001b[0m\n",
      "\u001b[1;33m[WARNING]: \u001b[0m\u001b[0;39mTrying to register the cmap 'sauron' which already exists.\u001b[0m \u001b[0;36m(UserWarning)\u001b[0m\n",
      "\u001b[1;33m[WARNING]: \u001b[0m\u001b[0;39mTrying to register the cmap 'sauron_r' which already exists.\u001b[0m \u001b[0;36m(UserWarning)\u001b[0m\n"
     ]
    },
    {
     "name": "stdout",
     "output_type": "stream",
     "text": [
      "  Kin PA: 173.0  +/-   0.5  (3*sigma error)\n",
      "Velocity Offset: 0.00\n"
     ]
    },
    {
     "name": "stderr",
     "output_type": "stream",
     "text": [
      "\u001b[1;33m[WARNING]: \u001b[0m\u001b[0;39mTrying to register the cmap 'sauron' which already exists.\u001b[0m \u001b[0;36m(UserWarning)\u001b[0m\n",
      "\u001b[1;33m[WARNING]: \u001b[0m\u001b[0;39mTrying to register the cmap 'sauron_r' which already exists.\u001b[0m \u001b[0;36m(UserWarning)\u001b[0m\n",
      "\u001b[1;33m[WARNING]: \u001b[0m\u001b[0;39mTrying to register the cmap 'sauron' which already exists.\u001b[0m \u001b[0;36m(UserWarning)\u001b[0m\n",
      "\u001b[1;33m[WARNING]: \u001b[0m\u001b[0;39mTrying to register the cmap 'sauron_r' which already exists.\u001b[0m \u001b[0;36m(UserWarning)\u001b[0m\n"
     ]
    },
    {
     "name": "stdout",
     "output_type": "stream",
     "text": [
      "  Kin PA: 169.5  +/-   6.0  (3*sigma error)\n",
      "Velocity Offset: 0.00\n"
     ]
    },
    {
     "name": "stderr",
     "output_type": "stream",
     "text": [
      "\u001b[1;33m[WARNING]: \u001b[0m\u001b[0;39mTrying to register the cmap 'sauron' which already exists.\u001b[0m \u001b[0;36m(UserWarning)\u001b[0m\n",
      "\u001b[1;33m[WARNING]: \u001b[0m\u001b[0;39mTrying to register the cmap 'sauron_r' which already exists.\u001b[0m \u001b[0;36m(UserWarning)\u001b[0m\n",
      "\u001b[1;33m[WARNING]: \u001b[0m\u001b[0;39mTrying to register the cmap 'sauron' which already exists.\u001b[0m \u001b[0;36m(UserWarning)\u001b[0m\n",
      "\u001b[1;33m[WARNING]: \u001b[0m\u001b[0;39mTrying to register the cmap 'sauron_r' which already exists.\u001b[0m \u001b[0;36m(UserWarning)\u001b[0m\n"
     ]
    },
    {
     "name": "stdout",
     "output_type": "stream",
     "text": [
      "  Kin PA: 176.0  +/-   0.5  (3*sigma error)\n",
      "Velocity Offset: 0.00\n"
     ]
    },
    {
     "name": "stderr",
     "output_type": "stream",
     "text": [
      "\u001b[1;33m[WARNING]: \u001b[0m\u001b[0;39mTrying to register the cmap 'sauron' which already exists.\u001b[0m \u001b[0;36m(UserWarning)\u001b[0m\n",
      "\u001b[1;33m[WARNING]: \u001b[0m\u001b[0;39mTrying to register the cmap 'sauron_r' which already exists.\u001b[0m \u001b[0;36m(UserWarning)\u001b[0m\n",
      "\u001b[1;33m[WARNING]: \u001b[0m\u001b[0;39mTrying to register the cmap 'sauron' which already exists.\u001b[0m \u001b[0;36m(UserWarning)\u001b[0m\n",
      "\u001b[1;33m[WARNING]: \u001b[0m\u001b[0;39mTrying to register the cmap 'sauron_r' which already exists.\u001b[0m \u001b[0;36m(UserWarning)\u001b[0m\n"
     ]
    },
    {
     "name": "stdout",
     "output_type": "stream",
     "text": [
      "  Kin PA:   1.5  +/-  11.5  (3*sigma error)\n",
      "Velocity Offset: 0.00\n"
     ]
    },
    {
     "name": "stderr",
     "output_type": "stream",
     "text": [
      "\u001b[1;33m[WARNING]: \u001b[0m\u001b[0;39mTrying to register the cmap 'sauron' which already exists.\u001b[0m \u001b[0;36m(UserWarning)\u001b[0m\n",
      "\u001b[1;33m[WARNING]: \u001b[0m\u001b[0;39mTrying to register the cmap 'sauron_r' which already exists.\u001b[0m \u001b[0;36m(UserWarning)\u001b[0m\n",
      "\u001b[1;33m[WARNING]: \u001b[0m\u001b[0;39mTrying to register the cmap 'sauron' which already exists.\u001b[0m \u001b[0;36m(UserWarning)\u001b[0m\n",
      "\u001b[1;33m[WARNING]: \u001b[0m\u001b[0;39mTrying to register the cmap 'sauron_r' which already exists.\u001b[0m \u001b[0;36m(UserWarning)\u001b[0m\n"
     ]
    },
    {
     "name": "stdout",
     "output_type": "stream",
     "text": [
      "  Kin PA: 100.5  +/-   0.5  (3*sigma error)\n",
      "Velocity Offset: 0.00\n"
     ]
    },
    {
     "name": "stderr",
     "output_type": "stream",
     "text": [
      "\u001b[1;33m[WARNING]: \u001b[0m\u001b[0;39mTrying to register the cmap 'sauron' which already exists.\u001b[0m \u001b[0;36m(UserWarning)\u001b[0m\n",
      "\u001b[1;33m[WARNING]: \u001b[0m\u001b[0;39mTrying to register the cmap 'sauron_r' which already exists.\u001b[0m \u001b[0;36m(UserWarning)\u001b[0m\n",
      "\u001b[1;33m[WARNING]: \u001b[0m\u001b[0;39mTrying to register the cmap 'sauron' which already exists.\u001b[0m \u001b[0;36m(UserWarning)\u001b[0m\n",
      "\u001b[1;33m[WARNING]: \u001b[0m\u001b[0;39mTrying to register the cmap 'sauron_r' which already exists.\u001b[0m \u001b[0;36m(UserWarning)\u001b[0m\n"
     ]
    },
    {
     "name": "stdout",
     "output_type": "stream",
     "text": [
      "  Kin PA:  77.5  +/-  17.0  (3*sigma error)\n",
      "Velocity Offset: 0.00\n"
     ]
    },
    {
     "name": "stderr",
     "output_type": "stream",
     "text": [
      "\u001b[1;33m[WARNING]: \u001b[0m\u001b[0;39mTrying to register the cmap 'sauron' which already exists.\u001b[0m \u001b[0;36m(UserWarning)\u001b[0m\n",
      "\u001b[1;33m[WARNING]: \u001b[0m\u001b[0;39mTrying to register the cmap 'sauron_r' which already exists.\u001b[0m \u001b[0;36m(UserWarning)\u001b[0m\n",
      "\u001b[1;33m[WARNING]: \u001b[0m\u001b[0;39mTrying to register the cmap 'sauron' which already exists.\u001b[0m \u001b[0;36m(UserWarning)\u001b[0m\n",
      "\u001b[1;33m[WARNING]: \u001b[0m\u001b[0;39mTrying to register the cmap 'sauron_r' which already exists.\u001b[0m \u001b[0;36m(UserWarning)\u001b[0m\n"
     ]
    },
    {
     "name": "stdout",
     "output_type": "stream",
     "text": [
      "  Kin PA: 106.5  +/-   0.5  (3*sigma error)\n",
      "Velocity Offset: 0.00\n"
     ]
    },
    {
     "name": "stderr",
     "output_type": "stream",
     "text": [
      "\u001b[1;33m[WARNING]: \u001b[0m\u001b[0;39mTrying to register the cmap 'sauron' which already exists.\u001b[0m \u001b[0;36m(UserWarning)\u001b[0m\n",
      "\u001b[1;33m[WARNING]: \u001b[0m\u001b[0;39mTrying to register the cmap 'sauron_r' which already exists.\u001b[0m \u001b[0;36m(UserWarning)\u001b[0m\n",
      "\u001b[1;33m[WARNING]: \u001b[0m\u001b[0;39mTrying to register the cmap 'sauron' which already exists.\u001b[0m \u001b[0;36m(UserWarning)\u001b[0m\n",
      "\u001b[1;33m[WARNING]: \u001b[0m\u001b[0;39mTrying to register the cmap 'sauron_r' which already exists.\u001b[0m \u001b[0;36m(UserWarning)\u001b[0m\n"
     ]
    },
    {
     "name": "stdout",
     "output_type": "stream",
     "text": [
      "  Kin PA:  25.0  +/-   7.5  (3*sigma error)\n",
      "Velocity Offset: 0.00\n"
     ]
    },
    {
     "name": "stderr",
     "output_type": "stream",
     "text": [
      "\u001b[1;33m[WARNING]: \u001b[0m\u001b[0;39mTrying to register the cmap 'sauron' which already exists.\u001b[0m \u001b[0;36m(UserWarning)\u001b[0m\n",
      "\u001b[1;33m[WARNING]: \u001b[0m\u001b[0;39mTrying to register the cmap 'sauron_r' which already exists.\u001b[0m \u001b[0;36m(UserWarning)\u001b[0m\n",
      "\u001b[1;33m[WARNING]: \u001b[0m\u001b[0;39mTrying to register the cmap 'sauron' which already exists.\u001b[0m \u001b[0;36m(UserWarning)\u001b[0m\n",
      "\u001b[1;33m[WARNING]: \u001b[0m\u001b[0;39mTrying to register the cmap 'sauron_r' which already exists.\u001b[0m \u001b[0;36m(UserWarning)\u001b[0m\n"
     ]
    },
    {
     "name": "stdout",
     "output_type": "stream",
     "text": [
      "  Kin PA:  81.0  +/-   1.2  (3*sigma error)\n",
      "Velocity Offset: 0.00\n"
     ]
    },
    {
     "name": "stderr",
     "output_type": "stream",
     "text": [
      "\u001b[1;33m[WARNING]: \u001b[0m\u001b[0;39mTrying to register the cmap 'sauron' which already exists.\u001b[0m \u001b[0;36m(UserWarning)\u001b[0m\n",
      "\u001b[1;33m[WARNING]: \u001b[0m\u001b[0;39mTrying to register the cmap 'sauron_r' which already exists.\u001b[0m \u001b[0;36m(UserWarning)\u001b[0m\n",
      "\u001b[1;33m[WARNING]: \u001b[0m\u001b[0;39mTrying to register the cmap 'sauron' which already exists.\u001b[0m \u001b[0;36m(UserWarning)\u001b[0m\n",
      "\u001b[1;33m[WARNING]: \u001b[0m\u001b[0;39mTrying to register the cmap 'sauron_r' which already exists.\u001b[0m \u001b[0;36m(UserWarning)\u001b[0m\n"
     ]
    },
    {
     "name": "stdout",
     "output_type": "stream",
     "text": [
      "  Kin PA:  76.0  +/-  89.8  (3*sigma error)\n",
      "Velocity Offset: 0.00\n"
     ]
    },
    {
     "name": "stderr",
     "output_type": "stream",
     "text": [
      "\u001b[1;33m[WARNING]: \u001b[0m\u001b[0;39mTrying to register the cmap 'sauron' which already exists.\u001b[0m \u001b[0;36m(UserWarning)\u001b[0m\n",
      "\u001b[1;33m[WARNING]: \u001b[0m\u001b[0;39mTrying to register the cmap 'sauron_r' which already exists.\u001b[0m \u001b[0;36m(UserWarning)\u001b[0m\n",
      "\u001b[1;33m[WARNING]: \u001b[0m\u001b[0;39mTrying to register the cmap 'sauron' which already exists.\u001b[0m \u001b[0;36m(UserWarning)\u001b[0m\n",
      "\u001b[1;33m[WARNING]: \u001b[0m\u001b[0;39mTrying to register the cmap 'sauron_r' which already exists.\u001b[0m \u001b[0;36m(UserWarning)\u001b[0m\n"
     ]
    },
    {
     "name": "stdout",
     "output_type": "stream",
     "text": [
      "  Kin PA: 131.0  +/-   0.5  (3*sigma error)\n",
      "Velocity Offset: 0.00\n"
     ]
    },
    {
     "name": "stderr",
     "output_type": "stream",
     "text": [
      "\u001b[1;33m[WARNING]: \u001b[0m\u001b[0;39mTrying to register the cmap 'sauron' which already exists.\u001b[0m \u001b[0;36m(UserWarning)\u001b[0m\n",
      "\u001b[1;33m[WARNING]: \u001b[0m\u001b[0;39mTrying to register the cmap 'sauron_r' which already exists.\u001b[0m \u001b[0;36m(UserWarning)\u001b[0m\n",
      "\u001b[1;33m[WARNING]: \u001b[0m\u001b[0;39mTrying to register the cmap 'sauron' which already exists.\u001b[0m \u001b[0;36m(UserWarning)\u001b[0m\n",
      "\u001b[1;33m[WARNING]: \u001b[0m\u001b[0;39mTrying to register the cmap 'sauron_r' which already exists.\u001b[0m \u001b[0;36m(UserWarning)\u001b[0m\n"
     ]
    },
    {
     "name": "stdout",
     "output_type": "stream",
     "text": [
      "  Kin PA:  49.0  +/-  12.2  (3*sigma error)\n",
      "Velocity Offset: 0.00\n"
     ]
    },
    {
     "name": "stderr",
     "output_type": "stream",
     "text": [
      "\u001b[1;33m[WARNING]: \u001b[0m\u001b[0;39mTrying to register the cmap 'sauron' which already exists.\u001b[0m \u001b[0;36m(UserWarning)\u001b[0m\n",
      "\u001b[1;33m[WARNING]: \u001b[0m\u001b[0;39mTrying to register the cmap 'sauron_r' which already exists.\u001b[0m \u001b[0;36m(UserWarning)\u001b[0m\n",
      "\u001b[1;33m[WARNING]: \u001b[0m\u001b[0;39mTrying to register the cmap 'sauron' which already exists.\u001b[0m \u001b[0;36m(UserWarning)\u001b[0m\n",
      "\u001b[1;33m[WARNING]: \u001b[0m\u001b[0;39mTrying to register the cmap 'sauron_r' which already exists.\u001b[0m \u001b[0;36m(UserWarning)\u001b[0m\n"
     ]
    },
    {
     "name": "stdout",
     "output_type": "stream",
     "text": [
      "  Kin PA:   6.0  +/-  14.0  (3*sigma error)\n",
      "Velocity Offset: 0.00\n"
     ]
    },
    {
     "name": "stderr",
     "output_type": "stream",
     "text": [
      "\u001b[1;33m[WARNING]: \u001b[0m\u001b[0;39mTrying to register the cmap 'sauron' which already exists.\u001b[0m \u001b[0;36m(UserWarning)\u001b[0m\n",
      "\u001b[1;33m[WARNING]: \u001b[0m\u001b[0;39mTrying to register the cmap 'sauron_r' which already exists.\u001b[0m \u001b[0;36m(UserWarning)\u001b[0m\n",
      "\u001b[1;33m[WARNING]: \u001b[0m\u001b[0;39mTrying to register the cmap 'sauron' which already exists.\u001b[0m \u001b[0;36m(UserWarning)\u001b[0m\n",
      "\u001b[1;33m[WARNING]: \u001b[0m\u001b[0;39mTrying to register the cmap 'sauron_r' which already exists.\u001b[0m \u001b[0;36m(UserWarning)\u001b[0m\n"
     ]
    },
    {
     "name": "stdout",
     "output_type": "stream",
     "text": [
      "  Kin PA:   1.0  +/-  12.3  (3*sigma error)\n",
      "Velocity Offset: 0.00\n"
     ]
    },
    {
     "name": "stderr",
     "output_type": "stream",
     "text": [
      "\u001b[1;33m[WARNING]: \u001b[0m\u001b[0;39mTrying to register the cmap 'sauron' which already exists.\u001b[0m \u001b[0;36m(UserWarning)\u001b[0m\n",
      "\u001b[1;33m[WARNING]: \u001b[0m\u001b[0;39mTrying to register the cmap 'sauron_r' which already exists.\u001b[0m \u001b[0;36m(UserWarning)\u001b[0m\n",
      "\u001b[1;33m[WARNING]: \u001b[0m\u001b[0;39mTrying to register the cmap 'sauron' which already exists.\u001b[0m \u001b[0;36m(UserWarning)\u001b[0m\n",
      "\u001b[1;33m[WARNING]: \u001b[0m\u001b[0;39mTrying to register the cmap 'sauron_r' which already exists.\u001b[0m \u001b[0;36m(UserWarning)\u001b[0m\n"
     ]
    },
    {
     "name": "stdout",
     "output_type": "stream",
     "text": [
      "  Kin PA: 109.5  +/-  14.2  (3*sigma error)\n",
      "Velocity Offset: 0.00\n"
     ]
    },
    {
     "name": "stderr",
     "output_type": "stream",
     "text": [
      "\u001b[1;33m[WARNING]: \u001b[0m\u001b[0;39mTrying to register the cmap 'sauron' which already exists.\u001b[0m \u001b[0;36m(UserWarning)\u001b[0m\n",
      "\u001b[1;33m[WARNING]: \u001b[0m\u001b[0;39mTrying to register the cmap 'sauron_r' which already exists.\u001b[0m \u001b[0;36m(UserWarning)\u001b[0m\n",
      "\u001b[1;33m[WARNING]: \u001b[0m\u001b[0;39mTrying to register the cmap 'sauron' which already exists.\u001b[0m \u001b[0;36m(UserWarning)\u001b[0m\n",
      "\u001b[1;33m[WARNING]: \u001b[0m\u001b[0;39mTrying to register the cmap 'sauron_r' which already exists.\u001b[0m \u001b[0;36m(UserWarning)\u001b[0m\n"
     ]
    },
    {
     "name": "stdout",
     "output_type": "stream",
     "text": [
      "  Kin PA:  94.0  +/-   5.5  (3*sigma error)\n",
      "Velocity Offset: 0.00\n"
     ]
    },
    {
     "name": "stderr",
     "output_type": "stream",
     "text": [
      "\u001b[1;33m[WARNING]: \u001b[0m\u001b[0;39mTrying to register the cmap 'sauron' which already exists.\u001b[0m \u001b[0;36m(UserWarning)\u001b[0m\n",
      "\u001b[1;33m[WARNING]: \u001b[0m\u001b[0;39mTrying to register the cmap 'sauron_r' which already exists.\u001b[0m \u001b[0;36m(UserWarning)\u001b[0m\n",
      "\u001b[1;33m[WARNING]: \u001b[0m\u001b[0;39mTrying to register the cmap 'sauron' which already exists.\u001b[0m \u001b[0;36m(UserWarning)\u001b[0m\n",
      "\u001b[1;33m[WARNING]: \u001b[0m\u001b[0;39mTrying to register the cmap 'sauron_r' which already exists.\u001b[0m \u001b[0;36m(UserWarning)\u001b[0m\n"
     ]
    },
    {
     "name": "stdout",
     "output_type": "stream",
     "text": [
      "  Kin PA: 101.5  +/-   0.5  (3*sigma error)\n",
      "Velocity Offset: 0.00\n"
     ]
    },
    {
     "name": "stderr",
     "output_type": "stream",
     "text": [
      "\u001b[1;33m[WARNING]: \u001b[0m\u001b[0;39mTrying to register the cmap 'sauron' which already exists.\u001b[0m \u001b[0;36m(UserWarning)\u001b[0m\n",
      "\u001b[1;33m[WARNING]: \u001b[0m\u001b[0;39mTrying to register the cmap 'sauron_r' which already exists.\u001b[0m \u001b[0;36m(UserWarning)\u001b[0m\n",
      "\u001b[1;33m[WARNING]: \u001b[0m\u001b[0;39mTrying to register the cmap 'sauron' which already exists.\u001b[0m \u001b[0;36m(UserWarning)\u001b[0m\n",
      "\u001b[1;33m[WARNING]: \u001b[0m\u001b[0;39mTrying to register the cmap 'sauron_r' which already exists.\u001b[0m \u001b[0;36m(UserWarning)\u001b[0m\n"
     ]
    },
    {
     "name": "stdout",
     "output_type": "stream",
     "text": [
      "  Kin PA:  33.0  +/-   8.2  (3*sigma error)\n",
      "Velocity Offset: 0.00\n"
     ]
    },
    {
     "name": "stderr",
     "output_type": "stream",
     "text": [
      "\u001b[1;33m[WARNING]: \u001b[0m\u001b[0;39mTrying to register the cmap 'sauron' which already exists.\u001b[0m \u001b[0;36m(UserWarning)\u001b[0m\n",
      "\u001b[1;33m[WARNING]: \u001b[0m\u001b[0;39mTrying to register the cmap 'sauron_r' which already exists.\u001b[0m \u001b[0;36m(UserWarning)\u001b[0m\n",
      "\u001b[1;33m[WARNING]: \u001b[0m\u001b[0;39mTrying to register the cmap 'sauron' which already exists.\u001b[0m \u001b[0;36m(UserWarning)\u001b[0m\n",
      "\u001b[1;33m[WARNING]: \u001b[0m\u001b[0;39mTrying to register the cmap 'sauron_r' which already exists.\u001b[0m \u001b[0;36m(UserWarning)\u001b[0m\n"
     ]
    },
    {
     "name": "stdout",
     "output_type": "stream",
     "text": [
      "  Kin PA:  11.0  +/-   0.5  (3*sigma error)\n",
      "Velocity Offset: 0.00\n"
     ]
    },
    {
     "name": "stderr",
     "output_type": "stream",
     "text": [
      "\u001b[1;33m[WARNING]: \u001b[0m\u001b[0;39mTrying to register the cmap 'sauron' which already exists.\u001b[0m \u001b[0;36m(UserWarning)\u001b[0m\n",
      "\u001b[1;33m[WARNING]: \u001b[0m\u001b[0;39mTrying to register the cmap 'sauron_r' which already exists.\u001b[0m \u001b[0;36m(UserWarning)\u001b[0m\n",
      "\u001b[1;33m[WARNING]: \u001b[0m\u001b[0;39mTrying to register the cmap 'sauron' which already exists.\u001b[0m \u001b[0;36m(UserWarning)\u001b[0m\n",
      "\u001b[1;33m[WARNING]: \u001b[0m\u001b[0;39mTrying to register the cmap 'sauron_r' which already exists.\u001b[0m \u001b[0;36m(UserWarning)\u001b[0m\n"
     ]
    },
    {
     "name": "stdout",
     "output_type": "stream",
     "text": [
      "  Kin PA:  46.0  +/-   2.5  (3*sigma error)\n",
      "Velocity Offset: 0.00\n"
     ]
    },
    {
     "name": "stderr",
     "output_type": "stream",
     "text": [
      "\u001b[1;33m[WARNING]: \u001b[0m\u001b[0;39mTrying to register the cmap 'sauron' which already exists.\u001b[0m \u001b[0;36m(UserWarning)\u001b[0m\n",
      "\u001b[1;33m[WARNING]: \u001b[0m\u001b[0;39mTrying to register the cmap 'sauron_r' which already exists.\u001b[0m \u001b[0;36m(UserWarning)\u001b[0m\n",
      "\u001b[1;33m[WARNING]: \u001b[0m\u001b[0;39mTrying to register the cmap 'sauron' which already exists.\u001b[0m \u001b[0;36m(UserWarning)\u001b[0m\n",
      "\u001b[1;33m[WARNING]: \u001b[0m\u001b[0;39mTrying to register the cmap 'sauron_r' which already exists.\u001b[0m \u001b[0;36m(UserWarning)\u001b[0m\n"
     ]
    },
    {
     "name": "stdout",
     "output_type": "stream",
     "text": [
      "  Kin PA:   3.5  +/-   3.5  (3*sigma error)\n",
      "Velocity Offset: 0.00\n"
     ]
    },
    {
     "name": "stderr",
     "output_type": "stream",
     "text": [
      "\u001b[1;33m[WARNING]: \u001b[0m\u001b[0;39mTrying to register the cmap 'sauron' which already exists.\u001b[0m \u001b[0;36m(UserWarning)\u001b[0m\n",
      "\u001b[1;33m[WARNING]: \u001b[0m\u001b[0;39mTrying to register the cmap 'sauron_r' which already exists.\u001b[0m \u001b[0;36m(UserWarning)\u001b[0m\n",
      "\u001b[1;33m[WARNING]: \u001b[0m\u001b[0;39mTrying to register the cmap 'sauron' which already exists.\u001b[0m \u001b[0;36m(UserWarning)\u001b[0m\n",
      "\u001b[1;33m[WARNING]: \u001b[0m\u001b[0;39mTrying to register the cmap 'sauron_r' which already exists.\u001b[0m \u001b[0;36m(UserWarning)\u001b[0m\n"
     ]
    },
    {
     "name": "stdout",
     "output_type": "stream",
     "text": [
      "  Kin PA:  24.0  +/-  12.8  (3*sigma error)\n",
      "Velocity Offset: 0.00\n"
     ]
    },
    {
     "name": "stderr",
     "output_type": "stream",
     "text": [
      "\u001b[1;33m[WARNING]: \u001b[0m\u001b[0;39mTrying to register the cmap 'sauron' which already exists.\u001b[0m \u001b[0;36m(UserWarning)\u001b[0m\n",
      "\u001b[1;33m[WARNING]: \u001b[0m\u001b[0;39mTrying to register the cmap 'sauron_r' which already exists.\u001b[0m \u001b[0;36m(UserWarning)\u001b[0m\n",
      "\u001b[1;33m[WARNING]: \u001b[0m\u001b[0;39mTrying to register the cmap 'sauron' which already exists.\u001b[0m \u001b[0;36m(UserWarning)\u001b[0m\n",
      "\u001b[1;33m[WARNING]: \u001b[0m\u001b[0;39mTrying to register the cmap 'sauron_r' which already exists.\u001b[0m \u001b[0;36m(UserWarning)\u001b[0m\n"
     ]
    },
    {
     "name": "stdout",
     "output_type": "stream",
     "text": [
      "  Kin PA:  26.5  +/-   0.5  (3*sigma error)\n",
      "Velocity Offset: 0.00\n"
     ]
    },
    {
     "name": "stderr",
     "output_type": "stream",
     "text": [
      "\u001b[1;33m[WARNING]: \u001b[0m\u001b[0;39mTrying to register the cmap 'sauron' which already exists.\u001b[0m \u001b[0;36m(UserWarning)\u001b[0m\n",
      "\u001b[1;33m[WARNING]: \u001b[0m\u001b[0;39mTrying to register the cmap 'sauron_r' which already exists.\u001b[0m \u001b[0;36m(UserWarning)\u001b[0m\n",
      "\u001b[1;33m[WARNING]: \u001b[0m\u001b[0;39mTrying to register the cmap 'sauron' which already exists.\u001b[0m \u001b[0;36m(UserWarning)\u001b[0m\n",
      "\u001b[1;33m[WARNING]: \u001b[0m\u001b[0;39mTrying to register the cmap 'sauron_r' which already exists.\u001b[0m \u001b[0;36m(UserWarning)\u001b[0m\n"
     ]
    },
    {
     "name": "stdout",
     "output_type": "stream",
     "text": [
      "  Kin PA:  72.0  +/-   4.2  (3*sigma error)\n",
      "Velocity Offset: 0.00\n"
     ]
    },
    {
     "name": "stderr",
     "output_type": "stream",
     "text": [
      "\u001b[1;33m[WARNING]: \u001b[0m\u001b[0;39mTrying to register the cmap 'sauron' which already exists.\u001b[0m \u001b[0;36m(UserWarning)\u001b[0m\n",
      "\u001b[1;33m[WARNING]: \u001b[0m\u001b[0;39mTrying to register the cmap 'sauron_r' which already exists.\u001b[0m \u001b[0;36m(UserWarning)\u001b[0m\n",
      "\u001b[1;33m[WARNING]: \u001b[0m\u001b[0;39mTrying to register the cmap 'sauron' which already exists.\u001b[0m \u001b[0;36m(UserWarning)\u001b[0m\n",
      "\u001b[1;33m[WARNING]: \u001b[0m\u001b[0;39mTrying to register the cmap 'sauron_r' which already exists.\u001b[0m \u001b[0;36m(UserWarning)\u001b[0m\n"
     ]
    },
    {
     "name": "stdout",
     "output_type": "stream",
     "text": [
      "  Kin PA: 118.5  +/-   0.5  (3*sigma error)\n",
      "Velocity Offset: 0.00\n"
     ]
    },
    {
     "name": "stderr",
     "output_type": "stream",
     "text": [
      "\u001b[1;33m[WARNING]: \u001b[0m\u001b[0;39mTrying to register the cmap 'sauron' which already exists.\u001b[0m \u001b[0;36m(UserWarning)\u001b[0m\n",
      "\u001b[1;33m[WARNING]: \u001b[0m\u001b[0;39mTrying to register the cmap 'sauron_r' which already exists.\u001b[0m \u001b[0;36m(UserWarning)\u001b[0m\n",
      "\u001b[1;33m[WARNING]: \u001b[0m\u001b[0;39mTrying to register the cmap 'sauron' which already exists.\u001b[0m \u001b[0;36m(UserWarning)\u001b[0m\n",
      "\u001b[1;33m[WARNING]: \u001b[0m\u001b[0;39mTrying to register the cmap 'sauron_r' which already exists.\u001b[0m \u001b[0;36m(UserWarning)\u001b[0m\n"
     ]
    },
    {
     "name": "stdout",
     "output_type": "stream",
     "text": [
      "  Kin PA: 106.0  +/-   6.0  (3*sigma error)\n",
      "Velocity Offset: 0.00\n"
     ]
    },
    {
     "name": "stderr",
     "output_type": "stream",
     "text": [
      "\u001b[1;33m[WARNING]: \u001b[0m\u001b[0;39mTrying to register the cmap 'sauron' which already exists.\u001b[0m \u001b[0;36m(UserWarning)\u001b[0m\n",
      "\u001b[1;33m[WARNING]: \u001b[0m\u001b[0;39mTrying to register the cmap 'sauron_r' which already exists.\u001b[0m \u001b[0;36m(UserWarning)\u001b[0m\n",
      "\u001b[1;33m[WARNING]: \u001b[0m\u001b[0;39mTrying to register the cmap 'sauron' which already exists.\u001b[0m \u001b[0;36m(UserWarning)\u001b[0m\n",
      "\u001b[1;33m[WARNING]: \u001b[0m\u001b[0;39mTrying to register the cmap 'sauron_r' which already exists.\u001b[0m \u001b[0;36m(UserWarning)\u001b[0m\n"
     ]
    },
    {
     "name": "stdout",
     "output_type": "stream",
     "text": [
      "  Kin PA: 150.0  +/-   0.5  (3*sigma error)\n",
      "Velocity Offset: 0.00\n"
     ]
    },
    {
     "name": "stderr",
     "output_type": "stream",
     "text": [
      "\u001b[1;33m[WARNING]: \u001b[0m\u001b[0;39mTrying to register the cmap 'sauron' which already exists.\u001b[0m \u001b[0;36m(UserWarning)\u001b[0m\n",
      "\u001b[1;33m[WARNING]: \u001b[0m\u001b[0;39mTrying to register the cmap 'sauron_r' which already exists.\u001b[0m \u001b[0;36m(UserWarning)\u001b[0m\n",
      "\u001b[1;33m[WARNING]: \u001b[0m\u001b[0;39mTrying to register the cmap 'sauron' which already exists.\u001b[0m \u001b[0;36m(UserWarning)\u001b[0m\n",
      "\u001b[1;33m[WARNING]: \u001b[0m\u001b[0;39mTrying to register the cmap 'sauron_r' which already exists.\u001b[0m \u001b[0;36m(UserWarning)\u001b[0m\n"
     ]
    },
    {
     "name": "stdout",
     "output_type": "stream",
     "text": [
      "  Kin PA: 147.5  +/-  10.2  (3*sigma error)\n",
      "Velocity Offset: 0.00\n"
     ]
    },
    {
     "name": "stderr",
     "output_type": "stream",
     "text": [
      "\u001b[1;33m[WARNING]: \u001b[0m\u001b[0;39mTrying to register the cmap 'sauron' which already exists.\u001b[0m \u001b[0;36m(UserWarning)\u001b[0m\n",
      "\u001b[1;33m[WARNING]: \u001b[0m\u001b[0;39mTrying to register the cmap 'sauron_r' which already exists.\u001b[0m \u001b[0;36m(UserWarning)\u001b[0m\n",
      "\u001b[1;33m[WARNING]: \u001b[0m\u001b[0;39mTrying to register the cmap 'sauron' which already exists.\u001b[0m \u001b[0;36m(UserWarning)\u001b[0m\n",
      "\u001b[1;33m[WARNING]: \u001b[0m\u001b[0;39mTrying to register the cmap 'sauron_r' which already exists.\u001b[0m \u001b[0;36m(UserWarning)\u001b[0m\n"
     ]
    },
    {
     "name": "stdout",
     "output_type": "stream",
     "text": [
      "  Kin PA:  31.0  +/-   1.2  (3*sigma error)\n",
      "Velocity Offset: 0.00\n"
     ]
    },
    {
     "name": "stderr",
     "output_type": "stream",
     "text": [
      "\u001b[1;33m[WARNING]: \u001b[0m\u001b[0;39mTrying to register the cmap 'sauron' which already exists.\u001b[0m \u001b[0;36m(UserWarning)\u001b[0m\n",
      "\u001b[1;33m[WARNING]: \u001b[0m\u001b[0;39mTrying to register the cmap 'sauron_r' which already exists.\u001b[0m \u001b[0;36m(UserWarning)\u001b[0m\n",
      "\u001b[1;33m[WARNING]: \u001b[0m\u001b[0;39mTrying to register the cmap 'sauron' which already exists.\u001b[0m \u001b[0;36m(UserWarning)\u001b[0m\n",
      "\u001b[1;33m[WARNING]: \u001b[0m\u001b[0;39mTrying to register the cmap 'sauron_r' which already exists.\u001b[0m \u001b[0;36m(UserWarning)\u001b[0m\n"
     ]
    },
    {
     "name": "stdout",
     "output_type": "stream",
     "text": [
      "  Kin PA:  22.0  +/-   6.0  (3*sigma error)\n",
      "Velocity Offset: 0.00\n"
     ]
    },
    {
     "name": "stderr",
     "output_type": "stream",
     "text": [
      "\u001b[1;33m[WARNING]: \u001b[0m\u001b[0;39mTrying to register the cmap 'sauron' which already exists.\u001b[0m \u001b[0;36m(UserWarning)\u001b[0m\n",
      "\u001b[1;33m[WARNING]: \u001b[0m\u001b[0;39mTrying to register the cmap 'sauron_r' which already exists.\u001b[0m \u001b[0;36m(UserWarning)\u001b[0m\n",
      "\u001b[1;33m[WARNING]: \u001b[0m\u001b[0;39mTrying to register the cmap 'sauron' which already exists.\u001b[0m \u001b[0;36m(UserWarning)\u001b[0m\n",
      "\u001b[1;33m[WARNING]: \u001b[0m\u001b[0;39mTrying to register the cmap 'sauron_r' which already exists.\u001b[0m \u001b[0;36m(UserWarning)\u001b[0m\n"
     ]
    },
    {
     "name": "stdout",
     "output_type": "stream",
     "text": [
      "  Kin PA:  85.0  +/-   0.5  (3*sigma error)\n",
      "Velocity Offset: 0.00\n"
     ]
    },
    {
     "name": "stderr",
     "output_type": "stream",
     "text": [
      "\u001b[1;33m[WARNING]: \u001b[0m\u001b[0;39mTrying to register the cmap 'sauron' which already exists.\u001b[0m \u001b[0;36m(UserWarning)\u001b[0m\n",
      "\u001b[1;33m[WARNING]: \u001b[0m\u001b[0;39mTrying to register the cmap 'sauron_r' which already exists.\u001b[0m \u001b[0;36m(UserWarning)\u001b[0m\n",
      "\u001b[1;33m[WARNING]: \u001b[0m\u001b[0;39mTrying to register the cmap 'sauron' which already exists.\u001b[0m \u001b[0;36m(UserWarning)\u001b[0m\n",
      "\u001b[1;33m[WARNING]: \u001b[0m\u001b[0;39mTrying to register the cmap 'sauron_r' which already exists.\u001b[0m \u001b[0;36m(UserWarning)\u001b[0m\n"
     ]
    },
    {
     "name": "stdout",
     "output_type": "stream",
     "text": [
      "  Kin PA: 113.5  +/-   6.8  (3*sigma error)\n",
      "Velocity Offset: 0.00\n"
     ]
    },
    {
     "name": "stderr",
     "output_type": "stream",
     "text": [
      "\u001b[1;33m[WARNING]: \u001b[0m\u001b[0;39mTrying to register the cmap 'sauron' which already exists.\u001b[0m \u001b[0;36m(UserWarning)\u001b[0m\n",
      "\u001b[1;33m[WARNING]: \u001b[0m\u001b[0;39mTrying to register the cmap 'sauron_r' which already exists.\u001b[0m \u001b[0;36m(UserWarning)\u001b[0m\n",
      "\u001b[1;33m[WARNING]: \u001b[0m\u001b[0;39mTrying to register the cmap 'sauron' which already exists.\u001b[0m \u001b[0;36m(UserWarning)\u001b[0m\n",
      "\u001b[1;33m[WARNING]: \u001b[0m\u001b[0;39mTrying to register the cmap 'sauron_r' which already exists.\u001b[0m \u001b[0;36m(UserWarning)\u001b[0m\n"
     ]
    },
    {
     "name": "stdout",
     "output_type": "stream",
     "text": [
      "  Kin PA: 147.5  +/-   0.5  (3*sigma error)\n",
      "Velocity Offset: 0.00\n"
     ]
    },
    {
     "name": "stderr",
     "output_type": "stream",
     "text": [
      "\u001b[1;33m[WARNING]: \u001b[0m\u001b[0;39mTrying to register the cmap 'sauron' which already exists.\u001b[0m \u001b[0;36m(UserWarning)\u001b[0m\n",
      "\u001b[1;33m[WARNING]: \u001b[0m\u001b[0;39mTrying to register the cmap 'sauron_r' which already exists.\u001b[0m \u001b[0;36m(UserWarning)\u001b[0m\n",
      "\u001b[1;33m[WARNING]: \u001b[0m\u001b[0;39mTrying to register the cmap 'sauron' which already exists.\u001b[0m \u001b[0;36m(UserWarning)\u001b[0m\n",
      "\u001b[1;33m[WARNING]: \u001b[0m\u001b[0;39mTrying to register the cmap 'sauron_r' which already exists.\u001b[0m \u001b[0;36m(UserWarning)\u001b[0m\n"
     ]
    },
    {
     "name": "stdout",
     "output_type": "stream",
     "text": [
      "  Kin PA: 167.5  +/-  89.8  (3*sigma error)\n",
      "Velocity Offset: 0.00\n"
     ]
    },
    {
     "name": "stderr",
     "output_type": "stream",
     "text": [
      "\u001b[1;33m[WARNING]: \u001b[0m\u001b[0;39mTrying to register the cmap 'sauron' which already exists.\u001b[0m \u001b[0;36m(UserWarning)\u001b[0m\n",
      "\u001b[1;33m[WARNING]: \u001b[0m\u001b[0;39mTrying to register the cmap 'sauron_r' which already exists.\u001b[0m \u001b[0;36m(UserWarning)\u001b[0m\n",
      "\u001b[1;33m[WARNING]: \u001b[0m\u001b[0;39mTrying to register the cmap 'sauron' which already exists.\u001b[0m \u001b[0;36m(UserWarning)\u001b[0m\n",
      "\u001b[1;33m[WARNING]: \u001b[0m\u001b[0;39mTrying to register the cmap 'sauron_r' which already exists.\u001b[0m \u001b[0;36m(UserWarning)\u001b[0m\n"
     ]
    },
    {
     "name": "stdout",
     "output_type": "stream",
     "text": [
      "  Kin PA:  24.5  +/-   0.5  (3*sigma error)\n",
      "Velocity Offset: 0.00\n"
     ]
    },
    {
     "name": "stderr",
     "output_type": "stream",
     "text": [
      "\u001b[1;33m[WARNING]: \u001b[0m\u001b[0;39mTrying to register the cmap 'sauron' which already exists.\u001b[0m \u001b[0;36m(UserWarning)\u001b[0m\n",
      "\u001b[1;33m[WARNING]: \u001b[0m\u001b[0;39mTrying to register the cmap 'sauron_r' which already exists.\u001b[0m \u001b[0;36m(UserWarning)\u001b[0m\n",
      "\u001b[1;33m[WARNING]: \u001b[0m\u001b[0;39mTrying to register the cmap 'sauron' which already exists.\u001b[0m \u001b[0;36m(UserWarning)\u001b[0m\n",
      "\u001b[1;33m[WARNING]: \u001b[0m\u001b[0;39mTrying to register the cmap 'sauron_r' which already exists.\u001b[0m \u001b[0;36m(UserWarning)\u001b[0m\n"
     ]
    },
    {
     "name": "stdout",
     "output_type": "stream",
     "text": [
      "  Kin PA:   3.0  +/-  15.5  (3*sigma error)\n",
      "Velocity Offset: 0.00\n"
     ]
    },
    {
     "name": "stderr",
     "output_type": "stream",
     "text": [
      "\u001b[1;33m[WARNING]: \u001b[0m\u001b[0;39mTrying to register the cmap 'sauron' which already exists.\u001b[0m \u001b[0;36m(UserWarning)\u001b[0m\n",
      "\u001b[1;33m[WARNING]: \u001b[0m\u001b[0;39mTrying to register the cmap 'sauron_r' which already exists.\u001b[0m \u001b[0;36m(UserWarning)\u001b[0m\n",
      "\u001b[1;33m[WARNING]: \u001b[0m\u001b[0;39mTrying to register the cmap 'sauron' which already exists.\u001b[0m \u001b[0;36m(UserWarning)\u001b[0m\n",
      "\u001b[1;33m[WARNING]: \u001b[0m\u001b[0;39mTrying to register the cmap 'sauron_r' which already exists.\u001b[0m \u001b[0;36m(UserWarning)\u001b[0m\n"
     ]
    },
    {
     "name": "stdout",
     "output_type": "stream",
     "text": [
      "  Kin PA:  93.0  +/-   0.5  (3*sigma error)\n",
      "Velocity Offset: 0.00\n"
     ]
    },
    {
     "name": "stderr",
     "output_type": "stream",
     "text": [
      "\u001b[1;33m[WARNING]: \u001b[0m\u001b[0;39mTrying to register the cmap 'sauron' which already exists.\u001b[0m \u001b[0;36m(UserWarning)\u001b[0m\n",
      "\u001b[1;33m[WARNING]: \u001b[0m\u001b[0;39mTrying to register the cmap 'sauron_r' which already exists.\u001b[0m \u001b[0;36m(UserWarning)\u001b[0m\n",
      "\u001b[1;33m[WARNING]: \u001b[0m\u001b[0;39mTrying to register the cmap 'sauron' which already exists.\u001b[0m \u001b[0;36m(UserWarning)\u001b[0m\n",
      "\u001b[1;33m[WARNING]: \u001b[0m\u001b[0;39mTrying to register the cmap 'sauron_r' which already exists.\u001b[0m \u001b[0;36m(UserWarning)\u001b[0m\n"
     ]
    },
    {
     "name": "stdout",
     "output_type": "stream",
     "text": [
      "  Kin PA: 108.5  +/-   1.8  (3*sigma error)\n",
      "Velocity Offset: 0.00\n"
     ]
    },
    {
     "name": "stderr",
     "output_type": "stream",
     "text": [
      "\u001b[1;33m[WARNING]: \u001b[0m\u001b[0;39mTrying to register the cmap 'sauron' which already exists.\u001b[0m \u001b[0;36m(UserWarning)\u001b[0m\n",
      "\u001b[1;33m[WARNING]: \u001b[0m\u001b[0;39mTrying to register the cmap 'sauron_r' which already exists.\u001b[0m \u001b[0;36m(UserWarning)\u001b[0m\n",
      "\u001b[1;33m[WARNING]: \u001b[0m\u001b[0;39mTrying to register the cmap 'sauron' which already exists.\u001b[0m \u001b[0;36m(UserWarning)\u001b[0m\n",
      "\u001b[1;33m[WARNING]: \u001b[0m\u001b[0;39mTrying to register the cmap 'sauron_r' which already exists.\u001b[0m \u001b[0;36m(UserWarning)\u001b[0m\n"
     ]
    },
    {
     "name": "stdout",
     "output_type": "stream",
     "text": [
      "  Kin PA: 127.5  +/-   0.5  (3*sigma error)\n",
      "Velocity Offset: 0.00\n"
     ]
    },
    {
     "name": "stderr",
     "output_type": "stream",
     "text": [
      "\u001b[1;33m[WARNING]: \u001b[0m\u001b[0;39mTrying to register the cmap 'sauron' which already exists.\u001b[0m \u001b[0;36m(UserWarning)\u001b[0m\n",
      "\u001b[1;33m[WARNING]: \u001b[0m\u001b[0;39mTrying to register the cmap 'sauron_r' which already exists.\u001b[0m \u001b[0;36m(UserWarning)\u001b[0m\n",
      "\u001b[1;33m[WARNING]: \u001b[0m\u001b[0;39mTrying to register the cmap 'sauron' which already exists.\u001b[0m \u001b[0;36m(UserWarning)\u001b[0m\n",
      "\u001b[1;33m[WARNING]: \u001b[0m\u001b[0;39mTrying to register the cmap 'sauron_r' which already exists.\u001b[0m \u001b[0;36m(UserWarning)\u001b[0m\n"
     ]
    },
    {
     "name": "stdout",
     "output_type": "stream",
     "text": [
      "  Kin PA:  12.5  +/-   3.2  (3*sigma error)\n",
      "Velocity Offset: 0.00\n"
     ]
    },
    {
     "name": "stderr",
     "output_type": "stream",
     "text": [
      "\u001b[1;33m[WARNING]: \u001b[0m\u001b[0;39mTrying to register the cmap 'sauron' which already exists.\u001b[0m \u001b[0;36m(UserWarning)\u001b[0m\n",
      "\u001b[1;33m[WARNING]: \u001b[0m\u001b[0;39mTrying to register the cmap 'sauron_r' which already exists.\u001b[0m \u001b[0;36m(UserWarning)\u001b[0m\n",
      "\u001b[1;33m[WARNING]: \u001b[0m\u001b[0;39mTrying to register the cmap 'sauron' which already exists.\u001b[0m \u001b[0;36m(UserWarning)\u001b[0m\n",
      "\u001b[1;33m[WARNING]: \u001b[0m\u001b[0;39mTrying to register the cmap 'sauron_r' which already exists.\u001b[0m \u001b[0;36m(UserWarning)\u001b[0m\n"
     ]
    },
    {
     "name": "stdout",
     "output_type": "stream",
     "text": [
      "  Kin PA: 102.0  +/-   0.5  (3*sigma error)\n",
      "Velocity Offset: 0.00\n"
     ]
    },
    {
     "name": "stderr",
     "output_type": "stream",
     "text": [
      "\u001b[1;33m[WARNING]: \u001b[0m\u001b[0;39mTrying to register the cmap 'sauron' which already exists.\u001b[0m \u001b[0;36m(UserWarning)\u001b[0m\n",
      "\u001b[1;33m[WARNING]: \u001b[0m\u001b[0;39mTrying to register the cmap 'sauron_r' which already exists.\u001b[0m \u001b[0;36m(UserWarning)\u001b[0m\n",
      "\u001b[1;33m[WARNING]: \u001b[0m\u001b[0;39mTrying to register the cmap 'sauron' which already exists.\u001b[0m \u001b[0;36m(UserWarning)\u001b[0m\n",
      "\u001b[1;33m[WARNING]: \u001b[0m\u001b[0;39mTrying to register the cmap 'sauron_r' which already exists.\u001b[0m \u001b[0;36m(UserWarning)\u001b[0m\n"
     ]
    },
    {
     "name": "stdout",
     "output_type": "stream",
     "text": [
      "  Kin PA: 107.0  +/-  16.5  (3*sigma error)\n",
      "Velocity Offset: 0.00\n"
     ]
    },
    {
     "name": "stderr",
     "output_type": "stream",
     "text": [
      "\u001b[1;33m[WARNING]: \u001b[0m\u001b[0;39mTrying to register the cmap 'sauron' which already exists.\u001b[0m \u001b[0;36m(UserWarning)\u001b[0m\n",
      "\u001b[1;33m[WARNING]: \u001b[0m\u001b[0;39mTrying to register the cmap 'sauron_r' which already exists.\u001b[0m \u001b[0;36m(UserWarning)\u001b[0m\n",
      "\u001b[1;33m[WARNING]: \u001b[0m\u001b[0;39mTrying to register the cmap 'sauron' which already exists.\u001b[0m \u001b[0;36m(UserWarning)\u001b[0m\n",
      "\u001b[1;33m[WARNING]: \u001b[0m\u001b[0;39mTrying to register the cmap 'sauron_r' which already exists.\u001b[0m \u001b[0;36m(UserWarning)\u001b[0m\n"
     ]
    },
    {
     "name": "stdout",
     "output_type": "stream",
     "text": [
      "  Kin PA:  81.5  +/-   0.5  (3*sigma error)\n",
      "Velocity Offset: 0.00\n"
     ]
    },
    {
     "name": "stderr",
     "output_type": "stream",
     "text": [
      "\u001b[1;33m[WARNING]: \u001b[0m\u001b[0;39mTrying to register the cmap 'sauron' which already exists.\u001b[0m \u001b[0;36m(UserWarning)\u001b[0m\n",
      "\u001b[1;33m[WARNING]: \u001b[0m\u001b[0;39mTrying to register the cmap 'sauron_r' which already exists.\u001b[0m \u001b[0;36m(UserWarning)\u001b[0m\n",
      "\u001b[1;33m[WARNING]: \u001b[0m\u001b[0;39mTrying to register the cmap 'sauron' which already exists.\u001b[0m \u001b[0;36m(UserWarning)\u001b[0m\n",
      "\u001b[1;33m[WARNING]: \u001b[0m\u001b[0;39mTrying to register the cmap 'sauron_r' which already exists.\u001b[0m \u001b[0;36m(UserWarning)\u001b[0m\n"
     ]
    },
    {
     "name": "stdout",
     "output_type": "stream",
     "text": [
      "  Kin PA:  12.5  +/-   2.8  (3*sigma error)\n",
      "Velocity Offset: 0.00\n"
     ]
    },
    {
     "name": "stderr",
     "output_type": "stream",
     "text": [
      "\u001b[1;33m[WARNING]: \u001b[0m\u001b[0;39mTrying to register the cmap 'sauron' which already exists.\u001b[0m \u001b[0;36m(UserWarning)\u001b[0m\n",
      "\u001b[1;33m[WARNING]: \u001b[0m\u001b[0;39mTrying to register the cmap 'sauron_r' which already exists.\u001b[0m \u001b[0;36m(UserWarning)\u001b[0m\n",
      "\u001b[1;33m[WARNING]: \u001b[0m\u001b[0;39mTrying to register the cmap 'sauron' which already exists.\u001b[0m \u001b[0;36m(UserWarning)\u001b[0m\n",
      "\u001b[1;33m[WARNING]: \u001b[0m\u001b[0;39mTrying to register the cmap 'sauron_r' which already exists.\u001b[0m \u001b[0;36m(UserWarning)\u001b[0m\n"
     ]
    },
    {
     "name": "stdout",
     "output_type": "stream",
     "text": [
      "  Kin PA:  85.5  +/-   0.5  (3*sigma error)\n",
      "Velocity Offset: 0.00\n"
     ]
    },
    {
     "name": "stderr",
     "output_type": "stream",
     "text": [
      "\u001b[1;33m[WARNING]: \u001b[0m\u001b[0;39mTrying to register the cmap 'sauron' which already exists.\u001b[0m \u001b[0;36m(UserWarning)\u001b[0m\n",
      "\u001b[1;33m[WARNING]: \u001b[0m\u001b[0;39mTrying to register the cmap 'sauron_r' which already exists.\u001b[0m \u001b[0;36m(UserWarning)\u001b[0m\n",
      "\u001b[1;33m[WARNING]: \u001b[0m\u001b[0;39mTrying to register the cmap 'sauron' which already exists.\u001b[0m \u001b[0;36m(UserWarning)\u001b[0m\n",
      "\u001b[1;33m[WARNING]: \u001b[0m\u001b[0;39mTrying to register the cmap 'sauron_r' which already exists.\u001b[0m \u001b[0;36m(UserWarning)\u001b[0m\n"
     ]
    },
    {
     "name": "stdout",
     "output_type": "stream",
     "text": [
      "  Kin PA:  78.5  +/-   4.8  (3*sigma error)\n",
      "Velocity Offset: 0.00\n"
     ]
    },
    {
     "name": "stderr",
     "output_type": "stream",
     "text": [
      "\u001b[1;33m[WARNING]: \u001b[0m\u001b[0;39mTrying to register the cmap 'sauron' which already exists.\u001b[0m \u001b[0;36m(UserWarning)\u001b[0m\n",
      "\u001b[1;33m[WARNING]: \u001b[0m\u001b[0;39mTrying to register the cmap 'sauron_r' which already exists.\u001b[0m \u001b[0;36m(UserWarning)\u001b[0m\n",
      "\u001b[1;33m[WARNING]: \u001b[0m\u001b[0;39mTrying to register the cmap 'sauron' which already exists.\u001b[0m \u001b[0;36m(UserWarning)\u001b[0m\n",
      "\u001b[1;33m[WARNING]: \u001b[0m\u001b[0;39mTrying to register the cmap 'sauron_r' which already exists.\u001b[0m \u001b[0;36m(UserWarning)\u001b[0m\n"
     ]
    },
    {
     "name": "stdout",
     "output_type": "stream",
     "text": [
      "  Kin PA:  89.5  +/-  12.2  (3*sigma error)\n",
      "Velocity Offset: 0.00\n"
     ]
    },
    {
     "name": "stderr",
     "output_type": "stream",
     "text": [
      "\u001b[1;33m[WARNING]: \u001b[0m\u001b[0;39mTrying to register the cmap 'sauron' which already exists.\u001b[0m \u001b[0;36m(UserWarning)\u001b[0m\n",
      "\u001b[1;33m[WARNING]: \u001b[0m\u001b[0;39mTrying to register the cmap 'sauron_r' which already exists.\u001b[0m \u001b[0;36m(UserWarning)\u001b[0m\n",
      "\u001b[1;33m[WARNING]: \u001b[0m\u001b[0;39mTrying to register the cmap 'sauron' which already exists.\u001b[0m \u001b[0;36m(UserWarning)\u001b[0m\n",
      "\u001b[1;33m[WARNING]: \u001b[0m\u001b[0;39mTrying to register the cmap 'sauron_r' which already exists.\u001b[0m \u001b[0;36m(UserWarning)\u001b[0m\n"
     ]
    },
    {
     "name": "stdout",
     "output_type": "stream",
     "text": [
      "  Kin PA: 109.5  +/-   0.8  (3*sigma error)\n",
      "Velocity Offset: 0.00\n"
     ]
    },
    {
     "name": "stderr",
     "output_type": "stream",
     "text": [
      "\u001b[1;33m[WARNING]: \u001b[0m\u001b[0;39mTrying to register the cmap 'sauron' which already exists.\u001b[0m \u001b[0;36m(UserWarning)\u001b[0m\n",
      "\u001b[1;33m[WARNING]: \u001b[0m\u001b[0;39mTrying to register the cmap 'sauron_r' which already exists.\u001b[0m \u001b[0;36m(UserWarning)\u001b[0m\n",
      "\u001b[1;33m[WARNING]: \u001b[0m\u001b[0;39mTrying to register the cmap 'sauron' which already exists.\u001b[0m \u001b[0;36m(UserWarning)\u001b[0m\n",
      "\u001b[1;33m[WARNING]: \u001b[0m\u001b[0;39mTrying to register the cmap 'sauron_r' which already exists.\u001b[0m \u001b[0;36m(UserWarning)\u001b[0m\n"
     ]
    },
    {
     "name": "stdout",
     "output_type": "stream",
     "text": [
      "  Kin PA: 107.5  +/-   0.5  (3*sigma error)\n",
      "Velocity Offset: 0.00\n"
     ]
    },
    {
     "name": "stderr",
     "output_type": "stream",
     "text": [
      "\u001b[1;33m[WARNING]: \u001b[0m\u001b[0;39mTrying to register the cmap 'sauron' which already exists.\u001b[0m \u001b[0;36m(UserWarning)\u001b[0m\n",
      "\u001b[1;33m[WARNING]: \u001b[0m\u001b[0;39mTrying to register the cmap 'sauron_r' which already exists.\u001b[0m \u001b[0;36m(UserWarning)\u001b[0m\n",
      "\u001b[1;33m[WARNING]: \u001b[0m\u001b[0;39mTrying to register the cmap 'sauron' which already exists.\u001b[0m \u001b[0;36m(UserWarning)\u001b[0m\n",
      "\u001b[1;33m[WARNING]: \u001b[0m\u001b[0;39mTrying to register the cmap 'sauron_r' which already exists.\u001b[0m \u001b[0;36m(UserWarning)\u001b[0m\n"
     ]
    },
    {
     "name": "stdout",
     "output_type": "stream",
     "text": [
      "  Kin PA: 176.0  +/-   6.0  (3*sigma error)\n",
      "Velocity Offset: 0.00\n"
     ]
    },
    {
     "name": "stderr",
     "output_type": "stream",
     "text": [
      "\u001b[1;33m[WARNING]: \u001b[0m\u001b[0;39mTrying to register the cmap 'sauron' which already exists.\u001b[0m \u001b[0;36m(UserWarning)\u001b[0m\n",
      "\u001b[1;33m[WARNING]: \u001b[0m\u001b[0;39mTrying to register the cmap 'sauron_r' which already exists.\u001b[0m \u001b[0;36m(UserWarning)\u001b[0m\n",
      "\u001b[1;33m[WARNING]: \u001b[0m\u001b[0;39mTrying to register the cmap 'sauron' which already exists.\u001b[0m \u001b[0;36m(UserWarning)\u001b[0m\n",
      "\u001b[1;33m[WARNING]: \u001b[0m\u001b[0;39mTrying to register the cmap 'sauron_r' which already exists.\u001b[0m \u001b[0;36m(UserWarning)\u001b[0m\n"
     ]
    },
    {
     "name": "stdout",
     "output_type": "stream",
     "text": [
      "  Kin PA: 151.0  +/-   3.2  (3*sigma error)\n",
      "Velocity Offset: 0.00\n"
     ]
    },
    {
     "name": "stderr",
     "output_type": "stream",
     "text": [
      "\u001b[1;33m[WARNING]: \u001b[0m\u001b[0;39mTrying to register the cmap 'sauron' which already exists.\u001b[0m \u001b[0;36m(UserWarning)\u001b[0m\n",
      "\u001b[1;33m[WARNING]: \u001b[0m\u001b[0;39mTrying to register the cmap 'sauron_r' which already exists.\u001b[0m \u001b[0;36m(UserWarning)\u001b[0m\n",
      "\u001b[1;33m[WARNING]: \u001b[0m\u001b[0;39mTrying to register the cmap 'sauron' which already exists.\u001b[0m \u001b[0;36m(UserWarning)\u001b[0m\n",
      "\u001b[1;33m[WARNING]: \u001b[0m\u001b[0;39mTrying to register the cmap 'sauron_r' which already exists.\u001b[0m \u001b[0;36m(UserWarning)\u001b[0m\n"
     ]
    },
    {
     "name": "stdout",
     "output_type": "stream",
     "text": [
      "  Kin PA:  67.5  +/-   0.5  (3*sigma error)\n",
      "Velocity Offset: 0.00\n"
     ]
    },
    {
     "name": "stderr",
     "output_type": "stream",
     "text": [
      "\u001b[1;33m[WARNING]: \u001b[0m\u001b[0;39mTrying to register the cmap 'sauron' which already exists.\u001b[0m \u001b[0;36m(UserWarning)\u001b[0m\n",
      "\u001b[1;33m[WARNING]: \u001b[0m\u001b[0;39mTrying to register the cmap 'sauron_r' which already exists.\u001b[0m \u001b[0;36m(UserWarning)\u001b[0m\n",
      "\u001b[1;33m[WARNING]: \u001b[0m\u001b[0;39mTrying to register the cmap 'sauron' which already exists.\u001b[0m \u001b[0;36m(UserWarning)\u001b[0m\n",
      "\u001b[1;33m[WARNING]: \u001b[0m\u001b[0;39mTrying to register the cmap 'sauron_r' which already exists.\u001b[0m \u001b[0;36m(UserWarning)\u001b[0m\n"
     ]
    },
    {
     "name": "stdout",
     "output_type": "stream",
     "text": [
      "  Kin PA: 153.5  +/-  14.0  (3*sigma error)\n",
      "Velocity Offset: 0.00\n"
     ]
    },
    {
     "name": "stderr",
     "output_type": "stream",
     "text": [
      "\u001b[1;33m[WARNING]: \u001b[0m\u001b[0;39mTrying to register the cmap 'sauron' which already exists.\u001b[0m \u001b[0;36m(UserWarning)\u001b[0m\n",
      "\u001b[1;33m[WARNING]: \u001b[0m\u001b[0;39mTrying to register the cmap 'sauron_r' which already exists.\u001b[0m \u001b[0;36m(UserWarning)\u001b[0m\n",
      "\u001b[1;33m[WARNING]: \u001b[0m\u001b[0;39mTrying to register the cmap 'sauron' which already exists.\u001b[0m \u001b[0;36m(UserWarning)\u001b[0m\n",
      "\u001b[1;33m[WARNING]: \u001b[0m\u001b[0;39mTrying to register the cmap 'sauron_r' which already exists.\u001b[0m \u001b[0;36m(UserWarning)\u001b[0m\n"
     ]
    },
    {
     "name": "stdout",
     "output_type": "stream",
     "text": [
      "  Kin PA: 134.0  +/-   3.5  (3*sigma error)\n",
      "Velocity Offset: 0.00\n"
     ]
    },
    {
     "name": "stderr",
     "output_type": "stream",
     "text": [
      "\u001b[1;33m[WARNING]: \u001b[0m\u001b[0;39mTrying to register the cmap 'sauron' which already exists.\u001b[0m \u001b[0;36m(UserWarning)\u001b[0m\n",
      "\u001b[1;33m[WARNING]: \u001b[0m\u001b[0;39mTrying to register the cmap 'sauron_r' which already exists.\u001b[0m \u001b[0;36m(UserWarning)\u001b[0m\n",
      "\u001b[1;33m[WARNING]: \u001b[0m\u001b[0;39mTrying to register the cmap 'sauron' which already exists.\u001b[0m \u001b[0;36m(UserWarning)\u001b[0m\n",
      "\u001b[1;33m[WARNING]: \u001b[0m\u001b[0;39mTrying to register the cmap 'sauron_r' which already exists.\u001b[0m \u001b[0;36m(UserWarning)\u001b[0m\n"
     ]
    },
    {
     "name": "stdout",
     "output_type": "stream",
     "text": [
      "  Kin PA: 174.5  +/-   0.5  (3*sigma error)\n",
      "Velocity Offset: 0.00\n"
     ]
    },
    {
     "name": "stderr",
     "output_type": "stream",
     "text": [
      "\u001b[1;33m[WARNING]: \u001b[0m\u001b[0;39mTrying to register the cmap 'sauron' which already exists.\u001b[0m \u001b[0;36m(UserWarning)\u001b[0m\n",
      "\u001b[1;33m[WARNING]: \u001b[0m\u001b[0;39mTrying to register the cmap 'sauron_r' which already exists.\u001b[0m \u001b[0;36m(UserWarning)\u001b[0m\n",
      "\u001b[1;33m[WARNING]: \u001b[0m\u001b[0;39mTrying to register the cmap 'sauron' which already exists.\u001b[0m \u001b[0;36m(UserWarning)\u001b[0m\n",
      "\u001b[1;33m[WARNING]: \u001b[0m\u001b[0;39mTrying to register the cmap 'sauron_r' which already exists.\u001b[0m \u001b[0;36m(UserWarning)\u001b[0m\n"
     ]
    },
    {
     "name": "stdout",
     "output_type": "stream",
     "text": [
      "  Kin PA:   4.0  +/-  13.0  (3*sigma error)\n",
      "Velocity Offset: 0.00\n"
     ]
    },
    {
     "name": "stderr",
     "output_type": "stream",
     "text": [
      "\u001b[1;33m[WARNING]: \u001b[0m\u001b[0;39mTrying to register the cmap 'sauron' which already exists.\u001b[0m \u001b[0;36m(UserWarning)\u001b[0m\n",
      "\u001b[1;33m[WARNING]: \u001b[0m\u001b[0;39mTrying to register the cmap 'sauron_r' which already exists.\u001b[0m \u001b[0;36m(UserWarning)\u001b[0m\n",
      "\u001b[1;33m[WARNING]: \u001b[0m\u001b[0;39mTrying to register the cmap 'sauron' which already exists.\u001b[0m \u001b[0;36m(UserWarning)\u001b[0m\n",
      "\u001b[1;33m[WARNING]: \u001b[0m\u001b[0;39mTrying to register the cmap 'sauron_r' which already exists.\u001b[0m \u001b[0;36m(UserWarning)\u001b[0m\n"
     ]
    },
    {
     "name": "stdout",
     "output_type": "stream",
     "text": [
      "  Kin PA:  32.0  +/-   0.5  (3*sigma error)\n",
      "Velocity Offset: 0.00\n"
     ]
    },
    {
     "name": "stderr",
     "output_type": "stream",
     "text": [
      "\u001b[1;33m[WARNING]: \u001b[0m\u001b[0;39mTrying to register the cmap 'sauron' which already exists.\u001b[0m \u001b[0;36m(UserWarning)\u001b[0m\n",
      "\u001b[1;33m[WARNING]: \u001b[0m\u001b[0;39mTrying to register the cmap 'sauron_r' which already exists.\u001b[0m \u001b[0;36m(UserWarning)\u001b[0m\n",
      "\u001b[1;33m[WARNING]: \u001b[0m\u001b[0;39mTrying to register the cmap 'sauron' which already exists.\u001b[0m \u001b[0;36m(UserWarning)\u001b[0m\n",
      "\u001b[1;33m[WARNING]: \u001b[0m\u001b[0;39mTrying to register the cmap 'sauron_r' which already exists.\u001b[0m \u001b[0;36m(UserWarning)\u001b[0m\n"
     ]
    },
    {
     "name": "stdout",
     "output_type": "stream",
     "text": [
      "  Kin PA:  16.5  +/-   2.8  (3*sigma error)\n",
      "Velocity Offset: 0.00\n"
     ]
    },
    {
     "name": "stderr",
     "output_type": "stream",
     "text": [
      "\u001b[1;33m[WARNING]: \u001b[0m\u001b[0;39mTrying to register the cmap 'sauron' which already exists.\u001b[0m \u001b[0;36m(UserWarning)\u001b[0m\n",
      "\u001b[1;33m[WARNING]: \u001b[0m\u001b[0;39mTrying to register the cmap 'sauron_r' which already exists.\u001b[0m \u001b[0;36m(UserWarning)\u001b[0m\n",
      "\u001b[1;33m[WARNING]: \u001b[0m\u001b[0;39mTrying to register the cmap 'sauron' which already exists.\u001b[0m \u001b[0;36m(UserWarning)\u001b[0m\n",
      "\u001b[1;33m[WARNING]: \u001b[0m\u001b[0;39mTrying to register the cmap 'sauron_r' which already exists.\u001b[0m \u001b[0;36m(UserWarning)\u001b[0m\n"
     ]
    },
    {
     "name": "stdout",
     "output_type": "stream",
     "text": [
      "  Kin PA:  94.0  +/-   6.8  (3*sigma error)\n",
      "Velocity Offset: 0.00\n"
     ]
    },
    {
     "name": "stderr",
     "output_type": "stream",
     "text": [
      "\u001b[1;33m[WARNING]: \u001b[0m\u001b[0;39mTrying to register the cmap 'sauron' which already exists.\u001b[0m \u001b[0;36m(UserWarning)\u001b[0m\n",
      "\u001b[1;33m[WARNING]: \u001b[0m\u001b[0;39mTrying to register the cmap 'sauron_r' which already exists.\u001b[0m \u001b[0;36m(UserWarning)\u001b[0m\n",
      "\u001b[1;33m[WARNING]: \u001b[0m\u001b[0;39mTrying to register the cmap 'sauron' which already exists.\u001b[0m \u001b[0;36m(UserWarning)\u001b[0m\n",
      "\u001b[1;33m[WARNING]: \u001b[0m\u001b[0;39mTrying to register the cmap 'sauron_r' which already exists.\u001b[0m \u001b[0;36m(UserWarning)\u001b[0m\n"
     ]
    },
    {
     "name": "stdout",
     "output_type": "stream",
     "text": [
      "  Kin PA: 113.5  +/-   7.8  (3*sigma error)\n",
      "Velocity Offset: 0.00\n"
     ]
    },
    {
     "name": "stderr",
     "output_type": "stream",
     "text": [
      "\u001b[1;33m[WARNING]: \u001b[0m\u001b[0;39mTrying to register the cmap 'sauron' which already exists.\u001b[0m \u001b[0;36m(UserWarning)\u001b[0m\n",
      "\u001b[1;33m[WARNING]: \u001b[0m\u001b[0;39mTrying to register the cmap 'sauron_r' which already exists.\u001b[0m \u001b[0;36m(UserWarning)\u001b[0m\n",
      "\u001b[1;33m[WARNING]: \u001b[0m\u001b[0;39mTrying to register the cmap 'sauron' which already exists.\u001b[0m \u001b[0;36m(UserWarning)\u001b[0m\n",
      "\u001b[1;33m[WARNING]: \u001b[0m\u001b[0;39mTrying to register the cmap 'sauron_r' which already exists.\u001b[0m \u001b[0;36m(UserWarning)\u001b[0m\n"
     ]
    },
    {
     "name": "stdout",
     "output_type": "stream",
     "text": [
      "  Kin PA:  90.5  +/-   0.5  (3*sigma error)\n",
      "Velocity Offset: 0.00\n"
     ]
    },
    {
     "name": "stderr",
     "output_type": "stream",
     "text": [
      "\u001b[1;33m[WARNING]: \u001b[0m\u001b[0;39mTrying to register the cmap 'sauron' which already exists.\u001b[0m \u001b[0;36m(UserWarning)\u001b[0m\n",
      "\u001b[1;33m[WARNING]: \u001b[0m\u001b[0;39mTrying to register the cmap 'sauron_r' which already exists.\u001b[0m \u001b[0;36m(UserWarning)\u001b[0m\n",
      "\u001b[1;33m[WARNING]: \u001b[0m\u001b[0;39mTrying to register the cmap 'sauron' which already exists.\u001b[0m \u001b[0;36m(UserWarning)\u001b[0m\n",
      "\u001b[1;33m[WARNING]: \u001b[0m\u001b[0;39mTrying to register the cmap 'sauron_r' which already exists.\u001b[0m \u001b[0;36m(UserWarning)\u001b[0m\n"
     ]
    },
    {
     "name": "stdout",
     "output_type": "stream",
     "text": [
      "  Kin PA: 159.5  +/-   0.5  (3*sigma error)\n",
      "Velocity Offset: 0.00\n"
     ]
    },
    {
     "name": "stderr",
     "output_type": "stream",
     "text": [
      "\u001b[1;33m[WARNING]: \u001b[0m\u001b[0;39mTrying to register the cmap 'sauron' which already exists.\u001b[0m \u001b[0;36m(UserWarning)\u001b[0m\n",
      "\u001b[1;33m[WARNING]: \u001b[0m\u001b[0;39mTrying to register the cmap 'sauron_r' which already exists.\u001b[0m \u001b[0;36m(UserWarning)\u001b[0m\n",
      "\u001b[1;33m[WARNING]: \u001b[0m\u001b[0;39mTrying to register the cmap 'sauron' which already exists.\u001b[0m \u001b[0;36m(UserWarning)\u001b[0m\n",
      "\u001b[1;33m[WARNING]: \u001b[0m\u001b[0;39mTrying to register the cmap 'sauron_r' which already exists.\u001b[0m \u001b[0;36m(UserWarning)\u001b[0m\n"
     ]
    },
    {
     "name": "stdout",
     "output_type": "stream",
     "text": [
      "  Kin PA:  18.0  +/-   0.5  (3*sigma error)\n",
      "Velocity Offset: 0.00\n"
     ]
    },
    {
     "name": "stderr",
     "output_type": "stream",
     "text": [
      "\u001b[1;33m[WARNING]: \u001b[0m\u001b[0;39mTrying to register the cmap 'sauron' which already exists.\u001b[0m \u001b[0;36m(UserWarning)\u001b[0m\n",
      "\u001b[1;33m[WARNING]: \u001b[0m\u001b[0;39mTrying to register the cmap 'sauron_r' which already exists.\u001b[0m \u001b[0;36m(UserWarning)\u001b[0m\n",
      "\u001b[1;33m[WARNING]: \u001b[0m\u001b[0;39mTrying to register the cmap 'sauron' which already exists.\u001b[0m \u001b[0;36m(UserWarning)\u001b[0m\n",
      "\u001b[1;33m[WARNING]: \u001b[0m\u001b[0;39mTrying to register the cmap 'sauron_r' which already exists.\u001b[0m \u001b[0;36m(UserWarning)\u001b[0m\n"
     ]
    },
    {
     "name": "stdout",
     "output_type": "stream",
     "text": [
      "  Kin PA:  88.0  +/-  10.8  (3*sigma error)\n",
      "Velocity Offset: 0.00\n"
     ]
    },
    {
     "name": "stderr",
     "output_type": "stream",
     "text": [
      "\u001b[1;33m[WARNING]: \u001b[0m\u001b[0;39mTrying to register the cmap 'sauron' which already exists.\u001b[0m \u001b[0;36m(UserWarning)\u001b[0m\n",
      "\u001b[1;33m[WARNING]: \u001b[0m\u001b[0;39mTrying to register the cmap 'sauron_r' which already exists.\u001b[0m \u001b[0;36m(UserWarning)\u001b[0m\n",
      "\u001b[1;33m[WARNING]: \u001b[0m\u001b[0;39mTrying to register the cmap 'sauron' which already exists.\u001b[0m \u001b[0;36m(UserWarning)\u001b[0m\n",
      "\u001b[1;33m[WARNING]: \u001b[0m\u001b[0;39mTrying to register the cmap 'sauron_r' which already exists.\u001b[0m \u001b[0;36m(UserWarning)\u001b[0m\n"
     ]
    },
    {
     "name": "stdout",
     "output_type": "stream",
     "text": [
      "  Kin PA:  25.5  +/-   7.0  (3*sigma error)\n",
      "Velocity Offset: 0.00\n"
     ]
    },
    {
     "name": "stderr",
     "output_type": "stream",
     "text": [
      "\u001b[1;33m[WARNING]: \u001b[0m\u001b[0;39mTrying to register the cmap 'sauron' which already exists.\u001b[0m \u001b[0;36m(UserWarning)\u001b[0m\n",
      "\u001b[1;33m[WARNING]: \u001b[0m\u001b[0;39mTrying to register the cmap 'sauron_r' which already exists.\u001b[0m \u001b[0;36m(UserWarning)\u001b[0m\n",
      "\u001b[1;33m[WARNING]: \u001b[0m\u001b[0;39mTrying to register the cmap 'sauron' which already exists.\u001b[0m \u001b[0;36m(UserWarning)\u001b[0m\n",
      "\u001b[1;33m[WARNING]: \u001b[0m\u001b[0;39mTrying to register the cmap 'sauron_r' which already exists.\u001b[0m \u001b[0;36m(UserWarning)\u001b[0m\n"
     ]
    },
    {
     "name": "stdout",
     "output_type": "stream",
     "text": [
      "  Kin PA:  27.0  +/-   8.0  (3*sigma error)\n",
      "Velocity Offset: 0.00\n"
     ]
    },
    {
     "name": "stderr",
     "output_type": "stream",
     "text": [
      "\u001b[1;33m[WARNING]: \u001b[0m\u001b[0;39mTrying to register the cmap 'sauron' which already exists.\u001b[0m \u001b[0;36m(UserWarning)\u001b[0m\n",
      "\u001b[1;33m[WARNING]: \u001b[0m\u001b[0;39mTrying to register the cmap 'sauron_r' which already exists.\u001b[0m \u001b[0;36m(UserWarning)\u001b[0m\n",
      "\u001b[1;33m[WARNING]: \u001b[0m\u001b[0;39mTrying to register the cmap 'sauron' which already exists.\u001b[0m \u001b[0;36m(UserWarning)\u001b[0m\n",
      "\u001b[1;33m[WARNING]: \u001b[0m\u001b[0;39mTrying to register the cmap 'sauron_r' which already exists.\u001b[0m \u001b[0;36m(UserWarning)\u001b[0m\n"
     ]
    },
    {
     "name": "stdout",
     "output_type": "stream",
     "text": [
      "  Kin PA: 139.0  +/-  11.0  (3*sigma error)\n",
      "Velocity Offset: 0.00\n"
     ]
    },
    {
     "name": "stderr",
     "output_type": "stream",
     "text": [
      "\u001b[1;33m[WARNING]: \u001b[0m\u001b[0;39mTrying to register the cmap 'sauron' which already exists.\u001b[0m \u001b[0;36m(UserWarning)\u001b[0m\n",
      "\u001b[1;33m[WARNING]: \u001b[0m\u001b[0;39mTrying to register the cmap 'sauron_r' which already exists.\u001b[0m \u001b[0;36m(UserWarning)\u001b[0m\n",
      "\u001b[1;33m[WARNING]: \u001b[0m\u001b[0;39mTrying to register the cmap 'sauron' which already exists.\u001b[0m \u001b[0;36m(UserWarning)\u001b[0m\n",
      "\u001b[1;33m[WARNING]: \u001b[0m\u001b[0;39mTrying to register the cmap 'sauron_r' which already exists.\u001b[0m \u001b[0;36m(UserWarning)\u001b[0m\n"
     ]
    },
    {
     "name": "stdout",
     "output_type": "stream",
     "text": [
      "  Kin PA:  43.5  +/-  16.8  (3*sigma error)\n",
      "Velocity Offset: 0.00\n"
     ]
    },
    {
     "name": "stderr",
     "output_type": "stream",
     "text": [
      "\u001b[1;33m[WARNING]: \u001b[0m\u001b[0;39mTrying to register the cmap 'sauron' which already exists.\u001b[0m \u001b[0;36m(UserWarning)\u001b[0m\n",
      "\u001b[1;33m[WARNING]: \u001b[0m\u001b[0;39mTrying to register the cmap 'sauron_r' which already exists.\u001b[0m \u001b[0;36m(UserWarning)\u001b[0m\n",
      "\u001b[1;33m[WARNING]: \u001b[0m\u001b[0;39mTrying to register the cmap 'sauron' which already exists.\u001b[0m \u001b[0;36m(UserWarning)\u001b[0m\n",
      "\u001b[1;33m[WARNING]: \u001b[0m\u001b[0;39mTrying to register the cmap 'sauron_r' which already exists.\u001b[0m \u001b[0;36m(UserWarning)\u001b[0m\n"
     ]
    },
    {
     "name": "stdout",
     "output_type": "stream",
     "text": [
      "  Kin PA:   1.0  +/-   1.8  (3*sigma error)\n",
      "Velocity Offset: 0.00\n"
     ]
    },
    {
     "name": "stderr",
     "output_type": "stream",
     "text": [
      "\u001b[1;33m[WARNING]: \u001b[0m\u001b[0;39mTrying to register the cmap 'sauron' which already exists.\u001b[0m \u001b[0;36m(UserWarning)\u001b[0m\n",
      "\u001b[1;33m[WARNING]: \u001b[0m\u001b[0;39mTrying to register the cmap 'sauron_r' which already exists.\u001b[0m \u001b[0;36m(UserWarning)\u001b[0m\n",
      "\u001b[1;33m[WARNING]: \u001b[0m\u001b[0;39mTrying to register the cmap 'sauron' which already exists.\u001b[0m \u001b[0;36m(UserWarning)\u001b[0m\n",
      "\u001b[1;33m[WARNING]: \u001b[0m\u001b[0;39mTrying to register the cmap 'sauron_r' which already exists.\u001b[0m \u001b[0;36m(UserWarning)\u001b[0m\n"
     ]
    },
    {
     "name": "stdout",
     "output_type": "stream",
     "text": [
      "  Kin PA: 175.5  +/-   4.2  (3*sigma error)\n",
      "Velocity Offset: 0.00\n"
     ]
    },
    {
     "name": "stderr",
     "output_type": "stream",
     "text": [
      "\u001b[1;33m[WARNING]: \u001b[0m\u001b[0;39mTrying to register the cmap 'sauron' which already exists.\u001b[0m \u001b[0;36m(UserWarning)\u001b[0m\n",
      "\u001b[1;33m[WARNING]: \u001b[0m\u001b[0;39mTrying to register the cmap 'sauron_r' which already exists.\u001b[0m \u001b[0;36m(UserWarning)\u001b[0m\n",
      "\u001b[1;33m[WARNING]: \u001b[0m\u001b[0;39mTrying to register the cmap 'sauron' which already exists.\u001b[0m \u001b[0;36m(UserWarning)\u001b[0m\n",
      "\u001b[1;33m[WARNING]: \u001b[0m\u001b[0;39mTrying to register the cmap 'sauron_r' which already exists.\u001b[0m \u001b[0;36m(UserWarning)\u001b[0m\n"
     ]
    },
    {
     "name": "stdout",
     "output_type": "stream",
     "text": [
      "  Kin PA:  30.5  +/-   0.5  (3*sigma error)\n",
      "Velocity Offset: 0.00\n"
     ]
    },
    {
     "name": "stderr",
     "output_type": "stream",
     "text": [
      "\u001b[1;33m[WARNING]: \u001b[0m\u001b[0;39mTrying to register the cmap 'sauron' which already exists.\u001b[0m \u001b[0;36m(UserWarning)\u001b[0m\n",
      "\u001b[1;33m[WARNING]: \u001b[0m\u001b[0;39mTrying to register the cmap 'sauron_r' which already exists.\u001b[0m \u001b[0;36m(UserWarning)\u001b[0m\n",
      "\u001b[1;33m[WARNING]: \u001b[0m\u001b[0;39mTrying to register the cmap 'sauron' which already exists.\u001b[0m \u001b[0;36m(UserWarning)\u001b[0m\n",
      "\u001b[1;33m[WARNING]: \u001b[0m\u001b[0;39mTrying to register the cmap 'sauron_r' which already exists.\u001b[0m \u001b[0;36m(UserWarning)\u001b[0m\n"
     ]
    },
    {
     "name": "stdout",
     "output_type": "stream",
     "text": [
      "  Kin PA:  28.5  +/-   4.0  (3*sigma error)\n",
      "Velocity Offset: 0.00\n"
     ]
    },
    {
     "name": "stderr",
     "output_type": "stream",
     "text": [
      "\u001b[1;33m[WARNING]: \u001b[0m\u001b[0;39mTrying to register the cmap 'sauron' which already exists.\u001b[0m \u001b[0;36m(UserWarning)\u001b[0m\n",
      "\u001b[1;33m[WARNING]: \u001b[0m\u001b[0;39mTrying to register the cmap 'sauron_r' which already exists.\u001b[0m \u001b[0;36m(UserWarning)\u001b[0m\n",
      "\u001b[1;33m[WARNING]: \u001b[0m\u001b[0;39mTrying to register the cmap 'sauron' which already exists.\u001b[0m \u001b[0;36m(UserWarning)\u001b[0m\n",
      "\u001b[1;33m[WARNING]: \u001b[0m\u001b[0;39mTrying to register the cmap 'sauron_r' which already exists.\u001b[0m \u001b[0;36m(UserWarning)\u001b[0m\n"
     ]
    },
    {
     "name": "stdout",
     "output_type": "stream",
     "text": [
      "  Kin PA:  94.0  +/-   0.5  (3*sigma error)\n",
      "Velocity Offset: 0.00\n"
     ]
    },
    {
     "name": "stderr",
     "output_type": "stream",
     "text": [
      "\u001b[1;33m[WARNING]: \u001b[0m\u001b[0;39mTrying to register the cmap 'sauron' which already exists.\u001b[0m \u001b[0;36m(UserWarning)\u001b[0m\n",
      "\u001b[1;33m[WARNING]: \u001b[0m\u001b[0;39mTrying to register the cmap 'sauron_r' which already exists.\u001b[0m \u001b[0;36m(UserWarning)\u001b[0m\n",
      "\u001b[1;33m[WARNING]: \u001b[0m\u001b[0;39mTrying to register the cmap 'sauron' which already exists.\u001b[0m \u001b[0;36m(UserWarning)\u001b[0m\n",
      "\u001b[1;33m[WARNING]: \u001b[0m\u001b[0;39mTrying to register the cmap 'sauron_r' which already exists.\u001b[0m \u001b[0;36m(UserWarning)\u001b[0m\n"
     ]
    },
    {
     "name": "stdout",
     "output_type": "stream",
     "text": [
      "  Kin PA: 121.5  +/-  11.5  (3*sigma error)\n",
      "Velocity Offset: 0.00\n"
     ]
    },
    {
     "name": "stderr",
     "output_type": "stream",
     "text": [
      "\u001b[1;33m[WARNING]: \u001b[0m\u001b[0;39mTrying to register the cmap 'sauron' which already exists.\u001b[0m \u001b[0;36m(UserWarning)\u001b[0m\n",
      "\u001b[1;33m[WARNING]: \u001b[0m\u001b[0;39mTrying to register the cmap 'sauron_r' which already exists.\u001b[0m \u001b[0;36m(UserWarning)\u001b[0m\n",
      "\u001b[1;33m[WARNING]: \u001b[0m\u001b[0;39mTrying to register the cmap 'sauron' which already exists.\u001b[0m \u001b[0;36m(UserWarning)\u001b[0m\n",
      "\u001b[1;33m[WARNING]: \u001b[0m\u001b[0;39mTrying to register the cmap 'sauron_r' which already exists.\u001b[0m \u001b[0;36m(UserWarning)\u001b[0m\n"
     ]
    },
    {
     "name": "stdout",
     "output_type": "stream",
     "text": [
      "  Kin PA: 121.5  +/-   0.5  (3*sigma error)\n",
      "Velocity Offset: 0.00\n"
     ]
    },
    {
     "name": "stderr",
     "output_type": "stream",
     "text": [
      "\u001b[1;33m[WARNING]: \u001b[0m\u001b[0;39mTrying to register the cmap 'sauron' which already exists.\u001b[0m \u001b[0;36m(UserWarning)\u001b[0m\n",
      "\u001b[1;33m[WARNING]: \u001b[0m\u001b[0;39mTrying to register the cmap 'sauron_r' which already exists.\u001b[0m \u001b[0;36m(UserWarning)\u001b[0m\n",
      "\u001b[1;33m[WARNING]: \u001b[0m\u001b[0;39mTrying to register the cmap 'sauron' which already exists.\u001b[0m \u001b[0;36m(UserWarning)\u001b[0m\n",
      "\u001b[1;33m[WARNING]: \u001b[0m\u001b[0;39mTrying to register the cmap 'sauron_r' which already exists.\u001b[0m \u001b[0;36m(UserWarning)\u001b[0m\n"
     ]
    },
    {
     "name": "stdout",
     "output_type": "stream",
     "text": [
      "  Kin PA: 152.5  +/-  11.5  (3*sigma error)\n",
      "Velocity Offset: 0.00\n"
     ]
    },
    {
     "name": "stderr",
     "output_type": "stream",
     "text": [
      "\u001b[1;33m[WARNING]: \u001b[0m\u001b[0;39mTrying to register the cmap 'sauron' which already exists.\u001b[0m \u001b[0;36m(UserWarning)\u001b[0m\n",
      "\u001b[1;33m[WARNING]: \u001b[0m\u001b[0;39mTrying to register the cmap 'sauron_r' which already exists.\u001b[0m \u001b[0;36m(UserWarning)\u001b[0m\n",
      "\u001b[1;33m[WARNING]: \u001b[0m\u001b[0;39mTrying to register the cmap 'sauron' which already exists.\u001b[0m \u001b[0;36m(UserWarning)\u001b[0m\n",
      "\u001b[1;33m[WARNING]: \u001b[0m\u001b[0;39mTrying to register the cmap 'sauron_r' which already exists.\u001b[0m \u001b[0;36m(UserWarning)\u001b[0m\n"
     ]
    },
    {
     "name": "stdout",
     "output_type": "stream",
     "text": [
      "  Kin PA:  50.5  +/-   0.5  (3*sigma error)\n",
      "Velocity Offset: 0.00\n"
     ]
    },
    {
     "name": "stderr",
     "output_type": "stream",
     "text": [
      "\u001b[1;33m[WARNING]: \u001b[0m\u001b[0;39mTrying to register the cmap 'sauron' which already exists.\u001b[0m \u001b[0;36m(UserWarning)\u001b[0m\n",
      "\u001b[1;33m[WARNING]: \u001b[0m\u001b[0;39mTrying to register the cmap 'sauron_r' which already exists.\u001b[0m \u001b[0;36m(UserWarning)\u001b[0m\n",
      "\u001b[1;33m[WARNING]: \u001b[0m\u001b[0;39mTrying to register the cmap 'sauron' which already exists.\u001b[0m \u001b[0;36m(UserWarning)\u001b[0m\n",
      "\u001b[1;33m[WARNING]: \u001b[0m\u001b[0;39mTrying to register the cmap 'sauron_r' which already exists.\u001b[0m \u001b[0;36m(UserWarning)\u001b[0m\n"
     ]
    },
    {
     "name": "stdout",
     "output_type": "stream",
     "text": [
      "  Kin PA:  66.5  +/-   8.2  (3*sigma error)\n",
      "Velocity Offset: 0.00\n"
     ]
    },
    {
     "name": "stderr",
     "output_type": "stream",
     "text": [
      "\u001b[1;33m[WARNING]: \u001b[0m\u001b[0;39mTrying to register the cmap 'sauron' which already exists.\u001b[0m \u001b[0;36m(UserWarning)\u001b[0m\n",
      "\u001b[1;33m[WARNING]: \u001b[0m\u001b[0;39mTrying to register the cmap 'sauron_r' which already exists.\u001b[0m \u001b[0;36m(UserWarning)\u001b[0m\n",
      "\u001b[1;33m[WARNING]: \u001b[0m\u001b[0;39mTrying to register the cmap 'sauron' which already exists.\u001b[0m \u001b[0;36m(UserWarning)\u001b[0m\n",
      "\u001b[1;33m[WARNING]: \u001b[0m\u001b[0;39mTrying to register the cmap 'sauron_r' which already exists.\u001b[0m \u001b[0;36m(UserWarning)\u001b[0m\n"
     ]
    },
    {
     "name": "stdout",
     "output_type": "stream",
     "text": [
      "  Kin PA:  55.5  +/-   0.5  (3*sigma error)\n",
      "Velocity Offset: 0.00\n"
     ]
    },
    {
     "name": "stderr",
     "output_type": "stream",
     "text": [
      "\u001b[1;33m[WARNING]: \u001b[0m\u001b[0;39mTrying to register the cmap 'sauron' which already exists.\u001b[0m \u001b[0;36m(UserWarning)\u001b[0m\n",
      "\u001b[1;33m[WARNING]: \u001b[0m\u001b[0;39mTrying to register the cmap 'sauron_r' which already exists.\u001b[0m \u001b[0;36m(UserWarning)\u001b[0m\n",
      "\u001b[1;33m[WARNING]: \u001b[0m\u001b[0;39mTrying to register the cmap 'sauron' which already exists.\u001b[0m \u001b[0;36m(UserWarning)\u001b[0m\n",
      "\u001b[1;33m[WARNING]: \u001b[0m\u001b[0;39mTrying to register the cmap 'sauron_r' which already exists.\u001b[0m \u001b[0;36m(UserWarning)\u001b[0m\n"
     ]
    },
    {
     "name": "stdout",
     "output_type": "stream",
     "text": [
      "  Kin PA: 128.5  +/-   7.5  (3*sigma error)\n",
      "Velocity Offset: 0.00\n"
     ]
    },
    {
     "name": "stderr",
     "output_type": "stream",
     "text": [
      "\u001b[1;33m[WARNING]: \u001b[0m\u001b[0;39mTrying to register the cmap 'sauron' which already exists.\u001b[0m \u001b[0;36m(UserWarning)\u001b[0m\n",
      "\u001b[1;33m[WARNING]: \u001b[0m\u001b[0;39mTrying to register the cmap 'sauron_r' which already exists.\u001b[0m \u001b[0;36m(UserWarning)\u001b[0m\n",
      "\u001b[1;33m[WARNING]: \u001b[0m\u001b[0;39mTrying to register the cmap 'sauron' which already exists.\u001b[0m \u001b[0;36m(UserWarning)\u001b[0m\n",
      "\u001b[1;33m[WARNING]: \u001b[0m\u001b[0;39mTrying to register the cmap 'sauron_r' which already exists.\u001b[0m \u001b[0;36m(UserWarning)\u001b[0m\n"
     ]
    },
    {
     "name": "stdout",
     "output_type": "stream",
     "text": [
      "  Kin PA:   9.0  +/-   0.5  (3*sigma error)\n",
      "Velocity Offset: 0.00\n"
     ]
    },
    {
     "name": "stderr",
     "output_type": "stream",
     "text": [
      "\u001b[1;33m[WARNING]: \u001b[0m\u001b[0;39mTrying to register the cmap 'sauron' which already exists.\u001b[0m \u001b[0;36m(UserWarning)\u001b[0m\n",
      "\u001b[1;33m[WARNING]: \u001b[0m\u001b[0;39mTrying to register the cmap 'sauron_r' which already exists.\u001b[0m \u001b[0;36m(UserWarning)\u001b[0m\n",
      "\u001b[1;33m[WARNING]: \u001b[0m\u001b[0;39mTrying to register the cmap 'sauron' which already exists.\u001b[0m \u001b[0;36m(UserWarning)\u001b[0m\n",
      "\u001b[1;33m[WARNING]: \u001b[0m\u001b[0;39mTrying to register the cmap 'sauron_r' which already exists.\u001b[0m \u001b[0;36m(UserWarning)\u001b[0m\n"
     ]
    },
    {
     "name": "stdout",
     "output_type": "stream",
     "text": [
      "  Kin PA:  88.0  +/-   2.8  (3*sigma error)\n",
      "Velocity Offset: 0.00\n"
     ]
    },
    {
     "name": "stderr",
     "output_type": "stream",
     "text": [
      "\u001b[1;33m[WARNING]: \u001b[0m\u001b[0;39mTrying to register the cmap 'sauron' which already exists.\u001b[0m \u001b[0;36m(UserWarning)\u001b[0m\n",
      "\u001b[1;33m[WARNING]: \u001b[0m\u001b[0;39mTrying to register the cmap 'sauron_r' which already exists.\u001b[0m \u001b[0;36m(UserWarning)\u001b[0m\n",
      "\u001b[1;33m[WARNING]: \u001b[0m\u001b[0;39mTrying to register the cmap 'sauron' which already exists.\u001b[0m \u001b[0;36m(UserWarning)\u001b[0m\n",
      "\u001b[1;33m[WARNING]: \u001b[0m\u001b[0;39mTrying to register the cmap 'sauron_r' which already exists.\u001b[0m \u001b[0;36m(UserWarning)\u001b[0m\n"
     ]
    },
    {
     "name": "stdout",
     "output_type": "stream",
     "text": [
      "  Kin PA:  29.0  +/-   0.5  (3*sigma error)\n",
      "Velocity Offset: 0.00\n"
     ]
    },
    {
     "name": "stderr",
     "output_type": "stream",
     "text": [
      "\u001b[1;33m[WARNING]: \u001b[0m\u001b[0;39mTrying to register the cmap 'sauron' which already exists.\u001b[0m \u001b[0;36m(UserWarning)\u001b[0m\n",
      "\u001b[1;33m[WARNING]: \u001b[0m\u001b[0;39mTrying to register the cmap 'sauron_r' which already exists.\u001b[0m \u001b[0;36m(UserWarning)\u001b[0m\n",
      "\u001b[1;33m[WARNING]: \u001b[0m\u001b[0;39mTrying to register the cmap 'sauron' which already exists.\u001b[0m \u001b[0;36m(UserWarning)\u001b[0m\n",
      "\u001b[1;33m[WARNING]: \u001b[0m\u001b[0;39mTrying to register the cmap 'sauron_r' which already exists.\u001b[0m \u001b[0;36m(UserWarning)\u001b[0m\n"
     ]
    },
    {
     "name": "stdout",
     "output_type": "stream",
     "text": [
      "  Kin PA:  33.0  +/-   7.2  (3*sigma error)\n",
      "Velocity Offset: 0.00\n"
     ]
    },
    {
     "name": "stderr",
     "output_type": "stream",
     "text": [
      "\u001b[1;33m[WARNING]: \u001b[0m\u001b[0;39mTrying to register the cmap 'sauron' which already exists.\u001b[0m \u001b[0;36m(UserWarning)\u001b[0m\n",
      "\u001b[1;33m[WARNING]: \u001b[0m\u001b[0;39mTrying to register the cmap 'sauron_r' which already exists.\u001b[0m \u001b[0;36m(UserWarning)\u001b[0m\n",
      "\u001b[1;33m[WARNING]: \u001b[0m\u001b[0;39mTrying to register the cmap 'sauron' which already exists.\u001b[0m \u001b[0;36m(UserWarning)\u001b[0m\n",
      "\u001b[1;33m[WARNING]: \u001b[0m\u001b[0;39mTrying to register the cmap 'sauron_r' which already exists.\u001b[0m \u001b[0;36m(UserWarning)\u001b[0m\n"
     ]
    },
    {
     "name": "stdout",
     "output_type": "stream",
     "text": [
      "  Kin PA:  73.5  +/-   0.5  (3*sigma error)\n",
      "Velocity Offset: 0.00\n"
     ]
    },
    {
     "name": "stderr",
     "output_type": "stream",
     "text": [
      "\u001b[1;33m[WARNING]: \u001b[0m\u001b[0;39mTrying to register the cmap 'sauron' which already exists.\u001b[0m \u001b[0;36m(UserWarning)\u001b[0m\n",
      "\u001b[1;33m[WARNING]: \u001b[0m\u001b[0;39mTrying to register the cmap 'sauron_r' which already exists.\u001b[0m \u001b[0;36m(UserWarning)\u001b[0m\n",
      "\u001b[1;33m[WARNING]: \u001b[0m\u001b[0;39mTrying to register the cmap 'sauron' which already exists.\u001b[0m \u001b[0;36m(UserWarning)\u001b[0m\n",
      "\u001b[1;33m[WARNING]: \u001b[0m\u001b[0;39mTrying to register the cmap 'sauron_r' which already exists.\u001b[0m \u001b[0;36m(UserWarning)\u001b[0m\n"
     ]
    },
    {
     "name": "stdout",
     "output_type": "stream",
     "text": [
      "  Kin PA: 141.5  +/-  18.0  (3*sigma error)\n",
      "Velocity Offset: 0.00\n"
     ]
    },
    {
     "name": "stderr",
     "output_type": "stream",
     "text": [
      "\u001b[1;33m[WARNING]: \u001b[0m\u001b[0;39mTrying to register the cmap 'sauron' which already exists.\u001b[0m \u001b[0;36m(UserWarning)\u001b[0m\n",
      "\u001b[1;33m[WARNING]: \u001b[0m\u001b[0;39mTrying to register the cmap 'sauron_r' which already exists.\u001b[0m \u001b[0;36m(UserWarning)\u001b[0m\n",
      "\u001b[1;33m[WARNING]: \u001b[0m\u001b[0;39mTrying to register the cmap 'sauron' which already exists.\u001b[0m \u001b[0;36m(UserWarning)\u001b[0m\n",
      "\u001b[1;33m[WARNING]: \u001b[0m\u001b[0;39mTrying to register the cmap 'sauron_r' which already exists.\u001b[0m \u001b[0;36m(UserWarning)\u001b[0m\n"
     ]
    },
    {
     "name": "stdout",
     "output_type": "stream",
     "text": [
      "  Kin PA:  14.5  +/-   0.5  (3*sigma error)\n",
      "Velocity Offset: 0.00\n"
     ]
    },
    {
     "name": "stderr",
     "output_type": "stream",
     "text": [
      "\u001b[1;33m[WARNING]: \u001b[0m\u001b[0;39mTrying to register the cmap 'sauron' which already exists.\u001b[0m \u001b[0;36m(UserWarning)\u001b[0m\n",
      "\u001b[1;33m[WARNING]: \u001b[0m\u001b[0;39mTrying to register the cmap 'sauron_r' which already exists.\u001b[0m \u001b[0;36m(UserWarning)\u001b[0m\n",
      "\u001b[1;33m[WARNING]: \u001b[0m\u001b[0;39mTrying to register the cmap 'sauron' which already exists.\u001b[0m \u001b[0;36m(UserWarning)\u001b[0m\n",
      "\u001b[1;33m[WARNING]: \u001b[0m\u001b[0;39mTrying to register the cmap 'sauron_r' which already exists.\u001b[0m \u001b[0;36m(UserWarning)\u001b[0m\n"
     ]
    },
    {
     "name": "stdout",
     "output_type": "stream",
     "text": [
      "  Kin PA: 174.0  +/-   1.0  (3*sigma error)\n",
      "Velocity Offset: 0.00\n"
     ]
    },
    {
     "name": "stderr",
     "output_type": "stream",
     "text": [
      "\u001b[1;33m[WARNING]: \u001b[0m\u001b[0;39mTrying to register the cmap 'sauron' which already exists.\u001b[0m \u001b[0;36m(UserWarning)\u001b[0m\n",
      "\u001b[1;33m[WARNING]: \u001b[0m\u001b[0;39mTrying to register the cmap 'sauron_r' which already exists.\u001b[0m \u001b[0;36m(UserWarning)\u001b[0m\n",
      "\u001b[1;33m[WARNING]: \u001b[0m\u001b[0;39mTrying to register the cmap 'sauron' which already exists.\u001b[0m \u001b[0;36m(UserWarning)\u001b[0m\n",
      "\u001b[1;33m[WARNING]: \u001b[0m\u001b[0;39mTrying to register the cmap 'sauron_r' which already exists.\u001b[0m \u001b[0;36m(UserWarning)\u001b[0m\n"
     ]
    },
    {
     "name": "stdout",
     "output_type": "stream",
     "text": [
      "  Kin PA:  68.0  +/-   0.5  (3*sigma error)\n",
      "Velocity Offset: 0.00\n"
     ]
    },
    {
     "name": "stderr",
     "output_type": "stream",
     "text": [
      "\u001b[1;33m[WARNING]: \u001b[0m\u001b[0;39mTrying to register the cmap 'sauron' which already exists.\u001b[0m \u001b[0;36m(UserWarning)\u001b[0m\n",
      "\u001b[1;33m[WARNING]: \u001b[0m\u001b[0;39mTrying to register the cmap 'sauron_r' which already exists.\u001b[0m \u001b[0;36m(UserWarning)\u001b[0m\n",
      "\u001b[1;33m[WARNING]: \u001b[0m\u001b[0;39mTrying to register the cmap 'sauron' which already exists.\u001b[0m \u001b[0;36m(UserWarning)\u001b[0m\n",
      "\u001b[1;33m[WARNING]: \u001b[0m\u001b[0;39mTrying to register the cmap 'sauron_r' which already exists.\u001b[0m \u001b[0;36m(UserWarning)\u001b[0m\n"
     ]
    },
    {
     "name": "stdout",
     "output_type": "stream",
     "text": [
      "  Kin PA:  59.5  +/-   3.0  (3*sigma error)\n",
      "Velocity Offset: 0.00\n"
     ]
    },
    {
     "name": "stderr",
     "output_type": "stream",
     "text": [
      "\u001b[1;33m[WARNING]: \u001b[0m\u001b[0;39mTrying to register the cmap 'sauron' which already exists.\u001b[0m \u001b[0;36m(UserWarning)\u001b[0m\n",
      "\u001b[1;33m[WARNING]: \u001b[0m\u001b[0;39mTrying to register the cmap 'sauron_r' which already exists.\u001b[0m \u001b[0;36m(UserWarning)\u001b[0m\n",
      "\u001b[1;33m[WARNING]: \u001b[0m\u001b[0;39mTrying to register the cmap 'sauron' which already exists.\u001b[0m \u001b[0;36m(UserWarning)\u001b[0m\n",
      "\u001b[1;33m[WARNING]: \u001b[0m\u001b[0;39mTrying to register the cmap 'sauron_r' which already exists.\u001b[0m \u001b[0;36m(UserWarning)\u001b[0m\n"
     ]
    },
    {
     "name": "stdout",
     "output_type": "stream",
     "text": [
      "  Kin PA:  28.5  +/-   0.5  (3*sigma error)\n",
      "Velocity Offset: 0.00\n"
     ]
    },
    {
     "name": "stderr",
     "output_type": "stream",
     "text": [
      "\u001b[1;33m[WARNING]: \u001b[0m\u001b[0;39mTrying to register the cmap 'sauron' which already exists.\u001b[0m \u001b[0;36m(UserWarning)\u001b[0m\n",
      "\u001b[1;33m[WARNING]: \u001b[0m\u001b[0;39mTrying to register the cmap 'sauron_r' which already exists.\u001b[0m \u001b[0;36m(UserWarning)\u001b[0m\n",
      "\u001b[1;33m[WARNING]: \u001b[0m\u001b[0;39mTrying to register the cmap 'sauron' which already exists.\u001b[0m \u001b[0;36m(UserWarning)\u001b[0m\n",
      "\u001b[1;33m[WARNING]: \u001b[0m\u001b[0;39mTrying to register the cmap 'sauron_r' which already exists.\u001b[0m \u001b[0;36m(UserWarning)\u001b[0m\n"
     ]
    },
    {
     "name": "stdout",
     "output_type": "stream",
     "text": [
      "  Kin PA: 173.5  +/-   1.8  (3*sigma error)\n",
      "Velocity Offset: 0.00\n"
     ]
    },
    {
     "name": "stderr",
     "output_type": "stream",
     "text": [
      "\u001b[1;33m[WARNING]: \u001b[0m\u001b[0;39mTrying to register the cmap 'sauron' which already exists.\u001b[0m \u001b[0;36m(UserWarning)\u001b[0m\n",
      "\u001b[1;33m[WARNING]: \u001b[0m\u001b[0;39mTrying to register the cmap 'sauron_r' which already exists.\u001b[0m \u001b[0;36m(UserWarning)\u001b[0m\n",
      "\u001b[1;33m[WARNING]: \u001b[0m\u001b[0;39mTrying to register the cmap 'sauron' which already exists.\u001b[0m \u001b[0;36m(UserWarning)\u001b[0m\n",
      "\u001b[1;33m[WARNING]: \u001b[0m\u001b[0;39mTrying to register the cmap 'sauron_r' which already exists.\u001b[0m \u001b[0;36m(UserWarning)\u001b[0m\n"
     ]
    },
    {
     "name": "stdout",
     "output_type": "stream",
     "text": [
      "  Kin PA:  45.5  +/-   0.5  (3*sigma error)\n",
      "Velocity Offset: 0.00\n"
     ]
    },
    {
     "name": "stderr",
     "output_type": "stream",
     "text": [
      "\u001b[1;33m[WARNING]: \u001b[0m\u001b[0;39mTrying to register the cmap 'sauron' which already exists.\u001b[0m \u001b[0;36m(UserWarning)\u001b[0m\n",
      "\u001b[1;33m[WARNING]: \u001b[0m\u001b[0;39mTrying to register the cmap 'sauron_r' which already exists.\u001b[0m \u001b[0;36m(UserWarning)\u001b[0m\n",
      "\u001b[1;33m[WARNING]: \u001b[0m\u001b[0;39mTrying to register the cmap 'sauron' which already exists.\u001b[0m \u001b[0;36m(UserWarning)\u001b[0m\n",
      "\u001b[1;33m[WARNING]: \u001b[0m\u001b[0;39mTrying to register the cmap 'sauron_r' which already exists.\u001b[0m \u001b[0;36m(UserWarning)\u001b[0m\n"
     ]
    },
    {
     "name": "stdout",
     "output_type": "stream",
     "text": [
      "  Kin PA:  83.0  +/-  19.0  (3*sigma error)\n",
      "Velocity Offset: 0.00\n"
     ]
    },
    {
     "name": "stderr",
     "output_type": "stream",
     "text": [
      "\u001b[1;33m[WARNING]: \u001b[0m\u001b[0;39mTrying to register the cmap 'sauron' which already exists.\u001b[0m \u001b[0;36m(UserWarning)\u001b[0m\n",
      "\u001b[1;33m[WARNING]: \u001b[0m\u001b[0;39mTrying to register the cmap 'sauron_r' which already exists.\u001b[0m \u001b[0;36m(UserWarning)\u001b[0m\n",
      "\u001b[1;33m[WARNING]: \u001b[0m\u001b[0;39mTrying to register the cmap 'sauron' which already exists.\u001b[0m \u001b[0;36m(UserWarning)\u001b[0m\n",
      "\u001b[1;33m[WARNING]: \u001b[0m\u001b[0;39mTrying to register the cmap 'sauron_r' which already exists.\u001b[0m \u001b[0;36m(UserWarning)\u001b[0m\n"
     ]
    },
    {
     "name": "stdout",
     "output_type": "stream",
     "text": [
      "  Kin PA:   3.0  +/-   0.5  (3*sigma error)\n",
      "Velocity Offset: 0.00\n"
     ]
    },
    {
     "name": "stderr",
     "output_type": "stream",
     "text": [
      "\u001b[1;33m[WARNING]: \u001b[0m\u001b[0;39mTrying to register the cmap 'sauron' which already exists.\u001b[0m \u001b[0;36m(UserWarning)\u001b[0m\n",
      "\u001b[1;33m[WARNING]: \u001b[0m\u001b[0;39mTrying to register the cmap 'sauron_r' which already exists.\u001b[0m \u001b[0;36m(UserWarning)\u001b[0m\n",
      "\u001b[1;33m[WARNING]: \u001b[0m\u001b[0;39mTrying to register the cmap 'sauron' which already exists.\u001b[0m \u001b[0;36m(UserWarning)\u001b[0m\n",
      "\u001b[1;33m[WARNING]: \u001b[0m\u001b[0;39mTrying to register the cmap 'sauron_r' which already exists.\u001b[0m \u001b[0;36m(UserWarning)\u001b[0m\n"
     ]
    },
    {
     "name": "stdout",
     "output_type": "stream",
     "text": [
      "  Kin PA:   9.0  +/-   4.2  (3*sigma error)\n",
      "Velocity Offset: 0.00\n"
     ]
    },
    {
     "name": "stderr",
     "output_type": "stream",
     "text": [
      "\u001b[1;33m[WARNING]: \u001b[0m\u001b[0;39mTrying to register the cmap 'sauron' which already exists.\u001b[0m \u001b[0;36m(UserWarning)\u001b[0m\n",
      "\u001b[1;33m[WARNING]: \u001b[0m\u001b[0;39mTrying to register the cmap 'sauron_r' which already exists.\u001b[0m \u001b[0;36m(UserWarning)\u001b[0m\n",
      "\u001b[1;33m[WARNING]: \u001b[0m\u001b[0;39mTrying to register the cmap 'sauron' which already exists.\u001b[0m \u001b[0;36m(UserWarning)\u001b[0m\n",
      "\u001b[1;33m[WARNING]: \u001b[0m\u001b[0;39mTrying to register the cmap 'sauron_r' which already exists.\u001b[0m \u001b[0;36m(UserWarning)\u001b[0m\n"
     ]
    },
    {
     "name": "stdout",
     "output_type": "stream",
     "text": [
      "  Kin PA:  82.5  +/-   0.5  (3*sigma error)\n",
      "Velocity Offset: 0.00\n"
     ]
    },
    {
     "name": "stderr",
     "output_type": "stream",
     "text": [
      "\u001b[1;33m[WARNING]: \u001b[0m\u001b[0;39mTrying to register the cmap 'sauron' which already exists.\u001b[0m \u001b[0;36m(UserWarning)\u001b[0m\n",
      "\u001b[1;33m[WARNING]: \u001b[0m\u001b[0;39mTrying to register the cmap 'sauron_r' which already exists.\u001b[0m \u001b[0;36m(UserWarning)\u001b[0m\n",
      "\u001b[1;33m[WARNING]: \u001b[0m\u001b[0;39mTrying to register the cmap 'sauron' which already exists.\u001b[0m \u001b[0;36m(UserWarning)\u001b[0m\n",
      "\u001b[1;33m[WARNING]: \u001b[0m\u001b[0;39mTrying to register the cmap 'sauron_r' which already exists.\u001b[0m \u001b[0;36m(UserWarning)\u001b[0m\n"
     ]
    },
    {
     "name": "stdout",
     "output_type": "stream",
     "text": [
      "  Kin PA:  81.5  +/-   4.0  (3*sigma error)\n",
      "Velocity Offset: 0.00\n"
     ]
    },
    {
     "name": "stderr",
     "output_type": "stream",
     "text": [
      "\u001b[1;33m[WARNING]: \u001b[0m\u001b[0;39mTrying to register the cmap 'sauron' which already exists.\u001b[0m \u001b[0;36m(UserWarning)\u001b[0m\n",
      "\u001b[1;33m[WARNING]: \u001b[0m\u001b[0;39mTrying to register the cmap 'sauron_r' which already exists.\u001b[0m \u001b[0;36m(UserWarning)\u001b[0m\n",
      "\u001b[1;33m[WARNING]: \u001b[0m\u001b[0;39mTrying to register the cmap 'sauron' which already exists.\u001b[0m \u001b[0;36m(UserWarning)\u001b[0m\n",
      "\u001b[1;33m[WARNING]: \u001b[0m\u001b[0;39mTrying to register the cmap 'sauron_r' which already exists.\u001b[0m \u001b[0;36m(UserWarning)\u001b[0m\n"
     ]
    },
    {
     "name": "stdout",
     "output_type": "stream",
     "text": [
      "  Kin PA: 129.0  +/-   9.5  (3*sigma error)\n",
      "Velocity Offset: 0.00\n"
     ]
    },
    {
     "name": "stderr",
     "output_type": "stream",
     "text": [
      "\u001b[1;33m[WARNING]: \u001b[0m\u001b[0;39mTrying to register the cmap 'sauron' which already exists.\u001b[0m \u001b[0;36m(UserWarning)\u001b[0m\n",
      "\u001b[1;33m[WARNING]: \u001b[0m\u001b[0;39mTrying to register the cmap 'sauron_r' which already exists.\u001b[0m \u001b[0;36m(UserWarning)\u001b[0m\n",
      "\u001b[1;33m[WARNING]: \u001b[0m\u001b[0;39mTrying to register the cmap 'sauron' which already exists.\u001b[0m \u001b[0;36m(UserWarning)\u001b[0m\n",
      "\u001b[1;33m[WARNING]: \u001b[0m\u001b[0;39mTrying to register the cmap 'sauron_r' which already exists.\u001b[0m \u001b[0;36m(UserWarning)\u001b[0m\n"
     ]
    },
    {
     "name": "stdout",
     "output_type": "stream",
     "text": [
      "  Kin PA: 159.5  +/-   8.8  (3*sigma error)\n",
      "Velocity Offset: 0.00\n"
     ]
    },
    {
     "name": "stderr",
     "output_type": "stream",
     "text": [
      "\u001b[1;33m[WARNING]: \u001b[0m\u001b[0;39mTrying to register the cmap 'sauron' which already exists.\u001b[0m \u001b[0;36m(UserWarning)\u001b[0m\n",
      "\u001b[1;33m[WARNING]: \u001b[0m\u001b[0;39mTrying to register the cmap 'sauron_r' which already exists.\u001b[0m \u001b[0;36m(UserWarning)\u001b[0m\n",
      "\u001b[1;33m[WARNING]: \u001b[0m\u001b[0;39mTrying to register the cmap 'sauron' which already exists.\u001b[0m \u001b[0;36m(UserWarning)\u001b[0m\n",
      "\u001b[1;33m[WARNING]: \u001b[0m\u001b[0;39mTrying to register the cmap 'sauron_r' which already exists.\u001b[0m \u001b[0;36m(UserWarning)\u001b[0m\n"
     ]
    },
    {
     "name": "stdout",
     "output_type": "stream",
     "text": [
      "  Kin PA:  86.0  +/-   0.5  (3*sigma error)\n",
      "Velocity Offset: 0.00\n"
     ]
    },
    {
     "name": "stderr",
     "output_type": "stream",
     "text": [
      "\u001b[1;33m[WARNING]: \u001b[0m\u001b[0;39mTrying to register the cmap 'sauron' which already exists.\u001b[0m \u001b[0;36m(UserWarning)\u001b[0m\n",
      "\u001b[1;33m[WARNING]: \u001b[0m\u001b[0;39mTrying to register the cmap 'sauron_r' which already exists.\u001b[0m \u001b[0;36m(UserWarning)\u001b[0m\n",
      "\u001b[1;33m[WARNING]: \u001b[0m\u001b[0;39mTrying to register the cmap 'sauron' which already exists.\u001b[0m \u001b[0;36m(UserWarning)\u001b[0m\n",
      "\u001b[1;33m[WARNING]: \u001b[0m\u001b[0;39mTrying to register the cmap 'sauron_r' which already exists.\u001b[0m \u001b[0;36m(UserWarning)\u001b[0m\n"
     ]
    },
    {
     "name": "stdout",
     "output_type": "stream",
     "text": [
      "  Kin PA: 166.0  +/-   7.2  (3*sigma error)\n",
      "Velocity Offset: 0.00\n"
     ]
    },
    {
     "name": "stderr",
     "output_type": "stream",
     "text": [
      "\u001b[1;33m[WARNING]: \u001b[0m\u001b[0;39mTrying to register the cmap 'sauron' which already exists.\u001b[0m \u001b[0;36m(UserWarning)\u001b[0m\n",
      "\u001b[1;33m[WARNING]: \u001b[0m\u001b[0;39mTrying to register the cmap 'sauron_r' which already exists.\u001b[0m \u001b[0;36m(UserWarning)\u001b[0m\n",
      "\u001b[1;33m[WARNING]: \u001b[0m\u001b[0;39mTrying to register the cmap 'sauron' which already exists.\u001b[0m \u001b[0;36m(UserWarning)\u001b[0m\n",
      "\u001b[1;33m[WARNING]: \u001b[0m\u001b[0;39mTrying to register the cmap 'sauron_r' which already exists.\u001b[0m \u001b[0;36m(UserWarning)\u001b[0m\n"
     ]
    },
    {
     "name": "stdout",
     "output_type": "stream",
     "text": [
      "  Kin PA: 171.0  +/-   1.0  (3*sigma error)\n",
      "Velocity Offset: 0.00\n"
     ]
    },
    {
     "name": "stderr",
     "output_type": "stream",
     "text": [
      "\u001b[1;33m[WARNING]: \u001b[0m\u001b[0;39mTrying to register the cmap 'sauron' which already exists.\u001b[0m \u001b[0;36m(UserWarning)\u001b[0m\n",
      "\u001b[1;33m[WARNING]: \u001b[0m\u001b[0;39mTrying to register the cmap 'sauron_r' which already exists.\u001b[0m \u001b[0;36m(UserWarning)\u001b[0m\n",
      "\u001b[1;33m[WARNING]: \u001b[0m\u001b[0;39mTrying to register the cmap 'sauron' which already exists.\u001b[0m \u001b[0;36m(UserWarning)\u001b[0m\n",
      "\u001b[1;33m[WARNING]: \u001b[0m\u001b[0;39mTrying to register the cmap 'sauron_r' which already exists.\u001b[0m \u001b[0;36m(UserWarning)\u001b[0m\n"
     ]
    },
    {
     "name": "stdout",
     "output_type": "stream",
     "text": [
      "  Kin PA: 166.0  +/-   4.5  (3*sigma error)\n",
      "Velocity Offset: 0.00\n"
     ]
    },
    {
     "name": "stderr",
     "output_type": "stream",
     "text": [
      "\u001b[1;33m[WARNING]: \u001b[0m\u001b[0;39mTrying to register the cmap 'sauron' which already exists.\u001b[0m \u001b[0;36m(UserWarning)\u001b[0m\n",
      "\u001b[1;33m[WARNING]: \u001b[0m\u001b[0;39mTrying to register the cmap 'sauron_r' which already exists.\u001b[0m \u001b[0;36m(UserWarning)\u001b[0m\n",
      "\u001b[1;33m[WARNING]: \u001b[0m\u001b[0;39mTrying to register the cmap 'sauron' which already exists.\u001b[0m \u001b[0;36m(UserWarning)\u001b[0m\n",
      "\u001b[1;33m[WARNING]: \u001b[0m\u001b[0;39mTrying to register the cmap 'sauron_r' which already exists.\u001b[0m \u001b[0;36m(UserWarning)\u001b[0m\n"
     ]
    },
    {
     "name": "stdout",
     "output_type": "stream",
     "text": [
      "  Kin PA:   0.0  +/-   0.5  (3*sigma error)\n",
      "Velocity Offset: 0.00\n"
     ]
    },
    {
     "name": "stderr",
     "output_type": "stream",
     "text": [
      "\u001b[1;33m[WARNING]: \u001b[0m\u001b[0;39mTrying to register the cmap 'sauron' which already exists.\u001b[0m \u001b[0;36m(UserWarning)\u001b[0m\n",
      "\u001b[1;33m[WARNING]: \u001b[0m\u001b[0;39mTrying to register the cmap 'sauron_r' which already exists.\u001b[0m \u001b[0;36m(UserWarning)\u001b[0m\n",
      "\u001b[1;33m[WARNING]: \u001b[0m\u001b[0;39mTrying to register the cmap 'sauron' which already exists.\u001b[0m \u001b[0;36m(UserWarning)\u001b[0m\n",
      "\u001b[1;33m[WARNING]: \u001b[0m\u001b[0;39mTrying to register the cmap 'sauron_r' which already exists.\u001b[0m \u001b[0;36m(UserWarning)\u001b[0m\n"
     ]
    },
    {
     "name": "stdout",
     "output_type": "stream",
     "text": [
      "  Kin PA: 116.0  +/-  43.5  (3*sigma error)\n",
      "Velocity Offset: 0.00\n"
     ]
    },
    {
     "name": "stderr",
     "output_type": "stream",
     "text": [
      "\u001b[1;33m[WARNING]: \u001b[0m\u001b[0;39mTrying to register the cmap 'sauron' which already exists.\u001b[0m \u001b[0;36m(UserWarning)\u001b[0m\n",
      "\u001b[1;33m[WARNING]: \u001b[0m\u001b[0;39mTrying to register the cmap 'sauron_r' which already exists.\u001b[0m \u001b[0;36m(UserWarning)\u001b[0m\n",
      "\u001b[1;33m[WARNING]: \u001b[0m\u001b[0;39mTrying to register the cmap 'sauron' which already exists.\u001b[0m \u001b[0;36m(UserWarning)\u001b[0m\n",
      "\u001b[1;33m[WARNING]: \u001b[0m\u001b[0;39mTrying to register the cmap 'sauron_r' which already exists.\u001b[0m \u001b[0;36m(UserWarning)\u001b[0m\n"
     ]
    },
    {
     "name": "stdout",
     "output_type": "stream",
     "text": [
      "  Kin PA:  16.0  +/-   0.5  (3*sigma error)\n",
      "Velocity Offset: 0.00\n"
     ]
    },
    {
     "name": "stderr",
     "output_type": "stream",
     "text": [
      "\u001b[1;33m[WARNING]: \u001b[0m\u001b[0;39mTrying to register the cmap 'sauron' which already exists.\u001b[0m \u001b[0;36m(UserWarning)\u001b[0m\n",
      "\u001b[1;33m[WARNING]: \u001b[0m\u001b[0;39mTrying to register the cmap 'sauron_r' which already exists.\u001b[0m \u001b[0;36m(UserWarning)\u001b[0m\n",
      "\u001b[1;33m[WARNING]: \u001b[0m\u001b[0;39mTrying to register the cmap 'sauron' which already exists.\u001b[0m \u001b[0;36m(UserWarning)\u001b[0m\n",
      "\u001b[1;33m[WARNING]: \u001b[0m\u001b[0;39mTrying to register the cmap 'sauron_r' which already exists.\u001b[0m \u001b[0;36m(UserWarning)\u001b[0m\n"
     ]
    },
    {
     "name": "stdout",
     "output_type": "stream",
     "text": [
      "  Kin PA: 113.0  +/-   7.2  (3*sigma error)\n",
      "Velocity Offset: 0.00\n"
     ]
    },
    {
     "name": "stderr",
     "output_type": "stream",
     "text": [
      "\u001b[1;33m[WARNING]: \u001b[0m\u001b[0;39mTrying to register the cmap 'sauron' which already exists.\u001b[0m \u001b[0;36m(UserWarning)\u001b[0m\n",
      "\u001b[1;33m[WARNING]: \u001b[0m\u001b[0;39mTrying to register the cmap 'sauron_r' which already exists.\u001b[0m \u001b[0;36m(UserWarning)\u001b[0m\n",
      "\u001b[1;33m[WARNING]: \u001b[0m\u001b[0;39mTrying to register the cmap 'sauron' which already exists.\u001b[0m \u001b[0;36m(UserWarning)\u001b[0m\n",
      "\u001b[1;33m[WARNING]: \u001b[0m\u001b[0;39mTrying to register the cmap 'sauron_r' which already exists.\u001b[0m \u001b[0;36m(UserWarning)\u001b[0m\n"
     ]
    },
    {
     "name": "stdout",
     "output_type": "stream",
     "text": [
      "  Kin PA:  78.5  +/-   0.5  (3*sigma error)\n",
      "Velocity Offset: 0.00\n"
     ]
    },
    {
     "name": "stderr",
     "output_type": "stream",
     "text": [
      "\u001b[1;33m[WARNING]: \u001b[0m\u001b[0;39mTrying to register the cmap 'sauron' which already exists.\u001b[0m \u001b[0;36m(UserWarning)\u001b[0m\n",
      "\u001b[1;33m[WARNING]: \u001b[0m\u001b[0;39mTrying to register the cmap 'sauron_r' which already exists.\u001b[0m \u001b[0;36m(UserWarning)\u001b[0m\n",
      "\u001b[1;33m[WARNING]: \u001b[0m\u001b[0;39mTrying to register the cmap 'sauron' which already exists.\u001b[0m \u001b[0;36m(UserWarning)\u001b[0m\n",
      "\u001b[1;33m[WARNING]: \u001b[0m\u001b[0;39mTrying to register the cmap 'sauron_r' which already exists.\u001b[0m \u001b[0;36m(UserWarning)\u001b[0m\n"
     ]
    },
    {
     "name": "stdout",
     "output_type": "stream",
     "text": [
      "  Kin PA:  38.0  +/-   5.8  (3*sigma error)\n",
      "Velocity Offset: 0.00\n"
     ]
    },
    {
     "name": "stderr",
     "output_type": "stream",
     "text": [
      "\u001b[1;33m[WARNING]: \u001b[0m\u001b[0;39mTrying to register the cmap 'sauron' which already exists.\u001b[0m \u001b[0;36m(UserWarning)\u001b[0m\n",
      "\u001b[1;33m[WARNING]: \u001b[0m\u001b[0;39mTrying to register the cmap 'sauron_r' which already exists.\u001b[0m \u001b[0;36m(UserWarning)\u001b[0m\n",
      "\u001b[1;33m[WARNING]: \u001b[0m\u001b[0;39mTrying to register the cmap 'sauron' which already exists.\u001b[0m \u001b[0;36m(UserWarning)\u001b[0m\n",
      "\u001b[1;33m[WARNING]: \u001b[0m\u001b[0;39mTrying to register the cmap 'sauron_r' which already exists.\u001b[0m \u001b[0;36m(UserWarning)\u001b[0m\n"
     ]
    },
    {
     "name": "stdout",
     "output_type": "stream",
     "text": [
      "  Kin PA:   5.0  +/-   0.5  (3*sigma error)\n",
      "Velocity Offset: 0.00\n"
     ]
    },
    {
     "name": "stderr",
     "output_type": "stream",
     "text": [
      "\u001b[1;33m[WARNING]: \u001b[0m\u001b[0;39mTrying to register the cmap 'sauron' which already exists.\u001b[0m \u001b[0;36m(UserWarning)\u001b[0m\n",
      "\u001b[1;33m[WARNING]: \u001b[0m\u001b[0;39mTrying to register the cmap 'sauron_r' which already exists.\u001b[0m \u001b[0;36m(UserWarning)\u001b[0m\n",
      "\u001b[1;33m[WARNING]: \u001b[0m\u001b[0;39mTrying to register the cmap 'sauron' which already exists.\u001b[0m \u001b[0;36m(UserWarning)\u001b[0m\n",
      "\u001b[1;33m[WARNING]: \u001b[0m\u001b[0;39mTrying to register the cmap 'sauron_r' which already exists.\u001b[0m \u001b[0;36m(UserWarning)\u001b[0m\n"
     ]
    },
    {
     "name": "stdout",
     "output_type": "stream",
     "text": [
      "  Kin PA:  27.5  +/-  25.0  (3*sigma error)\n",
      "Velocity Offset: 0.00\n"
     ]
    },
    {
     "name": "stderr",
     "output_type": "stream",
     "text": [
      "\u001b[1;33m[WARNING]: \u001b[0m\u001b[0;39mTrying to register the cmap 'sauron' which already exists.\u001b[0m \u001b[0;36m(UserWarning)\u001b[0m\n",
      "\u001b[1;33m[WARNING]: \u001b[0m\u001b[0;39mTrying to register the cmap 'sauron_r' which already exists.\u001b[0m \u001b[0;36m(UserWarning)\u001b[0m\n",
      "\u001b[1;33m[WARNING]: \u001b[0m\u001b[0;39mTrying to register the cmap 'sauron' which already exists.\u001b[0m \u001b[0;36m(UserWarning)\u001b[0m\n",
      "\u001b[1;33m[WARNING]: \u001b[0m\u001b[0;39mTrying to register the cmap 'sauron_r' which already exists.\u001b[0m \u001b[0;36m(UserWarning)\u001b[0m\n"
     ]
    },
    {
     "name": "stdout",
     "output_type": "stream",
     "text": [
      "  Kin PA:  94.0  +/-   1.5  (3*sigma error)\n",
      "Velocity Offset: 0.00\n"
     ]
    },
    {
     "name": "stderr",
     "output_type": "stream",
     "text": [
      "\u001b[1;33m[WARNING]: \u001b[0m\u001b[0;39mTrying to register the cmap 'sauron' which already exists.\u001b[0m \u001b[0;36m(UserWarning)\u001b[0m\n",
      "\u001b[1;33m[WARNING]: \u001b[0m\u001b[0;39mTrying to register the cmap 'sauron_r' which already exists.\u001b[0m \u001b[0;36m(UserWarning)\u001b[0m\n",
      "\u001b[1;33m[WARNING]: \u001b[0m\u001b[0;39mTrying to register the cmap 'sauron' which already exists.\u001b[0m \u001b[0;36m(UserWarning)\u001b[0m\n",
      "\u001b[1;33m[WARNING]: \u001b[0m\u001b[0;39mTrying to register the cmap 'sauron_r' which already exists.\u001b[0m \u001b[0;36m(UserWarning)\u001b[0m\n"
     ]
    },
    {
     "name": "stdout",
     "output_type": "stream",
     "text": [
      "  Kin PA: 103.5  +/-  11.0  (3*sigma error)\n",
      "Velocity Offset: 0.00\n"
     ]
    },
    {
     "name": "stderr",
     "output_type": "stream",
     "text": [
      "\u001b[1;33m[WARNING]: \u001b[0m\u001b[0;39mTrying to register the cmap 'sauron' which already exists.\u001b[0m \u001b[0;36m(UserWarning)\u001b[0m\n",
      "\u001b[1;33m[WARNING]: \u001b[0m\u001b[0;39mTrying to register the cmap 'sauron_r' which already exists.\u001b[0m \u001b[0;36m(UserWarning)\u001b[0m\n",
      "\u001b[1;33m[WARNING]: \u001b[0m\u001b[0;39mTrying to register the cmap 'sauron' which already exists.\u001b[0m \u001b[0;36m(UserWarning)\u001b[0m\n",
      "\u001b[1;33m[WARNING]: \u001b[0m\u001b[0;39mTrying to register the cmap 'sauron_r' which already exists.\u001b[0m \u001b[0;36m(UserWarning)\u001b[0m\n"
     ]
    },
    {
     "name": "stdout",
     "output_type": "stream",
     "text": [
      "  Kin PA:  72.0  +/-   0.5  (3*sigma error)\n",
      "Velocity Offset: 0.00\n"
     ]
    },
    {
     "name": "stderr",
     "output_type": "stream",
     "text": [
      "\u001b[1;33m[WARNING]: \u001b[0m\u001b[0;39mTrying to register the cmap 'sauron' which already exists.\u001b[0m \u001b[0;36m(UserWarning)\u001b[0m\n",
      "\u001b[1;33m[WARNING]: \u001b[0m\u001b[0;39mTrying to register the cmap 'sauron_r' which already exists.\u001b[0m \u001b[0;36m(UserWarning)\u001b[0m\n",
      "\u001b[1;33m[WARNING]: \u001b[0m\u001b[0;39mTrying to register the cmap 'sauron' which already exists.\u001b[0m \u001b[0;36m(UserWarning)\u001b[0m\n",
      "\u001b[1;33m[WARNING]: \u001b[0m\u001b[0;39mTrying to register the cmap 'sauron_r' which already exists.\u001b[0m \u001b[0;36m(UserWarning)\u001b[0m\n"
     ]
    },
    {
     "name": "stdout",
     "output_type": "stream",
     "text": [
      "  Kin PA:  28.0  +/-  14.2  (3*sigma error)\n",
      "Velocity Offset: 0.00\n"
     ]
    },
    {
     "name": "stderr",
     "output_type": "stream",
     "text": [
      "\u001b[1;33m[WARNING]: \u001b[0m\u001b[0;39mTrying to register the cmap 'sauron' which already exists.\u001b[0m \u001b[0;36m(UserWarning)\u001b[0m\n",
      "\u001b[1;33m[WARNING]: \u001b[0m\u001b[0;39mTrying to register the cmap 'sauron_r' which already exists.\u001b[0m \u001b[0;36m(UserWarning)\u001b[0m\n",
      "\u001b[1;33m[WARNING]: \u001b[0m\u001b[0;39mTrying to register the cmap 'sauron' which already exists.\u001b[0m \u001b[0;36m(UserWarning)\u001b[0m\n",
      "\u001b[1;33m[WARNING]: \u001b[0m\u001b[0;39mTrying to register the cmap 'sauron_r' which already exists.\u001b[0m \u001b[0;36m(UserWarning)\u001b[0m\n"
     ]
    },
    {
     "name": "stdout",
     "output_type": "stream",
     "text": [
      "  Kin PA: 100.5  +/-   2.0  (3*sigma error)\n",
      "Velocity Offset: 0.00\n"
     ]
    },
    {
     "name": "stderr",
     "output_type": "stream",
     "text": [
      "\u001b[1;33m[WARNING]: \u001b[0m\u001b[0;39mTrying to register the cmap 'sauron' which already exists.\u001b[0m \u001b[0;36m(UserWarning)\u001b[0m\n",
      "\u001b[1;33m[WARNING]: \u001b[0m\u001b[0;39mTrying to register the cmap 'sauron_r' which already exists.\u001b[0m \u001b[0;36m(UserWarning)\u001b[0m\n",
      "\u001b[1;33m[WARNING]: \u001b[0m\u001b[0;39mTrying to register the cmap 'sauron' which already exists.\u001b[0m \u001b[0;36m(UserWarning)\u001b[0m\n",
      "\u001b[1;33m[WARNING]: \u001b[0m\u001b[0;39mTrying to register the cmap 'sauron_r' which already exists.\u001b[0m \u001b[0;36m(UserWarning)\u001b[0m\n"
     ]
    },
    {
     "name": "stdout",
     "output_type": "stream",
     "text": [
      "  Kin PA: 100.0  +/-   4.5  (3*sigma error)\n",
      "Velocity Offset: 0.00\n"
     ]
    },
    {
     "name": "stderr",
     "output_type": "stream",
     "text": [
      "\u001b[1;33m[WARNING]: \u001b[0m\u001b[0;39mTrying to register the cmap 'sauron' which already exists.\u001b[0m \u001b[0;36m(UserWarning)\u001b[0m\n",
      "\u001b[1;33m[WARNING]: \u001b[0m\u001b[0;39mTrying to register the cmap 'sauron_r' which already exists.\u001b[0m \u001b[0;36m(UserWarning)\u001b[0m\n",
      "\u001b[1;33m[WARNING]: \u001b[0m\u001b[0;39mTrying to register the cmap 'sauron' which already exists.\u001b[0m \u001b[0;36m(UserWarning)\u001b[0m\n",
      "\u001b[1;33m[WARNING]: \u001b[0m\u001b[0;39mTrying to register the cmap 'sauron_r' which already exists.\u001b[0m \u001b[0;36m(UserWarning)\u001b[0m\n"
     ]
    },
    {
     "name": "stdout",
     "output_type": "stream",
     "text": [
      "  Kin PA: 143.5  +/-   0.5  (3*sigma error)\n",
      "Velocity Offset: 0.00\n"
     ]
    },
    {
     "name": "stderr",
     "output_type": "stream",
     "text": [
      "\u001b[1;33m[WARNING]: \u001b[0m\u001b[0;39mTrying to register the cmap 'sauron' which already exists.\u001b[0m \u001b[0;36m(UserWarning)\u001b[0m\n",
      "\u001b[1;33m[WARNING]: \u001b[0m\u001b[0;39mTrying to register the cmap 'sauron_r' which already exists.\u001b[0m \u001b[0;36m(UserWarning)\u001b[0m\n",
      "\u001b[1;33m[WARNING]: \u001b[0m\u001b[0;39mTrying to register the cmap 'sauron' which already exists.\u001b[0m \u001b[0;36m(UserWarning)\u001b[0m\n",
      "\u001b[1;33m[WARNING]: \u001b[0m\u001b[0;39mTrying to register the cmap 'sauron_r' which already exists.\u001b[0m \u001b[0;36m(UserWarning)\u001b[0m\n"
     ]
    },
    {
     "name": "stdout",
     "output_type": "stream",
     "text": [
      "  Kin PA: 168.0  +/-   2.2  (3*sigma error)\n",
      "Velocity Offset: 0.00\n"
     ]
    },
    {
     "name": "stderr",
     "output_type": "stream",
     "text": [
      "\u001b[1;33m[WARNING]: \u001b[0m\u001b[0;39mTrying to register the cmap 'sauron' which already exists.\u001b[0m \u001b[0;36m(UserWarning)\u001b[0m\n",
      "\u001b[1;33m[WARNING]: \u001b[0m\u001b[0;39mTrying to register the cmap 'sauron_r' which already exists.\u001b[0m \u001b[0;36m(UserWarning)\u001b[0m\n",
      "\u001b[1;33m[WARNING]: \u001b[0m\u001b[0;39mTrying to register the cmap 'sauron' which already exists.\u001b[0m \u001b[0;36m(UserWarning)\u001b[0m\n",
      "\u001b[1;33m[WARNING]: \u001b[0m\u001b[0;39mTrying to register the cmap 'sauron_r' which already exists.\u001b[0m \u001b[0;36m(UserWarning)\u001b[0m\n"
     ]
    },
    {
     "name": "stdout",
     "output_type": "stream",
     "text": [
      "  Kin PA: 135.0  +/-   0.5  (3*sigma error)\n",
      "Velocity Offset: 0.00\n"
     ]
    },
    {
     "name": "stderr",
     "output_type": "stream",
     "text": [
      "\u001b[1;33m[WARNING]: \u001b[0m\u001b[0;39mTrying to register the cmap 'sauron' which already exists.\u001b[0m \u001b[0;36m(UserWarning)\u001b[0m\n",
      "\u001b[1;33m[WARNING]: \u001b[0m\u001b[0;39mTrying to register the cmap 'sauron_r' which already exists.\u001b[0m \u001b[0;36m(UserWarning)\u001b[0m\n",
      "\u001b[1;33m[WARNING]: \u001b[0m\u001b[0;39mTrying to register the cmap 'sauron' which already exists.\u001b[0m \u001b[0;36m(UserWarning)\u001b[0m\n",
      "\u001b[1;33m[WARNING]: \u001b[0m\u001b[0;39mTrying to register the cmap 'sauron_r' which already exists.\u001b[0m \u001b[0;36m(UserWarning)\u001b[0m\n"
     ]
    },
    {
     "name": "stdout",
     "output_type": "stream",
     "text": [
      "  Kin PA: 149.0  +/-  44.2  (3*sigma error)\n",
      "Velocity Offset: 0.00\n"
     ]
    },
    {
     "name": "stderr",
     "output_type": "stream",
     "text": [
      "\u001b[1;33m[WARNING]: \u001b[0m\u001b[0;39mTrying to register the cmap 'sauron' which already exists.\u001b[0m \u001b[0;36m(UserWarning)\u001b[0m\n",
      "\u001b[1;33m[WARNING]: \u001b[0m\u001b[0;39mTrying to register the cmap 'sauron_r' which already exists.\u001b[0m \u001b[0;36m(UserWarning)\u001b[0m\n",
      "\u001b[1;33m[WARNING]: \u001b[0m\u001b[0;39mTrying to register the cmap 'sauron' which already exists.\u001b[0m \u001b[0;36m(UserWarning)\u001b[0m\n",
      "\u001b[1;33m[WARNING]: \u001b[0m\u001b[0;39mTrying to register the cmap 'sauron_r' which already exists.\u001b[0m \u001b[0;36m(UserWarning)\u001b[0m\n"
     ]
    },
    {
     "name": "stdout",
     "output_type": "stream",
     "text": [
      "  Kin PA:  91.0  +/-   0.5  (3*sigma error)\n",
      "Velocity Offset: 0.00\n"
     ]
    },
    {
     "name": "stderr",
     "output_type": "stream",
     "text": [
      "\u001b[1;33m[WARNING]: \u001b[0m\u001b[0;39mTrying to register the cmap 'sauron' which already exists.\u001b[0m \u001b[0;36m(UserWarning)\u001b[0m\n",
      "\u001b[1;33m[WARNING]: \u001b[0m\u001b[0;39mTrying to register the cmap 'sauron_r' which already exists.\u001b[0m \u001b[0;36m(UserWarning)\u001b[0m\n",
      "\u001b[1;33m[WARNING]: \u001b[0m\u001b[0;39mTrying to register the cmap 'sauron' which already exists.\u001b[0m \u001b[0;36m(UserWarning)\u001b[0m\n",
      "\u001b[1;33m[WARNING]: \u001b[0m\u001b[0;39mTrying to register the cmap 'sauron_r' which already exists.\u001b[0m \u001b[0;36m(UserWarning)\u001b[0m\n"
     ]
    },
    {
     "name": "stdout",
     "output_type": "stream",
     "text": [
      "  Kin PA:  69.5  +/-  16.5  (3*sigma error)\n",
      "Velocity Offset: 0.00\n"
     ]
    },
    {
     "name": "stderr",
     "output_type": "stream",
     "text": [
      "\u001b[1;33m[WARNING]: \u001b[0m\u001b[0;39mTrying to register the cmap 'sauron' which already exists.\u001b[0m \u001b[0;36m(UserWarning)\u001b[0m\n",
      "\u001b[1;33m[WARNING]: \u001b[0m\u001b[0;39mTrying to register the cmap 'sauron_r' which already exists.\u001b[0m \u001b[0;36m(UserWarning)\u001b[0m\n",
      "\u001b[1;33m[WARNING]: \u001b[0m\u001b[0;39mTrying to register the cmap 'sauron' which already exists.\u001b[0m \u001b[0;36m(UserWarning)\u001b[0m\n",
      "\u001b[1;33m[WARNING]: \u001b[0m\u001b[0;39mTrying to register the cmap 'sauron_r' which already exists.\u001b[0m \u001b[0;36m(UserWarning)\u001b[0m\n"
     ]
    },
    {
     "name": "stdout",
     "output_type": "stream",
     "text": [
      "  Kin PA:  34.0  +/-   0.5  (3*sigma error)\n",
      "Velocity Offset: 0.00\n"
     ]
    },
    {
     "name": "stderr",
     "output_type": "stream",
     "text": [
      "\u001b[1;33m[WARNING]: \u001b[0m\u001b[0;39mTrying to register the cmap 'sauron' which already exists.\u001b[0m \u001b[0;36m(UserWarning)\u001b[0m\n",
      "\u001b[1;33m[WARNING]: \u001b[0m\u001b[0;39mTrying to register the cmap 'sauron_r' which already exists.\u001b[0m \u001b[0;36m(UserWarning)\u001b[0m\n",
      "\u001b[1;33m[WARNING]: \u001b[0m\u001b[0;39mTrying to register the cmap 'sauron' which already exists.\u001b[0m \u001b[0;36m(UserWarning)\u001b[0m\n",
      "\u001b[1;33m[WARNING]: \u001b[0m\u001b[0;39mTrying to register the cmap 'sauron_r' which already exists.\u001b[0m \u001b[0;36m(UserWarning)\u001b[0m\n"
     ]
    },
    {
     "name": "stdout",
     "output_type": "stream",
     "text": [
      "  Kin PA:  96.5  +/-  25.5  (3*sigma error)\n",
      "Velocity Offset: 0.00\n"
     ]
    },
    {
     "name": "stderr",
     "output_type": "stream",
     "text": [
      "\u001b[1;33m[WARNING]: \u001b[0m\u001b[0;39mTrying to register the cmap 'sauron' which already exists.\u001b[0m \u001b[0;36m(UserWarning)\u001b[0m\n",
      "\u001b[1;33m[WARNING]: \u001b[0m\u001b[0;39mTrying to register the cmap 'sauron_r' which already exists.\u001b[0m \u001b[0;36m(UserWarning)\u001b[0m\n",
      "\u001b[1;33m[WARNING]: \u001b[0m\u001b[0;39mTrying to register the cmap 'sauron' which already exists.\u001b[0m \u001b[0;36m(UserWarning)\u001b[0m\n",
      "\u001b[1;33m[WARNING]: \u001b[0m\u001b[0;39mTrying to register the cmap 'sauron_r' which already exists.\u001b[0m \u001b[0;36m(UserWarning)\u001b[0m\n"
     ]
    },
    {
     "name": "stdout",
     "output_type": "stream",
     "text": [
      "  Kin PA:  93.5  +/-   0.5  (3*sigma error)\n",
      "Velocity Offset: 0.00\n"
     ]
    },
    {
     "name": "stderr",
     "output_type": "stream",
     "text": [
      "\u001b[1;33m[WARNING]: \u001b[0m\u001b[0;39mTrying to register the cmap 'sauron' which already exists.\u001b[0m \u001b[0;36m(UserWarning)\u001b[0m\n",
      "\u001b[1;33m[WARNING]: \u001b[0m\u001b[0;39mTrying to register the cmap 'sauron_r' which already exists.\u001b[0m \u001b[0;36m(UserWarning)\u001b[0m\n",
      "\u001b[1;33m[WARNING]: \u001b[0m\u001b[0;39mTrying to register the cmap 'sauron' which already exists.\u001b[0m \u001b[0;36m(UserWarning)\u001b[0m\n",
      "\u001b[1;33m[WARNING]: \u001b[0m\u001b[0;39mTrying to register the cmap 'sauron_r' which already exists.\u001b[0m \u001b[0;36m(UserWarning)\u001b[0m\n"
     ]
    },
    {
     "name": "stdout",
     "output_type": "stream",
     "text": [
      "  Kin PA:  84.0  +/-  17.2  (3*sigma error)\n",
      "Velocity Offset: 0.00\n"
     ]
    },
    {
     "name": "stderr",
     "output_type": "stream",
     "text": [
      "\u001b[1;33m[WARNING]: \u001b[0m\u001b[0;39mTrying to register the cmap 'sauron' which already exists.\u001b[0m \u001b[0;36m(UserWarning)\u001b[0m\n",
      "\u001b[1;33m[WARNING]: \u001b[0m\u001b[0;39mTrying to register the cmap 'sauron_r' which already exists.\u001b[0m \u001b[0;36m(UserWarning)\u001b[0m\n",
      "\u001b[1;33m[WARNING]: \u001b[0m\u001b[0;39mTrying to register the cmap 'sauron' which already exists.\u001b[0m \u001b[0;36m(UserWarning)\u001b[0m\n",
      "\u001b[1;33m[WARNING]: \u001b[0m\u001b[0;39mTrying to register the cmap 'sauron_r' which already exists.\u001b[0m \u001b[0;36m(UserWarning)\u001b[0m\n"
     ]
    },
    {
     "name": "stdout",
     "output_type": "stream",
     "text": [
      "  Kin PA:   1.0  +/-   0.5  (3*sigma error)\n",
      "Velocity Offset: 0.00\n"
     ]
    },
    {
     "name": "stderr",
     "output_type": "stream",
     "text": [
      "\u001b[1;33m[WARNING]: \u001b[0m\u001b[0;39mTrying to register the cmap 'sauron' which already exists.\u001b[0m \u001b[0;36m(UserWarning)\u001b[0m\n",
      "\u001b[1;33m[WARNING]: \u001b[0m\u001b[0;39mTrying to register the cmap 'sauron_r' which already exists.\u001b[0m \u001b[0;36m(UserWarning)\u001b[0m\n",
      "\u001b[1;33m[WARNING]: \u001b[0m\u001b[0;39mTrying to register the cmap 'sauron' which already exists.\u001b[0m \u001b[0;36m(UserWarning)\u001b[0m\n",
      "\u001b[1;33m[WARNING]: \u001b[0m\u001b[0;39mTrying to register the cmap 'sauron_r' which already exists.\u001b[0m \u001b[0;36m(UserWarning)\u001b[0m\n"
     ]
    },
    {
     "name": "stdout",
     "output_type": "stream",
     "text": [
      "  Kin PA:   7.5  +/-   1.0  (3*sigma error)\n",
      "Velocity Offset: 0.00\n"
     ]
    },
    {
     "name": "stderr",
     "output_type": "stream",
     "text": [
      "\u001b[1;33m[WARNING]: \u001b[0m\u001b[0;39mTrying to register the cmap 'sauron' which already exists.\u001b[0m \u001b[0;36m(UserWarning)\u001b[0m\n",
      "\u001b[1;33m[WARNING]: \u001b[0m\u001b[0;39mTrying to register the cmap 'sauron_r' which already exists.\u001b[0m \u001b[0;36m(UserWarning)\u001b[0m\n",
      "\u001b[1;33m[WARNING]: \u001b[0m\u001b[0;39mTrying to register the cmap 'sauron' which already exists.\u001b[0m \u001b[0;36m(UserWarning)\u001b[0m\n",
      "\u001b[1;33m[WARNING]: \u001b[0m\u001b[0;39mTrying to register the cmap 'sauron_r' which already exists.\u001b[0m \u001b[0;36m(UserWarning)\u001b[0m\n"
     ]
    },
    {
     "name": "stdout",
     "output_type": "stream",
     "text": [
      "  Kin PA:   8.5  +/-   0.5  (3*sigma error)\n",
      "Velocity Offset: 0.00\n"
     ]
    },
    {
     "name": "stderr",
     "output_type": "stream",
     "text": [
      "\u001b[1;33m[WARNING]: \u001b[0m\u001b[0;39mTrying to register the cmap 'sauron' which already exists.\u001b[0m \u001b[0;36m(UserWarning)\u001b[0m\n",
      "\u001b[1;33m[WARNING]: \u001b[0m\u001b[0;39mTrying to register the cmap 'sauron_r' which already exists.\u001b[0m \u001b[0;36m(UserWarning)\u001b[0m\n",
      "\u001b[1;33m[WARNING]: \u001b[0m\u001b[0;39mTrying to register the cmap 'sauron' which already exists.\u001b[0m \u001b[0;36m(UserWarning)\u001b[0m\n",
      "\u001b[1;33m[WARNING]: \u001b[0m\u001b[0;39mTrying to register the cmap 'sauron_r' which already exists.\u001b[0m \u001b[0;36m(UserWarning)\u001b[0m\n"
     ]
    },
    {
     "name": "stdout",
     "output_type": "stream",
     "text": [
      "  Kin PA:  15.0  +/-   7.0  (3*sigma error)\n",
      "Velocity Offset: 0.00\n"
     ]
    },
    {
     "name": "stderr",
     "output_type": "stream",
     "text": [
      "\u001b[1;33m[WARNING]: \u001b[0m\u001b[0;39mTrying to register the cmap 'sauron' which already exists.\u001b[0m \u001b[0;36m(UserWarning)\u001b[0m\n",
      "\u001b[1;33m[WARNING]: \u001b[0m\u001b[0;39mTrying to register the cmap 'sauron_r' which already exists.\u001b[0m \u001b[0;36m(UserWarning)\u001b[0m\n",
      "\u001b[1;33m[WARNING]: \u001b[0m\u001b[0;39mTrying to register the cmap 'sauron' which already exists.\u001b[0m \u001b[0;36m(UserWarning)\u001b[0m\n",
      "\u001b[1;33m[WARNING]: \u001b[0m\u001b[0;39mTrying to register the cmap 'sauron_r' which already exists.\u001b[0m \u001b[0;36m(UserWarning)\u001b[0m\n"
     ]
    },
    {
     "name": "stdout",
     "output_type": "stream",
     "text": [
      "  Kin PA: 165.5  +/-   0.5  (3*sigma error)\n",
      "Velocity Offset: 0.00\n"
     ]
    },
    {
     "name": "stderr",
     "output_type": "stream",
     "text": [
      "\u001b[1;33m[WARNING]: \u001b[0m\u001b[0;39mTrying to register the cmap 'sauron' which already exists.\u001b[0m \u001b[0;36m(UserWarning)\u001b[0m\n",
      "\u001b[1;33m[WARNING]: \u001b[0m\u001b[0;39mTrying to register the cmap 'sauron_r' which already exists.\u001b[0m \u001b[0;36m(UserWarning)\u001b[0m\n",
      "\u001b[1;33m[WARNING]: \u001b[0m\u001b[0;39mTrying to register the cmap 'sauron' which already exists.\u001b[0m \u001b[0;36m(UserWarning)\u001b[0m\n",
      "\u001b[1;33m[WARNING]: \u001b[0m\u001b[0;39mTrying to register the cmap 'sauron_r' which already exists.\u001b[0m \u001b[0;36m(UserWarning)\u001b[0m\n"
     ]
    },
    {
     "name": "stdout",
     "output_type": "stream",
     "text": [
      "  Kin PA:  14.5  +/-   3.2  (3*sigma error)\n",
      "Velocity Offset: 0.00\n"
     ]
    },
    {
     "name": "stderr",
     "output_type": "stream",
     "text": [
      "\u001b[1;33m[WARNING]: \u001b[0m\u001b[0;39mTrying to register the cmap 'sauron' which already exists.\u001b[0m \u001b[0;36m(UserWarning)\u001b[0m\n",
      "\u001b[1;33m[WARNING]: \u001b[0m\u001b[0;39mTrying to register the cmap 'sauron_r' which already exists.\u001b[0m \u001b[0;36m(UserWarning)\u001b[0m\n",
      "\u001b[1;33m[WARNING]: \u001b[0m\u001b[0;39mTrying to register the cmap 'sauron' which already exists.\u001b[0m \u001b[0;36m(UserWarning)\u001b[0m\n",
      "\u001b[1;33m[WARNING]: \u001b[0m\u001b[0;39mTrying to register the cmap 'sauron_r' which already exists.\u001b[0m \u001b[0;36m(UserWarning)\u001b[0m\n"
     ]
    },
    {
     "name": "stdout",
     "output_type": "stream",
     "text": [
      "  Kin PA:  63.5  +/-   0.5  (3*sigma error)\n",
      "Velocity Offset: 0.00\n"
     ]
    },
    {
     "name": "stderr",
     "output_type": "stream",
     "text": [
      "\u001b[1;33m[WARNING]: \u001b[0m\u001b[0;39mTrying to register the cmap 'sauron' which already exists.\u001b[0m \u001b[0;36m(UserWarning)\u001b[0m\n",
      "\u001b[1;33m[WARNING]: \u001b[0m\u001b[0;39mTrying to register the cmap 'sauron_r' which already exists.\u001b[0m \u001b[0;36m(UserWarning)\u001b[0m\n",
      "\u001b[1;33m[WARNING]: \u001b[0m\u001b[0;39mTrying to register the cmap 'sauron' which already exists.\u001b[0m \u001b[0;36m(UserWarning)\u001b[0m\n",
      "\u001b[1;33m[WARNING]: \u001b[0m\u001b[0;39mTrying to register the cmap 'sauron_r' which already exists.\u001b[0m \u001b[0;36m(UserWarning)\u001b[0m\n"
     ]
    },
    {
     "name": "stdout",
     "output_type": "stream",
     "text": [
      "  Kin PA:  22.5  +/-  21.0  (3*sigma error)\n",
      "Velocity Offset: 0.00\n"
     ]
    },
    {
     "name": "stderr",
     "output_type": "stream",
     "text": [
      "\u001b[1;33m[WARNING]: \u001b[0m\u001b[0;39mTrying to register the cmap 'sauron' which already exists.\u001b[0m \u001b[0;36m(UserWarning)\u001b[0m\n",
      "\u001b[1;33m[WARNING]: \u001b[0m\u001b[0;39mTrying to register the cmap 'sauron_r' which already exists.\u001b[0m \u001b[0;36m(UserWarning)\u001b[0m\n",
      "\u001b[1;33m[WARNING]: \u001b[0m\u001b[0;39mTrying to register the cmap 'sauron' which already exists.\u001b[0m \u001b[0;36m(UserWarning)\u001b[0m\n",
      "\u001b[1;33m[WARNING]: \u001b[0m\u001b[0;39mTrying to register the cmap 'sauron_r' which already exists.\u001b[0m \u001b[0;36m(UserWarning)\u001b[0m\n"
     ]
    },
    {
     "name": "stdout",
     "output_type": "stream",
     "text": [
      "  Kin PA:  31.0  +/-   0.5  (3*sigma error)\n",
      "Velocity Offset: 0.00\n"
     ]
    },
    {
     "name": "stderr",
     "output_type": "stream",
     "text": [
      "\u001b[1;33m[WARNING]: \u001b[0m\u001b[0;39mTrying to register the cmap 'sauron' which already exists.\u001b[0m \u001b[0;36m(UserWarning)\u001b[0m\n",
      "\u001b[1;33m[WARNING]: \u001b[0m\u001b[0;39mTrying to register the cmap 'sauron_r' which already exists.\u001b[0m \u001b[0;36m(UserWarning)\u001b[0m\n",
      "\u001b[1;33m[WARNING]: \u001b[0m\u001b[0;39mTrying to register the cmap 'sauron' which already exists.\u001b[0m \u001b[0;36m(UserWarning)\u001b[0m\n",
      "\u001b[1;33m[WARNING]: \u001b[0m\u001b[0;39mTrying to register the cmap 'sauron_r' which already exists.\u001b[0m \u001b[0;36m(UserWarning)\u001b[0m\n"
     ]
    },
    {
     "name": "stdout",
     "output_type": "stream",
     "text": [
      "  Kin PA:  39.0  +/-   6.8  (3*sigma error)\n",
      "Velocity Offset: 0.00\n"
     ]
    },
    {
     "name": "stderr",
     "output_type": "stream",
     "text": [
      "\u001b[1;33m[WARNING]: \u001b[0m\u001b[0;39mTrying to register the cmap 'sauron' which already exists.\u001b[0m \u001b[0;36m(UserWarning)\u001b[0m\n",
      "\u001b[1;33m[WARNING]: \u001b[0m\u001b[0;39mTrying to register the cmap 'sauron_r' which already exists.\u001b[0m \u001b[0;36m(UserWarning)\u001b[0m\n",
      "\u001b[1;33m[WARNING]: \u001b[0m\u001b[0;39mTrying to register the cmap 'sauron' which already exists.\u001b[0m \u001b[0;36m(UserWarning)\u001b[0m\n",
      "\u001b[1;33m[WARNING]: \u001b[0m\u001b[0;39mTrying to register the cmap 'sauron_r' which already exists.\u001b[0m \u001b[0;36m(UserWarning)\u001b[0m\n"
     ]
    },
    {
     "name": "stdout",
     "output_type": "stream",
     "text": [
      "  Kin PA: 156.0  +/-   0.5  (3*sigma error)\n",
      "Velocity Offset: 0.00\n"
     ]
    },
    {
     "name": "stderr",
     "output_type": "stream",
     "text": [
      "\u001b[1;33m[WARNING]: \u001b[0m\u001b[0;39mTrying to register the cmap 'sauron' which already exists.\u001b[0m \u001b[0;36m(UserWarning)\u001b[0m\n",
      "\u001b[1;33m[WARNING]: \u001b[0m\u001b[0;39mTrying to register the cmap 'sauron_r' which already exists.\u001b[0m \u001b[0;36m(UserWarning)\u001b[0m\n",
      "\u001b[1;33m[WARNING]: \u001b[0m\u001b[0;39mTrying to register the cmap 'sauron' which already exists.\u001b[0m \u001b[0;36m(UserWarning)\u001b[0m\n",
      "\u001b[1;33m[WARNING]: \u001b[0m\u001b[0;39mTrying to register the cmap 'sauron_r' which already exists.\u001b[0m \u001b[0;36m(UserWarning)\u001b[0m\n"
     ]
    },
    {
     "name": "stdout",
     "output_type": "stream",
     "text": [
      "  Kin PA: 122.5  +/-  89.5  (3*sigma error)\n",
      "Velocity Offset: 0.00\n"
     ]
    },
    {
     "name": "stderr",
     "output_type": "stream",
     "text": [
      "\u001b[1;33m[WARNING]: \u001b[0m\u001b[0;39mTrying to register the cmap 'sauron' which already exists.\u001b[0m \u001b[0;36m(UserWarning)\u001b[0m\n",
      "\u001b[1;33m[WARNING]: \u001b[0m\u001b[0;39mTrying to register the cmap 'sauron_r' which already exists.\u001b[0m \u001b[0;36m(UserWarning)\u001b[0m\n",
      "\u001b[1;33m[WARNING]: \u001b[0m\u001b[0;39mTrying to register the cmap 'sauron' which already exists.\u001b[0m \u001b[0;36m(UserWarning)\u001b[0m\n",
      "\u001b[1;33m[WARNING]: \u001b[0m\u001b[0;39mTrying to register the cmap 'sauron_r' which already exists.\u001b[0m \u001b[0;36m(UserWarning)\u001b[0m\n"
     ]
    },
    {
     "name": "stdout",
     "output_type": "stream",
     "text": [
      "  Kin PA:  81.5  +/-   0.5  (3*sigma error)\n",
      "Velocity Offset: 0.00\n"
     ]
    },
    {
     "name": "stderr",
     "output_type": "stream",
     "text": [
      "\u001b[1;33m[WARNING]: \u001b[0m\u001b[0;39mTrying to register the cmap 'sauron' which already exists.\u001b[0m \u001b[0;36m(UserWarning)\u001b[0m\n",
      "\u001b[1;33m[WARNING]: \u001b[0m\u001b[0;39mTrying to register the cmap 'sauron_r' which already exists.\u001b[0m \u001b[0;36m(UserWarning)\u001b[0m\n",
      "\u001b[1;33m[WARNING]: \u001b[0m\u001b[0;39mTrying to register the cmap 'sauron' which already exists.\u001b[0m \u001b[0;36m(UserWarning)\u001b[0m\n",
      "\u001b[1;33m[WARNING]: \u001b[0m\u001b[0;39mTrying to register the cmap 'sauron_r' which already exists.\u001b[0m \u001b[0;36m(UserWarning)\u001b[0m\n"
     ]
    },
    {
     "name": "stdout",
     "output_type": "stream",
     "text": [
      "  Kin PA: 160.0  +/-   5.5  (3*sigma error)\n",
      "Velocity Offset: 0.00\n"
     ]
    },
    {
     "name": "stderr",
     "output_type": "stream",
     "text": [
      "\u001b[1;33m[WARNING]: \u001b[0m\u001b[0;39mTrying to register the cmap 'sauron' which already exists.\u001b[0m \u001b[0;36m(UserWarning)\u001b[0m\n",
      "\u001b[1;33m[WARNING]: \u001b[0m\u001b[0;39mTrying to register the cmap 'sauron_r' which already exists.\u001b[0m \u001b[0;36m(UserWarning)\u001b[0m\n",
      "\u001b[1;33m[WARNING]: \u001b[0m\u001b[0;39mTrying to register the cmap 'sauron' which already exists.\u001b[0m \u001b[0;36m(UserWarning)\u001b[0m\n",
      "\u001b[1;33m[WARNING]: \u001b[0m\u001b[0;39mTrying to register the cmap 'sauron_r' which already exists.\u001b[0m \u001b[0;36m(UserWarning)\u001b[0m\n"
     ]
    },
    {
     "name": "stdout",
     "output_type": "stream",
     "text": [
      "  Kin PA:  86.0  +/-   0.5  (3*sigma error)\n",
      "Velocity Offset: 0.00\n"
     ]
    },
    {
     "name": "stderr",
     "output_type": "stream",
     "text": [
      "\u001b[1;33m[WARNING]: \u001b[0m\u001b[0;39mTrying to register the cmap 'sauron' which already exists.\u001b[0m \u001b[0;36m(UserWarning)\u001b[0m\n",
      "\u001b[1;33m[WARNING]: \u001b[0m\u001b[0;39mTrying to register the cmap 'sauron_r' which already exists.\u001b[0m \u001b[0;36m(UserWarning)\u001b[0m\n",
      "\u001b[1;33m[WARNING]: \u001b[0m\u001b[0;39mTrying to register the cmap 'sauron' which already exists.\u001b[0m \u001b[0;36m(UserWarning)\u001b[0m\n",
      "\u001b[1;33m[WARNING]: \u001b[0m\u001b[0;39mTrying to register the cmap 'sauron_r' which already exists.\u001b[0m \u001b[0;36m(UserWarning)\u001b[0m\n"
     ]
    },
    {
     "name": "stdout",
     "output_type": "stream",
     "text": [
      "  Kin PA: 143.5  +/-   5.8  (3*sigma error)\n",
      "Velocity Offset: 0.00\n"
     ]
    },
    {
     "name": "stderr",
     "output_type": "stream",
     "text": [
      "\u001b[1;33m[WARNING]: \u001b[0m\u001b[0;39mTrying to register the cmap 'sauron' which already exists.\u001b[0m \u001b[0;36m(UserWarning)\u001b[0m\n",
      "\u001b[1;33m[WARNING]: \u001b[0m\u001b[0;39mTrying to register the cmap 'sauron_r' which already exists.\u001b[0m \u001b[0;36m(UserWarning)\u001b[0m\n",
      "\u001b[1;33m[WARNING]: \u001b[0m\u001b[0;39mTrying to register the cmap 'sauron' which already exists.\u001b[0m \u001b[0;36m(UserWarning)\u001b[0m\n",
      "\u001b[1;33m[WARNING]: \u001b[0m\u001b[0;39mTrying to register the cmap 'sauron_r' which already exists.\u001b[0m \u001b[0;36m(UserWarning)\u001b[0m\n"
     ]
    },
    {
     "name": "stdout",
     "output_type": "stream",
     "text": [
      "  Kin PA:  82.0  +/-   0.5  (3*sigma error)\n",
      "Velocity Offset: 0.00\n"
     ]
    },
    {
     "name": "stderr",
     "output_type": "stream",
     "text": [
      "\u001b[1;33m[WARNING]: \u001b[0m\u001b[0;39mTrying to register the cmap 'sauron' which already exists.\u001b[0m \u001b[0;36m(UserWarning)\u001b[0m\n",
      "\u001b[1;33m[WARNING]: \u001b[0m\u001b[0;39mTrying to register the cmap 'sauron_r' which already exists.\u001b[0m \u001b[0;36m(UserWarning)\u001b[0m\n",
      "\u001b[1;33m[WARNING]: \u001b[0m\u001b[0;39mTrying to register the cmap 'sauron' which already exists.\u001b[0m \u001b[0;36m(UserWarning)\u001b[0m\n",
      "\u001b[1;33m[WARNING]: \u001b[0m\u001b[0;39mTrying to register the cmap 'sauron_r' which already exists.\u001b[0m \u001b[0;36m(UserWarning)\u001b[0m\n"
     ]
    },
    {
     "name": "stdout",
     "output_type": "stream",
     "text": [
      "  Kin PA: 140.5  +/-   9.0  (3*sigma error)\n",
      "Velocity Offset: 0.00\n"
     ]
    },
    {
     "name": "stderr",
     "output_type": "stream",
     "text": [
      "\u001b[1;33m[WARNING]: \u001b[0m\u001b[0;39mTrying to register the cmap 'sauron' which already exists.\u001b[0m \u001b[0;36m(UserWarning)\u001b[0m\n",
      "\u001b[1;33m[WARNING]: \u001b[0m\u001b[0;39mTrying to register the cmap 'sauron_r' which already exists.\u001b[0m \u001b[0;36m(UserWarning)\u001b[0m\n",
      "\u001b[1;33m[WARNING]: \u001b[0m\u001b[0;39mTrying to register the cmap 'sauron' which already exists.\u001b[0m \u001b[0;36m(UserWarning)\u001b[0m\n",
      "\u001b[1;33m[WARNING]: \u001b[0m\u001b[0;39mTrying to register the cmap 'sauron_r' which already exists.\u001b[0m \u001b[0;36m(UserWarning)\u001b[0m\n"
     ]
    },
    {
     "name": "stdout",
     "output_type": "stream",
     "text": [
      "  Kin PA: 115.0  +/-   0.5  (3*sigma error)\n",
      "Velocity Offset: 0.00\n"
     ]
    },
    {
     "name": "stderr",
     "output_type": "stream",
     "text": [
      "\u001b[1;33m[WARNING]: \u001b[0m\u001b[0;39mTrying to register the cmap 'sauron' which already exists.\u001b[0m \u001b[0;36m(UserWarning)\u001b[0m\n",
      "\u001b[1;33m[WARNING]: \u001b[0m\u001b[0;39mTrying to register the cmap 'sauron_r' which already exists.\u001b[0m \u001b[0;36m(UserWarning)\u001b[0m\n",
      "\u001b[1;33m[WARNING]: \u001b[0m\u001b[0;39mTrying to register the cmap 'sauron' which already exists.\u001b[0m \u001b[0;36m(UserWarning)\u001b[0m\n",
      "\u001b[1;33m[WARNING]: \u001b[0m\u001b[0;39mTrying to register the cmap 'sauron_r' which already exists.\u001b[0m \u001b[0;36m(UserWarning)\u001b[0m\n"
     ]
    },
    {
     "name": "stdout",
     "output_type": "stream",
     "text": [
      "  Kin PA: 179.0  +/-   5.0  (3*sigma error)\n",
      "Velocity Offset: 0.00\n"
     ]
    },
    {
     "name": "stderr",
     "output_type": "stream",
     "text": [
      "\u001b[1;33m[WARNING]: \u001b[0m\u001b[0;39mTrying to register the cmap 'sauron' which already exists.\u001b[0m \u001b[0;36m(UserWarning)\u001b[0m\n",
      "\u001b[1;33m[WARNING]: \u001b[0m\u001b[0;39mTrying to register the cmap 'sauron_r' which already exists.\u001b[0m \u001b[0;36m(UserWarning)\u001b[0m\n",
      "\u001b[1;33m[WARNING]: \u001b[0m\u001b[0;39mTrying to register the cmap 'sauron' which already exists.\u001b[0m \u001b[0;36m(UserWarning)\u001b[0m\n",
      "\u001b[1;33m[WARNING]: \u001b[0m\u001b[0;39mTrying to register the cmap 'sauron_r' which already exists.\u001b[0m \u001b[0;36m(UserWarning)\u001b[0m\n"
     ]
    },
    {
     "name": "stdout",
     "output_type": "stream",
     "text": [
      "  Kin PA:  37.0  +/-   0.5  (3*sigma error)\n",
      "Velocity Offset: 0.00\n"
     ]
    },
    {
     "name": "stderr",
     "output_type": "stream",
     "text": [
      "\u001b[1;33m[WARNING]: \u001b[0m\u001b[0;39mTrying to register the cmap 'sauron' which already exists.\u001b[0m \u001b[0;36m(UserWarning)\u001b[0m\n",
      "\u001b[1;33m[WARNING]: \u001b[0m\u001b[0;39mTrying to register the cmap 'sauron_r' which already exists.\u001b[0m \u001b[0;36m(UserWarning)\u001b[0m\n",
      "\u001b[1;33m[WARNING]: \u001b[0m\u001b[0;39mTrying to register the cmap 'sauron' which already exists.\u001b[0m \u001b[0;36m(UserWarning)\u001b[0m\n",
      "\u001b[1;33m[WARNING]: \u001b[0m\u001b[0;39mTrying to register the cmap 'sauron_r' which already exists.\u001b[0m \u001b[0;36m(UserWarning)\u001b[0m\n"
     ]
    },
    {
     "name": "stdout",
     "output_type": "stream",
     "text": [
      "  Kin PA:  20.0  +/-  89.8  (3*sigma error)\n",
      "Velocity Offset: 0.00\n"
     ]
    },
    {
     "name": "stderr",
     "output_type": "stream",
     "text": [
      "\u001b[1;33m[WARNING]: \u001b[0m\u001b[0;39mTrying to register the cmap 'sauron' which already exists.\u001b[0m \u001b[0;36m(UserWarning)\u001b[0m\n",
      "\u001b[1;33m[WARNING]: \u001b[0m\u001b[0;39mTrying to register the cmap 'sauron_r' which already exists.\u001b[0m \u001b[0;36m(UserWarning)\u001b[0m\n",
      "\u001b[1;33m[WARNING]: \u001b[0m\u001b[0;39mTrying to register the cmap 'sauron' which already exists.\u001b[0m \u001b[0;36m(UserWarning)\u001b[0m\n",
      "\u001b[1;33m[WARNING]: \u001b[0m\u001b[0;39mTrying to register the cmap 'sauron_r' which already exists.\u001b[0m \u001b[0;36m(UserWarning)\u001b[0m\n"
     ]
    },
    {
     "name": "stdout",
     "output_type": "stream",
     "text": [
      "  Kin PA:  72.0  +/-   0.5  (3*sigma error)\n",
      "Velocity Offset: 0.00\n"
     ]
    },
    {
     "name": "stderr",
     "output_type": "stream",
     "text": [
      "\u001b[1;33m[WARNING]: \u001b[0m\u001b[0;39mTrying to register the cmap 'sauron' which already exists.\u001b[0m \u001b[0;36m(UserWarning)\u001b[0m\n",
      "\u001b[1;33m[WARNING]: \u001b[0m\u001b[0;39mTrying to register the cmap 'sauron_r' which already exists.\u001b[0m \u001b[0;36m(UserWarning)\u001b[0m\n",
      "\u001b[1;33m[WARNING]: \u001b[0m\u001b[0;39mTrying to register the cmap 'sauron' which already exists.\u001b[0m \u001b[0;36m(UserWarning)\u001b[0m\n",
      "\u001b[1;33m[WARNING]: \u001b[0m\u001b[0;39mTrying to register the cmap 'sauron_r' which already exists.\u001b[0m \u001b[0;36m(UserWarning)\u001b[0m\n"
     ]
    },
    {
     "name": "stdout",
     "output_type": "stream",
     "text": [
      "  Kin PA:  85.0  +/-   3.2  (3*sigma error)\n",
      "Velocity Offset: 0.00\n"
     ]
    },
    {
     "name": "stderr",
     "output_type": "stream",
     "text": [
      "\u001b[1;33m[WARNING]: \u001b[0m\u001b[0;39mTrying to register the cmap 'sauron' which already exists.\u001b[0m \u001b[0;36m(UserWarning)\u001b[0m\n",
      "\u001b[1;33m[WARNING]: \u001b[0m\u001b[0;39mTrying to register the cmap 'sauron_r' which already exists.\u001b[0m \u001b[0;36m(UserWarning)\u001b[0m\n",
      "\u001b[1;33m[WARNING]: \u001b[0m\u001b[0;39mTrying to register the cmap 'sauron' which already exists.\u001b[0m \u001b[0;36m(UserWarning)\u001b[0m\n",
      "\u001b[1;33m[WARNING]: \u001b[0m\u001b[0;39mTrying to register the cmap 'sauron_r' which already exists.\u001b[0m \u001b[0;36m(UserWarning)\u001b[0m\n"
     ]
    },
    {
     "name": "stdout",
     "output_type": "stream",
     "text": [
      "  Kin PA:  56.5  +/-   0.5  (3*sigma error)\n",
      "Velocity Offset: 0.00\n"
     ]
    },
    {
     "name": "stderr",
     "output_type": "stream",
     "text": [
      "\u001b[1;33m[WARNING]: \u001b[0m\u001b[0;39mTrying to register the cmap 'sauron' which already exists.\u001b[0m \u001b[0;36m(UserWarning)\u001b[0m\n",
      "\u001b[1;33m[WARNING]: \u001b[0m\u001b[0;39mTrying to register the cmap 'sauron_r' which already exists.\u001b[0m \u001b[0;36m(UserWarning)\u001b[0m\n",
      "\u001b[1;33m[WARNING]: \u001b[0m\u001b[0;39mTrying to register the cmap 'sauron' which already exists.\u001b[0m \u001b[0;36m(UserWarning)\u001b[0m\n",
      "\u001b[1;33m[WARNING]: \u001b[0m\u001b[0;39mTrying to register the cmap 'sauron_r' which already exists.\u001b[0m \u001b[0;36m(UserWarning)\u001b[0m\n"
     ]
    },
    {
     "name": "stdout",
     "output_type": "stream",
     "text": [
      "  Kin PA:  63.5  +/-   5.0  (3*sigma error)\n",
      "Velocity Offset: 0.00\n"
     ]
    },
    {
     "name": "stderr",
     "output_type": "stream",
     "text": [
      "\u001b[1;33m[WARNING]: \u001b[0m\u001b[0;39mTrying to register the cmap 'sauron' which already exists.\u001b[0m \u001b[0;36m(UserWarning)\u001b[0m\n",
      "\u001b[1;33m[WARNING]: \u001b[0m\u001b[0;39mTrying to register the cmap 'sauron_r' which already exists.\u001b[0m \u001b[0;36m(UserWarning)\u001b[0m\n",
      "\u001b[1;33m[WARNING]: \u001b[0m\u001b[0;39mTrying to register the cmap 'sauron' which already exists.\u001b[0m \u001b[0;36m(UserWarning)\u001b[0m\n",
      "\u001b[1;33m[WARNING]: \u001b[0m\u001b[0;39mTrying to register the cmap 'sauron_r' which already exists.\u001b[0m \u001b[0;36m(UserWarning)\u001b[0m\n"
     ]
    },
    {
     "name": "stdout",
     "output_type": "stream",
     "text": [
      "  Kin PA:   4.5  +/-   0.5  (3*sigma error)\n",
      "Velocity Offset: 0.00\n"
     ]
    },
    {
     "name": "stderr",
     "output_type": "stream",
     "text": [
      "\u001b[1;33m[WARNING]: \u001b[0m\u001b[0;39mTrying to register the cmap 'sauron' which already exists.\u001b[0m \u001b[0;36m(UserWarning)\u001b[0m\n",
      "\u001b[1;33m[WARNING]: \u001b[0m\u001b[0;39mTrying to register the cmap 'sauron_r' which already exists.\u001b[0m \u001b[0;36m(UserWarning)\u001b[0m\n",
      "\u001b[1;33m[WARNING]: \u001b[0m\u001b[0;39mTrying to register the cmap 'sauron' which already exists.\u001b[0m \u001b[0;36m(UserWarning)\u001b[0m\n",
      "\u001b[1;33m[WARNING]: \u001b[0m\u001b[0;39mTrying to register the cmap 'sauron_r' which already exists.\u001b[0m \u001b[0;36m(UserWarning)\u001b[0m\n"
     ]
    },
    {
     "name": "stdout",
     "output_type": "stream",
     "text": [
      "  Kin PA:  94.0  +/-  15.0  (3*sigma error)\n",
      "Velocity Offset: 0.00\n"
     ]
    },
    {
     "name": "stderr",
     "output_type": "stream",
     "text": [
      "\u001b[1;33m[WARNING]: \u001b[0m\u001b[0;39mTrying to register the cmap 'sauron' which already exists.\u001b[0m \u001b[0;36m(UserWarning)\u001b[0m\n",
      "\u001b[1;33m[WARNING]: \u001b[0m\u001b[0;39mTrying to register the cmap 'sauron_r' which already exists.\u001b[0m \u001b[0;36m(UserWarning)\u001b[0m\n",
      "\u001b[1;33m[WARNING]: \u001b[0m\u001b[0;39mTrying to register the cmap 'sauron' which already exists.\u001b[0m \u001b[0;36m(UserWarning)\u001b[0m\n",
      "\u001b[1;33m[WARNING]: \u001b[0m\u001b[0;39mTrying to register the cmap 'sauron_r' which already exists.\u001b[0m \u001b[0;36m(UserWarning)\u001b[0m\n"
     ]
    },
    {
     "name": "stdout",
     "output_type": "stream",
     "text": [
      "  Kin PA:  62.5  +/-   0.5  (3*sigma error)\n",
      "Velocity Offset: 0.00\n"
     ]
    },
    {
     "name": "stderr",
     "output_type": "stream",
     "text": [
      "\u001b[1;33m[WARNING]: \u001b[0m\u001b[0;39mTrying to register the cmap 'sauron' which already exists.\u001b[0m \u001b[0;36m(UserWarning)\u001b[0m\n",
      "\u001b[1;33m[WARNING]: \u001b[0m\u001b[0;39mTrying to register the cmap 'sauron_r' which already exists.\u001b[0m \u001b[0;36m(UserWarning)\u001b[0m\n",
      "\u001b[1;33m[WARNING]: \u001b[0m\u001b[0;39mTrying to register the cmap 'sauron' which already exists.\u001b[0m \u001b[0;36m(UserWarning)\u001b[0m\n",
      "\u001b[1;33m[WARNING]: \u001b[0m\u001b[0;39mTrying to register the cmap 'sauron_r' which already exists.\u001b[0m \u001b[0;36m(UserWarning)\u001b[0m\n"
     ]
    },
    {
     "name": "stdout",
     "output_type": "stream",
     "text": [
      "  Kin PA: 174.0  +/-   6.8  (3*sigma error)\n",
      "Velocity Offset: 0.00\n"
     ]
    },
    {
     "name": "stderr",
     "output_type": "stream",
     "text": [
      "\u001b[1;33m[WARNING]: \u001b[0m\u001b[0;39mTrying to register the cmap 'sauron' which already exists.\u001b[0m \u001b[0;36m(UserWarning)\u001b[0m\n",
      "\u001b[1;33m[WARNING]: \u001b[0m\u001b[0;39mTrying to register the cmap 'sauron_r' which already exists.\u001b[0m \u001b[0;36m(UserWarning)\u001b[0m\n",
      "\u001b[1;33m[WARNING]: \u001b[0m\u001b[0;39mTrying to register the cmap 'sauron' which already exists.\u001b[0m \u001b[0;36m(UserWarning)\u001b[0m\n",
      "\u001b[1;33m[WARNING]: \u001b[0m\u001b[0;39mTrying to register the cmap 'sauron_r' which already exists.\u001b[0m \u001b[0;36m(UserWarning)\u001b[0m\n"
     ]
    },
    {
     "name": "stdout",
     "output_type": "stream",
     "text": [
      "  Kin PA: 126.5  +/-   0.5  (3*sigma error)\n",
      "Velocity Offset: 0.00\n"
     ]
    },
    {
     "name": "stderr",
     "output_type": "stream",
     "text": [
      "\u001b[1;33m[WARNING]: \u001b[0m\u001b[0;39mTrying to register the cmap 'sauron' which already exists.\u001b[0m \u001b[0;36m(UserWarning)\u001b[0m\n",
      "\u001b[1;33m[WARNING]: \u001b[0m\u001b[0;39mTrying to register the cmap 'sauron_r' which already exists.\u001b[0m \u001b[0;36m(UserWarning)\u001b[0m\n",
      "\u001b[1;33m[WARNING]: \u001b[0m\u001b[0;39mTrying to register the cmap 'sauron' which already exists.\u001b[0m \u001b[0;36m(UserWarning)\u001b[0m\n",
      "\u001b[1;33m[WARNING]: \u001b[0m\u001b[0;39mTrying to register the cmap 'sauron_r' which already exists.\u001b[0m \u001b[0;36m(UserWarning)\u001b[0m\n"
     ]
    },
    {
     "name": "stdout",
     "output_type": "stream",
     "text": [
      "  Kin PA: 119.0  +/-   7.0  (3*sigma error)\n",
      "Velocity Offset: 0.00\n"
     ]
    },
    {
     "name": "stderr",
     "output_type": "stream",
     "text": [
      "\u001b[1;33m[WARNING]: \u001b[0m\u001b[0;39mTrying to register the cmap 'sauron' which already exists.\u001b[0m \u001b[0;36m(UserWarning)\u001b[0m\n",
      "\u001b[1;33m[WARNING]: \u001b[0m\u001b[0;39mTrying to register the cmap 'sauron_r' which already exists.\u001b[0m \u001b[0;36m(UserWarning)\u001b[0m\n",
      "\u001b[1;33m[WARNING]: \u001b[0m\u001b[0;39mTrying to register the cmap 'sauron' which already exists.\u001b[0m \u001b[0;36m(UserWarning)\u001b[0m\n",
      "\u001b[1;33m[WARNING]: \u001b[0m\u001b[0;39mTrying to register the cmap 'sauron_r' which already exists.\u001b[0m \u001b[0;36m(UserWarning)\u001b[0m\n"
     ]
    },
    {
     "name": "stdout",
     "output_type": "stream",
     "text": [
      "  Kin PA: 149.5  +/-   0.5  (3*sigma error)\n",
      "Velocity Offset: 0.00\n"
     ]
    },
    {
     "name": "stderr",
     "output_type": "stream",
     "text": [
      "\u001b[1;33m[WARNING]: \u001b[0m\u001b[0;39mTrying to register the cmap 'sauron' which already exists.\u001b[0m \u001b[0;36m(UserWarning)\u001b[0m\n",
      "\u001b[1;33m[WARNING]: \u001b[0m\u001b[0;39mTrying to register the cmap 'sauron_r' which already exists.\u001b[0m \u001b[0;36m(UserWarning)\u001b[0m\n",
      "\u001b[1;33m[WARNING]: \u001b[0m\u001b[0;39mTrying to register the cmap 'sauron' which already exists.\u001b[0m \u001b[0;36m(UserWarning)\u001b[0m\n",
      "\u001b[1;33m[WARNING]: \u001b[0m\u001b[0;39mTrying to register the cmap 'sauron_r' which already exists.\u001b[0m \u001b[0;36m(UserWarning)\u001b[0m\n"
     ]
    },
    {
     "name": "stdout",
     "output_type": "stream",
     "text": [
      "  Kin PA: 102.5  +/-   6.5  (3*sigma error)\n",
      "Velocity Offset: 0.00\n"
     ]
    },
    {
     "name": "stderr",
     "output_type": "stream",
     "text": [
      "\u001b[1;33m[WARNING]: \u001b[0m\u001b[0;39mTrying to register the cmap 'sauron' which already exists.\u001b[0m \u001b[0;36m(UserWarning)\u001b[0m\n",
      "\u001b[1;33m[WARNING]: \u001b[0m\u001b[0;39mTrying to register the cmap 'sauron_r' which already exists.\u001b[0m \u001b[0;36m(UserWarning)\u001b[0m\n",
      "\u001b[1;33m[WARNING]: \u001b[0m\u001b[0;39mTrying to register the cmap 'sauron' which already exists.\u001b[0m \u001b[0;36m(UserWarning)\u001b[0m\n",
      "\u001b[1;33m[WARNING]: \u001b[0m\u001b[0;39mTrying to register the cmap 'sauron_r' which already exists.\u001b[0m \u001b[0;36m(UserWarning)\u001b[0m\n"
     ]
    },
    {
     "name": "stdout",
     "output_type": "stream",
     "text": [
      "  Kin PA:   4.5  +/-   0.5  (3*sigma error)\n",
      "Velocity Offset: 0.00\n"
     ]
    },
    {
     "name": "stderr",
     "output_type": "stream",
     "text": [
      "\u001b[1;33m[WARNING]: \u001b[0m\u001b[0;39mTrying to register the cmap 'sauron' which already exists.\u001b[0m \u001b[0;36m(UserWarning)\u001b[0m\n",
      "\u001b[1;33m[WARNING]: \u001b[0m\u001b[0;39mTrying to register the cmap 'sauron_r' which already exists.\u001b[0m \u001b[0;36m(UserWarning)\u001b[0m\n",
      "\u001b[1;33m[WARNING]: \u001b[0m\u001b[0;39mTrying to register the cmap 'sauron' which already exists.\u001b[0m \u001b[0;36m(UserWarning)\u001b[0m\n",
      "\u001b[1;33m[WARNING]: \u001b[0m\u001b[0;39mTrying to register the cmap 'sauron_r' which already exists.\u001b[0m \u001b[0;36m(UserWarning)\u001b[0m\n"
     ]
    },
    {
     "name": "stdout",
     "output_type": "stream",
     "text": [
      "  Kin PA:  86.0  +/-  35.8  (3*sigma error)\n",
      "Velocity Offset: 0.00\n"
     ]
    },
    {
     "name": "stderr",
     "output_type": "stream",
     "text": [
      "\u001b[1;33m[WARNING]: \u001b[0m\u001b[0;39mTrying to register the cmap 'sauron' which already exists.\u001b[0m \u001b[0;36m(UserWarning)\u001b[0m\n",
      "\u001b[1;33m[WARNING]: \u001b[0m\u001b[0;39mTrying to register the cmap 'sauron_r' which already exists.\u001b[0m \u001b[0;36m(UserWarning)\u001b[0m\n",
      "\u001b[1;33m[WARNING]: \u001b[0m\u001b[0;39mTrying to register the cmap 'sauron' which already exists.\u001b[0m \u001b[0;36m(UserWarning)\u001b[0m\n",
      "\u001b[1;33m[WARNING]: \u001b[0m\u001b[0;39mTrying to register the cmap 'sauron_r' which already exists.\u001b[0m \u001b[0;36m(UserWarning)\u001b[0m\n"
     ]
    },
    {
     "name": "stdout",
     "output_type": "stream",
     "text": [
      "  Kin PA:  10.0  +/-   0.5  (3*sigma error)\n",
      "Velocity Offset: 0.00\n"
     ]
    },
    {
     "name": "stderr",
     "output_type": "stream",
     "text": [
      "\u001b[1;33m[WARNING]: \u001b[0m\u001b[0;39mTrying to register the cmap 'sauron' which already exists.\u001b[0m \u001b[0;36m(UserWarning)\u001b[0m\n",
      "\u001b[1;33m[WARNING]: \u001b[0m\u001b[0;39mTrying to register the cmap 'sauron_r' which already exists.\u001b[0m \u001b[0;36m(UserWarning)\u001b[0m\n",
      "\u001b[1;33m[WARNING]: \u001b[0m\u001b[0;39mTrying to register the cmap 'sauron' which already exists.\u001b[0m \u001b[0;36m(UserWarning)\u001b[0m\n",
      "\u001b[1;33m[WARNING]: \u001b[0m\u001b[0;39mTrying to register the cmap 'sauron_r' which already exists.\u001b[0m \u001b[0;36m(UserWarning)\u001b[0m\n"
     ]
    },
    {
     "name": "stdout",
     "output_type": "stream",
     "text": [
      "  Kin PA: 164.5  +/-   9.8  (3*sigma error)\n",
      "Velocity Offset: 0.00\n"
     ]
    },
    {
     "name": "stderr",
     "output_type": "stream",
     "text": [
      "\u001b[1;33m[WARNING]: \u001b[0m\u001b[0;39mTrying to register the cmap 'sauron' which already exists.\u001b[0m \u001b[0;36m(UserWarning)\u001b[0m\n",
      "\u001b[1;33m[WARNING]: \u001b[0m\u001b[0;39mTrying to register the cmap 'sauron_r' which already exists.\u001b[0m \u001b[0;36m(UserWarning)\u001b[0m\n",
      "\u001b[1;33m[WARNING]: \u001b[0m\u001b[0;39mTrying to register the cmap 'sauron' which already exists.\u001b[0m \u001b[0;36m(UserWarning)\u001b[0m\n",
      "\u001b[1;33m[WARNING]: \u001b[0m\u001b[0;39mTrying to register the cmap 'sauron_r' which already exists.\u001b[0m \u001b[0;36m(UserWarning)\u001b[0m\n"
     ]
    },
    {
     "name": "stdout",
     "output_type": "stream",
     "text": [
      "  Kin PA: 110.5  +/-   0.5  (3*sigma error)\n",
      "Velocity Offset: 0.00\n"
     ]
    },
    {
     "name": "stderr",
     "output_type": "stream",
     "text": [
      "\u001b[1;33m[WARNING]: \u001b[0m\u001b[0;39mTrying to register the cmap 'sauron' which already exists.\u001b[0m \u001b[0;36m(UserWarning)\u001b[0m\n",
      "\u001b[1;33m[WARNING]: \u001b[0m\u001b[0;39mTrying to register the cmap 'sauron_r' which already exists.\u001b[0m \u001b[0;36m(UserWarning)\u001b[0m\n",
      "\u001b[1;33m[WARNING]: \u001b[0m\u001b[0;39mTrying to register the cmap 'sauron' which already exists.\u001b[0m \u001b[0;36m(UserWarning)\u001b[0m\n",
      "\u001b[1;33m[WARNING]: \u001b[0m\u001b[0;39mTrying to register the cmap 'sauron_r' which already exists.\u001b[0m \u001b[0;36m(UserWarning)\u001b[0m\n"
     ]
    },
    {
     "name": "stdout",
     "output_type": "stream",
     "text": [
      "  Kin PA:  54.0  +/-  10.8  (3*sigma error)\n",
      "Velocity Offset: 0.00\n"
     ]
    },
    {
     "name": "stderr",
     "output_type": "stream",
     "text": [
      "\u001b[1;33m[WARNING]: \u001b[0m\u001b[0;39mTrying to register the cmap 'sauron' which already exists.\u001b[0m \u001b[0;36m(UserWarning)\u001b[0m\n",
      "\u001b[1;33m[WARNING]: \u001b[0m\u001b[0;39mTrying to register the cmap 'sauron_r' which already exists.\u001b[0m \u001b[0;36m(UserWarning)\u001b[0m\n",
      "\u001b[1;33m[WARNING]: \u001b[0m\u001b[0;39mTrying to register the cmap 'sauron' which already exists.\u001b[0m \u001b[0;36m(UserWarning)\u001b[0m\n",
      "\u001b[1;33m[WARNING]: \u001b[0m\u001b[0;39mTrying to register the cmap 'sauron_r' which already exists.\u001b[0m \u001b[0;36m(UserWarning)\u001b[0m\n"
     ]
    },
    {
     "name": "stdout",
     "output_type": "stream",
     "text": [
      "  Kin PA:  29.5  +/-   0.5  (3*sigma error)\n",
      "Velocity Offset: 0.00\n"
     ]
    },
    {
     "name": "stderr",
     "output_type": "stream",
     "text": [
      "\u001b[1;33m[WARNING]: \u001b[0m\u001b[0;39mTrying to register the cmap 'sauron' which already exists.\u001b[0m \u001b[0;36m(UserWarning)\u001b[0m\n",
      "\u001b[1;33m[WARNING]: \u001b[0m\u001b[0;39mTrying to register the cmap 'sauron_r' which already exists.\u001b[0m \u001b[0;36m(UserWarning)\u001b[0m\n",
      "\u001b[1;33m[WARNING]: \u001b[0m\u001b[0;39mTrying to register the cmap 'sauron' which already exists.\u001b[0m \u001b[0;36m(UserWarning)\u001b[0m\n",
      "\u001b[1;33m[WARNING]: \u001b[0m\u001b[0;39mTrying to register the cmap 'sauron_r' which already exists.\u001b[0m \u001b[0;36m(UserWarning)\u001b[0m\n"
     ]
    },
    {
     "name": "stdout",
     "output_type": "stream",
     "text": [
      "  Kin PA:  12.5  +/-  45.5  (3*sigma error)\n",
      "Velocity Offset: 0.00\n"
     ]
    },
    {
     "name": "stderr",
     "output_type": "stream",
     "text": [
      "\u001b[1;33m[WARNING]: \u001b[0m\u001b[0;39mTrying to register the cmap 'sauron' which already exists.\u001b[0m \u001b[0;36m(UserWarning)\u001b[0m\n",
      "\u001b[1;33m[WARNING]: \u001b[0m\u001b[0;39mTrying to register the cmap 'sauron_r' which already exists.\u001b[0m \u001b[0;36m(UserWarning)\u001b[0m\n",
      "\u001b[1;33m[WARNING]: \u001b[0m\u001b[0;39mTrying to register the cmap 'sauron' which already exists.\u001b[0m \u001b[0;36m(UserWarning)\u001b[0m\n",
      "\u001b[1;33m[WARNING]: \u001b[0m\u001b[0;39mTrying to register the cmap 'sauron_r' which already exists.\u001b[0m \u001b[0;36m(UserWarning)\u001b[0m\n"
     ]
    },
    {
     "name": "stdout",
     "output_type": "stream",
     "text": [
      "  Kin PA: 124.0  +/-   0.5  (3*sigma error)\n",
      "Velocity Offset: 0.00\n"
     ]
    },
    {
     "name": "stderr",
     "output_type": "stream",
     "text": [
      "\u001b[1;33m[WARNING]: \u001b[0m\u001b[0;39mTrying to register the cmap 'sauron' which already exists.\u001b[0m \u001b[0;36m(UserWarning)\u001b[0m\n",
      "\u001b[1;33m[WARNING]: \u001b[0m\u001b[0;39mTrying to register the cmap 'sauron_r' which already exists.\u001b[0m \u001b[0;36m(UserWarning)\u001b[0m\n",
      "\u001b[1;33m[WARNING]: \u001b[0m\u001b[0;39mTrying to register the cmap 'sauron' which already exists.\u001b[0m \u001b[0;36m(UserWarning)\u001b[0m\n",
      "\u001b[1;33m[WARNING]: \u001b[0m\u001b[0;39mTrying to register the cmap 'sauron_r' which already exists.\u001b[0m \u001b[0;36m(UserWarning)\u001b[0m\n"
     ]
    },
    {
     "name": "stdout",
     "output_type": "stream",
     "text": [
      "  Kin PA:  81.0  +/-  28.2  (3*sigma error)\n",
      "Velocity Offset: 0.00\n"
     ]
    },
    {
     "name": "stderr",
     "output_type": "stream",
     "text": [
      "\u001b[1;33m[WARNING]: \u001b[0m\u001b[0;39mTrying to register the cmap 'sauron' which already exists.\u001b[0m \u001b[0;36m(UserWarning)\u001b[0m\n",
      "\u001b[1;33m[WARNING]: \u001b[0m\u001b[0;39mTrying to register the cmap 'sauron_r' which already exists.\u001b[0m \u001b[0;36m(UserWarning)\u001b[0m\n",
      "\u001b[1;33m[WARNING]: \u001b[0m\u001b[0;39mTrying to register the cmap 'sauron' which already exists.\u001b[0m \u001b[0;36m(UserWarning)\u001b[0m\n",
      "\u001b[1;33m[WARNING]: \u001b[0m\u001b[0;39mTrying to register the cmap 'sauron_r' which already exists.\u001b[0m \u001b[0;36m(UserWarning)\u001b[0m\n"
     ]
    },
    {
     "name": "stdout",
     "output_type": "stream",
     "text": [
      "  Kin PA:  31.5  +/-   0.5  (3*sigma error)\n",
      "Velocity Offset: 0.00\n"
     ]
    },
    {
     "name": "stderr",
     "output_type": "stream",
     "text": [
      "\u001b[1;33m[WARNING]: \u001b[0m\u001b[0;39mTrying to register the cmap 'sauron' which already exists.\u001b[0m \u001b[0;36m(UserWarning)\u001b[0m\n",
      "\u001b[1;33m[WARNING]: \u001b[0m\u001b[0;39mTrying to register the cmap 'sauron_r' which already exists.\u001b[0m \u001b[0;36m(UserWarning)\u001b[0m\n",
      "\u001b[1;33m[WARNING]: \u001b[0m\u001b[0;39mTrying to register the cmap 'sauron' which already exists.\u001b[0m \u001b[0;36m(UserWarning)\u001b[0m\n",
      "\u001b[1;33m[WARNING]: \u001b[0m\u001b[0;39mTrying to register the cmap 'sauron_r' which already exists.\u001b[0m \u001b[0;36m(UserWarning)\u001b[0m\n"
     ]
    },
    {
     "name": "stdout",
     "output_type": "stream",
     "text": [
      "  Kin PA:  10.0  +/-   6.2  (3*sigma error)\n",
      "Velocity Offset: 0.00\n"
     ]
    },
    {
     "name": "stderr",
     "output_type": "stream",
     "text": [
      "\u001b[1;33m[WARNING]: \u001b[0m\u001b[0;39mTrying to register the cmap 'sauron' which already exists.\u001b[0m \u001b[0;36m(UserWarning)\u001b[0m\n",
      "\u001b[1;33m[WARNING]: \u001b[0m\u001b[0;39mTrying to register the cmap 'sauron_r' which already exists.\u001b[0m \u001b[0;36m(UserWarning)\u001b[0m\n",
      "\u001b[1;33m[WARNING]: \u001b[0m\u001b[0;39mTrying to register the cmap 'sauron' which already exists.\u001b[0m \u001b[0;36m(UserWarning)\u001b[0m\n",
      "\u001b[1;33m[WARNING]: \u001b[0m\u001b[0;39mTrying to register the cmap 'sauron_r' which already exists.\u001b[0m \u001b[0;36m(UserWarning)\u001b[0m\n"
     ]
    },
    {
     "name": "stdout",
     "output_type": "stream",
     "text": [
      "  Kin PA: 127.5  +/-   0.5  (3*sigma error)\n",
      "Velocity Offset: 0.00\n"
     ]
    },
    {
     "name": "stderr",
     "output_type": "stream",
     "text": [
      "\u001b[1;33m[WARNING]: \u001b[0m\u001b[0;39mTrying to register the cmap 'sauron' which already exists.\u001b[0m \u001b[0;36m(UserWarning)\u001b[0m\n",
      "\u001b[1;33m[WARNING]: \u001b[0m\u001b[0;39mTrying to register the cmap 'sauron_r' which already exists.\u001b[0m \u001b[0;36m(UserWarning)\u001b[0m\n",
      "\u001b[1;33m[WARNING]: \u001b[0m\u001b[0;39mTrying to register the cmap 'sauron' which already exists.\u001b[0m \u001b[0;36m(UserWarning)\u001b[0m\n",
      "\u001b[1;33m[WARNING]: \u001b[0m\u001b[0;39mTrying to register the cmap 'sauron_r' which already exists.\u001b[0m \u001b[0;36m(UserWarning)\u001b[0m\n"
     ]
    },
    {
     "name": "stdout",
     "output_type": "stream",
     "text": [
      "  Kin PA:  46.5  +/-  42.8  (3*sigma error)\n",
      "Velocity Offset: 0.00\n"
     ]
    },
    {
     "name": "stderr",
     "output_type": "stream",
     "text": [
      "\u001b[1;33m[WARNING]: \u001b[0m\u001b[0;39mTrying to register the cmap 'sauron' which already exists.\u001b[0m \u001b[0;36m(UserWarning)\u001b[0m\n",
      "\u001b[1;33m[WARNING]: \u001b[0m\u001b[0;39mTrying to register the cmap 'sauron_r' which already exists.\u001b[0m \u001b[0;36m(UserWarning)\u001b[0m\n",
      "\u001b[1;33m[WARNING]: \u001b[0m\u001b[0;39mTrying to register the cmap 'sauron' which already exists.\u001b[0m \u001b[0;36m(UserWarning)\u001b[0m\n",
      "\u001b[1;33m[WARNING]: \u001b[0m\u001b[0;39mTrying to register the cmap 'sauron_r' which already exists.\u001b[0m \u001b[0;36m(UserWarning)\u001b[0m\n"
     ]
    },
    {
     "name": "stdout",
     "output_type": "stream",
     "text": [
      "  Kin PA: 165.5  +/-   0.5  (3*sigma error)\n",
      "Velocity Offset: 0.00\n"
     ]
    },
    {
     "name": "stderr",
     "output_type": "stream",
     "text": [
      "\u001b[1;33m[WARNING]: \u001b[0m\u001b[0;39mTrying to register the cmap 'sauron' which already exists.\u001b[0m \u001b[0;36m(UserWarning)\u001b[0m\n",
      "\u001b[1;33m[WARNING]: \u001b[0m\u001b[0;39mTrying to register the cmap 'sauron_r' which already exists.\u001b[0m \u001b[0;36m(UserWarning)\u001b[0m\n",
      "\u001b[1;33m[WARNING]: \u001b[0m\u001b[0;39mTrying to register the cmap 'sauron' which already exists.\u001b[0m \u001b[0;36m(UserWarning)\u001b[0m\n",
      "\u001b[1;33m[WARNING]: \u001b[0m\u001b[0;39mTrying to register the cmap 'sauron_r' which already exists.\u001b[0m \u001b[0;36m(UserWarning)\u001b[0m\n"
     ]
    },
    {
     "name": "stdout",
     "output_type": "stream",
     "text": [
      "  Kin PA:  93.5  +/-   7.0  (3*sigma error)\n",
      "Velocity Offset: 0.00\n"
     ]
    },
    {
     "name": "stderr",
     "output_type": "stream",
     "text": [
      "\u001b[1;33m[WARNING]: \u001b[0m\u001b[0;39mTrying to register the cmap 'sauron' which already exists.\u001b[0m \u001b[0;36m(UserWarning)\u001b[0m\n",
      "\u001b[1;33m[WARNING]: \u001b[0m\u001b[0;39mTrying to register the cmap 'sauron_r' which already exists.\u001b[0m \u001b[0;36m(UserWarning)\u001b[0m\n",
      "\u001b[1;33m[WARNING]: \u001b[0m\u001b[0;39mTrying to register the cmap 'sauron' which already exists.\u001b[0m \u001b[0;36m(UserWarning)\u001b[0m\n",
      "\u001b[1;33m[WARNING]: \u001b[0m\u001b[0;39mTrying to register the cmap 'sauron_r' which already exists.\u001b[0m \u001b[0;36m(UserWarning)\u001b[0m\n"
     ]
    },
    {
     "name": "stdout",
     "output_type": "stream",
     "text": [
      "  Kin PA:  66.0  +/-   0.5  (3*sigma error)\n",
      "Velocity Offset: 0.00\n"
     ]
    },
    {
     "name": "stderr",
     "output_type": "stream",
     "text": [
      "\u001b[1;33m[WARNING]: \u001b[0m\u001b[0;39mTrying to register the cmap 'sauron' which already exists.\u001b[0m \u001b[0;36m(UserWarning)\u001b[0m\n",
      "\u001b[1;33m[WARNING]: \u001b[0m\u001b[0;39mTrying to register the cmap 'sauron_r' which already exists.\u001b[0m \u001b[0;36m(UserWarning)\u001b[0m\n",
      "\u001b[1;33m[WARNING]: \u001b[0m\u001b[0;39mTrying to register the cmap 'sauron' which already exists.\u001b[0m \u001b[0;36m(UserWarning)\u001b[0m\n",
      "\u001b[1;33m[WARNING]: \u001b[0m\u001b[0;39mTrying to register the cmap 'sauron_r' which already exists.\u001b[0m \u001b[0;36m(UserWarning)\u001b[0m\n"
     ]
    },
    {
     "name": "stdout",
     "output_type": "stream",
     "text": [
      "  Kin PA:  71.5  +/-   9.0  (3*sigma error)\n",
      "Velocity Offset: 0.00\n"
     ]
    },
    {
     "name": "stderr",
     "output_type": "stream",
     "text": [
      "\u001b[1;33m[WARNING]: \u001b[0m\u001b[0;39mTrying to register the cmap 'sauron' which already exists.\u001b[0m \u001b[0;36m(UserWarning)\u001b[0m\n",
      "\u001b[1;33m[WARNING]: \u001b[0m\u001b[0;39mTrying to register the cmap 'sauron_r' which already exists.\u001b[0m \u001b[0;36m(UserWarning)\u001b[0m\n",
      "\u001b[1;33m[WARNING]: \u001b[0m\u001b[0;39mTrying to register the cmap 'sauron' which already exists.\u001b[0m \u001b[0;36m(UserWarning)\u001b[0m\n",
      "\u001b[1;33m[WARNING]: \u001b[0m\u001b[0;39mTrying to register the cmap 'sauron_r' which already exists.\u001b[0m \u001b[0;36m(UserWarning)\u001b[0m\n"
     ]
    },
    {
     "name": "stdout",
     "output_type": "stream",
     "text": [
      "  Kin PA:   4.5  +/-   0.5  (3*sigma error)\n",
      "Velocity Offset: 0.00\n"
     ]
    },
    {
     "name": "stderr",
     "output_type": "stream",
     "text": [
      "\u001b[1;33m[WARNING]: \u001b[0m\u001b[0;39mTrying to register the cmap 'sauron' which already exists.\u001b[0m \u001b[0;36m(UserWarning)\u001b[0m\n",
      "\u001b[1;33m[WARNING]: \u001b[0m\u001b[0;39mTrying to register the cmap 'sauron_r' which already exists.\u001b[0m \u001b[0;36m(UserWarning)\u001b[0m\n",
      "\u001b[1;33m[WARNING]: \u001b[0m\u001b[0;39mTrying to register the cmap 'sauron' which already exists.\u001b[0m \u001b[0;36m(UserWarning)\u001b[0m\n",
      "\u001b[1;33m[WARNING]: \u001b[0m\u001b[0;39mTrying to register the cmap 'sauron_r' which already exists.\u001b[0m \u001b[0;36m(UserWarning)\u001b[0m\n"
     ]
    },
    {
     "name": "stdout",
     "output_type": "stream",
     "text": [
      "  Kin PA: 118.5  +/-   1.0  (3*sigma error)\n",
      "Velocity Offset: 0.00\n"
     ]
    },
    {
     "name": "stderr",
     "output_type": "stream",
     "text": [
      "\u001b[1;33m[WARNING]: \u001b[0m\u001b[0;39mTrying to register the cmap 'sauron' which already exists.\u001b[0m \u001b[0;36m(UserWarning)\u001b[0m\n",
      "\u001b[1;33m[WARNING]: \u001b[0m\u001b[0;39mTrying to register the cmap 'sauron_r' which already exists.\u001b[0m \u001b[0;36m(UserWarning)\u001b[0m\n",
      "\u001b[1;33m[WARNING]: \u001b[0m\u001b[0;39mTrying to register the cmap 'sauron' which already exists.\u001b[0m \u001b[0;36m(UserWarning)\u001b[0m\n",
      "\u001b[1;33m[WARNING]: \u001b[0m\u001b[0;39mTrying to register the cmap 'sauron_r' which already exists.\u001b[0m \u001b[0;36m(UserWarning)\u001b[0m\n"
     ]
    },
    {
     "name": "stdout",
     "output_type": "stream",
     "text": [
      "  Kin PA: 136.0  +/-   0.5  (3*sigma error)\n",
      "Velocity Offset: 0.00\n"
     ]
    },
    {
     "name": "stderr",
     "output_type": "stream",
     "text": [
      "\u001b[1;33m[WARNING]: \u001b[0m\u001b[0;39mTrying to register the cmap 'sauron' which already exists.\u001b[0m \u001b[0;36m(UserWarning)\u001b[0m\n",
      "\u001b[1;33m[WARNING]: \u001b[0m\u001b[0;39mTrying to register the cmap 'sauron_r' which already exists.\u001b[0m \u001b[0;36m(UserWarning)\u001b[0m\n",
      "\u001b[1;33m[WARNING]: \u001b[0m\u001b[0;39mTrying to register the cmap 'sauron' which already exists.\u001b[0m \u001b[0;36m(UserWarning)\u001b[0m\n",
      "\u001b[1;33m[WARNING]: \u001b[0m\u001b[0;39mTrying to register the cmap 'sauron_r' which already exists.\u001b[0m \u001b[0;36m(UserWarning)\u001b[0m\n"
     ]
    },
    {
     "name": "stdout",
     "output_type": "stream",
     "text": [
      "  Kin PA: 115.0  +/-   4.8  (3*sigma error)\n",
      "Velocity Offset: 0.00\n"
     ]
    },
    {
     "name": "stderr",
     "output_type": "stream",
     "text": [
      "\u001b[1;33m[WARNING]: \u001b[0m\u001b[0;39mTrying to register the cmap 'sauron' which already exists.\u001b[0m \u001b[0;36m(UserWarning)\u001b[0m\n",
      "\u001b[1;33m[WARNING]: \u001b[0m\u001b[0;39mTrying to register the cmap 'sauron_r' which already exists.\u001b[0m \u001b[0;36m(UserWarning)\u001b[0m\n",
      "\u001b[1;33m[WARNING]: \u001b[0m\u001b[0;39mTrying to register the cmap 'sauron' which already exists.\u001b[0m \u001b[0;36m(UserWarning)\u001b[0m\n",
      "\u001b[1;33m[WARNING]: \u001b[0m\u001b[0;39mTrying to register the cmap 'sauron_r' which already exists.\u001b[0m \u001b[0;36m(UserWarning)\u001b[0m\n"
     ]
    },
    {
     "name": "stdout",
     "output_type": "stream",
     "text": [
      "  Kin PA:   7.0  +/-   0.5  (3*sigma error)\n",
      "Velocity Offset: 0.00\n"
     ]
    },
    {
     "name": "stderr",
     "output_type": "stream",
     "text": [
      "\u001b[1;33m[WARNING]: \u001b[0m\u001b[0;39mTrying to register the cmap 'sauron' which already exists.\u001b[0m \u001b[0;36m(UserWarning)\u001b[0m\n",
      "\u001b[1;33m[WARNING]: \u001b[0m\u001b[0;39mTrying to register the cmap 'sauron_r' which already exists.\u001b[0m \u001b[0;36m(UserWarning)\u001b[0m\n",
      "\u001b[1;33m[WARNING]: \u001b[0m\u001b[0;39mTrying to register the cmap 'sauron' which already exists.\u001b[0m \u001b[0;36m(UserWarning)\u001b[0m\n",
      "\u001b[1;33m[WARNING]: \u001b[0m\u001b[0;39mTrying to register the cmap 'sauron_r' which already exists.\u001b[0m \u001b[0;36m(UserWarning)\u001b[0m\n"
     ]
    },
    {
     "name": "stdout",
     "output_type": "stream",
     "text": [
      "  Kin PA: 103.0  +/-   4.0  (3*sigma error)\n",
      "Velocity Offset: 0.00\n"
     ]
    },
    {
     "name": "stderr",
     "output_type": "stream",
     "text": [
      "\u001b[1;33m[WARNING]: \u001b[0m\u001b[0;39mTrying to register the cmap 'sauron' which already exists.\u001b[0m \u001b[0;36m(UserWarning)\u001b[0m\n",
      "\u001b[1;33m[WARNING]: \u001b[0m\u001b[0;39mTrying to register the cmap 'sauron_r' which already exists.\u001b[0m \u001b[0;36m(UserWarning)\u001b[0m\n",
      "\u001b[1;33m[WARNING]: \u001b[0m\u001b[0;39mTrying to register the cmap 'sauron' which already exists.\u001b[0m \u001b[0;36m(UserWarning)\u001b[0m\n",
      "\u001b[1;33m[WARNING]: \u001b[0m\u001b[0;39mTrying to register the cmap 'sauron_r' which already exists.\u001b[0m \u001b[0;36m(UserWarning)\u001b[0m\n"
     ]
    },
    {
     "name": "stdout",
     "output_type": "stream",
     "text": [
      "  Kin PA:  62.5  +/-   6.2  (3*sigma error)\n",
      "Velocity Offset: 0.00\n"
     ]
    },
    {
     "name": "stderr",
     "output_type": "stream",
     "text": [
      "\u001b[1;33m[WARNING]: \u001b[0m\u001b[0;39mTrying to register the cmap 'sauron' which already exists.\u001b[0m \u001b[0;36m(UserWarning)\u001b[0m\n",
      "\u001b[1;33m[WARNING]: \u001b[0m\u001b[0;39mTrying to register the cmap 'sauron_r' which already exists.\u001b[0m \u001b[0;36m(UserWarning)\u001b[0m\n",
      "\u001b[1;33m[WARNING]: \u001b[0m\u001b[0;39mTrying to register the cmap 'sauron' which already exists.\u001b[0m \u001b[0;36m(UserWarning)\u001b[0m\n",
      "\u001b[1;33m[WARNING]: \u001b[0m\u001b[0;39mTrying to register the cmap 'sauron_r' which already exists.\u001b[0m \u001b[0;36m(UserWarning)\u001b[0m\n"
     ]
    },
    {
     "name": "stdout",
     "output_type": "stream",
     "text": [
      "  Kin PA:  62.5  +/-   7.2  (3*sigma error)\n",
      "Velocity Offset: 0.00\n"
     ]
    },
    {
     "name": "stderr",
     "output_type": "stream",
     "text": [
      "\u001b[1;33m[WARNING]: \u001b[0m\u001b[0;39mTrying to register the cmap 'sauron' which already exists.\u001b[0m \u001b[0;36m(UserWarning)\u001b[0m\n",
      "\u001b[1;33m[WARNING]: \u001b[0m\u001b[0;39mTrying to register the cmap 'sauron_r' which already exists.\u001b[0m \u001b[0;36m(UserWarning)\u001b[0m\n",
      "\u001b[1;33m[WARNING]: \u001b[0m\u001b[0;39mTrying to register the cmap 'sauron' which already exists.\u001b[0m \u001b[0;36m(UserWarning)\u001b[0m\n",
      "\u001b[1;33m[WARNING]: \u001b[0m\u001b[0;39mTrying to register the cmap 'sauron_r' which already exists.\u001b[0m \u001b[0;36m(UserWarning)\u001b[0m\n"
     ]
    },
    {
     "name": "stdout",
     "output_type": "stream",
     "text": [
      "  Kin PA: 118.0  +/-   0.5  (3*sigma error)\n",
      "Velocity Offset: 0.00\n"
     ]
    },
    {
     "name": "stderr",
     "output_type": "stream",
     "text": [
      "\u001b[1;33m[WARNING]: \u001b[0m\u001b[0;39mTrying to register the cmap 'sauron' which already exists.\u001b[0m \u001b[0;36m(UserWarning)\u001b[0m\n",
      "\u001b[1;33m[WARNING]: \u001b[0m\u001b[0;39mTrying to register the cmap 'sauron_r' which already exists.\u001b[0m \u001b[0;36m(UserWarning)\u001b[0m\n",
      "\u001b[1;33m[WARNING]: \u001b[0m\u001b[0;39mTrying to register the cmap 'sauron' which already exists.\u001b[0m \u001b[0;36m(UserWarning)\u001b[0m\n",
      "\u001b[1;33m[WARNING]: \u001b[0m\u001b[0;39mTrying to register the cmap 'sauron_r' which already exists.\u001b[0m \u001b[0;36m(UserWarning)\u001b[0m\n"
     ]
    },
    {
     "name": "stdout",
     "output_type": "stream",
     "text": [
      "  Kin PA: 133.5  +/-   5.0  (3*sigma error)\n",
      "Velocity Offset: 0.00\n"
     ]
    },
    {
     "name": "stderr",
     "output_type": "stream",
     "text": [
      "\u001b[1;33m[WARNING]: \u001b[0m\u001b[0;39mTrying to register the cmap 'sauron' which already exists.\u001b[0m \u001b[0;36m(UserWarning)\u001b[0m\n",
      "\u001b[1;33m[WARNING]: \u001b[0m\u001b[0;39mTrying to register the cmap 'sauron_r' which already exists.\u001b[0m \u001b[0;36m(UserWarning)\u001b[0m\n",
      "\u001b[1;33m[WARNING]: \u001b[0m\u001b[0;39mTrying to register the cmap 'sauron' which already exists.\u001b[0m \u001b[0;36m(UserWarning)\u001b[0m\n",
      "\u001b[1;33m[WARNING]: \u001b[0m\u001b[0;39mTrying to register the cmap 'sauron_r' which already exists.\u001b[0m \u001b[0;36m(UserWarning)\u001b[0m\n"
     ]
    },
    {
     "name": "stdout",
     "output_type": "stream",
     "text": [
      "  Kin PA:  10.5  +/-   0.5  (3*sigma error)\n",
      "Velocity Offset: 0.00\n"
     ]
    },
    {
     "name": "stderr",
     "output_type": "stream",
     "text": [
      "\u001b[1;33m[WARNING]: \u001b[0m\u001b[0;39mTrying to register the cmap 'sauron' which already exists.\u001b[0m \u001b[0;36m(UserWarning)\u001b[0m\n",
      "\u001b[1;33m[WARNING]: \u001b[0m\u001b[0;39mTrying to register the cmap 'sauron_r' which already exists.\u001b[0m \u001b[0;36m(UserWarning)\u001b[0m\n",
      "\u001b[1;33m[WARNING]: \u001b[0m\u001b[0;39mTrying to register the cmap 'sauron' which already exists.\u001b[0m \u001b[0;36m(UserWarning)\u001b[0m\n",
      "\u001b[1;33m[WARNING]: \u001b[0m\u001b[0;39mTrying to register the cmap 'sauron_r' which already exists.\u001b[0m \u001b[0;36m(UserWarning)\u001b[0m\n"
     ]
    },
    {
     "name": "stdout",
     "output_type": "stream",
     "text": [
      "  Kin PA: 154.0  +/-  36.0  (3*sigma error)\n",
      "Velocity Offset: 0.00\n"
     ]
    },
    {
     "name": "stderr",
     "output_type": "stream",
     "text": [
      "\u001b[1;33m[WARNING]: \u001b[0m\u001b[0;39mTrying to register the cmap 'sauron' which already exists.\u001b[0m \u001b[0;36m(UserWarning)\u001b[0m\n",
      "\u001b[1;33m[WARNING]: \u001b[0m\u001b[0;39mTrying to register the cmap 'sauron_r' which already exists.\u001b[0m \u001b[0;36m(UserWarning)\u001b[0m\n",
      "\u001b[1;33m[WARNING]: \u001b[0m\u001b[0;39mTrying to register the cmap 'sauron' which already exists.\u001b[0m \u001b[0;36m(UserWarning)\u001b[0m\n",
      "\u001b[1;33m[WARNING]: \u001b[0m\u001b[0;39mTrying to register the cmap 'sauron_r' which already exists.\u001b[0m \u001b[0;36m(UserWarning)\u001b[0m\n"
     ]
    },
    {
     "name": "stdout",
     "output_type": "stream",
     "text": [
      "  Kin PA:  93.5  +/-   0.5  (3*sigma error)\n",
      "Velocity Offset: 0.00\n"
     ]
    },
    {
     "name": "stderr",
     "output_type": "stream",
     "text": [
      "\u001b[1;33m[WARNING]: \u001b[0m\u001b[0;39mTrying to register the cmap 'sauron' which already exists.\u001b[0m \u001b[0;36m(UserWarning)\u001b[0m\n",
      "\u001b[1;33m[WARNING]: \u001b[0m\u001b[0;39mTrying to register the cmap 'sauron_r' which already exists.\u001b[0m \u001b[0;36m(UserWarning)\u001b[0m\n",
      "\u001b[1;33m[WARNING]: \u001b[0m\u001b[0;39mTrying to register the cmap 'sauron' which already exists.\u001b[0m \u001b[0;36m(UserWarning)\u001b[0m\n",
      "\u001b[1;33m[WARNING]: \u001b[0m\u001b[0;39mTrying to register the cmap 'sauron_r' which already exists.\u001b[0m \u001b[0;36m(UserWarning)\u001b[0m\n"
     ]
    },
    {
     "name": "stdout",
     "output_type": "stream",
     "text": [
      "  Kin PA:  85.5  +/-   2.0  (3*sigma error)\n",
      "Velocity Offset: 0.00\n"
     ]
    },
    {
     "name": "stderr",
     "output_type": "stream",
     "text": [
      "\u001b[1;33m[WARNING]: \u001b[0m\u001b[0;39mTrying to register the cmap 'sauron' which already exists.\u001b[0m \u001b[0;36m(UserWarning)\u001b[0m\n",
      "\u001b[1;33m[WARNING]: \u001b[0m\u001b[0;39mTrying to register the cmap 'sauron_r' which already exists.\u001b[0m \u001b[0;36m(UserWarning)\u001b[0m\n",
      "\u001b[1;33m[WARNING]: \u001b[0m\u001b[0;39mTrying to register the cmap 'sauron' which already exists.\u001b[0m \u001b[0;36m(UserWarning)\u001b[0m\n",
      "\u001b[1;33m[WARNING]: \u001b[0m\u001b[0;39mTrying to register the cmap 'sauron_r' which already exists.\u001b[0m \u001b[0;36m(UserWarning)\u001b[0m\n"
     ]
    },
    {
     "name": "stdout",
     "output_type": "stream",
     "text": [
      "  Kin PA:  61.0  +/-   0.5  (3*sigma error)\n",
      "Velocity Offset: 0.00\n"
     ]
    },
    {
     "name": "stderr",
     "output_type": "stream",
     "text": [
      "\u001b[1;33m[WARNING]: \u001b[0m\u001b[0;39mTrying to register the cmap 'sauron' which already exists.\u001b[0m \u001b[0;36m(UserWarning)\u001b[0m\n",
      "\u001b[1;33m[WARNING]: \u001b[0m\u001b[0;39mTrying to register the cmap 'sauron_r' which already exists.\u001b[0m \u001b[0;36m(UserWarning)\u001b[0m\n",
      "\u001b[1;33m[WARNING]: \u001b[0m\u001b[0;39mTrying to register the cmap 'sauron' which already exists.\u001b[0m \u001b[0;36m(UserWarning)\u001b[0m\n",
      "\u001b[1;33m[WARNING]: \u001b[0m\u001b[0;39mTrying to register the cmap 'sauron_r' which already exists.\u001b[0m \u001b[0;36m(UserWarning)\u001b[0m\n"
     ]
    },
    {
     "name": "stdout",
     "output_type": "stream",
     "text": [
      "  Kin PA: 160.5  +/-   5.2  (3*sigma error)\n",
      "Velocity Offset: 0.00\n"
     ]
    },
    {
     "name": "stderr",
     "output_type": "stream",
     "text": [
      "\u001b[1;33m[WARNING]: \u001b[0m\u001b[0;39mTrying to register the cmap 'sauron' which already exists.\u001b[0m \u001b[0;36m(UserWarning)\u001b[0m\n",
      "\u001b[1;33m[WARNING]: \u001b[0m\u001b[0;39mTrying to register the cmap 'sauron_r' which already exists.\u001b[0m \u001b[0;36m(UserWarning)\u001b[0m\n",
      "\u001b[1;33m[WARNING]: \u001b[0m\u001b[0;39mTrying to register the cmap 'sauron' which already exists.\u001b[0m \u001b[0;36m(UserWarning)\u001b[0m\n",
      "\u001b[1;33m[WARNING]: \u001b[0m\u001b[0;39mTrying to register the cmap 'sauron_r' which already exists.\u001b[0m \u001b[0;36m(UserWarning)\u001b[0m\n"
     ]
    },
    {
     "name": "stdout",
     "output_type": "stream",
     "text": [
      "  Kin PA:  61.5  +/-   0.5  (3*sigma error)\n",
      "Velocity Offset: 0.00\n"
     ]
    },
    {
     "name": "stderr",
     "output_type": "stream",
     "text": [
      "\u001b[1;33m[WARNING]: \u001b[0m\u001b[0;39mTrying to register the cmap 'sauron' which already exists.\u001b[0m \u001b[0;36m(UserWarning)\u001b[0m\n",
      "\u001b[1;33m[WARNING]: \u001b[0m\u001b[0;39mTrying to register the cmap 'sauron_r' which already exists.\u001b[0m \u001b[0;36m(UserWarning)\u001b[0m\n",
      "\u001b[1;33m[WARNING]: \u001b[0m\u001b[0;39mTrying to register the cmap 'sauron' which already exists.\u001b[0m \u001b[0;36m(UserWarning)\u001b[0m\n",
      "\u001b[1;33m[WARNING]: \u001b[0m\u001b[0;39mTrying to register the cmap 'sauron_r' which already exists.\u001b[0m \u001b[0;36m(UserWarning)\u001b[0m\n"
     ]
    },
    {
     "name": "stdout",
     "output_type": "stream",
     "text": [
      "  Kin PA: 140.5  +/-  89.8  (3*sigma error)\n",
      "Velocity Offset: 0.00\n"
     ]
    },
    {
     "name": "stderr",
     "output_type": "stream",
     "text": [
      "\u001b[1;33m[WARNING]: \u001b[0m\u001b[0;39mTrying to register the cmap 'sauron' which already exists.\u001b[0m \u001b[0;36m(UserWarning)\u001b[0m\n",
      "\u001b[1;33m[WARNING]: \u001b[0m\u001b[0;39mTrying to register the cmap 'sauron_r' which already exists.\u001b[0m \u001b[0;36m(UserWarning)\u001b[0m\n",
      "\u001b[1;33m[WARNING]: \u001b[0m\u001b[0;39mTrying to register the cmap 'sauron' which already exists.\u001b[0m \u001b[0;36m(UserWarning)\u001b[0m\n",
      "\u001b[1;33m[WARNING]: \u001b[0m\u001b[0;39mTrying to register the cmap 'sauron_r' which already exists.\u001b[0m \u001b[0;36m(UserWarning)\u001b[0m\n"
     ]
    },
    {
     "name": "stdout",
     "output_type": "stream",
     "text": [
      "  Kin PA:  14.0  +/-   0.5  (3*sigma error)\n",
      "Velocity Offset: 0.00\n"
     ]
    },
    {
     "name": "stderr",
     "output_type": "stream",
     "text": [
      "\u001b[1;33m[WARNING]: \u001b[0m\u001b[0;39mTrying to register the cmap 'sauron' which already exists.\u001b[0m \u001b[0;36m(UserWarning)\u001b[0m\n",
      "\u001b[1;33m[WARNING]: \u001b[0m\u001b[0;39mTrying to register the cmap 'sauron_r' which already exists.\u001b[0m \u001b[0;36m(UserWarning)\u001b[0m\n",
      "\u001b[1;33m[WARNING]: \u001b[0m\u001b[0;39mTrying to register the cmap 'sauron' which already exists.\u001b[0m \u001b[0;36m(UserWarning)\u001b[0m\n",
      "\u001b[1;33m[WARNING]: \u001b[0m\u001b[0;39mTrying to register the cmap 'sauron_r' which already exists.\u001b[0m \u001b[0;36m(UserWarning)\u001b[0m\n"
     ]
    },
    {
     "name": "stdout",
     "output_type": "stream",
     "text": [
      "  Kin PA:  91.5  +/-  26.0  (3*sigma error)\n",
      "Velocity Offset: 0.00\n"
     ]
    },
    {
     "name": "stderr",
     "output_type": "stream",
     "text": [
      "\u001b[1;33m[WARNING]: \u001b[0m\u001b[0;39mTrying to register the cmap 'sauron' which already exists.\u001b[0m \u001b[0;36m(UserWarning)\u001b[0m\n",
      "\u001b[1;33m[WARNING]: \u001b[0m\u001b[0;39mTrying to register the cmap 'sauron_r' which already exists.\u001b[0m \u001b[0;36m(UserWarning)\u001b[0m\n",
      "\u001b[1;33m[WARNING]: \u001b[0m\u001b[0;39mTrying to register the cmap 'sauron' which already exists.\u001b[0m \u001b[0;36m(UserWarning)\u001b[0m\n",
      "\u001b[1;33m[WARNING]: \u001b[0m\u001b[0;39mTrying to register the cmap 'sauron_r' which already exists.\u001b[0m \u001b[0;36m(UserWarning)\u001b[0m\n"
     ]
    },
    {
     "name": "stdout",
     "output_type": "stream",
     "text": [
      "  Kin PA:  26.5  +/-   0.5  (3*sigma error)\n",
      "Velocity Offset: 0.00\n"
     ]
    },
    {
     "name": "stderr",
     "output_type": "stream",
     "text": [
      "\u001b[1;33m[WARNING]: \u001b[0m\u001b[0;39mTrying to register the cmap 'sauron' which already exists.\u001b[0m \u001b[0;36m(UserWarning)\u001b[0m\n",
      "\u001b[1;33m[WARNING]: \u001b[0m\u001b[0;39mTrying to register the cmap 'sauron_r' which already exists.\u001b[0m \u001b[0;36m(UserWarning)\u001b[0m\n",
      "\u001b[1;33m[WARNING]: \u001b[0m\u001b[0;39mTrying to register the cmap 'sauron' which already exists.\u001b[0m \u001b[0;36m(UserWarning)\u001b[0m\n",
      "\u001b[1;33m[WARNING]: \u001b[0m\u001b[0;39mTrying to register the cmap 'sauron_r' which already exists.\u001b[0m \u001b[0;36m(UserWarning)\u001b[0m\n"
     ]
    },
    {
     "name": "stdout",
     "output_type": "stream",
     "text": [
      "  Kin PA:  73.5  +/-  12.0  (3*sigma error)\n",
      "Velocity Offset: 0.00\n"
     ]
    },
    {
     "name": "stderr",
     "output_type": "stream",
     "text": [
      "\u001b[1;33m[WARNING]: \u001b[0m\u001b[0;39mTrying to register the cmap 'sauron' which already exists.\u001b[0m \u001b[0;36m(UserWarning)\u001b[0m\n",
      "\u001b[1;33m[WARNING]: \u001b[0m\u001b[0;39mTrying to register the cmap 'sauron_r' which already exists.\u001b[0m \u001b[0;36m(UserWarning)\u001b[0m\n",
      "\u001b[1;33m[WARNING]: \u001b[0m\u001b[0;39mTrying to register the cmap 'sauron' which already exists.\u001b[0m \u001b[0;36m(UserWarning)\u001b[0m\n",
      "\u001b[1;33m[WARNING]: \u001b[0m\u001b[0;39mTrying to register the cmap 'sauron_r' which already exists.\u001b[0m \u001b[0;36m(UserWarning)\u001b[0m\n"
     ]
    },
    {
     "name": "stdout",
     "output_type": "stream",
     "text": [
      "  Kin PA:  76.5  +/-   0.5  (3*sigma error)\n",
      "Velocity Offset: 0.00\n"
     ]
    },
    {
     "name": "stderr",
     "output_type": "stream",
     "text": [
      "\u001b[1;33m[WARNING]: \u001b[0m\u001b[0;39mTrying to register the cmap 'sauron' which already exists.\u001b[0m \u001b[0;36m(UserWarning)\u001b[0m\n",
      "\u001b[1;33m[WARNING]: \u001b[0m\u001b[0;39mTrying to register the cmap 'sauron_r' which already exists.\u001b[0m \u001b[0;36m(UserWarning)\u001b[0m\n",
      "\u001b[1;33m[WARNING]: \u001b[0m\u001b[0;39mTrying to register the cmap 'sauron' which already exists.\u001b[0m \u001b[0;36m(UserWarning)\u001b[0m\n",
      "\u001b[1;33m[WARNING]: \u001b[0m\u001b[0;39mTrying to register the cmap 'sauron_r' which already exists.\u001b[0m \u001b[0;36m(UserWarning)\u001b[0m\n"
     ]
    },
    {
     "name": "stdout",
     "output_type": "stream",
     "text": [
      "  Kin PA:  92.0  +/-   1.8  (3*sigma error)\n",
      "Velocity Offset: 0.00\n"
     ]
    },
    {
     "name": "stderr",
     "output_type": "stream",
     "text": [
      "\u001b[1;33m[WARNING]: \u001b[0m\u001b[0;39mTrying to register the cmap 'sauron' which already exists.\u001b[0m \u001b[0;36m(UserWarning)\u001b[0m\n",
      "\u001b[1;33m[WARNING]: \u001b[0m\u001b[0;39mTrying to register the cmap 'sauron_r' which already exists.\u001b[0m \u001b[0;36m(UserWarning)\u001b[0m\n",
      "\u001b[1;33m[WARNING]: \u001b[0m\u001b[0;39mTrying to register the cmap 'sauron' which already exists.\u001b[0m \u001b[0;36m(UserWarning)\u001b[0m\n",
      "\u001b[1;33m[WARNING]: \u001b[0m\u001b[0;39mTrying to register the cmap 'sauron_r' which already exists.\u001b[0m \u001b[0;36m(UserWarning)\u001b[0m\n"
     ]
    },
    {
     "name": "stdout",
     "output_type": "stream",
     "text": [
      "  Kin PA: 142.0  +/-   1.5  (3*sigma error)\n",
      "Velocity Offset: 0.00\n"
     ]
    },
    {
     "name": "stderr",
     "output_type": "stream",
     "text": [
      "\u001b[1;33m[WARNING]: \u001b[0m\u001b[0;39mTrying to register the cmap 'sauron' which already exists.\u001b[0m \u001b[0;36m(UserWarning)\u001b[0m\n",
      "\u001b[1;33m[WARNING]: \u001b[0m\u001b[0;39mTrying to register the cmap 'sauron_r' which already exists.\u001b[0m \u001b[0;36m(UserWarning)\u001b[0m\n",
      "\u001b[1;33m[WARNING]: \u001b[0m\u001b[0;39mTrying to register the cmap 'sauron' which already exists.\u001b[0m \u001b[0;36m(UserWarning)\u001b[0m\n",
      "\u001b[1;33m[WARNING]: \u001b[0m\u001b[0;39mTrying to register the cmap 'sauron_r' which already exists.\u001b[0m \u001b[0;36m(UserWarning)\u001b[0m\n"
     ]
    },
    {
     "name": "stdout",
     "output_type": "stream",
     "text": [
      "  Kin PA: 156.0  +/-  14.2  (3*sigma error)\n",
      "Velocity Offset: 0.00\n"
     ]
    },
    {
     "name": "stderr",
     "output_type": "stream",
     "text": [
      "\u001b[1;33m[WARNING]: \u001b[0m\u001b[0;39mTrying to register the cmap 'sauron' which already exists.\u001b[0m \u001b[0;36m(UserWarning)\u001b[0m\n",
      "\u001b[1;33m[WARNING]: \u001b[0m\u001b[0;39mTrying to register the cmap 'sauron_r' which already exists.\u001b[0m \u001b[0;36m(UserWarning)\u001b[0m\n",
      "\u001b[1;33m[WARNING]: \u001b[0m\u001b[0;39mTrying to register the cmap 'sauron' which already exists.\u001b[0m \u001b[0;36m(UserWarning)\u001b[0m\n",
      "\u001b[1;33m[WARNING]: \u001b[0m\u001b[0;39mTrying to register the cmap 'sauron_r' which already exists.\u001b[0m \u001b[0;36m(UserWarning)\u001b[0m\n"
     ]
    },
    {
     "name": "stdout",
     "output_type": "stream",
     "text": [
      "  Kin PA: 180.0  +/-   0.5  (3*sigma error)\n",
      "Velocity Offset: 0.00\n"
     ]
    },
    {
     "name": "stderr",
     "output_type": "stream",
     "text": [
      "\u001b[1;33m[WARNING]: \u001b[0m\u001b[0;39mTrying to register the cmap 'sauron' which already exists.\u001b[0m \u001b[0;36m(UserWarning)\u001b[0m\n",
      "\u001b[1;33m[WARNING]: \u001b[0m\u001b[0;39mTrying to register the cmap 'sauron_r' which already exists.\u001b[0m \u001b[0;36m(UserWarning)\u001b[0m\n",
      "\u001b[1;33m[WARNING]: \u001b[0m\u001b[0;39mTrying to register the cmap 'sauron' which already exists.\u001b[0m \u001b[0;36m(UserWarning)\u001b[0m\n",
      "\u001b[1;33m[WARNING]: \u001b[0m\u001b[0;39mTrying to register the cmap 'sauron_r' which already exists.\u001b[0m \u001b[0;36m(UserWarning)\u001b[0m\n"
     ]
    },
    {
     "name": "stdout",
     "output_type": "stream",
     "text": [
      "  Kin PA:   4.0  +/-  75.5  (3*sigma error)\n",
      "Velocity Offset: 0.00\n"
     ]
    },
    {
     "name": "stderr",
     "output_type": "stream",
     "text": [
      "\u001b[1;33m[WARNING]: \u001b[0m\u001b[0;39mTrying to register the cmap 'sauron' which already exists.\u001b[0m \u001b[0;36m(UserWarning)\u001b[0m\n",
      "\u001b[1;33m[WARNING]: \u001b[0m\u001b[0;39mTrying to register the cmap 'sauron_r' which already exists.\u001b[0m \u001b[0;36m(UserWarning)\u001b[0m\n",
      "\u001b[1;33m[WARNING]: \u001b[0m\u001b[0;39mTrying to register the cmap 'sauron' which already exists.\u001b[0m \u001b[0;36m(UserWarning)\u001b[0m\n",
      "\u001b[1;33m[WARNING]: \u001b[0m\u001b[0;39mTrying to register the cmap 'sauron_r' which already exists.\u001b[0m \u001b[0;36m(UserWarning)\u001b[0m\n"
     ]
    },
    {
     "name": "stdout",
     "output_type": "stream",
     "text": [
      "  Kin PA:  94.5  +/-   0.5  (3*sigma error)\n",
      "Velocity Offset: 0.00\n"
     ]
    },
    {
     "name": "stderr",
     "output_type": "stream",
     "text": [
      "\u001b[1;33m[WARNING]: \u001b[0m\u001b[0;39mTrying to register the cmap 'sauron' which already exists.\u001b[0m \u001b[0;36m(UserWarning)\u001b[0m\n",
      "\u001b[1;33m[WARNING]: \u001b[0m\u001b[0;39mTrying to register the cmap 'sauron_r' which already exists.\u001b[0m \u001b[0;36m(UserWarning)\u001b[0m\n",
      "\u001b[1;33m[WARNING]: \u001b[0m\u001b[0;39mTrying to register the cmap 'sauron' which already exists.\u001b[0m \u001b[0;36m(UserWarning)\u001b[0m\n",
      "\u001b[1;33m[WARNING]: \u001b[0m\u001b[0;39mTrying to register the cmap 'sauron_r' which already exists.\u001b[0m \u001b[0;36m(UserWarning)\u001b[0m\n"
     ]
    },
    {
     "name": "stdout",
     "output_type": "stream",
     "text": [
      "  Kin PA: 112.5  +/-   6.0  (3*sigma error)\n",
      "Velocity Offset: 0.00\n"
     ]
    },
    {
     "name": "stderr",
     "output_type": "stream",
     "text": [
      "\u001b[1;33m[WARNING]: \u001b[0m\u001b[0;39mTrying to register the cmap 'sauron' which already exists.\u001b[0m \u001b[0;36m(UserWarning)\u001b[0m\n",
      "\u001b[1;33m[WARNING]: \u001b[0m\u001b[0;39mTrying to register the cmap 'sauron_r' which already exists.\u001b[0m \u001b[0;36m(UserWarning)\u001b[0m\n",
      "\u001b[1;33m[WARNING]: \u001b[0m\u001b[0;39mTrying to register the cmap 'sauron' which already exists.\u001b[0m \u001b[0;36m(UserWarning)\u001b[0m\n",
      "\u001b[1;33m[WARNING]: \u001b[0m\u001b[0;39mTrying to register the cmap 'sauron_r' which already exists.\u001b[0m \u001b[0;36m(UserWarning)\u001b[0m\n"
     ]
    },
    {
     "name": "stdout",
     "output_type": "stream",
     "text": [
      "  Kin PA:  43.0  +/-   0.5  (3*sigma error)\n",
      "Velocity Offset: 0.00\n"
     ]
    },
    {
     "name": "stderr",
     "output_type": "stream",
     "text": [
      "\u001b[1;33m[WARNING]: \u001b[0m\u001b[0;39mTrying to register the cmap 'sauron' which already exists.\u001b[0m \u001b[0;36m(UserWarning)\u001b[0m\n",
      "\u001b[1;33m[WARNING]: \u001b[0m\u001b[0;39mTrying to register the cmap 'sauron_r' which already exists.\u001b[0m \u001b[0;36m(UserWarning)\u001b[0m\n",
      "\u001b[1;33m[WARNING]: \u001b[0m\u001b[0;39mTrying to register the cmap 'sauron' which already exists.\u001b[0m \u001b[0;36m(UserWarning)\u001b[0m\n",
      "\u001b[1;33m[WARNING]: \u001b[0m\u001b[0;39mTrying to register the cmap 'sauron_r' which already exists.\u001b[0m \u001b[0;36m(UserWarning)\u001b[0m\n"
     ]
    },
    {
     "name": "stdout",
     "output_type": "stream",
     "text": [
      "  Kin PA: 178.5  +/-  19.0  (3*sigma error)\n",
      "Velocity Offset: 0.00\n"
     ]
    },
    {
     "name": "stderr",
     "output_type": "stream",
     "text": [
      "\u001b[1;33m[WARNING]: \u001b[0m\u001b[0;39mTrying to register the cmap 'sauron' which already exists.\u001b[0m \u001b[0;36m(UserWarning)\u001b[0m\n",
      "\u001b[1;33m[WARNING]: \u001b[0m\u001b[0;39mTrying to register the cmap 'sauron_r' which already exists.\u001b[0m \u001b[0;36m(UserWarning)\u001b[0m\n",
      "\u001b[1;33m[WARNING]: \u001b[0m\u001b[0;39mTrying to register the cmap 'sauron' which already exists.\u001b[0m \u001b[0;36m(UserWarning)\u001b[0m\n",
      "\u001b[1;33m[WARNING]: \u001b[0m\u001b[0;39mTrying to register the cmap 'sauron_r' which already exists.\u001b[0m \u001b[0;36m(UserWarning)\u001b[0m\n"
     ]
    },
    {
     "name": "stdout",
     "output_type": "stream",
     "text": [
      "  Kin PA:  74.0  +/-   0.5  (3*sigma error)\n",
      "Velocity Offset: 0.00\n"
     ]
    },
    {
     "name": "stderr",
     "output_type": "stream",
     "text": [
      "\u001b[1;33m[WARNING]: \u001b[0m\u001b[0;39mTrying to register the cmap 'sauron' which already exists.\u001b[0m \u001b[0;36m(UserWarning)\u001b[0m\n",
      "\u001b[1;33m[WARNING]: \u001b[0m\u001b[0;39mTrying to register the cmap 'sauron_r' which already exists.\u001b[0m \u001b[0;36m(UserWarning)\u001b[0m\n",
      "\u001b[1;33m[WARNING]: \u001b[0m\u001b[0;39mTrying to register the cmap 'sauron' which already exists.\u001b[0m \u001b[0;36m(UserWarning)\u001b[0m\n",
      "\u001b[1;33m[WARNING]: \u001b[0m\u001b[0;39mTrying to register the cmap 'sauron_r' which already exists.\u001b[0m \u001b[0;36m(UserWarning)\u001b[0m\n"
     ]
    },
    {
     "name": "stdout",
     "output_type": "stream",
     "text": [
      "  Kin PA:  66.5  +/-   4.2  (3*sigma error)\n",
      "Velocity Offset: 0.00\n"
     ]
    },
    {
     "name": "stderr",
     "output_type": "stream",
     "text": [
      "\u001b[1;33m[WARNING]: \u001b[0m\u001b[0;39mTrying to register the cmap 'sauron' which already exists.\u001b[0m \u001b[0;36m(UserWarning)\u001b[0m\n",
      "\u001b[1;33m[WARNING]: \u001b[0m\u001b[0;39mTrying to register the cmap 'sauron_r' which already exists.\u001b[0m \u001b[0;36m(UserWarning)\u001b[0m\n",
      "\u001b[1;33m[WARNING]: \u001b[0m\u001b[0;39mTrying to register the cmap 'sauron' which already exists.\u001b[0m \u001b[0;36m(UserWarning)\u001b[0m\n",
      "\u001b[1;33m[WARNING]: \u001b[0m\u001b[0;39mTrying to register the cmap 'sauron_r' which already exists.\u001b[0m \u001b[0;36m(UserWarning)\u001b[0m\n"
     ]
    },
    {
     "name": "stdout",
     "output_type": "stream",
     "text": [
      "  Kin PA:  61.0  +/-   0.5  (3*sigma error)\n",
      "Velocity Offset: 0.00\n"
     ]
    },
    {
     "name": "stderr",
     "output_type": "stream",
     "text": [
      "\u001b[1;33m[WARNING]: \u001b[0m\u001b[0;39mTrying to register the cmap 'sauron' which already exists.\u001b[0m \u001b[0;36m(UserWarning)\u001b[0m\n",
      "\u001b[1;33m[WARNING]: \u001b[0m\u001b[0;39mTrying to register the cmap 'sauron_r' which already exists.\u001b[0m \u001b[0;36m(UserWarning)\u001b[0m\n",
      "\u001b[1;33m[WARNING]: \u001b[0m\u001b[0;39mTrying to register the cmap 'sauron' which already exists.\u001b[0m \u001b[0;36m(UserWarning)\u001b[0m\n",
      "\u001b[1;33m[WARNING]: \u001b[0m\u001b[0;39mTrying to register the cmap 'sauron_r' which already exists.\u001b[0m \u001b[0;36m(UserWarning)\u001b[0m\n"
     ]
    },
    {
     "name": "stdout",
     "output_type": "stream",
     "text": [
      "  Kin PA:  24.5  +/-   5.2  (3*sigma error)\n",
      "Velocity Offset: 0.00\n"
     ]
    },
    {
     "name": "stderr",
     "output_type": "stream",
     "text": [
      "\u001b[1;33m[WARNING]: \u001b[0m\u001b[0;39mTrying to register the cmap 'sauron' which already exists.\u001b[0m \u001b[0;36m(UserWarning)\u001b[0m\n",
      "\u001b[1;33m[WARNING]: \u001b[0m\u001b[0;39mTrying to register the cmap 'sauron_r' which already exists.\u001b[0m \u001b[0;36m(UserWarning)\u001b[0m\n",
      "\u001b[1;33m[WARNING]: \u001b[0m\u001b[0;39mTrying to register the cmap 'sauron' which already exists.\u001b[0m \u001b[0;36m(UserWarning)\u001b[0m\n",
      "\u001b[1;33m[WARNING]: \u001b[0m\u001b[0;39mTrying to register the cmap 'sauron_r' which already exists.\u001b[0m \u001b[0;36m(UserWarning)\u001b[0m\n"
     ]
    },
    {
     "name": "stdout",
     "output_type": "stream",
     "text": [
      "  Kin PA:  57.0  +/-   3.8  (3*sigma error)\n",
      "Velocity Offset: 0.00\n"
     ]
    },
    {
     "name": "stderr",
     "output_type": "stream",
     "text": [
      "\u001b[1;33m[WARNING]: \u001b[0m\u001b[0;39mTrying to register the cmap 'sauron' which already exists.\u001b[0m \u001b[0;36m(UserWarning)\u001b[0m\n",
      "\u001b[1;33m[WARNING]: \u001b[0m\u001b[0;39mTrying to register the cmap 'sauron_r' which already exists.\u001b[0m \u001b[0;36m(UserWarning)\u001b[0m\n",
      "\u001b[1;33m[WARNING]: \u001b[0m\u001b[0;39mTrying to register the cmap 'sauron' which already exists.\u001b[0m \u001b[0;36m(UserWarning)\u001b[0m\n",
      "\u001b[1;33m[WARNING]: \u001b[0m\u001b[0;39mTrying to register the cmap 'sauron_r' which already exists.\u001b[0m \u001b[0;36m(UserWarning)\u001b[0m\n"
     ]
    },
    {
     "name": "stdout",
     "output_type": "stream",
     "text": [
      "  Kin PA:  57.0  +/-   4.0  (3*sigma error)\n",
      "Velocity Offset: 0.00\n"
     ]
    },
    {
     "name": "stderr",
     "output_type": "stream",
     "text": [
      "\u001b[1;33m[WARNING]: \u001b[0m\u001b[0;39mTrying to register the cmap 'sauron' which already exists.\u001b[0m \u001b[0;36m(UserWarning)\u001b[0m\n",
      "\u001b[1;33m[WARNING]: \u001b[0m\u001b[0;39mTrying to register the cmap 'sauron_r' which already exists.\u001b[0m \u001b[0;36m(UserWarning)\u001b[0m\n",
      "\u001b[1;33m[WARNING]: \u001b[0m\u001b[0;39mTrying to register the cmap 'sauron' which already exists.\u001b[0m \u001b[0;36m(UserWarning)\u001b[0m\n",
      "\u001b[1;33m[WARNING]: \u001b[0m\u001b[0;39mTrying to register the cmap 'sauron_r' which already exists.\u001b[0m \u001b[0;36m(UserWarning)\u001b[0m\n"
     ]
    },
    {
     "name": "stdout",
     "output_type": "stream",
     "text": [
      "  Kin PA:  87.5  +/-   0.5  (3*sigma error)\n",
      "Velocity Offset: 0.00\n"
     ]
    },
    {
     "name": "stderr",
     "output_type": "stream",
     "text": [
      "\u001b[1;33m[WARNING]: \u001b[0m\u001b[0;39mTrying to register the cmap 'sauron' which already exists.\u001b[0m \u001b[0;36m(UserWarning)\u001b[0m\n",
      "\u001b[1;33m[WARNING]: \u001b[0m\u001b[0;39mTrying to register the cmap 'sauron_r' which already exists.\u001b[0m \u001b[0;36m(UserWarning)\u001b[0m\n",
      "\u001b[1;33m[WARNING]: \u001b[0m\u001b[0;39mTrying to register the cmap 'sauron' which already exists.\u001b[0m \u001b[0;36m(UserWarning)\u001b[0m\n",
      "\u001b[1;33m[WARNING]: \u001b[0m\u001b[0;39mTrying to register the cmap 'sauron_r' which already exists.\u001b[0m \u001b[0;36m(UserWarning)\u001b[0m\n"
     ]
    },
    {
     "name": "stdout",
     "output_type": "stream",
     "text": [
      "  Kin PA: 134.5  +/-   3.5  (3*sigma error)\n",
      "Velocity Offset: 0.00\n"
     ]
    },
    {
     "name": "stderr",
     "output_type": "stream",
     "text": [
      "\u001b[1;33m[WARNING]: \u001b[0m\u001b[0;39mTrying to register the cmap 'sauron' which already exists.\u001b[0m \u001b[0;36m(UserWarning)\u001b[0m\n",
      "\u001b[1;33m[WARNING]: \u001b[0m\u001b[0;39mTrying to register the cmap 'sauron_r' which already exists.\u001b[0m \u001b[0;36m(UserWarning)\u001b[0m\n",
      "\u001b[1;33m[WARNING]: \u001b[0m\u001b[0;39mTrying to register the cmap 'sauron' which already exists.\u001b[0m \u001b[0;36m(UserWarning)\u001b[0m\n",
      "\u001b[1;33m[WARNING]: \u001b[0m\u001b[0;39mTrying to register the cmap 'sauron_r' which already exists.\u001b[0m \u001b[0;36m(UserWarning)\u001b[0m\n"
     ]
    },
    {
     "name": "stdout",
     "output_type": "stream",
     "text": [
      "  Kin PA:  34.0  +/-   0.5  (3*sigma error)\n",
      "Velocity Offset: 0.00\n"
     ]
    },
    {
     "name": "stderr",
     "output_type": "stream",
     "text": [
      "\u001b[1;33m[WARNING]: \u001b[0m\u001b[0;39mTrying to register the cmap 'sauron' which already exists.\u001b[0m \u001b[0;36m(UserWarning)\u001b[0m\n",
      "\u001b[1;33m[WARNING]: \u001b[0m\u001b[0;39mTrying to register the cmap 'sauron_r' which already exists.\u001b[0m \u001b[0;36m(UserWarning)\u001b[0m\n",
      "\u001b[1;33m[WARNING]: \u001b[0m\u001b[0;39mTrying to register the cmap 'sauron' which already exists.\u001b[0m \u001b[0;36m(UserWarning)\u001b[0m\n",
      "\u001b[1;33m[WARNING]: \u001b[0m\u001b[0;39mTrying to register the cmap 'sauron_r' which already exists.\u001b[0m \u001b[0;36m(UserWarning)\u001b[0m\n"
     ]
    },
    {
     "name": "stdout",
     "output_type": "stream",
     "text": [
      "  Kin PA:  94.5  +/-   7.8  (3*sigma error)\n",
      "Velocity Offset: 0.00\n"
     ]
    },
    {
     "name": "stderr",
     "output_type": "stream",
     "text": [
      "\u001b[1;33m[WARNING]: \u001b[0m\u001b[0;39mTrying to register the cmap 'sauron' which already exists.\u001b[0m \u001b[0;36m(UserWarning)\u001b[0m\n",
      "\u001b[1;33m[WARNING]: \u001b[0m\u001b[0;39mTrying to register the cmap 'sauron_r' which already exists.\u001b[0m \u001b[0;36m(UserWarning)\u001b[0m\n",
      "\u001b[1;33m[WARNING]: \u001b[0m\u001b[0;39mTrying to register the cmap 'sauron' which already exists.\u001b[0m \u001b[0;36m(UserWarning)\u001b[0m\n",
      "\u001b[1;33m[WARNING]: \u001b[0m\u001b[0;39mTrying to register the cmap 'sauron_r' which already exists.\u001b[0m \u001b[0;36m(UserWarning)\u001b[0m\n"
     ]
    },
    {
     "name": "stdout",
     "output_type": "stream",
     "text": [
      "  Kin PA:  85.5  +/-   9.8  (3*sigma error)\n",
      "Velocity Offset: 0.00\n"
     ]
    },
    {
     "name": "stderr",
     "output_type": "stream",
     "text": [
      "\u001b[1;33m[WARNING]: \u001b[0m\u001b[0;39mTrying to register the cmap 'sauron' which already exists.\u001b[0m \u001b[0;36m(UserWarning)\u001b[0m\n",
      "\u001b[1;33m[WARNING]: \u001b[0m\u001b[0;39mTrying to register the cmap 'sauron_r' which already exists.\u001b[0m \u001b[0;36m(UserWarning)\u001b[0m\n",
      "\u001b[1;33m[WARNING]: \u001b[0m\u001b[0;39mTrying to register the cmap 'sauron' which already exists.\u001b[0m \u001b[0;36m(UserWarning)\u001b[0m\n",
      "\u001b[1;33m[WARNING]: \u001b[0m\u001b[0;39mTrying to register the cmap 'sauron_r' which already exists.\u001b[0m \u001b[0;36m(UserWarning)\u001b[0m\n"
     ]
    },
    {
     "name": "stdout",
     "output_type": "stream",
     "text": [
      "  Kin PA:  91.5  +/-  10.0  (3*sigma error)\n",
      "Velocity Offset: 0.00\n"
     ]
    },
    {
     "name": "stderr",
     "output_type": "stream",
     "text": [
      "\u001b[1;33m[WARNING]: \u001b[0m\u001b[0;39mTrying to register the cmap 'sauron' which already exists.\u001b[0m \u001b[0;36m(UserWarning)\u001b[0m\n",
      "\u001b[1;33m[WARNING]: \u001b[0m\u001b[0;39mTrying to register the cmap 'sauron_r' which already exists.\u001b[0m \u001b[0;36m(UserWarning)\u001b[0m\n",
      "\u001b[1;33m[WARNING]: \u001b[0m\u001b[0;39mTrying to register the cmap 'sauron' which already exists.\u001b[0m \u001b[0;36m(UserWarning)\u001b[0m\n",
      "\u001b[1;33m[WARNING]: \u001b[0m\u001b[0;39mTrying to register the cmap 'sauron_r' which already exists.\u001b[0m \u001b[0;36m(UserWarning)\u001b[0m\n"
     ]
    },
    {
     "name": "stdout",
     "output_type": "stream",
     "text": [
      "  Kin PA:  75.0  +/-   0.5  (3*sigma error)\n",
      "Velocity Offset: 0.00\n"
     ]
    },
    {
     "name": "stderr",
     "output_type": "stream",
     "text": [
      "\u001b[1;33m[WARNING]: \u001b[0m\u001b[0;39mTrying to register the cmap 'sauron' which already exists.\u001b[0m \u001b[0;36m(UserWarning)\u001b[0m\n",
      "\u001b[1;33m[WARNING]: \u001b[0m\u001b[0;39mTrying to register the cmap 'sauron_r' which already exists.\u001b[0m \u001b[0;36m(UserWarning)\u001b[0m\n",
      "\u001b[1;33m[WARNING]: \u001b[0m\u001b[0;39mTrying to register the cmap 'sauron' which already exists.\u001b[0m \u001b[0;36m(UserWarning)\u001b[0m\n",
      "\u001b[1;33m[WARNING]: \u001b[0m\u001b[0;39mTrying to register the cmap 'sauron_r' which already exists.\u001b[0m \u001b[0;36m(UserWarning)\u001b[0m\n"
     ]
    },
    {
     "name": "stdout",
     "output_type": "stream",
     "text": [
      "  Kin PA:  41.5  +/-   0.5  (3*sigma error)\n",
      "Velocity Offset: 0.00\n"
     ]
    },
    {
     "name": "stderr",
     "output_type": "stream",
     "text": [
      "\u001b[1;33m[WARNING]: \u001b[0m\u001b[0;39mTrying to register the cmap 'sauron' which already exists.\u001b[0m \u001b[0;36m(UserWarning)\u001b[0m\n",
      "\u001b[1;33m[WARNING]: \u001b[0m\u001b[0;39mTrying to register the cmap 'sauron_r' which already exists.\u001b[0m \u001b[0;36m(UserWarning)\u001b[0m\n",
      "\u001b[1;33m[WARNING]: \u001b[0m\u001b[0;39mTrying to register the cmap 'sauron' which already exists.\u001b[0m \u001b[0;36m(UserWarning)\u001b[0m\n",
      "\u001b[1;33m[WARNING]: \u001b[0m\u001b[0;39mTrying to register the cmap 'sauron_r' which already exists.\u001b[0m \u001b[0;36m(UserWarning)\u001b[0m\n"
     ]
    },
    {
     "name": "stdout",
     "output_type": "stream",
     "text": [
      "  Kin PA:  61.0  +/-   0.5  (3*sigma error)\n",
      "Velocity Offset: 0.00\n"
     ]
    },
    {
     "name": "stderr",
     "output_type": "stream",
     "text": [
      "\u001b[1;33m[WARNING]: \u001b[0m\u001b[0;39mTrying to register the cmap 'sauron' which already exists.\u001b[0m \u001b[0;36m(UserWarning)\u001b[0m\n",
      "\u001b[1;33m[WARNING]: \u001b[0m\u001b[0;39mTrying to register the cmap 'sauron_r' which already exists.\u001b[0m \u001b[0;36m(UserWarning)\u001b[0m\n",
      "\u001b[1;33m[WARNING]: \u001b[0m\u001b[0;39mTrying to register the cmap 'sauron' which already exists.\u001b[0m \u001b[0;36m(UserWarning)\u001b[0m\n",
      "\u001b[1;33m[WARNING]: \u001b[0m\u001b[0;39mTrying to register the cmap 'sauron_r' which already exists.\u001b[0m \u001b[0;36m(UserWarning)\u001b[0m\n"
     ]
    },
    {
     "name": "stdout",
     "output_type": "stream",
     "text": [
      "  Kin PA:  95.5  +/-   0.5  (3*sigma error)\n",
      "Velocity Offset: 0.00\n"
     ]
    },
    {
     "name": "stderr",
     "output_type": "stream",
     "text": [
      "\u001b[1;33m[WARNING]: \u001b[0m\u001b[0;39mTrying to register the cmap 'sauron' which already exists.\u001b[0m \u001b[0;36m(UserWarning)\u001b[0m\n",
      "\u001b[1;33m[WARNING]: \u001b[0m\u001b[0;39mTrying to register the cmap 'sauron_r' which already exists.\u001b[0m \u001b[0;36m(UserWarning)\u001b[0m\n",
      "\u001b[1;33m[WARNING]: \u001b[0m\u001b[0;39mTrying to register the cmap 'sauron' which already exists.\u001b[0m \u001b[0;36m(UserWarning)\u001b[0m\n",
      "\u001b[1;33m[WARNING]: \u001b[0m\u001b[0;39mTrying to register the cmap 'sauron_r' which already exists.\u001b[0m \u001b[0;36m(UserWarning)\u001b[0m\n"
     ]
    },
    {
     "name": "stdout",
     "output_type": "stream",
     "text": [
      "  Kin PA: 169.5  +/-   0.5  (3*sigma error)\n",
      "Velocity Offset: 0.00\n"
     ]
    },
    {
     "name": "stderr",
     "output_type": "stream",
     "text": [
      "\u001b[1;33m[WARNING]: \u001b[0m\u001b[0;39mTrying to register the cmap 'sauron' which already exists.\u001b[0m \u001b[0;36m(UserWarning)\u001b[0m\n",
      "\u001b[1;33m[WARNING]: \u001b[0m\u001b[0;39mTrying to register the cmap 'sauron_r' which already exists.\u001b[0m \u001b[0;36m(UserWarning)\u001b[0m\n",
      "\u001b[1;33m[WARNING]: \u001b[0m\u001b[0;39mTrying to register the cmap 'sauron' which already exists.\u001b[0m \u001b[0;36m(UserWarning)\u001b[0m\n",
      "\u001b[1;33m[WARNING]: \u001b[0m\u001b[0;39mTrying to register the cmap 'sauron_r' which already exists.\u001b[0m \u001b[0;36m(UserWarning)\u001b[0m\n"
     ]
    },
    {
     "name": "stdout",
     "output_type": "stream",
     "text": [
      "  Kin PA:  60.5  +/-   1.8  (3*sigma error)\n",
      "Velocity Offset: 0.00\n"
     ]
    },
    {
     "name": "stderr",
     "output_type": "stream",
     "text": [
      "\u001b[1;33m[WARNING]: \u001b[0m\u001b[0;39mTrying to register the cmap 'sauron' which already exists.\u001b[0m \u001b[0;36m(UserWarning)\u001b[0m\n",
      "\u001b[1;33m[WARNING]: \u001b[0m\u001b[0;39mTrying to register the cmap 'sauron_r' which already exists.\u001b[0m \u001b[0;36m(UserWarning)\u001b[0m\n",
      "\u001b[1;33m[WARNING]: \u001b[0m\u001b[0;39mTrying to register the cmap 'sauron' which already exists.\u001b[0m \u001b[0;36m(UserWarning)\u001b[0m\n",
      "\u001b[1;33m[WARNING]: \u001b[0m\u001b[0;39mTrying to register the cmap 'sauron_r' which already exists.\u001b[0m \u001b[0;36m(UserWarning)\u001b[0m\n"
     ]
    },
    {
     "name": "stdout",
     "output_type": "stream",
     "text": [
      "  Kin PA: 161.5  +/-   0.5  (3*sigma error)\n",
      "Velocity Offset: 0.00\n"
     ]
    },
    {
     "name": "stderr",
     "output_type": "stream",
     "text": [
      "\u001b[1;33m[WARNING]: \u001b[0m\u001b[0;39mTrying to register the cmap 'sauron' which already exists.\u001b[0m \u001b[0;36m(UserWarning)\u001b[0m\n",
      "\u001b[1;33m[WARNING]: \u001b[0m\u001b[0;39mTrying to register the cmap 'sauron_r' which already exists.\u001b[0m \u001b[0;36m(UserWarning)\u001b[0m\n",
      "\u001b[1;33m[WARNING]: \u001b[0m\u001b[0;39mTrying to register the cmap 'sauron' which already exists.\u001b[0m \u001b[0;36m(UserWarning)\u001b[0m\n",
      "\u001b[1;33m[WARNING]: \u001b[0m\u001b[0;39mTrying to register the cmap 'sauron_r' which already exists.\u001b[0m \u001b[0;36m(UserWarning)\u001b[0m\n"
     ]
    },
    {
     "name": "stdout",
     "output_type": "stream",
     "text": [
      "  Kin PA:  35.0  +/-   5.0  (3*sigma error)\n",
      "Velocity Offset: 0.00\n"
     ]
    },
    {
     "name": "stderr",
     "output_type": "stream",
     "text": [
      "\u001b[1;33m[WARNING]: \u001b[0m\u001b[0;39mTrying to register the cmap 'sauron' which already exists.\u001b[0m \u001b[0;36m(UserWarning)\u001b[0m\n",
      "\u001b[1;33m[WARNING]: \u001b[0m\u001b[0;39mTrying to register the cmap 'sauron_r' which already exists.\u001b[0m \u001b[0;36m(UserWarning)\u001b[0m\n",
      "\u001b[1;33m[WARNING]: \u001b[0m\u001b[0;39mTrying to register the cmap 'sauron' which already exists.\u001b[0m \u001b[0;36m(UserWarning)\u001b[0m\n",
      "\u001b[1;33m[WARNING]: \u001b[0m\u001b[0;39mTrying to register the cmap 'sauron_r' which already exists.\u001b[0m \u001b[0;36m(UserWarning)\u001b[0m\n"
     ]
    },
    {
     "name": "stdout",
     "output_type": "stream",
     "text": [
      "  Kin PA:  95.0  +/-   0.5  (3*sigma error)\n",
      "Velocity Offset: 0.00\n"
     ]
    },
    {
     "name": "stderr",
     "output_type": "stream",
     "text": [
      "\u001b[1;33m[WARNING]: \u001b[0m\u001b[0;39mTrying to register the cmap 'sauron' which already exists.\u001b[0m \u001b[0;36m(UserWarning)\u001b[0m\n",
      "\u001b[1;33m[WARNING]: \u001b[0m\u001b[0;39mTrying to register the cmap 'sauron_r' which already exists.\u001b[0m \u001b[0;36m(UserWarning)\u001b[0m\n",
      "\u001b[1;33m[WARNING]: \u001b[0m\u001b[0;39mTrying to register the cmap 'sauron' which already exists.\u001b[0m \u001b[0;36m(UserWarning)\u001b[0m\n",
      "\u001b[1;33m[WARNING]: \u001b[0m\u001b[0;39mTrying to register the cmap 'sauron_r' which already exists.\u001b[0m \u001b[0;36m(UserWarning)\u001b[0m\n"
     ]
    },
    {
     "name": "stdout",
     "output_type": "stream",
     "text": [
      "  Kin PA:  90.5  +/-   1.5  (3*sigma error)\n",
      "Velocity Offset: 0.00\n"
     ]
    },
    {
     "name": "stderr",
     "output_type": "stream",
     "text": [
      "\u001b[1;33m[WARNING]: \u001b[0m\u001b[0;39mTrying to register the cmap 'sauron' which already exists.\u001b[0m \u001b[0;36m(UserWarning)\u001b[0m\n",
      "\u001b[1;33m[WARNING]: \u001b[0m\u001b[0;39mTrying to register the cmap 'sauron_r' which already exists.\u001b[0m \u001b[0;36m(UserWarning)\u001b[0m\n",
      "\u001b[1;33m[WARNING]: \u001b[0m\u001b[0;39mTrying to register the cmap 'sauron' which already exists.\u001b[0m \u001b[0;36m(UserWarning)\u001b[0m\n",
      "\u001b[1;33m[WARNING]: \u001b[0m\u001b[0;39mTrying to register the cmap 'sauron_r' which already exists.\u001b[0m \u001b[0;36m(UserWarning)\u001b[0m\n"
     ]
    },
    {
     "name": "stdout",
     "output_type": "stream",
     "text": [
      "  Kin PA:  54.0  +/-  36.3  (3*sigma error)\n",
      "Velocity Offset: 0.00\n"
     ]
    },
    {
     "name": "stderr",
     "output_type": "stream",
     "text": [
      "\u001b[1;33m[WARNING]: \u001b[0m\u001b[0;39mTrying to register the cmap 'sauron' which already exists.\u001b[0m \u001b[0;36m(UserWarning)\u001b[0m\n",
      "\u001b[1;33m[WARNING]: \u001b[0m\u001b[0;39mTrying to register the cmap 'sauron_r' which already exists.\u001b[0m \u001b[0;36m(UserWarning)\u001b[0m\n",
      "\u001b[1;33m[WARNING]: \u001b[0m\u001b[0;39mTrying to register the cmap 'sauron' which already exists.\u001b[0m \u001b[0;36m(UserWarning)\u001b[0m\n",
      "\u001b[1;33m[WARNING]: \u001b[0m\u001b[0;39mTrying to register the cmap 'sauron_r' which already exists.\u001b[0m \u001b[0;36m(UserWarning)\u001b[0m\n"
     ]
    },
    {
     "name": "stdout",
     "output_type": "stream",
     "text": [
      "  Kin PA: 152.0  +/-   3.5  (3*sigma error)\n",
      "Velocity Offset: 0.00\n"
     ]
    },
    {
     "name": "stderr",
     "output_type": "stream",
     "text": [
      "\u001b[1;33m[WARNING]: \u001b[0m\u001b[0;39mTrying to register the cmap 'sauron' which already exists.\u001b[0m \u001b[0;36m(UserWarning)\u001b[0m\n",
      "\u001b[1;33m[WARNING]: \u001b[0m\u001b[0;39mTrying to register the cmap 'sauron_r' which already exists.\u001b[0m \u001b[0;36m(UserWarning)\u001b[0m\n",
      "\u001b[1;33m[WARNING]: \u001b[0m\u001b[0;39mTrying to register the cmap 'sauron' which already exists.\u001b[0m \u001b[0;36m(UserWarning)\u001b[0m\n",
      "\u001b[1;33m[WARNING]: \u001b[0m\u001b[0;39mTrying to register the cmap 'sauron_r' which already exists.\u001b[0m \u001b[0;36m(UserWarning)\u001b[0m\n"
     ]
    },
    {
     "name": "stdout",
     "output_type": "stream",
     "text": [
      "  Kin PA: 162.5  +/-   0.5  (3*sigma error)\n",
      "Velocity Offset: 0.00\n"
     ]
    },
    {
     "name": "stderr",
     "output_type": "stream",
     "text": [
      "\u001b[1;33m[WARNING]: \u001b[0m\u001b[0;39mTrying to register the cmap 'sauron' which already exists.\u001b[0m \u001b[0;36m(UserWarning)\u001b[0m\n",
      "\u001b[1;33m[WARNING]: \u001b[0m\u001b[0;39mTrying to register the cmap 'sauron_r' which already exists.\u001b[0m \u001b[0;36m(UserWarning)\u001b[0m\n",
      "\u001b[1;33m[WARNING]: \u001b[0m\u001b[0;39mTrying to register the cmap 'sauron' which already exists.\u001b[0m \u001b[0;36m(UserWarning)\u001b[0m\n",
      "\u001b[1;33m[WARNING]: \u001b[0m\u001b[0;39mTrying to register the cmap 'sauron_r' which already exists.\u001b[0m \u001b[0;36m(UserWarning)\u001b[0m\n"
     ]
    },
    {
     "name": "stdout",
     "output_type": "stream",
     "text": [
      "  Kin PA: 149.0  +/-  17.0  (3*sigma error)\n",
      "Velocity Offset: 0.00\n"
     ]
    },
    {
     "name": "stderr",
     "output_type": "stream",
     "text": [
      "\u001b[1;33m[WARNING]: \u001b[0m\u001b[0;39mTrying to register the cmap 'sauron' which already exists.\u001b[0m \u001b[0;36m(UserWarning)\u001b[0m\n",
      "\u001b[1;33m[WARNING]: \u001b[0m\u001b[0;39mTrying to register the cmap 'sauron_r' which already exists.\u001b[0m \u001b[0;36m(UserWarning)\u001b[0m\n",
      "\u001b[1;33m[WARNING]: \u001b[0m\u001b[0;39mTrying to register the cmap 'sauron' which already exists.\u001b[0m \u001b[0;36m(UserWarning)\u001b[0m\n",
      "\u001b[1;33m[WARNING]: \u001b[0m\u001b[0;39mTrying to register the cmap 'sauron_r' which already exists.\u001b[0m \u001b[0;36m(UserWarning)\u001b[0m\n"
     ]
    },
    {
     "name": "stdout",
     "output_type": "stream",
     "text": [
      "  Kin PA: 119.5  +/-   0.5  (3*sigma error)\n",
      "Velocity Offset: 0.00\n"
     ]
    },
    {
     "name": "stderr",
     "output_type": "stream",
     "text": [
      "\u001b[1;33m[WARNING]: \u001b[0m\u001b[0;39mTrying to register the cmap 'sauron' which already exists.\u001b[0m \u001b[0;36m(UserWarning)\u001b[0m\n",
      "\u001b[1;33m[WARNING]: \u001b[0m\u001b[0;39mTrying to register the cmap 'sauron_r' which already exists.\u001b[0m \u001b[0;36m(UserWarning)\u001b[0m\n",
      "\u001b[1;33m[WARNING]: \u001b[0m\u001b[0;39mTrying to register the cmap 'sauron' which already exists.\u001b[0m \u001b[0;36m(UserWarning)\u001b[0m\n",
      "\u001b[1;33m[WARNING]: \u001b[0m\u001b[0;39mTrying to register the cmap 'sauron_r' which already exists.\u001b[0m \u001b[0;36m(UserWarning)\u001b[0m\n"
     ]
    },
    {
     "name": "stdout",
     "output_type": "stream",
     "text": [
      "  Kin PA: 119.5  +/-  29.8  (3*sigma error)\n",
      "Velocity Offset: 0.00\n"
     ]
    },
    {
     "name": "stderr",
     "output_type": "stream",
     "text": [
      "\u001b[1;33m[WARNING]: \u001b[0m\u001b[0;39mTrying to register the cmap 'sauron' which already exists.\u001b[0m \u001b[0;36m(UserWarning)\u001b[0m\n",
      "\u001b[1;33m[WARNING]: \u001b[0m\u001b[0;39mTrying to register the cmap 'sauron_r' which already exists.\u001b[0m \u001b[0;36m(UserWarning)\u001b[0m\n",
      "\u001b[1;33m[WARNING]: \u001b[0m\u001b[0;39mTrying to register the cmap 'sauron' which already exists.\u001b[0m \u001b[0;36m(UserWarning)\u001b[0m\n",
      "\u001b[1;33m[WARNING]: \u001b[0m\u001b[0;39mTrying to register the cmap 'sauron_r' which already exists.\u001b[0m \u001b[0;36m(UserWarning)\u001b[0m\n"
     ]
    },
    {
     "name": "stdout",
     "output_type": "stream",
     "text": [
      "  Kin PA: 123.5  +/-   0.5  (3*sigma error)\n",
      "Velocity Offset: 0.00\n"
     ]
    },
    {
     "name": "stderr",
     "output_type": "stream",
     "text": [
      "\u001b[1;33m[WARNING]: \u001b[0m\u001b[0;39mTrying to register the cmap 'sauron' which already exists.\u001b[0m \u001b[0;36m(UserWarning)\u001b[0m\n",
      "\u001b[1;33m[WARNING]: \u001b[0m\u001b[0;39mTrying to register the cmap 'sauron_r' which already exists.\u001b[0m \u001b[0;36m(UserWarning)\u001b[0m\n",
      "\u001b[1;33m[WARNING]: \u001b[0m\u001b[0;39mTrying to register the cmap 'sauron' which already exists.\u001b[0m \u001b[0;36m(UserWarning)\u001b[0m\n",
      "\u001b[1;33m[WARNING]: \u001b[0m\u001b[0;39mTrying to register the cmap 'sauron_r' which already exists.\u001b[0m \u001b[0;36m(UserWarning)\u001b[0m\n"
     ]
    },
    {
     "name": "stdout",
     "output_type": "stream",
     "text": [
      "  Kin PA:  67.0  +/-   0.5  (3*sigma error)\n",
      "Velocity Offset: 0.00\n"
     ]
    },
    {
     "name": "stderr",
     "output_type": "stream",
     "text": [
      "\u001b[1;33m[WARNING]: \u001b[0m\u001b[0;39mTrying to register the cmap 'sauron' which already exists.\u001b[0m \u001b[0;36m(UserWarning)\u001b[0m\n",
      "\u001b[1;33m[WARNING]: \u001b[0m\u001b[0;39mTrying to register the cmap 'sauron_r' which already exists.\u001b[0m \u001b[0;36m(UserWarning)\u001b[0m\n",
      "\u001b[1;33m[WARNING]: \u001b[0m\u001b[0;39mTrying to register the cmap 'sauron' which already exists.\u001b[0m \u001b[0;36m(UserWarning)\u001b[0m\n",
      "\u001b[1;33m[WARNING]: \u001b[0m\u001b[0;39mTrying to register the cmap 'sauron_r' which already exists.\u001b[0m \u001b[0;36m(UserWarning)\u001b[0m\n"
     ]
    },
    {
     "name": "stdout",
     "output_type": "stream",
     "text": [
      "  Kin PA:  99.0  +/-   0.5  (3*sigma error)\n",
      "Velocity Offset: 0.00\n"
     ]
    },
    {
     "name": "stderr",
     "output_type": "stream",
     "text": [
      "\u001b[1;33m[WARNING]: \u001b[0m\u001b[0;39mTrying to register the cmap 'sauron' which already exists.\u001b[0m \u001b[0;36m(UserWarning)\u001b[0m\n",
      "\u001b[1;33m[WARNING]: \u001b[0m\u001b[0;39mTrying to register the cmap 'sauron_r' which already exists.\u001b[0m \u001b[0;36m(UserWarning)\u001b[0m\n",
      "\u001b[1;33m[WARNING]: \u001b[0m\u001b[0;39mTrying to register the cmap 'sauron' which already exists.\u001b[0m \u001b[0;36m(UserWarning)\u001b[0m\n",
      "\u001b[1;33m[WARNING]: \u001b[0m\u001b[0;39mTrying to register the cmap 'sauron_r' which already exists.\u001b[0m \u001b[0;36m(UserWarning)\u001b[0m\n"
     ]
    },
    {
     "name": "stdout",
     "output_type": "stream",
     "text": [
      "  Kin PA: 133.5  +/-  14.8  (3*sigma error)\n",
      "Velocity Offset: 0.00\n"
     ]
    },
    {
     "name": "stderr",
     "output_type": "stream",
     "text": [
      "\u001b[1;33m[WARNING]: \u001b[0m\u001b[0;39mTrying to register the cmap 'sauron' which already exists.\u001b[0m \u001b[0;36m(UserWarning)\u001b[0m\n",
      "\u001b[1;33m[WARNING]: \u001b[0m\u001b[0;39mTrying to register the cmap 'sauron_r' which already exists.\u001b[0m \u001b[0;36m(UserWarning)\u001b[0m\n",
      "\u001b[1;33m[WARNING]: \u001b[0m\u001b[0;39mTrying to register the cmap 'sauron' which already exists.\u001b[0m \u001b[0;36m(UserWarning)\u001b[0m\n",
      "\u001b[1;33m[WARNING]: \u001b[0m\u001b[0;39mTrying to register the cmap 'sauron_r' which already exists.\u001b[0m \u001b[0;36m(UserWarning)\u001b[0m\n"
     ]
    },
    {
     "name": "stdout",
     "output_type": "stream",
     "text": [
      "  Kin PA:  98.5  +/-   0.5  (3*sigma error)\n",
      "Velocity Offset: 0.00\n"
     ]
    },
    {
     "name": "stderr",
     "output_type": "stream",
     "text": [
      "\u001b[1;33m[WARNING]: \u001b[0m\u001b[0;39mTrying to register the cmap 'sauron' which already exists.\u001b[0m \u001b[0;36m(UserWarning)\u001b[0m\n",
      "\u001b[1;33m[WARNING]: \u001b[0m\u001b[0;39mTrying to register the cmap 'sauron_r' which already exists.\u001b[0m \u001b[0;36m(UserWarning)\u001b[0m\n",
      "\u001b[1;33m[WARNING]: \u001b[0m\u001b[0;39mTrying to register the cmap 'sauron' which already exists.\u001b[0m \u001b[0;36m(UserWarning)\u001b[0m\n",
      "\u001b[1;33m[WARNING]: \u001b[0m\u001b[0;39mTrying to register the cmap 'sauron_r' which already exists.\u001b[0m \u001b[0;36m(UserWarning)\u001b[0m\n"
     ]
    },
    {
     "name": "stdout",
     "output_type": "stream",
     "text": [
      "  Kin PA:  70.5  +/-  18.8  (3*sigma error)\n",
      "Velocity Offset: 0.00\n"
     ]
    },
    {
     "name": "stderr",
     "output_type": "stream",
     "text": [
      "\u001b[1;33m[WARNING]: \u001b[0m\u001b[0;39mTrying to register the cmap 'sauron' which already exists.\u001b[0m \u001b[0;36m(UserWarning)\u001b[0m\n",
      "\u001b[1;33m[WARNING]: \u001b[0m\u001b[0;39mTrying to register the cmap 'sauron_r' which already exists.\u001b[0m \u001b[0;36m(UserWarning)\u001b[0m\n",
      "\u001b[1;33m[WARNING]: \u001b[0m\u001b[0;39mTrying to register the cmap 'sauron' which already exists.\u001b[0m \u001b[0;36m(UserWarning)\u001b[0m\n",
      "\u001b[1;33m[WARNING]: \u001b[0m\u001b[0;39mTrying to register the cmap 'sauron_r' which already exists.\u001b[0m \u001b[0;36m(UserWarning)\u001b[0m\n"
     ]
    },
    {
     "name": "stdout",
     "output_type": "stream",
     "text": [
      "  Kin PA: 125.0  +/-   0.5  (3*sigma error)\n",
      "Velocity Offset: 0.00\n"
     ]
    },
    {
     "name": "stderr",
     "output_type": "stream",
     "text": [
      "\u001b[1;33m[WARNING]: \u001b[0m\u001b[0;39mTrying to register the cmap 'sauron' which already exists.\u001b[0m \u001b[0;36m(UserWarning)\u001b[0m\n",
      "\u001b[1;33m[WARNING]: \u001b[0m\u001b[0;39mTrying to register the cmap 'sauron_r' which already exists.\u001b[0m \u001b[0;36m(UserWarning)\u001b[0m\n",
      "\u001b[1;33m[WARNING]: \u001b[0m\u001b[0;39mTrying to register the cmap 'sauron' which already exists.\u001b[0m \u001b[0;36m(UserWarning)\u001b[0m\n",
      "\u001b[1;33m[WARNING]: \u001b[0m\u001b[0;39mTrying to register the cmap 'sauron_r' which already exists.\u001b[0m \u001b[0;36m(UserWarning)\u001b[0m\n"
     ]
    },
    {
     "name": "stdout",
     "output_type": "stream",
     "text": [
      "  Kin PA: 139.0  +/-   1.5  (3*sigma error)\n",
      "Velocity Offset: 0.00\n"
     ]
    },
    {
     "name": "stderr",
     "output_type": "stream",
     "text": [
      "\u001b[1;33m[WARNING]: \u001b[0m\u001b[0;39mTrying to register the cmap 'sauron' which already exists.\u001b[0m \u001b[0;36m(UserWarning)\u001b[0m\n",
      "\u001b[1;33m[WARNING]: \u001b[0m\u001b[0;39mTrying to register the cmap 'sauron_r' which already exists.\u001b[0m \u001b[0;36m(UserWarning)\u001b[0m\n",
      "\u001b[1;33m[WARNING]: \u001b[0m\u001b[0;39mTrying to register the cmap 'sauron' which already exists.\u001b[0m \u001b[0;36m(UserWarning)\u001b[0m\n",
      "\u001b[1;33m[WARNING]: \u001b[0m\u001b[0;39mTrying to register the cmap 'sauron_r' which already exists.\u001b[0m \u001b[0;36m(UserWarning)\u001b[0m\n"
     ]
    },
    {
     "name": "stdout",
     "output_type": "stream",
     "text": [
      "  Kin PA:  18.0  +/-   0.8  (3*sigma error)\n",
      "Velocity Offset: 0.00\n"
     ]
    },
    {
     "name": "stderr",
     "output_type": "stream",
     "text": [
      "\u001b[1;33m[WARNING]: \u001b[0m\u001b[0;39mTrying to register the cmap 'sauron' which already exists.\u001b[0m \u001b[0;36m(UserWarning)\u001b[0m\n",
      "\u001b[1;33m[WARNING]: \u001b[0m\u001b[0;39mTrying to register the cmap 'sauron_r' which already exists.\u001b[0m \u001b[0;36m(UserWarning)\u001b[0m\n",
      "\u001b[1;33m[WARNING]: \u001b[0m\u001b[0;39mTrying to register the cmap 'sauron' which already exists.\u001b[0m \u001b[0;36m(UserWarning)\u001b[0m\n",
      "\u001b[1;33m[WARNING]: \u001b[0m\u001b[0;39mTrying to register the cmap 'sauron_r' which already exists.\u001b[0m \u001b[0;36m(UserWarning)\u001b[0m\n"
     ]
    },
    {
     "name": "stdout",
     "output_type": "stream",
     "text": [
      "  Kin PA:  24.5  +/-   5.5  (3*sigma error)\n",
      "Velocity Offset: 0.00\n"
     ]
    },
    {
     "name": "stderr",
     "output_type": "stream",
     "text": [
      "\u001b[1;33m[WARNING]: \u001b[0m\u001b[0;39mTrying to register the cmap 'sauron' which already exists.\u001b[0m \u001b[0;36m(UserWarning)\u001b[0m\n",
      "\u001b[1;33m[WARNING]: \u001b[0m\u001b[0;39mTrying to register the cmap 'sauron_r' which already exists.\u001b[0m \u001b[0;36m(UserWarning)\u001b[0m\n",
      "\u001b[1;33m[WARNING]: \u001b[0m\u001b[0;39mTrying to register the cmap 'sauron' which already exists.\u001b[0m \u001b[0;36m(UserWarning)\u001b[0m\n",
      "\u001b[1;33m[WARNING]: \u001b[0m\u001b[0;39mTrying to register the cmap 'sauron_r' which already exists.\u001b[0m \u001b[0;36m(UserWarning)\u001b[0m\n"
     ]
    },
    {
     "name": "stdout",
     "output_type": "stream",
     "text": [
      "  Kin PA:  70.0  +/-   0.5  (3*sigma error)\n",
      "Velocity Offset: 0.00\n"
     ]
    },
    {
     "name": "stderr",
     "output_type": "stream",
     "text": [
      "\u001b[1;33m[WARNING]: \u001b[0m\u001b[0;39mTrying to register the cmap 'sauron' which already exists.\u001b[0m \u001b[0;36m(UserWarning)\u001b[0m\n",
      "\u001b[1;33m[WARNING]: \u001b[0m\u001b[0;39mTrying to register the cmap 'sauron_r' which already exists.\u001b[0m \u001b[0;36m(UserWarning)\u001b[0m\n",
      "\u001b[1;33m[WARNING]: \u001b[0m\u001b[0;39mTrying to register the cmap 'sauron' which already exists.\u001b[0m \u001b[0;36m(UserWarning)\u001b[0m\n",
      "\u001b[1;33m[WARNING]: \u001b[0m\u001b[0;39mTrying to register the cmap 'sauron_r' which already exists.\u001b[0m \u001b[0;36m(UserWarning)\u001b[0m\n"
     ]
    },
    {
     "name": "stdout",
     "output_type": "stream",
     "text": [
      "  Kin PA: 119.0  +/-  14.5  (3*sigma error)\n",
      "Velocity Offset: 0.00\n"
     ]
    },
    {
     "name": "stderr",
     "output_type": "stream",
     "text": [
      "\u001b[1;33m[WARNING]: \u001b[0m\u001b[0;39mTrying to register the cmap 'sauron' which already exists.\u001b[0m \u001b[0;36m(UserWarning)\u001b[0m\n",
      "\u001b[1;33m[WARNING]: \u001b[0m\u001b[0;39mTrying to register the cmap 'sauron_r' which already exists.\u001b[0m \u001b[0;36m(UserWarning)\u001b[0m\n",
      "\u001b[1;33m[WARNING]: \u001b[0m\u001b[0;39mTrying to register the cmap 'sauron' which already exists.\u001b[0m \u001b[0;36m(UserWarning)\u001b[0m\n",
      "\u001b[1;33m[WARNING]: \u001b[0m\u001b[0;39mTrying to register the cmap 'sauron_r' which already exists.\u001b[0m \u001b[0;36m(UserWarning)\u001b[0m\n"
     ]
    },
    {
     "name": "stdout",
     "output_type": "stream",
     "text": [
      "  Kin PA:  85.5  +/-   0.5  (3*sigma error)\n",
      "Velocity Offset: 0.00\n"
     ]
    },
    {
     "name": "stderr",
     "output_type": "stream",
     "text": [
      "\u001b[1;33m[WARNING]: \u001b[0m\u001b[0;39mTrying to register the cmap 'sauron' which already exists.\u001b[0m \u001b[0;36m(UserWarning)\u001b[0m\n",
      "\u001b[1;33m[WARNING]: \u001b[0m\u001b[0;39mTrying to register the cmap 'sauron_r' which already exists.\u001b[0m \u001b[0;36m(UserWarning)\u001b[0m\n",
      "\u001b[1;33m[WARNING]: \u001b[0m\u001b[0;39mTrying to register the cmap 'sauron' which already exists.\u001b[0m \u001b[0;36m(UserWarning)\u001b[0m\n",
      "\u001b[1;33m[WARNING]: \u001b[0m\u001b[0;39mTrying to register the cmap 'sauron_r' which already exists.\u001b[0m \u001b[0;36m(UserWarning)\u001b[0m\n"
     ]
    },
    {
     "name": "stdout",
     "output_type": "stream",
     "text": [
      "  Kin PA:  32.5  +/-  15.8  (3*sigma error)\n",
      "Velocity Offset: 0.00\n"
     ]
    },
    {
     "name": "stderr",
     "output_type": "stream",
     "text": [
      "\u001b[1;33m[WARNING]: \u001b[0m\u001b[0;39mTrying to register the cmap 'sauron' which already exists.\u001b[0m \u001b[0;36m(UserWarning)\u001b[0m\n",
      "\u001b[1;33m[WARNING]: \u001b[0m\u001b[0;39mTrying to register the cmap 'sauron_r' which already exists.\u001b[0m \u001b[0;36m(UserWarning)\u001b[0m\n",
      "\u001b[1;33m[WARNING]: \u001b[0m\u001b[0;39mTrying to register the cmap 'sauron' which already exists.\u001b[0m \u001b[0;36m(UserWarning)\u001b[0m\n",
      "\u001b[1;33m[WARNING]: \u001b[0m\u001b[0;39mTrying to register the cmap 'sauron_r' which already exists.\u001b[0m \u001b[0;36m(UserWarning)\u001b[0m\n"
     ]
    },
    {
     "name": "stdout",
     "output_type": "stream",
     "text": [
      "  Kin PA:  53.5  +/-   0.5  (3*sigma error)\n",
      "Velocity Offset: 0.00\n"
     ]
    },
    {
     "name": "stderr",
     "output_type": "stream",
     "text": [
      "\u001b[1;33m[WARNING]: \u001b[0m\u001b[0;39mTrying to register the cmap 'sauron' which already exists.\u001b[0m \u001b[0;36m(UserWarning)\u001b[0m\n",
      "\u001b[1;33m[WARNING]: \u001b[0m\u001b[0;39mTrying to register the cmap 'sauron_r' which already exists.\u001b[0m \u001b[0;36m(UserWarning)\u001b[0m\n",
      "\u001b[1;33m[WARNING]: \u001b[0m\u001b[0;39mTrying to register the cmap 'sauron' which already exists.\u001b[0m \u001b[0;36m(UserWarning)\u001b[0m\n",
      "\u001b[1;33m[WARNING]: \u001b[0m\u001b[0;39mTrying to register the cmap 'sauron_r' which already exists.\u001b[0m \u001b[0;36m(UserWarning)\u001b[0m\n"
     ]
    },
    {
     "name": "stdout",
     "output_type": "stream",
     "text": [
      "  Kin PA:  47.0  +/-   7.0  (3*sigma error)\n",
      "Velocity Offset: 0.00\n"
     ]
    },
    {
     "name": "stderr",
     "output_type": "stream",
     "text": [
      "\u001b[1;33m[WARNING]: \u001b[0m\u001b[0;39mTrying to register the cmap 'sauron' which already exists.\u001b[0m \u001b[0;36m(UserWarning)\u001b[0m\n",
      "\u001b[1;33m[WARNING]: \u001b[0m\u001b[0;39mTrying to register the cmap 'sauron_r' which already exists.\u001b[0m \u001b[0;36m(UserWarning)\u001b[0m\n"
     ]
    },
    {
     "data": {
      "image/png": "[encoded data removed]",
      "text/plain": [
       "<Figure size 432x288 with 2 Axes>"
      ]
     },
     "metadata": {
      "needs_background": "light"
     },
     "output_type": "display_data"
    }
   ],
   "source": [
    "df = pd.read_csv('pg_rg.csv')\n",
    "plateifus = df['plateifus']\n",
    "error_target = ['7443-3703', '8993-1901', '8158-3703', '8309-3703', '9025-12702']\n",
    "\n",
    "# counter = 0\n",
    "gas_angBest = []\n",
    "gas_angErr = []\n",
    "stellar_angBest = []\n",
    "stellar_angError = []\n",
    "name = []\n",
    "for plateifu in plateifus:\n",
    "    \n",
    "    if plateifu in error_target:\n",
    "        continue\n",
    "    \n",
    "#     if counter == 1:\n",
    "#         break\n",
    "    \n",
    "#     counter = counter + 1\n",
    "    \n",
    "    name.append(plateifu)\n",
    "    maps = Maps( plateifu = plateifu, mode='local' )\n",
    "\n",
    "    ha_vel  = maps['emline_gvel_ha_6564'].value\n",
    "    nii_vel = maps['emline_gvel_nii_6585'].value\n",
    "    oiii_vel = maps['emline_gvel_oiii_5008'].value\n",
    "    stellar_sigma = maps['stellar_vel'].value\n",
    "    \n",
    "    ionized_gas = (ha_vel + nii_vel) / 2\n",
    "    \n",
    "    x_length, y_length = ionized_gas.shape\n",
    "    x_center = int(x_length / 2)\n",
    "    y_center = int(y_length / 2)\n",
    "\n",
    "    x = []\n",
    "    y = []\n",
    "    for row in range(x_length-1,-1,-1):\n",
    "        for col in range(0, y_length):\n",
    "            x.append(col - y_center)\n",
    "            y.append(row - x_center)\n",
    "\n",
    "    vel = ionized_gas.flatten()\n",
    "    angBest, angError, vSyst = fit_kinematic_pa(x,y,vel)\n",
    "    gas_angBest.append(angBest)\n",
    "    gas_angErr.append(angError)\n",
    "\n",
    "    vel = stellar_sigma.flatten()\n",
    "    angBest, angError, vSyst = fit_kinematic_pa(x,y,vel)  \n",
    "    stellar_angBest.append(angBest)\n",
    "    stellar_angError.append(angError)\n"
   ]
  },
  {
   "cell_type": "code",
   "execution_count": 40,
   "id": "6f876576-d18b-4461-a51d-509a6586f971",
   "metadata": {},
   "outputs": [],
   "source": [
    "delta_pa = ( np.array(gas_angBest) - np.array(stellar_angBest) ).tolist()\n",
    "\n",
    "pa_data = {\"plateifus\": name,\n",
    "        \"gas best angle\": gas_angBest,\n",
    "        \"gas error angle\": gas_angErr,\n",
    "        \"stellar best angle\": stellar_angBest,\n",
    "        \"stellar error angle\": stellar_angError,\n",
    "        \"delta PA\": delta_pa }\n",
    "\n",
    "pa_data_df = pd.DataFrame(pa_data)\n",
    "pa_data_df.to_csv(\"pa.csv\")"
   ]
  },
  {
   "cell_type": "code",
   "execution_count": 34,
   "id": "02398e80-12b4-4eb2-8252-c9fbb914394d",
   "metadata": {},
   "outputs": [
    {
     "name": "stdout",
     "output_type": "stream",
     "text": [
      "149\n",
      "16\n",
      "217\n"
     ]
    }
   ],
   "source": [
    "df = pd.read_csv('pa.csv')\n",
    "plateifus = df['plateifus']\n",
    "delta_PA = df['delta PA']\n",
    "error_target = ['7443-3703', '8993-1901', '8158-3703', '8309-3703', '9025-12702']\n",
    "\n",
    "#delta_PA = np.where( delta_PA < 0, delta_PA + 180, delta_PA )\n",
    "\n",
    "rotate = []\n",
    "counter = []\n",
    "offset = []\n",
    "category = []\n",
    "\n",
    "for degree, plateifu in zip(delta_PA, plateifus):\n",
    "    if np.abs( degree ) < 30:\n",
    "        rotate.append(plateifu)\n",
    "        category.append('co-rotate')\n",
    "    elif np.abs( degree ) > 150:\n",
    "        counter.append(plateifu)\n",
    "        category.append('counter-rotate')\n",
    "    elif np.abs( degree ) >= 30 and np.abs( degree ) <= 150:\n",
    "        offset.append(plateifu)\n",
    "        category.append('offset')\n",
    "        \n",
    "print(len(rotate))\n",
    "print(len(counter))\n",
    "print(len(offset))\n",
    "\n",
    "df['category'] = category\n",
    "df.to_csv('pa.csv')"
   ]
  }
 ],
 "metadata": {
  "kernelspec": {
   "display_name": "Python 3 (ipykernel)",
   "language": "python",
   "name": "python3"
  },
  "language_info": {
   "codemirror_mode": {
    "name": "ipython",
    "version": 3
   },
   "file_extension": ".py",
   "mimetype": "text/x-python",
   "name": "python",
   "nbconvert_exporter": "python",
   "pygments_lexer": "ipython3",
   "version": "3.9.6"
  }
 },
 "nbformat": 4,
 "nbformat_minor": 5
}
