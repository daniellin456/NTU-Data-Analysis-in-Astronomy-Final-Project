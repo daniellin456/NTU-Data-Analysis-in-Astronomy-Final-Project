{
 "cells": [
  {
   "cell_type": "markdown",
   "id": "397d2113-846b-493e-9b2f-5285c21ee94b",
   "metadata": {},
   "source": [
    "#### PA analyze\n",
    "\n",
    "- [Postion Angle Source Code](https://www-astro.physics.ox.ac.uk/~mxc/software/#pafit)"
   ]
  },
  {
   "cell_type": "code",
   "execution_count": 12,
   "id": "60167349-d37e-4bb0-a7d7-7d0e6a316d55",
   "metadata": {},
   "outputs": [],
   "source": [
    "import numpy as np\n",
    "import matplotlib.pyplot as plt\n",
    "import pandas as pd\n",
    "from marvin import config\n",
    "config.setDR('DR16')\n",
    "\n",
    "from marvin.tools.maps import Maps\n",
    "from fit_kinematic_pa import *"
   ]
  },
  {
   "cell_type": "code",
   "execution_count": 8,
   "id": "c3cd2881-32bd-4787-bc00-f27f38a84e13",
   "metadata": {},
   "outputs": [
    {
     "name": "stdout",
     "output_type": "stream",
     "text": [
      "MaNGA-ID 1-113520 GAS PA\n"
     ]
    },
    {
     "name": "stderr",
     "output_type": "stream",
     "text": [
      "\u001b[1;33m[WARNING]: \u001b[0m\u001b[0;39mTrying to register the cmap 'sauron' which already exists.\u001b[0m \u001b[0;36m(UserWarning)\u001b[0m\n",
      "\u001b[1;33m[WARNING]: \u001b[0m\u001b[0;39mTrying to register the cmap 'sauron_r' which already exists.\u001b[0m \u001b[0;36m(UserWarning)\u001b[0m\n"
     ]
    },
    {
     "name": "stdout",
     "output_type": "stream",
     "text": [
      "  Kin PA:   1.5  +/-   3.0  (3*sigma error)\n",
      "Velocity Offset: 0.00\n",
      "MaNGA-ID 1-113520 Stellar PA\n"
     ]
    },
    {
     "name": "stderr",
     "output_type": "stream",
     "text": [
      "\u001b[1;33m[WARNING]: \u001b[0m\u001b[0;39mTrying to register the cmap 'sauron' which already exists.\u001b[0m \u001b[0;36m(UserWarning)\u001b[0m\n",
      "\u001b[1;33m[WARNING]: \u001b[0m\u001b[0;39mTrying to register the cmap 'sauron_r' which already exists.\u001b[0m \u001b[0;36m(UserWarning)\u001b[0m\n",
      "\u001b[1;33m[WARNING]: \u001b[0m\u001b[0;39mTrying to register the cmap 'sauron' which already exists.\u001b[0m \u001b[0;36m(UserWarning)\u001b[0m\n",
      "\u001b[1;33m[WARNING]: \u001b[0m\u001b[0;39mTrying to register the cmap 'sauron_r' which already exists.\u001b[0m \u001b[0;36m(UserWarning)\u001b[0m\n"
     ]
    },
    {
     "name": "stdout",
     "output_type": "stream",
     "text": [
      "  Kin PA:  66.5  +/-  38.2  (3*sigma error)\n",
      "Velocity Offset: 0.00\n",
      "MaNGA-ID 1-38618 GAS PA\n"
     ]
    },
    {
     "name": "stderr",
     "output_type": "stream",
     "text": [
      "\u001b[1;33m[WARNING]: \u001b[0m\u001b[0;39mTrying to register the cmap 'sauron' which already exists.\u001b[0m \u001b[0;36m(UserWarning)\u001b[0m\n",
      "\u001b[1;33m[WARNING]: \u001b[0m\u001b[0;39mTrying to register the cmap 'sauron_r' which already exists.\u001b[0m \u001b[0;36m(UserWarning)\u001b[0m\n",
      "\u001b[1;33m[WARNING]: \u001b[0m\u001b[0;39mTrying to register the cmap 'sauron' which already exists.\u001b[0m \u001b[0;36m(UserWarning)\u001b[0m\n",
      "\u001b[1;33m[WARNING]: \u001b[0m\u001b[0;39mTrying to register the cmap 'sauron_r' which already exists.\u001b[0m \u001b[0;36m(UserWarning)\u001b[0m\n"
     ]
    },
    {
     "name": "stdout",
     "output_type": "stream",
     "text": [
      "  Kin PA: 139.0  +/-  11.0  (3*sigma error)\n",
      "Velocity Offset: 0.00\n",
      "MaNGA-ID 1-38618 Stellar PA\n"
     ]
    },
    {
     "name": "stderr",
     "output_type": "stream",
     "text": [
      "\u001b[1;33m[WARNING]: \u001b[0m\u001b[0;39mTrying to register the cmap 'sauron' which already exists.\u001b[0m \u001b[0;36m(UserWarning)\u001b[0m\n",
      "\u001b[1;33m[WARNING]: \u001b[0m\u001b[0;39mTrying to register the cmap 'sauron_r' which already exists.\u001b[0m \u001b[0;36m(UserWarning)\u001b[0m\n",
      "\u001b[1;33m[WARNING]: \u001b[0m\u001b[0;39mTrying to register the cmap 'sauron' which already exists.\u001b[0m \u001b[0;36m(UserWarning)\u001b[0m\n",
      "\u001b[1;33m[WARNING]: \u001b[0m\u001b[0;39mTrying to register the cmap 'sauron_r' which already exists.\u001b[0m \u001b[0;36m(UserWarning)\u001b[0m\n"
     ]
    },
    {
     "name": "stdout",
     "output_type": "stream",
     "text": [
      "  Kin PA:  43.5  +/-  16.8  (3*sigma error)\n",
      "Velocity Offset: 0.00\n",
      "MaNGA-ID 1-38510 GAS PA\n"
     ]
    },
    {
     "name": "stderr",
     "output_type": "stream",
     "text": [
      "\u001b[1;33m[WARNING]: \u001b[0m\u001b[0;39mTrying to register the cmap 'sauron' which already exists.\u001b[0m \u001b[0;36m(UserWarning)\u001b[0m\n",
      "\u001b[1;33m[WARNING]: \u001b[0m\u001b[0;39mTrying to register the cmap 'sauron_r' which already exists.\u001b[0m \u001b[0;36m(UserWarning)\u001b[0m\n",
      "\u001b[1;33m[WARNING]: \u001b[0m\u001b[0;39mTrying to register the cmap 'sauron' which already exists.\u001b[0m \u001b[0;36m(UserWarning)\u001b[0m\n",
      "\u001b[1;33m[WARNING]: \u001b[0m\u001b[0;39mTrying to register the cmap 'sauron_r' which already exists.\u001b[0m \u001b[0;36m(UserWarning)\u001b[0m\n"
     ]
    },
    {
     "name": "stdout",
     "output_type": "stream",
     "text": [
      "  Kin PA:  18.0  +/-   0.5  (3*sigma error)\n",
      "Velocity Offset: 0.00\n",
      "MaNGA-ID 1-38510 Stellar PA\n"
     ]
    },
    {
     "name": "stderr",
     "output_type": "stream",
     "text": [
      "\u001b[1;33m[WARNING]: \u001b[0m\u001b[0;39mTrying to register the cmap 'sauron' which already exists.\u001b[0m \u001b[0;36m(UserWarning)\u001b[0m\n",
      "\u001b[1;33m[WARNING]: \u001b[0m\u001b[0;39mTrying to register the cmap 'sauron_r' which already exists.\u001b[0m \u001b[0;36m(UserWarning)\u001b[0m\n",
      "\u001b[1;33m[WARNING]: \u001b[0m\u001b[0;39mTrying to register the cmap 'sauron' which already exists.\u001b[0m \u001b[0;36m(UserWarning)\u001b[0m\n",
      "\u001b[1;33m[WARNING]: \u001b[0m\u001b[0;39mTrying to register the cmap 'sauron_r' which already exists.\u001b[0m \u001b[0;36m(UserWarning)\u001b[0m\n"
     ]
    },
    {
     "name": "stdout",
     "output_type": "stream",
     "text": [
      "  Kin PA:  88.0  +/-  10.8  (3*sigma error)\n",
      "Velocity Offset: 0.00\n",
      "MaNGA-ID 1-96154 GAS PA\n"
     ]
    },
    {
     "name": "stderr",
     "output_type": "stream",
     "text": [
      "\u001b[1;33m[WARNING]: \u001b[0m\u001b[0;39mTrying to register the cmap 'sauron' which already exists.\u001b[0m \u001b[0;36m(UserWarning)\u001b[0m\n",
      "\u001b[1;33m[WARNING]: \u001b[0m\u001b[0;39mTrying to register the cmap 'sauron_r' which already exists.\u001b[0m \u001b[0;36m(UserWarning)\u001b[0m\n",
      "\u001b[1;33m[WARNING]: \u001b[0m\u001b[0;39mTrying to register the cmap 'sauron' which already exists.\u001b[0m \u001b[0;36m(UserWarning)\u001b[0m\n",
      "\u001b[1;33m[WARNING]: \u001b[0m\u001b[0;39mTrying to register the cmap 'sauron_r' which already exists.\u001b[0m \u001b[0;36m(UserWarning)\u001b[0m\n"
     ]
    },
    {
     "name": "stdout",
     "output_type": "stream",
     "text": [
      "  Kin PA:  53.5  +/-   0.5  (3*sigma error)\n",
      "Velocity Offset: 0.00\n",
      "MaNGA-ID 1-96154 Stellar PA\n"
     ]
    },
    {
     "name": "stderr",
     "output_type": "stream",
     "text": [
      "\u001b[1;33m[WARNING]: \u001b[0m\u001b[0;39mTrying to register the cmap 'sauron' which already exists.\u001b[0m \u001b[0;36m(UserWarning)\u001b[0m\n",
      "\u001b[1;33m[WARNING]: \u001b[0m\u001b[0;39mTrying to register the cmap 'sauron_r' which already exists.\u001b[0m \u001b[0;36m(UserWarning)\u001b[0m\n",
      "\u001b[1;33m[WARNING]: \u001b[0m\u001b[0;39mTrying to register the cmap 'sauron' which already exists.\u001b[0m \u001b[0;36m(UserWarning)\u001b[0m\n",
      "\u001b[1;33m[WARNING]: \u001b[0m\u001b[0;39mTrying to register the cmap 'sauron_r' which already exists.\u001b[0m \u001b[0;36m(UserWarning)\u001b[0m\n"
     ]
    },
    {
     "name": "stdout",
     "output_type": "stream",
     "text": [
      "  Kin PA:  47.0  +/-   7.0  (3*sigma error)\n",
      "Velocity Offset: 0.00\n"
     ]
    },
    {
     "data": {
      "image/png": "[encoded data removed]",
      "text/plain": [
       "<Figure size 432x288 with 2 Axes>"
      ]
     },
     "metadata": {
      "needs_background": "light"
     },
     "output_type": "display_data"
    }
   ],
   "source": [
    "\n",
    "mangaids = ['1-113520', '1-38618', '1-38510', '1-96154']\n",
    "\n",
    "for mangaid in mangaids:\n",
    "    \n",
    "    maps = Maps(mangaid=mangaid, mode='local')\n",
    "    h_alpha_vel_maps = maps['emline_gvel_ha_6564']\n",
    "    nii_vel_maps = maps['emline_gvel_nii_6585']\n",
    "    stellar_sigma_maps = maps['stellar_vel']\n",
    "\n",
    "    ionized_gas = (h_alpha_vel_maps.value + nii_vel_maps.value)/2\n",
    "    x_length, y_length = ionized_gas.shape\n",
    "    x_center = int(x_length / 2)\n",
    "    y_center = int(y_length / 2)\n",
    "\n",
    "    x = []\n",
    "    y = []\n",
    "    for row in range(x_length-1,-1,-1):\n",
    "        for col in range(0, y_length):\n",
    "            x.append(col - y_center)\n",
    "            y.append(row - x_center)\n",
    "\n",
    "    vel = ionized_gas.flatten()\n",
    "    print('MaNGA-ID', mangaid, 'GAS PA')\n",
    "    fit_kinematic_pa(x,y,vel)\n",
    "\n",
    "    print('MaNGA-ID', mangaid, 'Stellar PA')\n",
    "    vel = stellar_sigma_maps.value.flatten()\n",
    "    fit_kinematic_pa(x,y,vel)"
   ]
  },
  {
   "cell_type": "code",
   "execution_count": null,
   "id": "02398e80-12b4-4eb2-8252-c9fbb914394d",
   "metadata": {},
   "outputs": [],
   "source": []
  }
 ],
 "metadata": {
  "kernelspec": {
   "display_name": "Python 3 (ipykernel)",
   "language": "python",
   "name": "python3"
  },
  "language_info": {
   "codemirror_mode": {
    "name": "ipython",
    "version": 3
   },
   "file_extension": ".py",
   "mimetype": "text/x-python",
   "name": "python",
   "nbconvert_exporter": "python",
   "pygments_lexer": "ipython3",
   "version": "3.9.6"
  }
 },
 "nbformat": 4,
 "nbformat_minor": 5
}
