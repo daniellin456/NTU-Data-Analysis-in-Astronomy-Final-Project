{
 "cells": [
  {
   "cell_type": "markdown",
   "id": "6e59d521-90ad-4f56-ad10-ade0d2bdb074",
   "metadata": {},
   "source": [
    "#### WHAN classification\n",
    "\n",
    "There are 1221 dwarf galaxies in our samples. To identify quenched, low-mass galaxy candidates from our sample of dwarf galaxies. we therefore use the width of $H\\alpha$ vs. $N_{ii}$ line strength diagnostic (WHAN, Cid Fernandes et al. 2011). This allows for the separation of emission due to star formation and AGN, from that originating from hot, evolved stars. The flux ratio between $N_{ii}$ and $H\\alpha$ is used to separate AGN activity from star formation for galaxies with $EWH\\alpha < 3\\mathring{A}$.\n",
    "\n",
    "- Pure star forming galaxies: $log{[N_{ii}]} < -0.4$ and $EWH\\alpha > 3\\mathring{A}$\n",
    "- Strong AGN (i.e., Seyferts): $log{[N_{ii}]} > -0.4$ and $EWH\\alpha > 6\\mathring{A}$\n",
    "- Weak AGN: $log{[N_{ii}]} > -0.4$ and $3\\mathring{A} < EWH\\alpha < 6\\mathring{A}$\n",
    "- Retired galaxies (i.e., fake AGN): $0.5 < EWH\\alpha < 3\\mathring{A}$.\n",
    "- Passive galaxies (actually, line-less galaxies): $EWH\\alpha < 0.5\\mathring{A}$\n",
    "\n",
    "\n",
    "- [SDSS WHAN classification tutorial](https://sdss-marvin.readthedocs.io/en/latest/tutorials/exercises/marvin_whan_solution.html)"
   ]
  },
  {
   "cell_type": "code",
   "execution_count": 3,
   "id": "legislative-springfield",
   "metadata": {},
   "outputs": [],
   "source": [
    "import numpy as np\n",
    "import matplotlib.pyplot as plt\n",
    "import pandas as pd\n",
    "from marvin import config\n",
    "config.setDR('DR16')\n",
    "\n",
    "from marvin.tools.maps import Maps\n",
    "import marvin.utils.plot.map as mapplot"
   ]
  },
  {
   "cell_type": "code",
   "execution_count": 4,
   "id": "505711c0-f533-4d58-8ae7-97d6bc43ff66",
   "metadata": {},
   "outputs": [
    {
     "name": "stdout",
     "output_type": "stream",
     "text": [
      "7443-3703\n",
      "8993-1901\n",
      "8158-3703\n",
      "8309-3703\n",
      "9025-12702\n"
     ]
    }
   ],
   "source": [
    "df = pd.read_csv('marvin_GOOD_table.csv')\n",
    "plateifus = df['plateifu']\n",
    "\n",
    "for i in range( 0, len(plateifus) ):\n",
    "    try:\n",
    "        maps = Maps(plateifu = plateifus[i], mode = 'local')\n",
    "    except:\n",
    "        print( plateifus[i] )\n",
    "        continue\n"
   ]
  }
 ],
 "metadata": {
  "kernelspec": {
   "display_name": "Python 3 (ipykernel)",
   "language": "python",
   "name": "python3"
  },
  "language_info": {
   "codemirror_mode": {
    "name": "ipython",
    "version": 3
   },
   "file_extension": ".py",
   "mimetype": "text/x-python",
   "name": "python",
   "nbconvert_exporter": "python",
   "pygments_lexer": "ipython3",
   "version": "3.9.6"
  }
 },
 "nbformat": 4,
 "nbformat_minor": 5
}
