{
 "cells": [
  {
   "cell_type": "markdown",
   "id": "6e59d521-90ad-4f56-ad10-ade0d2bdb074",
   "metadata": {},
   "source": [
    "#### WHAN classification\n",
    "\n",
    "There are 1221 dwarf galaxies in our samples. To identify quenched, low-mass galaxy candidates from our sample of dwarf galaxies. we therefore use the width of $H\\alpha$ vs. $N_{ii}$ line strength diagnostic (WHAN, Cid Fernandes et al. 2011). This allows for the separation of emission due to star formation and AGN, from that originating from hot, evolved stars. The flux ratio between $N_{ii}$ and $H\\alpha$ is used to separate AGN activity from star formation for galaxies with $EWH\\alpha < 3\\mathring{A}$.\n",
    "\n",
    "- Pure star forming galaxies: $log{[N_{ii}]} < -0.4$ and $EWH\\alpha > 3\\mathring{A}$\n",
    "- Strong AGN (i.e., Seyferts): $log{[N_{ii}]} > -0.4$ and $EWH\\alpha > 6\\mathring{A}$\n",
    "- Weak AGN: $log{[N_{ii}]} > -0.4$ and $3\\mathring{A} < EWH\\alpha < 6\\mathring{A}$\n",
    "- Retired galaxies (i.e., fake AGN): $0.5 < EWH\\alpha < 3\\mathring{A}$.\n",
    "- Passive galaxies (actually, line-less galaxies): $EWH\\alpha < 0.5\\mathring{A}$ or $EWN_{ii} < 0.5$\n",
    "\n",
    "\n",
    "- [SDSS WHAN classification tutorial](https://sdss-marvin.readthedocs.io/en/latest/tutorials/exercises/marvin_whan_solution.html)"
   ]
  },
  {
   "cell_type": "code",
   "execution_count": 28,
   "id": "legislative-springfield",
   "metadata": {},
   "outputs": [],
   "source": [
    "import numpy as np\n",
    "import matplotlib.pyplot as plt\n",
    "import pandas as pd\n",
    "from marvin import config\n",
    "config.setDR('DR16')\n",
    "\n",
    "from marvin.tools.maps import Maps\n",
    "import marvin.utils.plot.map as mapplot"
   ]
  },
  {
   "cell_type": "code",
   "execution_count": 29,
   "id": "505711c0-f533-4d58-8ae7-97d6bc43ff66",
   "metadata": {},
   "outputs": [
    {
     "name": "stdout",
     "output_type": "stream",
     "text": [
      "7443-3703\n",
      "8993-1901\n",
      "8158-3703\n",
      "8309-3703\n",
      "9025-12702\n"
     ]
    }
   ],
   "source": [
    "df = pd.read_csv('marvin_GOOD_table.csv')\n",
    "plateifus = df['plateifu']\n",
    "absmag_r = df['elpetro_absmag_r']\n",
    "logmass = df['elpetro_logmass']\n",
    "error_target = []\n",
    "\n",
    "for i in range( 0, len(plateifus) ):\n",
    "    try:\n",
    "        maps = Maps(plateifu = plateifus[i], mode = 'local')\n",
    "    except:\n",
    "        error_target.append( plateifus[i] )\n",
    "        print( plateifus[i] )\n",
    "        continue"
   ]
  },
  {
   "cell_type": "code",
   "execution_count": 30,
   "id": "2b1d1c2d-d7b8-43b0-9ec1-5c6d2cccc8e4",
   "metadata": {},
   "outputs": [
    {
     "name": "stdout",
     "output_type": "stream",
     "text": [
      "-11.1597023010254\n",
      "-18.9931030273438\n",
      "2.076365e+09\n"
     ]
    }
   ],
   "source": [
    "temp = absmag_r[0]\n",
    "for target in range(1, len(absmag_r)) :\n",
    "    if absmag_r[target] > temp and absmag_r[target] != np.inf:\n",
    "        temp = absmag_r[target]\n",
    "    \n",
    "print(temp)\n",
    "print( np.min(absmag_r) )\n",
    "print( '%e' %(10**np.median(logmass) ) )"
   ]
  },
  {
   "cell_type": "code",
   "execution_count": 61,
   "id": "1dd673fe-8e59-467f-b5e3-3f8403207d67",
   "metadata": {},
   "outputs": [],
   "source": [
    "psf = []  # Pure star forming galaxies\n",
    "sagn = [] # Strong AGN\n",
    "wagn = [] # Weak AGN\n",
    "rg = []   # Retired Galaxies\n",
    "pg = []   # Passive Galaxies\n",
    "x_logniiha = []\n",
    "y_ewha = []\n",
    "def whan_classification( maps ):\n",
    "    \n",
    "    ewha  = np.nanmean( np.where( maps['emline_sew_ha_6564'].value >= 0, maps['emline_sew_ha_6564'].value, np.nan ) )\n",
    "    ewnii = np.nanmean( np.where( maps['emline_sew_nii_6585'].value >= 0, maps['emline_sew_nii_6585'].value, np.nan ) )\n",
    "\n",
    "    nii = np.nanmean( np.where( maps.emline_gflux_nii_6585.value >= 0, maps.emline_gflux_nii_6585.value, np.nan ) )\n",
    "    ha  = np.nanmean( np.where( maps.emline_gflux_ha_6564.value >= 0, maps.emline_gflux_ha_6564.value, np.nan ) )\n",
    "    logniiha = np.log10( nii/ha )\n",
    "    \n",
    "    x_logniiha.append( logniiha )\n",
    "    y_ewha.append( ewha )\n",
    "    \n",
    "    if logniiha < -0.4 and ewha > 3:\n",
    "        psf.append(maps.plateifu)\n",
    "    elif logniiha > -0.4 and ewha > 6:\n",
    "        sagn.append(maps.plateifu)\n",
    "    elif logniiha > -0.4 and ( ewha > 3 and ewha < 6 ) :\n",
    "        wagn.append(maps.plateifu)\n",
    "    elif ewha > 0.5 and ewha < 3:\n",
    "        rg.append(maps.plateifu)\n",
    "    elif ewha < 0.5 or ewnii < 0.5:\n",
    "        pg.append(maps.plateifu)\n",
    "    \n",
    "    return psf, sagn, wagn, rg, pg"
   ]
  },
  {
   "cell_type": "code",
   "execution_count": 62,
   "id": "5df133b7-9043-4d38-8d8f-e5dd0fad7725",
   "metadata": {},
   "outputs": [],
   "source": [
    "for plateifu in plateifus:\n",
    "    if plateifu not in error_target:\n",
    "        maps = Maps( plateifu = plateifu, mode='local' )\n",
    "        psf, sagn, wagn, rg, pg = whan_classification(maps)"
   ]
  },
  {
   "cell_type": "code",
   "execution_count": 63,
   "id": "6befd717-824f-4be6-bde4-fc13010628a9",
   "metadata": {},
   "outputs": [
    {
     "name": "stdout",
     "output_type": "stream",
     "text": [
      "781\n",
      "16\n",
      "42\n",
      "243\n",
      "139\n",
      "1221\n"
     ]
    }
   ],
   "source": [
    "print( len(psf) )\n",
    "print( len(sagn) )\n",
    "print( len(wagn) )\n",
    "print( len(rg) )\n",
    "print( len(pg) )\n",
    "print( len(psf) + len(sagn) + len(wagn) + len(rg) + len(pg) )"
   ]
  },
  {
   "cell_type": "code",
   "execution_count": 64,
   "id": "a32fc6ad-94a1-4a07-a916-5859e17fbe02",
   "metadata": {},
   "outputs": [],
   "source": [
    "for plateifu in plateifus:\n",
    "    if ( plateifu not in error_target and \n",
    "         plateifu not in psf and\n",
    "         plateifu not in sagn and\n",
    "         plateifu not in wagn and\n",
    "         plateifu not in rg and\n",
    "         plateifu not in pg ):\n",
    "        print( plateifu )"
   ]
  },
  {
   "cell_type": "code",
   "execution_count": 85,
   "id": "53823b6b-a6fa-4cc1-bb1e-596b5bed5b0c",
   "metadata": {},
   "outputs": [
    {
     "data": {
      "text/plain": [
       "<matplotlib.collections.PathCollection at 0xffff452fba30>"
      ]
     },
     "execution_count": 85,
     "metadata": {},
     "output_type": "execute_result"
    },
    {
     "data": {
      "image/png": "[encoded data removed]",
      "text/plain": [
       "<Figure size 432x288 with 1 Axes>"
      ]
     },
     "metadata": {
      "needs_background": "light"
     },
     "output_type": "display_data"
    }
   ],
   "source": [
    "plt.scatter(x_logniiha, y_ewha )"
   ]
  },
  {
   "cell_type": "code",
   "execution_count": 95,
   "id": "0d2584f2-54b5-4aa9-9a3a-5e0e98814410",
   "metadata": {},
   "outputs": [
    {
     "data": {
      "text/plain": [
       "<matplotlib.collections.PathCollection at 0xffff4470fd60>"
      ]
     },
     "execution_count": 95,
     "metadata": {},
     "output_type": "execute_result"
    },
    {
     "data": {
      "image/png": "[encoded data removed]",
      "text/plain": [
       "<Figure size 432x288 with 1 Axes>"
      ]
     },
     "metadata": {
      "needs_background": "light"
     },
     "output_type": "display_data"
    }
   ],
   "source": [
    "from matplotlib.ticker import FormatStrFormatter\n",
    "plt.axhline(y=3, color='black', linestyle='--')\n",
    "plt.vlines(x=-0.4, ymin=3, ymax=np.max(y_ewha), color='black', linestyle='--')\n",
    "plt.hlines(y=6, xmin=-0.4, xmax=np.max(x_logniiha), color='black', linestyle='--')\n",
    "\n",
    "plt.yscale('log')\n",
    "plt.xlim(-1.3, 0.6)\n",
    "plt.xticks( [-1.0, -0.5, 0, 0.5] )\n",
    "plt.yticks( [0.05, 0.1, 0.2, 0.5, 0.7, 1, 2, 3, 5, 7, 10, 20, 30, 50, 70, 100, 200, 300])\n",
    "\n",
    "plt.scatter(x_logniiha, y_ewha )"
   ]
  },
  {
   "cell_type": "code",
   "execution_count": null,
   "id": "e6cdcd11-006e-4e97-b273-380c82c96185",
   "metadata": {},
   "outputs": [],
   "source": []
  }
 ],
 "metadata": {
  "kernelspec": {
   "display_name": "Python 3 (ipykernel)",
   "language": "python",
   "name": "python3"
  },
  "language_info": {
   "codemirror_mode": {
    "name": "ipython",
    "version": 3
   },
   "file_extension": ".py",
   "mimetype": "text/x-python",
   "name": "python",
   "nbconvert_exporter": "python",
   "pygments_lexer": "ipython3",
   "version": "3.9.6"
  }
 },
 "nbformat": 4,
 "nbformat_minor": 5
}
