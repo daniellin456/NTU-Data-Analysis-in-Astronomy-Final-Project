{
 "cells": [
  {
   "cell_type": "markdown",
   "id": "969129d4-ce4d-4ba1-ae18-8451b78448ef",
   "metadata": {
    "tags": []
   },
   "source": [
    "### Download.ipynb\n",
    "#### Download\n",
    "\n",
    "This Download.ipynb is intended to read the query result from CSV file and download galaxy MAP file. Because we want to have higher resolution of $H\\alpha$ and $[N_{ii}]\\lambda6583$ emission lines, so we download our MAP files with `HYB10-GAU-MILESHC` parameter.\n",
    "\n",
    "`HYB10-GAU-MILESHC`: The spaxel binning for the stellar-continuum analysis is identical to the VOR10 approach; however, the emission-line and spectral-index measurements are performed on the individual spaxels.(Credit : [SDSS](https://www.sdss.org/dr16/manga/manga-data/data-model/) )\n",
    "\n",
    "Download Result: There are 1226 galaxies meet our criteria and with GOOD quality. However, there are 5 galaxies do not have the MAP file, which are:\n",
    "\n",
    "- 7443-3703\n",
    "- 8993-1901\n",
    "- 8158-3703\n",
    "- 8309-3703\n",
    "- 9025-12702\n",
    "\n",
    "so the final count of our galaxy sample is 1221."
   ]
  },
  {
   "cell_type": "code",
   "execution_count": 1,
   "id": "535ef683-db71-4a52-91b3-1146e2b8b67f",
   "metadata": {},
   "outputs": [
    {
     "name": "stderr",
     "output_type": "stream",
     "text": [
      "\u001b[0;34m[INFO]: \u001b[0mNo release version set. Setting default to DR15\n"
     ]
    }
   ],
   "source": [
    "import pandas as pd\n",
    "from marvin import config\n",
    "config.setDR('DR16')\n",
    "\n",
    "from marvin.utils.general import downloadList\n",
    "from marvin.tools.maps import Maps"
   ]
  },
  {
   "cell_type": "code",
   "execution_count": 3,
   "id": "b26b475c-dc3e-4668-b87c-4ba98bfebe3d",
   "metadata": {},
   "outputs": [
    {
     "name": "stdout",
     "output_type": "stream",
     "text": [
      "There are 5 targets do not have Map.\n"
     ]
    }
   ],
   "source": [
    "df = pd.read_csv('marvin_GOOD_table.csv')\n",
    "plateifus = df['plateifu']\n",
    "downloadSampleList = []\n",
    "errorSampleList = []\n",
    "\n",
    "for i in range( 0, len(plateifus) ):\n",
    "    \n",
    "    inputList = []\n",
    "    inputList.append( plateifus[i] )\n",
    "    \n",
    "    ### Download time ~ 6 hours\n",
    "    try:\n",
    "        #downloadList( inputList, dltype='maps', daptype='HYB10-GAU-MILESHC', test = True, verbose=True)\n",
    "        downloadList( inputList, dltype='maps', daptype='HYB10-GAU-MILESHC', test = True)\n",
    "        downloadSampleList.append( plateifus[i] )\n",
    "    except:\n",
    "        errorSampleList.append( plateifus[i] )\n",
    "        continue\n",
    "\n",
    "print('There are', len(errorSampleList), 'targets do not have Map.')"
   ]
  }
 ],
 "metadata": {
  "kernelspec": {
   "display_name": "Python 3 (ipykernel)",
   "language": "python",
   "name": "python3"
  },
  "language_info": {
   "codemirror_mode": {
    "name": "ipython",
    "version": 3
   },
   "file_extension": ".py",
   "mimetype": "text/x-python",
   "name": "python",
   "nbconvert_exporter": "python",
   "pygments_lexer": "ipython3",
   "version": "3.9.6"
  }
 },
 "nbformat": 4,
 "nbformat_minor": 5
}
