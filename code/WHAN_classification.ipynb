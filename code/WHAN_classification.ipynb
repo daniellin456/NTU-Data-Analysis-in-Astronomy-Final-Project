{
 "cells": [
  {
   "cell_type": "markdown",
   "id": "6e59d521-90ad-4f56-ad10-ade0d2bdb074",
   "metadata": {},
   "source": [
    "#### WHAN classification\n",
    "\n",
    "There are 1221 dwarf galaxies in our samples. To identify quenched, low-mass galaxy candidates from our sample of dwarf galaxies. we therefore use the width of $H\\alpha$ vs. $N_{ii}$ line strength diagnostic (WHAN, Cid Fernandes et al. 2011). This allows for the separation of emission due to star formation and AGN, from that originating from hot, evolved stars. The flux ratio between $N_{ii}$ and $H\\alpha$ is used to separate AGN activity from star formation for galaxies with $EWH\\alpha < 3\\mathring{A}$.\n",
    "\n",
    "- Pure star forming galaxies: $log{[N_{ii}]} < -0.4$ and $EWH\\alpha > 3\\mathring{A}$\n",
    "- Strong AGN (i.e., Seyferts): $log{[N_{ii}]} > -0.4$ and $EWH\\alpha > 6\\mathring{A}$\n",
    "- Weak AGN: $log{[N_{ii}]} > -0.4$ and $3\\mathring{A} < EWH\\alpha < 6\\mathring{A}$\n",
    "- Retired galaxies (i.e., fake AGN): $0.5 < EWH\\alpha < 3\\mathring{A}$.\n",
    "- Passive galaxies (actually, line-less galaxies): $EWH\\alpha < 0.5\\mathring{A}$ or $EWN_{ii} < 0.5$\n",
    "\n",
    "\n",
    "- [SDSS WHAN classification tutorial](https://sdss-marvin.readthedocs.io/en/latest/tutorials/exercises/marvin_whan_solution.html)"
   ]
  },
  {
   "cell_type": "code",
   "execution_count": 1,
   "id": "legislative-springfield",
   "metadata": {},
   "outputs": [
    {
     "name": "stderr",
     "output_type": "stream",
     "text": [
      "\u001b[0;34m[INFO]: \u001b[0mNo release version set. Setting default to DR15\n"
     ]
    }
   ],
   "source": [
    "import numpy as np\n",
    "import matplotlib.pyplot as plt\n",
    "import pandas as pd\n",
    "from marvin import config\n",
    "config.setDR('DR16')\n",
    "\n",
    "from marvin.tools.maps import Maps\n",
    "import marvin.utils.plot.map as mapplot"
   ]
  },
  {
   "cell_type": "code",
   "execution_count": 2,
   "id": "505711c0-f533-4d58-8ae7-97d6bc43ff66",
   "metadata": {},
   "outputs": [],
   "source": [
    "df = pd.read_csv('marvin_GOOD_table.csv')\n",
    "plateifus = df['plateifu']\n",
    "absmag_r = df['elpetro_absmag_r']\n",
    "logmass = df['elpetro_logmass']\n",
    "error_target = ['7443-3703', '8993-1901', '8158-3703', '8309-3703', '9025-12702']\n",
    "\n",
    "# for i in range( 0, len(plateifus) ):\n",
    "#     try:\n",
    "#         maps = Maps(plateifu = plateifus[i], mode = 'local')\n",
    "#     except:\n",
    "#         error_target.append( plateifus[i] )\n",
    "#         print( plateifus[i] )\n",
    "#         continue"
   ]
  },
  {
   "cell_type": "code",
   "execution_count": 3,
   "id": "2b1d1c2d-d7b8-43b0-9ec1-5c6d2cccc8e4",
   "metadata": {},
   "outputs": [
    {
     "name": "stdout",
     "output_type": "stream",
     "text": [
      "-11.1597023010254\n",
      "-18.9931030273438\n",
      "0.6809978512014783\n",
      "-17.804530142178226\n",
      "2.076365e+09\n"
     ]
    }
   ],
   "source": [
    "M_r = []\n",
    "for target in range(1, len(absmag_r)) :\n",
    "    if absmag_r[target] != np.inf:\n",
    "        M_r.append(absmag_r[target])\n",
    "\n",
    "print( np.max(M_r) )\n",
    "print( np.min(M_r) )\n",
    "print( np.std(M_r) )\n",
    "print( np.mean(M_r) )\n",
    "print( '%e' %(10**np.median(logmass) ) )"
   ]
  },
  {
   "cell_type": "code",
   "execution_count": 4,
   "id": "68ac8989-39c7-42c5-b4c6-421bc8b0679b",
   "metadata": {},
   "outputs": [
    {
     "name": "stdout",
     "output_type": "stream",
     "text": [
      "4.26880940660433\n",
      "-0.33473432429502\n",
      "0.4512692129141291\n",
      "1.8008773146731551\n"
     ]
    }
   ],
   "source": [
    "df = pd.read_csv('test.csv')\n",
    "colours = df['nsa.elpetro_mag_u_r']\n",
    "u_r = []\n",
    "\n",
    "for target in range(1, len(colours)) :\n",
    "    if colours[target] != np.inf:\n",
    "        u_r.append(colours[target])\n",
    "\n",
    "print( np.max(u_r) )\n",
    "print( np.min(u_r) )\n",
    "print( np.std(u_r) )\n",
    "print( np.mean(u_r) )"
   ]
  },
  {
   "cell_type": "code",
   "execution_count": 5,
   "id": "1dd673fe-8e59-467f-b5e3-3f8403207d67",
   "metadata": {},
   "outputs": [],
   "source": [
    "psf = []  # Pure star forming galaxies\n",
    "sagn = [] # Strong AGN\n",
    "wagn = [] # Weak AGN\n",
    "rg = []   # Retired Galaxies\n",
    "pg = []   # Passive Galaxies\n",
    "x_logniiha = []\n",
    "y_ewha = []\n",
    "def whan_classification( maps ):\n",
    "    \n",
    "    ewha  = np.nanmean( np.where( maps['emline_sew_ha_6564'].value >= 0, maps['emline_sew_ha_6564'].value, np.nan ) )\n",
    "    ewnii = np.nanmean( np.where( maps['emline_sew_nii_6585'].value >= 0, maps['emline_sew_nii_6585'].value, np.nan ) )\n",
    "\n",
    "    nii = np.nanmean( np.where( maps.emline_gflux_nii_6585.value >= 0, maps.emline_gflux_nii_6585.value, np.nan ) )\n",
    "    ha  = np.nanmean( np.where( maps.emline_gflux_ha_6564.value >= 0, maps.emline_gflux_ha_6564.value, np.nan ) )\n",
    "    logniiha = np.log10( nii/ha )\n",
    "    \n",
    "    x_logniiha.append( logniiha )\n",
    "    y_ewha.append( ewha )\n",
    "    \n",
    "    if logniiha < -0.4 and ewha > 3:\n",
    "        psf.append(maps.plateifu)\n",
    "    elif logniiha > -0.4 and ewha > 6:\n",
    "        sagn.append(maps.plateifu)\n",
    "    elif logniiha > -0.4 and ( ewha > 3 and ewha < 6 ) :\n",
    "        wagn.append(maps.plateifu)\n",
    "    elif ewha > 0.5 and ewha < 3:\n",
    "        rg.append(maps.plateifu)\n",
    "    elif ewha < 0.5 or ewnii < 0.5:\n",
    "        pg.append(maps.plateifu)\n",
    "    \n",
    "    return psf, sagn, wagn, rg, pg"
   ]
  },
  {
   "cell_type": "code",
   "execution_count": 6,
   "id": "5df133b7-9043-4d38-8d8f-e5dd0fad7725",
   "metadata": {},
   "outputs": [],
   "source": [
    "for plateifu in plateifus:\n",
    "    if plateifu not in error_target:\n",
    "        maps = Maps( plateifu = plateifu, mode='local' )\n",
    "        psf, sagn, wagn, rg, pg = whan_classification(maps)"
   ]
  },
  {
   "cell_type": "code",
   "execution_count": 7,
   "id": "6befd717-824f-4be6-bde4-fc13010628a9",
   "metadata": {},
   "outputs": [
    {
     "name": "stdout",
     "output_type": "stream",
     "text": [
      "781\n",
      "16\n",
      "42\n",
      "243\n",
      "139\n",
      "1221\n"
     ]
    }
   ],
   "source": [
    "print( len(psf) )\n",
    "print( len(sagn) )\n",
    "print( len(wagn) )\n",
    "print( len(rg) )\n",
    "print( len(pg) )\n",
    "print( len(psf) + len(sagn) + len(wagn) + len(rg) + len(pg) )"
   ]
  },
  {
   "cell_type": "code",
   "execution_count": 8,
   "id": "a32fc6ad-94a1-4a07-a916-5859e17fbe02",
   "metadata": {},
   "outputs": [],
   "source": [
    "for plateifu in plateifus:\n",
    "    if ( plateifu not in error_target and \n",
    "         plateifu not in psf and\n",
    "         plateifu not in sagn and\n",
    "         plateifu not in wagn and\n",
    "         plateifu not in rg and\n",
    "         plateifu not in pg ):\n",
    "        print( plateifu )"
   ]
  },
  {
   "cell_type": "code",
   "execution_count": 9,
   "id": "53823b6b-a6fa-4cc1-bb1e-596b5bed5b0c",
   "metadata": {},
   "outputs": [
    {
     "data": {
      "text/plain": [
       "<matplotlib.collections.PathCollection at 0xffff676fe880>"
      ]
     },
     "execution_count": 9,
     "metadata": {},
     "output_type": "execute_result"
    },
    {
     "data": {
      "image/png": "[encoded data removed]",
      "text/plain": [
       "<Figure size 432x288 with 1 Axes>"
      ]
     },
     "metadata": {
      "needs_background": "light"
     },
     "output_type": "display_data"
    }
   ],
   "source": [
    "plt.scatter(x_logniiha, y_ewha )"
   ]
  },
  {
   "cell_type": "code",
   "execution_count": 10,
   "id": "0d2584f2-54b5-4aa9-9a3a-5e0e98814410",
   "metadata": {},
   "outputs": [
    {
     "data": {
      "image/png": "[encoded data removed]",
      "text/plain": [
       "<Figure size 576x576 with 1 Axes>"
      ]
     },
     "metadata": {
      "needs_background": "light"
     },
     "output_type": "display_data"
    }
   ],
   "source": [
    "from matplotlib.ticker import FormatStrFormatter\n",
    "plt.figure( figsize=(8,8))\n",
    "plt.axhline(y=3, color='black', linestyle='--')\n",
    "plt.vlines(x=-0.4, ymin=3, ymax=np.max(y_ewha), color='black', linestyle='--')\n",
    "plt.hlines(y=6, xmin=-0.4, xmax=np.max(x_logniiha), color='black', linestyle='--')\n",
    "\n",
    "plt.yscale('log')\n",
    "plt.xlim(-1.3, 0.6)\n",
    "plt.xticks( [-1.0, -0.5, 0, 0.5] )\n",
    "plt.yticks( [0.05, 0.1, 0.2, 0.5, 0.7, 1, 2, 3, 5, 7, 10, 20, 30, 50, 70, 100, 200, 300])\n",
    "\n",
    "plt.scatter(x_logniiha, y_ewha )\n",
    "plt.savefig('WHAN.png', dpi=600)"
   ]
  },
  {
   "cell_type": "code",
   "execution_count": 12,
   "id": "e6cdcd11-006e-4e97-b273-380c82c96185",
   "metadata": {},
   "outputs": [],
   "source": [
    "pg_rg_data = {\"plateifus\": pg + rg}\n",
    "pg_rg_data_df = pd.DataFrame(pg_rg_data)\n",
    "pg_rg_data_df.to_csv(\"pg_rg.csv\")\n"
   ]
  },
  {
   "cell_type": "code",
   "execution_count": null,
   "id": "7dbc812c-19b9-454d-a4ec-874d58e46174",
   "metadata": {},
   "outputs": [],
   "source": []
  }
 ],
 "metadata": {
  "kernelspec": {
   "display_name": "Python 3 (ipykernel)",
   "language": "python",
   "name": "python3"
  },
  "language_info": {
   "codemirror_mode": {
    "name": "ipython",
    "version": 3
   },
   "file_extension": ".py",
   "mimetype": "text/x-python",
   "name": "python",
   "nbconvert_exporter": "python",
   "pygments_lexer": "ipython3",
   "version": "3.9.6"
  }
 },
 "nbformat": 4,
 "nbformat_minor": 5
}
