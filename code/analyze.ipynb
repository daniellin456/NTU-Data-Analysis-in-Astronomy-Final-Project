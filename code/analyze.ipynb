{
 "cells": [
  {
   "cell_type": "code",
   "execution_count": 7,
   "id": "8618c7d7-7046-4c67-a5f0-7281921fa7c4",
   "metadata": {},
   "outputs": [
    {
     "data": {
      "text/plain": [
       "{'divide': 'ignore', 'over': 'ignore', 'under': 'ignore', 'invalid': 'ignore'}"
      ]
     },
     "execution_count": 7,
     "metadata": {},
     "output_type": "execute_result"
    }
   ],
   "source": [
    "import numpy as np\n",
    "import matplotlib.pyplot as plt\n",
    "import pandas as pd\n",
    "import warnings\n",
    "warnings.filterwarnings(\"ignore\", category=DeprecationWarning) \n",
    "from marvin import config\n",
    "config.setDR('DR16')\n",
    "\n",
    "from marvin.utils.dap.bpt import kewley_sf_nii, kewley_comp_nii\n",
    "from marvin.tools.maps import Maps\n",
    "\n",
    "np.seterr(all=\"ignore\")"
   ]
  },
  {
   "cell_type": "code",
   "execution_count": 10,
   "id": "cb0deb21-5a62-4f23-9ac9-42b8f5167b36",
   "metadata": {},
   "outputs": [],
   "source": [
    "df = pd.read_csv('pa.csv')\n",
    "types = df['Galaxy Type'].values.tolist()\n",
    "plateifus = df['plateifus'].values.tolist()\n",
    "deltaPA = df['delta PA'].values.tolist()\n",
    "quenched_AGN = []\n",
    "quenched_PA = []\n",
    "for i in range(0, len(types)):\n",
    "    if (types[i] == 'Seyfert') or (types[i] == 'LINER'):\n",
    "        quenched_AGN.append( plateifus[i] )\n",
    "        quenched_PA.append(deltaPA[i])"
   ]
  },
  {
   "cell_type": "code",
   "execution_count": 11,
   "id": "6a5d0d01-5b45-4b15-9106-3b6343ab3982",
   "metadata": {},
   "outputs": [
    {
     "name": "stderr",
     "output_type": "stream",
     "text": [
      "\u001b[1;33m[WARNING]: \u001b[0m\u001b[0;39mmore than one plate-ifu found for mangaid=1-177236. Using the one with the highest SN2.\u001b[0m \u001b[0;36m(MarvinUserWarning)\u001b[0m\n",
      "\u001b[1;33m[WARNING]: \u001b[0m\u001b[0;39mmore than one plate-ifu found for mangaid=1-177236. Using the one with the highest SN2.\u001b[0m \u001b[0;36m(MarvinUserWarning)\u001b[0m\n",
      "\u001b[1;33m[WARNING]: \u001b[0m\u001b[0;39mmore than one plate-ifu found for mangaid=1-256457. Using the one with the highest SN2.\u001b[0m \u001b[0;36m(MarvinUserWarning)\u001b[0m\n",
      "\u001b[1;33m[WARNING]: \u001b[0m\u001b[0;39mmore than one plate-ifu found for mangaid=1-256457. Using the one with the highest SN2.\u001b[0m \u001b[0;36m(MarvinUserWarning)\u001b[0m\n",
      "\u001b[1;33m[WARNING]: \u001b[0m\u001b[0;39mmore than one plate-ifu found for mangaid=1-256457. Using the one with the highest SN2.\u001b[0m \u001b[0;36m(MarvinUserWarning)\u001b[0m\n",
      "\u001b[1;33m[WARNING]: \u001b[0m\u001b[0;39mmore than one plate-ifu found for mangaid=1-456757. Using the one with the highest SN2.\u001b[0m \u001b[0;36m(MarvinUserWarning)\u001b[0m\n"
     ]
    },
    {
     "name": "stdout",
     "output_type": "stream",
     "text": [
      "9.408086095745402\n",
      "0.32585451846546304\n"
     ]
    },
    {
     "data": {
      "image/png": "[encoded data removed]",
      "text/plain": [
       "<Figure size 1008x504 with 2 Axes>"
      ]
     },
     "metadata": {
      "needs_background": "light"
     },
     "output_type": "display_data"
    }
   ],
   "source": [
    "MASS = []\n",
    "absmag_g_r = []\n",
    "\n",
    "for plateifu in quenched_AGN:\n",
    "    maps = Maps(plateifu=plateifu, mode='local')\n",
    "    MASS.append( maps.nsa['elpetro_mass'])\n",
    "    g = maps.nsa['elpetro_absmag'][3]\n",
    "    r = maps.nsa['elpetro_absmag'][4] \n",
    "    absmag_g_r.append( g-r )\n",
    "\n",
    "plt.figure( figsize=(14,7))\n",
    "plt.subplot(1,2,1)\n",
    "plt.title('Mass')\n",
    "plt.xlabel(r'$Mass (M_\\odot)$')\n",
    "plt.hist(np.log10(MASS))\n",
    "print(np.mean(np.log10(MASS)))\n",
    "print(np.std(np.log10(MASS)))\n",
    "\n",
    "plt.subplot(1,2,2)\n",
    "plt.title('g-r')\n",
    "plt.xlabel('g-r')\n",
    "plt.hist( absmag_g_r) \n",
    "plt.savefig('mass_color.pdf', dpi=600)"
   ]
  },
  {
   "cell_type": "code",
   "execution_count": 12,
   "id": "eb3e487f-b514-4a1a-9510-8effdef1de03",
   "metadata": {},
   "outputs": [],
   "source": [
    "# MASS = []\n",
    "\n",
    "# for plateifu in plateifus:\n",
    "#     maps = Maps(plateifu=plateifu, mode='local')\n",
    "#     MASS.append( maps.nsa['elpetro_mass'])\n"
   ]
  },
  {
   "cell_type": "code",
   "execution_count": 17,
   "id": "bbe7d97c-edaf-4e3b-ac3e-9e8dcc43fcd7",
   "metadata": {},
   "outputs": [
    {
     "name": "stdout",
     "output_type": "stream",
     "text": [
      "108\n",
      "108\n"
     ]
    },
    {
     "data": {
      "image/png": "[encoded data removed]",
      "text/plain": [
       "<Figure size 432x288 with 1 Axes>"
      ]
     },
     "metadata": {
      "needs_background": "light"
     },
     "output_type": "display_data"
    }
   ],
   "source": [
    "print(len(MASS))\n",
    "print(len(quenched_PA))\n",
    "for i in range(0, len(quenched_PA)):\n",
    "    if quenched_PA[i] < 0:\n",
    "        quenched_PA[i] = np.abs(quenched_PA[i])\n",
    "\n",
    "plt.axhline(y=150, c='r', linestyle='--')\n",
    "plt.axhline(y=30, c='r', linestyle='--')\n",
    "plt.xlabel(r'$Stella \\;\\; Mass \\; (M_\\odot)$')\n",
    "plt.ylabel(r'$\\Delta PA \\; (\\degree)$')\n",
    "plt.scatter(MASS, quenched_PA)\n",
    "plt.savefig('mass_delta.pdf',dpi=600)"
   ]
  },
  {
   "cell_type": "code",
   "execution_count": 6,
   "id": "cc8115db-0361-442f-8b6b-81995c48171b",
   "metadata": {},
   "outputs": [
    {
     "name": "stdout",
     "output_type": "stream",
     "text": [
      "{'iauname': 'J165735.33+391709.8', 'field': 47, 'run': 2335, 'camcol': 6, 'version': 'v1_0_1', 'nsaid': 101751, 'nsaid_v1b': -999, 'z': 0.0333471, 'zdist': 0.033867, 'sersic_absmag': [-14.3088, -14.7956, -16.2635, -17.4741, -18.0583, -18.3437, -18.4906], 'elpetro_absmag': [-14.1814, -14.673, -15.7786, -17.5022, -18.0932, -18.3457, -18.4846], 'elpetro_amivar': [133.515, 342.821, 24.5451, 961.626, 1915.35, 1785.45, 52.0251], 'sersic_mass': 1823230000.0, 'elpetro_mass': 1774860000.0, 'elpetro_ba': 0.789678, 'elpetro_phi': 140.968, 'extinction': [0.140456, 0.138592, 0.0873402, 0.0642641, 0.0466097, 0.0353427, 0.0250584], 'elpetro_th50_r': 4.11911, 'petro_th50': 3.64729, 'petro_flux': [3.47097, 5.417, 17.3381, 84.5048, 144.559, 205.398, 193.996], 'petro_flux_ivar': [15.2499, 29.1774, 0.134848, 0.24867, 0.415699, 0.175524, 0.00249867], 'elpetro_flux': [3.84243, 5.97191, 15.091, 83.7138, 146.183, 198.61, 229.039], 'elpetro_flux_ivar': [13.5562, 25.0984, 0.135357, 0.262869, 0.451805, 0.186681, 0.00122651], 'sersic_ba': 0.734596, 'sersic_n': 0.979091, 'sersic_phi': 140.415, 'sersic_th50': 4.01785, 'sersic_flux': [4.32581, 6.59013, 24.2518, 81.5384, 144.069, 197.735, 231.737], 'sersic_flux_ivar': [13.5683, 26.7271, 0.670406, 3.40184, 1.54254, 0.714134, 0.0481027]}\n"
     ]
    }
   ],
   "source": [
    "print(maps.nsa)"
   ]
  }
 ],
 "metadata": {
  "kernelspec": {
   "display_name": "Python 3 (ipykernel)",
   "language": "python",
   "name": "python3"
  },
  "language_info": {
   "codemirror_mode": {
    "name": "ipython",
    "version": 3
   },
   "file_extension": ".py",
   "mimetype": "text/x-python",
   "name": "python",
   "nbconvert_exporter": "python",
   "pygments_lexer": "ipython3",
   "version": "3.9.6"
  }
 },
 "nbformat": 4,
 "nbformat_minor": 5
}
