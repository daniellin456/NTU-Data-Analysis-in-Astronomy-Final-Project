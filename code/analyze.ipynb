{
 "cells": [
  {
   "cell_type": "code",
   "execution_count": 14,
   "id": "8618c7d7-7046-4c67-a5f0-7281921fa7c4",
   "metadata": {},
   "outputs": [
    {
     "data": {
      "text/plain": [
       "{'divide': 'ignore', 'over': 'ignore', 'under': 'ignore', 'invalid': 'ignore'}"
      ]
     },
     "execution_count": 14,
     "metadata": {},
     "output_type": "execute_result"
    }
   ],
   "source": [
    "import numpy as np\n",
    "import matplotlib.pyplot as plt\n",
    "import pandas as pd\n",
    "import warnings\n",
    "warnings.filterwarnings(\"ignore\", category=DeprecationWarning) \n",
    "from marvin import config\n",
    "config.setDR('DR16')\n",
    "\n",
    "from marvin.utils.dap.bpt import kewley_sf_nii, kewley_comp_nii\n",
    "from marvin.tools.maps import Maps\n",
    "from scipy.stats import pearsonr\n",
    "from scipy.stats import spearmanr\n",
    "np.seterr(all=\"ignore\")"
   ]
  },
  {
   "cell_type": "code",
   "execution_count": 6,
   "id": "cb0deb21-5a62-4f23-9ac9-42b8f5167b36",
   "metadata": {},
   "outputs": [],
   "source": [
    "df = pd.read_csv('../data/pa.csv')\n",
    "types = df['Galaxy Type'].values.tolist()\n",
    "plateifus = df['plateifus'].values.tolist()\n",
    "deltaPA = df['delta PA'].values.tolist()\n",
    "quenched_AGN = []\n",
    "quenched_PA = []\n",
    "for i in range(0, len(types)):\n",
    "    if (types[i] == 'Seyfert') or (types[i] == 'LINER'):\n",
    "        quenched_AGN.append( plateifus[i] )\n",
    "        quenched_PA.append(deltaPA[i])"
   ]
  },
  {
   "cell_type": "code",
   "execution_count": 17,
   "id": "6a5d0d01-5b45-4b15-9106-3b6343ab3982",
   "metadata": {},
   "outputs": [
    {
     "name": "stderr",
     "output_type": "stream",
     "text": [
      "\u001b[1;33m[WARNING]: \u001b[0m\u001b[0;39mmore than one plate-ifu found for mangaid=1-177236. Using the one with the highest SN2.\u001b[0m \u001b[0;36m(MarvinUserWarning)\u001b[0m\n",
      "\u001b[1;33m[WARNING]: \u001b[0m\u001b[0;39mmore than one plate-ifu found for mangaid=1-177236. Using the one with the highest SN2.\u001b[0m \u001b[0;36m(MarvinUserWarning)\u001b[0m\n",
      "\u001b[1;33m[WARNING]: \u001b[0m\u001b[0;39mmore than one plate-ifu found for mangaid=1-256457. Using the one with the highest SN2.\u001b[0m \u001b[0;36m(MarvinUserWarning)\u001b[0m\n",
      "\u001b[1;33m[WARNING]: \u001b[0m\u001b[0;39mmore than one plate-ifu found for mangaid=1-256457. Using the one with the highest SN2.\u001b[0m \u001b[0;36m(MarvinUserWarning)\u001b[0m\n",
      "\u001b[1;33m[WARNING]: \u001b[0m\u001b[0;39mmore than one plate-ifu found for mangaid=1-256457. Using the one with the highest SN2.\u001b[0m \u001b[0;36m(MarvinUserWarning)\u001b[0m\n",
      "\u001b[1;33m[WARNING]: \u001b[0m\u001b[0;39mmore than one plate-ifu found for mangaid=1-456757. Using the one with the highest SN2.\u001b[0m \u001b[0;36m(MarvinUserWarning)\u001b[0m\n"
     ]
    },
    {
     "name": "stdout",
     "output_type": "stream",
     "text": [
      "9.408086095745402\n",
      "0.32585451846546304\n"
     ]
    },
    {
     "data": {
      "image/png": "[encoded data removed]",
      "text/plain": [
       "<Figure size 1008x504 with 2 Axes>"
      ]
     },
     "metadata": {
      "needs_background": "light"
     },
     "output_type": "display_data"
    }
   ],
   "source": [
    "MASS = []\n",
    "absmag_g_r = []\n",
    "ewha = []\n",
    "for plateifu in quenched_AGN:\n",
    "    maps = Maps(plateifu=plateifu, mode='local')\n",
    "    ewha.append( np.nanmean( np.where( maps['emline_sew_ha_6564'].value >= 0, maps['emline_sew_ha_6564'].value, np.nan ) ) )\n",
    "    MASS.append( maps.nsa['elpetro_mass'])\n",
    "    g = maps.nsa['elpetro_absmag'][3]\n",
    "    r = maps.nsa['elpetro_absmag'][4] \n",
    "    absmag_g_r.append( g-r )\n",
    "\n",
    "plt.figure( figsize=(14,7))\n",
    "plt.subplot(1,2,1)\n",
    "plt.title('Mass')\n",
    "plt.xlabel(r'$Mass (M_\\odot)$')\n",
    "plt.hist(np.log10(MASS))\n",
    "print(np.mean(np.log10(MASS)))\n",
    "print(np.std(np.log10(MASS)))\n",
    "\n",
    "plt.subplot(1,2,2)\n",
    "plt.title('g-r')\n",
    "plt.xlabel('g-r')\n",
    "plt.hist( absmag_g_r) \n",
    "plt.savefig('mass_color.pdf', dpi=600)"
   ]
  },
  {
   "cell_type": "code",
   "execution_count": 8,
   "id": "eb3e487f-b514-4a1a-9510-8effdef1de03",
   "metadata": {},
   "outputs": [],
   "source": [
    "# MASS = []\n",
    "\n",
    "# for plateifu in plateifus:\n",
    "#     maps = Maps(plateifu=plateifu, mode='local')\n",
    "#     MASS.append( maps.nsa['elpetro_mass'])\n"
   ]
  },
  {
   "cell_type": "code",
   "execution_count": 9,
   "id": "bbe7d97c-edaf-4e3b-ac3e-9e8dcc43fcd7",
   "metadata": {},
   "outputs": [
    {
     "name": "stdout",
     "output_type": "stream",
     "text": [
      "108\n",
      "108\n"
     ]
    },
    {
     "data": {
      "image/png": "[encoded data removed]",
      "text/plain": [
       "<Figure size 432x288 with 1 Axes>"
      ]
     },
     "metadata": {
      "needs_background": "light"
     },
     "output_type": "display_data"
    }
   ],
   "source": [
    "print(len(MASS))\n",
    "print(len(quenched_PA))\n",
    "for i in range(0, len(quenched_PA)):\n",
    "    if quenched_PA[i] < 0:\n",
    "        quenched_PA[i] = np.abs(quenched_PA[i])\n",
    "\n",
    "plt.axhline(y=150, c='r', linestyle='--')\n",
    "plt.axhline(y=30, c='r', linestyle='--')\n",
    "plt.xlabel(r'$Stella \\;\\; Mass \\; (M_\\odot)$')\n",
    "plt.ylabel(r'$\\Delta PA \\; (\\degree)$')\n",
    "plt.scatter(MASS, quenched_PA)\n",
    "plt.savefig('mass_delta.pdf',dpi=600)"
   ]
  },
  {
   "cell_type": "code",
   "execution_count": 10,
   "id": "cc8115db-0361-442f-8b6b-81995c48171b",
   "metadata": {},
   "outputs": [
    {
     "name": "stdout",
     "output_type": "stream",
     "text": [
      "{'iauname': 'J095039.40+441948.0', 'field': 150, 'run': 2964, 'camcol': 5, 'version': 'v1_0_1', 'nsaid': 648830, 'nsaid_v1b': -999, 'z': 0.0154327, 'zdist': 0.0162142, 'sersic_absmag': [-14.4101, -14.9054, -16.7688, -18.0159, -18.5368, -18.7652, -18.9592], 'elpetro_absmag': [-14.1186, -15.2277, -16.7197, -17.9613, -18.5045, -18.7656, -18.969], 'elpetro_amivar': [2.2639, 352.013, 196.309, 2335.56, 2442.18, 2405.27, 998.698], 'sersic_mass': 2346090000.0, 'elpetro_mass': 2508480000.0, 'elpetro_ba': 0.609722, 'elpetro_phi': 23.7126, 'extinction': [0.0989806, 0.0976672, 0.0615494, 0.0452875, 0.0328463, 0.0249063, 0.0176589], 'elpetro_th50_r': 6.3435, 'petro_th50': 5.32367, 'petro_flux': [10.4196, 27.0197, 184.396, 618.259, 1032.63, 1368.54, 1689.44], 'petro_flux_ivar': [0.00953671, 0.466311, 0.0134358, 0.115627, 0.110503, 0.0384288, 0.000994256], 'elpetro_flux': [16.4704, 45.4036, 176.672, 599.982, 1009.02, 1322.06, 1628.97], 'elpetro_flux_ivar': [0.00987353, 0.460856, 0.0145592, 0.116274, 0.122257, 0.0428123, 0.00438528], 'sersic_ba': 0.511058, 'sersic_n': 1.57954, 'sersic_phi': 23.3805, 'sersic_th50': 7.0466, 'sersic_flux': [20.9737, 33.7196, 182.567, 631.507, 1035.8, 1324.75, 1616.19], 'sersic_flux_ivar': [0.035078, 0.375795, 0.147169, 0.499973, 0.250846, 0.125881, 0.01927]}\n"
     ]
    }
   ],
   "source": [
    "print(maps.nsa)"
   ]
  },
  {
   "cell_type": "code",
   "execution_count": 16,
   "id": "c08d4f2e-3704-4c90-a3fd-4b7d559a061a",
   "metadata": {},
   "outputs": [
    {
     "name": "stdout",
     "output_type": "stream",
     "text": [
      "(0.1925241569536533, 0.04591165823365603)\n",
      "SpearmanrResult(correlation=0.17946531527417037, pvalue=0.06310155873333945)\n"
     ]
    }
   ],
   "source": [
    "print(pearsonr(MASS, quenched_PA))\n",
    "print(spearmanr(MASS, quenched_PA))"
   ]
  },
  {
   "cell_type": "code",
   "execution_count": 20,
   "id": "53c722cb-fc0d-4b65-9f96-3d1dd282d5fb",
   "metadata": {},
   "outputs": [
    {
     "name": "stdout",
     "output_type": "stream",
     "text": [
      "0.7909344\n",
      "0.65317774\n",
      "0.6115167\n"
     ]
    },
    {
     "data": {
      "image/png": "[encoded data removed]",
      "text/plain": [
       "<Figure size 432x288 with 1 Axes>"
      ]
     },
     "metadata": {
      "needs_background": "light"
     },
     "output_type": "display_data"
    }
   ],
   "source": [
    "plt.scatter(ewha, quenched_PA)\n",
    "print(np.mean(ewha))\n",
    "print(np.median(ewha))\n",
    "print(np.std(ewha))"
   ]
  },
  {
   "cell_type": "code",
   "execution_count": 19,
   "id": "9ecdf71d-c038-4e23-8318-25670c884bd8",
   "metadata": {},
   "outputs": [
    {
     "name": "stdout",
     "output_type": "stream",
     "text": [
      "(-0.1289667653176679, 0.18344284582310605)\n",
      "SpearmanrResult(correlation=-0.13018738072991165, pvalue=0.17929567795147652)\n"
     ]
    }
   ],
   "source": [
    "print(pearsonr(ewha, quenched_PA))\n",
    "print(spearmanr(ewha, quenched_PA))"
   ]
  },
  {
   "cell_type": "code",
   "execution_count": null,
   "id": "e88916c5-902c-49ee-aff4-0ab3fe1f999f",
   "metadata": {},
   "outputs": [],
   "source": []
  }
 ],
 "metadata": {
  "kernelspec": {
   "display_name": "Python 3 (ipykernel)",
   "language": "python",
   "name": "python3"
  },
  "language_info": {
   "codemirror_mode": {
    "name": "ipython",
    "version": 3
   },
   "file_extension": ".py",
   "mimetype": "text/x-python",
   "name": "python",
   "nbconvert_exporter": "python",
   "pygments_lexer": "ipython3",
   "version": "3.9.6"
  }
 },
 "nbformat": 4,
 "nbformat_minor": 5
}
